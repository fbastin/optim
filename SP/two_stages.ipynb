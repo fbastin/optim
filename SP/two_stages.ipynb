{
 "cells": [
  {
   "cell_type": "markdown",
   "metadata": {},
   "source": [
    "# L-shaped example"
   ]
  },
  {
   "cell_type": "markdown",
   "metadata": {},
   "source": [
    "Consider the following two-stage problem, consisting in the optimal capacity investment in various types of ice-cream production plants.\n",
    "Four plants are considered and they can produce three different ice-cream flavors.\n",
    "The demand in the next period has to be satisfied for each of the three flavors, and is equal to some random value $\\xi$ for flavor 1, 3 for flavor 2, and 2 for flavor 3.\n",
    "$\\xi$ is discrete with three realizations 3, 5, 7, associated to the probabilities 0.3, 0.4 and 0.3 respectively.\n",
    "There is a budget constraint on the investment and also a constraint on the minimum total capacity.\n",
    "The minimum total capacity to be installed is 12 and we have a budget limit of 120.\n",
    "The unit capacity cost for the four plants are 10, 7, 16 and 6, respectively.\n",
    "The cost per production unit of plant $i$ for flavor $j$ is denoted $a_{ij}$ and gathering all the costs, we can construct the matrix\n",
    "$$\n",
    "A = \\begin{pmatrix}\n",
    "  40 & 24 & 4 \\\\\n",
    "  45 & 27 & 4.5 \\\\\n",
    "  32 & 19.2 & 3.2 \\\\\n",
    "  55 & 33 & 5.5\n",
    "\\end{pmatrix}\n",
    "$$\n",
    "We aim to minimize the total cost (investment and production costs).\n",
    "Formulate the problem and solve it using the L-Shaped method.\n",
    "You have to provide the code for L-Shaped implementation and properly comment it."
   ]
  },
  {
   "cell_type": "code",
   "execution_count": null,
   "metadata": {},
   "outputs": [],
   "source": [
    "using JuMP\n",
    "using LinearAlgebra\n",
    "using Statistics"
   ]
  },
  {
   "cell_type": "code",
   "execution_count": null,
   "metadata": {},
   "outputs": [],
   "source": [
    "using SparseArrays  # allows to benefit from sparse matrices"
   ]
  },
  {
   "cell_type": "code",
   "execution_count": null,
   "metadata": {},
   "outputs": [],
   "source": [
    "using HiGHS\n",
    "\n",
    "solver = HiGHS.Optimizer"
   ]
  },
  {
   "cell_type": "markdown",
   "metadata": {},
   "source": [
    "We focus here on the code. More attention should be paid to the explanations."
   ]
  },
  {
   "cell_type": "markdown",
   "metadata": {},
   "source": [
    "## Problem Overview\n",
    "\n",
    "Four new plants are considered and they can produce three different flavors of ice cream. We have to decide the capacity to install in each of these plants, by minimizing in the first stage the investment costs and minimizing the operating costs in the second stage, while satisfying the unknown demand.\n",
    "\n",
    "The installed capacity is at least 12 and the investment cannot exceed 120.\n",
    "\n",
    "The problem is\n",
    "\\begin{align*}\n",
    "    \\min_x & \\sum_{i=1}^4 c_i x_i + E_ξ[Q(x,ξ)] \\\\\n",
    "    \\mbox{s.t. } & \\sum_{i=1}^{4} x_i \\geq 12 \\\\\n",
    "                 & \\sum_{i=1}^4 c_i x_i \\leq 120 \\\\\n",
    "                 & x \\geq 0\n",
    "\\end{align*}\n",
    "where\n",
    "\\begin{align*} \n",
    "Q(x,ξ) = \\min_y\\ & \\sum_{i,j} A_{ij} y_{ij} \\\\\n",
    "\\mbox{s.t. } & \\sum_{j=1}^3 y_{ij} \\leq x_i,\\ \\forall\\, i \\\\\n",
    "             & \\sum_{i=1}^4 y_{ij} \\geq d_j(\\xi),\\ \\forall\\, j \\\\\n",
    "             & y \\geq 0\n",
    "\\end{align*}"
   ]
  },
  {
   "cell_type": "markdown",
   "metadata": {},
   "source": [
    "## Extended form"
   ]
  },
  {
   "cell_type": "markdown",
   "metadata": {},
   "source": [
    "We start by considering the extensive form in order to have a reference solution."
   ]
  },
  {
   "cell_type": "code",
   "execution_count": null,
   "metadata": {},
   "outputs": [],
   "source": [
    "openingCosts = [10, 7, 16, 6]\n",
    "cost = [40 24 4; 45 27 4.5; 32 19.2 3.2; 55 33 5.5]"
   ]
  },
  {
   "cell_type": "code",
   "execution_count": null,
   "metadata": {
    "scrolled": true
   },
   "outputs": [],
   "source": [
    "m = Model()\n",
    "\n",
    "(nFactories, nFlavors) = size(cost)\n",
    "\n",
    "prob = [0.3 0.4 0.3]\n",
    "nScenarios = length(prob)\n",
    "\n",
    "#minCapacity = 12\n",
    "minCapacity = 0   # we relax the minimum capacity constraint in order to produce a feasibility cut\n",
    "\n",
    "maxInvestment = 120\n",
    "scenarios = [3 5 7]\n",
    "demands = [0 3 2]\n",
    "\n",
    "@variable(m, x[1:nFactories] >= 0)\n",
    "@variable(m, y[1:nScenarios, 1:nFactories, 1:nFlavors] >= 0)\n",
    "\n",
    "@constraint(m, sum(x[i] for i in 1:nFactories) >= minCapacity)\n",
    "@constraint(m, sum(openingCosts[i]*x[i] for i in 1:nFactories) <= maxInvestment)\n",
    "\n",
    "#maxProd = Array{ConstraintRef, 12}\n",
    "maxProd = []\n",
    "# @constraintref maxProd[1:nScenarios, 1:nFactories]\n",
    "\n",
    "k = 0\n",
    "for s = 1:nScenarios\n",
    "    for j = 1:nFactories\n",
    "        k += 1\n",
    "        push!(maxProd, @constraint(m, sum(y[s,j,i] for i in 1:nFlavors) <= x[j]))\n",
    "#        @constraint(m, maxProd[k], sum(y[s,j,i] for i in 1:nFlavors) <= x[j])\n",
    "    end\n",
    "end\n",
    "\n",
    "for s = 1:nScenarios\n",
    "    @constraint(m, sum(y[s,j,1] for j in 1:nFactories) >= scenarios[s])\n",
    "    for d = 2:nFlavors\n",
    "        @constraint(m, sum(y[s,j,d] for j in 1:nFactories) >= demands[d])\n",
    "    end\n",
    "end\n",
    "\n",
    "@objective(m, Min, sum(openingCosts[i]*x[i] for i in 1:nFactories) +\n",
    "    sum(prob[s]*sum(sum(cost[j,i]*y[s,j,i] for i in 1:nFlavors) for j = 1:nFactories) for s=1:nScenarios)\n",
    ")\n",
    "\n",
    "println(m)"
   ]
  },
  {
   "cell_type": "code",
   "execution_count": null,
   "metadata": {},
   "outputs": [],
   "source": [
    "maxProd[5]"
   ]
  },
  {
   "cell_type": "code",
   "execution_count": null,
   "metadata": {
    "scrolled": true
   },
   "outputs": [],
   "source": [
    "set_optimizer(m, solver)\n",
    "optimize!(m)"
   ]
  },
  {
   "cell_type": "code",
   "execution_count": null,
   "metadata": {},
   "outputs": [],
   "source": [
    "value.(x)"
   ]
  },
  {
   "cell_type": "code",
   "execution_count": null,
   "metadata": {},
   "outputs": [],
   "source": [
    "objective_value(m)"
   ]
  },
  {
   "cell_type": "markdown",
   "metadata": {},
   "source": [
    "The solution is therefore $x^* = (8/3, 4, 13/3, 2)$."
   ]
  },
  {
   "cell_type": "markdown",
   "metadata": {},
   "source": [
    "## 2-stage formulation"
   ]
  },
  {
   "cell_type": "markdown",
   "metadata": {},
   "source": [
    "We first create the first-stage problem."
   ]
  },
  {
   "cell_type": "code",
   "execution_count": null,
   "metadata": {},
   "outputs": [],
   "source": [
    "function firststage()\n",
    "    m = Model(solver)\n",
    "\n",
    "    @variable(m, x[1:nFactories] >= 0)\n",
    "    @variable(m, θ)\n",
    "    \n",
    "    @constraint(m, sum(x[i] for i in 1:nFactories) >= minCapacity)\n",
    "    @constraint(m, sum(openingCosts[i]*x[i] for i in 1:nFactories) <= maxInvestment)\n",
    "\n",
    "    @objective(m, Min, sum(openingCosts[i]*x[i] for i in 1:nFactories))\n",
    "    \n",
    "    return m, x, θ\n",
    "end"
   ]
  },
  {
   "cell_type": "code",
   "execution_count": null,
   "metadata": {},
   "outputs": [],
   "source": [
    "function master_objective(m::Model, x, θ)\n",
    "    @objective(m, Min, sum(openingCosts[i]*x[i] for i in 1:nFactories) + θ)\n",
    "    return m\n",
    "end"
   ]
  },
  {
   "cell_type": "markdown",
   "metadata": {},
   "source": [
    "We then create the second-stage problem."
   ]
  },
  {
   "cell_type": "code",
   "execution_count": null,
   "metadata": {},
   "outputs": [],
   "source": [
    "function secondstageCore(x, ξ)\n",
    "    m = Model()\n",
    "\n",
    "    @variable(m, y[1:nFactories, 1:nFlavors] >= 0)\n",
    "\n",
    "    # T = sparse([-1 0 0 0; 0 -1 0 0; 0 0 -1 0; 0 0 0 -1; 0 0 0 0; 0 0 0 0; 0 0 0 0])\n",
    "    # T = sparse(rows,cols,vals) \n",
    "    T = [ sparse([1,2,3,4], [1,2,3,4], [-1,-1,-1,-1]); spzeros(3,4) ]\n",
    "#    T = [ -I; spzeros(3,4) ]\n",
    "    h = sparse([ zeros(nFactories); ξ; demands[2:nFlavors]])\n",
    "    \n",
    "#    @constraintref recourseConstraints[1:(nFactories+nFlavors)]\n",
    "    recourseConstraints = []\n",
    "\n",
    "    return m, y, recourseConstraints, h, T\n",
    "end "
   ]
  },
  {
   "cell_type": "code",
   "execution_count": null,
   "metadata": {},
   "outputs": [],
   "source": [
    "function secondstage(x, ξ)\n",
    "    m, y, recourseConstraints, h, T = secondstageCore(x, ξ)\n",
    "    \n",
    "    for i = 1:nFactories\n",
    "        push!(recourseConstraints, @constraint(m, sum(y[i,j] for j in 1:nFlavors) <= x[i]))\n",
    "    end\n",
    "\n",
    "    push!(recourseConstraints, @constraint(m, sum(y[j,1] for j in 1:nFactories) >= ξ))\n",
    "    for d = 2:nFlavors\n",
    "        push!(recourseConstraints, @constraint(m, sum(y[j,d] for j in 1:nFactories) >= demands[d]))\n",
    "    end\n",
    "\n",
    "    @objective(m, Min, sum(sum(cost[i,j]*y[i,j] for j in 1:nFlavors) for i = 1:nFactories))\n",
    "\n",
    "    set_optimizer(m, solver)\n",
    "    optimize!(m)\n",
    " \n",
    "    return m, recourseConstraints, h, T\n",
    "end"
   ]
  },
  {
   "cell_type": "code",
   "execution_count": null,
   "metadata": {},
   "outputs": [],
   "source": [
    "function secondstagefeasibility(x, ξ)\n",
    "    m, y, recourseConstraints, h, T = secondstageCore(x, ξ)\n",
    "\n",
    "    t = nFactories+nFlavors\n",
    "    \n",
    "    @variable(m, w[1:t] >= 0)\n",
    "\n",
    "    for i = 1:nFactories\n",
    "        push!(recourseConstraints, @constraint(m, sum(y[i,j] for j in 1:nFlavors)-w[i] <= x[i]))\n",
    "    end\n",
    "\n",
    "    push!(recourseConstraints, @constraint(m, sum(y[j,1] for j in 1:nFactories)+w[nFactories+1] >= ξ))\n",
    "    for d = 2:nFlavors\n",
    "        push!(recourseConstraints, @constraint(m, sum(y[j,d] for j in 1:nFactories)+w[nFactories+d] >= demands[d]))\n",
    "    end\n",
    "\n",
    "    @objective(m, Min, sum(w[i] for i in 1:t))\n",
    "\n",
    "    set_optimizer(m, solver)\n",
    "    optimize!(m)\n",
    "    σ = dual.(recourseConstraints)  # since the objective function is a minimization, we have the correct sign.\n",
    "\n",
    "    return σ, h, T\n",
    "end"
   ]
  },
  {
   "cell_type": "code",
   "execution_count": null,
   "metadata": {},
   "outputs": [],
   "source": [
    "function stop(Q, θ, k)\n",
    "    nmax = 200\n",
    "    tol = 1e-10\n",
    "    if ((θ >= Q-tol) || (k == nmax))\n",
    "        return true\n",
    "    else\n",
    "        return false\n",
    "    end\n",
    "end"
   ]
  },
  {
   "cell_type": "markdown",
   "metadata": {},
   "source": [
    "JuMP is built on Math Optimization Interface (MOI). We take advantage of the associated flags."
   ]
  },
  {
   "cell_type": "code",
   "execution_count": null,
   "metadata": {},
   "outputs": [],
   "source": [
    "function lshaped(scenarios, prob)\n",
    "    nScenarios = length(scenarios)\n",
    "    \n",
    "    k = 0       # iteration index\n",
    "    nfcuts = 0  # number of feasibility cuts\n",
    "    nocuts = 0  # number of optimality cuts\n",
    "    \n",
    "    first, x, θ = firststage()\n",
    "    n = length(x)\n",
    "\n",
    "    Q = +Inf\n",
    "    valθ = -Inf\n",
    "    \n",
    "    while (!stop(Q, valθ, k))\n",
    "        k += 1\n",
    "\n",
    "        println(first)\n",
    "\n",
    "        optimize!(first)\n",
    "        status = termination_status(first)\n",
    "        \n",
    "        if (status != MOI.OPTIMAL)\n",
    "            println(\"Error: status \", status)\n",
    "            return status, x, first\n",
    "        end\n",
    "        xsol = value.(x)\n",
    "        # println(\"xsol = \", xsol, \"   \", \"θ = \", value.(θ))\n",
    "        E = zeros(n)'\n",
    "        e = 0.0\n",
    "        Q = 0.0\n",
    "        \n",
    "        # Solve the second-stage programs\n",
    "        for i = 1:nScenarios\n",
    "            p = prob[i]\n",
    "            \n",
    "            m, scstrs, h, T = secondstage(xsol, scenarios[i])\n",
    "            status = termination_status(m)\n",
    "            if (status == MOI.INFEASIBLE)\n",
    "                # Build a feasibility cut\n",
    "                σ, h, T = secondstagefeasibility(xsol, scenarios[i])\n",
    "                E = σ'*T\n",
    "                @constraint(first, sum(E[i]*x[i] for i in 1:nFactories) >= σ'*h)\n",
    "                nfcuts += 1\n",
    "                break;\n",
    "            elseif (status == MOI.OPTIMAL)\n",
    "                Q += p*objective_value(m)\n",
    "                # Build the optimality cut component\n",
    "                π = dual.(scstrs)\n",
    "                E += p*(π'*T)\n",
    "                e += p*(dot(π,h))\n",
    "            else\n",
    "                println(\"Error second-stage resolution: status \", status)\n",
    "                return status, x, first\n",
    "            end\n",
    "        end\n",
    "        \n",
    "        if (status == MOI.OPTIMAL)\n",
    "            # add an optimality cut if it improves the lower bound\n",
    "            if (nocuts == 0)\n",
    "                # add θ in the problem\n",
    "                @constraint(first, con, sum(E[i]*x[i] for i in 1:nFactories) + θ >= e)\n",
    "                master_objective(first, x, θ)\n",
    "            else\n",
    "                valθ = value.(θ)\n",
    "                if (valθ < Q)\n",
    "                    @constraint(first, sum(E[i]*x[i] for i in 1:nFactories) + θ >= e)\n",
    "                end\n",
    "            end\n",
    "            nocuts += 1\n",
    "        end\n",
    "\n",
    "    end\n",
    "    \n",
    "    println(\"Solved in \", k, \" iterations.\")\n",
    "    return x, first\n",
    "end"
   ]
  },
  {
   "cell_type": "code",
   "execution_count": null,
   "metadata": {
    "scrolled": true
   },
   "outputs": [],
   "source": [
    "x, firstst = lshaped(scenarios, prob)"
   ]
  },
  {
   "cell_type": "markdown",
   "metadata": {},
   "source": [
    "The resulting master program is:"
   ]
  },
  {
   "cell_type": "code",
   "execution_count": null,
   "metadata": {},
   "outputs": [],
   "source": [
    "println(firstst)"
   ]
  },
  {
   "cell_type": "markdown",
   "metadata": {},
   "source": [
    "The optimal value is"
   ]
  },
  {
   "cell_type": "code",
   "execution_count": null,
   "metadata": {},
   "outputs": [],
   "source": [
    "objective_value(firstst)"
   ]
  },
  {
   "cell_type": "markdown",
   "metadata": {},
   "source": [
    "The optimal solution is"
   ]
  },
  {
   "cell_type": "code",
   "execution_count": null,
   "metadata": {},
   "outputs": [],
   "source": [
    "value.(x)"
   ]
  },
  {
   "cell_type": "markdown",
   "metadata": {
    "collapsed": true
   },
   "source": [
    "A more efficient implementation would also to generate a standard second-stage problem and modify only the components affected by the scenario realization."
   ]
  },
  {
   "cell_type": "markdown",
   "metadata": {},
   "source": [
    "Alternatively, we could directly implement the dual of the second-stage problems. It is then possible to find a unbounded ray in the situation where we are looking to implement a feasibility cut."
   ]
  },
  {
   "cell_type": "code",
   "execution_count": null,
   "metadata": {},
   "outputs": [],
   "source": [
    "function secondstage_dual(x, ξ)\n",
    "    m = Model()\n",
    "\n",
    "    T = [ sparse([1,2,3,4], [1,2,3,4], [-1,-1,-1,-1]); spzeros(3,4) ]\n",
    "    h = sparse([ zeros(nFactories); ξ; demands[2:nFlavors]])\n",
    "    n = length(x)\n",
    "    \n",
    "    @variable(m, π[1:nFlavors+nFactories])\n",
    "    for i = 1:nFactories\n",
    "        set_upper_bound(π[i], 0)\n",
    "    end\n",
    "\n",
    "    for i = nFactories+1:nFlavors+nFactories\n",
    "        set_lower_bound(π[i], 0)\n",
    "    end\n",
    "    \n",
    "    for i = 1:nFactories\n",
    "        for j = 1:nFlavors\n",
    "            @constraint(m, π[i]+π[nFactories+j] <= cost[i,j])\n",
    "        end\n",
    "    end\n",
    "    \n",
    "    @objective(m, Max, sum((h[i]-dot(T[i,:],x))*π[i] for i = 1:nFactories+nFlavors))\n",
    "\n",
    "    return m, h, T\n",
    "end"
   ]
  },
  {
   "cell_type": "markdown",
   "metadata": {},
   "source": [
    "Let's construct the dual of the second-stage program when the first-stage decision is the null vector."
   ]
  },
  {
   "cell_type": "code",
   "execution_count": null,
   "metadata": {},
   "outputs": [],
   "source": [
    "ξ = 3\n",
    "x = zeros(4)\n",
    "\n",
    "m, h, t = secondstage_dual(x, ξ)\n",
    "\n",
    "println(m)"
   ]
  },
  {
   "cell_type": "code",
   "execution_count": null,
   "metadata": {},
   "outputs": [],
   "source": [
    "set_optimizer(m, solver)\n",
    "optimize!(m)"
   ]
  },
  {
   "cell_type": "markdown",
   "metadata": {},
   "source": [
    "In other terms, the dual program is unbounded. In order to prevent this situation and obtain a direction that we can exploit, we set arbitrarily large lower and upper bounds."
   ]
  },
  {
   "cell_type": "code",
   "execution_count": null,
   "metadata": {},
   "outputs": [],
   "source": [
    "function secondstage_dual(x, ξ)\n",
    "    m = Model()\n",
    "\n",
    "    T = [ sparse([1,2,3,4], [1,2,3,4], [-1,-1,-1,-1]); spzeros(3,4) ]\n",
    "    h = sparse([ zeros(nFactories); ξ; demands[2:nFlavors]])\n",
    "    n = length(x)\n",
    "    \n",
    "    @variable(m, y[1:nFlavors+nFactories])\n",
    "    for i = 1:nFactories\n",
    "        set_lower_bound(y[i], -1e9)\n",
    "        set_upper_bound(y[i], 0)\n",
    "    end\n",
    "\n",
    "    for i = nFactories+1:nFlavors+nFactories\n",
    "        set_lower_bound(y[i], 0)\n",
    "        set_upper_bound(y[i], 1e9)\n",
    "    end\n",
    "    \n",
    "    for i = 1:nFactories\n",
    "        for j = 1:nFlavors\n",
    "            @constraint(m, y[i]+y[nFactories+j] <= cost[i,j])\n",
    "        end\n",
    "    end\n",
    "    \n",
    "    @objective(m, Max, sum((h[i]-dot(T[i,:],x))*y[i] for i = 1:nFactories+nFlavors))\n",
    "\n",
    "    return m, y, h, T\n",
    "end"
   ]
  },
  {
   "cell_type": "code",
   "execution_count": null,
   "metadata": {},
   "outputs": [],
   "source": [
    "m, y, h, t = secondstage_dual(x, ξ)\n",
    "set_optimizer(m, solver)\n",
    "optimize!(m)"
   ]
  },
  {
   "cell_type": "markdown",
   "metadata": {},
   "source": [
    "The solution $y$ has components reaching the bounds, and we can normalize it to obtain a direction in which the dual is increasing towards $\\infty$."
   ]
  },
  {
   "cell_type": "code",
   "execution_count": null,
   "metadata": {},
   "outputs": [],
   "source": [
    "value.(y)"
   ]
  },
  {
   "cell_type": "markdown",
   "metadata": {},
   "source": [
    "We can normalize using the infinite norm."
   ]
  },
  {
   "cell_type": "code",
   "execution_count": null,
   "metadata": {},
   "outputs": [],
   "source": [
    "value.(y)/norm(value.(y), Inf)"
   ]
  },
  {
   "cell_type": "code",
   "execution_count": null,
   "metadata": {},
   "outputs": [],
   "source": []
  }
 ],
 "metadata": {
  "@webio": {
   "lastCommId": null,
   "lastKernelId": null
  },
  "kernelspec": {
   "display_name": "Julia 1.10.5",
   "language": "julia",
   "name": "julia-1.10"
  },
  "language_info": {
   "file_extension": ".jl",
   "mimetype": "application/julia",
   "name": "julia",
   "version": "1.10.5"
  }
 },
 "nbformat": 4,
 "nbformat_minor": 2
}
