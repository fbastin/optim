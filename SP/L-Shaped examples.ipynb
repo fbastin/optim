{
 "cells": [
  {
   "cell_type": "markdown",
   "id": "e7d95508",
   "metadata": {},
   "source": [
    "# L-shaped algorithm example"
   ]
  },
  {
   "cell_type": "markdown",
   "id": "3178c2a6",
   "metadata": {},
   "source": [
    "We illustrate in this notebook the example 2 in Chapter 5, page 188, from Birge and Louveaux (2011), \"Introduction to Stochastic Programming\", 2nd edition, Springer."
   ]
  },
  {
   "cell_type": "code",
   "execution_count": 1,
   "id": "8858fa22",
   "metadata": {},
   "outputs": [],
   "source": [
    "using StochasticPrograms\n",
    "using HiGHS"
   ]
  },
  {
   "cell_type": "code",
   "execution_count": 2,
   "id": "01ac3341",
   "metadata": {},
   "outputs": [
    {
     "name": "stderr",
     "output_type": "stream",
     "text": [
      "\u001b[32m\u001b[1m    Updating\u001b[22m\u001b[39m registry at `C:\\Users\\slash\\.julia\\registries\\General.toml`\n",
      "\u001b[32m\u001b[1m    Updating\u001b[22m\u001b[39m git-repo `https://github.com/JLChartrand/RDST.jl`\n",
      "\u001b[32m\u001b[1m    Updating\u001b[22m\u001b[39m git-repo `https://github.com/fbastin/Jasmin.jl`\n",
      "\u001b[32m\u001b[1m   Installed\u001b[22m\u001b[39m XML2_jll ─────────── v2.11.5+0\n",
      "\u001b[32m\u001b[1m   Installed\u001b[22m\u001b[39m RelocatableFolders ─ v1.0.1\n",
      "\u001b[32m\u001b[1m   Installed\u001b[22m\u001b[39m StaticArrays ─────── v1.6.5\n",
      "\u001b[32m\u001b[1m   Installed\u001b[22m\u001b[39m Distances ────────── v0.10.10\n",
      "\u001b[32m\u001b[1m   Installed\u001b[22m\u001b[39m LoggingExtras ────── v1.0.3\n",
      "\u001b[32m\u001b[1m   Installed\u001b[22m\u001b[39m PDMats ───────────── v0.11.25\n",
      "\u001b[32m\u001b[1m  No Changes\u001b[22m\u001b[39m to `C:\\Users\\slash\\.julia\\environments\\v1.9\\Project.toml`\n",
      "\u001b[32m\u001b[1m    Updating\u001b[22m\u001b[39m `C:\\Users\\slash\\.julia\\environments\\v1.9\\Manifest.toml`\n",
      "  \u001b[90m[b4f34e82] \u001b[39m\u001b[93m↑ Distances v0.10.9 ⇒ v0.10.10\u001b[39m\n",
      "  \u001b[90m[e6f89c97] \u001b[39m\u001b[93m↑ LoggingExtras v1.0.2 ⇒ v1.0.3\u001b[39m\n",
      "  \u001b[90m[90014a1f] \u001b[39m\u001b[93m↑ PDMats v0.11.19 ⇒ v0.11.25\u001b[39m\n",
      "  \u001b[90m[05181044] \u001b[39m\u001b[93m↑ RelocatableFolders v1.0.0 ⇒ v1.0.1\u001b[39m\n",
      "  \u001b[90m[90137ffa] \u001b[39m\u001b[93m↑ StaticArrays v1.6.4 ⇒ v1.6.5\u001b[39m\n",
      "  \u001b[90m[02c8fc9c] \u001b[39m\u001b[93m↑ XML2_jll v2.10.4+0 ⇒ v2.11.5+0\u001b[39m\n",
      "\u001b[32m\u001b[1mPrecompiling\u001b[22m\u001b[39m project...\n",
      "\u001b[32m  ✓ \u001b[39m\u001b[90mRelocatableFolders\u001b[39m\n",
      "\u001b[32m  ✓ \u001b[39m\u001b[90mLoggingExtras\u001b[39m\n",
      "\u001b[33m  ✓ \u001b[39m\u001b[90mPDMats\u001b[39m\n",
      "\u001b[33m  ✓ \u001b[39m\u001b[90mDistances\u001b[39m\n",
      "\u001b[33m  ✓ \u001b[39m\u001b[90mDistances → DistancesSparseArraysExt\u001b[39m\n",
      "\u001b[32m  ✓ \u001b[39m\u001b[90mXML2_jll\u001b[39m\n",
      "\u001b[32m  ✓ \u001b[39m\u001b[90mGettext_jll\u001b[39m\n",
      "\u001b[32m  ✓ \u001b[39m\u001b[90mXSLT_jll\u001b[39m\n",
      "\u001b[32m  ✓ \u001b[39m\u001b[90mWayland_jll\u001b[39m\n",
      "\u001b[32m  ✓ \u001b[39m\u001b[90mGlib_jll\u001b[39m\n",
      "\u001b[32m  ✓ \u001b[39m\u001b[90mXorg_libxcb_jll\u001b[39m\n",
      "\u001b[32m  ✓ \u001b[39m\u001b[90mXorg_xcb_util_jll\u001b[39m\n",
      "\u001b[32m  ✓ \u001b[39m\u001b[90mXorg_libX11_jll\u001b[39m\n",
      "\u001b[32m  ✓ \u001b[39m\u001b[90mHTTP\u001b[39m\n",
      "\u001b[32m  ✓ \u001b[39m\u001b[90mXorg_xcb_util_image_jll\u001b[39m\n",
      "\u001b[32m  ✓ \u001b[39m\u001b[90mXorg_xcb_util_keysyms_jll\u001b[39m\n",
      "\u001b[32m  ✓ \u001b[39m\u001b[90mXorg_xcb_util_renderutil_jll\u001b[39m\n",
      "\u001b[32m  ✓ \u001b[39m\u001b[90mXorg_xcb_util_wm_jll\u001b[39m\n",
      "\u001b[32m  ✓ \u001b[39m\u001b[90mXorg_libXrender_jll\u001b[39m\n",
      "\u001b[32m  ✓ \u001b[39m\u001b[90mXorg_libXext_jll\u001b[39m\n",
      "\u001b[32m  ✓ \u001b[39m\u001b[90mXorg_libXfixes_jll\u001b[39m\n",
      "\u001b[32m  ✓ \u001b[39m\u001b[90mXorg_libxkbfile_jll\u001b[39m\n",
      "\u001b[32m  ✓ \u001b[39m\u001b[90mXorg_xcb_util_cursor_jll\u001b[39m\n",
      "\u001b[32m  ✓ \u001b[39m\u001b[90mLibglvnd_jll\u001b[39m\n",
      "\u001b[33m  ✓ \u001b[39mDistributions\n",
      "\u001b[32m  ✓ \u001b[39m\u001b[90mXorg_libXinerama_jll\u001b[39m\n",
      "\u001b[33m  ✓ \u001b[39m\u001b[90mStaticArrays\u001b[39m\n",
      "\u001b[32m  ✓ \u001b[39m\u001b[90mXorg_libXrandr_jll\u001b[39m\n",
      "\u001b[32m  ✓ \u001b[39m\u001b[90mXorg_libXcursor_jll\u001b[39m\n",
      "\u001b[32m  ✓ \u001b[39m\u001b[90mXorg_libXi_jll\u001b[39m\n",
      "\u001b[32m  ✓ \u001b[39m\u001b[90mCairo_jll\u001b[39m\n",
      "\u001b[32m  ✓ \u001b[39m\u001b[90mXorg_xkbcomp_jll\u001b[39m\n",
      "\u001b[32m  ✓ \u001b[39m\u001b[90mGLFW_jll\u001b[39m\n",
      "\u001b[32m  ✓ \u001b[39m\u001b[90mHarfBuzz_jll\u001b[39m\n",
      "\u001b[33m  ✓ \u001b[39m\u001b[90mStaticArrays → StaticArraysStatisticsExt\u001b[39m\n",
      "\u001b[33m  ✓ \u001b[39m\u001b[90mForwardDiff → ForwardDiffStaticArraysExt\u001b[39m\n",
      "\u001b[32m  ✓ \u001b[39m\u001b[90mXorg_xkeyboard_config_jll\u001b[39m\n",
      "\u001b[32m  ✓ \u001b[39m\u001b[90mlibass_jll\u001b[39m\n",
      "\u001b[32m  ✓ \u001b[39m\u001b[90mxkbcommon_jll\u001b[39m\n",
      "\u001b[32m  ✓ \u001b[39m\u001b[90mVulkan_Loader_jll\u001b[39m\n",
      "\u001b[32m  ✓ \u001b[39m\u001b[90mFFMPEG_jll\u001b[39m\n",
      "\u001b[33m  ✓ \u001b[39m\u001b[90mNearestNeighbors\u001b[39m\n",
      "\u001b[32m  ✓ \u001b[39m\u001b[90mFFMPEG\u001b[39m\n",
      "\u001b[32m  ✓ \u001b[39m\u001b[90mQt6Base_jll\u001b[39m\n",
      "\u001b[33m  ✓ \u001b[39m\u001b[90mClustering\u001b[39m\n",
      "\u001b[32m  ✓ \u001b[39m\u001b[90mGR_jll\u001b[39m\n",
      "\u001b[32m  ✓ \u001b[39m\u001b[90mGR\u001b[39m\n",
      "\u001b[33m  ✓ \u001b[39m\u001b[90mMathOptInterface\u001b[39m\n",
      "\u001b[32m  ✓ \u001b[39mJasmin\n",
      "\u001b[32m  ✓ \u001b[39mPlots\n",
      "\u001b[32m  ✓ \u001b[39m\u001b[90mPlots → IJuliaExt\u001b[39m\n",
      "\u001b[32m  ✓ \u001b[39m\u001b[90mPlots → UnitfulExt\u001b[39m\n",
      "\u001b[33m  ✓ \u001b[39mJuMP\n",
      "\u001b[33m  ✓ \u001b[39mHiGHS\n",
      "\u001b[33m  ✓ \u001b[39mStochasticPrograms\n",
      "  55 dependencies successfully precompiled in 418 seconds. 146 already precompiled.\n",
      "  \u001b[33m13\u001b[39m dependencies precompiled but different versions are currently loaded. Restart julia to access the new versions\n",
      "  \u001b[33m1\u001b[39m dependency had warnings during precompilation:\u001b[33m\n",
      "┌ \u001b[39mStochasticPrograms [8b8459f2-c380-502b-8633-9aed2d6c2b35]\u001b[33m\n",
      "│  \u001b[39mWARNING: method definition for promote_operation at C:\\Users\\slash\\.julia\\packages\\StochasticPrograms\\pIScW\\src\\types\\decisions\\expressions\\mutable_arithmetics.jl:128 declares type variable D but does not use it.\u001b[33m\n",
      "│  \u001b[39mWARNING: method definition for set at C:\\Users\\slash\\.julia\\packages\\StochasticPrograms\\pIScW\\src\\types\\decisions\\bridges\\constraints\\quadratic.jl:93 declares type variable F but does not use it.\u001b[33m\n",
      "│  \u001b[39mWARNING: method definition for scenario_decision_dispatch at C:\\Users\\slash\\.julia\\packages\\StochasticPrograms\\pIScW\\src\\types\\decomposition\\scenarioproblems.jl:390 declares type variable N but does not use it.\u001b[33m\n",
      "│  \u001b[39mWARNING: method definition for scenario_decision_dispatch at C:\\Users\\slash\\.julia\\packages\\StochasticPrograms\\pIScW\\src\\types\\decomposition\\scenarioproblems.jl:398 declares type variable N but does not use it.\u001b[33m\n",
      "│  \u001b[39mWARNING: method definition for scenario_decision_dispatch! at C:\\Users\\slash\\.julia\\packages\\StochasticPrograms\\pIScW\\src\\types\\decomposition\\scenarioproblems.jl:409 declares type variable N but does not use it.\u001b[33m\n",
      "│  \u001b[39mWARNING: method definition for scenario_decision_dispatch! at C:\\Users\\slash\\.julia\\packages\\StochasticPrograms\\pIScW\\src\\types\\decomposition\\scenarioproblems.jl:418 declares type variable N but does not use it.\u001b[33m\n",
      "│  \u001b[39mWARNING: method definition for decision at C:\\Users\\slash\\.julia\\packages\\StochasticPrograms\\pIScW\\src\\types\\decomposition\\scenarioproblems.jl:561 declares type variable N but does not use it.\u001b[33m\n",
      "│  \u001b[39mWARNING: method definition for decision at C:\\Users\\slash\\.julia\\packages\\StochasticPrograms\\pIScW\\src\\types\\decomposition\\scenarioproblems.jl:565 declares type variable N but does not use it.\u001b[33m\n",
      "│  \u001b[39mWARNING: method definition for scenario at C:\\Users\\slash\\.julia\\packages\\StochasticPrograms\\pIScW\\src\\methods\\api.jl:660 declares type variable N but does not use it.\u001b[33m\n",
      "│  \u001b[39mWARNING: method definition for flush! at C:\\Users\\slash\\.julia\\packages\\StochasticPrograms\\pIScW\\src\\solvers\\structured\\lshaped\\aggregators\\hybrid_aggregation.jl:99 declares type variable T but does not use it.\u001b[33m\n",
      "└  \u001b[39m\n",
      "\u001b[36m\u001b[1m[ \u001b[22m\u001b[39m\u001b[36m\u001b[1mInfo: \u001b[22m\u001b[39mWe haven't cleaned this depot up for a bit, running Pkg.gc()...\n",
      "\u001b[32m\u001b[1m      Active\u001b[22m\u001b[39m manifest files: 3 found\n",
      "\u001b[32m\u001b[1m      Active\u001b[22m\u001b[39m artifact files: 114 found\n",
      "\u001b[32m\u001b[1m      Active\u001b[22m\u001b[39m scratchspaces: 6 found\n",
      "\u001b[32m\u001b[1m     Deleted\u001b[22m\u001b[39m 2 artifact installations (45.325 MiB)\n"
     ]
    }
   ],
   "source": [
    "import Pkg\n",
    "Pkg.update()"
   ]
  },
  {
   "cell_type": "code",
   "execution_count": 3,
   "id": "42cd20e2",
   "metadata": {},
   "outputs": [
    {
     "name": "stderr",
     "output_type": "stream",
     "text": [
      "\u001b[32m\u001b[1m    Building\u001b[22m\u001b[39m Conda ─→ `C:\\Users\\slash\\.julia\\scratchspaces\\44cfe95a-1eb2-52ea-b672-e2afdf69b78f\\8c86e48c0db1564a1d49548d3515ced5d604c408\\build.log`\n",
      "\u001b[32m\u001b[1m    Building\u001b[22m\u001b[39m IJulia → `C:\\Users\\slash\\.julia\\scratchspaces\\44cfe95a-1eb2-52ea-b672-e2afdf69b78f\\47ac8cc196b81001a711f4b2c12c97372338f00c\\build.log`\n"
     ]
    }
   ],
   "source": [
    "Pkg.build(\"IJulia\")"
   ]
  },
  {
   "cell_type": "markdown",
   "id": "3df8b524",
   "metadata": {},
   "source": [
    "First, we construct the 2-stage model."
   ]
  },
  {
   "cell_type": "code",
   "execution_count": 5,
   "id": "3bbafc07",
   "metadata": {},
   "outputs": [
    {
     "data": {
      "text/plain": [
       "Two-Stage Stochastic Model\n",
       "\n",
       "minimize f₀(x) + 𝔼[f(x,ξ)]\n",
       "  x∈𝒳\n",
       "\n",
       "where\n",
       "\n",
       "f(x,ξ) = min  f(y; x, ξ)\n",
       "              y ∈ 𝒴 (x, ξ)\n"
      ]
     },
     "execution_count": 5,
     "metadata": {},
     "output_type": "execute_result"
    }
   ],
   "source": [
    "@stochastic_model simple_model begin\n",
    "    @stage 1 begin\n",
    "        @decision(simple_model, x >= 0)\n",
    "        @objective(simple_model, Min, 0*x)\n",
    "    end\n",
    "    @stage 2 begin\n",
    "        @known(simple_model, x)\n",
    "        @uncertain ξ\n",
    "        @recourse(simple_model, 0 <= y[i in 1:2])\n",
    "        @objective(simple_model, Min, y[1] + y[2])\n",
    "        @constraint(simple_model, y[1] - y[2] == ξ - x)\n",
    "    end\n",
    "end"
   ]
  },
  {
   "cell_type": "markdown",
   "id": "917eae82",
   "metadata": {},
   "source": [
    "We now define three scenarios of equal probability."
   ]
  },
  {
   "cell_type": "code",
   "execution_count": 6,
   "id": "088aa87d",
   "metadata": {},
   "outputs": [
    {
     "data": {
      "text/plain": [
       "3-element Vector{Scenario{NamedTuple{(:ξ,), Tuple{Int64}}}}:\n",
       " Scenario with probability 0.3333333333333333\n",
       "  ξ: 1\n",
       " Scenario with probability 0.3333333333333333\n",
       "  ξ: 2\n",
       " Scenario with probability 0.3333333333333333\n",
       "  ξ: 4"
      ]
     },
     "execution_count": 6,
     "metadata": {},
     "output_type": "execute_result"
    }
   ],
   "source": [
    "ξ1 = @scenario ξ = 1 probability = 1/3\n",
    "ξ2 = @scenario ξ = 2 probability = 1/3\n",
    "ξ3 = @scenario ξ = 4 probability = 1/3\n",
    "\n",
    "ξ = [ξ1, ξ2, ξ3]"
   ]
  },
  {
   "cell_type": "markdown",
   "id": "5cd13947",
   "metadata": {},
   "source": [
    "## Deterministic equivalent"
   ]
  },
  {
   "cell_type": "markdown",
   "id": "dbcaf0ae",
   "metadata": {},
   "source": [
    "In order to have a solvable program, we must instantiate the model. By default, `StochasticPrograms.jl` will generate the derministic equivalent form."
   ]
  },
  {
   "cell_type": "code",
   "execution_count": 7,
   "id": "45817d80",
   "metadata": {},
   "outputs": [
    {
     "data": {
      "text/plain": [
       "Stochastic program with:\n",
       " * 1 decision variable\n",
       " * 2 recourse variables\n",
       " * 3 scenarios of type Scenario\n",
       "Structure: Deterministic equivalent\n",
       "Solver name: HiGHS"
      ]
     },
     "execution_count": 7,
     "metadata": {},
     "output_type": "execute_result"
    }
   ],
   "source": [
    "sp = instantiate(simple_model, ξ, optimizer = HiGHS.Optimizer)"
   ]
  },
  {
   "cell_type": "markdown",
   "id": "780a1c81",
   "metadata": {},
   "source": [
    "We can check the model by printing it on the screen."
   ]
  },
  {
   "cell_type": "code",
   "execution_count": 8,
   "id": "6221ab47",
   "metadata": {},
   "outputs": [
    {
     "name": "stdout",
     "output_type": "stream",
     "text": [
      "Deterministic equivalent problem\n",
      "Min 0.3333333333333333 y₁[1] + 0.3333333333333333 y₁[2] + 0.3333333333333333 y₂[1] + 0.3333333333333333 y₂[2] + 0.3333333333333333 y₃[1] + 0.3333333333333333 y₃[2]\n",
      "Subject to\n",
      " x in Decisions\n",
      " y₁[1] in RecourseDecisions\n",
      " y₁[2] in RecourseDecisions\n",
      " y₂[1] in RecourseDecisions\n",
      " y₂[2] in RecourseDecisions\n",
      " y₃[1] in RecourseDecisions\n",
      " y₃[2] in RecourseDecisions\n",
      " x >= 0.0\n",
      " y₁[1] >= 0.0\n",
      " y₁[2] >= 0.0\n",
      " y₂[1] >= 0.0\n",
      " y₂[2] >= 0.0\n",
      " y₃[1] >= 0.0\n",
      " y₃[2] >= 0.0\n",
      " x + y₁[1] - y₁[2] == 1.0\n",
      " x + y₂[1] - y₂[2] == 2.0\n",
      " x + y₃[1] - y₃[2] == 4.0\n",
      "Solver name: HiGHS\n"
     ]
    }
   ],
   "source": [
    "println(sp)"
   ]
  },
  {
   "cell_type": "markdown",
   "id": "8945aa13",
   "metadata": {},
   "source": [
    "We now solve it."
   ]
  },
  {
   "cell_type": "code",
   "execution_count": 9,
   "id": "37f7a773",
   "metadata": {},
   "outputs": [
    {
     "name": "stdout",
     "output_type": "stream",
     "text": [
      "Running HiGHS 1.5.3 [date: 1970-01-01, git hash: 45a127b78]\n",
      "Copyright (c) 2023 HiGHS under MIT licence terms\n",
      "Solving LP without presolve or with basis\n",
      "Using EKK dual simplex solver - serial\n",
      "  Iteration        Objective     Infeasibilities num(sum)\n",
      "          0     0.0000000000e+00 Pr: 3(7) 0s\n",
      "          3     1.0000000000e+00 Pr: 0(0) 0s\n",
      "Model   status      : Optimal\n",
      "Simplex   iterations: 3\n",
      "Objective value     :  1.0000000000e+00\n",
      "HiGHS run time      :          0.01\n"
     ]
    }
   ],
   "source": [
    "optimize!(sp)"
   ]
  },
  {
   "cell_type": "markdown",
   "id": "8d2ba655",
   "metadata": {},
   "source": [
    "We can check the first stage solution with the method `value()`."
   ]
  },
  {
   "cell_type": "code",
   "execution_count": 10,
   "id": "1104774c",
   "metadata": {},
   "outputs": [
    {
     "data": {
      "text/plain": [
       "2.0"
      ]
     },
     "execution_count": 10,
     "metadata": {},
     "output_type": "execute_result"
    }
   ],
   "source": [
    "value(sp[1,:x])"
   ]
  },
  {
   "cell_type": "markdown",
   "id": "882f741b",
   "metadata": {},
   "source": [
    "## L-shaped"
   ]
  },
  {
   "cell_type": "markdown",
   "id": "8c6a8a9a",
   "metadata": {},
   "source": [
    "We now express the program as a 2-stage optimization problem, and explore various variants of the L-shaped decomposition algorithm."
   ]
  },
  {
   "cell_type": "markdown",
   "id": "4179f759",
   "metadata": {},
   "source": [
    "### Multi cut"
   ]
  },
  {
   "cell_type": "code",
   "execution_count": 11,
   "id": "3ecc826d",
   "metadata": {},
   "outputs": [
    {
     "data": {
      "text/plain": [
       "Stochastic program with:\n",
       " * 1 decision variable\n",
       " * 2 recourse variables\n",
       " * 3 scenarios of type Scenario\n",
       "Structure: Stage-decomposition\n",
       "Solver name: L-shaped with disaggregate cuts"
      ]
     },
     "execution_count": 11,
     "metadata": {},
     "output_type": "execute_result"
    }
   ],
   "source": [
    "sp_lshaped = instantiate(simple_model, ξ, optimizer = LShaped.Optimizer)"
   ]
  },
  {
   "cell_type": "code",
   "execution_count": 12,
   "id": "7528ac6d",
   "metadata": {},
   "outputs": [],
   "source": [
    "set_optimizer_attribute(sp_lshaped, MasterOptimizer(), HiGHS.Optimizer)\n",
    "set_optimizer_attribute(sp_lshaped, SubProblemOptimizer(), HiGHS.Optimizer)"
   ]
  },
  {
   "cell_type": "code",
   "execution_count": 13,
   "id": "22b6381d",
   "metadata": {},
   "outputs": [
    {
     "name": "stdout",
     "output_type": "stream",
     "text": [
      "Running HiGHS 1.5.3 [date: 1970-01-01, git hash: 45a127b78]\n",
      "Copyright (c) 2023 HiGHS under MIT licence terms\n",
      "Presolving model\n",
      "0 rows, 0 cols, 0 nonzeros\n",
      "0 rows, 0 cols, 0 nonzeros\n",
      "Presolve : Reductions: rows 0(-2); columns 0(-3); elements 0(-4) - Reduced to empty\n",
      "Solving the original LP from the solution after postsolve\n",
      "Model   status      : Optimal\n",
      "Objective value     :  1.8161932471e-01\n",
      "HiGHS run time      :          0.00\n",
      "Running HiGHS 1.5.3 [date: 1970-01-01, git hash: 45a127b78]\n",
      "Copyright (c) 2023 HiGHS under MIT licence terms\n",
      "Presolving model\n",
      "0 rows, 0 cols, 0 nonzeros\n",
      "0 rows, 0 cols, 0 nonzeros\n",
      "Presolve : Reductions: rows 0(-2); columns 0(-3); elements 0(-4) - Reduced to empty\n",
      "Solving the original LP from the solution after postsolve\n",
      "Model   status      : Optimal\n",
      "Objective value     :  1.1816193247e+00\n",
      "HiGHS run time      :          0.00\n",
      "Running HiGHS 1.5.3 [date: 1970-01-01, git hash: 45a127b78]\n",
      "Copyright (c) 2023 HiGHS under MIT licence terms\n",
      "Presolving model\n",
      "0 rows, 0 cols, 0 nonzeros\n",
      "0 rows, 0 cols, 0 nonzeros\n",
      "Presolve : Reductions: rows 0(-2); columns 0(-3); elements 0(-4) - Reduced to empty\n",
      "Solving the original LP from the solution after postsolve\n",
      "Model   status      : Optimal\n",
      "Objective value     :  3.1816193247e+00\n",
      "HiGHS run time      :          0.00\n",
      "Running HiGHS 1.5.3 [date: 1970-01-01, git hash: 45a127b78]\n",
      "Copyright (c) 2023 HiGHS under MIT licence terms\n",
      "Presolving model\n",
      "Solving the original LP with primal simplex to determine infeasible or unbounded\n",
      "Using EKK primal simplex solver\n",
      "  Iteration        Objective     Infeasibilities num(sum)\n",
      "          0     0.0000000000e+00 Ph1: 3(2.33333); Du: 4(4) 0s\n",
      "          3     2.3333333333e+00 Pr: 0(0); Du: 1(1) 0s\n",
      "Model   status      : Unbounded\n",
      "Simplex   iterations: 3\n",
      "Objective value     :  2.3333333333e+00\n",
      "HiGHS run time      :          0.00\n"
     ]
    },
    {
     "name": "stderr",
     "output_type": "stream",
     "text": [
      "\u001b[32mL-Shaped Gap  Time: 0:00:02 (1 iterations)\u001b[39m\n",
      "\u001b[34m  Objective:          -Inf\u001b[39m\n",
      "\u001b[34m  Early termination:  DUAL_INFEASIBLE\u001b[39m\n",
      "\u001b[34m  Number of cuts:     3\u001b[39m\n",
      "\u001b[34m  Iterations:         1\u001b[39m\n"
     ]
    }
   ],
   "source": [
    "optimize!(sp_lshaped)"
   ]
  },
  {
   "cell_type": "markdown",
   "id": "e7f86b9a",
   "metadata": {},
   "source": [
    "The master problem is unbounded from below as $K_1$ is not bounded.\n",
    "\n",
    "Let modify the first-stage feasible set by imposing a large bound on $x$, here $10^9$."
   ]
  },
  {
   "cell_type": "code",
   "execution_count": 23,
   "id": "42eb02ea",
   "metadata": {},
   "outputs": [
    {
     "data": {
      "text/plain": [
       "Two-Stage Stochastic Model\n",
       "\n",
       "minimize f₀(x) + 𝔼[f(x,ξ)]\n",
       "  x∈𝒳\n",
       "\n",
       "where\n",
       "\n",
       "f(x,ξ) = min  f(y; x, ξ)\n",
       "              y ∈ 𝒴 (x, ξ)\n"
      ]
     },
     "execution_count": 23,
     "metadata": {},
     "output_type": "execute_result"
    }
   ],
   "source": [
    "@stochastic_model simple_model begin\n",
    "    @stage 1 begin\n",
    "        @decision(simple_model, 0 <= x <= 1e9)\n",
    "        @objective(simple_model, Min, 0*x)\n",
    "    end\n",
    "    @stage 2 begin\n",
    "        @known(simple_model, x)\n",
    "        @uncertain ξ\n",
    "        @recourse(simple_model, 0 <= y[i in 1:2])\n",
    "        @objective(simple_model, Min, y[1] + y[2])\n",
    "        @constraint(simple_model, y[1] - y[2] == ξ - x)\n",
    "    end\n",
    "end"
   ]
  },
  {
   "cell_type": "code",
   "execution_count": 24,
   "id": "8c194765",
   "metadata": {},
   "outputs": [
    {
     "name": "stdout",
     "output_type": "stream",
     "text": [
      "First-stage \n",
      "============== \n",
      "Min 0\n",
      "Subject to\n",
      " x in Decisions\n",
      " x >= 0.0\n",
      " x <= 1.0e9\n",
      "\n",
      "Second-stage \n",
      "============== \n",
      "Subproblem 1 (p = 0.33):\n",
      "Min y[1] + y[2]\n",
      "Subject to\n",
      " x in Known(value = 0.0)\n",
      " y[1] in RecourseDecisions\n",
      " y[2] in RecourseDecisions\n",
      " y[1] >= 0.0\n",
      " y[2] >= 0.0\n",
      " x + y[1] - y[2] == 1.0\n",
      "\n",
      "Subproblem 2 (p = 0.33):\n",
      "Min y[1] + y[2]\n",
      "Subject to\n",
      " x in Known(value = 0.0)\n",
      " y[1] in RecourseDecisions\n",
      " y[2] in RecourseDecisions\n",
      " y[1] >= 0.0\n",
      " y[2] >= 0.0\n",
      " x + y[1] - y[2] == 2.0\n",
      "\n",
      "Subproblem 3 (p = 0.33):\n",
      "Min y[1] + y[2]\n",
      "Subject to\n",
      " x in Known(value = 0.0)\n",
      " y[1] in RecourseDecisions\n",
      " y[2] in RecourseDecisions\n",
      " y[1] >= 0.0\n",
      " y[2] >= 0.0\n",
      " x + y[1] - y[2] == 4.0\n",
      "\n",
      "Solver name: L-shaped with disaggregate cuts\n"
     ]
    }
   ],
   "source": [
    "sp_lshaped = instantiate(simple_model, ξ, optimizer = LShaped.Optimizer)\n",
    "set_optimizer_attribute(sp_lshaped, MasterOptimizer(), HiGHS.Optimizer)\n",
    "set_optimizer_attribute(sp_lshaped, SubProblemOptimizer(), HiGHS.Optimizer)\n",
    "\n",
    "println(sp_lshaped)"
   ]
  },
  {
   "cell_type": "markdown",
   "id": "dfeac2e3",
   "metadata": {},
   "source": [
    "We now solve the program."
   ]
  },
  {
   "cell_type": "code",
   "execution_count": 25,
   "id": "f6358b7c",
   "metadata": {},
   "outputs": [
    {
     "name": "stderr",
     "output_type": "stream",
     "text": [
      "\u001b[33m\u001b[1m┌ \u001b[22m\u001b[39m\u001b[33m\u001b[1mWarning: \u001b[22m\u001b[39mProgressMeter by default refresh meters with additional information in IJulia via `IJulia.clear_output`, which clears all outputs in the cell. \n",
      "\u001b[33m\u001b[1m│ \u001b[22m\u001b[39m - To prevent this behaviour, do `ProgressMeter.ijulia_behavior(:append)`. \n",
      "\u001b[33m\u001b[1m│ \u001b[22m\u001b[39m - To disable this warning message, do `ProgressMeter.ijulia_behavior(:clear)`.\n",
      "\u001b[33m\u001b[1m└ \u001b[22m\u001b[39m\u001b[90m@ ProgressMeter C:\\Users\\slash\\.julia\\packages\\ProgressMeter\\vnCY0\\src\\ProgressMeter.jl:626\u001b[39m\n",
      "\r",
      "\u001b[32mL-Shaped Gap  Time: 0:00:00 (3 iterations)\u001b[39m\r\n",
      "\u001b[34m  Objective:       1.0000000099341075\u001b[39m\r\n",
      "\u001b[34m  Gap:             2.2204460269701189e-16\u001b[39m\r\n",
      "\u001b[34m  Number of cuts:  7\u001b[39m\r\n",
      "\u001b[34m  Iterations:      3\u001b[39m\n"
     ]
    }
   ],
   "source": [
    "optimize!(sp_lshaped)"
   ]
  },
  {
   "cell_type": "markdown",
   "id": "dec93d15",
   "metadata": {},
   "source": [
    "The first-stage solution is"
   ]
  },
  {
   "cell_type": "code",
   "execution_count": 26,
   "id": "7121434c",
   "metadata": {},
   "outputs": [
    {
     "data": {
      "text/plain": [
       "2.000000029802323"
      ]
     },
     "execution_count": 26,
     "metadata": {},
     "output_type": "execute_result"
    }
   ],
   "source": [
    "value(sp_lshaped[1,:x])"
   ]
  },
  {
   "cell_type": "markdown",
   "id": "73dc39cb",
   "metadata": {},
   "source": [
    "### Single Cut"
   ]
  },
  {
   "cell_type": "markdown",
   "id": "ce84f50e",
   "metadata": {},
   "source": [
    "Let's check what happens when the single cut variant is used."
   ]
  },
  {
   "cell_type": "code",
   "execution_count": 27,
   "id": "33d3a8f3",
   "metadata": {},
   "outputs": [
    {
     "name": "stderr",
     "output_type": "stream",
     "text": [
      "\u001b[33m\u001b[1m┌ \u001b[22m\u001b[39m\u001b[33m\u001b[1mWarning: \u001b[22m\u001b[39mProgressMeter by default refresh meters with additional information in IJulia via `IJulia.clear_output`, which clears all outputs in the cell. \n",
      "\u001b[33m\u001b[1m│ \u001b[22m\u001b[39m - To prevent this behaviour, do `ProgressMeter.ijulia_behavior(:append)`. \n",
      "\u001b[33m\u001b[1m│ \u001b[22m\u001b[39m - To disable this warning message, do `ProgressMeter.ijulia_behavior(:clear)`.\n",
      "\u001b[33m\u001b[1m└ \u001b[22m\u001b[39m\u001b[90m@ ProgressMeter C:\\Users\\slash\\.julia\\packages\\ProgressMeter\\vnCY0\\src\\ProgressMeter.jl:626\u001b[39m\n",
      "\r",
      "\u001b[32mL-Shaped Gap  Time: 0:00:00 (5 iterations)\u001b[39m\r\n",
      "\u001b[34m  Objective:       1.0\u001b[39m\r\n",
      "\u001b[34m  Gap:             0.0\u001b[39m\r\n",
      "\u001b[34m  Number of cuts:  4\u001b[39m\r\n",
      "\u001b[34m  Iterations:      5\u001b[39m\n"
     ]
    }
   ],
   "source": [
    "set_optimizer_attribute(sp_lshaped, Aggregator(), Aggregate())\n",
    "optimize!(sp_lshaped)"
   ]
  },
  {
   "cell_type": "markdown",
   "id": "317d6684",
   "metadata": {},
   "source": [
    "More iterations are needed, to obtain a similar first-stage solution."
   ]
  },
  {
   "cell_type": "code",
   "execution_count": 28,
   "id": "61186ec4",
   "metadata": {},
   "outputs": [
    {
     "data": {
      "text/plain": [
       "1.9999999999999996"
      ]
     },
     "execution_count": 28,
     "metadata": {},
     "output_type": "execute_result"
    }
   ],
   "source": [
    "value(sp_lshaped[1,:x])"
   ]
  },
  {
   "cell_type": "code",
   "execution_count": null,
   "id": "a61c3ce2",
   "metadata": {},
   "outputs": [],
   "source": []
  },
  {
   "cell_type": "code",
   "execution_count": null,
   "id": "ddf56f49",
   "metadata": {},
   "outputs": [],
   "source": []
  }
 ],
 "metadata": {
  "kernelspec": {
   "display_name": "Julia 1.9.3",
   "language": "julia",
   "name": "julia-1.9"
  },
  "language_info": {
   "file_extension": ".jl",
   "mimetype": "application/julia",
   "name": "julia",
   "version": "1.9.3"
  }
 },
 "nbformat": 4,
 "nbformat_minor": 5
}
