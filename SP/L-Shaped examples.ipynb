{
 "cells": [
  {
   "cell_type": "markdown",
   "id": "e7d95508",
   "metadata": {},
   "source": [
    "# L-shaped algorithm example"
   ]
  },
  {
   "cell_type": "markdown",
   "id": "3178c2a6",
   "metadata": {},
   "source": [
    "We illustrate in this notebook the example 2 in Chapter 5, page 188, from Birge and Louveaux (2011), \"Introduction to Stochastic Programming\", 2nd edition, Springer."
   ]
  },
  {
   "cell_type": "code",
   "execution_count": null,
   "id": "8858fa22",
   "metadata": {},
   "outputs": [],
   "source": [
    "using StochasticPrograms\n",
    "using HiGHS"
   ]
  },
  {
   "cell_type": "markdown",
   "id": "3df8b524",
   "metadata": {},
   "source": [
    "First, we construct the 2-stage model."
   ]
  },
  {
   "cell_type": "code",
   "execution_count": null,
   "id": "3bbafc07",
   "metadata": {},
   "outputs": [],
   "source": [
    "@stochastic_model simple_model begin\n",
    "    @stage 1 begin\n",
    "        @decision(simple_model, x >= 0)\n",
    "        @objective(simple_model, Min, 0*x)\n",
    "    end\n",
    "    @stage 2 begin\n",
    "        @known(simple_model, x)\n",
    "        @uncertain ξ\n",
    "        @recourse(simple_model, 0 <= y[i in 1:2])\n",
    "        @objective(simple_model, Min, y[1] + y[2])\n",
    "        @constraint(simple_model, y[1] - y[2] == ξ - x)\n",
    "    end\n",
    "end"
   ]
  },
  {
   "cell_type": "markdown",
   "id": "917eae82",
   "metadata": {},
   "source": [
    "We now define three scenarios of equal probability."
   ]
  },
  {
   "cell_type": "code",
   "execution_count": null,
   "id": "088aa87d",
   "metadata": {},
   "outputs": [],
   "source": [
    "ξ1 = @scenario ξ = 1 probability = 1/3\n",
    "ξ2 = @scenario ξ = 2 probability = 1/3\n",
    "ξ3 = @scenario ξ = 4 probability = 1/3\n",
    "\n",
    "ξ = [ξ1, ξ2, ξ3]"
   ]
  },
  {
   "cell_type": "markdown",
   "id": "5cd13947",
   "metadata": {},
   "source": [
    "## Deterministic equivalent"
   ]
  },
  {
   "cell_type": "markdown",
   "id": "dbcaf0ae",
   "metadata": {},
   "source": [
    "In order to have a solvable program, we must instantiate the model. By default, `StochasticPrograms.jl` will generate the derministic equivalent form."
   ]
  },
  {
   "cell_type": "code",
   "execution_count": null,
   "id": "45817d80",
   "metadata": {},
   "outputs": [],
   "source": [
    "sp = instantiate(simple_model, ξ, optimizer = HiGHS.Optimizer)"
   ]
  },
  {
   "cell_type": "markdown",
   "id": "780a1c81",
   "metadata": {},
   "source": [
    "We can check the model by printing it on the screen."
   ]
  },
  {
   "cell_type": "code",
   "execution_count": null,
   "id": "6221ab47",
   "metadata": {},
   "outputs": [],
   "source": [
    "println(sp)"
   ]
  },
  {
   "cell_type": "markdown",
   "id": "8945aa13",
   "metadata": {},
   "source": [
    "We now solve it."
   ]
  },
  {
   "cell_type": "code",
   "execution_count": null,
   "id": "37f7a773",
   "metadata": {},
   "outputs": [],
   "source": [
    "optimize!(sp)"
   ]
  },
  {
   "cell_type": "markdown",
   "id": "8d2ba655",
   "metadata": {},
   "source": [
    "We can check the first stage solution with the method `value()`."
   ]
  },
  {
   "cell_type": "code",
   "execution_count": null,
   "id": "1104774c",
   "metadata": {},
   "outputs": [],
   "source": [
    "value(sp[1,:x])"
   ]
  },
  {
   "cell_type": "markdown",
   "id": "882f741b",
   "metadata": {},
   "source": [
    "## L-shaped"
   ]
  },
  {
   "cell_type": "markdown",
   "id": "8c6a8a9a",
   "metadata": {},
   "source": [
    "We now express the program as a 2-stage optimization problem, and explore various variants of the L-shaped decomposition algorithm."
   ]
  },
  {
   "cell_type": "markdown",
   "id": "4179f759",
   "metadata": {},
   "source": [
    "### Multi cut"
   ]
  },
  {
   "cell_type": "code",
   "execution_count": null,
   "id": "3ecc826d",
   "metadata": {},
   "outputs": [],
   "source": [
    "sp_lshaped = instantiate(simple_model, ξ, optimizer = LShaped.Optimizer)"
   ]
  },
  {
   "cell_type": "code",
   "execution_count": null,
   "id": "7528ac6d",
   "metadata": {},
   "outputs": [],
   "source": [
    "set_optimizer_attribute(sp_lshaped, MasterOptimizer(), HiGHS.Optimizer)\n",
    "set_optimizer_attribute(sp_lshaped, SubProblemOptimizer(), HiGHS.Optimizer)"
   ]
  },
  {
   "cell_type": "code",
   "execution_count": null,
   "id": "22b6381d",
   "metadata": {},
   "outputs": [],
   "source": [
    "optimize!(sp_lshaped)"
   ]
  },
  {
   "cell_type": "markdown",
   "id": "e7f86b9a",
   "metadata": {},
   "source": [
    "The master problem is unbounded from below as $K_1$ is not bounded.\n",
    "\n",
    "Let modify the first-stage feasible set by imposing a large bound on $x$, here $10^9$."
   ]
  },
  {
   "cell_type": "code",
   "execution_count": null,
   "id": "42eb02ea",
   "metadata": {},
   "outputs": [],
   "source": [
    "@stochastic_model simple_model begin\n",
    "    @stage 1 begin\n",
    "        @decision(simple_model, 0 <= x <= 1e9)\n",
    "        @objective(simple_model, Min, 0*x)\n",
    "    end\n",
    "    @stage 2 begin\n",
    "        @known(simple_model, x)\n",
    "        @uncertain ξ\n",
    "        @recourse(simple_model, 0 <= y[i in 1:2])\n",
    "        @objective(simple_model, Min, y[1] + y[2])\n",
    "        @constraint(simple_model, y[1] - y[2] == ξ - x)\n",
    "    end\n",
    "end"
   ]
  },
  {
   "cell_type": "code",
   "execution_count": null,
   "id": "8c194765",
   "metadata": {},
   "outputs": [],
   "source": [
    "sp_lshaped = instantiate(simple_model, ξ, optimizer = LShaped.Optimizer)\n",
    "set_optimizer_attribute(sp_lshaped, MasterOptimizer(), HiGHS.Optimizer)\n",
    "set_optimizer_attribute(sp_lshaped, SubProblemOptimizer(), HiGHS.Optimizer)\n",
    "\n",
    "println(sp_lshaped)"
   ]
  },
  {
   "cell_type": "markdown",
   "id": "dfeac2e3",
   "metadata": {},
   "source": [
    "We now solve the program."
   ]
  },
  {
   "cell_type": "code",
   "execution_count": null,
   "id": "f6358b7c",
   "metadata": {},
   "outputs": [],
   "source": [
    "optimize!(sp_lshaped)"
   ]
  },
  {
   "cell_type": "markdown",
   "id": "dec93d15",
   "metadata": {},
   "source": [
    "The first-stage solution is"
   ]
  },
  {
   "cell_type": "code",
   "execution_count": null,
   "id": "7121434c",
   "metadata": {},
   "outputs": [],
   "source": [
    "value(sp_lshaped[1,:x])"
   ]
  },
  {
   "cell_type": "markdown",
   "id": "73dc39cb",
   "metadata": {},
   "source": [
    "### Single Cut"
   ]
  },
  {
   "cell_type": "markdown",
   "id": "ce84f50e",
   "metadata": {},
   "source": [
    "Let's check what happens when the single cut variant is used."
   ]
  },
  {
   "cell_type": "code",
   "execution_count": null,
   "id": "33d3a8f3",
   "metadata": {},
   "outputs": [],
   "source": [
    "set_optimizer_attribute(sp_lshaped, Aggregator(), Aggregate())\n",
    "optimize!(sp_lshaped)"
   ]
  },
  {
   "cell_type": "markdown",
   "id": "317d6684",
   "metadata": {},
   "source": [
    "More iterations are needed, to obtain a similar first-stage solution."
   ]
  },
  {
   "cell_type": "code",
   "execution_count": null,
   "id": "61186ec4",
   "metadata": {},
   "outputs": [],
   "source": [
    "value(sp_lshaped[1,:x])"
   ]
  }
 ],
 "metadata": {
  "kernelspec": {
   "display_name": "Julia 1.10.5",
   "language": "julia",
   "name": "julia-1.10"
  },
  "language_info": {
   "file_extension": ".jl",
   "mimetype": "application/julia",
   "name": "julia",
   "version": "1.10.5"
  }
 },
 "nbformat": 4,
 "nbformat_minor": 5
}
