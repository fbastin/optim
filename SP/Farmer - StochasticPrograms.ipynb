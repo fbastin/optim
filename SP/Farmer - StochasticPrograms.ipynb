{
 "cells": [
  {
   "cell_type": "markdown",
   "id": "d4a1dbd1",
   "metadata": {},
   "source": [
    "# Farmer example"
   ]
  },
  {
   "cell_type": "markdown",
   "id": "d8bc2000",
   "metadata": {},
   "source": [
    "Reference: Birge and Louveaux, \"Introduction to Stochastic Programming\", Chapter 1\n",
    "\n",
    "The implementation directly follows the documentation of StochasticPrograms.jl: https://martinbiel.github.io/StochasticPrograms.jl/stable/manual/examples/"
   ]
  },
  {
   "cell_type": "code",
   "execution_count": null,
   "id": "87169d1f",
   "metadata": {},
   "outputs": [],
   "source": [
    "using StochasticPrograms\n",
    "using HiGHS"
   ]
  },
  {
   "cell_type": "markdown",
   "id": "7c51c9f9",
   "metadata": {},
   "source": [
    "We will add some benchmark tools in order to better evaluate the efficiency of each approach."
   ]
  },
  {
   "cell_type": "code",
   "execution_count": null,
   "id": "17559183",
   "metadata": {},
   "outputs": [],
   "source": [
    "using BenchmarkTools"
   ]
  },
  {
   "cell_type": "markdown",
   "id": "8514f731",
   "metadata": {},
   "source": [
    "Using StochasticPrograms.jl's syntax, we describe the two-stage linear program."
   ]
  },
  {
   "cell_type": "code",
   "execution_count": null,
   "id": "6b702c35",
   "metadata": {},
   "outputs": [],
   "source": [
    "Crops = [:wheat, :corn, :beets]\n",
    "@stochastic_model farmer_model begin\n",
    "    @stage 1 begin\n",
    "        @parameters begin\n",
    "            Crops = Crops\n",
    "            Cost = Dict(:wheat=>150, :corn=>230, :beets=>260)\n",
    "            Budget = 500\n",
    "        end\n",
    "        @decision(farmer_model, x[c in Crops] >= 0)\n",
    "        @objective(farmer_model, Min, sum(Cost[c]*x[c] for c in Crops))\n",
    "        @constraint(farmer_model, sum(x[c] for c in Crops) <= Budget)\n",
    "    end\n",
    "    @stage 2 begin\n",
    "        @parameters begin\n",
    "            Crops = Crops\n",
    "            Required = Dict(:wheat=>200, :corn=>240, :beets=>0)\n",
    "            PurchasePrice = Dict(:wheat=>238, :corn=>210)\n",
    "            SellPrice = Dict(:wheat=>170, :corn=>150, :beets=>36, :extra_beets=>10)\n",
    "        end\n",
    "        @uncertain ξ[c in Crops]\n",
    "        @recourse(farmer_model, y[p in setdiff(Crops, [:beets])] >= 0)\n",
    "        @recourse(farmer_model, w[s in Crops ∪ [:extra_beets]] >= 0)\n",
    "        @objective(farmer_model, Min, sum(PurchasePrice[p] * y[p] for p in setdiff(Crops, [:beets]))\n",
    "                   - sum(SellPrice[s] * w[s] for s in Crops ∪ [:extra_beets]))\n",
    "        @constraint(farmer_model, minimum_requirement[p in setdiff(Crops, [:beets])],\n",
    "            ξ[p] * x[p] + y[p] - w[p] >= Required[p])\n",
    "        @constraint(farmer_model, minimum_requirement_beets,\n",
    "            ξ[:beets] * x[:beets] - w[:beets] - w[:extra_beets] >= Required[:beets])\n",
    "        @constraint(farmer_model, beets_quota, w[:beets] <= 6000)\n",
    "    end\n",
    "end"
   ]
  },
  {
   "cell_type": "markdown",
   "id": "4b7199c6",
   "metadata": {},
   "source": [
    "The package allows to formulate the program as a classical two-stage stochastic program. We now have to provide the scenarios."
   ]
  },
  {
   "cell_type": "code",
   "execution_count": null,
   "id": "f4a0e721",
   "metadata": {},
   "outputs": [],
   "source": [
    "ξ₁ = @scenario ξ[c in Crops] = [3.0, 3.6, 24.0] probability = 1/3\n",
    "ξ₂ = @scenario ξ[c in Crops] = [2.5, 3.0, 20.0] probability = 1/3\n",
    "ξ₃ = @scenario ξ[c in Crops] = [2.0, 2.4, 16.0] probability = 1/3"
   ]
  },
  {
   "cell_type": "markdown",
   "id": "e8e30a02",
   "metadata": {},
   "source": [
    "## Deterministic equivalent"
   ]
  },
  {
   "cell_type": "markdown",
   "id": "3e46c918",
   "metadata": {},
   "source": [
    "We finally pass the complete model to our solver. By default, the deterministic equivalent problem is built."
   ]
  },
  {
   "cell_type": "code",
   "execution_count": null,
   "id": "4b770645",
   "metadata": {},
   "outputs": [],
   "source": [
    "farmer = instantiate(farmer_model, [ξ₁,ξ₂,ξ₃], optimizer = HiGHS.Optimizer)"
   ]
  },
  {
   "cell_type": "markdown",
   "id": "f7ab9c74",
   "metadata": {},
   "source": [
    "We can check the model formulation."
   ]
  },
  {
   "cell_type": "code",
   "execution_count": null,
   "id": "66eb8ca4",
   "metadata": {},
   "outputs": [],
   "source": [
    "println(farmer)"
   ]
  },
  {
   "cell_type": "markdown",
   "id": "10cbcdef",
   "metadata": {},
   "source": [
    "We can now run the optimization solver. We also print the first-stage decision as well as the optimal value."
   ]
  },
  {
   "cell_type": "code",
   "execution_count": null,
   "id": "d76258a8",
   "metadata": {},
   "outputs": [],
   "source": [
    "optimize!(farmer)\n",
    "x = optimal_decision(farmer)\n",
    "x = farmer[1,:x]\n",
    "println(\"Wheat: $(value(x[:wheat]))\")\n",
    "println(\"Corn: $(value(x[:corn]))\")\n",
    "println(\"Beets: $(value(x[:beets]))\")\n",
    "println(\"Cost: $(objective_value(farmer))\")"
   ]
  },
  {
   "cell_type": "markdown",
   "id": "ac9e9d37",
   "metadata": {},
   "source": [
    "The second-stage solutions for the first scenario are"
   ]
  },
  {
   "cell_type": "code",
   "execution_count": null,
   "id": "e9cfe392",
   "metadata": {},
   "outputs": [],
   "source": [
    "s = 3  # scenario number\n",
    "y = farmer[2,:y]\n",
    "w = farmer[2,:w]\n",
    "println(\"Purchased wheat: $(value(y[:wheat], s))\")\n",
    "println(\"Purchased corn: $(value(y[:corn], s))\")\n",
    "println(\"Sold wheat: $(value(w[:wheat], s))\")\n",
    "println(\"Sold corn: $(value(w[:corn], s))\")\n",
    "println(\"Sold beets: $(value(w[:beets], s))\")\n",
    "println(\"Sold extra beets: $(value(w[:extra_beets], s))\")\n",
    "println(\"Profit: $(objective_value(farmer, s))\")"
   ]
  },
  {
   "cell_type": "markdown",
   "id": "ae371597",
   "metadata": {},
   "source": [
    "`StochasticPrograms` also allows to compute the expected value of perfect information..."
   ]
  },
  {
   "cell_type": "code",
   "execution_count": null,
   "id": "06e090e4",
   "metadata": {},
   "outputs": [],
   "source": [
    "println(\"EVPI: $(EVPI(farmer))\")"
   ]
  },
  {
   "cell_type": "markdown",
   "id": "2801588c",
   "metadata": {},
   "source": [
    "... and the value of the stochastic solution."
   ]
  },
  {
   "cell_type": "code",
   "execution_count": null,
   "id": "d0544622",
   "metadata": {},
   "outputs": [],
   "source": [
    "println(\"VSS: $(VSS(farmer))\")"
   ]
  },
  {
   "cell_type": "markdown",
   "id": "fdd9f24d",
   "metadata": {},
   "source": [
    "## L-shaped decomposition"
   ]
  },
  {
   "cell_type": "markdown",
   "id": "3fe70d66",
   "metadata": {},
   "source": [
    "Instead of the deterministic equivalent, we can use the L-shaped decomposition method."
   ]
  },
  {
   "cell_type": "markdown",
   "id": "67588800",
   "metadata": {},
   "source": [
    "### Multi-cuts"
   ]
  },
  {
   "cell_type": "markdown",
   "id": "66fb2aba",
   "metadata": {},
   "source": [
    "Let gather the scenario in one vector."
   ]
  },
  {
   "cell_type": "code",
   "execution_count": null,
   "id": "4f343287",
   "metadata": {},
   "outputs": [],
   "source": [
    "ξ = [ξ₁, ξ₂, ξ₃]"
   ]
  },
  {
   "cell_type": "markdown",
   "id": "ceddb27d",
   "metadata": {},
   "source": [
    "We instantitate the model with the L-shaped method by specifying it as the chosen optimizer. By default, the multi-cut approach is selected."
   ]
  },
  {
   "cell_type": "code",
   "execution_count": null,
   "id": "027c8d07",
   "metadata": {},
   "outputs": [],
   "source": [
    "farmer_lshaped = instantiate(farmer_model, ξ, optimizer = LShaped.Optimizer)"
   ]
  },
  {
   "cell_type": "markdown",
   "id": "e1f53646",
   "metadata": {},
   "source": [
    "The model is now explicitly a two-stage model."
   ]
  },
  {
   "cell_type": "code",
   "execution_count": null,
   "id": "04a9a6fc",
   "metadata": {},
   "outputs": [],
   "source": [
    "print(farmer_lshaped)"
   ]
  },
  {
   "cell_type": "markdown",
   "id": "be1c8549",
   "metadata": {},
   "source": [
    "We have to specify the solver for each stage. This allows to choose more adapted algorithms"
   ]
  },
  {
   "cell_type": "code",
   "execution_count": null,
   "id": "b35e9603",
   "metadata": {},
   "outputs": [],
   "source": [
    "set_optimizer_attribute(farmer_lshaped, MasterOptimizer(), HiGHS.Optimizer)\n",
    "set_optimizer_attribute(farmer_lshaped, SubProblemOptimizer(), HiGHS.Optimizer)"
   ]
  },
  {
   "cell_type": "markdown",
   "id": "11d66d72",
   "metadata": {},
   "source": [
    "We are now in position to solve the program. `StochasticPrograms` informs us on the number of iterations and generated cuts."
   ]
  },
  {
   "cell_type": "code",
   "execution_count": null,
   "id": "b1065799",
   "metadata": {},
   "outputs": [],
   "source": [
    "optimize!(farmer_lshaped)"
   ]
  },
  {
   "cell_type": "markdown",
   "id": "bc41a5b3",
   "metadata": {},
   "source": [
    "Let measure the performances."
   ]
  },
  {
   "cell_type": "code",
   "execution_count": null,
   "id": "dd98e21d",
   "metadata": {},
   "outputs": [],
   "source": [
    "@benchmark optimize!(farmer_lshaped)"
   ]
  },
  {
   "cell_type": "markdown",
   "id": "80277bd8",
   "metadata": {},
   "source": [
    "We want to compare it with the simple cut version, so we ask the program to aggregate the cuts."
   ]
  },
  {
   "cell_type": "code",
   "execution_count": null,
   "id": "d56ea016",
   "metadata": {},
   "outputs": [],
   "source": [
    "set_optimizer_attribute(farmer_lshaped, Aggregator(), Aggregate())"
   ]
  },
  {
   "cell_type": "markdown",
   "id": "6fc576cf",
   "metadata": {},
   "source": [
    "If we solve the problem, we now see that we need more iterations, while a few less cuts are generated. As expected, one cut is now produced at each iteration, except the last one, that established the convergence."
   ]
  },
  {
   "cell_type": "code",
   "execution_count": null,
   "id": "d557e29c",
   "metadata": {},
   "outputs": [],
   "source": [
    "optimize!(farmer_lshaped)"
   ]
  },
  {
   "cell_type": "markdown",
   "id": "4355c45f",
   "metadata": {},
   "source": [
    "The benchmark also exhibits that the single cut technique is significantly slower."
   ]
  },
  {
   "cell_type": "code",
   "execution_count": null,
   "id": "5520be9f",
   "metadata": {},
   "outputs": [],
   "source": [
    "@benchmark optimize!(farmer_lshaped)"
   ]
  },
  {
   "cell_type": "code",
   "execution_count": null,
   "id": "33c3d63f",
   "metadata": {},
   "outputs": [],
   "source": []
  }
 ],
 "metadata": {
  "kernelspec": {
   "display_name": "Julia 1.10.5",
   "language": "julia",
   "name": "julia-1.10"
  },
  "language_info": {
   "file_extension": ".jl",
   "mimetype": "application/julia",
   "name": "julia",
   "version": "1.10.5"
  }
 },
 "nbformat": 4,
 "nbformat_minor": 5
}
