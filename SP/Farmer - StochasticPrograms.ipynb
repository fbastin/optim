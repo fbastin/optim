{
 "cells": [
  {
   "cell_type": "markdown",
   "id": "d4a1dbd1",
   "metadata": {},
   "source": [
    "# Farmer example"
   ]
  },
  {
   "cell_type": "markdown",
   "id": "d8bc2000",
   "metadata": {},
   "source": [
    "Reference: Birge and Louveaux, \"Introduction to Stochastic Programming\", Chapter 1\n",
    "\n",
    "The implementation directly follows the documentation of StochasticPrograms.jl: https://martinbiel.github.io/StochasticPrograms.jl/stable/manual/examples/"
   ]
  },
  {
   "cell_type": "code",
   "execution_count": 1,
   "id": "87169d1f",
   "metadata": {},
   "outputs": [],
   "source": [
    "using StochasticPrograms\n",
    "using HiGHS"
   ]
  },
  {
   "cell_type": "markdown",
   "id": "7c51c9f9",
   "metadata": {},
   "source": [
    "We will add some benchmark tools in order to better evaluate the efficiency of each approach."
   ]
  },
  {
   "cell_type": "code",
   "execution_count": 2,
   "id": "17559183",
   "metadata": {},
   "outputs": [],
   "source": [
    "using BenchmarkTools"
   ]
  },
  {
   "cell_type": "markdown",
   "id": "8514f731",
   "metadata": {},
   "source": [
    "Using StochasticPrograms.jl's syntax, we describe the two-stage linear program."
   ]
  },
  {
   "cell_type": "code",
   "execution_count": 4,
   "id": "6b702c35",
   "metadata": {},
   "outputs": [
    {
     "data": {
      "text/plain": [
       "Two-Stage Stochastic Model\n",
       "\n",
       "minimize f₀(x) + 𝔼[f(x,ξ)]\n",
       "  x∈𝒳\n",
       "\n",
       "where\n",
       "\n",
       "f(x,ξ) = min  f(y; x, ξ)\n",
       "              y ∈ 𝒴 (x, ξ)\n"
      ]
     },
     "execution_count": 4,
     "metadata": {},
     "output_type": "execute_result"
    }
   ],
   "source": [
    "Crops = [:wheat, :corn, :beets]\n",
    "@stochastic_model farmer_model begin\n",
    "    @stage 1 begin\n",
    "        @parameters begin\n",
    "            Crops = Crops\n",
    "            Cost = Dict(:wheat=>150, :corn=>230, :beets=>260)\n",
    "            Budget = 500\n",
    "        end\n",
    "        @decision(farmer_model, x[c in Crops] >= 0)\n",
    "        @objective(farmer_model, Min, sum(Cost[c]*x[c] for c in Crops))\n",
    "        @constraint(farmer_model, sum(x[c] for c in Crops) <= Budget)\n",
    "    end\n",
    "    @stage 2 begin\n",
    "        @parameters begin\n",
    "            Crops = Crops\n",
    "            Required = Dict(:wheat=>200, :corn=>240, :beets=>0)\n",
    "            PurchasePrice = Dict(:wheat=>238, :corn=>210)\n",
    "            SellPrice = Dict(:wheat=>170, :corn=>150, :beets=>36, :extra_beets=>10)\n",
    "        end\n",
    "        @uncertain ξ[c in Crops]\n",
    "        @recourse(farmer_model, y[p in setdiff(Crops, [:beets])] >= 0)\n",
    "        @recourse(farmer_model, w[s in Crops ∪ [:extra_beets]] >= 0)\n",
    "        @objective(farmer_model, Min, sum(PurchasePrice[p] * y[p] for p in setdiff(Crops, [:beets]))\n",
    "                   - sum(SellPrice[s] * w[s] for s in Crops ∪ [:extra_beets]))\n",
    "        @constraint(farmer_model, minimum_requirement[p in setdiff(Crops, [:beets])],\n",
    "            ξ[p] * x[p] + y[p] - w[p] >= Required[p])\n",
    "        @constraint(farmer_model, minimum_requirement_beets,\n",
    "            ξ[:beets] * x[:beets] - w[:beets] - w[:extra_beets] >= Required[:beets])\n",
    "        @constraint(farmer_model, beets_quota, w[:beets] <= 6000)\n",
    "    end\n",
    "end"
   ]
  },
  {
   "cell_type": "markdown",
   "id": "4b7199c6",
   "metadata": {},
   "source": [
    "The package allows to formulate the program as a classical two-stage stochastic program. We now have to provide the scenarios."
   ]
  },
  {
   "cell_type": "code",
   "execution_count": 6,
   "id": "f4a0e721",
   "metadata": {},
   "outputs": [
    {
     "data": {
      "text/plain": [
       "Scenario with probability 0.3333333333333333 and underlying data:\n",
       "\n",
       "1-dimensional DenseAxisArray{Float64,1,...} with index sets:\n",
       "    Dimension 1, [:wheat, :corn, :beets]\n",
       "And data, a 3-element Vector{Float64}:\n",
       "  2.0\n",
       "  2.4\n",
       " 16.0"
      ]
     },
     "execution_count": 6,
     "metadata": {},
     "output_type": "execute_result"
    }
   ],
   "source": [
    "ξ₁ = @scenario ξ[c in Crops] = [3.0, 3.6, 24.0] probability = 1/3\n",
    "ξ₂ = @scenario ξ[c in Crops] = [2.5, 3.0, 20.0] probability = 1/3\n",
    "ξ₃ = @scenario ξ[c in Crops] = [2.0, 2.4, 16.0] probability = 1/3"
   ]
  },
  {
   "cell_type": "markdown",
   "id": "e8e30a02",
   "metadata": {},
   "source": [
    "## Deterministic equivalent"
   ]
  },
  {
   "cell_type": "markdown",
   "id": "3e46c918",
   "metadata": {},
   "source": [
    "We finally pass the complete model to our solver. By default, the deterministic equivalent problem is built."
   ]
  },
  {
   "cell_type": "code",
   "execution_count": 7,
   "id": "4b770645",
   "metadata": {},
   "outputs": [
    {
     "data": {
      "text/plain": [
       "Stochastic program with:\n",
       " * 3 decision variables\n",
       " * 6 recourse variables\n",
       " * 3 scenarios of type Scenario\n",
       "Structure: Deterministic equivalent\n",
       "Solver name: HiGHS"
      ]
     },
     "execution_count": 7,
     "metadata": {},
     "output_type": "execute_result"
    }
   ],
   "source": [
    "farmer = instantiate(farmer_model, [ξ₁,ξ₂,ξ₃], optimizer = HiGHS.Optimizer)"
   ]
  },
  {
   "cell_type": "markdown",
   "id": "f7ab9c74",
   "metadata": {},
   "source": [
    "We can check the model formulation."
   ]
  },
  {
   "cell_type": "code",
   "execution_count": 8,
   "id": "66eb8ca4",
   "metadata": {},
   "outputs": [
    {
     "name": "stdout",
     "output_type": "stream",
     "text": [
      "Deterministic equivalent problem\n",
      "Min 150 x[wheat] + 230 x[corn] + 260 x[beets] + 79.33333333333333 y₁[wheat] + 70 y₁[corn] - 56.666666666666664 w₁[wheat] - 50 w₁[corn] - 12 w₁[beets] - 3.333333333333333 w₁[extra_beets] + 79.33333333333333 y₂[wheat] + 70 y₂[corn] - 56.666666666666664 w₂[wheat] - 50 w₂[corn] - 12 w₂[beets] - 3.333333333333333 w₂[extra_beets] + 79.33333333333333 y₃[wheat] + 70 y₃[corn] - 56.666666666666664 w₃[wheat] - 50 w₃[corn] - 12 w₃[beets] - 3.333333333333333 w₃[extra_beets]\n",
      "Subject to\n",
      " x[wheat] in Decisions\n",
      " x[corn] in Decisions\n",
      " x[beets] in Decisions\n",
      " y₁[wheat] in RecourseDecisions\n",
      " y₁[corn] in RecourseDecisions\n",
      " w₁[wheat] in RecourseDecisions\n",
      " w₁[corn] in RecourseDecisions\n",
      " w₁[beets] in RecourseDecisions\n",
      " w₁[extra_beets] in RecourseDecisions\n",
      " y₂[wheat] in RecourseDecisions\n",
      " y₂[corn] in RecourseDecisions\n",
      " w₂[wheat] in RecourseDecisions\n",
      " w₂[corn] in RecourseDecisions\n",
      " w₂[beets] in RecourseDecisions\n",
      " w₂[extra_beets] in RecourseDecisions\n",
      " y₃[wheat] in RecourseDecisions\n",
      " y₃[corn] in RecourseDecisions\n",
      " w₃[wheat] in RecourseDecisions\n",
      " w₃[corn] in RecourseDecisions\n",
      " w₃[beets] in RecourseDecisions\n",
      " w₃[extra_beets] in RecourseDecisions\n",
      " x[wheat] >= 0.0\n",
      " x[corn] >= 0.0\n",
      " x[beets] >= 0.0\n",
      " y₁[wheat] >= 0.0\n",
      " y₁[corn] >= 0.0\n",
      " w₁[wheat] >= 0.0\n",
      " w₁[corn] >= 0.0\n",
      " w₁[beets] >= 0.0\n",
      " w₁[extra_beets] >= 0.0\n",
      " y₂[wheat] >= 0.0\n",
      " y₂[corn] >= 0.0\n",
      " w₂[wheat] >= 0.0\n",
      " w₂[corn] >= 0.0\n",
      " w₂[beets] >= 0.0\n",
      " w₂[extra_beets] >= 0.0\n",
      " y₃[wheat] >= 0.0\n",
      " y₃[corn] >= 0.0\n",
      " w₃[wheat] >= 0.0\n",
      " w₃[corn] >= 0.0\n",
      " w₃[beets] >= 0.0\n",
      " w₃[extra_beets] >= 0.0\n",
      " x[wheat] + x[corn] + x[beets] <= 500.0\n",
      " beets_quota₁ : w₁[beets] <= 6000.0\n",
      " beets_quota₂ : w₂[beets] <= 6000.0\n",
      " beets_quota₃ : w₃[beets] <= 6000.0\n",
      " minimum_requirement₁[wheat] : 3 x[wheat] + y₁[wheat] - w₁[wheat] >= 200.0\n",
      " minimum_requirement₁[corn] : 3.6 x[corn] + y₁[corn] - w₁[corn] >= 240.0\n",
      " minimum_requirement_beets₁ : 24 x[beets] - w₁[beets] - w₁[extra_beets] >= 0.0\n",
      " minimum_requirement₂[wheat] : 2.5 x[wheat] + y₂[wheat] - w₂[wheat] >= 200.0\n",
      " minimum_requirement₂[corn] : 3 x[corn] + y₂[corn] - w₂[corn] >= 240.0\n",
      " minimum_requirement_beets₂ : 20 x[beets] - w₂[beets] - w₂[extra_beets] >= 0.0\n",
      " minimum_requirement₃[wheat] : 2 x[wheat] + y₃[wheat] - w₃[wheat] >= 200.0\n",
      " minimum_requirement₃[corn] : 2.4 x[corn] + y₃[corn] - w₃[corn] >= 240.0\n",
      " minimum_requirement_beets₃ : 16 x[beets] - w₃[beets] - w₃[extra_beets] >= 0.0\n",
      "Solver name: HiGHS\n"
     ]
    }
   ],
   "source": [
    "println(farmer)"
   ]
  },
  {
   "cell_type": "markdown",
   "id": "10cbcdef",
   "metadata": {},
   "source": [
    "We can now run the optimization solver. We also print the first-stage decision as well as the optimal value."
   ]
  },
  {
   "cell_type": "code",
   "execution_count": 9,
   "id": "d76258a8",
   "metadata": {},
   "outputs": [
    {
     "name": "stdout",
     "output_type": "stream",
     "text": [
      "Running HiGHS 1.5.3 [date: 1970-01-01, git hash: 45a127b78]\n",
      "Copyright (c) 2023 HiGHS under MIT licence terms\n",
      "Solving LP without presolve or with basis\n",
      "Using EKK dual simplex solver - serial\n",
      "  Iteration        Objective     Infeasibilities num(sum)\n",
      "          0    -4.2099963443e+02 Ph1: 12(15.5); Du: 12(421) 0s\n",
      "         22    -1.0839000000e+05 Pr: 0(0) 0s\n",
      "Model   status      : Optimal\n",
      "Simplex   iterations: 22\n",
      "Objective value     : -1.0839000000e+05\n",
      "HiGHS run time      :          0.00\n",
      "Wheat: 170.0\n",
      "Corn: 80.00000000000003\n",
      "Beets: 250.0\n",
      "Cost: -108390.0\n"
     ]
    }
   ],
   "source": [
    "optimize!(farmer)\n",
    "x = optimal_decision(farmer)\n",
    "x = farmer[1,:x]\n",
    "println(\"Wheat: $(value(x[:wheat]))\")\n",
    "println(\"Corn: $(value(x[:corn]))\")\n",
    "println(\"Beets: $(value(x[:beets]))\")\n",
    "println(\"Cost: $(objective_value(farmer))\")"
   ]
  },
  {
   "cell_type": "markdown",
   "id": "ac9e9d37",
   "metadata": {},
   "source": [
    "The second-stage solutions for the first scenario are"
   ]
  },
  {
   "cell_type": "code",
   "execution_count": 10,
   "id": "e9cfe392",
   "metadata": {},
   "outputs": [
    {
     "name": "stdout",
     "output_type": "stream",
     "text": [
      "Purchased wheat: 0.0\n",
      "Purchased corn: 47.99999999999996\n",
      "Sold wheat: 139.99999999999997\n",
      "Sold corn: 0.0\n",
      "Sold beets: 4000.0\n",
      "Sold extra beets: 0.0\n",
      "Profit: -157720.0\n"
     ]
    }
   ],
   "source": [
    "s = 3  # scenario number\n",
    "y = farmer[2,:y]\n",
    "w = farmer[2,:w]\n",
    "println(\"Purchased wheat: $(value(y[:wheat], s))\")\n",
    "println(\"Purchased corn: $(value(y[:corn], s))\")\n",
    "println(\"Sold wheat: $(value(w[:wheat], s))\")\n",
    "println(\"Sold corn: $(value(w[:corn], s))\")\n",
    "println(\"Sold beets: $(value(w[:beets], s))\")\n",
    "println(\"Sold extra beets: $(value(w[:extra_beets], s))\")\n",
    "println(\"Profit: $(objective_value(farmer, s))\")"
   ]
  },
  {
   "cell_type": "markdown",
   "id": "ae371597",
   "metadata": {},
   "source": [
    "`StochasticPrograms` also allows to compute the expected value of perfect information..."
   ]
  },
  {
   "cell_type": "code",
   "execution_count": 11,
   "id": "06e090e4",
   "metadata": {},
   "outputs": [
    {
     "name": "stdout",
     "output_type": "stream",
     "text": [
      "Solving LP without presolve or with basis\n",
      "Using EKK dual simplex solver - serial\n",
      "  Iteration        Objective     Infeasibilities num(sum)\n",
      "          0    -4.2099963443e+02 Ph1: 12(15.5); Du: 12(421) 0s\n",
      "         22    -1.0839000000e+05 Pr: 0(0) 0s\n",
      "Model   status      : Optimal\n",
      "Simplex   iterations: 22\n",
      "Objective value     : -1.0839000000e+05\n",
      "HiGHS run time      :          0.00\n",
      "Running HiGHS 1.5.3 [date: 1970-01-01, git hash: 45a127b78]\n",
      "Copyright (c) 2023 HiGHS under MIT licence terms\n",
      "Presolving model\n",
      "4 rows, 9 cols, 12 nonzeros\n",
      "3 rows, 8 cols, 10 nonzeros\n",
      "3 rows, 7 cols, 9 nonzeros\n",
      "Presolve : Reductions: rows 3(-2); columns 7(-2); elements 9(-4)\n",
      "Solving the presolved LP\n",
      "Using EKK dual simplex solver - serial\n",
      "  Iteration        Objective     Infeasibilities num(sum)\n",
      "          0    -6.3999740210e+02 Ph1: 2(2); Du: 2(639.997) 0s\n",
      "          4    -1.6766666667e+05 Pr: 0(0) 0s\n",
      "Solving the original LP from the solution after postsolve\n",
      "Model   status      : Optimal\n",
      "Simplex   iterations: 4\n",
      "Objective value     : -1.6766666667e+05\n",
      "HiGHS run time      :          0.00\n",
      "Running HiGHS 1.5.3 [date: 1970-01-01, git hash: 45a127b78]\n",
      "Copyright (c) 2023 HiGHS under MIT licence terms\n",
      "Presolving model\n",
      "4 rows, 9 cols, 12 nonzeros\n",
      "3 rows, 8 cols, 10 nonzeros\n",
      "3 rows, 7 cols, 9 nonzeros\n",
      "Presolve : Reductions: rows 3(-2); columns 7(-2); elements 9(-4)\n",
      "Solving the presolved LP\n",
      "Using EKK dual simplex solver - serial\n",
      "  Iteration        Objective     Infeasibilities num(sum)\n",
      "          0    -6.3999740210e+02 Ph1: 2(2); Du: 2(639.997) 0s\n",
      "          4    -1.1860000000e+05 Pr: 0(0) 0s\n",
      "Solving the original LP from the solution after postsolve\n",
      "Model   status      : Optimal\n",
      "Simplex   iterations: 4\n",
      "Objective value     : -1.1860000000e+05\n",
      "HiGHS run time      :          0.00\n",
      "Running HiGHS 1.5.3 [date: 1970-01-01, git hash: 45a127b78]\n",
      "Copyright (c) 2023 HiGHS under MIT licence terms\n",
      "Presolving model\n",
      "4 rows, 9 cols, 12 nonzeros\n",
      "3 rows, 8 cols, 10 nonzeros\n",
      "3 rows, 7 cols, 9 nonzeros\n",
      "Presolve : Reductions: rows 3(-2); columns 7(-2); elements 9(-4)\n",
      "Solving the presolved LP\n",
      "Using EKK dual simplex solver - serial\n",
      "  Iteration        Objective     Infeasibilities num(sum)\n",
      "          0    -4.6999813050e+02 Ph1: 2(2); Du: 2(469.998) 0s\n",
      "          5    -5.9950000000e+04 Pr: 0(0) 0s\n",
      "Solving the original LP from the solution after postsolve\n",
      "Model   status      : Optimal\n",
      "Simplex   iterations: 5\n",
      "Objective value     : -5.9950000000e+04\n",
      "HiGHS run time      :          0.00\n",
      "EVPI: 7015.5555555555475\n"
     ]
    }
   ],
   "source": [
    "println(\"EVPI: $(EVPI(farmer))\")"
   ]
  },
  {
   "cell_type": "markdown",
   "id": "2801588c",
   "metadata": {},
   "source": [
    "... and the value of the stochastic solution."
   ]
  },
  {
   "cell_type": "code",
   "execution_count": 12,
   "id": "d0544622",
   "metadata": {},
   "outputs": [
    {
     "name": "stdout",
     "output_type": "stream",
     "text": [
      "Running HiGHS 1.5.3 [date: 1970-01-01, git hash: 45a127b78]\n",
      "Copyright (c) 2023 HiGHS under MIT licence terms\n",
      "Presolving model\n",
      "4 rows, 9 cols, 12 nonzeros\n",
      "3 rows, 8 cols, 10 nonzeros\n",
      "3 rows, 7 cols, 9 nonzeros\n",
      "Presolve : Reductions: rows 3(-2); columns 7(-2); elements 9(-4)\n",
      "Solving the presolved LP\n",
      "Using EKK dual simplex solver - serial\n",
      "  Iteration        Objective     Infeasibilities num(sum)\n",
      "          0    -6.3999740210e+02 Ph1: 2(2); Du: 2(639.997) 0s\n",
      "          4    -1.1860000000e+05 Pr: 0(0) 0s\n",
      "Solving the original LP from the solution after postsolve\n",
      "Model   status      : Optimal\n",
      "Simplex   iterations: 4\n",
      "Objective value     : -1.1860000000e+05\n",
      "HiGHS run time      :          0.00\n",
      "Solving LP without presolve or with basis\n",
      "Using EKK dual simplex solver - serial\n",
      "  Iteration        Objective     Infeasibilities num(sum)\n",
      "          0    -4.2097364991e+02 Ph1: 12(15.5); Du: 12(420.974) 0s\n",
      "         18    -1.0724000000e+05 Pr: 0(0) 0s\n",
      "Model   status      : Optimal\n",
      "Simplex   iterations: 18\n",
      "Objective value     : -1.0724000000e+05\n",
      "HiGHS run time      :          0.00\n",
      "Solving LP without presolve or with basis\n",
      "Using EKK dual simplex solver - serial\n",
      "  Iteration        Objective     Infeasibilities num(sum)\n",
      "          0    -4.2099963443e+02 Ph1: 12(15.5); Du: 12(421) 0s\n",
      "         22    -1.0839000000e+05 Pr: 0(0) 0s\n",
      "Model   status      : Optimal\n",
      "Simplex   iterations: 22\n",
      "Objective value     : -1.0839000000e+05\n",
      "HiGHS run time      :          0.00\n",
      "VSS: 1150.000000000029\n"
     ]
    }
   ],
   "source": [
    "println(\"VSS: $(VSS(farmer))\")"
   ]
  },
  {
   "cell_type": "markdown",
   "id": "fdd9f24d",
   "metadata": {},
   "source": [
    "## L-shaped decomposition"
   ]
  },
  {
   "cell_type": "markdown",
   "id": "3fe70d66",
   "metadata": {},
   "source": [
    "Instead of the deterministic equivalent, we can use the L-shaped decomposition method."
   ]
  },
  {
   "cell_type": "markdown",
   "id": "67588800",
   "metadata": {},
   "source": [
    "### Multi-cuts"
   ]
  },
  {
   "cell_type": "markdown",
   "id": "66fb2aba",
   "metadata": {},
   "source": [
    "Let gather the scenario in one vector."
   ]
  },
  {
   "cell_type": "code",
   "execution_count": 13,
   "id": "4f343287",
   "metadata": {},
   "outputs": [
    {
     "data": {
      "text/plain": [
       "3-element Vector{Scenario{JuMP.Containers.DenseAxisArray{Float64, 1, Tuple{Vector{Symbol}}, Tuple{JuMP.Containers._AxisLookup{Dict{Symbol, Int64}}}}}}:\n",
       " Scenario with probability 0.3333333333333333 and underlying data:\n",
       "\n",
       "1-dimensional DenseAxisArray{Float64,1,...} with index sets:\n",
       "    Dimension 1, [:wheat, :corn, :beets]\n",
       "And data, a 3-element Vector{Float64}:\n",
       "  3.0\n",
       "  3.6\n",
       " 24.0\n",
       " Scenario with probability 0.3333333333333333 and underlying data:\n",
       "\n",
       "1-dimensional DenseAxisArray{Float64,1,...} with index sets:\n",
       "    Dimension 1, [:wheat, :corn, :beets]\n",
       "And data, a 3-element Vector{Float64}:\n",
       "  2.5\n",
       "  3.0\n",
       " 20.0\n",
       " Scenario with probability 0.3333333333333333 and underlying data:\n",
       "\n",
       "1-dimensional DenseAxisArray{Float64,1,...} with index sets:\n",
       "    Dimension 1, [:wheat, :corn, :beets]\n",
       "And data, a 3-element Vector{Float64}:\n",
       "  2.0\n",
       "  2.4\n",
       " 16.0"
      ]
     },
     "execution_count": 13,
     "metadata": {},
     "output_type": "execute_result"
    }
   ],
   "source": [
    "ξ = [ξ₁, ξ₂, ξ₃]"
   ]
  },
  {
   "cell_type": "markdown",
   "id": "ceddb27d",
   "metadata": {},
   "source": [
    "We instantitate the model with the L-shaped method by specifying it as the chosen optimizer. By default, the multi-cut approach is selected."
   ]
  },
  {
   "cell_type": "code",
   "execution_count": 14,
   "id": "027c8d07",
   "metadata": {},
   "outputs": [
    {
     "data": {
      "text/plain": [
       "Stochastic program with:\n",
       " * 3 decision variables\n",
       " * 6 recourse variables\n",
       " * 3 scenarios of type Scenario\n",
       "Structure: Stage-decomposition\n",
       "Solver name: L-shaped with disaggregate cuts"
      ]
     },
     "execution_count": 14,
     "metadata": {},
     "output_type": "execute_result"
    }
   ],
   "source": [
    "farmer_lshaped = instantiate(farmer_model, ξ, optimizer = LShaped.Optimizer)"
   ]
  },
  {
   "cell_type": "markdown",
   "id": "e1f53646",
   "metadata": {},
   "source": [
    "The model is now explicitly a two-stage model."
   ]
  },
  {
   "cell_type": "code",
   "execution_count": 15,
   "id": "04a9a6fc",
   "metadata": {
    "scrolled": true
   },
   "outputs": [
    {
     "name": "stdout",
     "output_type": "stream",
     "text": [
      "First-stage \n",
      "============== \n",
      "Min 150 x[wheat] + 230 x[corn] + 260 x[beets]\n",
      "Subject to\n",
      " x[wheat] in Decisions\n",
      " x[corn] in Decisions\n",
      " x[beets] in Decisions\n",
      " x[wheat] >= 0.0\n",
      " x[corn] >= 0.0\n",
      " x[beets] >= 0.0\n",
      " x[wheat] + x[corn] + x[beets] <= 500.0\n",
      "\n",
      "Second-stage \n",
      "============== \n",
      "Subproblem 1 (p = 0.33):\n",
      "Min 238 y[wheat] + 210 y[corn] - 170 w[wheat] - 150 w[corn] - 36 w[beets] - 10 w[extra_beets]\n",
      "Subject to\n",
      " x[wheat] in Known(value = 0.0)\n",
      " x[corn] in Known(value = 0.0)\n",
      " x[beets] in Known(value = 0.0)\n",
      " y[wheat] in RecourseDecisions\n",
      " y[corn] in RecourseDecisions\n",
      " w[wheat] in RecourseDecisions\n",
      " w[corn] in RecourseDecisions\n",
      " w[beets] in RecourseDecisions\n",
      " w[extra_beets] in RecourseDecisions\n",
      " y[wheat] >= 0.0\n",
      " y[corn] >= 0.0\n",
      " w[wheat] >= 0.0\n",
      " w[corn] >= 0.0\n",
      " w[beets] >= 0.0\n",
      " w[extra_beets] >= 0.0\n",
      " minimum_requirement[wheat] : 3 x[wheat] + y[wheat] - w[wheat] >= 200.0\n",
      " minimum_requirement[corn] : 3.6 x[corn] + y[corn] - w[corn] >= 240.0\n",
      " minimum_requirement_beets : 24 x[beets] - w[beets] - w[extra_beets] >= 0.0\n",
      " beets_quota : w[beets] <= 6000.0\n",
      "\n",
      "Subproblem 2 (p = 0.33):\n",
      "Min 238 y[wheat] + 210 y[corn] - 170 w[wheat] - 150 w[corn] - 36 w[beets] - 10 w[extra_beets]\n",
      "Subject to\n",
      " x[wheat] in Known(value = 0.0)\n",
      " x[corn] in Known(value = 0.0)\n",
      " x[beets] in Known(value = 0.0)\n",
      " y[wheat] in RecourseDecisions\n",
      " y[corn] in RecourseDecisions\n",
      " w[wheat] in RecourseDecisions\n",
      " w[corn] in RecourseDecisions\n",
      " w[beets] in RecourseDecisions\n",
      " w[extra_beets] in RecourseDecisions\n",
      " y[wheat] >= 0.0\n",
      " y[corn] >= 0.0\n",
      " w[wheat] >= 0.0\n",
      " w[corn] >= 0.0\n",
      " w[beets] >= 0.0\n",
      " w[extra_beets] >= 0.0\n",
      " minimum_requirement[wheat] : 2.5 x[wheat] + y[wheat] - w[wheat] >= 200.0\n",
      " minimum_requirement[corn] : 3 x[corn] + y[corn] - w[corn] >= 240.0\n",
      " minimum_requirement_beets : 20 x[beets] - w[beets] - w[extra_beets] >= 0.0\n",
      " beets_quota : w[beets] <= 6000.0\n",
      "\n",
      "Subproblem 3 (p = 0.33):\n",
      "Min 238 y[wheat] + 210 y[corn] - 170 w[wheat] - 150 w[corn] - 36 w[beets] - 10 w[extra_beets]\n",
      "Subject to\n",
      " x[wheat] in Known(value = 0.0)\n",
      " x[corn] in Known(value = 0.0)\n",
      " x[beets] in Known(value = 0.0)\n",
      " y[wheat] in RecourseDecisions\n",
      " y[corn] in RecourseDecisions\n",
      " w[wheat] in RecourseDecisions\n",
      " w[corn] in RecourseDecisions\n",
      " w[beets] in RecourseDecisions\n",
      " w[extra_beets] in RecourseDecisions\n",
      " y[wheat] >= 0.0\n",
      " y[corn] >= 0.0\n",
      " w[wheat] >= 0.0\n",
      " w[corn] >= 0.0\n",
      " w[beets] >= 0.0\n",
      " w[extra_beets] >= 0.0\n",
      " minimum_requirement[wheat] : 2 x[wheat] + y[wheat] - w[wheat] >= 200.0\n",
      " minimum_requirement[corn] : 2.4 x[corn] + y[corn] - w[corn] >= 240.0\n",
      " minimum_requirement_beets : 16 x[beets] - w[beets] - w[extra_beets] >= 0.0\n",
      " beets_quota : w[beets] <= 6000.0\n",
      "\n",
      "Solver name: L-shaped with disaggregate cuts"
     ]
    }
   ],
   "source": [
    "print(farmer_lshaped)"
   ]
  },
  {
   "cell_type": "markdown",
   "id": "be1c8549",
   "metadata": {},
   "source": [
    "We have to specify the solver for each stage. This allows to choose more adapted algorithms"
   ]
  },
  {
   "cell_type": "code",
   "execution_count": 16,
   "id": "ec41ce4d",
   "metadata": {},
   "outputs": [],
   "source": [
    "using GLPK"
   ]
  },
  {
   "cell_type": "code",
   "execution_count": 17,
   "id": "b35e9603",
   "metadata": {},
   "outputs": [],
   "source": [
    "set_optimizer_attribute(farmer_lshaped, MasterOptimizer(), GLPK.Optimizer)\n",
    "set_optimizer_attribute(farmer_lshaped, SubProblemOptimizer(), HiGHS.Optimizer)"
   ]
  },
  {
   "cell_type": "markdown",
   "id": "11d66d72",
   "metadata": {},
   "source": [
    "We are now in position to solve the program. `StochasticPrograms` informs us on the number of iterations and generated cuts."
   ]
  },
  {
   "cell_type": "code",
   "execution_count": 18,
   "id": "b1065799",
   "metadata": {},
   "outputs": [
    {
     "name": "stderr",
     "output_type": "stream",
     "text": [
      "\u001b[33m\u001b[1m┌ \u001b[22m\u001b[39m\u001b[33m\u001b[1mWarning: \u001b[22m\u001b[39mProgressMeter by default refresh meters with additional information in IJulia via `IJulia.clear_output`, which clears all outputs in the cell. \n",
      "\u001b[33m\u001b[1m│ \u001b[22m\u001b[39m - To prevent this behaviour, do `ProgressMeter.ijulia_behavior(:append)`. \n",
      "\u001b[33m\u001b[1m│ \u001b[22m\u001b[39m - To disable this warning message, do `ProgressMeter.ijulia_behavior(:clear)`.\n",
      "\u001b[33m\u001b[1m└ \u001b[22m\u001b[39m\u001b[90m@ ProgressMeter C:\\Users\\slash\\.julia\\packages\\ProgressMeter\\kVZZH\\src\\ProgressMeter.jl:594\u001b[39m\n",
      "\r",
      "\u001b[32mL-Shaped Gap  Time: 0:00:03 (6 iterations)\u001b[39m\r\n",
      "\u001b[34m  Objective:       -108390.0\u001b[39m\r\n",
      "\u001b[34m  Gap:             2.685102911406373e-16\u001b[39m\r\n",
      "\u001b[34m  Number of cuts:  14\u001b[39m\r\n",
      "\u001b[34m  Iterations:      6\u001b[39m\n"
     ]
    }
   ],
   "source": [
    "optimize!(farmer_lshaped)"
   ]
  },
  {
   "cell_type": "markdown",
   "id": "bc41a5b3",
   "metadata": {},
   "source": [
    "Let measure the performances."
   ]
  },
  {
   "cell_type": "code",
   "execution_count": 19,
   "id": "dd98e21d",
   "metadata": {},
   "outputs": [
    {
     "name": "stderr",
     "output_type": "stream",
     "text": [
      "\u001b[33m\u001b[1m┌ \u001b[22m\u001b[39m\u001b[33m\u001b[1mWarning: \u001b[22m\u001b[39mProgressMeter by default refresh meters with additional information in IJulia via `IJulia.clear_output`, which clears all outputs in the cell. \n",
      "\u001b[33m\u001b[1m│ \u001b[22m\u001b[39m - To prevent this behaviour, do `ProgressMeter.ijulia_behavior(:append)`. \n",
      "\u001b[33m\u001b[1m│ \u001b[22m\u001b[39m - To disable this warning message, do `ProgressMeter.ijulia_behavior(:clear)`.\n",
      "\u001b[33m\u001b[1m└ \u001b[22m\u001b[39m\u001b[90m@ ProgressMeter C:\\Users\\slash\\.julia\\packages\\ProgressMeter\\kVZZH\\src\\ProgressMeter.jl:594\u001b[39m\n",
      "\r",
      "\u001b[32mL-Shaped Gap  Time: 0:00:00 (6 iterations)\u001b[39m\r\n",
      "\u001b[34m  Objective:       -108390.0\u001b[39m\r\n",
      "\u001b[34m  Gap:             2.685102911406373e-16\u001b[39m\r\n",
      "\u001b[34m  Number of cuts:  14\u001b[39m\r\n",
      "\u001b[34m  Iterations:      6\u001b[39m\n"
     ]
    },
    {
     "data": {
      "text/plain": [
       "BenchmarkTools.Trial: 366 samples with 1 evaluation.\n",
       " Range \u001b[90m(\u001b[39m\u001b[36m\u001b[1mmin\u001b[22m\u001b[39m … \u001b[35mmax\u001b[39m\u001b[90m):  \u001b[39m\u001b[36m\u001b[1m10.195 ms\u001b[22m\u001b[39m … \u001b[35m248.703 ms\u001b[39m  \u001b[90m┊\u001b[39m GC \u001b[90m(\u001b[39mmin … max\u001b[90m): \u001b[39m0.00% … 76.91%\n",
       " Time  \u001b[90m(\u001b[39m\u001b[34m\u001b[1mmedian\u001b[22m\u001b[39m\u001b[90m):     \u001b[39m\u001b[34m\u001b[1m12.860 ms               \u001b[22m\u001b[39m\u001b[90m┊\u001b[39m GC \u001b[90m(\u001b[39mmedian\u001b[90m):    \u001b[39m0.00%\n",
       " Time  \u001b[90m(\u001b[39m\u001b[32m\u001b[1mmean\u001b[22m\u001b[39m ± \u001b[32mσ\u001b[39m\u001b[90m):   \u001b[39m\u001b[32m\u001b[1m13.646 ms\u001b[22m\u001b[39m ± \u001b[32m 12.415 ms\u001b[39m  \u001b[90m┊\u001b[39m GC \u001b[90m(\u001b[39mmean ± σ\u001b[90m):  \u001b[39m3.83% ±  4.02%\n",
       "\n",
       "  \u001b[39m \u001b[39m \u001b[39m \u001b[39m \u001b[39m \u001b[39m \u001b[39m \u001b[39m \u001b[39m \u001b[39m \u001b[39m▁\u001b[39m \u001b[39m \u001b[39m \u001b[39m▂\u001b[39m▃\u001b[39m \u001b[39m \u001b[39m▃\u001b[39m█\u001b[39m▄\u001b[39m▆\u001b[39m▃\u001b[34m▃\u001b[39m\u001b[39m \u001b[39m▂\u001b[39m▄\u001b[39m▅\u001b[39m▃\u001b[32m \u001b[39m\u001b[39m▃\u001b[39m▃\u001b[39m▁\u001b[39m \u001b[39m \u001b[39m \u001b[39m \u001b[39m \u001b[39m \u001b[39m \u001b[39m \u001b[39m \u001b[39m \u001b[39m \u001b[39m \u001b[39m \u001b[39m \u001b[39m \u001b[39m \u001b[39m \u001b[39m \u001b[39m \u001b[39m \u001b[39m \u001b[39m \u001b[39m \u001b[39m \u001b[39m \u001b[39m \u001b[39m \u001b[39m \u001b[39m \n",
       "  \u001b[39m▄\u001b[39m▄\u001b[39m▄\u001b[39m▇\u001b[39m█\u001b[39m▇\u001b[39m█\u001b[39m▇\u001b[39m▇\u001b[39m▆\u001b[39m█\u001b[39m▅\u001b[39m█\u001b[39m▇\u001b[39m█\u001b[39m█\u001b[39m▇\u001b[39m▇\u001b[39m█\u001b[39m█\u001b[39m█\u001b[39m█\u001b[39m█\u001b[34m█\u001b[39m\u001b[39m▇\u001b[39m█\u001b[39m█\u001b[39m█\u001b[39m█\u001b[32m▇\u001b[39m\u001b[39m█\u001b[39m█\u001b[39m█\u001b[39m▇\u001b[39m█\u001b[39m▆\u001b[39m▄\u001b[39m▆\u001b[39m▇\u001b[39m▅\u001b[39m▅\u001b[39m▄\u001b[39m▅\u001b[39m▄\u001b[39m▄\u001b[39m▄\u001b[39m▄\u001b[39m▃\u001b[39m▃\u001b[39m▃\u001b[39m▁\u001b[39m▁\u001b[39m▄\u001b[39m▁\u001b[39m▄\u001b[39m▁\u001b[39m▄\u001b[39m▁\u001b[39m▁\u001b[39m▃\u001b[39m \u001b[39m▄\n",
       "  10.2 ms\u001b[90m         Histogram: frequency by time\u001b[39m         17.3 ms \u001b[0m\u001b[1m<\u001b[22m\n",
       "\n",
       " Memory estimate\u001b[90m: \u001b[39m\u001b[33m776.13 KiB\u001b[39m, allocs estimate\u001b[90m: \u001b[39m\u001b[33m15132\u001b[39m."
      ]
     },
     "execution_count": 19,
     "metadata": {},
     "output_type": "execute_result"
    }
   ],
   "source": [
    "@benchmark optimize!(farmer_lshaped)"
   ]
  },
  {
   "cell_type": "markdown",
   "id": "80277bd8",
   "metadata": {},
   "source": [
    "We want to compare it with the simple cut version, so we ask the program to aggregate the cuts."
   ]
  },
  {
   "cell_type": "code",
   "execution_count": 20,
   "id": "d56ea016",
   "metadata": {},
   "outputs": [],
   "source": [
    "set_optimizer_attribute(farmer_lshaped, Aggregator(), Aggregate())"
   ]
  },
  {
   "cell_type": "markdown",
   "id": "6fc576cf",
   "metadata": {},
   "source": [
    "If we solve the problem, we now see that we need more iterations, while a few less cuts are generated. As expected, one cut is now produced at each iteration, except the last one, that established the convergence."
   ]
  },
  {
   "cell_type": "code",
   "execution_count": 21,
   "id": "d557e29c",
   "metadata": {},
   "outputs": [
    {
     "name": "stderr",
     "output_type": "stream",
     "text": [
      "\u001b[33m\u001b[1m┌ \u001b[22m\u001b[39m\u001b[33m\u001b[1mWarning: \u001b[22m\u001b[39mProgressMeter by default refresh meters with additional information in IJulia via `IJulia.clear_output`, which clears all outputs in the cell. \n",
      "\u001b[33m\u001b[1m│ \u001b[22m\u001b[39m - To prevent this behaviour, do `ProgressMeter.ijulia_behavior(:append)`. \n",
      "\u001b[33m\u001b[1m│ \u001b[22m\u001b[39m - To disable this warning message, do `ProgressMeter.ijulia_behavior(:clear)`.\n",
      "\u001b[33m\u001b[1m└ \u001b[22m\u001b[39m\u001b[90m@ ProgressMeter C:\\Users\\slash\\.julia\\packages\\ProgressMeter\\kVZZH\\src\\ProgressMeter.jl:594\u001b[39m\n",
      "\r",
      "\u001b[32mL-Shaped Gap  Time: 0:00:00 (11 iterations)\u001b[39m\r\n",
      "\u001b[34m  Objective:       -108389.99999999994\u001b[39m\r\n",
      "\u001b[34m  Gap:             2.6851029114063745e-16\u001b[39m\r\n",
      "\u001b[34m  Number of cuts:  10\u001b[39m\r\n",
      "\u001b[34m  Iterations:      11\u001b[39m\n"
     ]
    }
   ],
   "source": [
    "optimize!(farmer_lshaped)"
   ]
  },
  {
   "cell_type": "markdown",
   "id": "4355c45f",
   "metadata": {},
   "source": [
    "The benchmark also exhibits that the single cut technique is significantly slower."
   ]
  },
  {
   "cell_type": "code",
   "execution_count": 22,
   "id": "5520be9f",
   "metadata": {},
   "outputs": [
    {
     "name": "stderr",
     "output_type": "stream",
     "text": [
      "\u001b[33m\u001b[1m┌ \u001b[22m\u001b[39m\u001b[33m\u001b[1mWarning: \u001b[22m\u001b[39mProgressMeter by default refresh meters with additional information in IJulia via `IJulia.clear_output`, which clears all outputs in the cell. \n",
      "\u001b[33m\u001b[1m│ \u001b[22m\u001b[39m - To prevent this behaviour, do `ProgressMeter.ijulia_behavior(:append)`. \n",
      "\u001b[33m\u001b[1m│ \u001b[22m\u001b[39m - To disable this warning message, do `ProgressMeter.ijulia_behavior(:clear)`.\n",
      "\u001b[33m\u001b[1m└ \u001b[22m\u001b[39m\u001b[90m@ ProgressMeter C:\\Users\\slash\\.julia\\packages\\ProgressMeter\\kVZZH\\src\\ProgressMeter.jl:594\u001b[39m\n",
      "\r",
      "\u001b[32mL-Shaped Gap  Time: 0:00:00 (11 iterations)\u001b[39m\r\n",
      "\u001b[34m  Objective:       -108389.99999999994\u001b[39m\r\n",
      "\u001b[34m  Gap:             2.6851029114063745e-16\u001b[39m\r\n",
      "\u001b[34m  Number of cuts:  10\u001b[39m\r\n",
      "\u001b[34m  Iterations:      11\u001b[39m\n"
     ]
    },
    {
     "data": {
      "text/plain": [
       "BenchmarkTools.Trial: 297 samples with 1 evaluation.\n",
       " Range \u001b[90m(\u001b[39m\u001b[36m\u001b[1mmin\u001b[22m\u001b[39m … \u001b[35mmax\u001b[39m\u001b[90m):  \u001b[39m\u001b[36m\u001b[1m12.268 ms\u001b[22m\u001b[39m … \u001b[35m239.051 ms\u001b[39m  \u001b[90m┊\u001b[39m GC \u001b[90m(\u001b[39mmin … max\u001b[90m): \u001b[39m0.00% … 77.93%\n",
       " Time  \u001b[90m(\u001b[39m\u001b[34m\u001b[1mmedian\u001b[22m\u001b[39m\u001b[90m):     \u001b[39m\u001b[34m\u001b[1m15.853 ms               \u001b[22m\u001b[39m\u001b[90m┊\u001b[39m GC \u001b[90m(\u001b[39mmedian\u001b[90m):    \u001b[39m0.00%\n",
       " Time  \u001b[90m(\u001b[39m\u001b[32m\u001b[1mmean\u001b[22m\u001b[39m ± \u001b[32mσ\u001b[39m\u001b[90m):   \u001b[39m\u001b[32m\u001b[1m16.829 ms\u001b[22m\u001b[39m ± \u001b[32m 13.085 ms\u001b[39m  \u001b[90m┊\u001b[39m GC \u001b[90m(\u001b[39mmean ± σ\u001b[90m):  \u001b[39m3.73% ±  4.52%\n",
       "\n",
       "  \u001b[39m \u001b[39m \u001b[39m \u001b[39m \u001b[39m \u001b[39m \u001b[39m \u001b[39m▁\u001b[39m \u001b[39m \u001b[39m▃\u001b[39m \u001b[39m \u001b[39m▅\u001b[39m▃\u001b[39m█\u001b[39m▄\u001b[39m▇\u001b[39m▇\u001b[39m▂\u001b[34m▅\u001b[39m\u001b[39m▅\u001b[39m▃\u001b[39m▂\u001b[39m \u001b[39m \u001b[32m▃\u001b[39m\u001b[39m▆\u001b[39m▂\u001b[39m \u001b[39m \u001b[39m \u001b[39m \u001b[39m \u001b[39m \u001b[39m \u001b[39m \u001b[39m \u001b[39m \u001b[39m \u001b[39m \u001b[39m \u001b[39m \u001b[39m \u001b[39m \u001b[39m \u001b[39m \u001b[39m \u001b[39m \u001b[39m \u001b[39m \u001b[39m \u001b[39m \u001b[39m \u001b[39m \u001b[39m \u001b[39m \u001b[39m \u001b[39m \u001b[39m \u001b[39m \u001b[39m \n",
       "  \u001b[39m▄\u001b[39m▁\u001b[39m▃\u001b[39m▅\u001b[39m▇\u001b[39m▄\u001b[39m▅\u001b[39m█\u001b[39m▆\u001b[39m█\u001b[39m█\u001b[39m▇\u001b[39m▅\u001b[39m█\u001b[39m█\u001b[39m█\u001b[39m█\u001b[39m█\u001b[39m█\u001b[39m█\u001b[34m█\u001b[39m\u001b[39m█\u001b[39m█\u001b[39m█\u001b[39m▇\u001b[39m█\u001b[32m█\u001b[39m\u001b[39m█\u001b[39m█\u001b[39m█\u001b[39m▆\u001b[39m▆\u001b[39m▅\u001b[39m▄\u001b[39m▆\u001b[39m▆\u001b[39m▆\u001b[39m▆\u001b[39m▅\u001b[39m▃\u001b[39m▃\u001b[39m▄\u001b[39m▅\u001b[39m▄\u001b[39m▃\u001b[39m▁\u001b[39m▁\u001b[39m▄\u001b[39m▃\u001b[39m▃\u001b[39m▁\u001b[39m▁\u001b[39m▁\u001b[39m▁\u001b[39m▁\u001b[39m▁\u001b[39m▃\u001b[39m▁\u001b[39m▁\u001b[39m▃\u001b[39m \u001b[39m▄\n",
       "  12.3 ms\u001b[90m         Histogram: frequency by time\u001b[39m         22.8 ms \u001b[0m\u001b[1m<\u001b[22m\n",
       "\n",
       " Memory estimate\u001b[90m: \u001b[39m\u001b[33m886.01 KiB\u001b[39m, allocs estimate\u001b[90m: \u001b[39m\u001b[33m16869\u001b[39m."
      ]
     },
     "execution_count": 22,
     "metadata": {},
     "output_type": "execute_result"
    }
   ],
   "source": [
    "@benchmark optimize!(farmer_lshaped)"
   ]
  },
  {
   "cell_type": "code",
   "execution_count": null,
   "id": "33c3d63f",
   "metadata": {},
   "outputs": [],
   "source": []
  }
 ],
 "metadata": {
  "kernelspec": {
   "display_name": "Julia 1.10.5",
   "language": "julia",
   "name": "julia-1.10"
  },
  "language_info": {
   "file_extension": ".jl",
   "mimetype": "application/julia",
   "name": "julia",
   "version": "1.10.5"
  }
 },
 "nbformat": 4,
 "nbformat_minor": 5
}
