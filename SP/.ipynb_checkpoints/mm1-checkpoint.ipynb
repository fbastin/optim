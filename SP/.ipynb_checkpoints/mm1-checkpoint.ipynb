{
 "cells": [
  {
   "cell_type": "markdown",
   "metadata": {},
   "source": [
    "## Simulation of a M/M/1 queue using processes"
   ]
  },
  {
   "cell_type": "markdown",
   "metadata": {},
   "source": [
    "This simulation is adapted from the Bank Renege example in the documentation of a previous version of SimJulia: http://simjuliajl.readthedocs.io/en/stable/examples/1_bank_renege.html"
   ]
  },
  {
   "cell_type": "code",
   "execution_count": 1,
   "metadata": {},
   "outputs": [],
   "source": [
    "using SimJulia\n",
    "using Distributions\n",
    "using ResumableFunctions\n",
    "using RDST, Random"
   ]
  },
  {
   "cell_type": "markdown",
   "metadata": {},
   "source": [
    "Let's first simulate a fixed number of clients."
   ]
  },
  {
   "cell_type": "code",
   "execution_count": 2,
   "metadata": {},
   "outputs": [
    {
     "data": {
      "text/plain": [
       "customer (generic function with 1 method)"
      ]
     },
     "execution_count": 2,
     "metadata": {},
     "output_type": "execute_result"
    }
   ],
   "source": [
    "const RANDOM_SEED = 200\n",
    "const NEW_CUSTOMERS = 5  # Total number of customers\n",
    "const INTERVAL_CUSTOMERS = 2.0  # Generate new customers roughly every x seconds\n",
    "const MEAN_SERVICE = 1.99\n",
    "\n",
    "# The macro @resumable allows to suspend a function until some event wakes it up.\n",
    "@resumable function source(env::Simulation, number::Int, interval::Float64, counter::Resource)\n",
    "    d = Exponential(interval)\n",
    "    for i in 1:number\n",
    "        # The customer service time is random. During the service, the counter\n",
    "        # is not available to any other customer.\n",
    "        @yield timeout(env, rand(d))\n",
    "        @process customer(env, i, counter, MEAN_SERVICE)\n",
    "    end\n",
    "end\n",
    "\n",
    "@resumable function customer(env::Simulation, idx::Int, counter::Resource, time_in_system::Float64)\n",
    "    # Record the arrival time in the system\n",
    "    arrive = now(env)\n",
    "    println(\"$arrive: arrival of customer $idx\")\n",
    "    @yield request(counter)\n",
    "    # The simulation clock now contains the time when the client goes to the server.\n",
    "    wait = now(env) - arrive\n",
    "    # Record the waiting time\n",
    "    waits[idx] = wait\n",
    "    println(\"$(now(env)): customer $idx has waited $wait\")\n",
    "    @yield timeout(env, rand(Exponential(time_in_system)))\n",
    "    println(\"$(now(env)): customer $idx: finished\")\n",
    "    @yield release(counter)\n",
    "end"
   ]
  },
  {
   "cell_type": "code",
   "execution_count": 3,
   "metadata": {},
   "outputs": [
    {
     "name": "stdout",
     "output_type": "stream",
     "text": [
      "M/M/1 with processes\n"
     ]
    },
    {
     "data": {
      "text/plain": [
       "5-element Vector{Float64}:\n",
       " 0.0\n",
       " 0.0\n",
       " 0.0\n",
       " 0.0\n",
       " 0.0"
      ]
     },
     "execution_count": 3,
     "metadata": {},
     "output_type": "execute_result"
    }
   ],
   "source": [
    "# Setup and start the simulation\n",
    "println(\"M/M/1 with processes\")\n",
    "waits = zeros(NEW_CUSTOMERS)"
   ]
  },
  {
   "cell_type": "code",
   "execution_count": 4,
   "metadata": {},
   "outputs": [
    {
     "data": {
      "text/plain": [
       "Simulation time: 0.0 active_process: nothing"
      ]
     },
     "execution_count": 4,
     "metadata": {},
     "output_type": "execute_result"
    }
   ],
   "source": [
    "Random.seed!(RANDOM_SEED)\n",
    "env = Simulation()"
   ]
  },
  {
   "cell_type": "code",
   "execution_count": 5,
   "metadata": {
    "scrolled": true
   },
   "outputs": [
    {
     "data": {
      "text/plain": [
       "Process 1"
      ]
     },
     "execution_count": 5,
     "metadata": {},
     "output_type": "execute_result"
    }
   ],
   "source": [
    "# Start processes and run\n",
    "counter = Resource(env, 1)\n",
    "@process source(env, NEW_CUSTOMERS, INTERVAL_CUSTOMERS, counter)"
   ]
  },
  {
   "cell_type": "code",
   "execution_count": 6,
   "metadata": {},
   "outputs": [
    {
     "name": "stdout",
     "output_type": "stream",
     "text": [
      "1.2050403125807367: arrival of customer 1\n",
      "1.2050403125807367: customer 1 has waited 0.0\n",
      "1.4181503510677775: arrival of customer 2\n",
      "1.7579446126823792: arrival of customer 3\n",
      "3.3655840436959545: arrival of customer 4\n",
      "3.70641375839329: customer 1: finished\n",
      "3.70641375839329: customer 2 has waited 2.2882634073255126\n",
      "3.7636956918681514: customer 2: finished\n",
      "3.7636956918681514: customer 3 has waited 2.0057510791857722\n",
      "4.581834601908197: customer 3: finished\n",
      "4.581834601908197: customer 4 has waited 1.2162505582122423\n",
      "6.231843986748496: arrival of customer 5\n",
      "11.58459018900139: customer 4: finished\n",
      "11.58459018900139: customer 5 has waited 5.352746202252893\n",
      "15.538707845736354: customer 5: finished\n"
     ]
    }
   ],
   "source": [
    "run(env)"
   ]
  },
  {
   "cell_type": "markdown",
   "metadata": {},
   "source": [
    "We can compute the mean waiting time by"
   ]
  },
  {
   "cell_type": "code",
   "execution_count": 7,
   "metadata": {},
   "outputs": [
    {
     "data": {
      "text/plain": [
       "2.172602249395284"
      ]
     },
     "execution_count": 7,
     "metadata": {},
     "output_type": "execute_result"
    }
   ],
   "source": [
    "mean(waits)"
   ]
  },
  {
   "cell_type": "markdown",
   "metadata": {
    "collapsed": true
   },
   "source": [
    "However, most of the time, we do not know the number of clients. We first set the end of simulation event by specifying an time horizon when running the simulation."
   ]
  },
  {
   "cell_type": "code",
   "execution_count": 8,
   "metadata": {},
   "outputs": [],
   "source": [
    "@process source(env, NEW_CUSTOMERS, INTERVAL_CUSTOMERS, counter)\n",
    "run(env, 5.0)"
   ]
  },
  {
   "cell_type": "markdown",
   "metadata": {},
   "source": [
    "We observe however that the simulation time has not been reset to 0. A simple solution is to create a new simulation environment. This also requires to set the resource again."
   ]
  },
  {
   "cell_type": "code",
   "execution_count": 9,
   "metadata": {},
   "outputs": [
    {
     "name": "stdout",
     "output_type": "stream",
     "text": [
      "1.2559678592926755: arrival of customer 1\n",
      "1.2559678592926755: customer 1 has waited 0.0\n",
      "2.781482657038433: arrival of customer 2\n",
      "3.6650526534802976: arrival of customer 3\n"
     ]
    }
   ],
   "source": [
    "env = Simulation()\n",
    "counter = Resource(env, 1)\n",
    "@process source(env, NEW_CUSTOMERS, INTERVAL_CUSTOMERS, counter)\n",
    "run(env, 5.0)"
   ]
  },
  {
   "cell_type": "markdown",
   "metadata": {
    "collapsed": true
   },
   "source": [
    "The random draws are different but we can produce the same as previously by using the same seed, i.e. the same initial state."
   ]
  },
  {
   "cell_type": "code",
   "execution_count": 10,
   "metadata": {},
   "outputs": [
    {
     "name": "stdout",
     "output_type": "stream",
     "text": [
      "1.2050403125807367: arrival of customer 1\n",
      "1.2050403125807367: customer 1 has waited 0.0\n",
      "1.4181503510677775: arrival of customer 2\n",
      "1.7579446126823792: arrival of customer 3\n",
      "3.3655840436959545: arrival of customer 4\n",
      "3.70641375839329: customer 1: finished\n",
      "3.70641375839329: customer 2 has waited 2.2882634073255126\n",
      "3.7636956918681514: customer 2: finished\n",
      "3.7636956918681514: customer 3 has waited 2.0057510791857722\n",
      "4.581834601908197: customer 3: finished\n",
      "4.581834601908197: customer 4 has waited 1.2162505582122423\n",
      "6.231843986748496: arrival of customer 5\n"
     ]
    }
   ],
   "source": [
    "Random.seed!(RANDOM_SEED)\n",
    "env = Simulation()\n",
    "counter = Resource(env, 1)\n",
    "@process source(env, NEW_CUSTOMERS, INTERVAL_CUSTOMERS, counter)\n",
    "run(env, 10.0)"
   ]
  },
  {
   "cell_type": "markdown",
   "metadata": {},
   "source": [
    "However, a possible issue is that a customer never finishes his service. If we want to ensure that the customer complete his journey in the system, we have to modify the source function. We can circumvent it by redefining the source function so that no customer is generated after a horizon limit, but we do not put a limit when calling the run function."
   ]
  },
  {
   "cell_type": "code",
   "execution_count": 11,
   "metadata": {},
   "outputs": [
    {
     "data": {
      "text/plain": [
       "source2! (generic function with 1 method)"
      ]
     },
     "execution_count": 11,
     "metadata": {},
     "output_type": "execute_result"
    }
   ],
   "source": [
    "@resumable function source2!(env::Simulation, number::Int, interval::Float64, counter::Resource, limit::Float64, nserved::Array{Int64,1})\n",
    "    nserved[1] = 0\n",
    "    d = Exponential(interval)\n",
    "    i = 0\n",
    "    while true\n",
    "        i += 1\n",
    "        @yield timeout(env, rand(d))\n",
    "        if (now(env) > limit) break end\n",
    "        @process customer(env, i, counter, MEAN_SERVICE)\n",
    "        nserved[1] += 1\n",
    "    end\n",
    "end"
   ]
  },
  {
   "cell_type": "code",
   "execution_count": 12,
   "metadata": {},
   "outputs": [
    {
     "name": "stdout",
     "output_type": "stream",
     "text": [
      "1.2050403125807367: arrival of customer 1\n",
      "1.2050403125807367: customer 1 has waited 0.0\n",
      "1.4181503510677775: arrival of customer 2\n",
      "1.7579446126823792: arrival of customer 3\n",
      "3.3655840436959545: arrival of customer 4\n",
      "3.70641375839329: customer 1: finished\n",
      "3.70641375839329: customer 2 has waited 2.2882634073255126\n",
      "3.7636956918681514: customer 2: finished\n",
      "3.7636956918681514: customer 3 has waited 2.0057510791857722\n",
      "4.581834601908197: customer 3: finished\n",
      "4.581834601908197: customer 4 has waited 1.2162505582122423\n",
      "6.231843986748496: arrival of customer 5\n",
      "10.205831581457005: arrival of customer 6\n",
      "11.58459018900139: customer 4: finished\n",
      "11.58459018900139: customer 5 has waited 5.352746202252893\n",
      "12.065706907215944: arrival of customer 7\n",
      "12.8342782089976: customer 5: finished\n",
      "12.8342782089976: customer 6 has waited 2.6284466275405958\n",
      "13.5912217049617: arrival of customer 8\n",
      "14.474791701403564: arrival of customer 9\n",
      "18.035640107194286: arrival of customer 10\n",
      "18.63582099618231: customer 6: finished\n",
      "18.63582099618231: customer 7 has waited 6.570114088966367\n",
      "19.062489889782945: customer 7: finished\n",
      "19.062489889782945: customer 8 has waited 5.471268184821245\n",
      "19.69013482925984: arrival of customer 11\n",
      "20.047245458006124: arrival of customer 12\n",
      "20.092318264285577: arrival of customer 13\n",
      "22.57028887151596: customer 8: finished\n",
      "22.57028887151596: customer 9 has waited 8.095497170112395\n",
      "23.458021281085063: customer 9: finished\n",
      "23.458021281085063: customer 10 has waited 5.422381173890777\n",
      "24.69234357052691: arrival of customer 14\n",
      "24.973283085797963: arrival of customer 15\n",
      "26.29293328874725: arrival of customer 16\n",
      "26.365567882806616: arrival of customer 17\n",
      "26.484975713531952: customer 10: finished\n",
      "26.484975713531952: customer 11 has waited 6.794840884272112\n",
      "26.974262724873494: arrival of customer 18\n",
      "27.010897398933317: customer 11: finished\n",
      "27.010897398933317: customer 12 has waited 6.963651940927193\n",
      "27.414247980718446: customer 12: finished\n",
      "27.414247980718446: customer 13 has waited 7.321929716432869\n",
      "28.735959976644054: customer 13: finished\n",
      "28.735959976644054: customer 14 has waited 4.043616406117145\n",
      "29.743409848866342: customer 14: finished\n",
      "29.743409848866342: customer 15 has waited 4.7701267630683795\n",
      "30.61763735782876: customer 15: finished\n",
      "30.61763735782876: customer 16 has waited 4.324704069081509\n",
      "31.32887473105179: customer 16: finished\n",
      "31.32887473105179: customer 17 has waited 4.963306848245175\n",
      "34.52797825281778: customer 17: finished\n",
      "34.52797825281778: customer 18 has waited 7.553715527944288\n",
      "35.036074999706614: arrival of customer 19\n",
      "35.64472250796782: arrival of customer 20\n",
      "36.7890742434236: customer 18: finished\n",
      "36.7890742434236: customer 19 has waited 1.7529992437169852\n",
      "37.27744877502644: arrival of customer 21\n",
      "37.55439175618474: customer 19: finished\n",
      "37.55439175618474: customer 20 has waited 1.9096692482169217\n",
      "37.83200573416515: customer 20: finished\n",
      "37.83200573416515: customer 21 has waited 0.5545569591387078\n",
      "38.52248833493067: customer 21: finished\n",
      "39.376078073111344: arrival of customer 22\n",
      "39.376078073111344: customer 22 has waited 0.0\n",
      "39.84890885084769: customer 22: finished\n",
      "40.38912725982808: arrival of customer 23\n",
      "40.38912725982808: customer 23 has waited 0.0\n",
      "41.180165100202764: customer 23: finished\n",
      "41.3779970519161: arrival of customer 24\n",
      "41.3779970519161: customer 24 has waited 0.0\n",
      "42.38364123828435: customer 24: finished\n",
      "44.56531510809104: arrival of customer 25\n",
      "44.56531510809104: customer 25 has waited 0.0\n",
      "45.369105224832495: arrival of customer 26\n",
      "50.336568541332994: arrival of customer 27\n",
      "51.36630227304474: customer 25: finished\n",
      "51.36630227304474: customer 26 has waited 5.997197048212243\n",
      "51.386444920056974: arrival of customer 28\n",
      "53.50045116132811: arrival of customer 29\n",
      "53.58769727319209: customer 26: finished\n",
      "53.58769727319209: customer 27 has waited 3.2511287318590973\n",
      "56.43671315371532: customer 27: finished\n",
      "56.43671315371532: customer 28 has waited 5.050268233658343\n",
      "56.688729597965974: arrival of customer 30\n",
      "56.997188904652: customer 28: finished\n",
      "56.997188904652: customer 29 has waited 3.496737743323891\n",
      "58.34158438761352: arrival of customer 31\n",
      "59.794394950956615: arrival of customer 32\n",
      "59.90546141134882: arrival of customer 33\n",
      "61.075907668572206: customer 29: finished\n",
      "61.075907668572206: customer 30 has waited 4.387178070606232\n",
      "61.86983079561864: customer 30: finished\n",
      "61.86983079561864: customer 31 has waited 3.528246408005117\n",
      "63.745877751713635: customer 31: finished\n",
      "63.745877751713635: customer 32 has waited 3.95148280075702\n",
      "63.94303510475171: arrival of customer 34\n",
      "63.991622460345155: customer 32: finished\n",
      "63.991622460345155: customer 33 has waited 4.086161048996338\n",
      "65.29492656271387: customer 33: finished\n",
      "65.29492656271387: customer 34 has waited 1.3518914579621608\n",
      "65.75760343481906: arrival of customer 35\n",
      "67.97806192132754: arrival of customer 36\n",
      "68.09847653739929: arrival of customer 37\n",
      "68.12269548897538: arrival of customer 38\n",
      "70.41123771713872: arrival of customer 39\n",
      "70.58927932181143: arrival of customer 40\n",
      "72.56985371822248: arrival of customer 41\n",
      "74.27233366311636: arrival of customer 42\n",
      "75.3020558877023: customer 34: finished\n",
      "75.3020558877023: customer 35 has waited 9.544452452883235\n",
      "75.8619195745833: arrival of customer 43\n",
      "76.9572467379724: arrival of customer 44\n",
      "77.38714324810528: customer 35: finished\n",
      "77.38714324810528: customer 36 has waited 9.409081326777738\n",
      "77.80225988039439: customer 36: finished\n",
      "77.80225988039439: customer 37 has waited 9.703783342995095\n",
      "80.7835145831148: arrival of customer 45\n",
      "81.15219632430882: arrival of customer 46\n",
      "82.31023007417035: arrival of customer 47\n",
      "82.40268018632449: customer 37: finished\n",
      "82.40268018632449: customer 38 has waited 14.279984697349107\n",
      "83.15355503235493: customer 38: finished\n",
      "83.15355503235493: customer 39 has waited 12.742317315216212\n",
      "85.87601484091182: arrival of customer 48\n",
      "87.93818804625354: customer 39: finished\n",
      "87.93818804625354: customer 40 has waited 17.34890872444211\n",
      "88.26236406353586: arrival of customer 49\n",
      "89.01771325928615: customer 40: finished\n",
      "89.01771325928615: customer 41 has waited 16.44785954106368\n",
      "91.27236777547041: arrival of customer 50\n",
      "91.75335098650115: arrival of customer 51\n",
      "92.48240839173737: arrival of customer 52\n",
      "92.60502259606143: customer 41: finished\n",
      "92.60502259606143: customer 42 has waited 18.332688932945075\n",
      "92.82544733791134: arrival of customer 53\n",
      "93.05188057024829: customer 42: finished\n",
      "93.05188057024829: customer 43 has waited 17.18996099566499\n",
      "94.1232221344254: customer 43: finished\n",
      "94.1232221344254: customer 44 has waited 17.165975396453007\n",
      "95.18644369935713: customer 44: finished\n",
      "95.18644369935713: customer 45 has waited 14.402929116242333\n",
      "95.29379342158973: arrival of customer 54\n",
      "96.7609137634815: arrival of customer 55\n",
      "97.44128119635081: arrival of customer 56\n",
      "97.49020566065973: customer 45: finished\n",
      "97.49020566065973: customer 46 has waited 16.338009336350908\n",
      "98.21096070701175: arrival of customer 57\n",
      "99.34806666459299: customer 46: finished\n",
      "99.34806666459299: customer 47 has waited 17.037836590422643\n",
      "99.50116227658665: customer 47: finished\n",
      "99.50116227658665: customer 48 has waited 13.625147435674833\n",
      "101.44722684526019: customer 48: finished\n",
      "101.44722684526019: customer 49 has waited 13.184862781724334\n",
      "102.10749596633418: customer 49: finished\n",
      "102.10749596633418: customer 50 has waited 10.83512819086377\n",
      "105.97444678660865: customer 50: finished\n",
      "105.97444678660865: customer 51 has waited 14.221095800107506\n",
      "111.34513843026795: customer 51: finished\n",
      "111.34513843026795: customer 52 has waited 18.862730038530586\n",
      "111.48312461486985: customer 52: finished\n",
      "111.48312461486985: customer 53 has waited 18.65767727695851\n",
      "111.88080527303579: customer 53: finished\n",
      "111.88080527303579: customer 54 has waited 16.587011851446064\n",
      "115.00823848025888: customer 54: finished\n",
      "115.00823848025888: customer 55 has waited 18.247324716777385\n",
      "116.20985507833451: customer 55: finished\n",
      "116.20985507833451: customer 56 has waited 18.7685738819837\n",
      "117.8098092892794: customer 56: finished\n",
      "117.8098092892794: customer 57 has waited 19.59884858226765\n",
      "118.07625654241279: customer 57: finished\n"
     ]
    }
   ],
   "source": [
    "nserved = [ 0 ]\n",
    "waits = zeros(100)\n",
    "Random.seed!(RANDOM_SEED)\n",
    "env = Simulation()\n",
    "counter = Resource(env, 1)\n",
    "\n",
    "@process source2!(env, NEW_CUSTOMERS, INTERVAL_CUSTOMERS, counter, 100.0, nserved)\n",
    "run(env)"
   ]
  },
  {
   "cell_type": "markdown",
   "metadata": {},
   "source": [
    "This raises the question: should we flush the entities in the system at the end of the horizon of allow the entities in the system to complete their process? It depends on the context!\n",
    "\n",
    "In our case, the mean waiting time is"
   ]
  },
  {
   "cell_type": "code",
   "execution_count": 13,
   "metadata": {},
   "outputs": [
    {
     "data": {
      "text/plain": [
       "9.250166221866102"
      ]
     },
     "execution_count": 13,
     "metadata": {},
     "output_type": "execute_result"
    }
   ],
   "source": [
    "mean(waits[10:nserved[1]])"
   ]
  },
  {
   "cell_type": "code",
   "execution_count": 14,
   "metadata": {},
   "outputs": [
    {
     "data": {
      "text/plain": [
       "8.37958449066649"
      ]
     },
     "execution_count": 14,
     "metadata": {},
     "output_type": "execute_result"
    }
   ],
   "source": [
    "mean(waits[1:nserved[1]])"
   ]
  },
  {
   "cell_type": "code",
   "execution_count": 15,
   "metadata": {},
   "outputs": [
    {
     "data": {
      "text/plain": [
       "10.265702791470435"
      ]
     },
     "execution_count": 15,
     "metadata": {},
     "output_type": "execute_result"
    }
   ],
   "source": [
    "mean(waits[20:nserved[1]])"
   ]
  },
  {
   "cell_type": "code",
   "execution_count": 16,
   "metadata": {},
   "outputs": [
    {
     "data": {
      "text/plain": [
       "16.972298792366896"
      ]
     },
     "execution_count": 16,
     "metadata": {},
     "output_type": "execute_result"
    }
   ],
   "source": [
    "mean(waits[50:nserved[1]])"
   ]
  },
  {
   "cell_type": "code",
   "execution_count": 17,
   "metadata": {},
   "outputs": [
    {
     "data": {
      "text/plain": [
       "new_source! (generic function with 1 method)"
      ]
     },
     "execution_count": 17,
     "metadata": {},
     "output_type": "execute_result"
    }
   ],
   "source": [
    "@resumable function new_source!(env::Simulation, interval::Float64, counter::Resource, limit::Float64, nserved::Array{Int64,1})\n",
    "    nserved[1] = 0\n",
    "    i = 0\n",
    "    d = Exponential(interval)\n",
    "    while (true)\n",
    "        @yield timeout(env, rand(d))\n",
    "        if (now(env) > limit) break end\n",
    "        i += 1\n",
    "        @process new_customer(env, i, counter, MEAN_SERVICE, new_waits)\n",
    "    end\n",
    "    nserved[1] = i\n",
    " end"
   ]
  },
  {
   "cell_type": "code",
   "execution_count": 18,
   "metadata": {},
   "outputs": [
    {
     "data": {
      "text/plain": [
       "new_customer (generic function with 1 method)"
      ]
     },
     "execution_count": 18,
     "metadata": {},
     "output_type": "execute_result"
    }
   ],
   "source": [
    "@resumable function new_customer(env::Simulation, idx::Int, counter::Resource, time_in_system::Float64, waits::Array{Float64,1})\n",
    "    # Record the arrival time in the system\n",
    "    arrive = now(env)\n",
    "    println(\"$arrive: arrival of customer $idx\")\n",
    "    @yield request(counter)\n",
    "    # The simulation clock now contains the time when the client goes to the server.\n",
    "    wait = now(env) - arrive\n",
    "    # Record the waiting time\n",
    "    waits = push!(waits, wait)\n",
    "    println(\"$(now(env)): customer $idx has waited $wait\")\n",
    "    @yield timeout(env, rand(Exponential(time_in_system)))\n",
    "    println(\"$(now(env)): customer $idx: finished\")\n",
    "    @yield release(counter)\n",
    "end"
   ]
  },
  {
   "cell_type": "code",
   "execution_count": 19,
   "metadata": {},
   "outputs": [
    {
     "name": "stdout",
     "output_type": "stream",
     "text": [
      "1.2050403125807367: arrival of customer 1\n",
      "1.2050403125807367: customer 1 has waited 0.0\n",
      "1.4181503510677775: arrival of customer 2\n",
      "1.7579446126823792: arrival of customer 3\n",
      "3.3655840436959545: arrival of customer 4\n",
      "3.70641375839329: customer 1: finished\n",
      "3.70641375839329: customer 2 has waited 2.2882634073255126\n",
      "3.7636956918681514: customer 2: finished\n",
      "3.7636956918681514: customer 3 has waited 2.0057510791857722\n",
      "4.581834601908197: customer 3: finished\n",
      "4.581834601908197: customer 4 has waited 1.2162505582122423\n",
      "11.58459018900139: customer 4: finished\n"
     ]
    }
   ],
   "source": [
    "nserved = [ 0 ]\n",
    "Random.seed!(RANDOM_SEED)\n",
    "env = Simulation()\n",
    "counter = Resource(env, 1)\n",
    "new_waits = Float64[]\n",
    "\n",
    "@process new_source!(env, INTERVAL_CUSTOMERS, counter, 5.0, nserved)\n",
    "\n",
    "run(env)"
   ]
  },
  {
   "cell_type": "code",
   "execution_count": 20,
   "metadata": {},
   "outputs": [
    {
     "data": {
      "text/plain": [
       "4-element Vector{Float64}:\n",
       " 0.0\n",
       " 2.2882634073255126\n",
       " 2.0057510791857722\n",
       " 1.2162505582122423"
      ]
     },
     "execution_count": 20,
     "metadata": {},
     "output_type": "execute_result"
    }
   ],
   "source": [
    "new_waits"
   ]
  },
  {
   "cell_type": "code",
   "execution_count": 21,
   "metadata": {},
   "outputs": [
    {
     "data": {
      "text/plain": [
       "4"
      ]
     },
     "execution_count": 21,
     "metadata": {},
     "output_type": "execute_result"
    }
   ],
   "source": [
    "nserved[1]"
   ]
  },
  {
   "cell_type": "code",
   "execution_count": null,
   "metadata": {},
   "outputs": [],
   "source": []
  }
 ],
 "metadata": {
  "kernelspec": {
   "display_name": "Julia 1.9.2",
   "language": "julia",
   "name": "julia-1.9"
  },
  "language_info": {
   "file_extension": ".jl",
   "mimetype": "application/julia",
   "name": "julia",
   "version": "1.6.2"
  }
 },
 "nbformat": 4,
 "nbformat_minor": 1
}
