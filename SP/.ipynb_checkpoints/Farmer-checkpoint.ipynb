{
 "cells": [
  {
   "cell_type": "markdown",
   "metadata": {},
   "source": [
    "# Farmer problem\n",
    "\n",
    "Reference: Birge and Louveaux, \"Introduction to Stochastic Programming\", Chapter 1"
   ]
  },
  {
   "cell_type": "code",
   "execution_count": 1,
   "metadata": {},
   "outputs": [],
   "source": [
    "using JuMP"
   ]
  },
  {
   "cell_type": "code",
   "execution_count": 2,
   "metadata": {},
   "outputs": [],
   "source": [
    "using HiGHS"
   ]
  },
  {
   "cell_type": "markdown",
   "metadata": {},
   "source": [
    "Commercial solvers as `CPLEX` or `Gurobi` can also be used."
   ]
  },
  {
   "cell_type": "markdown",
   "metadata": {},
   "source": [
    "# Average Scenario"
   ]
  },
  {
   "cell_type": "markdown",
   "metadata": {},
   "source": [
    "We construct the model for the average scenario, using first the open-source HiGHS solver (https://highs.info/)."
   ]
  },
  {
   "cell_type": "code",
   "execution_count": 3,
   "metadata": {},
   "outputs": [
    {
     "data": {
      "text/plain": [
       "4-element Vector{Int64}:\n",
       " 170\n",
       " 150\n",
       "  36\n",
       "  10"
      ]
     },
     "execution_count": 3,
     "metadata": {},
     "output_type": "execute_result"
    }
   ],
   "source": [
    "m = Model(HiGHS.Optimizer)\n",
    "\n",
    "crops = [\"Wheat\", \"Corn\", \"Sugar beets\"]\n",
    "ncrops = length(crops)\n",
    "\n",
    "@variable(m, x[1:ncrops] >= 0)\n",
    "@variable(m, y[1:2] >= 0)\n",
    "@variable(m, w[1:4] >= 0)\n",
    "\n",
    "costSeeding = [150, 230, 260]\n",
    "costs = [238, 210]\n",
    "prices = [170, 150, 36, 10]"
   ]
  },
  {
   "cell_type": "markdown",
   "metadata": {},
   "source": [
    "We can check that `m` is a JuMP model by checking its type."
   ]
  },
  {
   "cell_type": "code",
   "execution_count": 4,
   "metadata": {},
   "outputs": [
    {
     "data": {
      "text/plain": [
       "Model\u001b[90m (alias for \u001b[39m\u001b[90mGenericModel{Float64}\u001b[39m\u001b[90m)\u001b[39m"
      ]
     },
     "execution_count": 4,
     "metadata": {},
     "output_type": "execute_result"
    }
   ],
   "source": [
    "typeof(m)"
   ]
  },
  {
   "cell_type": "markdown",
   "metadata": {},
   "source": [
    "We now add the constraints."
   ]
  },
  {
   "cell_type": "code",
   "execution_count": 5,
   "metadata": {},
   "outputs": [
    {
     "data": {
      "text/latex": [
       "$$ x_{1} + x_{2} + x_{3} \\leq 500 $$"
      ],
      "text/plain": [
       "surface : x[1] + x[2] + x[3] <= 500"
      ]
     },
     "execution_count": 5,
     "metadata": {},
     "output_type": "execute_result"
    }
   ],
   "source": [
    "@constraint(m, surface, sum(x[i] for i=1:ncrops) <= 500)"
   ]
  },
  {
   "cell_type": "code",
   "execution_count": 6,
   "metadata": {},
   "outputs": [
    {
     "data": {
      "text/latex": [
       "$$ 2.5 x_{1} + y_{1} - w_{1} \\geq 200 $$"
      ],
      "text/plain": [
       "wheatNeeds : 2.5 x[1] + y[1] - w[1] >= 200"
      ]
     },
     "execution_count": 6,
     "metadata": {},
     "output_type": "execute_result"
    }
   ],
   "source": [
    "@constraint(m, wheatNeeds, 2.5x[1]+y[1]-w[1] >= 200)"
   ]
  },
  {
   "cell_type": "code",
   "execution_count": 7,
   "metadata": {},
   "outputs": [
    {
     "data": {
      "text/latex": [
       "$$ 3 x_{2} + y_{2} - w_{2} \\geq 240 $$"
      ],
      "text/plain": [
       "cornNeeds : 3 x[2] + y[2] - w[2] >= 240"
      ]
     },
     "execution_count": 7,
     "metadata": {},
     "output_type": "execute_result"
    }
   ],
   "source": [
    "@constraint(m, cornNeeds, 3x[2]+y[2]-w[2] >= 240)"
   ]
  },
  {
   "cell_type": "code",
   "execution_count": 8,
   "metadata": {},
   "outputs": [
    {
     "data": {
      "text/latex": [
       "$$ -20 x_{3} + w_{3} + w_{4} \\leq 0 $$"
      ],
      "text/plain": [
       "beetsProd : -20 x[3] + w[3] + w[4] <= 0"
      ]
     },
     "execution_count": 8,
     "metadata": {},
     "output_type": "execute_result"
    }
   ],
   "source": [
    "@constraint(m, beetsProd, w[3]+w[4] <= 20x[3])"
   ]
  },
  {
   "cell_type": "code",
   "execution_count": 9,
   "metadata": {},
   "outputs": [
    {
     "data": {
      "text/latex": [
       "$$ w_{3} \\leq 6000 $$"
      ],
      "text/plain": [
       "beetsQuota : w[3] <= 6000"
      ]
     },
     "execution_count": 9,
     "metadata": {},
     "output_type": "execute_result"
    }
   ],
   "source": [
    "@constraint(m, beetsQuota, w[3] <= 6000)"
   ]
  },
  {
   "cell_type": "markdown",
   "metadata": {},
   "source": [
    "Let's define the objective function. "
   ]
  },
  {
   "cell_type": "code",
   "execution_count": 10,
   "metadata": {},
   "outputs": [
    {
     "data": {
      "text/latex": [
       "$$ 150 x_{1} + 230 x_{2} + 260 x_{3} + 238 y_{1} + 210 y_{2} - 170 w_{1} - 150 w_{2} - 36 w_{3} - 10 w_{4} $$"
      ],
      "text/plain": [
       "150 x[1] + 230 x[2] + 260 x[3] + 238 y[1] + 210 y[2] - 170 w[1] - 150 w[2] - 36 w[3] - 10 w[4]"
      ]
     },
     "execution_count": 10,
     "metadata": {},
     "output_type": "execute_result"
    }
   ],
   "source": [
    "@objective(m, Min, sum(costSeeding[i]*x[i] for i=1:ncrops) + sum(costs[i]*y[i] for i = 1:length(costs))\n",
    "    - (sum(prices[i]*w[i] for i=1:length(prices))))"
   ]
  },
  {
   "cell_type": "markdown",
   "metadata": {},
   "source": [
    "The complete model can be displayed with the command `print`."
   ]
  },
  {
   "cell_type": "code",
   "execution_count": 11,
   "metadata": {
    "scrolled": true
   },
   "outputs": [
    {
     "data": {
      "text/latex": [
       "$$ \\begin{aligned}\n",
       "\\min\\quad & 150 x_{1} + 230 x_{2} + 260 x_{3} + 238 y_{1} + 210 y_{2} - 170 w_{1} - 150 w_{2} - 36 w_{3} - 10 w_{4}\\\\\n",
       "\\text{Subject to} \\quad & 2.5 x_{1} + y_{1} - w_{1} \\geq 200\\\\\n",
       " & 3 x_{2} + y_{2} - w_{2} \\geq 240\\\\\n",
       " & x_{1} + x_{2} + x_{3} \\leq 500\\\\\n",
       " & -20 x_{3} + w_{3} + w_{4} \\leq 0\\\\\n",
       " & w_{3} \\leq 6000\\\\\n",
       " & x_{1} \\geq 0\\\\\n",
       " & x_{2} \\geq 0\\\\\n",
       " & x_{3} \\geq 0\\\\\n",
       " & y_{1} \\geq 0\\\\\n",
       " & y_{2} \\geq 0\\\\\n",
       " & w_{1} \\geq 0\\\\\n",
       " & w_{2} \\geq 0\\\\\n",
       " & w_{3} \\geq 0\\\\\n",
       " & w_{4} \\geq 0\\\\\n",
       "\\end{aligned} $$"
      ]
     },
     "metadata": {},
     "output_type": "display_data"
    }
   ],
   "source": [
    "print(m)"
   ]
  },
  {
   "cell_type": "markdown",
   "metadata": {},
   "source": [
    "We now solve it."
   ]
  },
  {
   "cell_type": "code",
   "execution_count": 12,
   "metadata": {},
   "outputs": [
    {
     "name": "stdout",
     "output_type": "stream",
     "text": [
      "Running HiGHS 1.5.3 [date: 1970-01-01, git hash: 45a127b78]\n",
      "Copyright (c) 2023 HiGHS under MIT licence terms\n",
      "Presolving model\n",
      "4 rows, 9 cols, 12 nonzeros\n",
      "3 rows, 8 cols, 10 nonzeros\n",
      "3 rows, 7 cols, 9 nonzeros\n",
      "Presolve : Reductions: rows 3(-2); columns 7(-2); elements 9(-4)\n",
      "Solving the presolved LP\n",
      "Using EKK dual simplex solver - serial\n",
      "  Iteration        Objective     Infeasibilities num(sum)\n",
      "          0    -6.3999740210e+02 Ph1: 2(2); Du: 2(639.997) 0s\n",
      "          4    -1.1860000000e+05 Pr: 0(0) 0s\n",
      "Solving the original LP from the solution after postsolve\n",
      "Model   status      : Optimal\n",
      "Simplex   iterations: 4\n",
      "Objective value     : -1.1860000000e+05\n",
      "HiGHS run time      :          0.00\n"
     ]
    }
   ],
   "source": [
    "optimize!(m)"
   ]
  },
  {
   "cell_type": "code",
   "execution_count": 13,
   "metadata": {},
   "outputs": [
    {
     "name": "stdout",
     "output_type": "stream",
     "text": [
      "Solution: [120.0, 80.0, 300.0]"
     ]
    }
   ],
   "source": [
    "print(\"Solution: $(value.(x))\")"
   ]
  },
  {
   "cell_type": "code",
   "execution_count": 14,
   "metadata": {},
   "outputs": [
    {
     "name": "stdout",
     "output_type": "stream",
     "text": [
      "search: \u001b[0m\u001b[1mv\u001b[22m\u001b[0m\u001b[1ma\u001b[22m\u001b[0m\u001b[1ml\u001b[22m\u001b[0m\u001b[1mu\u001b[22m\u001b[0m\u001b[1me\u001b[22m \u001b[0m\u001b[1mv\u001b[22m\u001b[0m\u001b[1ma\u001b[22m\u001b[0m\u001b[1ml\u001b[22m\u001b[0m\u001b[1mu\u001b[22m\u001b[0m\u001b[1me\u001b[22ms \u001b[0m\u001b[1mv\u001b[22m\u001b[0m\u001b[1ma\u001b[22m\u001b[0m\u001b[1ml\u001b[22m\u001b[0m\u001b[1mu\u001b[22m\u001b[0m\u001b[1me\u001b[22m_type set_\u001b[0m\u001b[1mv\u001b[22m\u001b[0m\u001b[1ma\u001b[22m\u001b[0m\u001b[1ml\u001b[22m\u001b[0m\u001b[1mu\u001b[22m\u001b[0m\u001b[1me\u001b[22m fix_\u001b[0m\u001b[1mv\u001b[22m\u001b[0m\u001b[1ma\u001b[22m\u001b[0m\u001b[1ml\u001b[22m\u001b[0m\u001b[1mu\u001b[22m\u001b[0m\u001b[1me\u001b[22m has_\u001b[0m\u001b[1mv\u001b[22m\u001b[0m\u001b[1ma\u001b[22m\u001b[0m\u001b[1ml\u001b[22m\u001b[0m\u001b[1mu\u001b[22m\u001b[0m\u001b[1me\u001b[22ms start_\u001b[0m\u001b[1mv\u001b[22m\u001b[0m\u001b[1ma\u001b[22m\u001b[0m\u001b[1ml\u001b[22m\u001b[0m\u001b[1mu\u001b[22m\u001b[0m\u001b[1me\u001b[22m\n",
      "\n"
     ]
    },
    {
     "data": {
      "text/latex": [
       "\\begin{verbatim}\n",
       "value(con_ref::ConstraintRef; result::Int = 1)\n",
       "\\end{verbatim}\n",
       "Return the primal value of constraint \\texttt{con\\_ref} associated with result index \\texttt{result} of the most-recent solution returned by the solver.\n",
       "\n",
       "That is, if \\texttt{con\\_ref} is the reference of a constraint \\texttt{func}-in-\\texttt{set}, it returns the value of \\texttt{func} evaluated at the value of the variables (given by \\href{@ref}{\\texttt{value(::GenericVariableRef)}}).\n",
       "\n",
       "Use \\href{@ref}{\\texttt{has\\_values}} to check if a result exists before asking for values.\n",
       "\n",
       "See also: \\href{@ref}{\\texttt{result\\_count}}.\n",
       "\n",
       "\\subsection{Note}\n",
       "For scalar constraints, the constant is moved to the \\texttt{set} so it is not taken into account in the primal value of the constraint. For instance, the constraint \\texttt{@constraint(model, 2x + 3y + 1 == 5)} is transformed into \\texttt{2x + 3y}-in-\\texttt{MOI.EqualTo(4)} so the value returned by this function is the evaluation of \\texttt{2x + 3y}.\n",
       "\n",
       "\\rule{\\textwidth}{1pt}\n",
       "\\begin{verbatim}\n",
       "value(var_value::Function, con_ref::ConstraintRef)\n",
       "\\end{verbatim}\n",
       "Evaluate the primal value of the constraint \\texttt{con\\_ref} using \\texttt{var\\_value(v)} as the value for each variable \\texttt{v}.\n",
       "\n",
       "\\rule{\\textwidth}{1pt}\n",
       "\\begin{verbatim}\n",
       "value(v::GenericVariableRef; result = 1)\n",
       "\\end{verbatim}\n",
       "Return the value of variable \\texttt{v} associated with result index \\texttt{result} of the most-recent returned by the solver.\n",
       "\n",
       "Use \\href{@ref}{\\texttt{has\\_values}} to check if a result exists before asking for values.\n",
       "\n",
       "See also: \\href{@ref}{\\texttt{result\\_count}}.\n",
       "\n",
       "\\rule{\\textwidth}{1pt}\n",
       "\\begin{verbatim}\n",
       "value(var_value::Function, v::GenericVariableRef)\n",
       "\\end{verbatim}\n",
       "Evaluate the value of the variable \\texttt{v} as \\texttt{var\\_value(v)}.\n",
       "\n",
       "\\rule{\\textwidth}{1pt}\n",
       "\\begin{verbatim}\n",
       "value(var_value::Function, ex::GenericAffExpr)\n",
       "\\end{verbatim}\n",
       "Evaluate \\texttt{ex} using \\texttt{var\\_value(v)} as the value for each variable \\texttt{v}.\n",
       "\n",
       "\\rule{\\textwidth}{1pt}\n",
       "\\begin{verbatim}\n",
       "value(v::GenericAffExpr; result::Int = 1)\n",
       "\\end{verbatim}\n",
       "Return the value of the \\texttt{GenericAffExpr} \\texttt{v} associated with result index \\texttt{result} of the most-recent solution returned by the solver.\n",
       "\n",
       "See also: \\href{@ref}{\\texttt{result\\_count}}.\n",
       "\n",
       "\\rule{\\textwidth}{1pt}\n",
       "\\begin{verbatim}\n",
       "value(var_value::Function, ex::GenericQuadExpr)\n",
       "\\end{verbatim}\n",
       "Evaluate \\texttt{ex} using \\texttt{var\\_value(v)} as the value for each variable \\texttt{v}.\n",
       "\n",
       "\\rule{\\textwidth}{1pt}\n",
       "\\begin{verbatim}\n",
       "value(v::GenericQuadExpr; result::Int = 1)\n",
       "\\end{verbatim}\n",
       "Return the value of the \\texttt{GenericQuadExpr} \\texttt{v} associated with result index \\texttt{result} of the most-recent solution returned by the solver.\n",
       "\n",
       "Replaces \\texttt{getvalue} for most use cases.\n",
       "\n",
       "See also: \\href{@ref}{\\texttt{result\\_count}}.\n",
       "\n",
       "\\rule{\\textwidth}{1pt}\n",
       "\\begin{verbatim}\n",
       "value(p::NonlinearParameter)\n",
       "\\end{verbatim}\n",
       "Return the current value stored in the nonlinear parameter \\texttt{p}.\n",
       "\n",
       "\\subsection{Example}\n",
       "\\begin{verbatim}\n",
       "julia> model = Model();\n",
       "\n",
       "julia> @NLparameter(model, p == 10)\n",
       "p == 10.0\n",
       "\n",
       "julia> value(p)\n",
       "10.0\n",
       "\\end{verbatim}\n",
       "\\rule{\\textwidth}{1pt}\n",
       "\\begin{verbatim}\n",
       "value(ex::NonlinearExpression; result::Int = 1)\n",
       "\\end{verbatim}\n",
       "Return the value of the \\texttt{NonlinearExpression} \\texttt{ex} associated with result index \\texttt{result} of the most-recent solution returned by the solver.\n",
       "\n",
       "Replaces \\texttt{getvalue} for most use cases.\n",
       "\n",
       "See also: \\href{@ref}{\\texttt{result\\_count}}.\n",
       "\n",
       "\\rule{\\textwidth}{1pt}\n",
       "\\begin{verbatim}\n",
       "value(var_value::Function, ex::NonlinearExpression)\n",
       "\\end{verbatim}\n",
       "Evaluate \\texttt{ex} using \\texttt{var\\_value(v)} as the value for each variable \\texttt{v}.\n",
       "\n",
       "\\rule{\\textwidth}{1pt}\n",
       "\\begin{verbatim}\n",
       "value(c::NonlinearConstraintRef; result::Int = 1)\n",
       "\\end{verbatim}\n",
       "Return the value of the \\texttt{NonlinearConstraintRef} \\texttt{c} associated with result index \\texttt{result} of the most-recent solution returned by the solver.\n",
       "\n",
       "See also: \\href{@ref}{\\texttt{result\\_count}}.\n",
       "\n",
       "\\rule{\\textwidth}{1pt}\n",
       "\\begin{verbatim}\n",
       "value(var_value::Function, c::NonlinearConstraintRef)\n",
       "\\end{verbatim}\n",
       "Evaluate \\texttt{c} using \\texttt{var\\_value(v)} as the value for each variable \\texttt{v}.\n",
       "\n"
      ],
      "text/markdown": [
       "```\n",
       "value(con_ref::ConstraintRef; result::Int = 1)\n",
       "```\n",
       "\n",
       "Return the primal value of constraint `con_ref` associated with result index `result` of the most-recent solution returned by the solver.\n",
       "\n",
       "That is, if `con_ref` is the reference of a constraint `func`-in-`set`, it returns the value of `func` evaluated at the value of the variables (given by [`value(::GenericVariableRef)`](@ref)).\n",
       "\n",
       "Use [`has_values`](@ref) to check if a result exists before asking for values.\n",
       "\n",
       "See also: [`result_count`](@ref).\n",
       "\n",
       "## Note\n",
       "\n",
       "For scalar constraints, the constant is moved to the `set` so it is not taken into account in the primal value of the constraint. For instance, the constraint `@constraint(model, 2x + 3y + 1 == 5)` is transformed into `2x + 3y`-in-`MOI.EqualTo(4)` so the value returned by this function is the evaluation of `2x + 3y`.\n",
       "\n",
       "---\n",
       "\n",
       "```\n",
       "value(var_value::Function, con_ref::ConstraintRef)\n",
       "```\n",
       "\n",
       "Evaluate the primal value of the constraint `con_ref` using `var_value(v)` as the value for each variable `v`.\n",
       "\n",
       "---\n",
       "\n",
       "```\n",
       "value(v::GenericVariableRef; result = 1)\n",
       "```\n",
       "\n",
       "Return the value of variable `v` associated with result index `result` of the most-recent returned by the solver.\n",
       "\n",
       "Use [`has_values`](@ref) to check if a result exists before asking for values.\n",
       "\n",
       "See also: [`result_count`](@ref).\n",
       "\n",
       "---\n",
       "\n",
       "```\n",
       "value(var_value::Function, v::GenericVariableRef)\n",
       "```\n",
       "\n",
       "Evaluate the value of the variable `v` as `var_value(v)`.\n",
       "\n",
       "---\n",
       "\n",
       "```\n",
       "value(var_value::Function, ex::GenericAffExpr)\n",
       "```\n",
       "\n",
       "Evaluate `ex` using `var_value(v)` as the value for each variable `v`.\n",
       "\n",
       "---\n",
       "\n",
       "```\n",
       "value(v::GenericAffExpr; result::Int = 1)\n",
       "```\n",
       "\n",
       "Return the value of the `GenericAffExpr` `v` associated with result index `result` of the most-recent solution returned by the solver.\n",
       "\n",
       "See also: [`result_count`](@ref).\n",
       "\n",
       "---\n",
       "\n",
       "```\n",
       "value(var_value::Function, ex::GenericQuadExpr)\n",
       "```\n",
       "\n",
       "Evaluate `ex` using `var_value(v)` as the value for each variable `v`.\n",
       "\n",
       "---\n",
       "\n",
       "```\n",
       "value(v::GenericQuadExpr; result::Int = 1)\n",
       "```\n",
       "\n",
       "Return the value of the `GenericQuadExpr` `v` associated with result index `result` of the most-recent solution returned by the solver.\n",
       "\n",
       "Replaces `getvalue` for most use cases.\n",
       "\n",
       "See also: [`result_count`](@ref).\n",
       "\n",
       "---\n",
       "\n",
       "```\n",
       "value(p::NonlinearParameter)\n",
       "```\n",
       "\n",
       "Return the current value stored in the nonlinear parameter `p`.\n",
       "\n",
       "## Example\n",
       "\n",
       "```jldoctest\n",
       "julia> model = Model();\n",
       "\n",
       "julia> @NLparameter(model, p == 10)\n",
       "p == 10.0\n",
       "\n",
       "julia> value(p)\n",
       "10.0\n",
       "```\n",
       "\n",
       "---\n",
       "\n",
       "```\n",
       "value(ex::NonlinearExpression; result::Int = 1)\n",
       "```\n",
       "\n",
       "Return the value of the `NonlinearExpression` `ex` associated with result index `result` of the most-recent solution returned by the solver.\n",
       "\n",
       "Replaces `getvalue` for most use cases.\n",
       "\n",
       "See also: [`result_count`](@ref).\n",
       "\n",
       "---\n",
       "\n",
       "```\n",
       "value(var_value::Function, ex::NonlinearExpression)\n",
       "```\n",
       "\n",
       "Evaluate `ex` using `var_value(v)` as the value for each variable `v`.\n",
       "\n",
       "---\n",
       "\n",
       "```\n",
       "value(c::NonlinearConstraintRef; result::Int = 1)\n",
       "```\n",
       "\n",
       "Return the value of the `NonlinearConstraintRef` `c` associated with result index `result` of the most-recent solution returned by the solver.\n",
       "\n",
       "See also: [`result_count`](@ref).\n",
       "\n",
       "---\n",
       "\n",
       "```\n",
       "value(var_value::Function, c::NonlinearConstraintRef)\n",
       "```\n",
       "\n",
       "Evaluate `c` using `var_value(v)` as the value for each variable `v`.\n"
      ],
      "text/plain": [
       "\u001b[36m  value(con_ref::ConstraintRef; result::Int = 1)\u001b[39m\n",
       "\n",
       "  Return the primal value of constraint \u001b[36mcon_ref\u001b[39m associated with result index\n",
       "  \u001b[36mresult\u001b[39m of the most-recent solution returned by the solver.\n",
       "\n",
       "  That is, if \u001b[36mcon_ref\u001b[39m is the reference of a constraint \u001b[36mfunc\u001b[39m-in-\u001b[36mset\u001b[39m, it returns\n",
       "  the value of \u001b[36mfunc\u001b[39m evaluated at the value of the variables (given by\n",
       "  \u001b[36mvalue(::GenericVariableRef)\u001b[39m).\n",
       "\n",
       "  Use \u001b[36mhas_values\u001b[39m to check if a result exists before asking for values.\n",
       "\n",
       "  See also: \u001b[36mresult_count\u001b[39m.\n",
       "\n",
       "\u001b[1m  Note\u001b[22m\n",
       "\u001b[1m  ======\u001b[22m\n",
       "\n",
       "  For scalar constraints, the constant is moved to the \u001b[36mset\u001b[39m so it is not taken\n",
       "  into account in the primal value of the constraint. For instance, the\n",
       "  constraint \u001b[36m@constraint(model, 2x + 3y + 1 == 5)\u001b[39m is transformed into \u001b[36m2x +\n",
       "  3y\u001b[39m-in-\u001b[36mMOI.EqualTo(4)\u001b[39m so the value returned by this function is the\n",
       "  evaluation of \u001b[36m2x + 3y\u001b[39m.\n",
       "\n",
       "  ────────────────────────────────────────────────────────────────────────────\n",
       "\n",
       "\u001b[36m  value(var_value::Function, con_ref::ConstraintRef)\u001b[39m\n",
       "\n",
       "  Evaluate the primal value of the constraint \u001b[36mcon_ref\u001b[39m using \u001b[36mvar_value(v)\u001b[39m as\n",
       "  the value for each variable \u001b[36mv\u001b[39m.\n",
       "\n",
       "  ────────────────────────────────────────────────────────────────────────────\n",
       "\n",
       "\u001b[36m  value(v::GenericVariableRef; result = 1)\u001b[39m\n",
       "\n",
       "  Return the value of variable \u001b[36mv\u001b[39m associated with result index \u001b[36mresult\u001b[39m of the\n",
       "  most-recent returned by the solver.\n",
       "\n",
       "  Use \u001b[36mhas_values\u001b[39m to check if a result exists before asking for values.\n",
       "\n",
       "  See also: \u001b[36mresult_count\u001b[39m.\n",
       "\n",
       "  ────────────────────────────────────────────────────────────────────────────\n",
       "\n",
       "\u001b[36m  value(var_value::Function, v::GenericVariableRef)\u001b[39m\n",
       "\n",
       "  Evaluate the value of the variable \u001b[36mv\u001b[39m as \u001b[36mvar_value(v)\u001b[39m.\n",
       "\n",
       "  ────────────────────────────────────────────────────────────────────────────\n",
       "\n",
       "\u001b[36m  value(var_value::Function, ex::GenericAffExpr)\u001b[39m\n",
       "\n",
       "  Evaluate \u001b[36mex\u001b[39m using \u001b[36mvar_value(v)\u001b[39m as the value for each variable \u001b[36mv\u001b[39m.\n",
       "\n",
       "  ────────────────────────────────────────────────────────────────────────────\n",
       "\n",
       "\u001b[36m  value(v::GenericAffExpr; result::Int = 1)\u001b[39m\n",
       "\n",
       "  Return the value of the \u001b[36mGenericAffExpr\u001b[39m \u001b[36mv\u001b[39m associated with result index \u001b[36mresult\u001b[39m\n",
       "  of the most-recent solution returned by the solver.\n",
       "\n",
       "  See also: \u001b[36mresult_count\u001b[39m.\n",
       "\n",
       "  ────────────────────────────────────────────────────────────────────────────\n",
       "\n",
       "\u001b[36m  value(var_value::Function, ex::GenericQuadExpr)\u001b[39m\n",
       "\n",
       "  Evaluate \u001b[36mex\u001b[39m using \u001b[36mvar_value(v)\u001b[39m as the value for each variable \u001b[36mv\u001b[39m.\n",
       "\n",
       "  ────────────────────────────────────────────────────────────────────────────\n",
       "\n",
       "\u001b[36m  value(v::GenericQuadExpr; result::Int = 1)\u001b[39m\n",
       "\n",
       "  Return the value of the \u001b[36mGenericQuadExpr\u001b[39m \u001b[36mv\u001b[39m associated with result index\n",
       "  \u001b[36mresult\u001b[39m of the most-recent solution returned by the solver.\n",
       "\n",
       "  Replaces \u001b[36mgetvalue\u001b[39m for most use cases.\n",
       "\n",
       "  See also: \u001b[36mresult_count\u001b[39m.\n",
       "\n",
       "  ────────────────────────────────────────────────────────────────────────────\n",
       "\n",
       "\u001b[36m  value(p::NonlinearParameter)\u001b[39m\n",
       "\n",
       "  Return the current value stored in the nonlinear parameter \u001b[36mp\u001b[39m.\n",
       "\n",
       "\u001b[1m  Example\u001b[22m\n",
       "\u001b[1m  =========\u001b[22m\n",
       "\n",
       "\u001b[36m  julia> model = Model();\u001b[39m\n",
       "\u001b[36m  \u001b[39m\n",
       "\u001b[36m  julia> @NLparameter(model, p == 10)\u001b[39m\n",
       "\u001b[36m  p == 10.0\u001b[39m\n",
       "\u001b[36m  \u001b[39m\n",
       "\u001b[36m  julia> value(p)\u001b[39m\n",
       "\u001b[36m  10.0\u001b[39m\n",
       "\n",
       "  ────────────────────────────────────────────────────────────────────────────\n",
       "\n",
       "\u001b[36m  value(ex::NonlinearExpression; result::Int = 1)\u001b[39m\n",
       "\n",
       "  Return the value of the \u001b[36mNonlinearExpression\u001b[39m \u001b[36mex\u001b[39m associated with result index\n",
       "  \u001b[36mresult\u001b[39m of the most-recent solution returned by the solver.\n",
       "\n",
       "  Replaces \u001b[36mgetvalue\u001b[39m for most use cases.\n",
       "\n",
       "  See also: \u001b[36mresult_count\u001b[39m.\n",
       "\n",
       "  ────────────────────────────────────────────────────────────────────────────\n",
       "\n",
       "\u001b[36m  value(var_value::Function, ex::NonlinearExpression)\u001b[39m\n",
       "\n",
       "  Evaluate \u001b[36mex\u001b[39m using \u001b[36mvar_value(v)\u001b[39m as the value for each variable \u001b[36mv\u001b[39m.\n",
       "\n",
       "  ────────────────────────────────────────────────────────────────────────────\n",
       "\n",
       "\u001b[36m  value(c::NonlinearConstraintRef; result::Int = 1)\u001b[39m\n",
       "\n",
       "  Return the value of the \u001b[36mNonlinearConstraintRef\u001b[39m \u001b[36mc\u001b[39m associated with result\n",
       "  index \u001b[36mresult\u001b[39m of the most-recent solution returned by the solver.\n",
       "\n",
       "  See also: \u001b[36mresult_count\u001b[39m.\n",
       "\n",
       "  ────────────────────────────────────────────────────────────────────────────\n",
       "\n",
       "\u001b[36m  value(var_value::Function, c::NonlinearConstraintRef)\u001b[39m\n",
       "\n",
       "  Evaluate \u001b[36mc\u001b[39m using \u001b[36mvar_value(v)\u001b[39m as the value for each variable \u001b[36mv\u001b[39m."
      ]
     },
     "execution_count": 14,
     "metadata": {},
     "output_type": "execute_result"
    }
   ],
   "source": [
    "? value"
   ]
  },
  {
   "cell_type": "code",
   "execution_count": 15,
   "metadata": {},
   "outputs": [
    {
     "data": {
      "text/html": [
       "# 17 methods for generic function <b>value</b> from \u001b[35mJuMP\u001b[39m:<ul><li> value(c::<b>NonlinearConstraintRef</b>; <i>result</i>) in JuMP at <a href=\"file://C:/Users/slash/.julia/packages/JuMP/mvUVO/src/nlp.jl\" target=\"_blank\">C:\\Users\\slash\\.julia\\packages\\JuMP\\mvUVO\\src\\nlp.jl:534</a></li> <li> value(con_ref::<b>ConstraintRef{<:AbstractModel, <:MathOptInterface.ConstraintIndex}</b>; <i>result</i>) in JuMP at <a href=\"file://C:/Users/slash/.julia/packages/JuMP/mvUVO/src/constraints.jl\" target=\"_blank\">C:\\Users\\slash\\.julia\\packages\\JuMP\\mvUVO\\src\\constraints.jl:1000</a></li> <li> value(ex::<b>GenericQuadExpr</b>; <i>result</i>) in JuMP at <a href=\"file://C:/Users/slash/.julia/packages/JuMP/mvUVO/src/quad_expr.jl\" target=\"_blank\">C:\\Users\\slash\\.julia\\packages\\JuMP\\mvUVO\\src\\quad_expr.jl:737</a></li> <li> value(var_value::<b>Function</b>, v::<b>GenericVariableRef</b>) in JuMP at <a href=\"file://C:/Users/slash/.julia/packages/JuMP/mvUVO/src/variables.jl\" target=\"_blank\">C:\\Users\\slash\\.julia\\packages\\JuMP\\mvUVO\\src\\variables.jl:1305</a></li> <li> value(var_value::<b>Function</b>, ex::<b>GenericAffExpr{T, V}</b>)<i> where {T, V}</i> in JuMP at <a href=\"file://C:/Users/slash/.julia/packages/JuMP/mvUVO/src/aff_expr.jl\" target=\"_blank\">C:\\Users\\slash\\.julia\\packages\\JuMP\\mvUVO\\src\\aff_expr.jl:344</a></li> <li> value(var_value::<b>Function</b>, ex::<b>GenericQuadExpr{CoefType, VarType}</b>)<i> where {CoefType, VarType}</i> in JuMP at <a href=\"file://C:/Users/slash/.julia/packages/JuMP/mvUVO/src/quad_expr.jl\" target=\"_blank\">C:\\Users\\slash\\.julia\\packages\\JuMP\\mvUVO\\src\\quad_expr.jl:711</a></li> <li> value(var_value::<b>Function</b>, ex::<b>NonlinearExpression</b>) in JuMP at <a href=\"file://C:/Users/slash/.julia/packages/JuMP/mvUVO/src/nlp.jl\" target=\"_blank\">C:\\Users\\slash\\.julia\\packages\\JuMP\\mvUVO\\src\\nlp.jl:381</a></li> <li> value(var_value::<b>Function</b>, c::<b>NonlinearConstraintRef</b>) in JuMP at <a href=\"file://C:/Users/slash/.julia/packages/JuMP/mvUVO/src/nlp.jl\" target=\"_blank\">C:\\Users\\slash\\.julia\\packages\\JuMP\\mvUVO\\src\\nlp.jl:545</a></li> <li> value(var_value::<b>Function</b>, con_ref::<b>ConstraintRef{<:AbstractModel, <:MathOptInterface.ConstraintIndex}</b>) in JuMP at <a href=\"file://C:/Users/slash/.julia/packages/JuMP/mvUVO/src/constraints.jl\" target=\"_blank\">C:\\Users\\slash\\.julia\\packages\\JuMP\\mvUVO\\src\\constraints.jl:1013</a></li> <li> value(a::<b>GenericAffExpr</b>; <i>result</i>) in JuMP at <a href=\"file://C:/Users/slash/.julia/packages/JuMP/mvUVO/src/aff_expr.jl\" target=\"_blank\">C:\\Users\\slash\\.julia\\packages\\JuMP\\mvUVO\\src\\aff_expr.jl:610</a></li> <li> value(v::<b>GenericVariableRef{T}</b>; <i>result</i>)<i> where T</i> in JuMP at <a href=\"file://C:/Users/slash/.julia/packages/JuMP/mvUVO/src/variables.jl\" target=\"_blank\">C:\\Users\\slash\\.julia\\packages\\JuMP\\mvUVO\\src\\variables.jl:1296</a></li> <li> value(Q::<b>LinearAlgebra.Symmetric{V, Matrix{V}}</b>)<i> where V<:AbstractVariableRef</i> in JuMP at <a href=\"file://C:/Users/slash/.julia/packages/JuMP/mvUVO/src/sd.jl\" target=\"_blank\">C:\\Users\\slash\\.julia\\packages\\JuMP\\mvUVO\\src\\sd.jl:404</a></li> <li> value(::<b>AbstractArray{<:AbstractJuMPScalar}</b>) in JuMP at <a href=\"file://C:/Users/slash/.julia/packages/JuMP/mvUVO/src/variables.jl\" target=\"_blank\">C:\\Users\\slash\\.julia\\packages\\JuMP\\mvUVO\\src\\variables.jl:1773</a></li> <li> value(x::<b>Number</b>) in JuMP at <a href=\"file://C:/Users/slash/.julia/packages/JuMP/mvUVO/src/variables.jl\" target=\"_blank\">C:\\Users\\slash\\.julia\\packages\\JuMP\\mvUVO\\src\\variables.jl:1781</a></li> <li> value(ex::<b>NonlinearExpression</b>; <i>result</i>) in JuMP at <a href=\"file://C:/Users/slash/.julia/packages/JuMP/mvUVO/src/nlp.jl\" target=\"_blank\">C:\\Users\\slash\\.julia\\packages\\JuMP\\mvUVO\\src\\nlp.jl:346</a></li> <li> value(::<b>MutableArithmetics.Zero</b>) in JuMP at <a href=\"file://C:/Users/slash/.julia/packages/JuMP/mvUVO/src/variables.jl\" target=\"_blank\">C:\\Users\\slash\\.julia\\packages\\JuMP\\mvUVO\\src\\variables.jl:1780</a></li> <li> value(p::<b>NonlinearParameter</b>) in JuMP at <a href=\"file://C:/Users/slash/.julia/packages/JuMP/mvUVO/src/nlp.jl\" target=\"_blank\">C:\\Users\\slash\\.julia\\packages\\JuMP\\mvUVO\\src\\nlp.jl:245</a></li> </ul>"
      ],
      "text/plain": [
       "# 17 methods for generic function \"value\" from \u001b[35mJuMP\u001b[39m:\n",
       "  [1] value(\u001b[90mc\u001b[39m::\u001b[1mNonlinearConstraintRef\u001b[22m; result)\n",
       "\u001b[90m     @\u001b[39m \u001b[90mC:\\Users\\slash\\.julia\\packages\\JuMP\\mvUVO\\src\\\u001b[39m\u001b[90m\u001b[4mnlp.jl:534\u001b[24m\u001b[39m\n",
       "  [2] value(\u001b[90mcon_ref\u001b[39m::\u001b[1mConstraintRef\u001b[22m\u001b[0m{<:AbstractModel, <:MathOptInterface.ConstraintIndex}; result)\n",
       "\u001b[90m     @\u001b[39m \u001b[90mC:\\Users\\slash\\.julia\\packages\\JuMP\\mvUVO\\src\\\u001b[39m\u001b[90m\u001b[4mconstraints.jl:1000\u001b[24m\u001b[39m\n",
       "  [3] value(\u001b[90mex\u001b[39m::\u001b[1mGenericQuadExpr\u001b[22m; result)\n",
       "\u001b[90m     @\u001b[39m \u001b[90mC:\\Users\\slash\\.julia\\packages\\JuMP\\mvUVO\\src\\\u001b[39m\u001b[90m\u001b[4mquad_expr.jl:737\u001b[24m\u001b[39m\n",
       "  [4] value(\u001b[90mvar_value\u001b[39m::\u001b[1mFunction\u001b[22m, \u001b[90mv\u001b[39m::\u001b[1mGenericVariableRef\u001b[22m)\n",
       "\u001b[90m     @\u001b[39m \u001b[90mC:\\Users\\slash\\.julia\\packages\\JuMP\\mvUVO\\src\\\u001b[39m\u001b[90m\u001b[4mvariables.jl:1305\u001b[24m\u001b[39m\n",
       "  [5] value(\u001b[90mvar_value\u001b[39m::\u001b[1mFunction\u001b[22m, \u001b[90mex\u001b[39m::\u001b[1mGenericAffExpr\u001b[22m\u001b[0m{T, V}) where {T, V}\n",
       "\u001b[90m     @\u001b[39m \u001b[90mC:\\Users\\slash\\.julia\\packages\\JuMP\\mvUVO\\src\\\u001b[39m\u001b[90m\u001b[4maff_expr.jl:344\u001b[24m\u001b[39m\n",
       "  [6] value(\u001b[90mvar_value\u001b[39m::\u001b[1mFunction\u001b[22m, \u001b[90mex\u001b[39m::\u001b[1mGenericQuadExpr\u001b[22m\u001b[0m{CoefType, VarType}) where {CoefType, VarType}\n",
       "\u001b[90m     @\u001b[39m \u001b[90mC:\\Users\\slash\\.julia\\packages\\JuMP\\mvUVO\\src\\\u001b[39m\u001b[90m\u001b[4mquad_expr.jl:711\u001b[24m\u001b[39m\n",
       "  [7] value(\u001b[90mvar_value\u001b[39m::\u001b[1mFunction\u001b[22m, \u001b[90mex\u001b[39m::\u001b[1mNonlinearExpression\u001b[22m)\n",
       "\u001b[90m     @\u001b[39m \u001b[90mC:\\Users\\slash\\.julia\\packages\\JuMP\\mvUVO\\src\\\u001b[39m\u001b[90m\u001b[4mnlp.jl:381\u001b[24m\u001b[39m\n",
       "  [8] value(\u001b[90mvar_value\u001b[39m::\u001b[1mFunction\u001b[22m, \u001b[90mc\u001b[39m::\u001b[1mNonlinearConstraintRef\u001b[22m)\n",
       "\u001b[90m     @\u001b[39m \u001b[90mC:\\Users\\slash\\.julia\\packages\\JuMP\\mvUVO\\src\\\u001b[39m\u001b[90m\u001b[4mnlp.jl:545\u001b[24m\u001b[39m\n",
       "  [9] value(\u001b[90mvar_value\u001b[39m::\u001b[1mFunction\u001b[22m, \u001b[90mcon_ref\u001b[39m::\u001b[1mConstraintRef\u001b[22m\u001b[0m{<:AbstractModel, <:MathOptInterface.ConstraintIndex})\n",
       "\u001b[90m     @\u001b[39m \u001b[90mC:\\Users\\slash\\.julia\\packages\\JuMP\\mvUVO\\src\\\u001b[39m\u001b[90m\u001b[4mconstraints.jl:1013\u001b[24m\u001b[39m\n",
       " [10] value(\u001b[90ma\u001b[39m::\u001b[1mGenericAffExpr\u001b[22m; result)\n",
       "\u001b[90m     @\u001b[39m \u001b[90mC:\\Users\\slash\\.julia\\packages\\JuMP\\mvUVO\\src\\\u001b[39m\u001b[90m\u001b[4maff_expr.jl:610\u001b[24m\u001b[39m\n",
       " [11] value(\u001b[90mv\u001b[39m::\u001b[1mGenericVariableRef\u001b[22m\u001b[0m{T}; result) where T\n",
       "\u001b[90m     @\u001b[39m \u001b[90mC:\\Users\\slash\\.julia\\packages\\JuMP\\mvUVO\\src\\\u001b[39m\u001b[90m\u001b[4mvariables.jl:1296\u001b[24m\u001b[39m\n",
       " [12] value(\u001b[90mQ\u001b[39m::\u001b[1mLinearAlgebra.Symmetric\u001b[22m\u001b[0m{V, Matrix{V}}) where V<:AbstractVariableRef\n",
       "\u001b[90m     @\u001b[39m \u001b[90mC:\\Users\\slash\\.julia\\packages\\JuMP\\mvUVO\\src\\\u001b[39m\u001b[90m\u001b[4msd.jl:404\u001b[24m\u001b[39m\n",
       " [13] value(::\u001b[1mAbstractArray\u001b[22m\u001b[0m{<:AbstractJuMPScalar})\n",
       "\u001b[90m     @\u001b[39m \u001b[90mC:\\Users\\slash\\.julia\\packages\\JuMP\\mvUVO\\src\\\u001b[39m\u001b[90m\u001b[4mvariables.jl:1773\u001b[24m\u001b[39m\n",
       " [14] value(\u001b[90mx\u001b[39m::\u001b[1mNumber\u001b[22m)\n",
       "\u001b[90m     @\u001b[39m \u001b[90mC:\\Users\\slash\\.julia\\packages\\JuMP\\mvUVO\\src\\\u001b[39m\u001b[90m\u001b[4mvariables.jl:1781\u001b[24m\u001b[39m\n",
       " [15] value(\u001b[90mex\u001b[39m::\u001b[1mNonlinearExpression\u001b[22m; result)\n",
       "\u001b[90m     @\u001b[39m \u001b[90mC:\\Users\\slash\\.julia\\packages\\JuMP\\mvUVO\\src\\\u001b[39m\u001b[90m\u001b[4mnlp.jl:346\u001b[24m\u001b[39m\n",
       " [16] value(::\u001b[1mMutableArithmetics.Zero\u001b[22m)\n",
       "\u001b[90m     @\u001b[39m \u001b[90mC:\\Users\\slash\\.julia\\packages\\JuMP\\mvUVO\\src\\\u001b[39m\u001b[90m\u001b[4mvariables.jl:1780\u001b[24m\u001b[39m\n",
       " [17] value(\u001b[90mp\u001b[39m::\u001b[1mNonlinearParameter\u001b[22m)\n",
       "\u001b[90m     @\u001b[39m \u001b[90mC:\\Users\\slash\\.julia\\packages\\JuMP\\mvUVO\\src\\\u001b[39m\u001b[90m\u001b[4mnlp.jl:245\u001b[24m\u001b[39m"
      ]
     },
     "execution_count": 15,
     "metadata": {},
     "output_type": "execute_result"
    }
   ],
   "source": [
    "methods(value)"
   ]
  },
  {
   "cell_type": "markdown",
   "metadata": {},
   "source": [
    "We will summarize the solution approach using a Julia function."
   ]
  },
  {
   "cell_type": "code",
   "execution_count": 16,
   "metadata": {},
   "outputs": [
    {
     "data": {
      "text/plain": [
       "farmer (generic function with 3 methods)"
      ]
     },
     "execution_count": 16,
     "metadata": {},
     "output_type": "execute_result"
    }
   ],
   "source": [
    "function farmer(factor::Float64 = 1.0, m::Model = Model(HiGHS.Optimizer))\n",
    "    crops = [\"Wheat\", \"Corn\", \"Suger beets\"]\n",
    "    ncrops = length(crops)\n",
    "\n",
    "    @variable(m, x[1:ncrops] >= 0)\n",
    "    @variable(m, y[1:2] >= 0)\n",
    "    @variable(m, w[1:4] >= 0)\n",
    "\n",
    "    costSeeding = [150, 230, 260]\n",
    "    costs = [238, 210]\n",
    "    prices = [170, 150, 36, 10]\n",
    "    returns = factor*[2.5, 3, 20]\n",
    "\n",
    "    @constraint(m, surface, sum(x[i] for i=1:3) <= 500)\n",
    "\n",
    "    @constraint(m, wheatNeeds, returns[1]x[1]+y[1]-w[1] >= 200)\n",
    "    @constraint(m, cornNeeds, returns[2]x[2]+y[2]-w[2] >= 240)\n",
    "    @constraint(m, beetsProd, w[3]+w[4] <= returns[3]x[3])\n",
    "    @constraint(m, beetsQuota, w[3] <= 6000)\n",
    "\n",
    "    @objective(m,Min,sum(costSeeding[i]*x[i] for i=1:3) + sum(costs[i]*y[i] for i = 1:length(costs))\n",
    "    - (sum(prices[i]*w[i] for i=1:length(prices))))\n",
    "    \n",
    "    status = optimize!(m)\n",
    "\n",
    "    # println(value.(x))\n",
    "\n",
    "    return m, status\n",
    "end"
   ]
  },
  {
   "cell_type": "code",
   "execution_count": 17,
   "metadata": {},
   "outputs": [
    {
     "data": {
      "text/html": [
       "# 3 methods for generic function <b>farmer</b> from \u001b[36mMain\u001b[39m:<ul><li> farmer() in Main at In[16]:1</li> <li> farmer(factor::<b>Float64</b>) in Main at In[16]:1</li> <li> farmer(factor::<b>Float64</b>, m::<b>Model</b>) in Main at In[16]:1</li> </ul>"
      ],
      "text/plain": [
       "# 3 methods for generic function \"farmer\" from \u001b[36mMain\u001b[39m:\n",
       " [1] farmer()\n",
       "\u001b[90m     @\u001b[39m \u001b[90m\u001b[4mIn[16]:1\u001b[24m\u001b[39m\n",
       " [2] farmer(\u001b[90mfactor\u001b[39m::\u001b[1mFloat64\u001b[22m)\n",
       "\u001b[90m     @\u001b[39m \u001b[90m\u001b[4mIn[16]:1\u001b[24m\u001b[39m\n",
       " [3] farmer(\u001b[90mfactor\u001b[39m::\u001b[1mFloat64\u001b[22m, \u001b[90mm\u001b[39m::\u001b[1mModel\u001b[22m)\n",
       "\u001b[90m     @\u001b[39m \u001b[90m\u001b[4mIn[16]:1\u001b[24m\u001b[39m"
      ]
     },
     "execution_count": 17,
     "metadata": {},
     "output_type": "execute_result"
    }
   ],
   "source": [
    "methods(farmer)"
   ]
  },
  {
   "cell_type": "code",
   "execution_count": 18,
   "metadata": {},
   "outputs": [
    {
     "name": "stdout",
     "output_type": "stream",
     "text": [
      "Running HiGHS 1.5.3 [date: 1970-01-01, git hash: 45a127b78]\n",
      "Copyright (c) 2023 HiGHS under MIT licence terms\n",
      "Presolving model\n",
      "4 rows, 9 cols, 12 nonzeros\n",
      "3 rows, 8 cols, 10 nonzeros\n",
      "3 rows, 7 cols, 9 nonzeros\n",
      "Presolve : Reductions: rows 3(-2); columns 7(-2); elements 9(-4)\n",
      "Solving the presolved LP\n",
      "Using EKK dual simplex solver - serial\n",
      "  Iteration        Objective     Infeasibilities num(sum)\n",
      "          0    -6.3999740210e+02 Ph1: 2(2); Du: 2(639.997) 0s\n",
      "          4    -1.1860000000e+05 Pr: 0(0) 0s\n",
      "Solving the original LP from the solution after postsolve\n",
      "Model   status      : Optimal\n",
      "Simplex   iterations: 4\n",
      "Objective value     : -1.1860000000e+05\n",
      "HiGHS run time      :          0.00\n"
     ]
    },
    {
     "data": {
      "text/plain": [
       "(A JuMP Model\n",
       "Minimization problem with:\n",
       "Variables: 9\n",
       "Objective function type: AffExpr\n",
       "`AffExpr`-in-`MathOptInterface.GreaterThan{Float64}`: 2 constraints\n",
       "`AffExpr`-in-`MathOptInterface.LessThan{Float64}`: 3 constraints\n",
       "`VariableRef`-in-`MathOptInterface.GreaterThan{Float64}`: 9 constraints\n",
       "Model mode: AUTOMATIC\n",
       "CachingOptimizer state: ATTACHED_OPTIMIZER\n",
       "Solver name: HiGHS\n",
       "Names registered in the model: beetsProd, beetsQuota, cornNeeds, surface, w, wheatNeeds, x, y, nothing)"
      ]
     },
     "execution_count": 18,
     "metadata": {},
     "output_type": "execute_result"
    }
   ],
   "source": [
    "maverage, status = farmer()"
   ]
  },
  {
   "cell_type": "code",
   "execution_count": 19,
   "metadata": {},
   "outputs": [
    {
     "data": {
      "text/plain": [
       "A JuMP Model\n",
       "Minimization problem with:\n",
       "Variables: 9\n",
       "Objective function type: AffExpr\n",
       "`AffExpr`-in-`MathOptInterface.GreaterThan{Float64}`: 2 constraints\n",
       "`AffExpr`-in-`MathOptInterface.LessThan{Float64}`: 3 constraints\n",
       "`VariableRef`-in-`MathOptInterface.GreaterThan{Float64}`: 9 constraints\n",
       "Model mode: AUTOMATIC\n",
       "CachingOptimizer state: ATTACHED_OPTIMIZER\n",
       "Solver name: HiGHS\n",
       "Names registered in the model: beetsProd, beetsQuota, cornNeeds, surface, w, wheatNeeds, x, y"
      ]
     },
     "execution_count": 19,
     "metadata": {},
     "output_type": "execute_result"
    }
   ],
   "source": [
    "maverage"
   ]
  },
  {
   "cell_type": "code",
   "execution_count": 20,
   "metadata": {},
   "outputs": [
    {
     "data": {
      "text/latex": [
       "$$ \\begin{aligned}\n",
       "\\min\\quad & 150 x_{1} + 230 x_{2} + 260 x_{3} + 238 y_{1} + 210 y_{2} - 170 w_{1} - 150 w_{2} - 36 w_{3} - 10 w_{4}\\\\\n",
       "\\text{Subject to} \\quad & 2.5 x_{1} + y_{1} - w_{1} \\geq 200\\\\\n",
       " & 3 x_{2} + y_{2} - w_{2} \\geq 240\\\\\n",
       " & x_{1} + x_{2} + x_{3} \\leq 500\\\\\n",
       " & -20 x_{3} + w_{3} + w_{4} \\leq 0\\\\\n",
       " & w_{3} \\leq 6000\\\\\n",
       " & x_{1} \\geq 0\\\\\n",
       " & x_{2} \\geq 0\\\\\n",
       " & x_{3} \\geq 0\\\\\n",
       " & y_{1} \\geq 0\\\\\n",
       " & y_{2} \\geq 0\\\\\n",
       " & w_{1} \\geq 0\\\\\n",
       " & w_{2} \\geq 0\\\\\n",
       " & w_{3} \\geq 0\\\\\n",
       " & w_{4} \\geq 0\\\\\n",
       "\\end{aligned} $$"
      ]
     },
     "metadata": {},
     "output_type": "display_data"
    }
   ],
   "source": [
    "print(maverage)"
   ]
  },
  {
   "cell_type": "code",
   "execution_count": 21,
   "metadata": {},
   "outputs": [
    {
     "data": {
      "text/plain": [
       "-118600.0"
      ]
     },
     "execution_count": 21,
     "metadata": {},
     "output_type": "execute_result"
    }
   ],
   "source": [
    "objective_value(maverage)"
   ]
  },
  {
   "cell_type": "markdown",
   "metadata": {
    "collapsed": true
   },
   "source": [
    "## Good scenario"
   ]
  },
  {
   "cell_type": "code",
   "execution_count": 22,
   "metadata": {},
   "outputs": [
    {
     "name": "stdout",
     "output_type": "stream",
     "text": [
      "Running HiGHS 1.5.3 [date: 1970-01-01, git hash: 45a127b78]\n",
      "Copyright (c) 2023 HiGHS under MIT licence terms\n",
      "Presolving model\n",
      "4 rows, 9 cols, 12 nonzeros\n",
      "3 rows, 8 cols, 10 nonzeros\n",
      "3 rows, 7 cols, 9 nonzeros\n",
      "Presolve : Reductions: rows 3(-2); columns 7(-2); elements 9(-4)\n",
      "Solving the presolved LP\n",
      "Using EKK dual simplex solver - serial\n",
      "  Iteration        Objective     Infeasibilities num(sum)\n",
      "          0    -6.3999740210e+02 Ph1: 2(2); Du: 2(639.997) 0s\n",
      "          4    -1.6766666667e+05 Pr: 0(0) 0s\n",
      "Solving the original LP from the solution after postsolve\n",
      "Model   status      : Optimal\n",
      "Simplex   iterations: 4\n",
      "Objective value     : -1.6766666667e+05\n",
      "HiGHS run time      :          0.00\n"
     ]
    },
    {
     "data": {
      "text/plain": [
       "(A JuMP Model\n",
       "Minimization problem with:\n",
       "Variables: 9\n",
       "Objective function type: AffExpr\n",
       "`AffExpr`-in-`MathOptInterface.GreaterThan{Float64}`: 2 constraints\n",
       "`AffExpr`-in-`MathOptInterface.LessThan{Float64}`: 3 constraints\n",
       "`VariableRef`-in-`MathOptInterface.GreaterThan{Float64}`: 9 constraints\n",
       "Model mode: AUTOMATIC\n",
       "CachingOptimizer state: ATTACHED_OPTIMIZER\n",
       "Solver name: HiGHS\n",
       "Names registered in the model: beetsProd, beetsQuota, cornNeeds, surface, w, wheatNeeds, x, y, nothing)"
      ]
     },
     "execution_count": 22,
     "metadata": {},
     "output_type": "execute_result"
    }
   ],
   "source": [
    "mgood, status = farmer(1.2)"
   ]
  },
  {
   "cell_type": "code",
   "execution_count": 23,
   "metadata": {},
   "outputs": [
    {
     "data": {
      "text/plain": [
       "A JuMP Model\n",
       "Minimization problem with:\n",
       "Variables: 9\n",
       "Objective function type: AffExpr\n",
       "`AffExpr`-in-`MathOptInterface.GreaterThan{Float64}`: 2 constraints\n",
       "`AffExpr`-in-`MathOptInterface.LessThan{Float64}`: 3 constraints\n",
       "`VariableRef`-in-`MathOptInterface.GreaterThan{Float64}`: 9 constraints\n",
       "Model mode: AUTOMATIC\n",
       "CachingOptimizer state: ATTACHED_OPTIMIZER\n",
       "Solver name: HiGHS\n",
       "Names registered in the model: beetsProd, beetsQuota, cornNeeds, surface, w, wheatNeeds, x, y"
      ]
     },
     "execution_count": 23,
     "metadata": {},
     "output_type": "execute_result"
    }
   ],
   "source": [
    "mgood"
   ]
  },
  {
   "cell_type": "code",
   "execution_count": 24,
   "metadata": {},
   "outputs": [
    {
     "data": {
      "text/plain": [
       "-167666.6666666667"
      ]
     },
     "execution_count": 24,
     "metadata": {},
     "output_type": "execute_result"
    }
   ],
   "source": [
    "objective_value(mgood)"
   ]
  },
  {
   "cell_type": "markdown",
   "metadata": {},
   "source": [
    "## Bad scenario"
   ]
  },
  {
   "cell_type": "code",
   "execution_count": 25,
   "metadata": {},
   "outputs": [
    {
     "name": "stdout",
     "output_type": "stream",
     "text": [
      "Running HiGHS 1.5.3 [date: 1970-01-01, git hash: 45a127b78]\n",
      "Copyright (c) 2023 HiGHS under MIT licence terms\n",
      "Presolving model\n",
      "4 rows, 9 cols, 12 nonzeros\n",
      "3 rows, 8 cols, 10 nonzeros\n",
      "3 rows, 7 cols, 9 nonzeros\n",
      "Presolve : Reductions: rows 3(-2); columns 7(-2); elements 9(-4)\n",
      "Solving the presolved LP\n",
      "Using EKK dual simplex solver - serial\n",
      "  Iteration        Objective     Infeasibilities num(sum)\n",
      "          0    -4.6999813050e+02 Ph1: 2(2); Du: 2(469.998) 0s\n",
      "          5    -5.9950000000e+04 Pr: 0(0) 0s\n",
      "Solving the original LP from the solution after postsolve\n",
      "Model   status      : Optimal\n",
      "Simplex   iterations: 5\n",
      "Objective value     : -5.9950000000e+04\n",
      "HiGHS run time      :          0.00\n"
     ]
    },
    {
     "data": {
      "text/plain": [
       "(A JuMP Model\n",
       "Minimization problem with:\n",
       "Variables: 9\n",
       "Objective function type: AffExpr\n",
       "`AffExpr`-in-`MathOptInterface.GreaterThan{Float64}`: 2 constraints\n",
       "`AffExpr`-in-`MathOptInterface.LessThan{Float64}`: 3 constraints\n",
       "`VariableRef`-in-`MathOptInterface.GreaterThan{Float64}`: 9 constraints\n",
       "Model mode: AUTOMATIC\n",
       "CachingOptimizer state: ATTACHED_OPTIMIZER\n",
       "Solver name: HiGHS\n",
       "Names registered in the model: beetsProd, beetsQuota, cornNeeds, surface, w, wheatNeeds, x, y, nothing)"
      ]
     },
     "execution_count": 25,
     "metadata": {},
     "output_type": "execute_result"
    }
   ],
   "source": [
    "mbad, status = farmer(0.8)\n",
    "#mbad, status = farmer(0.8, Model(solver = GurobiSolver()))"
   ]
  },
  {
   "cell_type": "code",
   "execution_count": 26,
   "metadata": {},
   "outputs": [
    {
     "data": {
      "text/plain": [
       "-59950.0"
      ]
     },
     "execution_count": 26,
     "metadata": {},
     "output_type": "execute_result"
    }
   ],
   "source": [
    "objective_value(mbad)"
   ]
  },
  {
   "cell_type": "markdown",
   "metadata": {},
   "source": [
    "## Stochastic program - extensive form"
   ]
  },
  {
   "cell_type": "markdown",
   "metadata": {},
   "source": [
    "We have to combine the three scenarios. We will assume that each one has a probability equal to 1/3."
   ]
  },
  {
   "cell_type": "code",
   "execution_count": 27,
   "metadata": {},
   "outputs": [
    {
     "data": {
      "text/plain": [
       "3-element Vector{Float64}:\n",
       " 0.3333333333333333\n",
       " 0.3333333333333333\n",
       " 0.3333333333333333"
      ]
     },
     "execution_count": 27,
     "metadata": {},
     "output_type": "execute_result"
    }
   ],
   "source": [
    "n = 3\n",
    "p = [1/n for i = 1:n]"
   ]
  },
  {
   "cell_type": "markdown",
   "metadata": {},
   "source": [
    "We will start with a naive implementation."
   ]
  },
  {
   "cell_type": "code",
   "execution_count": 28,
   "metadata": {},
   "outputs": [
    {
     "data": {
      "text/plain": [
       "farmerStoch (generic function with 1 method)"
      ]
     },
     "execution_count": 28,
     "metadata": {},
     "output_type": "execute_result"
    }
   ],
   "source": [
    "function farmerStoch()\n",
    "    m = Model(HiGHS.Optimizer)\n",
    "\n",
    "    crops = [\"Wheat\", \"Corn\", \"Suger beets\"]\n",
    "    ncrops = length(crops)\n",
    "\n",
    "    @variable(m,x[1:ncrops] >= 0)\n",
    "\n",
    "    @variable(m,ya[1:2] >= 0)\n",
    "    @variable(m,wa[1:4] >= 0)\n",
    "\n",
    "    @variable(m,yg[1:2] >= 0)\n",
    "    @variable(m,wg[1:4] >= 0)\n",
    "\n",
    "    @variable(m,yb[1:2] >= 0)\n",
    "    @variable(m,wb[1:4] >= 0)\n",
    "\n",
    "    costSeeding = [150, 230, 260]\n",
    "    costs = [238, 210]\n",
    "    prices = [170, 150, 36, 10]\n",
    "    returnsA = [2.5, 3, 20]\n",
    "    returnsG = 1.2*[2.5, 3, 20]\n",
    "    returnsB = 0.8*[2.5, 3, 20]\n",
    "\n",
    "    @constraint(m, surface, sum(x[i] for i=1:3) <= 500)\n",
    "\n",
    "    @constraint(m, wheatNA, returnsA[1]x[1]+ya[1]-wa[1] >= 200)\n",
    "    @constraint(m, cornNA, returnsA[2]x[2]+ya[2]-wa[2] >= 240)\n",
    "    @constraint(m, beetsPA, wa[3]+wa[4] <= returnsA[3]x[3])\n",
    "    @constraint(m, beetsQA, wa[3] <= 6000)\n",
    "\n",
    "    @constraint(m, wheatNG, returnsG[1]x[1]+yg[1]-wg[1] >= 200)\n",
    "    @constraint(m, cornNG, returnsG[2]x[2]+yg[2]-wg[2] >= 240)\n",
    "    @constraint(m, beetsPG, wg[3]+wg[4] <= returnsG[3]x[3])\n",
    "    @constraint(m, beetsQG, wg[3] <= 6000)\n",
    "\n",
    "    @constraint(m, wheatNB, returnsB[1]x[1]+yb[1]-wb[1] >= 200)\n",
    "    @constraint(m, cornNB, returnsB[2]x[2]+yb[2]-wb[2] >= 240)\n",
    "    @constraint(m, beetsPB, wb[3]+wb[4] <= returnsB[3]x[3])\n",
    "    @constraint(m, beetsQB, wb[3] <= 6000)\n",
    "\n",
    "    @objective(m, Min, sum(costSeeding[i]*x[i] for i=1:3)\n",
    "        + 1/3*sum(costs[i]*ya[i] for i = 1:length(costs))\n",
    "        - 1/3*sum(prices[i]*wa[i] for i=1:length(prices))\n",
    "        + 1/3*sum(costs[i]*yg[i] for i = 1:length(costs))\n",
    "        - 1/3*sum(prices[i]*wg[i] for i=1:length(prices))\n",
    "        + 1/3*sum(costs[i]*yb[i] for i = 1:length(costs))\n",
    "        - 1/3*sum(prices[i]*wb[i] for i=1:length(prices)))\n",
    "    \n",
    "    status = optimize!(m)\n",
    "\n",
    "    return m, status\n",
    "end"
   ]
  },
  {
   "cell_type": "code",
   "execution_count": 29,
   "metadata": {},
   "outputs": [
    {
     "name": "stdout",
     "output_type": "stream",
     "text": [
      "Running HiGHS 1.5.3 [date: 1970-01-01, git hash: 45a127b78]\n",
      "Copyright (c) 2023 HiGHS under MIT licence terms\n",
      "Presolving model\n",
      "10 rows, 21 cols, 30 nonzeros\n",
      "9 rows, 20 cols, 30 nonzeros\n",
      "Presolve : Reductions: rows 9(-4); columns 20(-1); elements 30(-3)\n",
      "Solving the presolved LP\n",
      "Using EKK dual simplex solver - serial\n",
      "  Iteration        Objective     Infeasibilities num(sum)\n",
      "          0    -3.1831206476e+02 Ph1: 8(8); Du: 8(318.312) 0s\n",
      "         15    -1.0839000000e+05 Pr: 0(0) 0s\n",
      "Solving the original LP from the solution after postsolve\n",
      "Model   status      : Optimal\n",
      "Simplex   iterations: 15\n",
      "Objective value     : -1.0839000000e+05\n",
      "HiGHS run time      :          0.00\n"
     ]
    },
    {
     "data": {
      "text/plain": [
       "(A JuMP Model\n",
       "Minimization problem with:\n",
       "Variables: 21\n",
       "Objective function type: AffExpr\n",
       "`AffExpr`-in-`MathOptInterface.GreaterThan{Float64}`: 6 constraints\n",
       "`AffExpr`-in-`MathOptInterface.LessThan{Float64}`: 7 constraints\n",
       "`VariableRef`-in-`MathOptInterface.GreaterThan{Float64}`: 21 constraints\n",
       "Model mode: AUTOMATIC\n",
       "CachingOptimizer state: ATTACHED_OPTIMIZER\n",
       "Solver name: HiGHS\n",
       "Names registered in the model: beetsPA, beetsPB, beetsPG, beetsQA, beetsQB, beetsQG, cornNA, cornNB, cornNG, surface, wa, wb, wg, wheatNA, wheatNB, wheatNG, x, ya, yb, yg, nothing)"
      ]
     },
     "execution_count": 29,
     "metadata": {},
     "output_type": "execute_result"
    }
   ],
   "source": [
    "mstoch, status = farmerStoch()"
   ]
  },
  {
   "cell_type": "code",
   "execution_count": 30,
   "metadata": {},
   "outputs": [
    {
     "data": {
      "text/latex": [
       "$$ \\begin{aligned}\n",
       "\\min\\quad & 150 x_{1} + 230 x_{2} + 260 x_{3} + 79.33333333333333 ya_{1} + 70 ya_{2} - 56.666666666666664 wa_{1} - 50 wa_{2} - 12 wa_{3} - 3.333333333333333 wa_{4} + 79.33333333333333 yg_{1} + 70 yg_{2} - 56.666666666666664 wg_{1} - 50 wg_{2} - 12 wg_{3} - 3.333333333333333 wg_{4} + 79.33333333333333 yb_{1} + 70 yb_{2} - 56.666666666666664 wb_{1} - 50 wb_{2} - 12 wb_{3} - 3.333333333333333 wb_{4}\\\\\n",
       "\\text{Subject to} \\quad & 2.5 x_{1} + ya_{1} - wa_{1} \\geq 200\\\\\n",
       " & 3 x_{2} + ya_{2} - wa_{2} \\geq 240\\\\\n",
       " & 3 x_{1} + yg_{1} - wg_{1} \\geq 200\\\\\n",
       " & 3.5999999999999996 x_{2} + yg_{2} - wg_{2} \\geq 240\\\\\n",
       " & 2 x_{1} + yb_{1} - wb_{1} \\geq 200\\\\\n",
       " & 2.4000000000000004 x_{2} + yb_{2} - wb_{2} \\geq 240\\\\\n",
       " & x_{1} + x_{2} + x_{3} \\leq 500\\\\\n",
       " & -20 x_{3} + wa_{3} + wa_{4} \\leq 0\\\\\n",
       " & wa_{3} \\leq 6000\\\\\n",
       " & -24 x_{3} + wg_{3} + wg_{4} \\leq 0\\\\\n",
       " & wg_{3} \\leq 6000\\\\\n",
       " & -16 x_{3} + wb_{3} + wb_{4} \\leq 0\\\\\n",
       " & wb_{3} \\leq 6000\\\\\n",
       " & x_{1} \\geq 0\\\\\n",
       " & x_{2} \\geq 0\\\\\n",
       " & x_{3} \\geq 0\\\\\n",
       " & ya_{1} \\geq 0\\\\\n",
       " & ya_{2} \\geq 0\\\\\n",
       " & wa_{1} \\geq 0\\\\\n",
       " & wa_{2} \\geq 0\\\\\n",
       " & wa_{3} \\geq 0\\\\\n",
       " & wa_{4} \\geq 0\\\\\n",
       " & yg_{1} \\geq 0\\\\\n",
       " & yg_{2} \\geq 0\\\\\n",
       " & wg_{1} \\geq 0\\\\\n",
       " & wg_{2} \\geq 0\\\\\n",
       " & wg_{3} \\geq 0\\\\\n",
       " & wg_{4} \\geq 0\\\\\n",
       " & yb_{1} \\geq 0\\\\\n",
       " & yb_{2} \\geq 0\\\\\n",
       " & wb_{1} \\geq 0\\\\\n",
       " & wb_{2} \\geq 0\\\\\n",
       " & wb_{3} \\geq 0\\\\\n",
       " & wb_{4} \\geq 0\\\\\n",
       "\\end{aligned} $$"
      ]
     },
     "metadata": {},
     "output_type": "display_data"
    }
   ],
   "source": [
    "print(mstoch)"
   ]
  },
  {
   "cell_type": "code",
   "execution_count": 31,
   "metadata": {},
   "outputs": [
    {
     "data": {
      "text/plain": [
       "-108390.0"
      ]
     },
     "execution_count": 31,
     "metadata": {},
     "output_type": "execute_result"
    }
   ],
   "source": [
    "valStoch = objective_value(mstoch)"
   ]
  },
  {
   "cell_type": "markdown",
   "metadata": {
    "collapsed": true
   },
   "source": [
    "## Expected value of the perfect information"
   ]
  },
  {
   "cell_type": "code",
   "execution_count": 32,
   "metadata": {},
   "outputs": [
    {
     "data": {
      "text/plain": [
       "3-element Vector{Float64}:\n",
       " -118600.0\n",
       " -167666.6666666667\n",
       "  -59950.0"
      ]
     },
     "execution_count": 32,
     "metadata": {},
     "output_type": "execute_result"
    }
   ],
   "source": [
    "values = [objective_value(maverage), objective_value(mgood), objective_value(mbad)]"
   ]
  },
  {
   "cell_type": "markdown",
   "metadata": {},
   "source": [
    "Let's compute the expected revenue under perfect information, simply obtained as the dot product between the probabilities vector and the optimal values vector."
   ]
  },
  {
   "cell_type": "code",
   "execution_count": 33,
   "metadata": {},
   "outputs": [
    {
     "data": {
      "text/plain": [
       "-115405.55555555555"
      ]
     },
     "execution_count": 33,
     "metadata": {},
     "output_type": "execute_result"
    }
   ],
   "source": [
    "valPerfect = p'*values"
   ]
  },
  {
   "cell_type": "code",
   "execution_count": 34,
   "metadata": {},
   "outputs": [
    {
     "data": {
      "text/plain": [
       "-115405.55555555555"
      ]
     },
     "execution_count": 34,
     "metadata": {},
     "output_type": "execute_result"
    }
   ],
   "source": [
    "using LinearAlgebra\n",
    "\n",
    "dot(p, values)"
   ]
  },
  {
   "cell_type": "markdown",
   "metadata": {},
   "source": [
    "Expected value of perfect information:"
   ]
  },
  {
   "cell_type": "code",
   "execution_count": 35,
   "metadata": {},
   "outputs": [
    {
     "data": {
      "text/plain": [
       "-7015.5555555555475"
      ]
     },
     "execution_count": 35,
     "metadata": {},
     "output_type": "execute_result"
    }
   ],
   "source": [
    "valPerfect - valStoch"
   ]
  },
  {
   "cell_type": "markdown",
   "metadata": {},
   "source": [
    "## Value of the stochastic solution"
   ]
  },
  {
   "cell_type": "markdown",
   "metadata": {},
   "source": [
    "We have to fix the first stage decision. We define the second stage problem."
   ]
  },
  {
   "cell_type": "code",
   "execution_count": 36,
   "metadata": {},
   "outputs": [
    {
     "data": {
      "text/plain": [
       "secondStage (generic function with 2 methods)"
      ]
     },
     "execution_count": 36,
     "metadata": {},
     "output_type": "execute_result"
    }
   ],
   "source": [
    "function secondStage(x, factor::Float64 = 1.0)\n",
    "    m = Model(HiGHS.Optimizer)\n",
    "    \n",
    "    @variable(m,y[1:2] >= 0)   # purchases\n",
    "    @variable(m,w[1:4] >= 0)   # sales\n",
    "\n",
    "    costs = [238, 210]\n",
    "    prices = [170, 150, 36, 10]\n",
    "    returns = (factor*[2.5, 3, 20]).*x\n",
    "    z = [200 - returns[1], 240 - returns[2], returns[3]]\n",
    "    \n",
    "    @constraint(m, wheatNeeds, y[1]-w[1] >= z[1])\n",
    "    @constraint(m, cornNeeds, y[2]-w[2] >= z[2])\n",
    "    @constraint(m, beetsProd, w[3]+w[4] <= z[3])\n",
    "    @constraint(m, beetsQuota, w[3] <= 6000)\n",
    "\n",
    "    @objective(m,Min, sum(costs[i]*y[i] for i = 1:length(costs)) - (sum(prices[i]*w[i] for i=1:length(prices))))\n",
    "    \n",
    "    status = optimize!(m)\n",
    "    \n",
    "    return m, status\n",
    "end"
   ]
  },
  {
   "cell_type": "code",
   "execution_count": 37,
   "metadata": {},
   "outputs": [
    {
     "data": {
      "text/plain": [
       "3-element Vector{Int64}:\n",
       " 120\n",
       "  80\n",
       " 300"
      ]
     },
     "execution_count": 37,
     "metadata": {},
     "output_type": "execute_result"
    }
   ],
   "source": [
    "x = [120, 80, 300]"
   ]
  },
  {
   "cell_type": "code",
   "execution_count": 38,
   "metadata": {},
   "outputs": [
    {
     "name": "stdout",
     "output_type": "stream",
     "text": [
      "Running HiGHS 1.5.3 [date: 1970-01-01, git hash: 45a127b78]\n",
      "Copyright (c) 2023 HiGHS under MIT licence terms\n",
      "Presolving model\n",
      "2 rows, 3 cols, 3 nonzeros\n",
      "0 rows, 0 cols, 0 nonzeros\n",
      "Presolve : Reductions: rows 0(-4); columns 0(-6); elements 0(-7) - Reduced to empty\n",
      "Solving the original LP from the solution after postsolve\n",
      "Using EKK primal simplex solver\n",
      "  Iteration        Objective     Infeasibilities num(sum)\n",
      "          0    -2.3300006374e+05 Pr: 0(0); Du: 1(10) 0s\n",
      "          1    -2.3300000000e+05 Pr: 0(0) 0s\n",
      "Model   status      : Optimal\n",
      "Simplex   iterations: 1\n",
      "Objective value     : -2.3300000000e+05\n",
      "HiGHS run time      :          0.00\n"
     ]
    },
    {
     "data": {
      "text/plain": [
       "(A JuMP Model\n",
       "Minimization problem with:\n",
       "Variables: 6\n",
       "Objective function type: AffExpr\n",
       "`AffExpr`-in-`MathOptInterface.GreaterThan{Float64}`: 2 constraints\n",
       "`AffExpr`-in-`MathOptInterface.LessThan{Float64}`: 2 constraints\n",
       "`VariableRef`-in-`MathOptInterface.GreaterThan{Float64}`: 6 constraints\n",
       "Model mode: AUTOMATIC\n",
       "CachingOptimizer state: ATTACHED_OPTIMIZER\n",
       "Solver name: HiGHS\n",
       "Names registered in the model: beetsProd, beetsQuota, cornNeeds, w, wheatNeeds, y, nothing)"
      ]
     },
     "execution_count": 38,
     "metadata": {},
     "output_type": "execute_result"
    }
   ],
   "source": [
    "msecond, status = secondStage(x)"
   ]
  },
  {
   "cell_type": "code",
   "execution_count": 39,
   "metadata": {},
   "outputs": [
    {
     "data": {
      "text/latex": [
       "$$ \\begin{aligned}\n",
       "\\min\\quad & 238 y_{1} + 210 y_{2} - 170 w_{1} - 150 w_{2} - 36 w_{3} - 10 w_{4}\\\\\n",
       "\\text{Subject to} \\quad & y_{1} - w_{1} \\geq -100\\\\\n",
       " & y_{2} - w_{2} \\geq 0\\\\\n",
       " & w_{3} + w_{4} \\leq 6000\\\\\n",
       " & w_{3} \\leq 6000\\\\\n",
       " & y_{1} \\geq 0\\\\\n",
       " & y_{2} \\geq 0\\\\\n",
       " & w_{1} \\geq 0\\\\\n",
       " & w_{2} \\geq 0\\\\\n",
       " & w_{3} \\geq 0\\\\\n",
       " & w_{4} \\geq 0\\\\\n",
       "\\end{aligned} $$"
      ]
     },
     "metadata": {},
     "output_type": "display_data"
    }
   ],
   "source": [
    "print(msecond)"
   ]
  },
  {
   "cell_type": "code",
   "execution_count": 40,
   "metadata": {},
   "outputs": [
    {
     "data": {
      "text/plain": [
       "-233000.0"
      ]
     },
     "execution_count": 40,
     "metadata": {},
     "output_type": "execute_result"
    }
   ],
   "source": [
    "vaverage = objective_value(msecond)"
   ]
  },
  {
   "cell_type": "code",
   "execution_count": 41,
   "metadata": {},
   "outputs": [
    {
     "name": "stdout",
     "output_type": "stream",
     "text": [
      "Running HiGHS 1.5.3 [date: 1970-01-01, git hash: 45a127b78]\n",
      "Copyright (c) 2023 HiGHS under MIT licence terms\n",
      "Presolving model\n",
      "3 rows, 6 cols, 6 nonzeros\n",
      "0 rows, 0 cols, 0 nonzeros\n",
      "Presolve : Reductions: rows 0(-4); columns 0(-6); elements 0(-7) - Reduced to empty\n",
      "Solving the original LP from the solution after postsolve\n",
      "Model   status      : Optimal\n",
      "Objective value     : -2.6240000000e+05\n",
      "HiGHS run time      :          0.00\n"
     ]
    },
    {
     "data": {
      "text/plain": [
       "(A JuMP Model\n",
       "Minimization problem with:\n",
       "Variables: 6\n",
       "Objective function type: AffExpr\n",
       "`AffExpr`-in-`MathOptInterface.GreaterThan{Float64}`: 2 constraints\n",
       "`AffExpr`-in-`MathOptInterface.LessThan{Float64}`: 2 constraints\n",
       "`VariableRef`-in-`MathOptInterface.GreaterThan{Float64}`: 6 constraints\n",
       "Model mode: AUTOMATIC\n",
       "CachingOptimizer state: ATTACHED_OPTIMIZER\n",
       "Solver name: HiGHS\n",
       "Names registered in the model: beetsProd, beetsQuota, cornNeeds, w, wheatNeeds, y, nothing)"
      ]
     },
     "execution_count": 41,
     "metadata": {},
     "output_type": "execute_result"
    }
   ],
   "source": [
    "msecond, status = secondStage(x, 1.2)"
   ]
  },
  {
   "cell_type": "code",
   "execution_count": 42,
   "metadata": {},
   "outputs": [
    {
     "data": {
      "text/plain": [
       "-262400.0"
      ]
     },
     "execution_count": 42,
     "metadata": {},
     "output_type": "execute_result"
    }
   ],
   "source": [
    "vgood = objective_value(msecond)"
   ]
  },
  {
   "cell_type": "code",
   "execution_count": 43,
   "metadata": {},
   "outputs": [
    {
     "name": "stdout",
     "output_type": "stream",
     "text": [
      "Running HiGHS 1.5.3 [date: 1970-01-01, git hash: 45a127b78]\n",
      "Copyright (c) 2023 HiGHS under MIT licence terms\n",
      "Presolving model\n",
      "2 rows, 3 cols, 3 nonzeros\n",
      "0 rows, 0 cols, 0 nonzeros\n",
      "Presolve : Reductions: rows 0(-4); columns 0(-6); elements 0(-7) - Reduced to empty\n",
      "Solving the original LP from the solution after postsolve\n",
      "Model   status      : Optimal\n",
      "Objective value     : -1.6952000000e+05\n",
      "HiGHS run time      :          0.00\n"
     ]
    },
    {
     "data": {
      "text/plain": [
       "(A JuMP Model\n",
       "Minimization problem with:\n",
       "Variables: 6\n",
       "Objective function type: AffExpr\n",
       "`AffExpr`-in-`MathOptInterface.GreaterThan{Float64}`: 2 constraints\n",
       "`AffExpr`-in-`MathOptInterface.LessThan{Float64}`: 2 constraints\n",
       "`VariableRef`-in-`MathOptInterface.GreaterThan{Float64}`: 6 constraints\n",
       "Model mode: AUTOMATIC\n",
       "CachingOptimizer state: ATTACHED_OPTIMIZER\n",
       "Solver name: HiGHS\n",
       "Names registered in the model: beetsProd, beetsQuota, cornNeeds, w, wheatNeeds, y, nothing)"
      ]
     },
     "execution_count": 43,
     "metadata": {},
     "output_type": "execute_result"
    }
   ],
   "source": [
    "msecond, status = secondStage(x, 0.8)"
   ]
  },
  {
   "cell_type": "code",
   "execution_count": 44,
   "metadata": {},
   "outputs": [
    {
     "data": {
      "text/plain": [
       "-169520.0"
      ]
     },
     "execution_count": 44,
     "metadata": {},
     "output_type": "execute_result"
    }
   ],
   "source": [
    "vbad = objective_value(msecond)"
   ]
  },
  {
   "cell_type": "markdown",
   "metadata": {},
   "source": [
    "Expected revenue"
   ]
  },
  {
   "cell_type": "code",
   "execution_count": 45,
   "metadata": {},
   "outputs": [
    {
     "data": {
      "text/plain": [
       "-107239.99999999997"
      ]
     },
     "execution_count": 45,
     "metadata": {},
     "output_type": "execute_result"
    }
   ],
   "source": [
    "er = costSeeding'*x+p'*[vaverage, vgood, vbad]"
   ]
  },
  {
   "cell_type": "markdown",
   "metadata": {},
   "source": [
    "Value of the stochastic solution"
   ]
  },
  {
   "cell_type": "code",
   "execution_count": 46,
   "metadata": {},
   "outputs": [
    {
     "data": {
      "text/plain": [
       "-1150.000000000029"
      ]
     },
     "execution_count": 46,
     "metadata": {},
     "output_type": "execute_result"
    }
   ],
   "source": [
    "vss = valStoch - er"
   ]
  },
  {
   "cell_type": "code",
   "execution_count": null,
   "metadata": {},
   "outputs": [],
   "source": []
  }
 ],
 "metadata": {
  "anaconda-cloud": {},
  "kernelspec": {
   "display_name": "Julia 1.9.3",
   "language": "julia",
   "name": "julia-1.9"
  },
  "language_info": {
   "file_extension": ".jl",
   "mimetype": "application/julia",
   "name": "julia",
   "version": "1.9.3"
  }
 },
 "nbformat": 4,
 "nbformat_minor": 1
}
