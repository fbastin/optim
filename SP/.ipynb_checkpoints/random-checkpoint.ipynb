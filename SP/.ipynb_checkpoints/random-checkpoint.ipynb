{
 "cells": [
  {
   "cell_type": "markdown",
   "id": "5e261ce3",
   "metadata": {},
   "source": [
    "# Random numbers generation"
   ]
  },
  {
   "cell_type": "markdown",
   "id": "6529442b",
   "metadata": {},
   "source": [
    "## Linear congruential generators"
   ]
  },
  {
   "cell_type": "markdown",
   "id": "b2621768",
   "metadata": {},
   "source": [
    "We first consider general LCGs, of the form\n",
    "$$\n",
    "x_{k+1} = a x_k \\mod m.\n",
    "$$"
   ]
  },
  {
   "cell_type": "markdown",
   "id": "0a287658",
   "metadata": {},
   "source": [
    "Adapted from https://rosettacode.org/wiki/Linear_congruential_generator"
   ]
  },
  {
   "cell_type": "code",
   "execution_count": null,
   "id": "52941005",
   "metadata": {},
   "outputs": [],
   "source": [
    "function getlcg(seed::Integer, a::Integer, c::Integer, m::Integer)\n",
    "    state = seed\n",
    "    am_mil = 1.0/m\n",
    "    return function lcgrand()\n",
    "        state = mod(a * state + c, m)\n",
    "        return state*am_mil  # produce a number in (0,1)\n",
    "    end\n",
    "end"
   ]
  },
  {
   "cell_type": "markdown",
   "id": "c61a4385",
   "metadata": {},
   "source": [
    "Standard minimal generator:"
   ]
  },
  {
   "cell_type": "code",
   "execution_count": null,
   "id": "939f3e27",
   "metadata": {},
   "outputs": [],
   "source": [
    "stdmin = getlcg(1234, 16807, 0, 2^31-1)"
   ]
  },
  {
   "cell_type": "code",
   "execution_count": null,
   "id": "b12954a4",
   "metadata": {},
   "outputs": [],
   "source": [
    "n = 10000\n",
    "\n",
    "sample = zeros(n)\n",
    "\n",
    "for i = 1:n\n",
    "    sample[i] = stdmin()\n",
    "end"
   ]
  },
  {
   "cell_type": "code",
   "execution_count": null,
   "id": "8ce44622",
   "metadata": {},
   "outputs": [],
   "source": [
    "using Plots"
   ]
  },
  {
   "cell_type": "code",
   "execution_count": null,
   "id": "69e6fd4c",
   "metadata": {
    "scrolled": true
   },
   "outputs": [],
   "source": [
    "scatter(sample[[2*i+1 for i = 0:(Int)(n/2)-1]], sample[[2*i for i = 1:(Int)(n/2)]], label=\"\", fmt = :png)"
   ]
  },
  {
   "cell_type": "code",
   "execution_count": null,
   "id": "fd742dd8",
   "metadata": {},
   "outputs": [],
   "source": []
  },
  {
   "cell_type": "code",
   "execution_count": null,
   "id": "3190aed3",
   "metadata": {},
   "outputs": [],
   "source": [
    "Using StableRNGs"
   ]
  },
  {
   "cell_type": "markdown",
   "id": "5eba2691",
   "metadata": {},
   "source": [
    "## RDST"
   ]
  },
  {
   "cell_type": "markdown",
   "id": "9335993e",
   "metadata": {},
   "source": [
    "Implementation of random streams."
   ]
  },
  {
   "cell_type": "code",
   "execution_count": 6,
   "id": "548143d9",
   "metadata": {},
   "outputs": [
    {
     "name": "stderr",
     "output_type": "stream",
     "text": [
      "\u001b[32m\u001b[1m    Updating\u001b[22m\u001b[39m git-repo `https://github.com/JLChartrand/RDST.jl`\n",
      "\u001b[32m\u001b[1m    Updating\u001b[22m\u001b[39m registry at `C:\\Users\\slash\\.julia\\registries\\General.toml`\n",
      "\u001b[32m\u001b[1m   Resolving\u001b[22m\u001b[39m package versions...\n",
      "\u001b[32m\u001b[1m  No Changes\u001b[22m\u001b[39m to `C:\\Users\\slash\\OneDrive - Universite de Montreal\\Git\\optim\\Project.toml`\n",
      "\u001b[32m\u001b[1m  No Changes\u001b[22m\u001b[39m to `C:\\Users\\slash\\OneDrive - Universite de Montreal\\Git\\optim\\Manifest.toml`\n"
     ]
    }
   ],
   "source": [
    "import Pkg\n",
    "\n",
    "Pkg.add(url = \"https://github.com/JLChartrand/RDST.jl\")"
   ]
  },
  {
   "cell_type": "code",
   "execution_count": 7,
   "id": "8a9aabd0",
   "metadata": {},
   "outputs": [],
   "source": [
    "using RDST"
   ]
  },
  {
   "cell_type": "markdown",
   "id": "c0638ccd",
   "metadata": {},
   "source": [
    "### MRG32K3a"
   ]
  },
  {
   "cell_type": "code",
   "execution_count": 8,
   "id": "548a4205",
   "metadata": {},
   "outputs": [
    {
     "data": {
      "text/plain": [
       "Seed for next MRG32k3a generator:\n",
       "[1, 2, 3, 4, 5, 6]"
      ]
     },
     "execution_count": 8,
     "metadata": {},
     "output_type": "execute_result"
    }
   ],
   "source": [
    "mrg_gen1 = MRG32k3aGen([1,2,3,4,5,6])"
   ]
  },
  {
   "cell_type": "code",
   "execution_count": 9,
   "id": "f195e2df",
   "metadata": {},
   "outputs": [
    {
     "data": {
      "text/plain": [
       "MRG32k3aGen"
      ]
     },
     "execution_count": 9,
     "metadata": {},
     "output_type": "execute_result"
    }
   ],
   "source": [
    "typeof(mrg_gen1)"
   ]
  },
  {
   "cell_type": "code",
   "execution_count": 10,
   "id": "4868c453",
   "metadata": {},
   "outputs": [
    {
     "data": {
      "text/plain": [
       "Seed for next MRG32k3a generator:\n",
       "[12345, 12345, 12345, 12345, 12345, 12345]"
      ]
     },
     "execution_count": 10,
     "metadata": {},
     "output_type": "execute_result"
    }
   ],
   "source": [
    "mrg_gen1 = MRG32k3aGen()"
   ]
  },
  {
   "cell_type": "markdown",
   "id": "5d6f4a24",
   "metadata": {},
   "source": [
    "The `show` function prints the current seed of the generator."
   ]
  },
  {
   "cell_type": "code",
   "execution_count": 11,
   "id": "4820badc",
   "metadata": {},
   "outputs": [
    {
     "name": "stdout",
     "output_type": "stream",
     "text": [
      "Seed for next MRG32k3a generator:\n",
      "[12345, 12345, 12345, 12345, 12345, 12345]"
     ]
    }
   ],
   "source": [
    "show(mrg_gen1)"
   ]
  },
  {
   "cell_type": "code",
   "execution_count": 12,
   "id": "319546bb",
   "metadata": {},
   "outputs": [
    {
     "data": {
      "text/plain": [
       "Full state of MRG32k3a generator:\n",
       "Cg = [12345, 12345, 12345, 12345, 12345, 12345]\n",
       "Bg = [12345, 12345, 12345, 12345, 12345, 12345]\n",
       "Ig = [12345, 12345, 12345, 12345, 12345, 12345]"
      ]
     },
     "execution_count": 12,
     "metadata": {},
     "output_type": "execute_result"
    }
   ],
   "source": [
    "mrg_1 = next_stream(mrg_gen1)"
   ]
  },
  {
   "cell_type": "code",
   "execution_count": 13,
   "id": "af196c8f",
   "metadata": {},
   "outputs": [
    {
     "data": {
      "text/plain": [
       "MRG32k3a"
      ]
     },
     "execution_count": 13,
     "metadata": {},
     "output_type": "execute_result"
    }
   ],
   "source": [
    "typeof(mrg_1)"
   ]
  },
  {
   "cell_type": "code",
   "execution_count": 14,
   "id": "a450b5bd",
   "metadata": {},
   "outputs": [
    {
     "data": {
      "text/plain": [
       "Full state of MRG32k3a generator:\n",
       "Cg = [3692455944, 1366884236, 2968912127, 335948734, 4161675175, 475798818]\n",
       "Bg = [3692455944, 1366884236, 2968912127, 335948734, 4161675175, 475798818]\n",
       "Ig = [3692455944, 1366884236, 2968912127, 335948734, 4161675175, 475798818]"
      ]
     },
     "execution_count": 14,
     "metadata": {},
     "output_type": "execute_result"
    }
   ],
   "source": [
    "mrg_1 = next_stream(mrg_gen1)"
   ]
  },
  {
   "cell_type": "code",
   "execution_count": 15,
   "id": "7ad1111d",
   "metadata": {},
   "outputs": [
    {
     "data": {
      "text/plain": [
       "true"
      ]
     },
     "execution_count": 15,
     "metadata": {},
     "output_type": "execute_result"
    }
   ],
   "source": [
    "stream1a = [rand(mrg_1) for i in 1:10]\n",
    "reset_substream!(mrg_1)\n",
    "stream1b = [rand(mrg_1) for i in 1:10]\n",
    "stream1a == stream1b"
   ]
  },
  {
   "cell_type": "code",
   "execution_count": 16,
   "id": "887a4b50",
   "metadata": {},
   "outputs": [
    {
     "name": "stdout",
     "output_type": "stream",
     "text": [
      "Seed for next MRG32k3a generator:\n",
      "[1015873554, 1310354410, 2249465273, 994084013, 2912484720, 3876682925]"
     ]
    }
   ],
   "source": [
    "show(mrg_gen1)"
   ]
  },
  {
   "cell_type": "code",
   "execution_count": 17,
   "id": "d535e372",
   "metadata": {},
   "outputs": [
    {
     "data": {
      "text/plain": [
       "Full state of MRG32k3a generator:\n",
       "Cg = [3119395571, 2178405402, 1065030501, 3980307777, 2117495919, 1836828492]\n",
       "Bg = [3119395571, 2178405402, 1065030501, 3980307777, 2117495919, 1836828492]\n",
       "Ig = [3692455944, 1366884236, 2968912127, 335948734, 4161675175, 475798818]"
      ]
     },
     "execution_count": 17,
     "metadata": {},
     "output_type": "execute_result"
    }
   ],
   "source": [
    "next_substream!(mrg_1)"
   ]
  },
  {
   "cell_type": "code",
   "execution_count": 18,
   "id": "e81025cf",
   "metadata": {},
   "outputs": [
    {
     "data": {
      "text/plain": [
       "Full state of MRG32k3a generator:\n",
       "Cg = [3692455944, 1366884236, 2968912127, 335948734, 4161675175, 475798818]\n",
       "Bg = [3692455944, 1366884236, 2968912127, 335948734, 4161675175, 475798818]\n",
       "Ig = [3692455944, 1366884236, 2968912127, 335948734, 4161675175, 475798818]"
      ]
     },
     "execution_count": 18,
     "metadata": {},
     "output_type": "execute_result"
    }
   ],
   "source": [
    "stream2a = [rand(mrg_1) for i in 1:10]\n",
    "reset_stream!(mrg_1)"
   ]
  },
  {
   "cell_type": "code",
   "execution_count": 19,
   "id": "3b6b92ac",
   "metadata": {},
   "outputs": [
    {
     "data": {
      "text/plain": [
       "true"
      ]
     },
     "execution_count": 19,
     "metadata": {},
     "output_type": "execute_result"
    }
   ],
   "source": [
    "next_substream!(mrg_1)\n",
    "stream2b = [rand(mrg_1) for i in 1:10]\n",
    "stream2a == stream2b"
   ]
  },
  {
   "cell_type": "code",
   "execution_count": 20,
   "id": "0ef51a86",
   "metadata": {},
   "outputs": [
    {
     "data": {
      "text/plain": [
       "Full state of MRG32k3a generator:\n",
       "Cg = [1015873554, 1310354410, 2249465273, 994084013, 2912484720, 3876682925]\n",
       "Bg = [1015873554, 1310354410, 2249465273, 994084013, 2912484720, 3876682925]\n",
       "Ig = [1015873554, 1310354410, 2249465273, 994084013, 2912484720, 3876682925]"
      ]
     },
     "execution_count": 20,
     "metadata": {},
     "output_type": "execute_result"
    }
   ],
   "source": [
    "reset_stream!(mrg_1)\n",
    "mrg_2 = next_stream(mrg_gen1)"
   ]
  },
  {
   "cell_type": "markdown",
   "id": "d830b18d",
   "metadata": {},
   "source": [
    "## Nonuniform distributions"
   ]
  },
  {
   "cell_type": "markdown",
   "id": "94eee03c",
   "metadata": {},
   "source": [
    "For continuous random variables, the inversion technique is equivalent to compute the quantile associated to the realization of a uniform random variable $U(0,1)$. We will use the distributions package."
   ]
  },
  {
   "cell_type": "code",
   "execution_count": 21,
   "id": "602dcd93",
   "metadata": {},
   "outputs": [],
   "source": [
    "using Distributions"
   ]
  },
  {
   "cell_type": "code",
   "execution_count": 22,
   "id": "8a9095e4",
   "metadata": {},
   "outputs": [
    {
     "data": {
      "text/plain": [
       "1.9599639845400576"
      ]
     },
     "execution_count": 22,
     "metadata": {},
     "output_type": "execute_result"
    }
   ],
   "source": [
    "N = Normal()\n",
    "α = quantile(N, 0.975)"
   ]
  },
  {
   "cell_type": "markdown",
   "id": "07d59ffe",
   "metadata": {},
   "source": [
    "Normally distributed number generation:"
   ]
  },
  {
   "cell_type": "code",
   "execution_count": 23,
   "id": "f23dc3dc",
   "metadata": {},
   "outputs": [
    {
     "data": {
      "text/plain": [
       "-0.25909362345806"
      ]
     },
     "execution_count": 23,
     "metadata": {},
     "output_type": "execute_result"
    }
   ],
   "source": [
    "quantile(N, rand())"
   ]
  },
  {
   "cell_type": "markdown",
   "id": "26c9e286",
   "metadata": {},
   "source": [
    "We can measure the required generation time with the package BenchmarkTools."
   ]
  },
  {
   "cell_type": "code",
   "execution_count": 24,
   "id": "3bf082af",
   "metadata": {},
   "outputs": [],
   "source": [
    "using BenchmarkTools"
   ]
  },
  {
   "cell_type": "code",
   "execution_count": 25,
   "id": "293e6f4e",
   "metadata": {},
   "outputs": [
    {
     "data": {
      "text/plain": [
       "InvertNormal (generic function with 1 method)"
      ]
     },
     "execution_count": 25,
     "metadata": {},
     "output_type": "execute_result"
    }
   ],
   "source": [
    "function InvertNormal()\n",
    "    U = rand(Float64, 2)\n",
    "    return quantile(N, U[1]), quantile(N, U[2])\n",
    "end"
   ]
  },
  {
   "cell_type": "code",
   "execution_count": 26,
   "id": "538179f5",
   "metadata": {},
   "outputs": [
    {
     "name": "stdout",
     "output_type": "stream",
     "text": [
      "  162.000 ns (6 allocations: 176 bytes)\n"
     ]
    },
    {
     "data": {
      "text/plain": [
       "(0.5997659164018669, -1.4009059737249483)"
      ]
     },
     "execution_count": 26,
     "metadata": {},
     "output_type": "execute_result"
    }
   ],
   "source": [
    "@btime X, Y = InvertNormal()"
   ]
  },
  {
   "cell_type": "code",
   "execution_count": 27,
   "id": "41bf52aa",
   "metadata": {},
   "outputs": [
    {
     "data": {
      "text/plain": [
       "BoxMuller (generic function with 1 method)"
      ]
     },
     "execution_count": 27,
     "metadata": {},
     "output_type": "execute_result"
    }
   ],
   "source": [
    "function BoxMuller()\n",
    "    U = rand(Float64, 2)\n",
    "    \n",
    "    R = sqrt(-2*log(U[1]))\n",
    "    θ = 2*π*U[2]\n",
    "    \n",
    "    X = R*cos(θ)\n",
    "    Y = R*sin(θ)\n",
    "    \n",
    "    return X, Y\n",
    "end"
   ]
  },
  {
   "cell_type": "code",
   "execution_count": 28,
   "id": "22f5ee46",
   "metadata": {},
   "outputs": [
    {
     "name": "stdout",
     "output_type": "stream",
     "text": [
      "  57.353 ns (1 allocation: 80 bytes)\n"
     ]
    },
    {
     "data": {
      "text/plain": [
       "(0.0456083937725616, -1.1659750972057197)"
      ]
     },
     "execution_count": 28,
     "metadata": {},
     "output_type": "execute_result"
    }
   ],
   "source": [
    "@btime X, Y = BoxMuller()"
   ]
  },
  {
   "cell_type": "code",
   "execution_count": 29,
   "id": "03b26187",
   "metadata": {},
   "outputs": [
    {
     "data": {
      "text/plain": [
       "-0.8272587172434421"
      ]
     },
     "execution_count": 29,
     "metadata": {},
     "output_type": "execute_result"
    }
   ],
   "source": [
    "randn()"
   ]
  },
  {
   "cell_type": "code",
   "execution_count": 30,
   "id": "bde60e8d",
   "metadata": {},
   "outputs": [
    {
     "name": "stdout",
     "output_type": "stream",
     "text": [
      "  5.105 ns (0 allocations: 0 bytes)\n"
     ]
    },
    {
     "data": {
      "text/plain": [
       "1.514632471866505"
      ]
     },
     "execution_count": 30,
     "metadata": {},
     "output_type": "execute_result"
    }
   ],
   "source": [
    "@btime randn()"
   ]
  },
  {
   "cell_type": "code",
   "execution_count": null,
   "id": "f07f9f72",
   "metadata": {},
   "outputs": [],
   "source": []
  }
 ],
 "metadata": {
  "kernelspec": {
   "display_name": "Julia 1.9.2",
   "language": "julia",
   "name": "julia-1.9"
  },
  "language_info": {
   "file_extension": ".jl",
   "mimetype": "application/julia",
   "name": "julia",
   "version": "1.8.0"
  }
 },
 "nbformat": 4,
 "nbformat_minor": 5
}
