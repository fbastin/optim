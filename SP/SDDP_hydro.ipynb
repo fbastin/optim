{
 "cells": [
  {
   "cell_type": "markdown",
   "metadata": {},
   "source": [
    "# SDDP: electric generation examples"
   ]
  },
  {
   "cell_type": "markdown",
   "metadata": {},
   "source": [
    "## FAST: the hydro-thermal problem"
   ]
  },
  {
   "cell_type": "markdown",
   "metadata": {},
   "source": [
    "Based on https://odow.github.io/SDDP.jl/latest/examples/FAST_hydro_thermal/"
   ]
  },
  {
   "cell_type": "markdown",
   "metadata": {},
   "source": [
    "We a consider a toy hydro-thermal example, adapted from https://github.com/leopoldcambier/FAST/blob/master/examples/hydro%20thermal/hydro_thermal.m, where we can produce eletricity either with a thermal plant, either with a hydroelectric plant. The uncertainty is the amount of rainfall at each stage. Rainfall can either be high (10) or small (2), with a uniform probability. At each stage, the demand is equal to 6, and can be satisfied either by burning some fuel, with a price equal to 5 per demand unit, either by using some water, at a negligeable cost. From stage to stage, water can been stored in the reservoir, but there is a tank limit equal to 8. We denote the stored water level at the end of stage 1 by $x_1$ and the used quantity at stage $1$ by $y_1$. The quantity of purchased fuel at stage 1 is denoted by $p_1$, and the initial water quantity in the reservoir is 6.\n",
    "\n",
    "The problem at stage 1 is then\n",
    "\\begin{align*}\n",
    "  \\min\\ & 5 p_1 + V(x_1) \\\\\n",
    "  \\text{s.t. } & x_1 \\leq 8 \\\\\n",
    "  & x_1 \\leq 6 - y_1 \\\\\n",
    "  & p_1 + y_1 \\geq 6\n",
    "\\end{align*}\n",
    "where $V(x_1)$ is the expected second-stage cost, expressed at\n",
    "\\begin{align*}\n",
    "V(x_1) &= 30 - E\\left[5 \\min \\{ x_1 + \\xi, 6 \\} \\right] \\\\ \n",
    "       &= 30 - 0.5 ( 5 \\min \\{ x_1+2,6 \\} + 5 \\min \\{ x_1+10,6 \\} ) \\\\\n",
    "       &= 15 - 5/2 \\min \\{ x_1+2, 6 \\}\n",
    "\\end{align*}\n",
    "\n",
    "The solution at stage 1 can then trivially be found to be\n",
    "$$\n",
    "   x_1 = 0,\\ y_1 = 6,\\ p_1 = 0\n",
    "$$\n",
    "for an expected cost of 10."
   ]
  },
  {
   "cell_type": "code",
   "execution_count": 4,
   "metadata": {},
   "outputs": [],
   "source": [
    "using SDDP, HiGHS"
   ]
  },
  {
   "cell_type": "code",
   "execution_count": 5,
   "metadata": {},
   "outputs": [],
   "source": [
    "using Statistics, Test"
   ]
  },
  {
   "cell_type": "code",
   "execution_count": 6,
   "metadata": {},
   "outputs": [
    {
     "data": {
      "text/plain": [
       "A policy graph with 2 nodes.\n",
       " Node indices: 1, 2\n"
      ]
     },
     "execution_count": 6,
     "metadata": {},
     "output_type": "execute_result"
    }
   ],
   "source": [
    "model = SDDP.PolicyGraph(\n",
    "    SDDP.LinearGraph(2),  # Construct the graph with 2 stages\n",
    "    bellman_function = SDDP.BellmanFunction(lower_bound = 0.0),\n",
    "    optimizer = HiGHS.Optimizer,\n",
    ") do sp, t\n",
    "    # At each stage, the model state is the reservoir level x.\n",
    "    @variable(sp, 0 <= x <= 8, SDDP.State, initial_value = 0.0)\n",
    "    @variables(sp, begin\n",
    "            y >= 0\n",
    "            p >= 0\n",
    "            ξ\n",
    "        end)\n",
    "    @constraints(sp, begin\n",
    "            p + y >= 6\n",
    "            x.out <= x.in - y + ξ\n",
    "        end)\n",
    "    \n",
    "    # We define the rainfall levels.\n",
    "    # The level is deterministic at stage 1, but can take one of two values at subsequent stages.\n",
    "    RAINFALL = (t == 1 ? [6] : [2, 10])\n",
    "    \n",
    "    SDDP.parameterize(sp, RAINFALL) do ω\n",
    "        JuMP.fix(ξ, ω)\n",
    "    end\n",
    "    @stageobjective(sp, 5 * p)\n",
    "end"
   ]
  },
  {
   "cell_type": "code",
   "execution_count": 7,
   "metadata": {},
   "outputs": [
    {
     "data": {
      "text/plain": [
       "A JuMP Model\n",
       "Feasibility problem with:\n",
       "Variables: 18\n",
       "`AffExpr`-in-`MathOptInterface.EqualTo{Float64}`: 2 constraints\n",
       "`AffExpr`-in-`MathOptInterface.GreaterThan{Float64}`: 3 constraints\n",
       "`AffExpr`-in-`MathOptInterface.LessThan{Float64}`: 3 constraints\n",
       "`VariableRef`-in-`MathOptInterface.EqualTo{Float64}`: 4 constraints\n",
       "`VariableRef`-in-`MathOptInterface.GreaterThan{Float64}`: 12 constraints\n",
       "`VariableRef`-in-`MathOptInterface.LessThan{Float64}`: 5 constraints\n",
       "Model mode: AUTOMATIC\n",
       "CachingOptimizer state: EMPTY_OPTIMIZER\n",
       "Solver name: HiGHS"
      ]
     },
     "execution_count": 7,
     "metadata": {},
     "output_type": "execute_result"
    }
   ],
   "source": [
    "det = SDDP.deterministic_equivalent(model, HiGHS.Optimizer)"
   ]
  },
  {
   "cell_type": "code",
   "execution_count": 9,
   "metadata": {},
   "outputs": [
    {
     "name": "stdout",
     "output_type": "stream",
     "text": [
      "Feasibility\n",
      "Subject to\n",
      " x_out - x_in == 0.0\n",
      " x_out - x_in == 0.0\n",
      " y + p >= 6.0\n",
      " y + p >= 6.0\n",
      " y + p >= 6.0\n",
      " -x_in + x_out + y - ξ <= 0.0\n",
      " -x_in + x_out + y - ξ <= 0.0\n",
      " -x_in + x_out + y - ξ <= 0.0\n",
      " x_in == 0.0\n",
      " ξ == 6.0\n",
      " ξ == 2.0\n",
      " ξ == 10.0\n",
      " x_out >= 0.0\n",
      " y >= 0.0\n",
      " p >= 0.0\n",
      " _[6] >= 0.0\n",
      " x_out >= 0.0\n",
      " y >= 0.0\n",
      " p >= 0.0\n",
      " _[12] >= 0.0\n",
      " x_out >= 0.0\n",
      " y >= 0.0\n",
      " p >= 0.0\n",
      " _[18] >= 0.0\n",
      " x_out <= 8.0\n",
      " x_out <= 8.0\n",
      " _[12] <= 0.0\n",
      " x_out <= 8.0\n",
      " _[18] <= 0.0\n",
      "\n"
     ]
    }
   ],
   "source": [
    "println(det)"
   ]
  },
  {
   "cell_type": "code",
   "execution_count": 6,
   "metadata": {},
   "outputs": [
    {
     "name": "stdout",
     "output_type": "stream",
     "text": [
      "Presolving model\n",
      "6 rows, 7 cols, 12 nonzeros\n",
      "6 rows, 7 cols, 12 nonzeros\n",
      "Presolve : Reductions: rows 6(-2); columns 7(-11); elements 12(-10)\n",
      "Solving the presolved LP\n",
      "Using EKK dual simplex solver - serial\n",
      "  Iteration        Objective     Infeasibilities num(sum)\n",
      "          0     0.0000000000e+00 Pr: 3(18) 0s\n",
      "          5     1.0000000000e+01 Pr: 0(0) 0s\n",
      "Solving the original LP from the solution after postsolve\n",
      "Model   status      : Optimal\n",
      "Simplex   iterations: 5\n",
      "Objective value     :  1.0000000000e+01\n",
      "HiGHS run time      :          0.01\n"
     ]
    },
    {
     "data": {
      "text/plain": [
       "\u001b[32m\u001b[1mTest Passed\u001b[22m\u001b[39m"
      ]
     },
     "execution_count": 6,
     "metadata": {},
     "output_type": "execute_result"
    }
   ],
   "source": [
    "JuMP.optimize!(det)\n",
    "@test JuMP.objective_value(det) == 10"
   ]
  },
  {
   "cell_type": "code",
   "execution_count": 10,
   "metadata": {},
   "outputs": [
    {
     "name": "stdout",
     "output_type": "stream",
     "text": [
      "------------------------------------------------------------------------------\n",
      "                      SDDP.jl (c) Oscar Dowson, 2017-21\n",
      "\n",
      "Problem\n",
      "  Nodes           : 2\n",
      "  State variables : 1\n",
      "  Scenarios       : 2.00000e+00\n",
      "  Existing cuts   : false\n",
      "  Subproblem structure                      : (min, max)\n",
      "    Variables                               : (6, 6)\n",
      "    VariableRef in MOI.EqualTo{Float64}     : (1, 1)\n",
      "    VariableRef in MOI.LessThan{Float64}    : (1, 2)\n",
      "    AffExpr in MOI.LessThan{Float64}        : (1, 1)\n",
      "    AffExpr in MOI.GreaterThan{Float64}     : (1, 1)\n",
      "    VariableRef in MOI.GreaterThan{Float64} : (4, 4)\n",
      "Options\n",
      "  Solver          : serial mode\n",
      "  Risk measure    : SDDP.Expectation()\n",
      "  Sampling scheme : SDDP.InSampleMonteCarlo\n",
      "\n",
      "Numerical stability report\n",
      "  Non-zero Matrix range     [1e+00, 1e+00]\n",
      "  Non-zero Objective range  [1e+00, 5e+00]\n",
      "  Non-zero Bounds range     [8e+00, 8e+00]\n",
      "  Non-zero RHS range        [6e+00, 6e+00]\n",
      "No problems detected\n",
      "\n",
      " Iteration    Simulation       Bound         Time (s)    Proc. ID   # Solves\n",
      "        5    2.000000e+01   1.000000e+01   7.054000e+00          1         25\n",
      "       10    0.000000e+00   1.000000e+01   7.194000e+00          1         50\n",
      "\n",
      "Terminating training\n",
      "  Status         : iteration_limit\n",
      "  Total time (s) : 7.194000e+00\n",
      "  Total solves   : 50\n",
      "  Best bound     :  1.000000e+01\n",
      "  Simulation CI  :  8.000000e+00 ± 6.401333e+00\n",
      "------------------------------------------------------------------------------\n"
     ]
    },
    {
     "data": {
      "text/plain": [
       "\u001b[32m\u001b[1mTest Passed\u001b[22m\u001b[39m"
      ]
     },
     "execution_count": 10,
     "metadata": {},
     "output_type": "execute_result"
    }
   ],
   "source": [
    "SDDP.train(model, iteration_limit = 10, log_frequency = 5)\n",
    "@test SDDP.calculate_bound(model) == 10"
   ]
  },
  {
   "cell_type": "markdown",
   "metadata": {},
   "source": [
    "## Hydro-thermal scheduling\n",
    "\n",
    "Copy-paste from https://odow.github.io/SDDP.jl/latest/examples/Hydro_thermal/#Hydro-thermal-scheduling\n",
    "\n",
    "### Problem Description\n",
    "\n",
    "In a hydro-thermal problem, the agent controls a hydro-electric generator and reservoir. Each time period, they need to choose a generation quantity from thermal $g_t$, and hydro $g_h$, in order to meet demand $w_d$, which is a stagewise-independent random variable. The state variable, $x$, is the quantity of water in the reservoir at the start of each time period, and it has a minimum level of 5 units and a maximum level of 15 units. We assume that there are 10 units of water in the reservoir at the start of time, so that $x_0$ = 10. The state-variable is connected through time by the water balance constraint:\n",
    "$$x.out = x.in - g_h - s + w_i,$$\n",
    "where $x.out$ is the quantity of water at the end of the time period, $x.in$ is the quantity of water at the start of the time period, $s$ is the quantity of water spilled from the reservoir, and $w_i$ is a stagewise-independent random variable that represents the inflow into the reservoir during the time period.\n",
    "\n",
    "We assume that there are three stages, $t$=1, 2, 3, representing summer-fall, winter, and spring, and that we are solving this problem in an infinite-horizon setting with a discount factor of 0.95.\n",
    "\n",
    "In each stage, the agent incurs the cost of spillage, plus the cost of thermal generation. We assume that the cost of thermal generation is dependent on the stage $t$ = 1, 2, 3, and that in each stage, $w$ is drawn from the set $(w_i, w_d)$ = $\\{(0, 7.5), (3, 5), (10, 2.5)\\}$ with equal probability.\n",
    "\n",
    "### Constructing the policy graph\n",
    "\n",
    "There are three stages in our problem, so we construct a linear policy graph with three stages using `SDDP.LinearGraph`:"
   ]
  },
  {
   "cell_type": "code",
   "execution_count": 11,
   "metadata": {},
   "outputs": [
    {
     "data": {
      "text/plain": [
       "Root\n",
       " 0\n",
       "Nodes\n",
       " 1\n",
       " 2\n",
       " 3\n",
       "Arcs\n",
       " 0 => 1 w.p. 1.0\n",
       " 1 => 2 w.p. 1.0\n",
       " 2 => 3 w.p. 1.0\n"
      ]
     },
     "execution_count": 11,
     "metadata": {},
     "output_type": "execute_result"
    }
   ],
   "source": [
    "graph = SDDP.LinearGraph(3)"
   ]
  },
  {
   "cell_type": "markdown",
   "metadata": {},
   "source": [
    "Then, because we want to solve an infinite-horizon problem, we add an additional edge between node 3 and node 1 with probability 0.95:"
   ]
  },
  {
   "cell_type": "code",
   "execution_count": 12,
   "metadata": {},
   "outputs": [],
   "source": [
    "SDDP.add_edge(graph, 3 => 1, 0.95)"
   ]
  },
  {
   "cell_type": "markdown",
   "metadata": {},
   "source": [
    "### Constructing the model\n",
    "\n",
    "The state variable $x$, constructed by passing the `SDDP.State` tag to @variable is actually a Julia struct with two fields: $x.in$ and $x.out$ corresponding to the incoming and outgoing state variables respectively. Both $x.in$ and $x.out$ are standard JuMP variables. The initial_value keyword provides the value of the state variable in the root node (i.e., $x_0$).\n",
    "\n",
    "Compared to a JuMP model, one key difference is that we use @stageobjective instead of @objective. The `SDDP.parameterize` function takes a list of supports for $w$ and parameterizes the JuMP model `sp` by setting the right-hand sides of the appropriate constraints (note how the constraints initially have a right-hand side of 0). By default, it is assumed that the realizations have uniform probability, but a probability mass vector can also be provided."
   ]
  },
  {
   "cell_type": "code",
   "execution_count": 13,
   "metadata": {},
   "outputs": [
    {
     "data": {
      "text/plain": [
       "A policy graph with 3 nodes.\n",
       " Node indices: 1, 2, 3\n"
      ]
     },
     "execution_count": 13,
     "metadata": {},
     "output_type": "execute_result"
    }
   ],
   "source": [
    "model = SDDP.PolicyGraph(\n",
    "    graph,\n",
    "    sense = :Min,\n",
    "    lower_bound = 0.0,\n",
    "    optimizer = HiGHS.Optimizer,\n",
    ") do sp, t\n",
    "    @variable(sp, 5 <= x <= 15, SDDP.State, initial_value = 10)\n",
    "    @variable(sp, g_t >= 0)\n",
    "    @variable(sp, g_h >= 0)\n",
    "    @variable(sp, s >= 0)\n",
    "    @constraint(sp, balance, x.out - x.in + g_h + s == 0)\n",
    "    @constraint(sp, demand, g_h + g_t == 0)\n",
    "    @stageobjective(sp, s + t * g_t)\n",
    "    SDDP.parameterize(sp, [[0, 7.5], [3, 5], [10, 2.5]]) do w\n",
    "        set_normalized_rhs(balance, w[1])\n",
    "        return set_normalized_rhs(demand, w[2])\n",
    "    end\n",
    "end"
   ]
  },
  {
   "cell_type": "markdown",
   "metadata": {},
   "source": [
    "### Training the policy\n",
    "\n",
    "Once a model has been constructed, the next step is to train the policy. This can be achieved using `SDDP.train`. There are many options that can be passed, but `iteration_limit` terminates the training after the prescribed number of SDDP iterations."
   ]
  },
  {
   "cell_type": "code",
   "execution_count": 15,
   "metadata": {},
   "outputs": [
    {
     "name": "stdout",
     "output_type": "stream",
     "text": [
      "------------------------------------------------------------------------------\n",
      "                      SDDP.jl (c) Oscar Dowson, 2017-21\n",
      "\n",
      "Problem\n",
      "  Nodes           : 3\n",
      "  State variables : 1\n",
      "  Scenarios       : Inf\n",
      "  Existing cuts   : true\n",
      "  Subproblem structure                      : (min, max)\n",
      "    Variables                               : (6, 6)\n",
      "    VariableRef in MOI.EqualTo{Float64}     : (1, 1)\n",
      "    VariableRef in MOI.LessThan{Float64}    : (1, 1)\n",
      "    AffExpr in MOI.GreaterThan{Float64}     : (9, 13)\n",
      "    AffExpr in MOI.EqualTo{Float64}         : (2, 2)\n",
      "    VariableRef in MOI.GreaterThan{Float64} : (5, 5)\n",
      "Options\n",
      "  Solver          : serial mode\n",
      "  Risk measure    : SDDP.Expectation()\n",
      "  Sampling scheme : SDDP.InSampleMonteCarlo\n",
      "\n",
      "Numerical stability report\n",
      "  Non-zero Matrix range     [2e-03, 2e+00]\n",
      "  Non-zero Objective range  [1e+00, 3e+00]\n",
      "  Non-zero Bounds range     [5e+00, 2e+01]\n",
      "  Non-zero RHS range        [2e+00, 2e+02]\n",
      "No problems detected\n",
      "\n",
      " Iteration    Simulation       Bound         Time (s)    Proc. ID   # Solves\n"
     ]
    },
    {
     "name": "stderr",
     "output_type": "stream",
     "text": [
      "┌ Warning: Re-training a model with existing cuts!\n",
      "│ \n",
      "│ Are you sure you want to do this? The output from this training may be\n",
      "│ misleading because the policy is already partially trained.\n",
      "│ \n",
      "│ If you meant to train a new policy with different settings, you must\n",
      "│ build a new model.\n",
      "│ \n",
      "│ If you meant to refine a previously trained policy, turn off this\n",
      "│ warning by passing `add_to_existing_cuts = true` as a keyword argument\n",
      "│ to `SDDP.train`.\n",
      "│ \n",
      "│ In a future release, this warning may turn into an error.\n",
      "└ @ SDDP C:\\Users\\slash\\.julia\\packages\\SDDP\\VpZOu\\src\\algorithm.jl:931\n"
     ]
    },
    {
     "name": "stdout",
     "output_type": "stream",
     "text": [
      "        1    4.105195e+02   2.364194e+02   2.760000e-01          1      24315\n",
      "        2    2.500329e+02   2.364199e+02   4.250000e-01          1      24546\n",
      "        3    8.999757e+02   2.364245e+02   1.009000e+00          1      25485\n",
      "        4    4.092475e+02   2.364252e+02   1.279000e+00          1      25884\n",
      "        5    2.079988e+02   2.364260e+02   1.415000e+00          1      26091\n",
      "        6    2.229906e+02   2.364265e+02   1.551000e+00          1      26322\n",
      "        7    9.750000e+01   2.364273e+02   1.658000e+00          1      26469\n",
      "        8    7.810577e+02   2.364279e+02   2.198000e+00          1      27312\n",
      "        9    4.674973e+02   2.364292e+02   2.502000e+00          1      27819\n",
      "       10    1.300208e+02   2.364297e+02   2.633000e+00          1      28002\n",
      "       11    5.084974e+02   2.364303e+02   2.884000e+00          1      28377\n",
      "       12    5.459912e+02   2.364306e+02   3.244000e+00          1      28932\n",
      "       13    1.520002e+02   2.364307e+02   3.391000e+00          1      29139\n",
      "       14    4.219992e+02   2.364313e+02   3.660000e+00          1      29550\n",
      "       15    6.200000e+01   2.364313e+02   3.710000e+00          1      29625\n",
      "       16    1.320047e+02   2.364318e+02   3.829000e+00          1      29820\n",
      "       17    5.699970e+01   2.364319e+02   3.877000e+00          1      29883\n",
      "       18    2.569969e+02   2.364320e+02   4.046000e+00          1      30114\n",
      "       19    6.394993e+02   2.364329e+02   4.507000e+00          1      30777\n",
      "       20    1.304944e+02   2.364330e+02   4.602000e+00          1      30924\n",
      "       21    3.500063e+01   2.364332e+02   4.644000e+00          1      30987\n",
      "       22    3.880036e+02   2.364332e+02   4.969000e+00          1      31458\n",
      "       23    3.640028e+02   2.364336e+02   5.213000e+00          1      31797\n",
      "       24    2.970069e+02   2.364337e+02   5.473000e+00          1      32148\n",
      "       25    1.700001e+02   2.364340e+02   5.678000e+00          1      32391\n",
      "       26    1.645003e+02   2.364340e+02   5.847000e+00          1      32634\n",
      "       27    4.549965e+01   2.364341e+02   5.896000e+00          1      32697\n",
      "       28    4.255000e+02   2.364342e+02   6.155000e+00          1      33084\n",
      "       29    1.770013e+02   2.364342e+02   6.264000e+00          1      33231\n",
      "       30    1.559504e+03   2.364344e+02   7.577000e+00          1      34818\n",
      "       31    1.205012e+02   2.364345e+02   7.685000e+00          1      34965\n",
      "       32    1.855023e+02   2.364346e+02   7.943000e+00          1      35280\n",
      "       33    1.449950e+01   2.364347e+02   7.969000e+00          1      35307\n",
      "       34    1.750000e+01   2.364347e+02   7.983000e+00          1      35322\n",
      "       35    1.300002e+01   2.364347e+02   8.007000e+00          1      35349\n",
      "       36    1.445008e+02   2.364347e+02   8.099000e+00          1      35472\n",
      "       37    1.725002e+02   2.364348e+02   8.397000e+00          1      35751\n",
      "       38    4.049917e+01   2.364348e+02   8.443000e+00          1      35814\n",
      "       39    3.300008e+01   2.364348e+02   8.475000e+00          1      35865\n",
      "       40    3.450004e+02   2.364350e+02   8.650000e+00          1      36120\n",
      "       41    1.005007e+02   2.364350e+02   8.702000e+00          1      36195\n",
      "       42    1.750000e+01   2.364350e+02   8.716000e+00          1      36210\n",
      "       43    2.440029e+02   2.364351e+02   8.941000e+00          1      36501\n",
      "       44    1.030001e+02   2.364351e+02   9.020000e+00          1      36612\n",
      "       45    9.249960e+01   2.364352e+02   9.103000e+00          1      36723\n",
      "       46    2.020004e+02   2.364352e+02   9.236000e+00          1      36894\n",
      "       47    1.649995e+02   2.364352e+02   9.385000e+00          1      37089\n",
      "       48    2.620001e+02   2.364352e+02   9.606000e+00          1      37368\n",
      "       49    1.705020e+02   2.364354e+02   9.786000e+00          1      37575\n",
      "       50    2.910005e+02   2.364355e+02   1.000800e+01          1      37854\n",
      "       51    1.250018e+02   2.364355e+02   1.014100e+01          1      38025\n",
      "       52    4.950000e+01   2.364355e+02   1.019100e+01          1      38088\n",
      "       53    2.839999e+02   2.364356e+02   1.047500e+01          1      38439\n",
      "       54    1.995005e+02   2.364357e+02   1.063900e+01          1      38634\n",
      "       55    1.144992e+02   2.364357e+02   1.071800e+01          1      38721\n",
      "       56    3.009998e+02   2.364357e+02   1.091300e+01          1      38988\n",
      "       57    4.680018e+02   2.364358e+02   1.133200e+01          1      39459\n",
      "       58    3.399919e+01   2.364358e+02   1.138100e+01          1      39522\n",
      "       59    8.450012e+02   2.364359e+02   1.207000e+01          1      40329\n",
      "       60    6.500597e+00   2.364359e+02   1.208200e+01          1      40344\n",
      "       61    8.595002e+02   2.364361e+02   1.277500e+01          1      41211\n",
      "       62    6.195076e+02   2.364362e+02   1.334400e+01          1      41850\n",
      "       63    2.230001e+02   2.364362e+02   1.357000e+01          1      42081\n",
      "       64    1.750000e+01   2.364362e+02   1.358300e+01          1      42096\n",
      "       65    2.005015e+02   2.364362e+02   1.380400e+01          1      42303\n",
      "       66    9.999973e+00   2.364362e+02   1.382800e+01          1      42330\n",
      "       67    2.340000e+02   2.364362e+02   1.399700e+01          1      42525\n",
      "       68    3.845007e+02   2.364362e+02   1.437000e+01          1      42912\n",
      "       69    7.600003e+01   2.364362e+02   1.443400e+01          1      42987\n",
      "       70    4.109998e+02   2.364363e+02   1.485400e+01          1      43410\n",
      "       71    1.429998e+02   2.364363e+02   1.501000e+01          1      43581\n",
      "       72    2.620000e+02   2.364363e+02   1.523100e+01          1      43812\n",
      "       73    2.500000e+00   2.364363e+02   1.524300e+01          1      43827\n",
      "       74    4.750002e+01   2.364363e+02   1.526900e+01          1      43854\n",
      "       75    2.755000e+02   2.364363e+02   1.558300e+01          1      44133\n",
      "       76    2.949999e+02   2.364363e+02   1.590300e+01          1      44496\n",
      "       77    3.775001e+02   2.364363e+02   1.625400e+01          1      44871\n",
      "       78    4.549999e+01   2.364364e+02   1.631200e+01          1      44934\n",
      "       79    2.835002e+02   2.364364e+02   1.654300e+01          1      45189\n",
      "       80    2.025000e+02   2.364364e+02   1.672700e+01          1      45360\n",
      "       81    7.599999e+01   2.364364e+02   1.679000e+01          1      45423\n",
      "       82    1.349999e+01   2.364364e+02   1.681700e+01          1      45450\n",
      "       83    3.470001e+02   2.364364e+02   1.723600e+01          1      45837\n",
      "       84    2.045000e+02   2.364364e+02   1.743400e+01          1      46068\n",
      "       85    4.600025e+01   2.364364e+02   1.755600e+01          1      46191\n",
      "       86    3.090003e+02   2.364364e+02   1.782200e+01          1      46470\n",
      "       87    4.510002e+02   2.364364e+02   1.815400e+01          1      46821\n",
      "       88    2.005000e+02   2.364365e+02   1.832900e+01          1      46992\n",
      "       89    7.999991e+01   2.364365e+02   1.838900e+01          1      47055\n",
      "       90    8.450001e+01   2.364365e+02   1.844300e+01          1      47118\n",
      "       91    2.335000e+02   2.364365e+02   1.871900e+01          1      47397\n",
      "       92    3.099997e+01   2.364365e+02   1.876700e+01          1      47448\n",
      "       93    2.405000e+02   2.364365e+02   1.896600e+01          1      47667\n",
      "       94    1.195002e+02   2.364365e+02   1.916500e+01          1      47886\n",
      "       95    1.100000e+02   2.364365e+02   1.929400e+01          1      47997\n",
      "       96    1.305000e+02   2.364365e+02   1.947200e+01          1      48168\n",
      "       97    8.599984e+01   2.364365e+02   1.954800e+01          1      48243\n",
      "       98    2.145000e+02   2.364365e+02   1.970200e+01          1      48426\n",
      "       99    1.079999e+02   2.364365e+02   1.979900e+01          1      48513\n",
      "      100    2.440002e+02   2.364365e+02   2.009400e+01          1      48780\n",
      "\n",
      "Terminating training\n",
      "  Status         : iteration_limit\n",
      "  Total time (s) : 2.009400e+01\n",
      "  Total solves   : 48780\n",
      "  Best bound     :  2.364365e+02\n",
      "  Simulation CI  :  2.387037e+02 ± 4.603190e+01\n",
      "------------------------------------------------------------------------------\n"
     ]
    }
   ],
   "source": [
    "SDDP.train(model, iteration_limit = 100)"
   ]
  },
  {
   "cell_type": "markdown",
   "metadata": {},
   "source": [
    "### Simulating the policy\n",
    "\n",
    "After training, we can simulate the policy using `SDDP.simulate`."
   ]
  },
  {
   "cell_type": "code",
   "execution_count": 16,
   "metadata": {},
   "outputs": [
    {
     "name": "stdout",
     "output_type": "stream",
     "text": [
      "On average, 2.02 units of thermal are used in the first stage.\n"
     ]
    }
   ],
   "source": [
    "sims = SDDP.simulate(model, 100, [:g_t])\n",
    "mu = round(mean([s[1][:g_t] for s in sims]), digits = 2)\n",
    "println(\"On average, $(mu) units of thermal are used in the first stage.\")"
   ]
  },
  {
   "cell_type": "markdown",
   "metadata": {},
   "source": [
    "### Extracting the water values\n",
    "\n",
    "Finally, we can use `SDDP.ValueFunction` and `SDDP.evaluate` to obtain and evaluate the value function at different points in the state-space. Note that since we are minimizing, the price has a negative sign: each additional unit of water leads to a decrease in the the expected long-run cost."
   ]
  },
  {
   "cell_type": "code",
   "execution_count": 17,
   "metadata": {},
   "outputs": [
    {
     "name": "stdout",
     "output_type": "stream",
     "text": [
      "Presolving model\n",
      "382 rows, 1 cols, 382 nonzeros\n",
      "0 rows, 0 cols, 0 nonzeros\n",
      "Presolve : Reductions: rows 0(-4015); columns 0(-2); elements 0(-8030) - Reduced to empty\n",
      "Solving the original LP from the solution after postsolve\n",
      "Model   status      : Optimal\n",
      "Objective value     :  2.3356257439e+02\n",
      "HiGHS run time      :          0.02\n"
     ]
    },
    {
     "data": {
      "text/plain": [
       "(233.562574389762, Dict(:x => -0.6600005524119096))"
      ]
     },
     "execution_count": 17,
     "metadata": {},
     "output_type": "execute_result"
    }
   ],
   "source": [
    "V = SDDP.ValueFunction(model[1])\n",
    "cost, price = SDDP.evaluate(V, x = 10)"
   ]
  },
  {
   "cell_type": "code",
   "execution_count": null,
   "metadata": {},
   "outputs": [],
   "source": []
  }
 ],
 "metadata": {
  "kernelspec": {
   "display_name": "Julia 1.8.2",
   "language": "julia",
   "name": "julia-1.8"
  },
  "language_info": {
   "file_extension": ".jl",
   "mimetype": "application/julia",
   "name": "julia",
   "version": "1.8.2"
  }
 },
 "nbformat": 4,
 "nbformat_minor": 2
}
