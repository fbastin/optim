{
 "cells": [
  {
   "cell_type": "markdown",
   "id": "5e261ce3",
   "metadata": {},
   "source": [
    "# Random numbers generation"
   ]
  },
  {
   "cell_type": "markdown",
   "id": "7cdc84e1",
   "metadata": {},
   "source": [
    "This notebook aims to gently introduce to pseudo-random numbers generation, presenting some underlying concepts, and the implementation favors readability over speed. Efficient implementations are avaible on the net, and should be considered for serious purposes."
   ]
  },
  {
   "cell_type": "markdown",
   "id": "6529442b",
   "metadata": {},
   "source": [
    "## Linear congruential generators"
   ]
  },
  {
   "cell_type": "markdown",
   "id": "b2621768",
   "metadata": {},
   "source": [
    "We first consider general LCGs, of the form\n",
    "$$\n",
    "x_{k+1} = a x_k +c \\mod m.\n",
    "$$"
   ]
  },
  {
   "cell_type": "markdown",
   "id": "0a287658",
   "metadata": {},
   "source": [
    "Adapted from https://rosettacode.org/wiki/Linear_congruential_generator"
   ]
  },
  {
   "cell_type": "code",
   "execution_count": null,
   "id": "52941005",
   "metadata": {
    "execution": {
     "iopub.execute_input": "2023-09-03T03:06:32.105Z",
     "iopub.status.busy": "2023-09-03T03:06:32.096Z",
     "iopub.status.idle": "2023-09-03T03:06:32.133Z"
    }
   },
   "outputs": [],
   "source": [
    "function getlcg(seed::Integer, a::Integer, c::Integer, m::Integer)\n",
    "    state = seed\n",
    "    am_mil = 1.0/m\n",
    "    return function lcgrand()\n",
    "        state = mod(a * state + c, m)\n",
    "        return state*am_mil  # produce a number in (0,1)\n",
    "    end\n",
    "end"
   ]
  },
  {
   "cell_type": "markdown",
   "id": "c61a4385",
   "metadata": {},
   "source": [
    "Standard minimal generator:"
   ]
  },
  {
   "cell_type": "code",
   "execution_count": null,
   "id": "939f3e27",
   "metadata": {
    "execution": {
     "iopub.execute_input": "2023-09-03T03:06:32.163Z",
     "iopub.status.busy": "2023-09-03T03:06:32.152Z",
     "iopub.status.idle": "2023-09-03T03:06:32.185Z"
    }
   },
   "outputs": [],
   "source": [
    "stdmin = getlcg(1234, 16807, 0, 2^31-1)"
   ]
  },
  {
   "cell_type": "code",
   "execution_count": null,
   "id": "b12954a4",
   "metadata": {
    "execution": {
     "iopub.execute_input": "2023-09-03T03:06:32.212Z",
     "iopub.status.busy": "2023-09-03T03:06:32.199Z",
     "iopub.status.idle": "2023-09-03T03:06:32.239Z"
    }
   },
   "outputs": [],
   "source": [
    "n = 10000\n",
    "\n",
    "sample = zeros(n)\n",
    "\n",
    "for i = 1:n\n",
    "    sample[i] = stdmin()\n",
    "end"
   ]
  },
  {
   "cell_type": "code",
   "execution_count": null,
   "id": "8ce44622",
   "metadata": {
    "execution": {
     "iopub.execute_input": "2023-09-03T03:06:32.270Z",
     "iopub.status.busy": "2023-09-03T03:06:32.258Z"
    }
   },
   "outputs": [],
   "source": [
    "using Plots"
   ]
  },
  {
   "cell_type": "code",
   "execution_count": null,
   "id": "69e6fd4c",
   "metadata": {
    "scrolled": true
   },
   "outputs": [],
   "source": [
    "scatter(sample[[2*i+1 for i = 0:(Int)(n/2)-1]], sample[[2*i for i = 1:(Int)(n/2)]], label=\"\", fmt = :png)"
   ]
  },
  {
   "cell_type": "markdown",
   "id": "5eba2691",
   "metadata": {},
   "source": [
    "## RDST"
   ]
  },
  {
   "cell_type": "markdown",
   "id": "9335993e",
   "metadata": {},
   "source": [
    "Implementation of random streams."
   ]
  },
  {
   "cell_type": "code",
   "execution_count": null,
   "id": "548143d9",
   "metadata": {},
   "outputs": [],
   "source": [
    "import Pkg\n",
    "\n",
    "Pkg.add(url = \"https://github.com/JLChartrand/RDST.jl\")"
   ]
  },
  {
   "cell_type": "code",
   "execution_count": null,
   "id": "8a9aabd0",
   "metadata": {},
   "outputs": [],
   "source": [
    "using RDST"
   ]
  },
  {
   "cell_type": "markdown",
   "id": "c0638ccd",
   "metadata": {},
   "source": [
    "### MRG32K3a"
   ]
  },
  {
   "cell_type": "code",
   "execution_count": null,
   "id": "548a4205",
   "metadata": {},
   "outputs": [],
   "source": [
    "mrg_gen1 = MRG32k3aGen([1,2,3,4,5,6])"
   ]
  },
  {
   "cell_type": "code",
   "execution_count": null,
   "id": "f195e2df",
   "metadata": {},
   "outputs": [],
   "source": [
    "typeof(mrg_gen1)"
   ]
  },
  {
   "cell_type": "code",
   "execution_count": null,
   "id": "4868c453",
   "metadata": {},
   "outputs": [],
   "source": [
    "mrg_gen1 = MRG32k3aGen()"
   ]
  },
  {
   "cell_type": "markdown",
   "id": "5d6f4a24",
   "metadata": {},
   "source": [
    "The `show` function prints the current seed of the generator."
   ]
  },
  {
   "cell_type": "code",
   "execution_count": null,
   "id": "4820badc",
   "metadata": {},
   "outputs": [],
   "source": [
    "show(mrg_gen1)"
   ]
  },
  {
   "cell_type": "code",
   "execution_count": null,
   "id": "319546bb",
   "metadata": {},
   "outputs": [],
   "source": [
    "mrg_1 = next_stream(mrg_gen1)"
   ]
  },
  {
   "cell_type": "code",
   "execution_count": null,
   "id": "af196c8f",
   "metadata": {},
   "outputs": [],
   "source": [
    "typeof(mrg_1)"
   ]
  },
  {
   "cell_type": "code",
   "execution_count": null,
   "id": "a450b5bd",
   "metadata": {},
   "outputs": [],
   "source": [
    "mrg_1 = next_stream(mrg_gen1)"
   ]
  },
  {
   "cell_type": "code",
   "execution_count": null,
   "id": "7ad1111d",
   "metadata": {},
   "outputs": [],
   "source": [
    "stream1a = [rand(mrg_1) for i in 1:10]\n",
    "reset_substream!(mrg_1)\n",
    "stream1b = [rand(mrg_1) for i in 1:10]\n",
    "stream1a == stream1b"
   ]
  },
  {
   "cell_type": "code",
   "execution_count": null,
   "id": "887a4b50",
   "metadata": {},
   "outputs": [],
   "source": [
    "show(mrg_gen1)"
   ]
  },
  {
   "cell_type": "code",
   "execution_count": null,
   "id": "d535e372",
   "metadata": {},
   "outputs": [],
   "source": [
    "next_substream!(mrg_1)"
   ]
  },
  {
   "cell_type": "code",
   "execution_count": null,
   "id": "e81025cf",
   "metadata": {},
   "outputs": [],
   "source": [
    "stream2a = [rand(mrg_1) for i in 1:10]\n",
    "reset_stream!(mrg_1)"
   ]
  },
  {
   "cell_type": "code",
   "execution_count": null,
   "id": "3b6b92ac",
   "metadata": {},
   "outputs": [],
   "source": [
    "next_substream!(mrg_1)\n",
    "stream2b = [rand(mrg_1) for i in 1:10]\n",
    "stream2a == stream2b"
   ]
  },
  {
   "cell_type": "code",
   "execution_count": null,
   "id": "0ef51a86",
   "metadata": {},
   "outputs": [],
   "source": [
    "reset_stream!(mrg_1)\n",
    "mrg_2 = next_stream(mrg_gen1)"
   ]
  },
  {
   "cell_type": "markdown",
   "id": "d830b18d",
   "metadata": {},
   "source": [
    "## Nonuniform distributions"
   ]
  },
  {
   "cell_type": "markdown",
   "id": "94eee03c",
   "metadata": {},
   "source": [
    "For continuous random variables, the inversion technique is equivalent to compute the quantile associated to the realization of a uniform random variable $U(0,1)$. We will use the distributions package."
   ]
  },
  {
   "cell_type": "code",
   "execution_count": null,
   "id": "602dcd93",
   "metadata": {},
   "outputs": [],
   "source": [
    "using Distributions"
   ]
  },
  {
   "cell_type": "code",
   "execution_count": null,
   "id": "8a9095e4",
   "metadata": {},
   "outputs": [],
   "source": [
    "N = Normal()\n",
    "α = quantile(N, 0.975)"
   ]
  },
  {
   "cell_type": "markdown",
   "id": "07d59ffe",
   "metadata": {},
   "source": [
    "Normally distributed number generation:"
   ]
  },
  {
   "cell_type": "code",
   "execution_count": null,
   "id": "f23dc3dc",
   "metadata": {},
   "outputs": [],
   "source": [
    "quantile(N, rand())"
   ]
  },
  {
   "cell_type": "markdown",
   "id": "26c9e286",
   "metadata": {},
   "source": [
    "We can measure the required generation time with the package BenchmarkTools."
   ]
  },
  {
   "cell_type": "code",
   "execution_count": null,
   "id": "3bf082af",
   "metadata": {},
   "outputs": [],
   "source": [
    "using BenchmarkTools"
   ]
  },
  {
   "cell_type": "code",
   "execution_count": null,
   "id": "293e6f4e",
   "metadata": {},
   "outputs": [],
   "source": [
    "function InvertNormal()\n",
    "    U = rand(Float64, 2)\n",
    "    return quantile(N, U[1]), quantile(N, U[2])\n",
    "end"
   ]
  },
  {
   "cell_type": "code",
   "execution_count": null,
   "id": "538179f5",
   "metadata": {},
   "outputs": [],
   "source": [
    "@btime X, Y = InvertNormal()"
   ]
  },
  {
   "cell_type": "code",
   "execution_count": null,
   "id": "41bf52aa",
   "metadata": {},
   "outputs": [],
   "source": [
    "function BoxMuller()\n",
    "    U = rand(Float64, 2)\n",
    "    \n",
    "    R = sqrt(-2*log(U[1]))\n",
    "    θ = 2*π*U[2]\n",
    "    \n",
    "    X = R*cos(θ)\n",
    "    Y = R*sin(θ)\n",
    "    \n",
    "    return X, Y\n",
    "end"
   ]
  },
  {
   "cell_type": "code",
   "execution_count": null,
   "id": "22f5ee46",
   "metadata": {},
   "outputs": [],
   "source": [
    "@btime X, Y = BoxMuller()"
   ]
  },
  {
   "cell_type": "code",
   "execution_count": null,
   "id": "03b26187",
   "metadata": {},
   "outputs": [],
   "source": [
    "randn()"
   ]
  },
  {
   "cell_type": "code",
   "execution_count": null,
   "id": "bde60e8d",
   "metadata": {},
   "outputs": [],
   "source": [
    "@btime randn()"
   ]
  },
  {
   "cell_type": "code",
   "execution_count": null,
   "id": "8a8ab59b",
   "metadata": {},
   "outputs": [],
   "source": []
  }
 ],
 "metadata": {
  "kernelspec": {
   "display_name": "Julia 1.10.5",
   "language": "julia",
   "name": "julia-1.10"
  },
  "language_info": {
   "file_extension": ".jl",
   "mimetype": "application/julia",
   "name": "julia",
   "version": "1.10.5"
  },
  "nteract": {
   "version": "0.28.0"
  }
 },
 "nbformat": 4,
 "nbformat_minor": 5
}
