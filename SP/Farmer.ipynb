{
 "cells": [
  {
   "cell_type": "markdown",
   "metadata": {},
   "source": [
    "# Farmer problem\n",
    "\n",
    "Reference: Birge and Louveaux, \"Introduction to Stochastic Programming\", Chapter 1"
   ]
  },
  {
   "cell_type": "code",
   "execution_count": 1,
   "metadata": {},
   "outputs": [],
   "source": [
    "using JuMP"
   ]
  },
  {
   "cell_type": "code",
   "execution_count": 2,
   "metadata": {},
   "outputs": [],
   "source": [
    "# Open-source solvers\n",
    "using GLPK\n",
    "using HiGHS"
   ]
  },
  {
   "cell_type": "markdown",
   "metadata": {},
   "source": [
    "Commercial solvers as `CPLEX` or `Gurobi` can also be used."
   ]
  },
  {
   "cell_type": "markdown",
   "metadata": {},
   "source": [
    "Among open-source solvers, we recommend HiGHS ((https://highs.info/), as suggested by the presentation done by Julian Hall at JuliaCon 2022: https://www.youtube.com/watch?v=ChKdTqUzXdY"
   ]
  },
  {
   "cell_type": "markdown",
   "metadata": {},
   "source": [
    "# Average Scenario"
   ]
  },
  {
   "cell_type": "markdown",
   "metadata": {},
   "source": [
    "We construct the model for the average scenario, using first the open-source HiGHS solver ."
   ]
  },
  {
   "cell_type": "code",
   "execution_count": 3,
   "metadata": {},
   "outputs": [
    {
     "data": {
      "text/plain": [
       "4-element Vector{Int64}:\n",
       " 170\n",
       " 150\n",
       "  36\n",
       "  10"
      ]
     },
     "execution_count": 3,
     "metadata": {},
     "output_type": "execute_result"
    }
   ],
   "source": [
    "m = Model(HiGHS.Optimizer)\n",
    "#m = Model(GLPK.Optimizer)\n",
    "\n",
    "crops = [\"Wheat\", \"Corn\", \"Sugar beets\"]\n",
    "ncrops = length(crops)\n",
    "\n",
    "@variable(m, x[1:ncrops] >= 0)\n",
    "@variable(m, y[1:2] >= 0)\n",
    "@variable(m, w[1:4] >= 0)\n",
    "\n",
    "costSeeding = [150, 230, 260]\n",
    "costs = [238, 210]\n",
    "prices = [170, 150, 36, 10]"
   ]
  },
  {
   "cell_type": "markdown",
   "metadata": {},
   "source": [
    "We can check that `m` is a JuMP model by checking its type."
   ]
  },
  {
   "cell_type": "code",
   "execution_count": 4,
   "metadata": {},
   "outputs": [
    {
     "data": {
      "text/plain": [
       "Model"
      ]
     },
     "execution_count": 4,
     "metadata": {},
     "output_type": "execute_result"
    }
   ],
   "source": [
    "typeof(m)"
   ]
  },
  {
   "cell_type": "code",
   "execution_count": 5,
   "metadata": {},
   "outputs": [
    {
     "data": {
      "text/plain": [
       "Vector{VariableRef}\u001b[90m (alias for \u001b[39m\u001b[90mArray{VariableRef, 1}\u001b[39m\u001b[90m)\u001b[39m"
      ]
     },
     "execution_count": 5,
     "metadata": {},
     "output_type": "execute_result"
    }
   ],
   "source": [
    "typeof(x)"
   ]
  },
  {
   "cell_type": "markdown",
   "metadata": {},
   "source": [
    "We now add the constraints."
   ]
  },
  {
   "cell_type": "code",
   "execution_count": 6,
   "metadata": {},
   "outputs": [
    {
     "data": {
      "text/latex": [
       "surface : $ x_{1} + x_{2} + x_{3} \\leq 500.0 $"
      ],
      "text/plain": [
       "surface : x[1] + x[2] + x[3] <= 500.0"
      ]
     },
     "execution_count": 6,
     "metadata": {},
     "output_type": "execute_result"
    }
   ],
   "source": [
    "@constraint(m, surface, sum(x[i] for i=1:ncrops) <= 500)"
   ]
  },
  {
   "cell_type": "code",
   "execution_count": 7,
   "metadata": {},
   "outputs": [
    {
     "data": {
      "text/latex": [
       "wheatNeeds : $ 2.5 x_{1} + y_{1} - w_{1} \\geq 200.0 $"
      ],
      "text/plain": [
       "wheatNeeds : 2.5 x[1] + y[1] - w[1] >= 200.0"
      ]
     },
     "execution_count": 7,
     "metadata": {},
     "output_type": "execute_result"
    }
   ],
   "source": [
    "@constraint(m, wheatNeeds, 2.5x[1]+y[1]-w[1] >= 200)"
   ]
  },
  {
   "cell_type": "code",
   "execution_count": 8,
   "metadata": {},
   "outputs": [
    {
     "data": {
      "text/latex": [
       "cornNeeds : $ 3 x_{2} + y_{2} - w_{2} \\geq 240.0 $"
      ],
      "text/plain": [
       "cornNeeds : 3 x[2] + y[2] - w[2] >= 240.0"
      ]
     },
     "execution_count": 8,
     "metadata": {},
     "output_type": "execute_result"
    }
   ],
   "source": [
    "@constraint(m, cornNeeds, 3x[2]+y[2]-w[2] >= 240)"
   ]
  },
  {
   "cell_type": "code",
   "execution_count": 9,
   "metadata": {},
   "outputs": [
    {
     "data": {
      "text/latex": [
       "beetsProd : $ -20 x_{3} + w_{3} + w_{4} \\leq 0.0 $"
      ],
      "text/plain": [
       "beetsProd : -20 x[3] + w[3] + w[4] <= 0.0"
      ]
     },
     "execution_count": 9,
     "metadata": {},
     "output_type": "execute_result"
    }
   ],
   "source": [
    "@constraint(m, beetsProd, w[3]+w[4] <= 20x[3])"
   ]
  },
  {
   "cell_type": "code",
   "execution_count": 10,
   "metadata": {},
   "outputs": [
    {
     "data": {
      "text/latex": [
       "beetsQuota : $ w_{3} \\leq 6000.0 $"
      ],
      "text/plain": [
       "beetsQuota : w[3] <= 6000.0"
      ]
     },
     "execution_count": 10,
     "metadata": {},
     "output_type": "execute_result"
    }
   ],
   "source": [
    "@constraint(m, beetsQuota, w[3] <= 6000)"
   ]
  },
  {
   "cell_type": "markdown",
   "metadata": {},
   "source": [
    "Let's define the objective function. "
   ]
  },
  {
   "cell_type": "code",
   "execution_count": 11,
   "metadata": {},
   "outputs": [
    {
     "data": {
      "text/latex": [
       "$$ 150 x_{1} + 230 x_{2} + 260 x_{3} + 238 y_{1} + 210 y_{2} - 170 w_{1} - 150 w_{2} - 36 w_{3} - 10 w_{4} $$"
      ],
      "text/plain": [
       "150 x[1] + 230 x[2] + 260 x[3] + 238 y[1] + 210 y[2] - 170 w[1] - 150 w[2] - 36 w[3] - 10 w[4]"
      ]
     },
     "execution_count": 11,
     "metadata": {},
     "output_type": "execute_result"
    }
   ],
   "source": [
    "@objective(m, Min, sum(costSeeding[i]*x[i] for i=1:ncrops) + sum(costs[i]*y[i] for i = 1:length(costs))\n",
    "    - (sum(prices[i]*w[i] for i=1:length(prices))))"
   ]
  },
  {
   "cell_type": "markdown",
   "metadata": {},
   "source": [
    "The complete model can be displayed with the command `print`."
   ]
  },
  {
   "cell_type": "code",
   "execution_count": 12,
   "metadata": {
    "scrolled": true
   },
   "outputs": [
    {
     "data": {
      "text/latex": [
       "$$ \\begin{aligned}\n",
       "\\min\\quad & 150 x_{1} + 230 x_{2} + 260 x_{3} + 238 y_{1} + 210 y_{2} - 170 w_{1} - 150 w_{2} - 36 w_{3} - 10 w_{4}\\\\\n",
       "\\text{Subject to} \\quad & 2.5 x_{1} + y_{1} - w_{1} \\geq 200.0\\\\\n",
       " & 3 x_{2} + y_{2} - w_{2} \\geq 240.0\\\\\n",
       " & x_{1} + x_{2} + x_{3} \\leq 500.0\\\\\n",
       " & -20 x_{3} + w_{3} + w_{4} \\leq 0.0\\\\\n",
       " & w_{3} \\leq 6000.0\\\\\n",
       " & x_{1} \\geq 0.0\\\\\n",
       " & x_{2} \\geq 0.0\\\\\n",
       " & x_{3} \\geq 0.0\\\\\n",
       " & y_{1} \\geq 0.0\\\\\n",
       " & y_{2} \\geq 0.0\\\\\n",
       " & w_{1} \\geq 0.0\\\\\n",
       " & w_{2} \\geq 0.0\\\\\n",
       " & w_{3} \\geq 0.0\\\\\n",
       " & w_{4} \\geq 0.0\\\\\n",
       "\\end{aligned} $$"
      ]
     },
     "metadata": {},
     "output_type": "display_data"
    }
   ],
   "source": [
    "print(m)"
   ]
  },
  {
   "cell_type": "markdown",
   "metadata": {},
   "source": [
    "More information can be obtained with the method `show`:"
   ]
  },
  {
   "cell_type": "code",
   "execution_count": 13,
   "metadata": {},
   "outputs": [
    {
     "name": "stdout",
     "output_type": "stream",
     "text": [
      "A JuMP Model\n",
      "Minimization problem with:\n",
      "Variables: 9\n",
      "Objective function type: AffExpr\n",
      "`AffExpr`-in-`MathOptInterface.GreaterThan{Float64}`: 2 constraints\n",
      "`AffExpr`-in-`MathOptInterface.LessThan{Float64}`: 3 constraints\n",
      "`VariableRef`-in-`MathOptInterface.GreaterThan{Float64}`: 9 constraints\n",
      "Model mode: AUTOMATIC\n",
      "CachingOptimizer state: EMPTY_OPTIMIZER\n",
      "Solver name: HiGHS\n",
      "Names registered in the model: beetsProd, beetsQuota, cornNeeds, surface, w, wheatNeeds, x, y"
     ]
    }
   ],
   "source": [
    "show(m)"
   ]
  },
  {
   "cell_type": "markdown",
   "metadata": {},
   "source": [
    "We now solve it."
   ]
  },
  {
   "cell_type": "code",
   "execution_count": 14,
   "metadata": {},
   "outputs": [
    {
     "name": "stdout",
     "output_type": "stream",
     "text": [
      "Running HiGHS 1.5.3 [date: 1970-01-01, git hash: 45a127b78]\n",
      "Copyright (c) 2023 HiGHS under MIT licence terms\n",
      "Presolving model\n",
      "4 rows, 9 cols, 12 nonzeros\n",
      "3 rows, 8 cols, 10 nonzeros\n",
      "3 rows, 7 cols, 9 nonzeros\n",
      "Presolve : Reductions: rows 3(-2); columns 7(-2); elements 9(-4)\n",
      "Solving the presolved LP\n",
      "Using EKK dual simplex solver - serial\n",
      "  Iteration        Objective     Infeasibilities num(sum)\n",
      "          0    -6.3999740210e+02 Ph1: 2(2); Du: 2(639.997) 0s\n",
      "          4    -1.1860000000e+05 Pr: 0(0) 0s\n",
      "Solving the original LP from the solution after postsolve\n",
      "Model   status      : Optimal\n",
      "Simplex   iterations: 4\n",
      "Objective value     : -1.1860000000e+05\n",
      "HiGHS run time      :          0.01\n"
     ]
    }
   ],
   "source": [
    "optimize!(m)"
   ]
  },
  {
   "cell_type": "code",
   "execution_count": 15,
   "metadata": {},
   "outputs": [
    {
     "name": "stdout",
     "output_type": "stream",
     "text": [
      "Solution: [120.0, 80.0, 300.0]"
     ]
    }
   ],
   "source": [
    "print(\"Solution: $(value.(x))\")"
   ]
  },
  {
   "cell_type": "code",
   "execution_count": 16,
   "metadata": {},
   "outputs": [
    {
     "name": "stdout",
     "output_type": "stream",
     "text": [
      "search: \u001b[0m\u001b[1mv\u001b[22m\u001b[0m\u001b[1ma\u001b[22m\u001b[0m\u001b[1ml\u001b[22m\u001b[0m\u001b[1mu\u001b[22m\u001b[0m\u001b[1me\u001b[22m \u001b[0m\u001b[1mv\u001b[22m\u001b[0m\u001b[1ma\u001b[22m\u001b[0m\u001b[1ml\u001b[22m\u001b[0m\u001b[1mu\u001b[22m\u001b[0m\u001b[1me\u001b[22ms set_\u001b[0m\u001b[1mv\u001b[22m\u001b[0m\u001b[1ma\u001b[22m\u001b[0m\u001b[1ml\u001b[22m\u001b[0m\u001b[1mu\u001b[22m\u001b[0m\u001b[1me\u001b[22m fix_\u001b[0m\u001b[1mv\u001b[22m\u001b[0m\u001b[1ma\u001b[22m\u001b[0m\u001b[1ml\u001b[22m\u001b[0m\u001b[1mu\u001b[22m\u001b[0m\u001b[1me\u001b[22m has_\u001b[0m\u001b[1mv\u001b[22m\u001b[0m\u001b[1ma\u001b[22m\u001b[0m\u001b[1ml\u001b[22m\u001b[0m\u001b[1mu\u001b[22m\u001b[0m\u001b[1me\u001b[22ms start_\u001b[0m\u001b[1mv\u001b[22m\u001b[0m\u001b[1ma\u001b[22m\u001b[0m\u001b[1ml\u001b[22m\u001b[0m\u001b[1mu\u001b[22m\u001b[0m\u001b[1me\u001b[22m callback_\u001b[0m\u001b[1mv\u001b[22m\u001b[0m\u001b[1ma\u001b[22m\u001b[0m\u001b[1ml\u001b[22m\u001b[0m\u001b[1mu\u001b[22m\u001b[0m\u001b[1me\u001b[22m\n",
      "\n"
     ]
    },
    {
     "data": {
      "text/latex": [
       "\\begin{verbatim}\n",
       "value(con_ref::ConstraintRef; result::Int = 1)\n",
       "\\end{verbatim}\n",
       "Return the primal value of constraint \\texttt{con\\_ref} associated with result index \\texttt{result} of the most-recent solution returned by the solver.\n",
       "\n",
       "That is, if \\texttt{con\\_ref} is the reference of a constraint \\texttt{func}-in-\\texttt{set}, it returns the value of \\texttt{func} evaluated at the value of the variables (given by \\href{@ref}{\\texttt{value(::VariableRef)}}).\n",
       "\n",
       "Use \\href{@ref}{\\texttt{has\\_values}} to check if a result exists before asking for values.\n",
       "\n",
       "See also: \\href{@ref}{\\texttt{result\\_count}}.\n",
       "\n",
       "\\subsection{Note}\n",
       "For scalar constraints, the constant is moved to the \\texttt{set} so it is not taken into account in the primal value of the constraint. For instance, the constraint \\texttt{@constraint(model, 2x + 3y + 1 == 5)} is transformed into \\texttt{2x + 3y}-in-\\texttt{MOI.EqualTo(4)} so the value returned by this function is the evaluation of \\texttt{2x + 3y}. ```\n",
       "\n",
       "\\rule{\\textwidth}{1pt}\n",
       "\\begin{verbatim}\n",
       "value(var_value::Function, con_ref::ConstraintRef)\n",
       "\\end{verbatim}\n",
       "Evaluate the primal value of the constraint \\texttt{con\\_ref} using \\texttt{var\\_value(v)} as the value for each variable \\texttt{v}.\n",
       "\n",
       "\\rule{\\textwidth}{1pt}\n",
       "\\begin{verbatim}\n",
       "value(v::VariableRef; result = 1)\n",
       "\\end{verbatim}\n",
       "Return the value of variable \\texttt{v} associated with result index \\texttt{result} of the most-recent returned by the solver.\n",
       "\n",
       "Use \\href{@ref}{\\texttt{has\\_values}} to check if a result exists before asking for values.\n",
       "\n",
       "See also: \\href{@ref}{\\texttt{result\\_count}}.\n",
       "\n",
       "\\rule{\\textwidth}{1pt}\n",
       "\\begin{verbatim}\n",
       "value(var_value::Function, v::VariableRef)\n",
       "\\end{verbatim}\n",
       "Evaluate the value of the variable \\texttt{v} as \\texttt{var\\_value(v)}.\n",
       "\n",
       "\\rule{\\textwidth}{1pt}\n",
       "\\begin{verbatim}\n",
       "value(var_value::Function, ex::GenericAffExpr)\n",
       "\\end{verbatim}\n",
       "Evaluate \\texttt{ex} using \\texttt{var\\_value(v)} as the value for each variable \\texttt{v}.\n",
       "\n",
       "\\rule{\\textwidth}{1pt}\n",
       "\\begin{verbatim}\n",
       "value(v::GenericAffExpr; result::Int = 1)\n",
       "\\end{verbatim}\n",
       "Return the value of the \\texttt{GenericAffExpr} \\texttt{v} associated with result index \\texttt{result} of the most-recent solution returned by the solver.\n",
       "\n",
       "See also: \\href{@ref}{\\texttt{result\\_count}}.\n",
       "\n",
       "\\rule{\\textwidth}{1pt}\n",
       "\\begin{verbatim}\n",
       "value(var_value::Function, ex::GenericQuadExpr)\n",
       "\\end{verbatim}\n",
       "Evaluate \\texttt{ex} using \\texttt{var\\_value(v)} as the value for each variable \\texttt{v}.\n",
       "\n",
       "\\rule{\\textwidth}{1pt}\n",
       "\\begin{verbatim}\n",
       "value(v::GenericQuadExpr; result::Int = 1)\n",
       "\\end{verbatim}\n",
       "Return the value of the \\texttt{GenericQuadExpr} \\texttt{v} associated with result index \\texttt{result} of the most-recent solution returned by the solver.\n",
       "\n",
       "Replaces \\texttt{getvalue} for most use cases.\n",
       "\n",
       "See also: \\href{@ref}{\\texttt{result\\_count}}.\n",
       "\n",
       "\\rule{\\textwidth}{1pt}\n",
       "\\begin{verbatim}\n",
       "value(p::NonlinearParameter)\n",
       "\\end{verbatim}\n",
       "Return the current value stored in the nonlinear parameter \\texttt{p}.\n",
       "\n",
       "\\section{Example}\n",
       "\\begin{verbatim}\n",
       "model = Model()\n",
       "@NLparameter(model, p == 10)\n",
       "value(p)\n",
       "\n",
       "# output\n",
       "10.0\n",
       "\\end{verbatim}\n",
       "\\rule{\\textwidth}{1pt}\n",
       "\\begin{verbatim}\n",
       "value(ex::NonlinearExpression; result::Int = 1)\n",
       "\\end{verbatim}\n",
       "Return the value of the \\texttt{NonlinearExpression} \\texttt{ex} associated with result index \\texttt{result} of the most-recent solution returned by the solver.\n",
       "\n",
       "Replaces \\texttt{getvalue} for most use cases.\n",
       "\n",
       "See also: \\href{@ref}{\\texttt{result\\_count}}.\n",
       "\n",
       "\\rule{\\textwidth}{1pt}\n",
       "\\begin{verbatim}\n",
       "value(var_value::Function, ex::NonlinearExpression)\n",
       "\\end{verbatim}\n",
       "Evaluate \\texttt{ex} using \\texttt{var\\_value(v)} as the value for each variable \\texttt{v}.\n",
       "\n",
       "\\rule{\\textwidth}{1pt}\n",
       "\\begin{verbatim}\n",
       "value(c::NonlinearConstraintRef; result::Int = 1)\n",
       "\\end{verbatim}\n",
       "Return the value of the \\texttt{NonlinearConstraintRef} \\texttt{c} associated with result index \\texttt{result} of the most-recent solution returned by the solver.\n",
       "\n",
       "See also: \\href{@ref}{\\texttt{result\\_count}}.\n",
       "\n",
       "\\rule{\\textwidth}{1pt}\n",
       "\\begin{verbatim}\n",
       "value(var_value::Function, c::NonlinearConstraintRef)\n",
       "\\end{verbatim}\n",
       "Evaluate \\texttt{c} using \\texttt{var\\_value(v)} as the value for each variable \\texttt{v}.\n",
       "\n"
      ],
      "text/markdown": [
       "```\n",
       "value(con_ref::ConstraintRef; result::Int = 1)\n",
       "```\n",
       "\n",
       "Return the primal value of constraint `con_ref` associated with result index `result` of the most-recent solution returned by the solver.\n",
       "\n",
       "That is, if `con_ref` is the reference of a constraint `func`-in-`set`, it returns the value of `func` evaluated at the value of the variables (given by [`value(::VariableRef)`](@ref)).\n",
       "\n",
       "Use [`has_values`](@ref) to check if a result exists before asking for values.\n",
       "\n",
       "See also: [`result_count`](@ref).\n",
       "\n",
       "## Note\n",
       "\n",
       "For scalar constraints, the constant is moved to the `set` so it is not taken into account in the primal value of the constraint. For instance, the constraint `@constraint(model, 2x + 3y + 1 == 5)` is transformed into `2x + 3y`-in-`MOI.EqualTo(4)` so the value returned by this function is the evaluation of `2x + 3y`. ```\n",
       "\n",
       "---\n",
       "\n",
       "```\n",
       "value(var_value::Function, con_ref::ConstraintRef)\n",
       "```\n",
       "\n",
       "Evaluate the primal value of the constraint `con_ref` using `var_value(v)` as the value for each variable `v`.\n",
       "\n",
       "---\n",
       "\n",
       "```\n",
       "value(v::VariableRef; result = 1)\n",
       "```\n",
       "\n",
       "Return the value of variable `v` associated with result index `result` of the most-recent returned by the solver.\n",
       "\n",
       "Use [`has_values`](@ref) to check if a result exists before asking for values.\n",
       "\n",
       "See also: [`result_count`](@ref).\n",
       "\n",
       "---\n",
       "\n",
       "```\n",
       "value(var_value::Function, v::VariableRef)\n",
       "```\n",
       "\n",
       "Evaluate the value of the variable `v` as `var_value(v)`.\n",
       "\n",
       "---\n",
       "\n",
       "```\n",
       "value(var_value::Function, ex::GenericAffExpr)\n",
       "```\n",
       "\n",
       "Evaluate `ex` using `var_value(v)` as the value for each variable `v`.\n",
       "\n",
       "---\n",
       "\n",
       "```\n",
       "value(v::GenericAffExpr; result::Int = 1)\n",
       "```\n",
       "\n",
       "Return the value of the `GenericAffExpr` `v` associated with result index `result` of the most-recent solution returned by the solver.\n",
       "\n",
       "See also: [`result_count`](@ref).\n",
       "\n",
       "---\n",
       "\n",
       "```\n",
       "value(var_value::Function, ex::GenericQuadExpr)\n",
       "```\n",
       "\n",
       "Evaluate `ex` using `var_value(v)` as the value for each variable `v`.\n",
       "\n",
       "---\n",
       "\n",
       "```\n",
       "value(v::GenericQuadExpr; result::Int = 1)\n",
       "```\n",
       "\n",
       "Return the value of the `GenericQuadExpr` `v` associated with result index `result` of the most-recent solution returned by the solver.\n",
       "\n",
       "Replaces `getvalue` for most use cases.\n",
       "\n",
       "See also: [`result_count`](@ref).\n",
       "\n",
       "---\n",
       "\n",
       "```\n",
       "value(p::NonlinearParameter)\n",
       "```\n",
       "\n",
       "Return the current value stored in the nonlinear parameter `p`.\n",
       "\n",
       "# Example\n",
       "\n",
       "```jldoctest; setup=:(using JuMP)\n",
       "model = Model()\n",
       "@NLparameter(model, p == 10)\n",
       "value(p)\n",
       "\n",
       "# output\n",
       "10.0\n",
       "```\n",
       "\n",
       "---\n",
       "\n",
       "```\n",
       "value(ex::NonlinearExpression; result::Int = 1)\n",
       "```\n",
       "\n",
       "Return the value of the `NonlinearExpression` `ex` associated with result index `result` of the most-recent solution returned by the solver.\n",
       "\n",
       "Replaces `getvalue` for most use cases.\n",
       "\n",
       "See also: [`result_count`](@ref).\n",
       "\n",
       "---\n",
       "\n",
       "```\n",
       "value(var_value::Function, ex::NonlinearExpression)\n",
       "```\n",
       "\n",
       "Evaluate `ex` using `var_value(v)` as the value for each variable `v`.\n",
       "\n",
       "---\n",
       "\n",
       "```\n",
       "value(c::NonlinearConstraintRef; result::Int = 1)\n",
       "```\n",
       "\n",
       "Return the value of the `NonlinearConstraintRef` `c` associated with result index `result` of the most-recent solution returned by the solver.\n",
       "\n",
       "See also: [`result_count`](@ref).\n",
       "\n",
       "---\n",
       "\n",
       "```\n",
       "value(var_value::Function, c::NonlinearConstraintRef)\n",
       "```\n",
       "\n",
       "Evaluate `c` using `var_value(v)` as the value for each variable `v`.\n"
      ],
      "text/plain": [
       "\u001b[36m  value(con_ref::ConstraintRef; result::Int = 1)\u001b[39m\n",
       "\n",
       "  Return the primal value of constraint \u001b[36mcon_ref\u001b[39m associated with result index\n",
       "  \u001b[36mresult\u001b[39m of the most-recent solution returned by the solver.\n",
       "\n",
       "  That is, if \u001b[36mcon_ref\u001b[39m is the reference of a constraint \u001b[36mfunc\u001b[39m-in-\u001b[36mset\u001b[39m, it returns\n",
       "  the value of \u001b[36mfunc\u001b[39m evaluated at the value of the variables (given by\n",
       "  \u001b[36mvalue(::VariableRef)\u001b[39m).\n",
       "\n",
       "  Use \u001b[36mhas_values\u001b[39m to check if a result exists before asking for values.\n",
       "\n",
       "  See also: \u001b[36mresult_count\u001b[39m.\n",
       "\n",
       "\u001b[1m  Note\u001b[22m\n",
       "\u001b[1m  ====\u001b[22m\n",
       "\n",
       "  For scalar constraints, the constant is moved to the \u001b[36mset\u001b[39m so it is not taken\n",
       "  into account in the primal value of the constraint. For instance, the\n",
       "  constraint \u001b[36m@constraint(model, 2x + 3y + 1 == 5)\u001b[39m is transformed into \u001b[36m2x +\n",
       "  3y\u001b[39m-in-\u001b[36mMOI.EqualTo(4)\u001b[39m so the value returned by this function is the\n",
       "  evaluation of \u001b[36m2x + 3y\u001b[39m. ```\n",
       "\n",
       "  ────────────────────────────────────────────────────────────────────────────\n",
       "\n",
       "\u001b[36m  value(var_value::Function, con_ref::ConstraintRef)\u001b[39m\n",
       "\n",
       "  Evaluate the primal value of the constraint \u001b[36mcon_ref\u001b[39m using \u001b[36mvar_value(v)\u001b[39m as\n",
       "  the value for each variable \u001b[36mv\u001b[39m.\n",
       "\n",
       "  ────────────────────────────────────────────────────────────────────────────\n",
       "\n",
       "\u001b[36m  value(v::VariableRef; result = 1)\u001b[39m\n",
       "\n",
       "  Return the value of variable \u001b[36mv\u001b[39m associated with result index \u001b[36mresult\u001b[39m of the\n",
       "  most-recent returned by the solver.\n",
       "\n",
       "  Use \u001b[36mhas_values\u001b[39m to check if a result exists before asking for values.\n",
       "\n",
       "  See also: \u001b[36mresult_count\u001b[39m.\n",
       "\n",
       "  ────────────────────────────────────────────────────────────────────────────\n",
       "\n",
       "\u001b[36m  value(var_value::Function, v::VariableRef)\u001b[39m\n",
       "\n",
       "  Evaluate the value of the variable \u001b[36mv\u001b[39m as \u001b[36mvar_value(v)\u001b[39m.\n",
       "\n",
       "  ────────────────────────────────────────────────────────────────────────────\n",
       "\n",
       "\u001b[36m  value(var_value::Function, ex::GenericAffExpr)\u001b[39m\n",
       "\n",
       "  Evaluate \u001b[36mex\u001b[39m using \u001b[36mvar_value(v)\u001b[39m as the value for each variable \u001b[36mv\u001b[39m.\n",
       "\n",
       "  ────────────────────────────────────────────────────────────────────────────\n",
       "\n",
       "\u001b[36m  value(v::GenericAffExpr; result::Int = 1)\u001b[39m\n",
       "\n",
       "  Return the value of the \u001b[36mGenericAffExpr\u001b[39m \u001b[36mv\u001b[39m associated with result index \u001b[36mresult\u001b[39m\n",
       "  of the most-recent solution returned by the solver.\n",
       "\n",
       "  See also: \u001b[36mresult_count\u001b[39m.\n",
       "\n",
       "  ────────────────────────────────────────────────────────────────────────────\n",
       "\n",
       "\u001b[36m  value(var_value::Function, ex::GenericQuadExpr)\u001b[39m\n",
       "\n",
       "  Evaluate \u001b[36mex\u001b[39m using \u001b[36mvar_value(v)\u001b[39m as the value for each variable \u001b[36mv\u001b[39m.\n",
       "\n",
       "  ────────────────────────────────────────────────────────────────────────────\n",
       "\n",
       "\u001b[36m  value(v::GenericQuadExpr; result::Int = 1)\u001b[39m\n",
       "\n",
       "  Return the value of the \u001b[36mGenericQuadExpr\u001b[39m \u001b[36mv\u001b[39m associated with result index\n",
       "  \u001b[36mresult\u001b[39m of the most-recent solution returned by the solver.\n",
       "\n",
       "  Replaces \u001b[36mgetvalue\u001b[39m for most use cases.\n",
       "\n",
       "  See also: \u001b[36mresult_count\u001b[39m.\n",
       "\n",
       "  ────────────────────────────────────────────────────────────────────────────\n",
       "\n",
       "\u001b[36m  value(p::NonlinearParameter)\u001b[39m\n",
       "\n",
       "  Return the current value stored in the nonlinear parameter \u001b[36mp\u001b[39m.\n",
       "\n",
       "\u001b[1m  Example\u001b[22m\n",
       "\u001b[1m  ≡≡≡≡≡≡≡\u001b[22m\n",
       "\n",
       "\u001b[36m  model = Model()\u001b[39m\n",
       "\u001b[36m  @NLparameter(model, p == 10)\u001b[39m\n",
       "\u001b[36m  value(p)\u001b[39m\n",
       "\u001b[36m  \u001b[39m\n",
       "\u001b[36m  # output\u001b[39m\n",
       "\u001b[36m  10.0\u001b[39m\n",
       "\n",
       "  ────────────────────────────────────────────────────────────────────────────\n",
       "\n",
       "\u001b[36m  value(ex::NonlinearExpression; result::Int = 1)\u001b[39m\n",
       "\n",
       "  Return the value of the \u001b[36mNonlinearExpression\u001b[39m \u001b[36mex\u001b[39m associated with result index\n",
       "  \u001b[36mresult\u001b[39m of the most-recent solution returned by the solver.\n",
       "\n",
       "  Replaces \u001b[36mgetvalue\u001b[39m for most use cases.\n",
       "\n",
       "  See also: \u001b[36mresult_count\u001b[39m.\n",
       "\n",
       "  ────────────────────────────────────────────────────────────────────────────\n",
       "\n",
       "\u001b[36m  value(var_value::Function, ex::NonlinearExpression)\u001b[39m\n",
       "\n",
       "  Evaluate \u001b[36mex\u001b[39m using \u001b[36mvar_value(v)\u001b[39m as the value for each variable \u001b[36mv\u001b[39m.\n",
       "\n",
       "  ────────────────────────────────────────────────────────────────────────────\n",
       "\n",
       "\u001b[36m  value(c::NonlinearConstraintRef; result::Int = 1)\u001b[39m\n",
       "\n",
       "  Return the value of the \u001b[36mNonlinearConstraintRef\u001b[39m \u001b[36mc\u001b[39m associated with result\n",
       "  index \u001b[36mresult\u001b[39m of the most-recent solution returned by the solver.\n",
       "\n",
       "  See also: \u001b[36mresult_count\u001b[39m.\n",
       "\n",
       "  ────────────────────────────────────────────────────────────────────────────\n",
       "\n",
       "\u001b[36m  value(var_value::Function, c::NonlinearConstraintRef)\u001b[39m\n",
       "\n",
       "  Evaluate \u001b[36mc\u001b[39m using \u001b[36mvar_value(v)\u001b[39m as the value for each variable \u001b[36mv\u001b[39m."
      ]
     },
     "execution_count": 16,
     "metadata": {},
     "output_type": "execute_result"
    }
   ],
   "source": [
    "? value"
   ]
  },
  {
   "cell_type": "code",
   "execution_count": 17,
   "metadata": {},
   "outputs": [
    {
     "data": {
      "text/html": [
       "# 17 methods for generic function <b>value</b> from \u001b[35mJuMP\u001b[39m:<ul><li> value(::<b>MutableArithmetics.Zero</b>) in JuMP at <a href=\"file://C:/Users/slash/.julia/packages/JuMP/60Bnj/src/variables.jl\" target=\"_blank\">C:\\Users\\slash\\.julia\\packages\\JuMP\\60Bnj\\src\\variables.jl:1337</a></li> <li> value(ex::<b>NonlinearExpression</b>; <i>result</i>) in JuMP at <a href=\"file://C:/Users/slash/.julia/packages/JuMP/60Bnj/src/nlp.jl\" target=\"_blank\">C:\\Users\\slash\\.julia\\packages\\JuMP\\60Bnj\\src\\nlp.jl:328</a></li> <li> value(p::<b>NonlinearParameter</b>) in JuMP at <a href=\"file://C:/Users/slash/.julia/packages/JuMP/60Bnj/src/nlp.jl\" target=\"_blank\">C:\\Users\\slash\\.julia\\packages\\JuMP\\60Bnj\\src\\nlp.jl:235</a></li> <li> value(v::<b>VariableRef</b>; <i>result</i>) in JuMP at <a href=\"file://C:/Users/slash/.julia/packages/JuMP/60Bnj/src/variables.jl\" target=\"_blank\">C:\\Users\\slash\\.julia\\packages\\JuMP\\60Bnj\\src\\variables.jl:1031</a></li> <li> value(c::<b>NonlinearConstraintRef</b>; <i>result</i>) in JuMP at <a href=\"file://C:/Users/slash/.julia/packages/JuMP/60Bnj/src/nlp.jl\" target=\"_blank\">C:\\Users\\slash\\.julia\\packages\\JuMP\\60Bnj\\src\\nlp.jl:509</a></li> <li> value(con_ref::<b>ConstraintRef{<:AbstractModel, <:MathOptInterface.ConstraintIndex}</b>; <i>result</i>) in JuMP at <a href=\"file://C:/Users/slash/.julia/packages/JuMP/60Bnj/src/constraints.jl\" target=\"_blank\">C:\\Users\\slash\\.julia\\packages\\JuMP\\60Bnj\\src\\constraints.jl:900</a></li> <li> value(ex::<b>GenericQuadExpr</b>; <i>result</i>) in JuMP at <a href=\"file://C:/Users/slash/.julia/packages/JuMP/60Bnj/src/quad_expr.jl\" target=\"_blank\">C:\\Users\\slash\\.julia\\packages\\JuMP\\60Bnj\\src\\quad_expr.jl:702</a></li> <li> value(Q::<b>LinearAlgebra.Symmetric{V, Matrix{V}}</b>)<i> where V<:AbstractVariableRef</i> in JuMP at <a href=\"file://C:/Users/slash/.julia/packages/JuMP/60Bnj/src/sd.jl\" target=\"_blank\">C:\\Users\\slash\\.julia\\packages\\JuMP\\60Bnj\\src\\sd.jl:346</a></li> <li> value(::<b>AbstractArray{<:AbstractJuMPScalar}</b>) in JuMP at <a href=\"file://C:/Users/slash/.julia/packages/JuMP/60Bnj/src/variables.jl\" target=\"_blank\">C:\\Users\\slash\\.julia\\packages\\JuMP\\60Bnj\\src\\variables.jl:1330</a></li> <li> value(var_value::<b>Function</b>, c::<b>NonlinearConstraintRef</b>) in JuMP at <a href=\"file://C:/Users/slash/.julia/packages/JuMP/60Bnj/src/nlp.jl\" target=\"_blank\">C:\\Users\\slash\\.julia\\packages\\JuMP\\60Bnj\\src\\nlp.jl:520</a></li> <li> value(var_value::<b>Function</b>, ex::<b>NonlinearExpression</b>) in JuMP at <a href=\"file://C:/Users/slash/.julia/packages/JuMP/60Bnj/src/nlp.jl\" target=\"_blank\">C:\\Users\\slash\\.julia\\packages\\JuMP\\60Bnj\\src\\nlp.jl:363</a></li> <li> value(var_value::<b>Function</b>, ex::<b>GenericQuadExpr{CoefType, VarType}</b>)<i> where {CoefType, VarType}</i> in JuMP at <a href=\"file://C:/Users/slash/.julia/packages/JuMP/60Bnj/src/quad_expr.jl\" target=\"_blank\">C:\\Users\\slash\\.julia\\packages\\JuMP\\60Bnj\\src\\quad_expr.jl:676</a></li> <li> value(var_value::<b>Function</b>, ex::<b>GenericAffExpr{T, V}</b>)<i> where {T, V}</i> in JuMP at <a href=\"file://C:/Users/slash/.julia/packages/JuMP/60Bnj/src/aff_expr.jl\" target=\"_blank\">C:\\Users\\slash\\.julia\\packages\\JuMP\\60Bnj\\src\\aff_expr.jl:330</a></li> <li> value(var_value::<b>Function</b>, con_ref::<b>ConstraintRef{<:AbstractModel, <:MathOptInterface.ConstraintIndex}</b>) in JuMP at <a href=\"file://C:/Users/slash/.julia/packages/JuMP/60Bnj/src/constraints.jl\" target=\"_blank\">C:\\Users\\slash\\.julia\\packages\\JuMP\\60Bnj\\src\\constraints.jl:913</a></li> <li> value(var_value::<b>Function</b>, v::<b>VariableRef</b>) in JuMP at <a href=\"file://C:/Users/slash/.julia/packages/JuMP/60Bnj/src/variables.jl\" target=\"_blank\">C:\\Users\\slash\\.julia\\packages\\JuMP\\60Bnj\\src\\variables.jl:1040</a></li> <li> value(x::<b>Number</b>) in JuMP at <a href=\"file://C:/Users/slash/.julia/packages/JuMP/60Bnj/src/variables.jl\" target=\"_blank\">C:\\Users\\slash\\.julia\\packages\\JuMP\\60Bnj\\src\\variables.jl:1338</a></li> <li> value(a::<b>GenericAffExpr</b>; <i>result</i>) in JuMP at <a href=\"file://C:/Users/slash/.julia/packages/JuMP/60Bnj/src/aff_expr.jl\" target=\"_blank\">C:\\Users\\slash\\.julia\\packages\\JuMP\\60Bnj\\src\\aff_expr.jl:570</a></li> </ul>"
      ],
      "text/plain": [
       "# 17 methods for generic function \"value\" from \u001b[35mJuMP\u001b[39m:\n",
       "  [1] value(::\u001b[1mMutableArithmetics.Zero\u001b[22m)\n",
       "\u001b[90m     @\u001b[39m \u001b[90mC:\\Users\\slash\\.julia\\packages\\JuMP\\60Bnj\\src\\\u001b[39m\u001b[90m\u001b[4mvariables.jl:1337\u001b[24m\u001b[39m\n",
       "  [2] value(\u001b[90mex\u001b[39m::\u001b[1mNonlinearExpression\u001b[22m; result)\n",
       "\u001b[90m     @\u001b[39m \u001b[90mC:\\Users\\slash\\.julia\\packages\\JuMP\\60Bnj\\src\\\u001b[39m\u001b[90m\u001b[4mnlp.jl:328\u001b[24m\u001b[39m\n",
       "  [3] value(\u001b[90mp\u001b[39m::\u001b[1mNonlinearParameter\u001b[22m)\n",
       "\u001b[90m     @\u001b[39m \u001b[90mC:\\Users\\slash\\.julia\\packages\\JuMP\\60Bnj\\src\\\u001b[39m\u001b[90m\u001b[4mnlp.jl:235\u001b[24m\u001b[39m\n",
       "  [4] value(\u001b[90mv\u001b[39m::\u001b[1mVariableRef\u001b[22m; result)\n",
       "\u001b[90m     @\u001b[39m \u001b[90mC:\\Users\\slash\\.julia\\packages\\JuMP\\60Bnj\\src\\\u001b[39m\u001b[90m\u001b[4mvariables.jl:1031\u001b[24m\u001b[39m\n",
       "  [5] value(\u001b[90mc\u001b[39m::\u001b[1mNonlinearConstraintRef\u001b[22m; result)\n",
       "\u001b[90m     @\u001b[39m \u001b[90mC:\\Users\\slash\\.julia\\packages\\JuMP\\60Bnj\\src\\\u001b[39m\u001b[90m\u001b[4mnlp.jl:509\u001b[24m\u001b[39m\n",
       "  [6] value(\u001b[90mcon_ref\u001b[39m::\u001b[1mConstraintRef\u001b[22m\u001b[0m{<:AbstractModel, <:MathOptInterface.ConstraintIndex}; result)\n",
       "\u001b[90m     @\u001b[39m \u001b[90mC:\\Users\\slash\\.julia\\packages\\JuMP\\60Bnj\\src\\\u001b[39m\u001b[90m\u001b[4mconstraints.jl:900\u001b[24m\u001b[39m\n",
       "  [7] value(\u001b[90mex\u001b[39m::\u001b[1mGenericQuadExpr\u001b[22m; result)\n",
       "\u001b[90m     @\u001b[39m \u001b[90mC:\\Users\\slash\\.julia\\packages\\JuMP\\60Bnj\\src\\\u001b[39m\u001b[90m\u001b[4mquad_expr.jl:702\u001b[24m\u001b[39m\n",
       "  [8] value(\u001b[90mQ\u001b[39m::\u001b[1mLinearAlgebra.Symmetric\u001b[22m\u001b[0m{V, Matrix{V}}) where V<:AbstractVariableRef\n",
       "\u001b[90m     @\u001b[39m \u001b[90mC:\\Users\\slash\\.julia\\packages\\JuMP\\60Bnj\\src\\\u001b[39m\u001b[90m\u001b[4msd.jl:346\u001b[24m\u001b[39m\n",
       "  [9] value(::\u001b[1mAbstractArray\u001b[22m\u001b[0m{<:AbstractJuMPScalar})\n",
       "\u001b[90m     @\u001b[39m \u001b[90mC:\\Users\\slash\\.julia\\packages\\JuMP\\60Bnj\\src\\\u001b[39m\u001b[90m\u001b[4mvariables.jl:1330\u001b[24m\u001b[39m\n",
       " [10] value(\u001b[90mvar_value\u001b[39m::\u001b[1mFunction\u001b[22m, \u001b[90mc\u001b[39m::\u001b[1mNonlinearConstraintRef\u001b[22m)\n",
       "\u001b[90m     @\u001b[39m \u001b[90mC:\\Users\\slash\\.julia\\packages\\JuMP\\60Bnj\\src\\\u001b[39m\u001b[90m\u001b[4mnlp.jl:520\u001b[24m\u001b[39m\n",
       " [11] value(\u001b[90mvar_value\u001b[39m::\u001b[1mFunction\u001b[22m, \u001b[90mex\u001b[39m::\u001b[1mNonlinearExpression\u001b[22m)\n",
       "\u001b[90m     @\u001b[39m \u001b[90mC:\\Users\\slash\\.julia\\packages\\JuMP\\60Bnj\\src\\\u001b[39m\u001b[90m\u001b[4mnlp.jl:363\u001b[24m\u001b[39m\n",
       " [12] value(\u001b[90mvar_value\u001b[39m::\u001b[1mFunction\u001b[22m, \u001b[90mex\u001b[39m::\u001b[1mGenericQuadExpr\u001b[22m\u001b[0m{CoefType, VarType}) where {CoefType, VarType}\n",
       "\u001b[90m     @\u001b[39m \u001b[90mC:\\Users\\slash\\.julia\\packages\\JuMP\\60Bnj\\src\\\u001b[39m\u001b[90m\u001b[4mquad_expr.jl:676\u001b[24m\u001b[39m\n",
       " [13] value(\u001b[90mvar_value\u001b[39m::\u001b[1mFunction\u001b[22m, \u001b[90mex\u001b[39m::\u001b[1mGenericAffExpr\u001b[22m\u001b[0m{T, V}) where {T, V}\n",
       "\u001b[90m     @\u001b[39m \u001b[90mC:\\Users\\slash\\.julia\\packages\\JuMP\\60Bnj\\src\\\u001b[39m\u001b[90m\u001b[4maff_expr.jl:330\u001b[24m\u001b[39m\n",
       " [14] value(\u001b[90mvar_value\u001b[39m::\u001b[1mFunction\u001b[22m, \u001b[90mcon_ref\u001b[39m::\u001b[1mConstraintRef\u001b[22m\u001b[0m{<:AbstractModel, <:MathOptInterface.ConstraintIndex})\n",
       "\u001b[90m     @\u001b[39m \u001b[90mC:\\Users\\slash\\.julia\\packages\\JuMP\\60Bnj\\src\\\u001b[39m\u001b[90m\u001b[4mconstraints.jl:913\u001b[24m\u001b[39m\n",
       " [15] value(\u001b[90mvar_value\u001b[39m::\u001b[1mFunction\u001b[22m, \u001b[90mv\u001b[39m::\u001b[1mVariableRef\u001b[22m)\n",
       "\u001b[90m     @\u001b[39m \u001b[90mC:\\Users\\slash\\.julia\\packages\\JuMP\\60Bnj\\src\\\u001b[39m\u001b[90m\u001b[4mvariables.jl:1040\u001b[24m\u001b[39m\n",
       " [16] value(\u001b[90mx\u001b[39m::\u001b[1mNumber\u001b[22m)\n",
       "\u001b[90m     @\u001b[39m \u001b[90mC:\\Users\\slash\\.julia\\packages\\JuMP\\60Bnj\\src\\\u001b[39m\u001b[90m\u001b[4mvariables.jl:1338\u001b[24m\u001b[39m\n",
       " [17] value(\u001b[90ma\u001b[39m::\u001b[1mGenericAffExpr\u001b[22m; result)\n",
       "\u001b[90m     @\u001b[39m \u001b[90mC:\\Users\\slash\\.julia\\packages\\JuMP\\60Bnj\\src\\\u001b[39m\u001b[90m\u001b[4maff_expr.jl:570\u001b[24m\u001b[39m"
      ]
     },
     "execution_count": 17,
     "metadata": {},
     "output_type": "execute_result"
    }
   ],
   "source": [
    "methods(value)"
   ]
  },
  {
   "cell_type": "code",
   "execution_count": 18,
   "metadata": {},
   "outputs": [
    {
     "data": {
      "text/plain": [
       "500.0"
      ]
     },
     "execution_count": 18,
     "metadata": {},
     "output_type": "execute_result"
    }
   ],
   "source": [
    "value(surface)"
   ]
  },
  {
   "cell_type": "markdown",
   "metadata": {},
   "source": [
    "We will summarize the solution approach using a Julia function."
   ]
  },
  {
   "cell_type": "code",
   "execution_count": 19,
   "metadata": {},
   "outputs": [
    {
     "data": {
      "text/plain": [
       "farmer (generic function with 3 methods)"
      ]
     },
     "execution_count": 19,
     "metadata": {},
     "output_type": "execute_result"
    }
   ],
   "source": [
    "function farmer(factor::Float64 = 1.0, m::Model = Model(HiGHS.Optimizer))\n",
    "    crops = [\"Wheat\", \"Corn\", \"Suger beets\"]\n",
    "    ncrops = length(crops)\n",
    "\n",
    "    @variable(m, x[1:ncrops] >= 0)\n",
    "    @variable(m, y[1:2] >= 0)\n",
    "    @variable(m, w[1:4] >= 0)\n",
    "\n",
    "    costSeeding = [150, 230, 260]\n",
    "    costs = [238, 210]\n",
    "    prices = [170, 150, 36, 10]\n",
    "    returns = factor*[2.5, 3, 20]\n",
    "\n",
    "    @constraint(m, surface, sum(x[i] for i=1:3) <= 500)\n",
    "\n",
    "    @constraint(m, wheatNeeds, returns[1]x[1]+y[1]-w[1] >= 200)\n",
    "    @constraint(m, cornNeeds, returns[2]x[2]+y[2]-w[2] >= 240)\n",
    "    @constraint(m, beetsProd, w[3]+w[4] <= returns[3]x[3])\n",
    "    @constraint(m, beetsQuota, w[3] <= 6000)\n",
    "\n",
    "    @objective(m,Min,sum(costSeeding[i]*x[i] for i=1:3) + sum(costs[i]*y[i] for i = 1:length(costs))\n",
    "    - (sum(prices[i]*w[i] for i=1:length(prices))))\n",
    "    \n",
    "    status = optimize!(m)\n",
    "\n",
    "    # println(value.(x))\n",
    "\n",
    "    return m, status\n",
    "end"
   ]
  },
  {
   "cell_type": "code",
   "execution_count": 20,
   "metadata": {},
   "outputs": [
    {
     "data": {
      "text/html": [
       "# 3 methods for generic function <b>farmer</b> from \u001b[36mMain\u001b[39m:<ul><li> farmer(factor::<b>Float64</b>, m::<b>Model</b>) in Main at In[19]:1</li> <li> farmer(factor::<b>Float64</b>) in Main at In[19]:1</li> <li> farmer() in Main at In[19]:1</li> </ul>"
      ],
      "text/plain": [
       "# 3 methods for generic function \"farmer\" from \u001b[36mMain\u001b[39m:\n",
       " [1] farmer(\u001b[90mfactor\u001b[39m::\u001b[1mFloat64\u001b[22m, \u001b[90mm\u001b[39m::\u001b[1mModel\u001b[22m)\n",
       "\u001b[90m     @\u001b[39m \u001b[90m\u001b[4mIn[19]:1\u001b[24m\u001b[39m\n",
       " [2] farmer(\u001b[90mfactor\u001b[39m::\u001b[1mFloat64\u001b[22m)\n",
       "\u001b[90m     @\u001b[39m \u001b[90m\u001b[4mIn[19]:1\u001b[24m\u001b[39m\n",
       " [3] farmer()\n",
       "\u001b[90m     @\u001b[39m \u001b[90m\u001b[4mIn[19]:1\u001b[24m\u001b[39m"
      ]
     },
     "execution_count": 20,
     "metadata": {},
     "output_type": "execute_result"
    }
   ],
   "source": [
    "methods(farmer)"
   ]
  },
  {
   "cell_type": "code",
   "execution_count": 21,
   "metadata": {},
   "outputs": [
    {
     "name": "stdout",
     "output_type": "stream",
     "text": [
      "Running HiGHS 1.5.3 [date: 1970-01-01, git hash: 45a127b78]\n",
      "Copyright (c) 2023 HiGHS under MIT licence terms\n",
      "Presolving model\n",
      "4 rows, 9 cols, 12 nonzeros\n",
      "3 rows, 8 cols, 10 nonzeros\n",
      "3 rows, 7 cols, 9 nonzeros\n",
      "Presolve : Reductions: rows 3(-2); columns 7(-2); elements 9(-4)\n",
      "Solving the presolved LP\n",
      "Using EKK dual simplex solver - serial\n",
      "  Iteration        Objective     Infeasibilities num(sum)\n",
      "          0    -6.3999740210e+02 Ph1: 2(2); Du: 2(639.997) 0s\n",
      "          4    -1.1860000000e+05 Pr: 0(0) 0s\n",
      "Solving the original LP from the solution after postsolve\n",
      "Model   status      : Optimal\n",
      "Simplex   iterations: 4\n",
      "Objective value     : -1.1860000000e+05\n",
      "HiGHS run time      :          0.00\n"
     ]
    },
    {
     "data": {
      "text/plain": [
       "(A JuMP Model\n",
       "Minimization problem with:\n",
       "Variables: 9\n",
       "Objective function type: AffExpr\n",
       "`AffExpr`-in-`MathOptInterface.GreaterThan{Float64}`: 2 constraints\n",
       "`AffExpr`-in-`MathOptInterface.LessThan{Float64}`: 3 constraints\n",
       "`VariableRef`-in-`MathOptInterface.GreaterThan{Float64}`: 9 constraints\n",
       "Model mode: AUTOMATIC\n",
       "CachingOptimizer state: ATTACHED_OPTIMIZER\n",
       "Solver name: HiGHS\n",
       "Names registered in the model: beetsProd, beetsQuota, cornNeeds, surface, w, wheatNeeds, x, y, nothing)"
      ]
     },
     "execution_count": 21,
     "metadata": {},
     "output_type": "execute_result"
    }
   ],
   "source": [
    "maverage, status = farmer()"
   ]
  },
  {
   "cell_type": "code",
   "execution_count": 22,
   "metadata": {},
   "outputs": [
    {
     "data": {
      "text/plain": [
       "A JuMP Model\n",
       "Minimization problem with:\n",
       "Variables: 9\n",
       "Objective function type: AffExpr\n",
       "`AffExpr`-in-`MathOptInterface.GreaterThan{Float64}`: 2 constraints\n",
       "`AffExpr`-in-`MathOptInterface.LessThan{Float64}`: 3 constraints\n",
       "`VariableRef`-in-`MathOptInterface.GreaterThan{Float64}`: 9 constraints\n",
       "Model mode: AUTOMATIC\n",
       "CachingOptimizer state: ATTACHED_OPTIMIZER\n",
       "Solver name: HiGHS\n",
       "Names registered in the model: beetsProd, beetsQuota, cornNeeds, surface, w, wheatNeeds, x, y"
      ]
     },
     "execution_count": 22,
     "metadata": {},
     "output_type": "execute_result"
    }
   ],
   "source": [
    "maverage"
   ]
  },
  {
   "cell_type": "code",
   "execution_count": 23,
   "metadata": {},
   "outputs": [
    {
     "data": {
      "text/latex": [
       "$$ \\begin{aligned}\n",
       "\\min\\quad & 150 x_{1} + 230 x_{2} + 260 x_{3} + 238 y_{1} + 210 y_{2} - 170 w_{1} - 150 w_{2} - 36 w_{3} - 10 w_{4}\\\\\n",
       "\\text{Subject to} \\quad & 2.5 x_{1} + y_{1} - w_{1} \\geq 200.0\\\\\n",
       " & 3 x_{2} + y_{2} - w_{2} \\geq 240.0\\\\\n",
       " & x_{1} + x_{2} + x_{3} \\leq 500.0\\\\\n",
       " & -20 x_{3} + w_{3} + w_{4} \\leq 0.0\\\\\n",
       " & w_{3} \\leq 6000.0\\\\\n",
       " & x_{1} \\geq 0.0\\\\\n",
       " & x_{2} \\geq 0.0\\\\\n",
       " & x_{3} \\geq 0.0\\\\\n",
       " & y_{1} \\geq 0.0\\\\\n",
       " & y_{2} \\geq 0.0\\\\\n",
       " & w_{1} \\geq 0.0\\\\\n",
       " & w_{2} \\geq 0.0\\\\\n",
       " & w_{3} \\geq 0.0\\\\\n",
       " & w_{4} \\geq 0.0\\\\\n",
       "\\end{aligned} $$"
      ]
     },
     "metadata": {},
     "output_type": "display_data"
    }
   ],
   "source": [
    "print(maverage)"
   ]
  },
  {
   "cell_type": "code",
   "execution_count": 24,
   "metadata": {},
   "outputs": [
    {
     "data": {
      "text/plain": [
       "-118600.0"
      ]
     },
     "execution_count": 24,
     "metadata": {},
     "output_type": "execute_result"
    }
   ],
   "source": [
    "objective_value(maverage)"
   ]
  },
  {
   "cell_type": "markdown",
   "metadata": {},
   "source": [
    "We can recover the decision variables with the method `all_variables`:"
   ]
  },
  {
   "cell_type": "code",
   "execution_count": 25,
   "metadata": {},
   "outputs": [
    {
     "data": {
      "text/plain": [
       "9-element Vector{VariableRef}:\n",
       " x[1]\n",
       " x[2]\n",
       " x[3]\n",
       " y[1]\n",
       " y[2]\n",
       " w[1]\n",
       " w[2]\n",
       " w[3]\n",
       " w[4]"
      ]
     },
     "execution_count": 25,
     "metadata": {},
     "output_type": "execute_result"
    }
   ],
   "source": [
    "variables = all_variables(maverage)"
   ]
  },
  {
   "cell_type": "markdown",
   "metadata": {},
   "source": [
    "We can thus get the first-stage decisions."
   ]
  },
  {
   "cell_type": "code",
   "execution_count": 26,
   "metadata": {},
   "outputs": [
    {
     "data": {
      "text/plain": [
       "3-element Vector{Float64}:\n",
       " 120.0\n",
       "  80.0\n",
       " 300.0"
      ]
     },
     "execution_count": 26,
     "metadata": {},
     "output_type": "execute_result"
    }
   ],
   "source": [
    "value.(variables[1:3])"
   ]
  },
  {
   "cell_type": "markdown",
   "metadata": {
    "collapsed": true
   },
   "source": [
    "## Good scenario"
   ]
  },
  {
   "cell_type": "code",
   "execution_count": 27,
   "metadata": {},
   "outputs": [
    {
     "name": "stdout",
     "output_type": "stream",
     "text": [
      "Running HiGHS 1.5.3 [date: 1970-01-01, git hash: 45a127b78]\n",
      "Copyright (c) 2023 HiGHS under MIT licence terms\n",
      "Presolving model\n",
      "4 rows, 9 cols, 12 nonzeros\n",
      "3 rows, 8 cols, 10 nonzeros\n",
      "3 rows, 7 cols, 9 nonzeros\n",
      "Presolve : Reductions: rows 3(-2); columns 7(-2); elements 9(-4)\n",
      "Solving the presolved LP\n",
      "Using EKK dual simplex solver - serial\n",
      "  Iteration        Objective     Infeasibilities num(sum)\n",
      "          0    -6.3999740210e+02 Ph1: 2(2); Du: 2(639.997) 0s\n",
      "          4    -1.6766666667e+05 Pr: 0(0) 0s\n",
      "Solving the original LP from the solution after postsolve\n",
      "Model   status      : Optimal\n",
      "Simplex   iterations: 4\n",
      "Objective value     : -1.6766666667e+05\n",
      "HiGHS run time      :          0.00\n"
     ]
    },
    {
     "data": {
      "text/plain": [
       "(A JuMP Model\n",
       "Minimization problem with:\n",
       "Variables: 9\n",
       "Objective function type: AffExpr\n",
       "`AffExpr`-in-`MathOptInterface.GreaterThan{Float64}`: 2 constraints\n",
       "`AffExpr`-in-`MathOptInterface.LessThan{Float64}`: 3 constraints\n",
       "`VariableRef`-in-`MathOptInterface.GreaterThan{Float64}`: 9 constraints\n",
       "Model mode: AUTOMATIC\n",
       "CachingOptimizer state: ATTACHED_OPTIMIZER\n",
       "Solver name: HiGHS\n",
       "Names registered in the model: beetsProd, beetsQuota, cornNeeds, surface, w, wheatNeeds, x, y, nothing)"
      ]
     },
     "execution_count": 27,
     "metadata": {},
     "output_type": "execute_result"
    }
   ],
   "source": [
    "mgood, status = farmer(1.2)"
   ]
  },
  {
   "cell_type": "code",
   "execution_count": 28,
   "metadata": {},
   "outputs": [
    {
     "data": {
      "text/plain": [
       "A JuMP Model\n",
       "Minimization problem with:\n",
       "Variables: 9\n",
       "Objective function type: AffExpr\n",
       "`AffExpr`-in-`MathOptInterface.GreaterThan{Float64}`: 2 constraints\n",
       "`AffExpr`-in-`MathOptInterface.LessThan{Float64}`: 3 constraints\n",
       "`VariableRef`-in-`MathOptInterface.GreaterThan{Float64}`: 9 constraints\n",
       "Model mode: AUTOMATIC\n",
       "CachingOptimizer state: ATTACHED_OPTIMIZER\n",
       "Solver name: HiGHS\n",
       "Names registered in the model: beetsProd, beetsQuota, cornNeeds, surface, w, wheatNeeds, x, y"
      ]
     },
     "execution_count": 28,
     "metadata": {},
     "output_type": "execute_result"
    }
   ],
   "source": [
    "mgood"
   ]
  },
  {
   "cell_type": "code",
   "execution_count": 29,
   "metadata": {},
   "outputs": [
    {
     "data": {
      "text/plain": [
       "-167666.6666666667"
      ]
     },
     "execution_count": 29,
     "metadata": {},
     "output_type": "execute_result"
    }
   ],
   "source": [
    "objective_value(mgood)"
   ]
  },
  {
   "cell_type": "markdown",
   "metadata": {},
   "source": [
    "## Bad scenario"
   ]
  },
  {
   "cell_type": "code",
   "execution_count": 30,
   "metadata": {},
   "outputs": [
    {
     "name": "stdout",
     "output_type": "stream",
     "text": [
      "Running HiGHS 1.5.3 [date: 1970-01-01, git hash: 45a127b78]\n",
      "Copyright (c) 2023 HiGHS under MIT licence terms\n",
      "Presolving model\n",
      "4 rows, 9 cols, 12 nonzeros\n",
      "3 rows, 8 cols, 10 nonzeros\n",
      "3 rows, 7 cols, 9 nonzeros\n",
      "Presolve : Reductions: rows 3(-2); columns 7(-2); elements 9(-4)\n",
      "Solving the presolved LP\n",
      "Using EKK dual simplex solver - serial\n",
      "  Iteration        Objective     Infeasibilities num(sum)\n",
      "          0    -4.6999813050e+02 Ph1: 2(2); Du: 2(469.998) 0s\n",
      "          5    -5.9950000000e+04 Pr: 0(0) 0s\n",
      "Solving the original LP from the solution after postsolve\n",
      "Model   status      : Optimal\n",
      "Simplex   iterations: 5\n",
      "Objective value     : -5.9950000000e+04\n",
      "HiGHS run time      :          0.00\n"
     ]
    },
    {
     "data": {
      "text/plain": [
       "(A JuMP Model\n",
       "Minimization problem with:\n",
       "Variables: 9\n",
       "Objective function type: AffExpr\n",
       "`AffExpr`-in-`MathOptInterface.GreaterThan{Float64}`: 2 constraints\n",
       "`AffExpr`-in-`MathOptInterface.LessThan{Float64}`: 3 constraints\n",
       "`VariableRef`-in-`MathOptInterface.GreaterThan{Float64}`: 9 constraints\n",
       "Model mode: AUTOMATIC\n",
       "CachingOptimizer state: ATTACHED_OPTIMIZER\n",
       "Solver name: HiGHS\n",
       "Names registered in the model: beetsProd, beetsQuota, cornNeeds, surface, w, wheatNeeds, x, y, nothing)"
      ]
     },
     "execution_count": 30,
     "metadata": {},
     "output_type": "execute_result"
    }
   ],
   "source": [
    "mbad, status = farmer(0.8)\n",
    "#mbad, status = farmer(0.8, Model(solver = GurobiSolver()))"
   ]
  },
  {
   "cell_type": "code",
   "execution_count": 31,
   "metadata": {},
   "outputs": [
    {
     "data": {
      "text/plain": [
       "-59950.0"
      ]
     },
     "execution_count": 31,
     "metadata": {},
     "output_type": "execute_result"
    }
   ],
   "source": [
    "objective_value(mbad)"
   ]
  },
  {
   "cell_type": "markdown",
   "metadata": {},
   "source": [
    "## Stochastic program - extensive form"
   ]
  },
  {
   "cell_type": "markdown",
   "metadata": {},
   "source": [
    "We have to combine the three scenarios. We will assume that each one has a probability equal to 1/3."
   ]
  },
  {
   "cell_type": "code",
   "execution_count": 32,
   "metadata": {},
   "outputs": [
    {
     "data": {
      "text/plain": [
       "3-element Vector{Float64}:\n",
       " 0.3333333333333333\n",
       " 0.3333333333333333\n",
       " 0.3333333333333333"
      ]
     },
     "execution_count": 32,
     "metadata": {},
     "output_type": "execute_result"
    }
   ],
   "source": [
    "n = 3\n",
    "p = [1/n for i = 1:n]"
   ]
  },
  {
   "cell_type": "markdown",
   "metadata": {},
   "source": [
    "We will start with a naive implementation."
   ]
  },
  {
   "cell_type": "code",
   "execution_count": 34,
   "metadata": {},
   "outputs": [
    {
     "data": {
      "text/plain": [
       "farmerStoch (generic function with 1 method)"
      ]
     },
     "execution_count": 34,
     "metadata": {},
     "output_type": "execute_result"
    }
   ],
   "source": [
    "function farmerStoch()\n",
    "    m = Model(HiGHS.Optimizer)\n",
    "\n",
    "    crops = [\"Wheat\", \"Corn\", \"Suger beets\"]\n",
    "    ncrops = length(crops)\n",
    "\n",
    "    @variable(m,x[1:ncrops] >= 0)\n",
    "\n",
    "    @variable(m,ya[1:2] >= 0)\n",
    "    @variable(m,wa[1:4] >= 0)\n",
    "\n",
    "    @variable(m,yg[1:2] >= 0)\n",
    "    @variable(m,wg[1:4] >= 0)\n",
    "\n",
    "    @variable(m,yb[1:2] >= 0)\n",
    "    @variable(m,wb[1:4] >= 0)\n",
    "\n",
    "    costSeeding = [150, 230, 260]\n",
    "    costs = [238, 210]\n",
    "    prices = [170, 150, 36, 10]\n",
    "    returnsA = [2.5, 3, 20]\n",
    "    returnsG = 1.2*returnsA\n",
    "    returnsB = 0.8*returnsA\n",
    "\n",
    "    @constraint(m, surface, sum(x[i] for i=1:3) <= 500)\n",
    "\n",
    "    @constraint(m, wheatNA, returnsA[1]x[1]+ya[1]-wa[1] >= 200)\n",
    "    @constraint(m, cornNA, returnsA[2]x[2]+ya[2]-wa[2] >= 240)\n",
    "    @constraint(m, beetsPA, wa[3]+wa[4] <= returnsA[3]x[3])\n",
    "    @constraint(m, beetsQA, wa[3] <= 6000)\n",
    "\n",
    "    @constraint(m, wheatNG, returnsG[1]x[1]+yg[1]-wg[1] >= 200)\n",
    "    @constraint(m, cornNG, returnsG[2]x[2]+yg[2]-wg[2] >= 240)\n",
    "    @constraint(m, beetsPG, wg[3]+wg[4] <= returnsG[3]x[3])\n",
    "    @constraint(m, beetsQG, wg[3] <= 6000)\n",
    "\n",
    "    @constraint(m, wheatNB, returnsB[1]x[1]+yb[1]-wb[1] >= 200)\n",
    "    @constraint(m, cornNB, returnsB[2]x[2]+yb[2]-wb[2] >= 240)\n",
    "    @constraint(m, beetsPB, wb[3]+wb[4] <= returnsB[3]x[3])\n",
    "    @constraint(m, beetsQB, wb[3] <= 6000)\n",
    "\n",
    "    @objective(m, Min, sum(costSeeding[i]*x[i] for i=1:3)\n",
    "        + 1/3*sum(costs[i]*ya[i] for i = 1:length(costs))\n",
    "        - 1/3*sum(prices[i]*wa[i] for i=1:length(prices))\n",
    "        + 1/3*sum(costs[i]*yg[i] for i = 1:length(costs))\n",
    "        - 1/3*sum(prices[i]*wg[i] for i=1:length(prices))\n",
    "        + 1/3*sum(costs[i]*yb[i] for i = 1:length(costs))\n",
    "        - 1/3*sum(prices[i]*wb[i] for i=1:length(prices)))\n",
    "    \n",
    "    status = optimize!(m)\n",
    "\n",
    "    return m, status\n",
    "end"
   ]
  },
  {
   "cell_type": "code",
   "execution_count": 35,
   "metadata": {
    "scrolled": true
   },
   "outputs": [
    {
     "name": "stdout",
     "output_type": "stream",
     "text": [
      "Running HiGHS 1.5.3 [date: 1970-01-01, git hash: 45a127b78]\n",
      "Copyright (c) 2023 HiGHS under MIT licence terms\n",
      "Presolving model\n",
      "10 rows, 21 cols, 30 nonzeros\n",
      "9 rows, 20 cols, 30 nonzeros\n",
      "Presolve : Reductions: rows 9(-4); columns 20(-1); elements 30(-3)\n",
      "Solving the presolved LP\n",
      "Using EKK dual simplex solver - serial\n",
      "  Iteration        Objective     Infeasibilities num(sum)\n",
      "          0    -3.1831206476e+02 Ph1: 8(8); Du: 8(318.312) 0s\n",
      "         15    -1.0839000000e+05 Pr: 0(0) 0s\n",
      "Solving the original LP from the solution after postsolve\n",
      "Model   status      : Optimal\n",
      "Simplex   iterations: 15\n",
      "Objective value     : -1.0839000000e+05\n",
      "HiGHS run time      :          0.00\n"
     ]
    },
    {
     "data": {
      "text/plain": [
       "(A JuMP Model\n",
       "Minimization problem with:\n",
       "Variables: 21\n",
       "Objective function type: AffExpr\n",
       "`AffExpr`-in-`MathOptInterface.GreaterThan{Float64}`: 6 constraints\n",
       "`AffExpr`-in-`MathOptInterface.LessThan{Float64}`: 7 constraints\n",
       "`VariableRef`-in-`MathOptInterface.GreaterThan{Float64}`: 21 constraints\n",
       "Model mode: AUTOMATIC\n",
       "CachingOptimizer state: ATTACHED_OPTIMIZER\n",
       "Solver name: HiGHS\n",
       "Names registered in the model: beetsPA, beetsPB, beetsPG, beetsQA, beetsQB, beetsQG, cornNA, cornNB, cornNG, surface, wa, wb, wg, wheatNA, wheatNB, wheatNG, x, ya, yb, yg, nothing)"
      ]
     },
     "execution_count": 35,
     "metadata": {},
     "output_type": "execute_result"
    }
   ],
   "source": [
    "mstoch, status = farmerStoch()"
   ]
  },
  {
   "cell_type": "code",
   "execution_count": 36,
   "metadata": {},
   "outputs": [
    {
     "data": {
      "text/latex": [
       "$$ \\begin{aligned}\n",
       "\\min\\quad & 150 x_{1} + 230 x_{2} + 260 x_{3} + 79.33333333333333 ya_{1} + 70 ya_{2} - 56.666666666666664 wa_{1} - 50 wa_{2} - 12 wa_{3} - 3.333333333333333 wa_{4} + 79.33333333333333 yg_{1} + 70 yg_{2} - 56.666666666666664 wg_{1} - 50 wg_{2} - 12 wg_{3} - 3.333333333333333 wg_{4} + 79.33333333333333 yb_{1} + 70 yb_{2} - 56.666666666666664 wb_{1} - 50 wb_{2} - 12 wb_{3} - 3.333333333333333 wb_{4}\\\\\n",
       "\\text{Subject to} \\quad & 2.5 x_{1} + ya_{1} - wa_{1} \\geq 200.0\\\\\n",
       " & 3 x_{2} + ya_{2} - wa_{2} \\geq 240.0\\\\\n",
       " & 3 x_{1} + yg_{1} - wg_{1} \\geq 200.0\\\\\n",
       " & 3.5999999999999996 x_{2} + yg_{2} - wg_{2} \\geq 240.0\\\\\n",
       " & 2 x_{1} + yb_{1} - wb_{1} \\geq 200.0\\\\\n",
       " & 2.4000000000000004 x_{2} + yb_{2} - wb_{2} \\geq 240.0\\\\\n",
       " & x_{1} + x_{2} + x_{3} \\leq 500.0\\\\\n",
       " & -20 x_{3} + wa_{3} + wa_{4} \\leq 0.0\\\\\n",
       " & wa_{3} \\leq 6000.0\\\\\n",
       " & -24 x_{3} + wg_{3} + wg_{4} \\leq 0.0\\\\\n",
       " & wg_{3} \\leq 6000.0\\\\\n",
       " & -16 x_{3} + wb_{3} + wb_{4} \\leq 0.0\\\\\n",
       " & wb_{3} \\leq 6000.0\\\\\n",
       " & x_{1} \\geq 0.0\\\\\n",
       " & x_{2} \\geq 0.0\\\\\n",
       " & x_{3} \\geq 0.0\\\\\n",
       " & ya_{1} \\geq 0.0\\\\\n",
       " & ya_{2} \\geq 0.0\\\\\n",
       " & wa_{1} \\geq 0.0\\\\\n",
       " & wa_{2} \\geq 0.0\\\\\n",
       " & wa_{3} \\geq 0.0\\\\\n",
       " & wa_{4} \\geq 0.0\\\\\n",
       " & yg_{1} \\geq 0.0\\\\\n",
       " & yg_{2} \\geq 0.0\\\\\n",
       " & wg_{1} \\geq 0.0\\\\\n",
       " & wg_{2} \\geq 0.0\\\\\n",
       " & wg_{3} \\geq 0.0\\\\\n",
       " & wg_{4} \\geq 0.0\\\\\n",
       " & yb_{1} \\geq 0.0\\\\\n",
       " & yb_{2} \\geq 0.0\\\\\n",
       " & wb_{1} \\geq 0.0\\\\\n",
       " & wb_{2} \\geq 0.0\\\\\n",
       " & wb_{3} \\geq 0.0\\\\\n",
       " & wb_{4} \\geq 0.0\\\\\n",
       "\\end{aligned} $$"
      ]
     },
     "metadata": {},
     "output_type": "display_data"
    }
   ],
   "source": [
    "print(mstoch)"
   ]
  },
  {
   "cell_type": "code",
   "execution_count": 37,
   "metadata": {},
   "outputs": [
    {
     "data": {
      "text/plain": [
       "-108390.0"
      ]
     },
     "execution_count": 37,
     "metadata": {},
     "output_type": "execute_result"
    }
   ],
   "source": [
    "valStoch = objective_value(mstoch)"
   ]
  },
  {
   "cell_type": "markdown",
   "metadata": {
    "collapsed": true
   },
   "source": [
    "## Expected value of the perfect information"
   ]
  },
  {
   "cell_type": "code",
   "execution_count": 38,
   "metadata": {},
   "outputs": [
    {
     "data": {
      "text/plain": [
       "3-element Vector{Float64}:\n",
       " -118600.0\n",
       " -167666.6666666667\n",
       "  -59950.0"
      ]
     },
     "execution_count": 38,
     "metadata": {},
     "output_type": "execute_result"
    }
   ],
   "source": [
    "values = [objective_value(maverage), objective_value(mgood), objective_value(mbad)]"
   ]
  },
  {
   "cell_type": "markdown",
   "metadata": {},
   "source": [
    "Let's compute the expected revenue under perfect information, simply obtained as the dot product between the probabilities vector and the optimal values vector."
   ]
  },
  {
   "cell_type": "code",
   "execution_count": 39,
   "metadata": {},
   "outputs": [
    {
     "data": {
      "text/plain": [
       "-115405.55555555555"
      ]
     },
     "execution_count": 39,
     "metadata": {},
     "output_type": "execute_result"
    }
   ],
   "source": [
    "valPerfect = p'*values"
   ]
  },
  {
   "cell_type": "code",
   "execution_count": 40,
   "metadata": {},
   "outputs": [
    {
     "data": {
      "text/plain": [
       "-115405.55555555555"
      ]
     },
     "execution_count": 40,
     "metadata": {},
     "output_type": "execute_result"
    }
   ],
   "source": [
    "using LinearAlgebra\n",
    "\n",
    "dot(p, values)"
   ]
  },
  {
   "cell_type": "code",
   "execution_count": 41,
   "metadata": {},
   "outputs": [
    {
     "data": {
      "text/html": [
       "# 54 methods for generic function <b>dot</b> from \u001b[32mLinearAlgebra\u001b[39m:<ul><li> dot(x::<b>BitVector</b>, y::<b>BitVector</b>) in LinearAlgebra at <a href=\"file://C:/workdir/usr/share/julia/stdlib/v1.10/LinearAlgebra/src/bitarray.jl\" target=\"_blank\">C:\\Users\\slash\\.julia\\juliaup\\julia-1.10.5+0.x64.w64.mingw32\\share\\julia\\stdlib\\v1.10\\LinearAlgebra\\src\\bitarray.jl:3</a></li> <li> dot(x::<b>Number</b>, y::<b>Number</b>) in LinearAlgebra at <a href=\"file://C:/workdir/usr/share/julia/stdlib/v1.10/LinearAlgebra/src/generic.jl\" target=\"_blank\">C:\\Users\\slash\\.julia\\juliaup\\julia-1.10.5+0.x64.w64.mingw32\\share\\julia\\stdlib\\v1.10\\LinearAlgebra\\src\\generic.jl:876</a></li> <li> dot(x::<b>Vector{T}</b>, rx::<b>AbstractRange{TI}</b>, y::<b>Vector{T}</b>, ry::<b>AbstractRange{TI}</b>)<i> where {T<:Union{ComplexF64, ComplexF32}, TI<:Integer}</i> in LinearAlgebra at <a href=\"file://C:/workdir/usr/share/julia/stdlib/v1.10/LinearAlgebra/src/matmul.jl\" target=\"_blank\">C:\\Users\\slash\\.julia\\juliaup\\julia-1.10.5+0.x64.w64.mingw32\\share\\julia\\stdlib\\v1.10\\LinearAlgebra\\src\\matmul.jl:31</a></li> <li> dot(x::<b>Vector{T}</b>, rx::<b>AbstractRange{TI}</b>, y::<b>Vector{T}</b>, ry::<b>AbstractRange{TI}</b>)<i> where {T<:Union{Float32, Float64}, TI<:Integer}</i> in LinearAlgebra at <a href=\"file://C:/workdir/usr/share/julia/stdlib/v1.10/LinearAlgebra/src/matmul.jl\" target=\"_blank\">C:\\Users\\slash\\.julia\\juliaup\\julia-1.10.5+0.x64.w64.mingw32\\share\\julia\\stdlib\\v1.10\\LinearAlgebra\\src\\matmul.jl:18</a></li> <li> dot(A::<b>Diagonal</b>, B::<b>Diagonal</b>) in LinearAlgebra at <a href=\"file://C:/workdir/usr/share/julia/stdlib/v1.10/LinearAlgebra/src/diagonal.jl\" target=\"_blank\">C:\\Users\\slash\\.julia\\juliaup\\julia-1.10.5+0.x64.w64.mingw32\\share\\julia\\stdlib\\v1.10\\LinearAlgebra\\src\\diagonal.jl:839</a></li> <li> dot(D::<b>Diagonal</b>, B::<b>AbstractMatrix</b>) in LinearAlgebra at <a href=\"file://C:/workdir/usr/share/julia/stdlib/v1.10/LinearAlgebra/src/diagonal.jl\" target=\"_blank\">C:\\Users\\slash\\.julia\\juliaup\\julia-1.10.5+0.x64.w64.mingw32\\share\\julia\\stdlib\\v1.10\\LinearAlgebra\\src\\diagonal.jl:840</a></li> <li> dot(A::<b>AbstractMatrix</b>, B::<b>Diagonal</b>) in LinearAlgebra at <a href=\"file://C:/workdir/usr/share/julia/stdlib/v1.10/LinearAlgebra/src/diagonal.jl\" target=\"_blank\">C:\\Users\\slash\\.julia\\juliaup\\julia-1.10.5+0.x64.w64.mingw32\\share\\julia\\stdlib\\v1.10\\LinearAlgebra\\src\\diagonal.jl:845</a></li> <li> dot(J::<b>UniformScaling</b>, A::<b>AbstractMatrix</b>) in LinearAlgebra at <a href=\"file://C:/workdir/usr/share/julia/stdlib/v1.10/LinearAlgebra/src/uniformscaling.jl\" target=\"_blank\">C:\\Users\\slash\\.julia\\juliaup\\julia-1.10.5+0.x64.w64.mingw32\\share\\julia\\stdlib\\v1.10\\LinearAlgebra\\src\\uniformscaling.jl:423</a></li> <li> dot(A::<b>SparseArrays.AbstractSparseMatrixCSC{T1, S1}</b>, B::<b>SparseArrays.AbstractSparseMatrixCSC{T2, S2}</b>)<i> where {T1, T2, S1, S2}</i> in SparseArrays at <a href=\"file://C:/workdir/usr/share/julia/stdlib/v1.10/SparseArrays/src/linalg.jl\" target=\"_blank\">C:\\Users\\slash\\.julia\\juliaup\\julia-1.10.5+0.x64.w64.mingw32\\share\\julia\\stdlib\\v1.10\\SparseArrays\\src\\linalg.jl:316</a></li> <li> dot(A::<b>SparseArrays.AbstractSparseMatrixCSC</b>, B::<b>Union{SubArray{<:Any, 2, Union{StridedMatrix, BitMatrix, SparseArrays.AbstractSparseMatrix}}, Adjoint{<:Any, Union{StridedMatrix, BitMatrix, SparseArrays.AbstractSparseMatrix}}, Hermitian{<:Any, Union{StridedMatrix, BitMatrix, SparseArrays.AbstractSparseMatrix}}, LowerTriangular{<:Any, Union{StridedMatrix, BitMatrix, SparseArrays.AbstractSparseMatrix}}, Symmetric{<:Any, Union{StridedMatrix, BitMatrix, SparseArrays.AbstractSparseMatrix}}, Transpose{<:Any, Union{StridedMatrix, BitMatrix, SparseArrays.AbstractSparseMatrix}}, UnitLowerTriangular{<:Any, Union{StridedMatrix, BitMatrix, SparseArrays.AbstractSparseMatrix}}, UnitUpperTriangular{<:Any, Union{StridedMatrix, BitMatrix, SparseArrays.AbstractSparseMatrix}}, UpperHessenberg{<:Any, Union{StridedMatrix, BitMatrix, SparseArrays.AbstractSparseMatrix}}, UpperTriangular{<:Any, Union{StridedMatrix, BitMatrix, SparseArrays.AbstractSparseMatrix}}, StridedMatrix, BitMatrix}</b>) in SparseArrays at <a href=\"file://C:/workdir/usr/share/julia/stdlib/v1.10/SparseArrays/src/linalg.jl\" target=\"_blank\">C:\\Users\\slash\\.julia\\juliaup\\julia-1.10.5+0.x64.w64.mingw32\\share\\julia\\stdlib\\v1.10\\SparseArrays\\src\\linalg.jl:426</a></li> <li> dot(A::<b>Symmetric</b>, B::<b>Symmetric</b>) in LinearAlgebra at <a href=\"file://C:/workdir/usr/share/julia/stdlib/v1.10/LinearAlgebra/src/symmetric.jl\" target=\"_blank\">C:\\Users\\slash\\.julia\\juliaup\\julia-1.10.5+0.x64.w64.mingw32\\share\\julia\\stdlib\\v1.10\\LinearAlgebra\\src\\symmetric.jl:457</a></li> <li> dot(x::<b>SparseArrays.SparseVector</b>, A::<b>SparseArrays.AbstractSparseMatrixCSC</b>, y::<b>SparseArrays.SparseVector</b>) in SparseArrays at <a href=\"file://C:/workdir/usr/share/julia/stdlib/v1.10/SparseArrays/src/linalg.jl\" target=\"_blank\">C:\\Users\\slash\\.julia\\juliaup\\julia-1.10.5+0.x64.w64.mingw32\\share\\julia\\stdlib\\v1.10\\SparseArrays\\src\\linalg.jl:369</a></li> <li> dot(x::<b>SparseArrays.SparseVector</b>, A::<b>Union{Hermitian{var\"#s390\", var\"#s389\"}, Hermitian{Complex{var\"#s390\"}, var\"#s389\"}, Symmetric{var\"#s390\", var\"#s389\"}} where {var\"#s390\", var\"#s389\"<:SparseArrays.AbstractSparseMatrixCSC}</b>, y::<b>SparseArrays.SparseVector</b>) in SparseArrays at <a href=\"file://C:/workdir/usr/share/julia/stdlib/v1.10/SparseArrays/src/linalg.jl\" target=\"_blank\">C:\\Users\\slash\\.julia\\juliaup\\julia-1.10.5+0.x64.w64.mingw32\\share\\julia\\stdlib\\v1.10\\SparseArrays\\src\\linalg.jl:947</a></li> <li> dot(x::<b>AbstractVector</b>, A::<b>Union{Hermitian{var\"#s994\", var\"#s128\"}, Symmetric{var\"#s994\", var\"#s128\"}, Symmetric{Complex{var\"#s994\"}, var\"#s128\"}} where {var\"#s994\"<:Real, var\"#s128\"<:Diagonal}</b>, y::<b>AbstractVector</b>) in LinearAlgebra at <a href=\"file://C:/workdir/usr/share/julia/stdlib/v1.10/LinearAlgebra/src/special.jl\" target=\"_blank\">C:\\Users\\slash\\.julia\\juliaup\\julia-1.10.5+0.x64.w64.mingw32\\share\\julia\\stdlib\\v1.10\\LinearAlgebra\\src\\special.jl:309</a></li> <li> dot(lhs::<b>AbstractJuMPScalar</b>, rhs::<b>AbstractJuMPScalar</b>) in JuMP at <a href=\"file://C:/Users/slash/.julia/packages/JuMP/60Bnj/src/operators.jl\" target=\"_blank\">C:\\Users\\slash\\.julia\\packages\\JuMP\\60Bnj\\src\\operators.jl:344</a></li> <li> dot(lhs::<b>AbstractJuMPScalar</b>, rhs::<b>Union{Number, UniformScaling}</b>) in JuMP at <a href=\"file://C:/Users/slash/.julia/packages/JuMP/60Bnj/src/operators.jl\" target=\"_blank\">C:\\Users\\slash\\.julia\\packages\\JuMP\\60Bnj\\src\\operators.jl:345</a></li> <li> dot(x::<b>AbstractVector</b>, A::<b>UpperTriangular</b>, y::<b>AbstractVector</b>) in LinearAlgebra at <a href=\"file://C:/workdir/usr/share/julia/stdlib/v1.10/LinearAlgebra/src/triangular.jl\" target=\"_blank\">C:\\Users\\slash\\.julia\\juliaup\\julia-1.10.5+0.x64.w64.mingw32\\share\\julia\\stdlib\\v1.10\\LinearAlgebra\\src\\triangular.jl:560</a></li> <li> dot(x::<b>AbstractVector</b>, D::<b>Diagonal</b>, y::<b>AbstractVector</b>) in LinearAlgebra at <a href=\"file://C:/workdir/usr/share/julia/stdlib/v1.10/LinearAlgebra/src/diagonal.jl\" target=\"_blank\">C:\\Users\\slash\\.julia\\juliaup\\julia-1.10.5+0.x64.w64.mingw32\\share\\julia\\stdlib\\v1.10\\LinearAlgebra\\src\\diagonal.jl:837</a></li> <li> dot(x::<b>AbstractVector</b>, A::<b>UnitLowerTriangular</b>, y::<b>AbstractVector</b>) in LinearAlgebra at <a href=\"file://C:/workdir/usr/share/julia/stdlib/v1.10/LinearAlgebra/src/triangular.jl\" target=\"_blank\">C:\\Users\\slash\\.julia\\juliaup\\julia-1.10.5+0.x64.w64.mingw32\\share\\julia\\stdlib\\v1.10\\LinearAlgebra\\src\\triangular.jl:623</a></li> <li> dot(x::<b>AbstractVector</b>, J::<b>UniformScaling</b>, y::<b>AbstractVector</b>) in LinearAlgebra at <a href=\"file://C:/workdir/usr/share/julia/stdlib/v1.10/LinearAlgebra/src/uniformscaling.jl\" target=\"_blank\">C:\\Users\\slash\\.julia\\juliaup\\julia-1.10.5+0.x64.w64.mingw32\\share\\julia\\stdlib\\v1.10\\LinearAlgebra\\src\\uniformscaling.jl:425</a></li> <li> dot(A::<b>AbstractMatrix</b>, J::<b>UniformScaling</b>) in LinearAlgebra at <a href=\"file://C:/workdir/usr/share/julia/stdlib/v1.10/LinearAlgebra/src/uniformscaling.jl\" target=\"_blank\">C:\\Users\\slash\\.julia\\juliaup\\julia-1.10.5+0.x64.w64.mingw32\\share\\julia\\stdlib\\v1.10\\LinearAlgebra\\src\\uniformscaling.jl:422</a></li> <li> dot(x::<b>AbstractVector</b>, a::<b>Union{Real, Complex}</b>, y::<b>AbstractVector</b>) in LinearAlgebra at <a href=\"file://C:/workdir/usr/share/julia/stdlib/v1.10/LinearAlgebra/src/uniformscaling.jl\" target=\"_blank\">C:\\Users\\slash\\.julia\\juliaup\\julia-1.10.5+0.x64.w64.mingw32\\share\\julia\\stdlib\\v1.10\\LinearAlgebra\\src\\uniformscaling.jl:427</a></li> <li> dot(x::<b>AbstractVector</b>, a::<b>Number</b>, y::<b>AbstractVector</b>) in LinearAlgebra at <a href=\"file://C:/workdir/usr/share/julia/stdlib/v1.10/LinearAlgebra/src/uniformscaling.jl\" target=\"_blank\">C:\\Users\\slash\\.julia\\juliaup\\julia-1.10.5+0.x64.w64.mingw32\\share\\julia\\stdlib\\v1.10\\LinearAlgebra\\src\\uniformscaling.jl:426</a></li> <li> dot(x::<b>AbstractVector</b>, A::<b>UnitUpperTriangular</b>, y::<b>AbstractVector</b>) in LinearAlgebra at <a href=\"file://C:/workdir/usr/share/julia/stdlib/v1.10/LinearAlgebra/src/triangular.jl\" target=\"_blank\">C:\\Users\\slash\\.julia\\juliaup\\julia-1.10.5+0.x64.w64.mingw32\\share\\julia\\stdlib\\v1.10\\LinearAlgebra\\src\\triangular.jl:581</a></li> <li> dot(x::<b>AbstractVector</b>, A::<b>LowerTriangular</b>, y::<b>AbstractVector</b>) in LinearAlgebra at <a href=\"file://C:/workdir/usr/share/julia/stdlib/v1.10/LinearAlgebra/src/triangular.jl\" target=\"_blank\">C:\\Users\\slash\\.julia\\juliaup\\julia-1.10.5+0.x64.w64.mingw32\\share\\julia\\stdlib\\v1.10\\LinearAlgebra\\src\\triangular.jl:603</a></li> <li> dot(x::<b>AbstractVector</b>, A::<b>Tridiagonal</b>, y::<b>AbstractVector</b>) in LinearAlgebra at <a href=\"file://C:/workdir/usr/share/julia/stdlib/v1.10/LinearAlgebra/src/tridiag.jl\" target=\"_blank\">C:\\Users\\slash\\.julia\\juliaup\\julia-1.10.5+0.x64.w64.mingw32\\share\\julia\\stdlib\\v1.10\\LinearAlgebra\\src\\tridiag.jl:841</a></li> <li> dot(x::<b>AbstractVector</b>, H::<b>UpperHessenberg</b>, y::<b>AbstractVector</b>) in LinearAlgebra at <a href=\"file://C:/workdir/usr/share/julia/stdlib/v1.10/LinearAlgebra/src/hessenberg.jl\" target=\"_blank\">C:\\Users\\slash\\.julia\\juliaup\\julia-1.10.5+0.x64.w64.mingw32\\share\\julia\\stdlib\\v1.10\\LinearAlgebra\\src\\hessenberg.jl:339</a></li> <li> dot(x::<b>AbstractVector</b>, A::<b>SparseArrays.AbstractSparseMatrixCSC</b>, y::<b>AbstractVector</b>) in SparseArrays at <a href=\"file://C:/workdir/usr/share/julia/stdlib/v1.10/SparseArrays/src/linalg.jl\" target=\"_blank\">C:\\Users\\slash\\.julia\\juliaup\\julia-1.10.5+0.x64.w64.mingw32\\share\\julia\\stdlib\\v1.10\\SparseArrays\\src\\linalg.jl:346</a></li> <li> dot(x::<b>AbstractVector</b>, B::<b>Bidiagonal</b>, y::<b>AbstractVector</b>) in LinearAlgebra at <a href=\"file://C:/workdir/usr/share/julia/stdlib/v1.10/LinearAlgebra/src/bidiag.jl\" target=\"_blank\">C:\\Users\\slash\\.julia\\juliaup\\julia-1.10.5+0.x64.w64.mingw32\\share\\julia\\stdlib\\v1.10\\LinearAlgebra\\src\\bidiag.jl:688</a></li> <li> dot(x::<b>AbstractVector</b>, adjA::<b>Adjoint</b>, y::<b>AbstractVector</b>) in LinearAlgebra at <a href=\"file://C:/workdir/usr/share/julia/stdlib/v1.10/LinearAlgebra/src/generic.jl\" target=\"_blank\">C:\\Users\\slash\\.julia\\juliaup\\julia-1.10.5+0.x64.w64.mingw32\\share\\julia\\stdlib\\v1.10\\LinearAlgebra\\src\\generic.jl:941</a></li> <li> dot(x::<b>Union{SparseArrays.AbstractCompressedVector{Tv, Ti}, SubArray{Tv, 1, <:SparseArrays.AbstractSparseMatrixCSC{Tv, Ti}, Tuple{Base.Slice{Base.OneTo{Int64}}, Int64}, false}, SubArray{Tv, 1, <:SparseArrays.AbstractSparseVector{Tv, Ti}, Tuple{Base.Slice{Base.OneTo{Int64}}}, false}} where {Tv, Ti}</b>, y::<b>Union{SparseArrays.AbstractCompressedVector{Tv, Ti}, SubArray{Tv, 1, <:SparseArrays.AbstractSparseMatrixCSC{Tv, Ti}, Tuple{Base.Slice{Base.OneTo{Int64}}, Int64}, false}, SubArray{Tv, 1, <:SparseArrays.AbstractSparseVector{Tv, Ti}, Tuple{Base.Slice{Base.OneTo{Int64}}}, false}} where {Tv, Ti}</b>) in SparseArrays at <a href=\"file://C:/workdir/usr/share/julia/stdlib/v1.10/SparseArrays/src/sparsevector.jl\" target=\"_blank\">C:\\Users\\slash\\.julia\\juliaup\\julia-1.10.5+0.x64.w64.mingw32\\share\\julia\\stdlib\\v1.10\\SparseArrays\\src\\sparsevector.jl:1751</a></li> <li> dot(x::<b>AbstractVector</b>, y::<b>Union{SparseArrays.AbstractCompressedVector{Tv, Ti}, SubArray{Tv, 1, <:SparseArrays.AbstractSparseMatrixCSC{Tv, Ti}, Tuple{Base.Slice{Base.OneTo{Int64}}, Int64}, false}, SubArray{Tv, 1, <:SparseArrays.AbstractSparseVector{Tv, Ti}, Tuple{Base.Slice{Base.OneTo{Int64}}}, false}} where {Tv, Ti}</b>) in SparseArrays at <a href=\"file://C:/workdir/usr/share/julia/stdlib/v1.10/SparseArrays/src/sparsevector.jl\" target=\"_blank\">C:\\Users\\slash\\.julia\\juliaup\\julia-1.10.5+0.x64.w64.mingw32\\share\\julia\\stdlib\\v1.10\\SparseArrays\\src\\sparsevector.jl:1704</a></li> <li> dot(x::<b>Union{SparseArrays.AbstractCompressedVector{Tv, Ti}, SubArray{Tv, 1, <:SparseArrays.AbstractSparseMatrixCSC{Tv, Ti}, Tuple{Base.Slice{Base.OneTo{Int64}}, Int64}, false}, SubArray{Tv, 1, <:SparseArrays.AbstractSparseVector{Tv, Ti}, Tuple{Base.Slice{Base.OneTo{Int64}}}, false}} where {Tv, Ti}</b>, y::<b>AbstractVector</b>) in SparseArrays at <a href=\"file://C:/workdir/usr/share/julia/stdlib/v1.10/SparseArrays/src/sparsevector.jl\" target=\"_blank\">C:\\Users\\slash\\.julia\\juliaup\\julia-1.10.5+0.x64.w64.mingw32\\share\\julia\\stdlib\\v1.10\\SparseArrays\\src\\sparsevector.jl:1717</a></li> <li> dot(A::<b>Hermitian{var\"#s994\", S} where {var\"#s994\"<:Union{Real, Complex}, S<:(AbstractMatrix{<:var\"#s994\"})}</b>, B::<b>Hermitian{var\"#s128\", S} where {var\"#s128\"<:Union{Real, Complex}, S<:(AbstractMatrix{<:var\"#s128\"})}</b>) in LinearAlgebra at <a href=\"file://C:/workdir/usr/share/julia/stdlib/v1.10/LinearAlgebra/src/symmetric.jl\" target=\"_blank\">C:\\Users\\slash\\.julia\\juliaup\\julia-1.10.5+0.x64.w64.mingw32\\share\\julia\\stdlib\\v1.10\\LinearAlgebra\\src\\symmetric.jl:457</a></li> <li> dot(x::<b>Transpose</b>, y::<b>Transpose</b>) in LinearAlgebra at <a href=\"file://C:/workdir/usr/share/julia/stdlib/v1.10/LinearAlgebra/src/generic.jl\" target=\"_blank\">C:\\Users\\slash\\.julia\\juliaup\\julia-1.10.5+0.x64.w64.mingw32\\share\\julia\\stdlib\\v1.10\\LinearAlgebra\\src\\generic.jl:896</a></li> <li> dot(x::<b>Adjoint{<:Union{Real, Complex}}</b>, y::<b>Adjoint{<:Union{Real, Complex}}</b>) in LinearAlgebra at <a href=\"file://C:/workdir/usr/share/julia/stdlib/v1.10/LinearAlgebra/src/generic.jl\" target=\"_blank\">C:\\Users\\slash\\.julia\\juliaup\\julia-1.10.5+0.x64.w64.mingw32\\share\\julia\\stdlib\\v1.10\\LinearAlgebra\\src\\generic.jl:893</a></li> <li> dot(A::<b>Union{SubArray{<:Any, 2, Union{StridedMatrix, BitMatrix, SparseArrays.AbstractSparseMatrix}}, Adjoint{<:Any, Union{StridedMatrix, BitMatrix, SparseArrays.AbstractSparseMatrix}}, Hermitian{<:Any, Union{StridedMatrix, BitMatrix, SparseArrays.AbstractSparseMatrix}}, LowerTriangular{<:Any, Union{StridedMatrix, BitMatrix, SparseArrays.AbstractSparseMatrix}}, Symmetric{<:Any, Union{StridedMatrix, BitMatrix, SparseArrays.AbstractSparseMatrix}}, Transpose{<:Any, Union{StridedMatrix, BitMatrix, SparseArrays.AbstractSparseMatrix}}, UnitLowerTriangular{<:Any, Union{StridedMatrix, BitMatrix, SparseArrays.AbstractSparseMatrix}}, UnitUpperTriangular{<:Any, Union{StridedMatrix, BitMatrix, SparseArrays.AbstractSparseMatrix}}, UpperHessenberg{<:Any, Union{StridedMatrix, BitMatrix, SparseArrays.AbstractSparseMatrix}}, UpperTriangular{<:Any, Union{StridedMatrix, BitMatrix, SparseArrays.AbstractSparseMatrix}}, StridedMatrix, BitMatrix}</b>, B::<b>SparseArrays.AbstractSparseMatrixCSC</b>) in SparseArrays at <a href=\"file://C:/workdir/usr/share/julia/stdlib/v1.10/SparseArrays/src/linalg.jl\" target=\"_blank\">C:\\Users\\slash\\.julia\\juliaup\\julia-1.10.5+0.x64.w64.mingw32\\share\\julia\\stdlib\\v1.10\\SparseArrays\\src\\linalg.jl:404</a></li> <li> dot(x::<b>Union{Base.ReinterpretArray{T, N, S, A, IsReshaped} where {N, A<:Union{SubArray{T, N, A, I, true} where {T, N, A<:DenseArray, I<:Union{Tuple{Vararg{Real}}, Tuple{AbstractUnitRange, Vararg{Any}}}}, DenseArray}, IsReshaped, S}, Base.ReshapedArray{T, N, A} where {N, A<:Union{Base.ReinterpretArray{T, N, S, A, IsReshaped} where {T, N, A<:Union{SubArray{T, N, A, I, true} where {T, N, A<:DenseArray, I<:Union{Tuple{Vararg{Real}}, Tuple{AbstractUnitRange, Vararg{Any}}}}, DenseArray}, IsReshaped, S}, SubArray{T, N, A, I, true} where {T, N, A<:DenseArray, I<:Union{Tuple{Vararg{Real}}, Tuple{AbstractUnitRange, Vararg{Any}}}}, DenseArray}}, SubArray{T, var\"#s994\", var\"#s128\", I, true} where {var\"#s994\", var\"#s128\"<:Union{Base.ReinterpretArray{T, N, S, A, IsReshaped} where {N, A<:Union{SubArray{T, N, A, I, true} where {T, N, A<:DenseArray, I<:Union{Tuple{Vararg{Real}}, Tuple{AbstractUnitRange, Vararg{Any}}}}, DenseArray}, IsReshaped, S}, Base.ReshapedArray{T, N, A} where {N, A<:Union{Base.ReinterpretArray{T, N, S, A, IsReshaped} where {T, N, A<:Union{SubArray{T, N, A, I, true} where {T, N, A<:DenseArray, I<:Union{Tuple{Vararg{Real}}, Tuple{AbstractUnitRange, Vararg{Any}}}}, DenseArray}, IsReshaped, S}, SubArray{T, N, A, I, true} where {T, N, A<:DenseArray, I<:Union{Tuple{Vararg{Real}}, Tuple{AbstractUnitRange, Vararg{Any}}}}, DenseArray}}, DenseArray{T}}, I}, DenseArray{T}}</b>, y::<b>Union{Base.ReinterpretArray{T, N, S, A, IsReshaped} where {N, A<:Union{SubArray{T, N, A, I, true} where {T, N, A<:DenseArray, I<:Union{Tuple{Vararg{Real}}, Tuple{AbstractUnitRange, Vararg{Any}}}}, DenseArray}, IsReshaped, S}, Base.ReshapedArray{T, N, A} where {N, A<:Union{Base.ReinterpretArray{T, N, S, A, IsReshaped} where {T, N, A<:Union{SubArray{T, N, A, I, true} where {T, N, A<:DenseArray, I<:Union{Tuple{Vararg{Real}}, Tuple{AbstractUnitRange, Vararg{Any}}}}, DenseArray}, IsReshaped, S}, SubArray{T, N, A, I, true} where {T, N, A<:DenseArray, I<:Union{Tuple{Vararg{Real}}, Tuple{AbstractUnitRange, Vararg{Any}}}}, DenseArray}}, SubArray{T, var\"#s994\", var\"#s128\", I, true} where {var\"#s994\", var\"#s128\"<:Union{Base.ReinterpretArray{T, N, S, A, IsReshaped} where {N, A<:Union{SubArray{T, N, A, I, true} where {T, N, A<:DenseArray, I<:Union{Tuple{Vararg{Real}}, Tuple{AbstractUnitRange, Vararg{Any}}}}, DenseArray}, IsReshaped, S}, Base.ReshapedArray{T, N, A} where {N, A<:Union{Base.ReinterpretArray{T, N, S, A, IsReshaped} where {T, N, A<:Union{SubArray{T, N, A, I, true} where {T, N, A<:DenseArray, I<:Union{Tuple{Vararg{Real}}, Tuple{AbstractUnitRange, Vararg{Any}}}}, DenseArray}, IsReshaped, S}, SubArray{T, N, A, I, true} where {T, N, A<:DenseArray, I<:Union{Tuple{Vararg{Real}}, Tuple{AbstractUnitRange, Vararg{Any}}}}, DenseArray}}, DenseArray{T}}, I}, DenseArray{T}}</b>)<i> where T<:Union{ComplexF64, ComplexF32}</i> in LinearAlgebra at <a href=\"file://C:/workdir/usr/share/julia/stdlib/v1.10/LinearAlgebra/src/matmul.jl\" target=\"_blank\">C:\\Users\\slash\\.julia\\juliaup\\julia-1.10.5+0.x64.w64.mingw32\\share\\julia\\stdlib\\v1.10\\LinearAlgebra\\src\\matmul.jl:16</a></li> <li> dot(x::<b>Union{Base.ReinterpretArray{T, N, S, A, IsReshaped} where {N, A<:Union{SubArray{T, N, A, I, true} where {T, N, A<:DenseArray, I<:Union{Tuple{Vararg{Real}}, Tuple{AbstractUnitRange, Vararg{Any}}}}, DenseArray}, IsReshaped, S}, Base.ReshapedArray{T, N, A} where {N, A<:Union{Base.ReinterpretArray{T, N, S, A, IsReshaped} where {T, N, A<:Union{SubArray{T, N, A, I, true} where {T, N, A<:DenseArray, I<:Union{Tuple{Vararg{Real}}, Tuple{AbstractUnitRange, Vararg{Any}}}}, DenseArray}, IsReshaped, S}, SubArray{T, N, A, I, true} where {T, N, A<:DenseArray, I<:Union{Tuple{Vararg{Real}}, Tuple{AbstractUnitRange, Vararg{Any}}}}, DenseArray}}, SubArray{T, var\"#s994\", var\"#s128\", I, true} where {var\"#s994\", var\"#s128\"<:Union{Base.ReinterpretArray{T, N, S, A, IsReshaped} where {N, A<:Union{SubArray{T, N, A, I, true} where {T, N, A<:DenseArray, I<:Union{Tuple{Vararg{Real}}, Tuple{AbstractUnitRange, Vararg{Any}}}}, DenseArray}, IsReshaped, S}, Base.ReshapedArray{T, N, A} where {N, A<:Union{Base.ReinterpretArray{T, N, S, A, IsReshaped} where {T, N, A<:Union{SubArray{T, N, A, I, true} where {T, N, A<:DenseArray, I<:Union{Tuple{Vararg{Real}}, Tuple{AbstractUnitRange, Vararg{Any}}}}, DenseArray}, IsReshaped, S}, SubArray{T, N, A, I, true} where {T, N, A<:DenseArray, I<:Union{Tuple{Vararg{Real}}, Tuple{AbstractUnitRange, Vararg{Any}}}}, DenseArray}}, DenseArray{T}}, I}, DenseArray{T}}</b>, y::<b>Union{Base.ReinterpretArray{T, N, S, A, IsReshaped} where {N, A<:Union{SubArray{T, N, A, I, true} where {T, N, A<:DenseArray, I<:Union{Tuple{Vararg{Real}}, Tuple{AbstractUnitRange, Vararg{Any}}}}, DenseArray}, IsReshaped, S}, Base.ReshapedArray{T, N, A} where {N, A<:Union{Base.ReinterpretArray{T, N, S, A, IsReshaped} where {T, N, A<:Union{SubArray{T, N, A, I, true} where {T, N, A<:DenseArray, I<:Union{Tuple{Vararg{Real}}, Tuple{AbstractUnitRange, Vararg{Any}}}}, DenseArray}, IsReshaped, S}, SubArray{T, N, A, I, true} where {T, N, A<:DenseArray, I<:Union{Tuple{Vararg{Real}}, Tuple{AbstractUnitRange, Vararg{Any}}}}, DenseArray}}, SubArray{T, var\"#s994\", var\"#s128\", I, true} where {var\"#s994\", var\"#s128\"<:Union{Base.ReinterpretArray{T, N, S, A, IsReshaped} where {N, A<:Union{SubArray{T, N, A, I, true} where {T, N, A<:DenseArray, I<:Union{Tuple{Vararg{Real}}, Tuple{AbstractUnitRange, Vararg{Any}}}}, DenseArray}, IsReshaped, S}, Base.ReshapedArray{T, N, A} where {N, A<:Union{Base.ReinterpretArray{T, N, S, A, IsReshaped} where {T, N, A<:Union{SubArray{T, N, A, I, true} where {T, N, A<:DenseArray, I<:Union{Tuple{Vararg{Real}}, Tuple{AbstractUnitRange, Vararg{Any}}}}, DenseArray}, IsReshaped, S}, SubArray{T, N, A, I, true} where {T, N, A<:DenseArray, I<:Union{Tuple{Vararg{Real}}, Tuple{AbstractUnitRange, Vararg{Any}}}}, DenseArray}}, DenseArray{T}}, I}, DenseArray{T}}</b>)<i> where T<:Union{Float32, Float64}</i> in LinearAlgebra at <a href=\"file://C:/workdir/usr/share/julia/stdlib/v1.10/LinearAlgebra/src/matmul.jl\" target=\"_blank\">C:\\Users\\slash\\.julia\\juliaup\\julia-1.10.5+0.x64.w64.mingw32\\share\\julia\\stdlib\\v1.10\\LinearAlgebra\\src\\matmul.jl:15</a></li> <li> dot(lhs::<b>AbstractArray{<:MutableArithmetics.AbstractMutable}</b>, rhs::<b>AbstractArray{<:MutableArithmetics.AbstractMutable}</b>) in MutableArithmetics at <a href=\"file://C:/Users/slash/.julia/packages/MutableArithmetics/Lnlkl/src/dispatch.jl\" target=\"_blank\">C:\\Users\\slash\\.julia\\packages\\MutableArithmetics\\Lnlkl\\src\\dispatch.jl:68</a></li> <li> dot(lhs::<b>AbstractArray{<:MutableArithmetics.AbstractMutable}</b>, rhs::<b>AbstractArray</b>) in MutableArithmetics at <a href=\"file://C:/Users/slash/.julia/packages/MutableArithmetics/Lnlkl/src/dispatch.jl\" target=\"_blank\">C:\\Users\\slash\\.julia\\packages\\MutableArithmetics\\Lnlkl\\src\\dispatch.jl:54</a></li> <li> dot(lhs::<b>AbstractArray</b>, rhs::<b>AbstractArray{<:MutableArithmetics.AbstractMutable}</b>) in MutableArithmetics at <a href=\"file://C:/Users/slash/.julia/packages/MutableArithmetics/Lnlkl/src/dispatch.jl\" target=\"_blank\">C:\\Users\\slash\\.julia\\packages\\MutableArithmetics\\Lnlkl\\src\\dispatch.jl:61</a></li> <li> dot(x::<b>AbstractVector</b>, S::<b>SymTridiagonal</b>, y::<b>AbstractVector</b>) in LinearAlgebra at <a href=\"file://C:/workdir/usr/share/julia/stdlib/v1.10/LinearAlgebra/src/tridiag.jl\" target=\"_blank\">C:\\Users\\slash\\.julia\\juliaup\\julia-1.10.5+0.x64.w64.mingw32\\share\\julia\\stdlib\\v1.10\\LinearAlgebra\\src\\tridiag.jl:222</a></li> <li> dot(x::<b>AbstractVector</b>, transA::<b>Transpose{<:Real}</b>, y::<b>AbstractVector</b>) in LinearAlgebra at <a href=\"file://C:/workdir/usr/share/julia/stdlib/v1.10/LinearAlgebra/src/generic.jl\" target=\"_blank\">C:\\Users\\slash\\.julia\\juliaup\\julia-1.10.5+0.x64.w64.mingw32\\share\\julia\\stdlib\\v1.10\\LinearAlgebra\\src\\generic.jl:942</a></li> <li> dot(x::<b>AbstractVector</b>, A::<b>Union{Hermitian{var\"#s390\", var\"#s389\"}, Hermitian{Complex{var\"#s390\"}, var\"#s389\"}, Symmetric{var\"#s390\", var\"#s389\"}} where {var\"#s390\", var\"#s389\"<:SparseArrays.AbstractSparseMatrixCSC}</b>, y::<b>AbstractVector</b>) in SparseArrays at <a href=\"file://C:/workdir/usr/share/julia/stdlib/v1.10/SparseArrays/src/linalg.jl\" target=\"_blank\">C:\\Users\\slash\\.julia\\juliaup\\julia-1.10.5+0.x64.w64.mingw32\\share\\julia\\stdlib\\v1.10\\SparseArrays\\src\\linalg.jl:916</a></li> <li> dot(x::<b>AbstractVector</b>, A::<b>Union{Hermitian{T, S}, Hermitian{Complex{T}, S}, Symmetric{T, S}} where {T<:Real, S}</b>, y::<b>AbstractVector</b>) in LinearAlgebra at <a href=\"file://C:/workdir/usr/share/julia/stdlib/v1.10/LinearAlgebra/src/symmetric.jl\" target=\"_blank\">C:\\Users\\slash\\.julia\\juliaup\\julia-1.10.5+0.x64.w64.mingw32\\share\\julia\\stdlib\\v1.10\\LinearAlgebra\\src\\symmetric.jl:529</a></li> <li> dot(x::<b>AbstractVector</b>, A::<b>AbstractMatrix</b>, y::<b>AbstractVector</b>) in LinearAlgebra at <a href=\"file://C:/workdir/usr/share/julia/stdlib/v1.10/LinearAlgebra/src/generic.jl\" target=\"_blank\">C:\\Users\\slash\\.julia\\juliaup\\julia-1.10.5+0.x64.w64.mingw32\\share\\julia\\stdlib\\v1.10\\LinearAlgebra\\src\\generic.jl:923</a></li> <li> dot(x::<b>AbstractArray</b>, y::<b>AbstractArray</b>) in LinearAlgebra at <a href=\"file://C:/workdir/usr/share/julia/stdlib/v1.10/LinearAlgebra/src/generic.jl\" target=\"_blank\">C:\\Users\\slash\\.julia\\juliaup\\julia-1.10.5+0.x64.w64.mingw32\\share\\julia\\stdlib\\v1.10\\LinearAlgebra\\src\\generic.jl:878</a></li> <li> dot(lhs::<b>Union{Number, UniformScaling}</b>, rhs::<b>AbstractJuMPScalar</b>) in JuMP at <a href=\"file://C:/Users/slash/.julia/packages/JuMP/60Bnj/src/operators.jl\" target=\"_blank\">C:\\Users\\slash\\.julia\\packages\\JuMP\\60Bnj\\src\\operators.jl:346</a></li> <li> dot(f::<b>Union{MathOptInterface.VariableIndex, MathOptInterface.ScalarAffineFunction{T}, MathOptInterface.ScalarQuadraticFunction{T}} where T</b>, g::<b>Union{MathOptInterface.VariableIndex, MathOptInterface.ScalarAffineFunction{T}, MathOptInterface.ScalarQuadraticFunction{T}} where T</b>) in MathOptInterface.Utilities at <a href=\"file://C:/Users/slash/.julia/packages/MathOptInterface/RuRWI/src/Utilities/functions.jl\" target=\"_blank\">C:\\Users\\slash\\.julia\\packages\\MathOptInterface\\RuRWI\\src\\Utilities\\functions.jl:2482</a></li> <li> dot(func::<b>Union{MathOptInterface.ScalarAffineFunction{T}, MathOptInterface.ScalarQuadraticFunction{T}, MathOptInterface.VectorAffineFunction{T}, MathOptInterface.VectorQuadraticFunction{T}}</b>, α::<b>T</b>)<i> where T</i> in MathOptInterface.Utilities at <a href=\"file://C:/Users/slash/.julia/packages/MathOptInterface/RuRWI/src/Utilities/functions.jl\" target=\"_blank\">C:\\Users\\slash\\.julia\\packages\\MathOptInterface\\RuRWI\\src\\Utilities\\functions.jl:2490</a></li> <li> dot(α::<b>T</b>, func::<b>Union{MathOptInterface.ScalarAffineFunction{T}, MathOptInterface.ScalarQuadraticFunction{T}, MathOptInterface.VectorAffineFunction{T}, MathOptInterface.VectorQuadraticFunction{T}}</b>)<i> where T</i> in MathOptInterface.Utilities at <a href=\"file://C:/Users/slash/.julia/packages/MathOptInterface/RuRWI/src/Utilities/functions.jl\" target=\"_blank\">C:\\Users\\slash\\.julia\\packages\\MathOptInterface\\RuRWI\\src\\Utilities\\functions.jl:2486</a></li> <li> dot(x, y) in LinearAlgebra at <a href=\"file://C:/workdir/usr/share/julia/stdlib/v1.10/LinearAlgebra/src/generic.jl\" target=\"_blank\">C:\\Users\\slash\\.julia\\juliaup\\julia-1.10.5+0.x64.w64.mingw32\\share\\julia\\stdlib\\v1.10\\LinearAlgebra\\src\\generic.jl:847</a></li> <li> dot(x, A, y) in LinearAlgebra at <a href=\"file://C:/workdir/usr/share/julia/stdlib/v1.10/LinearAlgebra/src/generic.jl\" target=\"_blank\">C:\\Users\\slash\\.julia\\juliaup\\julia-1.10.5+0.x64.w64.mingw32\\share\\julia\\stdlib\\v1.10\\LinearAlgebra\\src\\generic.jl:921</a></li> </ul>"
      ],
      "text/plain": [
       "# 54 methods for generic function \"dot\" from \u001b[32mLinearAlgebra\u001b[39m:\n",
       "  [1] dot(\u001b[90mx\u001b[39m::\u001b[1mBitVector\u001b[22m, \u001b[90my\u001b[39m::\u001b[1mBitVector\u001b[22m)\n",
       "\u001b[90m     @\u001b[39m \u001b[90mC:\\Users\\slash\\.julia\\juliaup\\julia-1.10.5+0.x64.w64.mingw32\\share\\julia\\stdlib\\v1.10\\LinearAlgebra\\src\\\u001b[39m\u001b[90m\u001b[4mbitarray.jl:3\u001b[24m\u001b[39m\n",
       "  [2] dot(\u001b[90mx\u001b[39m::\u001b[1mNumber\u001b[22m, \u001b[90my\u001b[39m::\u001b[1mNumber\u001b[22m)\n",
       "\u001b[90m     @\u001b[39m \u001b[90mC:\\Users\\slash\\.julia\\juliaup\\julia-1.10.5+0.x64.w64.mingw32\\share\\julia\\stdlib\\v1.10\\LinearAlgebra\\src\\\u001b[39m\u001b[90m\u001b[4mgeneric.jl:876\u001b[24m\u001b[39m\n",
       "  [3] dot(\u001b[90mx\u001b[39m::\u001b[1mVector\u001b[22m\u001b[0m{T}, \u001b[90mrx\u001b[39m::\u001b[1mAbstractRange\u001b[22m\u001b[0m{TI}, \u001b[90my\u001b[39m::\u001b[1mVector\u001b[22m\u001b[0m{T}, \u001b[90mry\u001b[39m::\u001b[1mAbstractRange\u001b[22m\u001b[0m{TI}) where {T<:Union{ComplexF64, ComplexF32}, TI<:Integer}\n",
       "\u001b[90m     @\u001b[39m \u001b[90mC:\\Users\\slash\\.julia\\juliaup\\julia-1.10.5+0.x64.w64.mingw32\\share\\julia\\stdlib\\v1.10\\LinearAlgebra\\src\\\u001b[39m\u001b[90m\u001b[4mmatmul.jl:31\u001b[24m\u001b[39m\n",
       "  [4] dot(\u001b[90mx\u001b[39m::\u001b[1mVector\u001b[22m\u001b[0m{T}, \u001b[90mrx\u001b[39m::\u001b[1mAbstractRange\u001b[22m\u001b[0m{TI}, \u001b[90my\u001b[39m::\u001b[1mVector\u001b[22m\u001b[0m{T}, \u001b[90mry\u001b[39m::\u001b[1mAbstractRange\u001b[22m\u001b[0m{TI}) where {T<:Union{Float32, Float64}, TI<:Integer}\n",
       "\u001b[90m     @\u001b[39m \u001b[90mC:\\Users\\slash\\.julia\\juliaup\\julia-1.10.5+0.x64.w64.mingw32\\share\\julia\\stdlib\\v1.10\\LinearAlgebra\\src\\\u001b[39m\u001b[90m\u001b[4mmatmul.jl:18\u001b[24m\u001b[39m\n",
       "  [5] dot(\u001b[90mA\u001b[39m::\u001b[1mDiagonal\u001b[22m, \u001b[90mB\u001b[39m::\u001b[1mDiagonal\u001b[22m)\n",
       "\u001b[90m     @\u001b[39m \u001b[90mC:\\Users\\slash\\.julia\\juliaup\\julia-1.10.5+0.x64.w64.mingw32\\share\\julia\\stdlib\\v1.10\\LinearAlgebra\\src\\\u001b[39m\u001b[90m\u001b[4mdiagonal.jl:839\u001b[24m\u001b[39m\n",
       "  [6] dot(\u001b[90mD\u001b[39m::\u001b[1mDiagonal\u001b[22m, \u001b[90mB\u001b[39m::\u001b[1mAbstractMatrix\u001b[22m)\n",
       "\u001b[90m     @\u001b[39m \u001b[90mC:\\Users\\slash\\.julia\\juliaup\\julia-1.10.5+0.x64.w64.mingw32\\share\\julia\\stdlib\\v1.10\\LinearAlgebra\\src\\\u001b[39m\u001b[90m\u001b[4mdiagonal.jl:840\u001b[24m\u001b[39m\n",
       "  [7] dot(\u001b[90mA\u001b[39m::\u001b[1mAbstractMatrix\u001b[22m, \u001b[90mB\u001b[39m::\u001b[1mDiagonal\u001b[22m)\n",
       "\u001b[90m     @\u001b[39m \u001b[90mC:\\Users\\slash\\.julia\\juliaup\\julia-1.10.5+0.x64.w64.mingw32\\share\\julia\\stdlib\\v1.10\\LinearAlgebra\\src\\\u001b[39m\u001b[90m\u001b[4mdiagonal.jl:845\u001b[24m\u001b[39m\n",
       "  [8] dot(\u001b[90mJ\u001b[39m::\u001b[1mUniformScaling\u001b[22m, \u001b[90mA\u001b[39m::\u001b[1mAbstractMatrix\u001b[22m)\n",
       "\u001b[90m     @\u001b[39m \u001b[90mC:\\Users\\slash\\.julia\\juliaup\\julia-1.10.5+0.x64.w64.mingw32\\share\\julia\\stdlib\\v1.10\\LinearAlgebra\\src\\\u001b[39m\u001b[90m\u001b[4muniformscaling.jl:423\u001b[24m\u001b[39m\n",
       "  [9] dot(\u001b[90mA\u001b[39m::\u001b[1mSparseArrays.AbstractSparseMatrixCSC\u001b[22m\u001b[0m{T1, S1}, \u001b[90mB\u001b[39m::\u001b[1mSparseArrays.AbstractSparseMatrixCSC\u001b[22m\u001b[0m{T2, S2}) where {T1, T2, S1, S2}\n",
       "\u001b[90m     @\u001b[39m \u001b[33mSparseArrays\u001b[39m \u001b[90mC:\\Users\\slash\\.julia\\juliaup\\julia-1.10.5+0.x64.w64.mingw32\\share\\julia\\stdlib\\v1.10\\SparseArrays\\src\\\u001b[39m\u001b[90m\u001b[4mlinalg.jl:316\u001b[24m\u001b[39m\n",
       " [10] dot(\u001b[90mA\u001b[39m::\u001b[1mSparseArrays.AbstractSparseMatrixCSC\u001b[22m, \u001b[90mB\u001b[39m::\u001b[1mUnion\u001b[22m\u001b[0m{SubArray{<:Any, 2, Union{StridedMatrix, BitMatrix, SparseArrays.AbstractSparseMatrix}}, Adjoint{<:Any, Union{StridedMatrix, BitMatrix, SparseArrays.AbstractSparseMatrix}}, Hermitian{<:Any, Union{StridedMatrix, BitMatrix, SparseArrays.AbstractSparseMatrix}}, LowerTriangular{<:Any, Union{StridedMatrix, BitMatrix, SparseArrays.AbstractSparseMatrix}}, Symmetric{<:Any, Union{StridedMatrix, BitMatrix, SparseArrays.AbstractSparseMatrix}}, Transpose{<:Any, Union{StridedMatrix, BitMatrix, SparseArrays.AbstractSparseMatrix}}, UnitLowerTriangular{<:Any, Union{StridedMatrix, BitMatrix, SparseArrays.AbstractSparseMatrix}}, UnitUpperTriangular{<:Any, Union{StridedMatrix, BitMatrix, SparseArrays.AbstractSparseMatrix}}, UpperHessenberg{<:Any, Union{StridedMatrix, BitMatrix, SparseArrays.AbstractSparseMatrix}}, UpperTriangular{<:Any, Union{StridedMatrix, BitMatrix, SparseArrays.AbstractSparseMatrix}}, StridedMatrix, BitMatrix})\n",
       "\u001b[90m     @\u001b[39m \u001b[33mSparseArrays\u001b[39m \u001b[90mC:\\Users\\slash\\.julia\\juliaup\\julia-1.10.5+0.x64.w64.mingw32\\share\\julia\\stdlib\\v1.10\\SparseArrays\\src\\\u001b[39m\u001b[90m\u001b[4mlinalg.jl:426\u001b[24m\u001b[39m\n",
       " [11] dot(\u001b[90mA\u001b[39m::\u001b[1mSymmetric\u001b[22m, \u001b[90mB\u001b[39m::\u001b[1mSymmetric\u001b[22m)\n",
       "\u001b[90m     @\u001b[39m \u001b[90mC:\\Users\\slash\\.julia\\juliaup\\julia-1.10.5+0.x64.w64.mingw32\\share\\julia\\stdlib\\v1.10\\LinearAlgebra\\src\\\u001b[39m\u001b[90m\u001b[4msymmetric.jl:457\u001b[24m\u001b[39m\n",
       " [12] dot(\u001b[90mx\u001b[39m::\u001b[1mSparseArrays.SparseVector\u001b[22m, \u001b[90mA\u001b[39m::\u001b[1mSparseArrays.AbstractSparseMatrixCSC\u001b[22m, \u001b[90my\u001b[39m::\u001b[1mSparseArrays.SparseVector\u001b[22m)\n",
       "\u001b[90m     @\u001b[39m \u001b[33mSparseArrays\u001b[39m \u001b[90mC:\\Users\\slash\\.julia\\juliaup\\julia-1.10.5+0.x64.w64.mingw32\\share\\julia\\stdlib\\v1.10\\SparseArrays\\src\\\u001b[39m\u001b[90m\u001b[4mlinalg.jl:369\u001b[24m\u001b[39m\n",
       " [13] dot(\u001b[90mx\u001b[39m::\u001b[1mSparseArrays.SparseVector\u001b[22m, \u001b[90mA\u001b[39m::\u001b[1mUnion\u001b[22m\u001b[0m{Hermitian{var\"#s390\", var\"#s389\"}, Hermitian{Complex{var\"#s390\"}, var\"#s389\"}, Symmetric{var\"#s390\", var\"#s389\"}} where {var\"#s390\", var\"#s389\"<:SparseArrays.AbstractSparseMatrixCSC}, \u001b[90my\u001b[39m::\u001b[1mSparseArrays.SparseVector\u001b[22m)\n",
       "\u001b[90m     @\u001b[39m \u001b[33mSparseArrays\u001b[39m \u001b[90mC:\\Users\\slash\\.julia\\juliaup\\julia-1.10.5+0.x64.w64.mingw32\\share\\julia\\stdlib\\v1.10\\SparseArrays\\src\\\u001b[39m\u001b[90m\u001b[4mlinalg.jl:947\u001b[24m\u001b[39m\n",
       " [14] dot(\u001b[90mx\u001b[39m::\u001b[1mAbstractVector\u001b[22m, \u001b[90mA\u001b[39m::\u001b[1mUnion\u001b[22m\u001b[0m{Hermitian{var\"#s994\", var\"#s128\"}, Symmetric{var\"#s994\", var\"#s128\"}, Symmetric{Complex{var\"#s994\"}, var\"#s128\"}} where {var\"#s994\"<:Real, var\"#s128\"<:Diagonal}, \u001b[90my\u001b[39m::\u001b[1mAbstractVector\u001b[22m)\n",
       "\u001b[90m     @\u001b[39m \u001b[90mC:\\Users\\slash\\.julia\\juliaup\\julia-1.10.5+0.x64.w64.mingw32\\share\\julia\\stdlib\\v1.10\\LinearAlgebra\\src\\\u001b[39m\u001b[90m\u001b[4mspecial.jl:309\u001b[24m\u001b[39m\n",
       " [15] dot(\u001b[90mlhs\u001b[39m::\u001b[1mAbstractJuMPScalar\u001b[22m, \u001b[90mrhs\u001b[39m::\u001b[1mAbstractJuMPScalar\u001b[22m)\n",
       "\u001b[90m     @\u001b[39m \u001b[35mJuMP\u001b[39m \u001b[90mC:\\Users\\slash\\.julia\\packages\\JuMP\\60Bnj\\src\\\u001b[39m\u001b[90m\u001b[4moperators.jl:344\u001b[24m\u001b[39m\n",
       " [16] dot(\u001b[90mlhs\u001b[39m::\u001b[1mAbstractJuMPScalar\u001b[22m, \u001b[90mrhs\u001b[39m::\u001b[1mUnion\u001b[22m\u001b[0m{Number, UniformScaling})\n",
       "\u001b[90m     @\u001b[39m \u001b[35mJuMP\u001b[39m \u001b[90mC:\\Users\\slash\\.julia\\packages\\JuMP\\60Bnj\\src\\\u001b[39m\u001b[90m\u001b[4moperators.jl:345\u001b[24m\u001b[39m\n",
       " [17] dot(\u001b[90mx\u001b[39m::\u001b[1mAbstractVector\u001b[22m, \u001b[90mA\u001b[39m::\u001b[1mUpperTriangular\u001b[22m, \u001b[90my\u001b[39m::\u001b[1mAbstractVector\u001b[22m)\n",
       "\u001b[90m     @\u001b[39m \u001b[90mC:\\Users\\slash\\.julia\\juliaup\\julia-1.10.5+0.x64.w64.mingw32\\share\\julia\\stdlib\\v1.10\\LinearAlgebra\\src\\\u001b[39m\u001b[90m\u001b[4mtriangular.jl:560\u001b[24m\u001b[39m\n",
       " [18] dot(\u001b[90mx\u001b[39m::\u001b[1mAbstractVector\u001b[22m, \u001b[90mD\u001b[39m::\u001b[1mDiagonal\u001b[22m, \u001b[90my\u001b[39m::\u001b[1mAbstractVector\u001b[22m)\n",
       "\u001b[90m     @\u001b[39m \u001b[90mC:\\Users\\slash\\.julia\\juliaup\\julia-1.10.5+0.x64.w64.mingw32\\share\\julia\\stdlib\\v1.10\\LinearAlgebra\\src\\\u001b[39m\u001b[90m\u001b[4mdiagonal.jl:837\u001b[24m\u001b[39m\n",
       " [19] dot(\u001b[90mx\u001b[39m::\u001b[1mAbstractVector\u001b[22m, \u001b[90mA\u001b[39m::\u001b[1mUnitLowerTriangular\u001b[22m, \u001b[90my\u001b[39m::\u001b[1mAbstractVector\u001b[22m)\n",
       "\u001b[90m     @\u001b[39m \u001b[90mC:\\Users\\slash\\.julia\\juliaup\\julia-1.10.5+0.x64.w64.mingw32\\share\\julia\\stdlib\\v1.10\\LinearAlgebra\\src\\\u001b[39m\u001b[90m\u001b[4mtriangular.jl:623\u001b[24m\u001b[39m\n",
       " [20] dot(\u001b[90mx\u001b[39m::\u001b[1mAbstractVector\u001b[22m, \u001b[90mJ\u001b[39m::\u001b[1mUniformScaling\u001b[22m, \u001b[90my\u001b[39m::\u001b[1mAbstractVector\u001b[22m)\n",
       "\u001b[90m     @\u001b[39m \u001b[90mC:\\Users\\slash\\.julia\\juliaup\\julia-1.10.5+0.x64.w64.mingw32\\share\\julia\\stdlib\\v1.10\\LinearAlgebra\\src\\\u001b[39m\u001b[90m\u001b[4muniformscaling.jl:425\u001b[24m\u001b[39m\n",
       " [21] dot(\u001b[90mA\u001b[39m::\u001b[1mAbstractMatrix\u001b[22m, \u001b[90mJ\u001b[39m::\u001b[1mUniformScaling\u001b[22m)\n",
       "\u001b[90m     @\u001b[39m \u001b[90mC:\\Users\\slash\\.julia\\juliaup\\julia-1.10.5+0.x64.w64.mingw32\\share\\julia\\stdlib\\v1.10\\LinearAlgebra\\src\\\u001b[39m\u001b[90m\u001b[4muniformscaling.jl:422\u001b[24m\u001b[39m\n",
       " [22] dot(\u001b[90mx\u001b[39m::\u001b[1mAbstractVector\u001b[22m, \u001b[90ma\u001b[39m::\u001b[1mUnion\u001b[22m\u001b[0m{Real, Complex}, \u001b[90my\u001b[39m::\u001b[1mAbstractVector\u001b[22m)\n",
       "\u001b[90m     @\u001b[39m \u001b[90mC:\\Users\\slash\\.julia\\juliaup\\julia-1.10.5+0.x64.w64.mingw32\\share\\julia\\stdlib\\v1.10\\LinearAlgebra\\src\\\u001b[39m\u001b[90m\u001b[4muniformscaling.jl:427\u001b[24m\u001b[39m\n",
       " [23] dot(\u001b[90mx\u001b[39m::\u001b[1mAbstractVector\u001b[22m, \u001b[90ma\u001b[39m::\u001b[1mNumber\u001b[22m, \u001b[90my\u001b[39m::\u001b[1mAbstractVector\u001b[22m)\n",
       "\u001b[90m     @\u001b[39m \u001b[90mC:\\Users\\slash\\.julia\\juliaup\\julia-1.10.5+0.x64.w64.mingw32\\share\\julia\\stdlib\\v1.10\\LinearAlgebra\\src\\\u001b[39m\u001b[90m\u001b[4muniformscaling.jl:426\u001b[24m\u001b[39m\n",
       " [24] dot(\u001b[90mx\u001b[39m::\u001b[1mAbstractVector\u001b[22m, \u001b[90mA\u001b[39m::\u001b[1mUnitUpperTriangular\u001b[22m, \u001b[90my\u001b[39m::\u001b[1mAbstractVector\u001b[22m)\n",
       "\u001b[90m     @\u001b[39m \u001b[90mC:\\Users\\slash\\.julia\\juliaup\\julia-1.10.5+0.x64.w64.mingw32\\share\\julia\\stdlib\\v1.10\\LinearAlgebra\\src\\\u001b[39m\u001b[90m\u001b[4mtriangular.jl:581\u001b[24m\u001b[39m\n",
       " [25] dot(\u001b[90mx\u001b[39m::\u001b[1mAbstractVector\u001b[22m, \u001b[90mA\u001b[39m::\u001b[1mLowerTriangular\u001b[22m, \u001b[90my\u001b[39m::\u001b[1mAbstractVector\u001b[22m)\n",
       "\u001b[90m     @\u001b[39m \u001b[90mC:\\Users\\slash\\.julia\\juliaup\\julia-1.10.5+0.x64.w64.mingw32\\share\\julia\\stdlib\\v1.10\\LinearAlgebra\\src\\\u001b[39m\u001b[90m\u001b[4mtriangular.jl:603\u001b[24m\u001b[39m\n",
       " [26] dot(\u001b[90mx\u001b[39m::\u001b[1mAbstractVector\u001b[22m, \u001b[90mA\u001b[39m::\u001b[1mTridiagonal\u001b[22m, \u001b[90my\u001b[39m::\u001b[1mAbstractVector\u001b[22m)\n",
       "\u001b[90m     @\u001b[39m \u001b[90mC:\\Users\\slash\\.julia\\juliaup\\julia-1.10.5+0.x64.w64.mingw32\\share\\julia\\stdlib\\v1.10\\LinearAlgebra\\src\\\u001b[39m\u001b[90m\u001b[4mtridiag.jl:841\u001b[24m\u001b[39m\n",
       " [27] dot(\u001b[90mx\u001b[39m::\u001b[1mAbstractVector\u001b[22m, \u001b[90mH\u001b[39m::\u001b[1mUpperHessenberg\u001b[22m, \u001b[90my\u001b[39m::\u001b[1mAbstractVector\u001b[22m)\n",
       "\u001b[90m     @\u001b[39m \u001b[90mC:\\Users\\slash\\.julia\\juliaup\\julia-1.10.5+0.x64.w64.mingw32\\share\\julia\\stdlib\\v1.10\\LinearAlgebra\\src\\\u001b[39m\u001b[90m\u001b[4mhessenberg.jl:339\u001b[24m\u001b[39m\n",
       " [28] dot(\u001b[90mx\u001b[39m::\u001b[1mAbstractVector\u001b[22m, \u001b[90mA\u001b[39m::\u001b[1mSparseArrays.AbstractSparseMatrixCSC\u001b[22m, \u001b[90my\u001b[39m::\u001b[1mAbstractVector\u001b[22m)\n",
       "\u001b[90m     @\u001b[39m \u001b[33mSparseArrays\u001b[39m \u001b[90mC:\\Users\\slash\\.julia\\juliaup\\julia-1.10.5+0.x64.w64.mingw32\\share\\julia\\stdlib\\v1.10\\SparseArrays\\src\\\u001b[39m\u001b[90m\u001b[4mlinalg.jl:346\u001b[24m\u001b[39m\n",
       " [29] dot(\u001b[90mx\u001b[39m::\u001b[1mAbstractVector\u001b[22m, \u001b[90mB\u001b[39m::\u001b[1mBidiagonal\u001b[22m, \u001b[90my\u001b[39m::\u001b[1mAbstractVector\u001b[22m)\n",
       "\u001b[90m     @\u001b[39m \u001b[90mC:\\Users\\slash\\.julia\\juliaup\\julia-1.10.5+0.x64.w64.mingw32\\share\\julia\\stdlib\\v1.10\\LinearAlgebra\\src\\\u001b[39m\u001b[90m\u001b[4mbidiag.jl:688\u001b[24m\u001b[39m\n",
       " [30] dot(\u001b[90mx\u001b[39m::\u001b[1mAbstractVector\u001b[22m, \u001b[90madjA\u001b[39m::\u001b[1mAdjoint\u001b[22m, \u001b[90my\u001b[39m::\u001b[1mAbstractVector\u001b[22m)\n",
       "\u001b[90m     @\u001b[39m \u001b[90mC:\\Users\\slash\\.julia\\juliaup\\julia-1.10.5+0.x64.w64.mingw32\\share\\julia\\stdlib\\v1.10\\LinearAlgebra\\src\\\u001b[39m\u001b[90m\u001b[4mgeneric.jl:941\u001b[24m\u001b[39m\n",
       " [31] dot(\u001b[90mx\u001b[39m::\u001b[1mUnion\u001b[22m\u001b[0m{SparseArrays.AbstractCompressedVector{Tv, Ti}, SubArray{Tv, 1, <:SparseArrays.AbstractSparseMatrixCSC{Tv, Ti}, Tuple{Base.Slice{Base.OneTo{Int64}}, Int64}, false}, SubArray{Tv, 1, <:SparseArrays.AbstractSparseVector{Tv, Ti}, Tuple{Base.Slice{Base.OneTo{Int64}}}, false}} where {Tv, Ti}, \u001b[90my\u001b[39m::\u001b[1mUnion\u001b[22m\u001b[0m{SparseArrays.AbstractCompressedVector{Tv, Ti}, SubArray{Tv, 1, <:SparseArrays.AbstractSparseMatrixCSC{Tv, Ti}, Tuple{Base.Slice{Base.OneTo{Int64}}, Int64}, false}, SubArray{Tv, 1, <:SparseArrays.AbstractSparseVector{Tv, Ti}, Tuple{Base.Slice{Base.OneTo{Int64}}}, false}} where {Tv, Ti})\n",
       "\u001b[90m     @\u001b[39m \u001b[33mSparseArrays\u001b[39m \u001b[90mC:\\Users\\slash\\.julia\\juliaup\\julia-1.10.5+0.x64.w64.mingw32\\share\\julia\\stdlib\\v1.10\\SparseArrays\\src\\\u001b[39m\u001b[90m\u001b[4msparsevector.jl:1751\u001b[24m\u001b[39m\n",
       " [32] dot(\u001b[90mx\u001b[39m::\u001b[1mAbstractVector\u001b[22m, \u001b[90my\u001b[39m::\u001b[1mUnion\u001b[22m\u001b[0m{SparseArrays.AbstractCompressedVector{Tv, Ti}, SubArray{Tv, 1, <:SparseArrays.AbstractSparseMatrixCSC{Tv, Ti}, Tuple{Base.Slice{Base.OneTo{Int64}}, Int64}, false}, SubArray{Tv, 1, <:SparseArrays.AbstractSparseVector{Tv, Ti}, Tuple{Base.Slice{Base.OneTo{Int64}}}, false}} where {Tv, Ti})\n",
       "\u001b[90m     @\u001b[39m \u001b[33mSparseArrays\u001b[39m \u001b[90mC:\\Users\\slash\\.julia\\juliaup\\julia-1.10.5+0.x64.w64.mingw32\\share\\julia\\stdlib\\v1.10\\SparseArrays\\src\\\u001b[39m\u001b[90m\u001b[4msparsevector.jl:1704\u001b[24m\u001b[39m\n",
       " [33] dot(\u001b[90mx\u001b[39m::\u001b[1mUnion\u001b[22m\u001b[0m{SparseArrays.AbstractCompressedVector{Tv, Ti}, SubArray{Tv, 1, <:SparseArrays.AbstractSparseMatrixCSC{Tv, Ti}, Tuple{Base.Slice{Base.OneTo{Int64}}, Int64}, false}, SubArray{Tv, 1, <:SparseArrays.AbstractSparseVector{Tv, Ti}, Tuple{Base.Slice{Base.OneTo{Int64}}}, false}} where {Tv, Ti}, \u001b[90my\u001b[39m::\u001b[1mAbstractVector\u001b[22m)\n",
       "\u001b[90m     @\u001b[39m \u001b[33mSparseArrays\u001b[39m \u001b[90mC:\\Users\\slash\\.julia\\juliaup\\julia-1.10.5+0.x64.w64.mingw32\\share\\julia\\stdlib\\v1.10\\SparseArrays\\src\\\u001b[39m\u001b[90m\u001b[4msparsevector.jl:1717\u001b[24m\u001b[39m\n",
       " [34] dot(\u001b[90mA\u001b[39m::\u001b[1mHermitian\u001b[22m\u001b[0m{var\"#s994\", S} where {var\"#s994\"<:Union{Real, Complex}, S<:(AbstractMatrix{<:var\"#s994\"})}, \u001b[90mB\u001b[39m::\u001b[1mHermitian\u001b[22m\u001b[0m{var\"#s128\", S} where {var\"#s128\"<:Union{Real, Complex}, S<:(AbstractMatrix{<:var\"#s128\"})})\n",
       "\u001b[90m     @\u001b[39m \u001b[90mC:\\Users\\slash\\.julia\\juliaup\\julia-1.10.5+0.x64.w64.mingw32\\share\\julia\\stdlib\\v1.10\\LinearAlgebra\\src\\\u001b[39m\u001b[90m\u001b[4msymmetric.jl:457\u001b[24m\u001b[39m\n",
       " [35] dot(\u001b[90mx\u001b[39m::\u001b[1mTranspose\u001b[22m, \u001b[90my\u001b[39m::\u001b[1mTranspose\u001b[22m)\n",
       "\u001b[90m     @\u001b[39m \u001b[90mC:\\Users\\slash\\.julia\\juliaup\\julia-1.10.5+0.x64.w64.mingw32\\share\\julia\\stdlib\\v1.10\\LinearAlgebra\\src\\\u001b[39m\u001b[90m\u001b[4mgeneric.jl:896\u001b[24m\u001b[39m\n",
       " [36] dot(\u001b[90mx\u001b[39m::\u001b[1mAdjoint\u001b[22m\u001b[0m{<:Union{Real, Complex}}, \u001b[90my\u001b[39m::\u001b[1mAdjoint\u001b[22m\u001b[0m{<:Union{Real, Complex}})\n",
       "\u001b[90m     @\u001b[39m \u001b[90mC:\\Users\\slash\\.julia\\juliaup\\julia-1.10.5+0.x64.w64.mingw32\\share\\julia\\stdlib\\v1.10\\LinearAlgebra\\src\\\u001b[39m\u001b[90m\u001b[4mgeneric.jl:893\u001b[24m\u001b[39m\n",
       " [37] dot(\u001b[90mA\u001b[39m::\u001b[1mUnion\u001b[22m\u001b[0m{SubArray{<:Any, 2, Union{StridedMatrix, BitMatrix, SparseArrays.AbstractSparseMatrix}}, Adjoint{<:Any, Union{StridedMatrix, BitMatrix, SparseArrays.AbstractSparseMatrix}}, Hermitian{<:Any, Union{StridedMatrix, BitMatrix, SparseArrays.AbstractSparseMatrix}}, LowerTriangular{<:Any, Union{StridedMatrix, BitMatrix, SparseArrays.AbstractSparseMatrix}}, Symmetric{<:Any, Union{StridedMatrix, BitMatrix, SparseArrays.AbstractSparseMatrix}}, Transpose{<:Any, Union{StridedMatrix, BitMatrix, SparseArrays.AbstractSparseMatrix}}, UnitLowerTriangular{<:Any, Union{StridedMatrix, BitMatrix, SparseArrays.AbstractSparseMatrix}}, UnitUpperTriangular{<:Any, Union{StridedMatrix, BitMatrix, SparseArrays.AbstractSparseMatrix}}, UpperHessenberg{<:Any, Union{StridedMatrix, BitMatrix, SparseArrays.AbstractSparseMatrix}}, UpperTriangular{<:Any, Union{StridedMatrix, BitMatrix, SparseArrays.AbstractSparseMatrix}}, StridedMatrix, BitMatrix}, \u001b[90mB\u001b[39m::\u001b[1mSparseArrays.AbstractSparseMatrixCSC\u001b[22m)\n",
       "\u001b[90m     @\u001b[39m \u001b[33mSparseArrays\u001b[39m \u001b[90mC:\\Users\\slash\\.julia\\juliaup\\julia-1.10.5+0.x64.w64.mingw32\\share\\julia\\stdlib\\v1.10\\SparseArrays\\src\\\u001b[39m\u001b[90m\u001b[4mlinalg.jl:404\u001b[24m\u001b[39m\n",
       " [38] dot(\u001b[90mx\u001b[39m::\u001b[1mUnion\u001b[22m\u001b[0m{Base.ReinterpretArray{T, N, S, A, IsReshaped} where {N, A<:Union{SubArray{T, N, A, I, true} where {T, N, A<:DenseArray, I<:Union{Tuple{Vararg{Real}}, Tuple{AbstractUnitRange, Vararg{Any}}}}, DenseArray}, IsReshaped, S}, Base.ReshapedArray{T, N, A} where {N, A<:Union{Base.ReinterpretArray{T, N, S, A, IsReshaped} where {T, N, A<:Union{SubArray{T, N, A, I, true} where {T, N, A<:DenseArray, I<:Union{Tuple{Vararg{Real}}, Tuple{AbstractUnitRange, Vararg{Any}}}}, DenseArray}, IsReshaped, S}, SubArray{T, N, A, I, true} where {T, N, A<:DenseArray, I<:Union{Tuple{Vararg{Real}}, Tuple{AbstractUnitRange, Vararg{Any}}}}, DenseArray}}, SubArray{T, var\"#s994\", var\"#s128\", I, true} where {var\"#s994\", var\"#s128\"<:Union{Base.ReinterpretArray{T, N, S, A, IsReshaped} where {N, A<:Union{SubArray{T, N, A, I, true} where {T, N, A<:DenseArray, I<:Union{Tuple{Vararg{Real}}, Tuple{AbstractUnitRange, Vararg{Any}}}}, DenseArray}, IsReshaped, S}, Base.ReshapedArray{T, N, A} where {N, A<:Union{Base.ReinterpretArray{T, N, S, A, IsReshaped} where {T, N, A<:Union{SubArray{T, N, A, I, true} where {T, N, A<:DenseArray, I<:Union{Tuple{Vararg{Real}}, Tuple{AbstractUnitRange, Vararg{Any}}}}, DenseArray}, IsReshaped, S}, SubArray{T, N, A, I, true} where {T, N, A<:DenseArray, I<:Union{Tuple{Vararg{Real}}, Tuple{AbstractUnitRange, Vararg{Any}}}}, DenseArray}}, DenseArray{T}}, I}, DenseArray{T}}, \u001b[90my\u001b[39m::\u001b[1mUnion\u001b[22m\u001b[0m{Base.ReinterpretArray{T, N, S, A, IsReshaped} where {N, A<:Union{SubArray{T, N, A, I, true} where {T, N, A<:DenseArray, I<:Union{Tuple{Vararg{Real}}, Tuple{AbstractUnitRange, Vararg{Any}}}}, DenseArray}, IsReshaped, S}, Base.ReshapedArray{T, N, A} where {N, A<:Union{Base.ReinterpretArray{T, N, S, A, IsReshaped} where {T, N, A<:Union{SubArray{T, N, A, I, true} where {T, N, A<:DenseArray, I<:Union{Tuple{Vararg{Real}}, Tuple{AbstractUnitRange, Vararg{Any}}}}, DenseArray}, IsReshaped, S}, SubArray{T, N, A, I, true} where {T, N, A<:DenseArray, I<:Union{Tuple{Vararg{Real}}, Tuple{AbstractUnitRange, Vararg{Any}}}}, DenseArray}}, SubArray{T, var\"#s994\", var\"#s128\", I, true} where {var\"#s994\", var\"#s128\"<:Union{Base.ReinterpretArray{T, N, S, A, IsReshaped} where {N, A<:Union{SubArray{T, N, A, I, true} where {T, N, A<:DenseArray, I<:Union{Tuple{Vararg{Real}}, Tuple{AbstractUnitRange, Vararg{Any}}}}, DenseArray}, IsReshaped, S}, Base.ReshapedArray{T, N, A} where {N, A<:Union{Base.ReinterpretArray{T, N, S, A, IsReshaped} where {T, N, A<:Union{SubArray{T, N, A, I, true} where {T, N, A<:DenseArray, I<:Union{Tuple{Vararg{Real}}, Tuple{AbstractUnitRange, Vararg{Any}}}}, DenseArray}, IsReshaped, S}, SubArray{T, N, A, I, true} where {T, N, A<:DenseArray, I<:Union{Tuple{Vararg{Real}}, Tuple{AbstractUnitRange, Vararg{Any}}}}, DenseArray}}, DenseArray{T}}, I}, DenseArray{T}}) where T<:Union{ComplexF64, ComplexF32}\n",
       "\u001b[90m     @\u001b[39m \u001b[90mC:\\Users\\slash\\.julia\\juliaup\\julia-1.10.5+0.x64.w64.mingw32\\share\\julia\\stdlib\\v1.10\\LinearAlgebra\\src\\\u001b[39m\u001b[90m\u001b[4mmatmul.jl:16\u001b[24m\u001b[39m\n",
       " [39] dot(\u001b[90mx\u001b[39m::\u001b[1mUnion\u001b[22m\u001b[0m{Base.ReinterpretArray{T, N, S, A, IsReshaped} where {N, A<:Union{SubArray{T, N, A, I, true} where {T, N, A<:DenseArray, I<:Union{Tuple{Vararg{Real}}, Tuple{AbstractUnitRange, Vararg{Any}}}}, DenseArray}, IsReshaped, S}, Base.ReshapedArray{T, N, A} where {N, A<:Union{Base.ReinterpretArray{T, N, S, A, IsReshaped} where {T, N, A<:Union{SubArray{T, N, A, I, true} where {T, N, A<:DenseArray, I<:Union{Tuple{Vararg{Real}}, Tuple{AbstractUnitRange, Vararg{Any}}}}, DenseArray}, IsReshaped, S}, SubArray{T, N, A, I, true} where {T, N, A<:DenseArray, I<:Union{Tuple{Vararg{Real}}, Tuple{AbstractUnitRange, Vararg{Any}}}}, DenseArray}}, SubArray{T, var\"#s994\", var\"#s128\", I, true} where {var\"#s994\", var\"#s128\"<:Union{Base.ReinterpretArray{T, N, S, A, IsReshaped} where {N, A<:Union{SubArray{T, N, A, I, true} where {T, N, A<:DenseArray, I<:Union{Tuple{Vararg{Real}}, Tuple{AbstractUnitRange, Vararg{Any}}}}, DenseArray}, IsReshaped, S}, Base.ReshapedArray{T, N, A} where {N, A<:Union{Base.ReinterpretArray{T, N, S, A, IsReshaped} where {T, N, A<:Union{SubArray{T, N, A, I, true} where {T, N, A<:DenseArray, I<:Union{Tuple{Vararg{Real}}, Tuple{AbstractUnitRange, Vararg{Any}}}}, DenseArray}, IsReshaped, S}, SubArray{T, N, A, I, true} where {T, N, A<:DenseArray, I<:Union{Tuple{Vararg{Real}}, Tuple{AbstractUnitRange, Vararg{Any}}}}, DenseArray}}, DenseArray{T}}, I}, DenseArray{T}}, \u001b[90my\u001b[39m::\u001b[1mUnion\u001b[22m\u001b[0m{Base.ReinterpretArray{T, N, S, A, IsReshaped} where {N, A<:Union{SubArray{T, N, A, I, true} where {T, N, A<:DenseArray, I<:Union{Tuple{Vararg{Real}}, Tuple{AbstractUnitRange, Vararg{Any}}}}, DenseArray}, IsReshaped, S}, Base.ReshapedArray{T, N, A} where {N, A<:Union{Base.ReinterpretArray{T, N, S, A, IsReshaped} where {T, N, A<:Union{SubArray{T, N, A, I, true} where {T, N, A<:DenseArray, I<:Union{Tuple{Vararg{Real}}, Tuple{AbstractUnitRange, Vararg{Any}}}}, DenseArray}, IsReshaped, S}, SubArray{T, N, A, I, true} where {T, N, A<:DenseArray, I<:Union{Tuple{Vararg{Real}}, Tuple{AbstractUnitRange, Vararg{Any}}}}, DenseArray}}, SubArray{T, var\"#s994\", var\"#s128\", I, true} where {var\"#s994\", var\"#s128\"<:Union{Base.ReinterpretArray{T, N, S, A, IsReshaped} where {N, A<:Union{SubArray{T, N, A, I, true} where {T, N, A<:DenseArray, I<:Union{Tuple{Vararg{Real}}, Tuple{AbstractUnitRange, Vararg{Any}}}}, DenseArray}, IsReshaped, S}, Base.ReshapedArray{T, N, A} where {N, A<:Union{Base.ReinterpretArray{T, N, S, A, IsReshaped} where {T, N, A<:Union{SubArray{T, N, A, I, true} where {T, N, A<:DenseArray, I<:Union{Tuple{Vararg{Real}}, Tuple{AbstractUnitRange, Vararg{Any}}}}, DenseArray}, IsReshaped, S}, SubArray{T, N, A, I, true} where {T, N, A<:DenseArray, I<:Union{Tuple{Vararg{Real}}, Tuple{AbstractUnitRange, Vararg{Any}}}}, DenseArray}}, DenseArray{T}}, I}, DenseArray{T}}) where T<:Union{Float32, Float64}\n",
       "\u001b[90m     @\u001b[39m \u001b[90mC:\\Users\\slash\\.julia\\juliaup\\julia-1.10.5+0.x64.w64.mingw32\\share\\julia\\stdlib\\v1.10\\LinearAlgebra\\src\\\u001b[39m\u001b[90m\u001b[4mmatmul.jl:15\u001b[24m\u001b[39m\n",
       " [40] dot(\u001b[90mlhs\u001b[39m::\u001b[1mAbstractArray\u001b[22m\u001b[0m{<:MutableArithmetics.AbstractMutable}, \u001b[90mrhs\u001b[39m::\u001b[1mAbstractArray\u001b[22m\u001b[0m{<:MutableArithmetics.AbstractMutable})\n",
       "\u001b[90m     @\u001b[39m \u001b[35mMutableArithmetics\u001b[39m \u001b[90mC:\\Users\\slash\\.julia\\packages\\MutableArithmetics\\Lnlkl\\src\\\u001b[39m\u001b[90m\u001b[4mdispatch.jl:68\u001b[24m\u001b[39m\n",
       " [41] dot(\u001b[90mlhs\u001b[39m::\u001b[1mAbstractArray\u001b[22m\u001b[0m{<:MutableArithmetics.AbstractMutable}, \u001b[90mrhs\u001b[39m::\u001b[1mAbstractArray\u001b[22m)\n",
       "\u001b[90m     @\u001b[39m \u001b[35mMutableArithmetics\u001b[39m \u001b[90mC:\\Users\\slash\\.julia\\packages\\MutableArithmetics\\Lnlkl\\src\\\u001b[39m\u001b[90m\u001b[4mdispatch.jl:54\u001b[24m\u001b[39m\n",
       " [42] dot(\u001b[90mlhs\u001b[39m::\u001b[1mAbstractArray\u001b[22m, \u001b[90mrhs\u001b[39m::\u001b[1mAbstractArray\u001b[22m\u001b[0m{<:MutableArithmetics.AbstractMutable})\n",
       "\u001b[90m     @\u001b[39m \u001b[35mMutableArithmetics\u001b[39m \u001b[90mC:\\Users\\slash\\.julia\\packages\\MutableArithmetics\\Lnlkl\\src\\\u001b[39m\u001b[90m\u001b[4mdispatch.jl:61\u001b[24m\u001b[39m\n",
       " [43] dot(\u001b[90mx\u001b[39m::\u001b[1mAbstractVector\u001b[22m, \u001b[90mS\u001b[39m::\u001b[1mSymTridiagonal\u001b[22m, \u001b[90my\u001b[39m::\u001b[1mAbstractVector\u001b[22m)\n",
       "\u001b[90m     @\u001b[39m \u001b[90mC:\\Users\\slash\\.julia\\juliaup\\julia-1.10.5+0.x64.w64.mingw32\\share\\julia\\stdlib\\v1.10\\LinearAlgebra\\src\\\u001b[39m\u001b[90m\u001b[4mtridiag.jl:222\u001b[24m\u001b[39m\n",
       " [44] dot(\u001b[90mx\u001b[39m::\u001b[1mAbstractVector\u001b[22m, \u001b[90mtransA\u001b[39m::\u001b[1mTranspose\u001b[22m\u001b[0m{<:Real}, \u001b[90my\u001b[39m::\u001b[1mAbstractVector\u001b[22m)\n",
       "\u001b[90m     @\u001b[39m \u001b[90mC:\\Users\\slash\\.julia\\juliaup\\julia-1.10.5+0.x64.w64.mingw32\\share\\julia\\stdlib\\v1.10\\LinearAlgebra\\src\\\u001b[39m\u001b[90m\u001b[4mgeneric.jl:942\u001b[24m\u001b[39m\n",
       " [45] dot(\u001b[90mx\u001b[39m::\u001b[1mAbstractVector\u001b[22m, \u001b[90mA\u001b[39m::\u001b[1mUnion\u001b[22m\u001b[0m{Hermitian{var\"#s390\", var\"#s389\"}, Hermitian{Complex{var\"#s390\"}, var\"#s389\"}, Symmetric{var\"#s390\", var\"#s389\"}} where {var\"#s390\", var\"#s389\"<:SparseArrays.AbstractSparseMatrixCSC}, \u001b[90my\u001b[39m::\u001b[1mAbstractVector\u001b[22m)\n",
       "\u001b[90m     @\u001b[39m \u001b[33mSparseArrays\u001b[39m \u001b[90mC:\\Users\\slash\\.julia\\juliaup\\julia-1.10.5+0.x64.w64.mingw32\\share\\julia\\stdlib\\v1.10\\SparseArrays\\src\\\u001b[39m\u001b[90m\u001b[4mlinalg.jl:916\u001b[24m\u001b[39m\n",
       " [46] dot(\u001b[90mx\u001b[39m::\u001b[1mAbstractVector\u001b[22m, \u001b[90mA\u001b[39m::\u001b[1mUnion\u001b[22m\u001b[0m{Hermitian{T, S}, Hermitian{Complex{T}, S}, Symmetric{T, S}} where {T<:Real, S}, \u001b[90my\u001b[39m::\u001b[1mAbstractVector\u001b[22m)\n",
       "\u001b[90m     @\u001b[39m \u001b[90mC:\\Users\\slash\\.julia\\juliaup\\julia-1.10.5+0.x64.w64.mingw32\\share\\julia\\stdlib\\v1.10\\LinearAlgebra\\src\\\u001b[39m\u001b[90m\u001b[4msymmetric.jl:529\u001b[24m\u001b[39m\n",
       " [47] dot(\u001b[90mx\u001b[39m::\u001b[1mAbstractVector\u001b[22m, \u001b[90mA\u001b[39m::\u001b[1mAbstractMatrix\u001b[22m, \u001b[90my\u001b[39m::\u001b[1mAbstractVector\u001b[22m)\n",
       "\u001b[90m     @\u001b[39m \u001b[90mC:\\Users\\slash\\.julia\\juliaup\\julia-1.10.5+0.x64.w64.mingw32\\share\\julia\\stdlib\\v1.10\\LinearAlgebra\\src\\\u001b[39m\u001b[90m\u001b[4mgeneric.jl:923\u001b[24m\u001b[39m\n",
       " [48] dot(\u001b[90mx\u001b[39m::\u001b[1mAbstractArray\u001b[22m, \u001b[90my\u001b[39m::\u001b[1mAbstractArray\u001b[22m)\n",
       "\u001b[90m     @\u001b[39m \u001b[90mC:\\Users\\slash\\.julia\\juliaup\\julia-1.10.5+0.x64.w64.mingw32\\share\\julia\\stdlib\\v1.10\\LinearAlgebra\\src\\\u001b[39m\u001b[90m\u001b[4mgeneric.jl:878\u001b[24m\u001b[39m\n",
       " [49] dot(\u001b[90mlhs\u001b[39m::\u001b[1mUnion\u001b[22m\u001b[0m{Number, UniformScaling}, \u001b[90mrhs\u001b[39m::\u001b[1mAbstractJuMPScalar\u001b[22m)\n",
       "\u001b[90m     @\u001b[39m \u001b[35mJuMP\u001b[39m \u001b[90mC:\\Users\\slash\\.julia\\packages\\JuMP\\60Bnj\\src\\\u001b[39m\u001b[90m\u001b[4moperators.jl:346\u001b[24m\u001b[39m\n",
       " [50] dot(\u001b[90mf\u001b[39m::\u001b[1mUnion\u001b[22m\u001b[0m{MathOptInterface.VariableIndex, MathOptInterface.ScalarAffineFunction{T}, MathOptInterface.ScalarQuadraticFunction{T}} where T, \u001b[90mg\u001b[39m::\u001b[1mUnion\u001b[22m\u001b[0m{MathOptInterface.VariableIndex, MathOptInterface.ScalarAffineFunction{T}, MathOptInterface.ScalarQuadraticFunction{T}} where T)\n",
       "\u001b[90m     @\u001b[39m \u001b[36mMathOptInterface.Utilities\u001b[39m \u001b[90mC:\\Users\\slash\\.julia\\packages\\MathOptInterface\\RuRWI\\src\\Utilities\\\u001b[39m\u001b[90m\u001b[4mfunctions.jl:2482\u001b[24m\u001b[39m\n",
       " [51] dot(\u001b[90mfunc\u001b[39m::\u001b[1mUnion\u001b[22m\u001b[0m{MathOptInterface.ScalarAffineFunction{T}, MathOptInterface.ScalarQuadraticFunction{T}, MathOptInterface.VectorAffineFunction{T}, MathOptInterface.VectorQuadraticFunction{T}}, \u001b[90mα\u001b[39m::\u001b[1mT\u001b[22m) where T\n",
       "\u001b[90m     @\u001b[39m \u001b[36mMathOptInterface.Utilities\u001b[39m \u001b[90mC:\\Users\\slash\\.julia\\packages\\MathOptInterface\\RuRWI\\src\\Utilities\\\u001b[39m\u001b[90m\u001b[4mfunctions.jl:2490\u001b[24m\u001b[39m\n",
       " [52] dot(\u001b[90mα\u001b[39m::\u001b[1mT\u001b[22m, \u001b[90mfunc\u001b[39m::\u001b[1mUnion\u001b[22m\u001b[0m{MathOptInterface.ScalarAffineFunction{T}, MathOptInterface.ScalarQuadraticFunction{T}, MathOptInterface.VectorAffineFunction{T}, MathOptInterface.VectorQuadraticFunction{T}}) where T\n",
       "\u001b[90m     @\u001b[39m \u001b[36mMathOptInterface.Utilities\u001b[39m \u001b[90mC:\\Users\\slash\\.julia\\packages\\MathOptInterface\\RuRWI\\src\\Utilities\\\u001b[39m\u001b[90m\u001b[4mfunctions.jl:2486\u001b[24m\u001b[39m\n",
       " [53] dot(\u001b[90mx\u001b[39m, \u001b[90my\u001b[39m)\n",
       "\u001b[90m     @\u001b[39m \u001b[90mC:\\Users\\slash\\.julia\\juliaup\\julia-1.10.5+0.x64.w64.mingw32\\share\\julia\\stdlib\\v1.10\\LinearAlgebra\\src\\\u001b[39m\u001b[90m\u001b[4mgeneric.jl:847\u001b[24m\u001b[39m\n",
       " [54] dot(\u001b[90mx\u001b[39m, \u001b[90mA\u001b[39m, \u001b[90my\u001b[39m)\n",
       "\u001b[90m     @\u001b[39m \u001b[90mC:\\Users\\slash\\.julia\\juliaup\\julia-1.10.5+0.x64.w64.mingw32\\share\\julia\\stdlib\\v1.10\\LinearAlgebra\\src\\\u001b[39m\u001b[90m\u001b[4mgeneric.jl:921\u001b[24m\u001b[39m"
      ]
     },
     "execution_count": 41,
     "metadata": {},
     "output_type": "execute_result"
    }
   ],
   "source": [
    "methods(dot)"
   ]
  },
  {
   "cell_type": "markdown",
   "metadata": {},
   "source": [
    "Expected value of perfect information:"
   ]
  },
  {
   "cell_type": "code",
   "execution_count": 43,
   "metadata": {},
   "outputs": [
    {
     "data": {
      "text/plain": [
       "-7015.5555555555475"
      ]
     },
     "execution_count": 43,
     "metadata": {},
     "output_type": "execute_result"
    }
   ],
   "source": [
    "valPerfect - valStoch"
   ]
  },
  {
   "cell_type": "markdown",
   "metadata": {},
   "source": [
    "## Value of the stochastic solution"
   ]
  },
  {
   "cell_type": "markdown",
   "metadata": {},
   "source": [
    "We have to fix the first stage decision. We define the second stage problem."
   ]
  },
  {
   "cell_type": "code",
   "execution_count": 45,
   "metadata": {},
   "outputs": [
    {
     "data": {
      "text/plain": [
       "secondStage (generic function with 2 methods)"
      ]
     },
     "execution_count": 45,
     "metadata": {},
     "output_type": "execute_result"
    }
   ],
   "source": [
    "function secondStage(x, factor::Float64 = 1.0)\n",
    "    m = Model(HiGHS.Optimizer)\n",
    "    \n",
    "    @variable(m,y[1:2] >= 0)   # purchases\n",
    "    @variable(m,w[1:4] >= 0)   # sales\n",
    "\n",
    "    costs = [238, 210]\n",
    "    prices = [170, 150, 36, 10]\n",
    "    returns = (factor*[2.5, 3, 20]).*x\n",
    "    z = [200 - returns[1], 240 - returns[2], returns[3]]\n",
    "    \n",
    "    @constraint(m, wheatNeeds, y[1]-w[1] >= z[1])\n",
    "    @constraint(m, cornNeeds, y[2]-w[2] >= z[2])\n",
    "    @constraint(m, beetsProd, w[3]+w[4] <= z[3])\n",
    "    @constraint(m, beetsQuota, w[3] <= 6000)\n",
    "\n",
    "    @objective(m,Min, sum(costs[i]*y[i] for i = 1:length(costs)) - (sum(prices[i]*w[i] for i=1:length(prices))))\n",
    "    \n",
    "    status = optimize!(m)\n",
    "    \n",
    "    return m, status\n",
    "end"
   ]
  },
  {
   "cell_type": "code",
   "execution_count": 46,
   "metadata": {},
   "outputs": [
    {
     "data": {
      "text/plain": [
       "3-element Vector{Int64}:\n",
       " 120\n",
       "  80\n",
       " 300"
      ]
     },
     "execution_count": 46,
     "metadata": {},
     "output_type": "execute_result"
    }
   ],
   "source": [
    "x = [120, 80, 300]"
   ]
  },
  {
   "cell_type": "code",
   "execution_count": 47,
   "metadata": {},
   "outputs": [
    {
     "name": "stdout",
     "output_type": "stream",
     "text": [
      "Running HiGHS 1.5.3 [date: 1970-01-01, git hash: 45a127b78]\n",
      "Copyright (c) 2023 HiGHS under MIT licence terms\n",
      "Presolving model\n",
      "2 rows, 3 cols, 3 nonzeros\n",
      "0 rows, 0 cols, 0 nonzeros\n",
      "Presolve : Reductions: rows 0(-4); columns 0(-6); elements 0(-7) - Reduced to empty\n",
      "Solving the original LP from the solution after postsolve\n",
      "Using EKK primal simplex solver\n",
      "  Iteration        Objective     Infeasibilities num(sum)\n",
      "          0    -2.3300006374e+05 Pr: 0(0); Du: 1(10) 0s\n",
      "          1    -2.3300000000e+05 Pr: 0(0) 0s\n",
      "Model   status      : Optimal\n",
      "Simplex   iterations: 1\n",
      "Objective value     : -2.3300000000e+05\n",
      "HiGHS run time      :          0.00\n"
     ]
    },
    {
     "data": {
      "text/plain": [
       "(A JuMP Model\n",
       "Minimization problem with:\n",
       "Variables: 6\n",
       "Objective function type: AffExpr\n",
       "`AffExpr`-in-`MathOptInterface.GreaterThan{Float64}`: 2 constraints\n",
       "`AffExpr`-in-`MathOptInterface.LessThan{Float64}`: 2 constraints\n",
       "`VariableRef`-in-`MathOptInterface.GreaterThan{Float64}`: 6 constraints\n",
       "Model mode: AUTOMATIC\n",
       "CachingOptimizer state: ATTACHED_OPTIMIZER\n",
       "Solver name: HiGHS\n",
       "Names registered in the model: beetsProd, beetsQuota, cornNeeds, w, wheatNeeds, y, nothing)"
      ]
     },
     "execution_count": 47,
     "metadata": {},
     "output_type": "execute_result"
    }
   ],
   "source": [
    "msecond, status = secondStage(x)"
   ]
  },
  {
   "cell_type": "code",
   "execution_count": 48,
   "metadata": {},
   "outputs": [
    {
     "data": {
      "text/latex": [
       "$$ \\begin{aligned}\n",
       "\\min\\quad & 238 y_{1} + 210 y_{2} - 170 w_{1} - 150 w_{2} - 36 w_{3} - 10 w_{4}\\\\\n",
       "\\text{Subject to} \\quad & y_{1} - w_{1} \\geq -100.0\\\\\n",
       " & y_{2} - w_{2} \\geq 0.0\\\\\n",
       " & w_{3} + w_{4} \\leq 6000.0\\\\\n",
       " & w_{3} \\leq 6000.0\\\\\n",
       " & y_{1} \\geq 0.0\\\\\n",
       " & y_{2} \\geq 0.0\\\\\n",
       " & w_{1} \\geq 0.0\\\\\n",
       " & w_{2} \\geq 0.0\\\\\n",
       " & w_{3} \\geq 0.0\\\\\n",
       " & w_{4} \\geq 0.0\\\\\n",
       "\\end{aligned} $$"
      ]
     },
     "metadata": {},
     "output_type": "display_data"
    }
   ],
   "source": [
    "print(msecond)"
   ]
  },
  {
   "cell_type": "code",
   "execution_count": 49,
   "metadata": {},
   "outputs": [
    {
     "data": {
      "text/plain": [
       "-233000.0"
      ]
     },
     "execution_count": 49,
     "metadata": {},
     "output_type": "execute_result"
    }
   ],
   "source": [
    "vaverage = objective_value(msecond)"
   ]
  },
  {
   "cell_type": "code",
   "execution_count": 50,
   "metadata": {},
   "outputs": [
    {
     "name": "stdout",
     "output_type": "stream",
     "text": [
      "Running HiGHS 1.5.3 [date: 1970-01-01, git hash: 45a127b78]\n",
      "Copyright (c) 2023 HiGHS under MIT licence terms\n",
      "Presolving model\n",
      "3 rows, 6 cols, 6 nonzeros\n",
      "0 rows, 0 cols, 0 nonzeros\n",
      "Presolve : Reductions: rows 0(-4); columns 0(-6); elements 0(-7) - Reduced to empty\n",
      "Solving the original LP from the solution after postsolve\n",
      "Model   status      : Optimal\n",
      "Objective value     : -2.6240000000e+05\n",
      "HiGHS run time      :          0.00\n"
     ]
    },
    {
     "data": {
      "text/plain": [
       "(A JuMP Model\n",
       "Minimization problem with:\n",
       "Variables: 6\n",
       "Objective function type: AffExpr\n",
       "`AffExpr`-in-`MathOptInterface.GreaterThan{Float64}`: 2 constraints\n",
       "`AffExpr`-in-`MathOptInterface.LessThan{Float64}`: 2 constraints\n",
       "`VariableRef`-in-`MathOptInterface.GreaterThan{Float64}`: 6 constraints\n",
       "Model mode: AUTOMATIC\n",
       "CachingOptimizer state: ATTACHED_OPTIMIZER\n",
       "Solver name: HiGHS\n",
       "Names registered in the model: beetsProd, beetsQuota, cornNeeds, w, wheatNeeds, y, nothing)"
      ]
     },
     "execution_count": 50,
     "metadata": {},
     "output_type": "execute_result"
    }
   ],
   "source": [
    "msecond, status = secondStage(x, 1.2)"
   ]
  },
  {
   "cell_type": "code",
   "execution_count": 51,
   "metadata": {},
   "outputs": [
    {
     "data": {
      "text/plain": [
       "-262400.0"
      ]
     },
     "execution_count": 51,
     "metadata": {},
     "output_type": "execute_result"
    }
   ],
   "source": [
    "vgood = objective_value(msecond)"
   ]
  },
  {
   "cell_type": "code",
   "execution_count": 52,
   "metadata": {},
   "outputs": [
    {
     "name": "stdout",
     "output_type": "stream",
     "text": [
      "Running HiGHS 1.5.3 [date: 1970-01-01, git hash: 45a127b78]\n",
      "Copyright (c) 2023 HiGHS under MIT licence terms\n",
      "Presolving model\n",
      "2 rows, 3 cols, 3 nonzeros\n",
      "0 rows, 0 cols, 0 nonzeros\n",
      "Presolve : Reductions: rows 0(-4); columns 0(-6); elements 0(-7) - Reduced to empty\n",
      "Solving the original LP from the solution after postsolve\n",
      "Model   status      : Optimal\n",
      "Objective value     : -1.6952000000e+05\n",
      "HiGHS run time      :          0.00\n"
     ]
    },
    {
     "data": {
      "text/plain": [
       "(A JuMP Model\n",
       "Minimization problem with:\n",
       "Variables: 6\n",
       "Objective function type: AffExpr\n",
       "`AffExpr`-in-`MathOptInterface.GreaterThan{Float64}`: 2 constraints\n",
       "`AffExpr`-in-`MathOptInterface.LessThan{Float64}`: 2 constraints\n",
       "`VariableRef`-in-`MathOptInterface.GreaterThan{Float64}`: 6 constraints\n",
       "Model mode: AUTOMATIC\n",
       "CachingOptimizer state: ATTACHED_OPTIMIZER\n",
       "Solver name: HiGHS\n",
       "Names registered in the model: beetsProd, beetsQuota, cornNeeds, w, wheatNeeds, y, nothing)"
      ]
     },
     "execution_count": 52,
     "metadata": {},
     "output_type": "execute_result"
    }
   ],
   "source": [
    "msecond, status = secondStage(x, 0.8)"
   ]
  },
  {
   "cell_type": "code",
   "execution_count": 53,
   "metadata": {},
   "outputs": [
    {
     "data": {
      "text/plain": [
       "-169520.0"
      ]
     },
     "execution_count": 53,
     "metadata": {},
     "output_type": "execute_result"
    }
   ],
   "source": [
    "vbad = objective_value(msecond)"
   ]
  },
  {
   "cell_type": "markdown",
   "metadata": {},
   "source": [
    "Expected revenue"
   ]
  },
  {
   "cell_type": "code",
   "execution_count": 54,
   "metadata": {},
   "outputs": [
    {
     "data": {
      "text/plain": [
       "-107239.99999999997"
      ]
     },
     "execution_count": 54,
     "metadata": {},
     "output_type": "execute_result"
    }
   ],
   "source": [
    "er = costSeeding'*x+p'*[vaverage, vgood, vbad]"
   ]
  },
  {
   "cell_type": "markdown",
   "metadata": {},
   "source": [
    "Value of the stochastic solution"
   ]
  },
  {
   "cell_type": "code",
   "execution_count": 55,
   "metadata": {},
   "outputs": [
    {
     "data": {
      "text/plain": [
       "-1150.000000000029"
      ]
     },
     "execution_count": 55,
     "metadata": {},
     "output_type": "execute_result"
    }
   ],
   "source": [
    "vss = valStoch - er"
   ]
  },
  {
   "cell_type": "code",
   "execution_count": null,
   "metadata": {},
   "outputs": [],
   "source": []
  }
 ],
 "metadata": {
  "anaconda-cloud": {},
  "kernelspec": {
   "display_name": "Julia 1.10.5",
   "language": "julia",
   "name": "julia-1.10"
  },
  "language_info": {
   "file_extension": ".jl",
   "mimetype": "application/julia",
   "name": "julia",
   "version": "1.10.5"
  }
 },
 "nbformat": 4,
 "nbformat_minor": 1
}
