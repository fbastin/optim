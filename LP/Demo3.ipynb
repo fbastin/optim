{
 "cells": [
  {
   "cell_type": "markdown",
   "metadata": {},
   "source": [
    "## Exercice 1\n",
    "Considérons le problème de programmation linéaire suivant\n",
    "\n",
    "\\begin{align*}\n",
    "\\max_x\\ & 1000 x_1 + 1200 x_2 \\\\\n",
    "\\text{t.q. } & 8x_1 + 4x_2 \\leq 160 \\\\\n",
    "& 4x_1 + 6x_2 \\leq 120 \\\\\n",
    "& x_1 \\leq 34 \\\\\n",
    "& x_2 \\leq 14 \\\\\n",
    "& x_1, x_2 \\geq 0.\n",
    "\\end{align*}"
   ]
  },
  {
   "cell_type": "code",
   "execution_count": null,
   "metadata": {},
   "outputs": [],
   "source": [
    "using JuMP, HiGHS"
   ]
  },
  {
   "cell_type": "code",
   "execution_count": null,
   "metadata": {},
   "outputs": [],
   "source": [
    "mo = Model(HiGHS.Optimizer)\n",
    "@variable(mo, 0<=x[1:2])\n",
    "@constraint(mo, c1, 8*x[1] + 4*x[2] <= 160)\n",
    "@constraint(mo, c2, 4*x[1]+6*x[2]<=120)\n",
    "@constraint(mo, c3, x[1]<=34)\n",
    "@constraint(mo, c4, x[2]<= 14)\n",
    "@objective(mo, Max, 1000*x[1]+1200*x[2])\n",
    "println(mo)"
   ]
  },
  {
   "cell_type": "code",
   "execution_count": null,
   "metadata": {},
   "outputs": [],
   "source": [
    "optimize!(mo)"
   ]
  },
  {
   "cell_type": "code",
   "execution_count": null,
   "metadata": {},
   "outputs": [],
   "source": [
    "value.(x)"
   ]
  },
  {
   "cell_type": "code",
   "execution_count": null,
   "metadata": {},
   "outputs": [],
   "source": [
    "objective_value(mo)"
   ]
  },
  {
   "cell_type": "markdown",
   "metadata": {},
   "source": [
    "**(a)** Résoudre le problème avec la méthode graphique."
   ]
  },
  {
   "cell_type": "code",
   "execution_count": null,
   "metadata": {},
   "outputs": [],
   "source": [
    "using Plots"
   ]
  },
  {
   "cell_type": "code",
   "execution_count": null,
   "metadata": {},
   "outputs": [],
   "source": [
    "plot(t -> (160-8*t)/4, 0, 160/8, fill = (0, 0.2, :blue), color = :blue, label = \"Première contrainte\")\n",
    "plot!(t->(120-4*t)/6, 0, 120/4, fill = (0, 0.2, :red), color = :red, label = \"Deuxième contrainte\")\n",
    "plot!(t->min((120-4*t)/6, (160-8*t)/4, 14), 0, 160/8,\n",
    "    fill = (0, 0.5, :purple), color = :purple, label = \"Région réalisable\")\n",
    "vline!([0, 34], color = :black, label = \"\")\n",
    "hline!([0, 14], color = :black, label = \"\")\n",
    "plot!(ylims = (-0.5, 15))\n",
    "plot!(t -> (27000 - 1000*t)/1200, color = :black, label = \"Objectif = 27k\", linestyle = :dash)\n",
    "scatter!([15], [10], label = \"x*\", color = :black, markersize = 10)\n",
    "plot!(title = \"Représentation graphique\")"
   ]
  },
  {
   "cell_type": "markdown",
   "metadata": {},
   "source": [
    "**(b)** Déterminez les variables de base associées à chaque point extrème, en associant au besoin les variables d'écart ou de surplus."
   ]
  },
  {
   "cell_type": "markdown",
   "metadata": {},
   "source": [
    "**(c)** Résoudre le problème avec l'algorithme du simplexe (forme tableau)."
   ]
  },
  {
   "cell_type": "markdown",
   "metadata": {},
   "source": [
    "Nous mettons tout d'abord le programme sous forme standard.\n",
    "\n",
    "\\begin{align*}\n",
    "- \\min_x\\ & -1000 x_1 - 1200 x_2 \\\\\n",
    "\\text{t.q. } & 8x_1 + 4x_2 + s_1 = 160 \\\\\n",
    "& 4x_1 + 6x_2 + s_2 = 120 \\\\\n",
    "& x_1 + s_3 = 34 \\\\\n",
    "& x_2 + s_4 = 14 \\\\\n",
    "& x_1, x_2, s_1,s_2,s_3,s_4 \\geq 0.\n",
    "\\end{align*}"
   ]
  },
  {
   "cell_type": "markdown",
   "metadata": {},
   "source": [
    "Ceci donne comme premier tableau du simplexe:"
   ]
  },
  {
   "cell_type": "markdown",
   "metadata": {},
   "source": [
    "\\begin{align*}\n",
    "\\begin{array}{c|cccccc|c}\n",
    "& x_1 & x_2 & s_1 & s_2 & s_3 & s_4 & \\text{T.D.}\\\\\n",
    "\\hline\n",
    "s_1 & 8 & 4 & 1 & 0 & 0 & 0 & 160 \\\\\n",
    "s_2 & 4 & 6 & 0 & 1 & 0 & 0 & 120 \\\\\n",
    "s_3 & 1 & 0 & 0 & 0 & 1 & 0 & 34 \\\\\n",
    "s_4 & 0 & \\color{red}1 & 0 & 0 & 0 & 1 & 14 \\\\\n",
    "\\hline\n",
    "-z  & -1000 & -1200 & 0 & 0 & 0 & 0 & 0\\\\\n",
    "\\end{array}\n",
    "\\end{align*}"
   ]
  },
  {
   "cell_type": "markdown",
   "metadata": {},
   "source": [
    "$x_2$ entre et $s_4$ sort."
   ]
  },
  {
   "cell_type": "markdown",
   "metadata": {},
   "source": [
    "\\begin{align*}\n",
    "\\begin{array}{c|cccccc|c}\n",
    "& x_1 & x_2 & s_1 & s_2 & s_3 & s_4 & \\text{T.D.}\\\\\n",
    "\\hline\n",
    "s_1 & 8 & 0 & 1 & 0 & 0 & -4 & 104 \\\\\n",
    "s_2 & \\color{red}4 & 0 & 0 & 1 & 0 & -6 & 36 \\\\\n",
    "s_3 & 1 & 0 & 0 & 0 & 1 & 0 & 34 \\\\\n",
    "x_2 & 0 & 1 & 0 & 0 & 0 & 1 & 14 \\\\\n",
    "\\hline\n",
    "-z  & -1\\,000 & 0 & 0 & 0 & 0 & 1\\,200 & 16\\,800\\\\\n",
    "\\end{array}\n",
    "\\end{align*}"
   ]
  },
  {
   "cell_type": "markdown",
   "metadata": {},
   "source": [
    "$x_1$ entre et $s_2$ sort."
   ]
  },
  {
   "cell_type": "markdown",
   "metadata": {},
   "source": [
    "\\begin{align*}\n",
    "\\begin{array}{c|cccccc|c}\n",
    "& x_1 & x_2 & s_1 & s_2 & s_3 & s_4 & \\text{T.D.}\\\\\n",
    "\\hline\n",
    "s_1 & 0 & 0 & 1 & -2 & 0 & \\color{red}8 & 32 \\\\\n",
    "x_1 & 1 & 0 & 0 & 1/4 & 0 & -3/2 & 9 \\\\\n",
    "s_3 & 0 & 0 & 0 & -1/4 & 1 & 3/2 & 25 \\\\\n",
    "x_2 & 0 & 1 & 0 & 0 & 0 & 1 & 14 \\\\\n",
    "\\hline\n",
    "-z  & 0 & 0 & 0 & 250 & 0 & -300 & 25\\,800\\\\\n",
    "\\end{array}\n",
    "\\end{align*}"
   ]
  },
  {
   "cell_type": "markdown",
   "metadata": {},
   "source": [
    "$s_4$ entre et $s_1$ sort."
   ]
  },
  {
   "cell_type": "markdown",
   "metadata": {},
   "source": [
    "\\begin{align*}\n",
    "\\begin{array}{c|cccccc|c}\n",
    "& x_1 & x_2 & s_1 & s_2 & s_3 & s_4 & \\text{T.D.}\\\\\n",
    "\\hline\n",
    "s_4 & 0 & 0 & 1/8 & -1/4 & 0 & 1 & 4 \\\\\n",
    "x_1 & 1 & 0 & 3/16 & -1/8 & 0 & 0 & 15 \\\\\n",
    "s_3 & 0 & 0 & -3/16 & 1/8 & 1 & 0 & 19 \\\\\n",
    "x_2 & 0 & 1 & -1/8 & 1/4 & 0 & 0 & 10 \\\\\n",
    "\\hline\n",
    "-z  & 0 & 0 & 75/2 & 175 & 0 & 0 & 27\\,000\\\\\n",
    "\\end{array}\n",
    "\\end{align*}"
   ]
  },
  {
   "cell_type": "markdown",
   "metadata": {},
   "source": [
    "Donc, \n",
    "\\begin{align*}\n",
    "&x_1=15,\\ x_2=10,\\\\\n",
    "&s_1=s_2=0\\\\ \n",
    "&s_3=19,\\ s_4=4 \n",
    "\\end{align*}\n",
    "et la valeur optimale du problème est $z^{\\star}=-27\\,000$."
   ]
  },
  {
   "cell_type": "markdown",
   "metadata": {},
   "source": [
    "**(d)** Quel était le chemin pris par l'algorithme du simplexe?"
   ]
  },
  {
   "cell_type": "markdown",
   "metadata": {},
   "source": [
    "Considérons tout d'abord l'implémentation en Julia du pivot."
   ]
  },
  {
   "cell_type": "code",
   "execution_count": null,
   "metadata": {},
   "outputs": [],
   "source": [
    "function pivot!(M::Matrix, i::Int, j::Int)\n",
    "    m, n = size(M)\n",
    "    @assert M[i, j] != 0\n",
    "    M[i, :] = M[i, :]/M[i, j]\n",
    "    for k in setdiff(1:m, i)\n",
    "        M[k, :] -= M[k, j] * M[i, :]\n",
    "    end\n",
    "    return M\n",
    "end"
   ]
  },
  {
   "cell_type": "markdown",
   "metadata": {},
   "source": [
    "Nous pouvons a présent reproduire aisément les étapes du simplexe."
   ]
  },
  {
   "cell_type": "code",
   "execution_count": null,
   "metadata": {},
   "outputs": [],
   "source": [
    "M = [8//1 4 1 0 0 0 160; \n",
    "    4 6 0 1 0 0 120;\n",
    "    1 0 0 0 1 0 34;\n",
    "    0 1 0 0 0 1 14;\n",
    "    -1000 -1200 0 0 0 0 0;\n",
    "]"
   ]
  },
  {
   "cell_type": "code",
   "execution_count": null,
   "metadata": {},
   "outputs": [],
   "source": [
    "basis = [3,4,5,6]\n",
    "entering, leaving = (2, 4)\n",
    "basis[leaving] = entering\n",
    "pivot!(M, leaving, entering)"
   ]
  },
  {
   "cell_type": "code",
   "execution_count": null,
   "metadata": {},
   "outputs": [],
   "source": [
    "entering, leaving = (1, 2)\n",
    "basis[leaving] = entering\n",
    "pivot!(M, leaving, entering)"
   ]
  },
  {
   "cell_type": "code",
   "execution_count": null,
   "metadata": {},
   "outputs": [],
   "source": [
    "entering, leaving = (6, 1)\n",
    "basis[leaving] = entering\n",
    "pivot!(M, leaving, entering)"
   ]
  },
  {
   "cell_type": "code",
   "execution_count": null,
   "metadata": {},
   "outputs": [],
   "source": [
    "sol = zeros(Rational{Int}, 6)\n",
    "sol[basis] = M[1:end-1, end]\n",
    "sol"
   ]
  },
  {
   "cell_type": "markdown",
   "metadata": {},
   "source": [
    "## Exercice 2\n",
    "Déterminer toutes les solutions de base réalisables pour le système\n",
    "\n",
    "\\begin{align*}\n",
    "2x_1 + 6x_2 + x_3 + x_4 &= 3 \\\\\n",
    "6x_1 + 4x_2 + 3x_3 + 6x_4 &= 2 \\\\\n",
    "x_j \\geq 0,\\ j = 1,2,3,4. &\n",
    "\\end{align*}"
   ]
  },
  {
   "cell_type": "markdown",
   "metadata": {},
   "source": [
    "On commence à énumérer toutes les combinaisons possibles. Soient,\n",
    "\\begin{align*}\n",
    "A=\n",
    "\\begin{pmatrix}\n",
    "2 & 6 & 1 & 1 \\\\\n",
    "6 & 4 & 3 & 6\n",
    "\\end{pmatrix},\n",
    "\\qquad\n",
    "b = \n",
    "\\begin{pmatrix}\n",
    "3\\\\\n",
    "2\n",
    "\\end{pmatrix}.\n",
    "\\end{align*}"
   ]
  },
  {
   "cell_type": "markdown",
   "metadata": {},
   "source": [
    "\\begin{align*}\n",
    "\\begin{array}{ccc}\n",
    "%B_1\n",
    "\\begin{aligned}\n",
    "B_1 = \n",
    "\\begin{pmatrix}\n",
    "2 & 6 \\\\\n",
    "6 & 4\n",
    "\\end{pmatrix},\n",
    "\\end{aligned}\n",
    "& \\text{Rang} \\left(B_1 \\right) = 2, &\n",
    "B_1^{-1} b =\n",
    "\\begin{pmatrix}\n",
    "0\\\\\n",
    "1/2\n",
    "\\end{pmatrix}\n",
    "=\n",
    "\\begin{pmatrix}\n",
    "x_1\\\\\n",
    "x_2\n",
    "\\end{pmatrix}\\\\\n",
    "%B_2\n",
    "\\begin{aligned}\n",
    "B_2 = \n",
    "\\begin{pmatrix}\n",
    "2 & 1 \\\\\n",
    "6 & 3\n",
    "\\end{pmatrix},\n",
    "\\end{aligned}\n",
    "& \\text{Rang} \\left(B_2 \\right) = 1, &\n",
    "B_2 \\text{ non-inversible}\n",
    "\\\\\n",
    "%B_3\n",
    "\\begin{aligned}\n",
    "B_3 = \n",
    "\\begin{pmatrix}\n",
    "2 & 1 \\\\\n",
    "6 & 6\n",
    "\\end{pmatrix},\n",
    "\\end{aligned}\n",
    "& \\text{Rang} \\left(B_3 \\right) = 2, &\n",
    "B_3^{-1} b =\n",
    "\\begin{pmatrix}\n",
    "16/6\\\\\n",
    "-7/3\n",
    "\\end{pmatrix}\n",
    "=\n",
    "\\begin{pmatrix}\n",
    "x_1\\\\\n",
    "x_4\n",
    "\\end{pmatrix}\\\\\n",
    "%B_4\n",
    "\\begin{aligned}\n",
    "B_4 = \n",
    "\\begin{pmatrix}\n",
    "6 & 1 \\\\\n",
    "4 & 3\n",
    "\\end{pmatrix},\n",
    "\\end{aligned}\n",
    "& \\text{Rang} \\left(B_4 \\right) = 2, &\n",
    "B_4^{-1} b =\n",
    "\\begin{pmatrix}\n",
    "1/2\\\\\n",
    "0\n",
    "\\end{pmatrix}\n",
    "=\n",
    "\\begin{pmatrix}\n",
    "x_2\\\\\n",
    "x_3\n",
    "\\end{pmatrix}\\\\\n",
    "%B_5\n",
    "\\begin{aligned}\n",
    "B_5 = \n",
    "\\begin{pmatrix}\n",
    "6 & 1 \\\\\n",
    "4 & 6\n",
    "\\end{pmatrix},\n",
    "\\end{aligned}\n",
    "& \\text{Rang} \\left(B_5 \\right) = 2, &\n",
    "B_5^{-1} b =\n",
    "\\begin{pmatrix}\n",
    "1/2\\\\\n",
    "0\n",
    "\\end{pmatrix}\n",
    "=\n",
    "\\begin{pmatrix}\n",
    "x_2\\\\\n",
    "x_4\n",
    "\\end{pmatrix}\\\\\n",
    "%B_6\n",
    "\\begin{aligned}\n",
    "B_6 = \n",
    "\\begin{pmatrix}\n",
    "1 & 1 \\\\\n",
    "3 & 6\n",
    "\\end{pmatrix},\n",
    "\\end{aligned}\n",
    "& \\text{Rang} \\left(B_6 \\right) = 2, &\n",
    "B_6^{-1} b =\n",
    "\\begin{pmatrix}\n",
    "16/3\\\\\n",
    "-7/3\n",
    "\\end{pmatrix}\n",
    "=\n",
    "\\begin{pmatrix}\n",
    "x_3\\\\\n",
    "x_4\n",
    "\\end{pmatrix}\\\\\n",
    "\\end{array}\n",
    "\\end{align*}"
   ]
  },
  {
   "cell_type": "markdown",
   "metadata": {},
   "source": [
    "### Solutions de bases\n",
    "$B_1, B_3, B_3, B_4, B_5, B_6 $"
   ]
  },
  {
   "cell_type": "markdown",
   "metadata": {},
   "source": [
    "De plus, les bases réalisables de $A$ sont $B_1$, $B_4$, $B_5$. Les variables de bases associées à chaque base sont en rouge\n",
    "\\begin{align*}\n",
    "\\begin{array}{ccccc}\n",
    "& x_1 & x_2 & x_3 & x_4\\\\  \n",
    "B_1 & \\color{red}0 & \\color{red}{1/2} & 0 & 0\\\\\n",
    "B_4 & 0 & \\color{red}{1/2} & \\color{red}0 & 0\\\\\n",
    "B_5 & 0 &\\color{red}{1/2} & 0 & \\color{red}0\\\\\n",
    "\\end{array}\n",
    "\\end{align*}"
   ]
  },
  {
   "cell_type": "markdown",
   "metadata": {},
   "source": [
    "## Exercice 3\n",
    "Considérer le problème de programmation linéaire\n",
    "\n",
    "\\begin{align*}\n",
    "\\min\\ & -x_1 - 2x_2 - 3x_3 + x_4 \\\\\n",
    "\\text{t.q. } & x_1 + 2x_2 + 3x_3 = 15 \\\\\n",
    "& 2x_1 + x_2 + 5x_3 = 20 \\\\\n",
    "& x_1 + 2x_2 + x_3 + x_4 = 10 \\\\\n",
    "& x_j \\geq 0,\\ j = 1,2,3,4.\n",
    "\\end{align*}\n",
    "\n",
    "À une certaine itération du simplexe, l'inverse de la base est\n",
    "\n",
    "\\begin{pmatrix}\n",
    " \\frac{5}{7} & -\\frac{3}{7} & 0 \\\\\n",
    "-\\frac{1}{7} &  \\frac{2}{7} & 0 \\\\\n",
    "-\\frac{9}{7} &  \\frac{4}{7} & 1\n",
    "\\end{pmatrix}\n",
    "\n",
    "**(a)** Poursuivre la résolution de ce problème après avoir identifié le tableau du simplexe associé à cette base."
   ]
  },
  {
   "cell_type": "markdown",
   "metadata": {},
   "source": [
    "Soient \n",
    "\\begin{align*}\n",
    "A =\n",
    "\\begin{pmatrix}\n",
    "1 & 2 & 3 & 0 \\\\\n",
    "2 & 1 & 5 & 0 \\\\\n",
    "1 & 2 & 1 & 1\n",
    "\\end{pmatrix}, \n",
    "\\quad\n",
    "B^{-1} =\n",
    "\\begin{pmatrix}\n",
    " \\frac{5}{7} & -\\frac{3}{7} & 0 \\\\\n",
    "-\\frac{1}{7} &  \\frac{2}{7} & 0 \\\\\n",
    "-\\frac{9}{7} &  \\frac{4}{7} & 1\n",
    "\\end{pmatrix}\n",
    "\\quad \\text{et} \\quad\n",
    "b =\n",
    "\\begin{pmatrix}\n",
    " 15 \\\\\n",
    " 20 \\\\\n",
    " 10\n",
    "\\end{pmatrix}\n",
    "\\end{align*}"
   ]
  },
  {
   "cell_type": "markdown",
   "metadata": {},
   "source": [
    "On calcule \n",
    "\\begin{align*}\n",
    "B^{-1}  A &= \n",
    "\\begin{pmatrix}\n",
    " \\frac{5}{7} & -\\frac{3}{7} & 0 \\\\\n",
    "-\\frac{1}{7} &  \\frac{2}{7} & 0 \\\\\n",
    "-\\frac{9}{7} &  \\frac{4}{7} & 1\n",
    "\\end{pmatrix}\n",
    "\\begin{pmatrix}\n",
    "1 & 2 & 3 & 0 \\\\\n",
    "2 & 1 & 5 & 0 \\\\\n",
    "1 & 2 & 1 & 1\n",
    "\\end{pmatrix}\n",
    "=\n",
    "\\begin{pmatrix}\n",
    "-\\frac{1}{7} & 1 & 0 & 0\\\\\n",
    "\\frac{3}{7} & 0 & 1 & 0\\\\\n",
    "\\frac{6}{7} & 0 & 0 & 1\n",
    "\\end{pmatrix}\\\\[10pt]\n",
    "B^{-1}  b &= \n",
    "\\begin{pmatrix}\n",
    " \\frac{5}{7} & -\\frac{3}{7} & 0 \\\\\n",
    "-\\frac{1}{7} &  \\frac{2}{7} & 0 \\\\\n",
    "-\\frac{9}{7} &  \\frac{4}{7} & 1\n",
    "\\end{pmatrix}\n",
    "\\begin{pmatrix}\n",
    " 15 \\\\\n",
    " 20 \\\\\n",
    " 10\n",
    "\\end{pmatrix}\n",
    "=\n",
    "\\begin{pmatrix}\n",
    "\\frac{15}{7} \\\\\n",
    "\\frac{25}{7} \\\\\n",
    "\\frac{15}{7} \n",
    "\\end{pmatrix}\n",
    "\\end{align*}"
   ]
  },
  {
   "cell_type": "markdown",
   "metadata": {},
   "source": [
    "Dès lors, les variables de base sont $x_2$, $x_3$, $x_4$, et la solution de base est $(0, 15/7, 25/7 15/7)$. "
   ]
  },
  {
   "cell_type": "markdown",
   "metadata": {},
   "source": [
    "Le tableau du simplexe correspondant est \n",
    "\\begin{align*}\n",
    "\\begin{array}{c|cccc|c}\n",
    "& x_1 & x_2 & x_3 & x_4 & \\text{T.D.}\\\\\n",
    "\\hline\n",
    "x_2 & -\\frac{1}{7} & 1 & 0 & 0 & \\frac{15}{7} \\\\\n",
    "x_3 & \\frac{3}{7} & 0 & 1 & 0 & \\frac{25}{7} \\\\\n",
    "x_4 & \\frac{6}{7} & 0 & 0 & 1 & \\frac{15}{7} \\\\\n",
    "\\hline\n",
    "-z & -1 & -2 & -3 & 1 & 0\n",
    "\\end{array}\n",
    "\\end{align*}"
   ]
  },
  {
   "cell_type": "markdown",
   "metadata": {},
   "source": [
    "Il reste cependant à annuler les coûts réduits associés dans ce tableau, en ajoutant à la dernière ligne une combinaison linéaire appropriée des lignes correspondantes aux contraintes linéaires du programme."
   ]
  },
  {
   "cell_type": "markdown",
   "metadata": {},
   "source": [
    "Nous obtenons\n",
    "\\begin{align*}\n",
    "\\begin{array}{c|cccc|c}\n",
    "& x_1 & x_2 & x_3 & x_4 & \\text{T.D.}\\\\\n",
    "\\hline\n",
    "x_2 & -\\frac{1}{7} & 1 & 0 & 0 & \\frac{15}{7} \\\\\n",
    "x_3 & \\frac{3}{7} & 0 & 1 & 0 & \\frac{25}{7} \\\\\n",
    "x_4 & \\color{red}{\\frac{6}{7}} & 0 & 0 & 1 & \\frac{15}{7} \\\\\n",
    "\\hline\n",
    "-z  & -\\frac{6}{7} & 0 & 0 & 0 & \\frac{90}{7}\n",
    "\\end{array}\n",
    "\\end{align*}"
   ]
  },
  {
   "cell_type": "markdown",
   "metadata": {},
   "source": [
    "Faisons une itération du simplexe. \n",
    "\n",
    "$x_1$ entre et $x_4$ sort."
   ]
  },
  {
   "cell_type": "markdown",
   "metadata": {},
   "source": [
    "\\begin{align*}\n",
    "\\begin{array}{c|cccc|c}\n",
    "& x_1 & x_2 & x_3 & x_4 & \\text{T.D.}\\\\\n",
    "\\hline\n",
    "x_2 & 0 & 1 & 0 & \\frac{1}{6} & \\frac{5}{2} \\\\\n",
    "x_3 & 0 & 0 & 1 & -\\frac{1}{2} & \\frac{5}{2} \\\\\n",
    "x_1 & 1 & 0 & 0 & \\frac{7}{6} & \\frac{5}{2} \\\\\n",
    "\\hline\n",
    "-z  & 0 & 0 & 0 & 1 & \\frac{105}{7}\n",
    "\\end{array}\n",
    "\\end{align*}"
   ]
  },
  {
   "cell_type": "markdown",
   "metadata": {},
   "source": [
    "Il n'y a plus de coût réduit négatif, et par conséquent la solution est optimale, avec, \n",
    "\\begin{align*}\n",
    "&x_1=\\frac{5}{2},\\ x_2=\\frac{5}{2},\\\\[8pt]\n",
    "&x_3=\\frac{5}{2},\\ x_4=0.\n",
    "\\end{align*}\n",
    "La valeur optimale du problème est $z^{\\star}=-\\frac{105}{7}$."
   ]
  },
  {
   "cell_type": "markdown",
   "metadata": {},
   "source": [
    "**(b)** Supposons que le terme de droite de la troisième contrainte devienne égal à 8:\n",
    "\n",
    "Le problème devient alors\n",
    "\\begin{align*}\n",
    "\\min\\ & -x_1 - 2x_2 - 3x_3 + x_4 \\\\\n",
    "\\text{t.q. } & x_1 + 2x_2 + 3x_3 = 15 \\\\\n",
    "& 2x_1 + x_2 + 5x_3 = 20 \\\\\n",
    "& x_1 + 2x_2 + x_3 + x_4 = 8 \\\\\n",
    "& x_j \\geq 0,\\ j = 1,2,3,4.\n",
    "\\end{align*}\n",
    "\n",
    "La solution de base optimale obtenue au point précédent demeure-t-elle réalisable?\n",
    "Quelle est la modification de la valeur optimale de la fonction économique?"
   ]
  },
  {
   "cell_type": "markdown",
   "metadata": {},
   "source": [
    "La base optimale trouvée en **(a)** est la suivante\n",
    "\\begin{align*}\n",
    "B^\\star =\n",
    "\\begin{array}{ccc}\n",
    "x_2 & x_3 & x_1\\\\\n",
    "\\left(\n",
    "\\begin{array}{c}\n",
    "2 \\\\\n",
    "1 \\\\\n",
    "2\n",
    "\\end{array}\n",
    "\\right.\n",
    "&\n",
    "\\begin{array}{c}\n",
    "3 \\\\\n",
    "5 \\\\\n",
    "1 \n",
    "\\end{array}\n",
    "&\n",
    "\\left.\n",
    "\\begin{array}{c}\n",
    "1 \\\\\n",
    "2 \\\\\n",
    "1 \n",
    "\\end{array}\n",
    "\\right)\n",
    "\\end{array}\n",
    "\\end{align*}"
   ]
  },
  {
   "cell_type": "markdown",
   "metadata": {},
   "source": [
    "La base optimale reste réalisable si $x_B = {B^{\\star}}^{-1} b \\ge 0$."
   ]
  },
  {
   "cell_type": "markdown",
   "metadata": {},
   "source": [
    "On calcule\n",
    "\n",
    "\\begin{align*}\n",
    "{B^{\\star}}^{-1} =\n",
    "\\begin{pmatrix}\n",
    "\\frac{1}{2} & -\\frac{1}{3} & \\frac{1}{6} \\\\\n",
    "\\frac{1}{2} & 0 & -\\frac{1}{2} \\\\\n",
    "-\\frac{3}{2} & \\frac{2}{3} & \\frac{7}{6} \n",
    "\\end{pmatrix}\n",
    "\\end{align*}\n",
    "\n",
    "\\begin{align*}\n",
    "{B^{\\star}}^{-1}b =\n",
    "\\begin{pmatrix}\n",
    "\\frac{13}{6} \\\\\n",
    "\\frac{7}{2} \\\\\n",
    "\\frac{1}{6}\n",
    "\\end{pmatrix}\n",
    "\\end{align*}"
   ]
  },
  {
   "cell_type": "markdown",
   "metadata": {},
   "source": [
    "Et donc ${B^{\\star}}^{-1}$ reste réalisable et l'objectif devient $\\tilde{z} = -15$."
   ]
  },
  {
   "cell_type": "markdown",
   "metadata": {},
   "source": [
    "## Exercice 4\n",
    "Considérer le problème de programmation linéaire suivant:\n",
    "\\begin{align*}\n",
    "\\min\\ & x_1 + x_2 - 4x_3 \\\\\n",
    "\\text{t.q. } & x_1 + x_2 + 2x_3 \\leq 9 \\\\\n",
    "& x_1 + x_2 - x_3 \\leq 2 \\\\\n",
    "& -x_1 + x_2 + x_3 \\leq 4 \\\\\n",
    "& x_j \\geq 0, j = 1,2,3.\n",
    "\\end{align*}\n",
    "Utilisons les variables d'écart $x_4$, $x_5$, $x_6$ pour transformer le problème sous forme standard.\n",
    "À une itération du simplexe, nous retrouvons le tableau suivant\n",
    "\n",
    "\\begin{align*}\n",
    "\\begin{array}{c|cccccc|c}\n",
    "& x_1 & x_2 & x_3 & x_4 & x_5 & x_6 & b \\\\\n",
    "\\hline\n",
    "x_1 & 1 & -\\frac{1}{3} & 0 & \\frac{1}{3} & 0 & -\\frac{2}{3} & \\frac{1}{3} \\\\\n",
    "x_5 & 0 & a & 0 & 0 & 1 & 1 & d \\\\\n",
    "x_3 & 0 & \\frac{2}{3} & 1 & \\frac{1}{3} & 0 & \\frac{1}{3} & \\frac{13}{3} \\\\\n",
    "\\hline\n",
    "-z & 0 & b & 0 & c & 0 & 2 & e \\\\\n",
    "\\end{array}\n",
    "\\end{align*}\n",
    "\n",
    "**(a)** Spécifier l'inverse de la base associée à ce tableau du simplexe."
   ]
  },
  {
   "cell_type": "markdown",
   "metadata": {},
   "source": [
    "$B^{-1}$ se lit directement dans le tableau. Les colonnes de $B^{-1}$ sont celles associées aux variables d'écart $x_4$, $x_5$  et $x_6$."
   ]
  },
  {
   "cell_type": "markdown",
   "metadata": {},
   "source": [
    "En effet, si on transforme le simplexe sous forme standard, on a la matrice des contraintes qui s'écrit comme suit"
   ]
  },
  {
   "cell_type": "markdown",
   "metadata": {},
   "source": [
    "\\begin{align*}\n",
    "A=\n",
    "\\begin{pmatrix}\n",
    "1 & 1 & 2 & 1 & 0 & 0\\\\\n",
    "1 & 1 & -1 & 0 & 1 & 0\\\\\n",
    "-1 & 1 & 1 & 0 & 0 & 1\n",
    "\\end{pmatrix}\n",
    "=\n",
    "\\begin{bmatrix}\n",
    "\\tilde{A} & I_3\n",
    "\\end{bmatrix}.\n",
    "\\end{align*}"
   ]
  },
  {
   "cell_type": "markdown",
   "metadata": {},
   "source": [
    "À une itération du simplexe, où la base courante est $B$, on associe un tableau de la forme \n",
    "\n",
    "\\begin{align*}\n",
    "B^{-1} A =\n",
    "\\begin{bmatrix}\n",
    "B^{-1} \\tilde{A} & B^{-1}\n",
    "\\end{bmatrix}.\n",
    "\\end{align*}"
   ]
  },
  {
   "cell_type": "markdown",
   "metadata": {},
   "source": [
    "Donc,\n",
    "\\begin{align*}\n",
    "B^{-1} = \n",
    "\\begin{pmatrix}\n",
    "\\frac{1}{3} & 0 & -\\frac{2}{3} \\\\\n",
    "0 & 1 & 1 \\\\\n",
    "\\frac{1}{3} & 0 & \\frac{1}{3} \n",
    "\\end{pmatrix}\n",
    "\\end{align*}"
   ]
  },
  {
   "cell_type": "markdown",
   "metadata": {},
   "source": [
    "*Remarque :* En général, sans la matrice identité dans $A$, on trouve $B$ en utilisant le fait  que $x_1$, $x_5$, $x_3$ sont des variables de base et alors \n",
    "\\begin{align*}\n",
    "B^{-1} =\n",
    "\\begin{pmatrix}\n",
    "1 & 0 & 2 \\\\\n",
    "1 & 1 & -1\\\\\n",
    "-1 & 0 & 1\n",
    "\\end{pmatrix}^{-1}\n",
    "\\end{align*}"
   ]
  },
  {
   "cell_type": "markdown",
   "metadata": {},
   "source": [
    "**(b)** Déterminer les valeurs de $a$, $b$, $c$, $d$, $e$."
   ]
  },
  {
   "cell_type": "markdown",
   "metadata": {},
   "source": [
    "On calcule\n",
    "\n",
    "\\begin{align*}\n",
    "B^{-1} A =\n",
    "\\begin{pmatrix}\n",
    "1 & -\\frac{1}{3} & 0 & \\frac{1}{3} & 0 & -\\frac{2}{3} \\\\\n",
    "0 & 2 & 0 & 0 & 1 & 1 \\\\\n",
    "0 & \\frac{2}{3} & 1 & \\frac{1}{3} & 0 & \\frac{1}{3} \n",
    "\\end{pmatrix}\n",
    "\\end{align*}\n",
    "\n",
    "\n",
    "\\begin{align*}\n",
    "B^{-1}b=\n",
    "\\begin{pmatrix}\n",
    "\\frac{1}{3} \\\\\n",
    "6\\\\\n",
    "\\frac{13}{3} \n",
    "\\end{pmatrix}\n",
    "\\end{align*}"
   ]
  },
  {
   "cell_type": "markdown",
   "metadata": {},
   "source": [
    "Pour trouver les coûts réduits at la valeur de l'objectif, reprenons le tableau \n",
    "\\begin{align*}\n",
    "\\begin{array}{c|cccccc|c}\n",
    "& x_1 & x_2 & x_3 & x_4 & x_5 & x_6 & \\text{T.D.}\\\\\n",
    "\\hline\n",
    "x_1 & 1 & -\\frac{1}{3} & 0 & \\frac{1}{3} & 0 & -\\frac{2}{3} & \\frac{1}{3} \\\\\n",
    "x_5 & 0 & 2 & 0 & 0 & 1 & 1 & 6\\\\\n",
    "x_3 & 0 & \\frac{2}{3} & 1 & \\frac{1}{3} & 0 & \\frac{1}{3} & \\frac{13}{3} \\\\\n",
    "\\hline\n",
    "-z_0  & 1 & 1 & -4 & 0 & 0 & 0 & 0\\\\\n",
    "\\end{array}\n",
    "\\end{align*}\n",
    "Nous devons annuler les coûts réduits associés aux variables de base ($x_1$, $x_5$, $x_3$), ce qui revient à soustraire de la ligne associée à la fonction objectif une fois la première ligne, et à ajouter 4 fois la dernière ligne, donnant la ligne\n",
    "\\begin{align*}\n",
    "\\begin{array}{c|cccccc|c}\n",
    "& x_1 & x_2 & x_3 & x_4 & x_5 & x_6 & \\text{T.D.}\\\\\n",
    "\\hline\n",
    "-z  & 0 & \\frac{12}{3} & 0 & 1 & 0 & 2 & 17\n",
    "\\end{array}\n",
    "\\end{align*}"
   ]
  },
  {
   "cell_type": "markdown",
   "metadata": {},
   "source": [
    "Ce donne le tableau\n",
    "\\begin{align*}\n",
    "\\begin{array}{c|cccccc|c}\n",
    "& x_1 & x_2 & x_3 & x_4 & x_5 & x_6 & \\text{T.D.}\\\\\n",
    "\\hline\n",
    "x_1 & 1 & -\\frac{1}{3} & 0 & \\frac{1}{3} & 0 & -\\frac{2}{3} & \\frac{1}{3} \\\\\n",
    "x_5 & 0 & 2 & 0 & 0 & 1 & 1 & 6\\\\\n",
    "x_3 & 0 & \\frac{2}{3} & 1 & \\frac{1}{3} & 0 & \\frac{1}{3} & \\frac{13}{3} \\\\\n",
    "\\hline\n",
    "-z  & 0 & 4 & 0 & 1 & 0 & 2 & 17\n",
    "\\end{array}\n",
    "\\end{align*}"
   ]
  },
  {
   "cell_type": "markdown",
   "metadata": {},
   "source": [
    "Nous pouvons aussi vérifier la ligne des coûts réduits avec les opérations du simplexe révisé. Tout d'abord, calculons $\\lambda = c_B^T B^{-1}$:"
   ]
  },
  {
   "cell_type": "code",
   "execution_count": null,
   "metadata": {},
   "outputs": [],
   "source": [
    "λ = [ 1 0 -4]*[1//3 0 -2//3 ; 0 1 1 ; 1//3 0 1//3]"
   ]
  },
  {
   "cell_type": "markdown",
   "metadata": {},
   "source": [
    "Les coûts réduits sont"
   ]
  },
  {
   "cell_type": "code",
   "execution_count": null,
   "metadata": {},
   "outputs": [],
   "source": [
    "A = [ 1 1 2 1 0 0 \n",
    "      1 1 -1 0 1 0 \n",
    "      -1 1 1 0 0 1 ]\n",
    "c = [ 1 1 -4 0 0 0 ]\n",
    "r = c - λ*A"
   ]
  },
  {
   "cell_type": "markdown",
   "metadata": {},
   "source": [
    "La solution étant $x = (1/3, 0, 13/3, 0 6 0)$, la valeur de la fonction obectif est -17."
   ]
  },
  {
   "cell_type": "markdown",
   "metadata": {},
   "source": [
    "Donc, $a=2$, $b=13/3$, $c=1$, $d=6$, $e=17$."
   ]
  },
  {
   "cell_type": "markdown",
   "metadata": {},
   "source": [
    "**(c)** La solution dans ce tableau est-elle optimale? Pourquoi? Si elle n'est pas optimale, poursuivre la résolution du problème pour identifier une solution optimale."
   ]
  },
  {
   "cell_type": "markdown",
   "metadata": {},
   "source": [
    "Les nouveaux coût sont tous positifs, la solution est donc optimale."
   ]
  },
  {
   "cell_type": "markdown",
   "metadata": {},
   "source": [
    "**(d)** Supposons que le vecteur des termes de droite est modifié avec le vecteur suivant $(\\Delta, -\\Delta, \\Delta)^T$.\n",
    "Quelle est la plus grande valeur que peut prendre $\\Delta$ pour que la solution optimale du problème original demeure réalisable pour le nouveau problème ainsi généré, et quelle est la valeur optimale de ce nouveau \n",
    "problème?"
   ]
  },
  {
   "cell_type": "markdown",
   "metadata": {},
   "source": [
    "On note \n",
    "\n",
    "\\begin{align*}\n",
    "\\tilde{b} = b + \n",
    "\\begin{pmatrix}\n",
    "\\Delta\\\\\n",
    "-\\Delta\\\\\n",
    "\\Delta\n",
    "\\end{pmatrix}.\n",
    "\\end{align*}\n",
    "\n",
    "$B$ demeure réalisable si \n",
    "\\begin{align*}\n",
    "& x_B = B^{-1} b \\ge 0\\\\[8pt]\n",
    "\\iff & \n",
    "\\begin{pmatrix}\n",
    "\\frac{1}{3} \\\\\n",
    "6\\\\\n",
    "\\frac{13}{3} \n",
    "\\end{pmatrix}\n",
    "+\n",
    "\\begin{pmatrix}\n",
    "-\\frac{\\Delta}{3} \\\\\n",
    "0\\\\\n",
    "\\frac{2\\, \\Delta}{3}\n",
    "\\end{pmatrix}\n",
    "\\ge 0\\\\[8pt]\n",
    "\\iff &\n",
    "\\Delta \\le 1 \\text{ et } \\Delta \\ge -\\frac{13}{2}.\n",
    "\\end{align*}\n",
    "\n",
    "\n",
    "\n"
   ]
  },
  {
   "cell_type": "markdown",
   "metadata": {},
   "source": [
    "Ainsi, la plus grande valeur est $\\Delta = 1$."
   ]
  },
  {
   "cell_type": "markdown",
   "metadata": {},
   "source": [
    "Donc, \n",
    "\\begin{align*}\n",
    "\\tilde{b} = \n",
    "\\begin{pmatrix}\n",
    "10 \\\\\n",
    "1\\\\\n",
    "5\n",
    "\\end{pmatrix},\n",
    "\\qquad \n",
    "x_B = \n",
    "\\begin{pmatrix}\n",
    "0\\\\\n",
    "6\\\\\n",
    "5\n",
    "\\end{pmatrix}\n",
    "\\quad \\text{et} \\quad \n",
    "\\tilde{z} = -20\n",
    "\\end{align*}"
   ]
  },
  {
   "cell_type": "markdown",
   "metadata": {},
   "source": [
    "## L'algorithme du simplexe en Julia"
   ]
  },
  {
   "cell_type": "code",
   "execution_count": null,
   "metadata": {},
   "outputs": [],
   "source": [
    "function pivot!(M::Matrix, i::Int, j::Int)\n",
    "    m, n = size(M)\n",
    "    @assert M[i, j] != 0\n",
    "    M[i, :] = M[i, :]/M[i, j]\n",
    "    for k in setdiff(1:m, i)\n",
    "        M[k, :] -= M[k, j] * M[i, :]\n",
    "    end\n",
    "    return M\n",
    "end\n",
    "\n",
    "function getReducedCosts(M::Matrix)\n",
    "    m, n = size(M)\n",
    "    return M[end, 1:n-1]\n",
    "end\n",
    "\n",
    "function getxB(M::Matrix)\n",
    "    m, n = size(M)\n",
    "    return M[1:m-1, end]\n",
    "end\n",
    "\n",
    "function enteringVar(M::Matrix)\n",
    "    rc = getReducedCosts(M)\n",
    "    index = argmin(rc)\n",
    "    return rc[index] >= 0 ? -1 : index\n",
    "end\n",
    "\n",
    "function exitingVarIndex(M::Matrix{T}, enteringVar::Int) where T\n",
    "    col = M[1:end-1, enteringVar]\n",
    "    xB = getxB(M)\n",
    "    m, n = size(M)\n",
    "    index = -1\n",
    "    val = T(Inf)\n",
    "    for i in 1:m-1\n",
    "        if (col[i] > 0) && (xB[i]/col[i] < val)\n",
    "            val = xB[i]/col[i]\n",
    "            index = i\n",
    "        end\n",
    "    end\n",
    "    return index\n",
    "end\n",
    "\n",
    "function isOneHot(v::Vector)\n",
    "    n = length(v)\n",
    "    return (sum(iszero, v) == n-1) && (sum(isone, v) == 1)\n",
    "end \n",
    "\n",
    "function isoptimal(M)\n",
    "    return enteringVar(M) == -1\n",
    "end\n",
    "\n",
    "function findInitialBasis!(M::Matrix)\n",
    "    m, n = size(M)\n",
    "    m-=1\n",
    "    n-=1\n",
    "    basis = [-1 for _ in 1:m]\n",
    "    for i in 1:n\n",
    "        if isOneHot(M[1:end-1, i])\n",
    "            index = findfirst(isone, M[:, i])\n",
    "            basis[index] = i\n",
    "        end\n",
    "    end\n",
    "    @assert !any(t-> t == -1, basis) \"problem not caconical\"\n",
    "    for i in 1:m\n",
    "        j = basis[i]\n",
    "        pivot!(M, i, j)\n",
    "    end\n",
    "    return basis\n",
    "end\n",
    "\n",
    "function simplexSolver(A::Matrix{T}, b::Vector, c::Vector; verbose::Bool = false) where T\n",
    "    M = [A b; c' 0]\n",
    "    basis = findInitialBasis!(M)\n",
    "    k = 1\n",
    "    nmax = 1000\n",
    "    while !isoptimal(M) && k < nmax\n",
    "        k+=1\n",
    "        verbose && display(M)\n",
    "        entering = enteringVar(M)\n",
    "        entering == -1 && (println(\"------------\"); return T[-1, -1])\n",
    "        leaving = exitingVarIndex(M, entering)\n",
    "        leaving == -1 && (println(\"------------\"); return T[-1, -1])\n",
    "        verbose && @show (entering, leaving)\n",
    "        basis[leaving] = entering\n",
    "        pivot!(M, leaving, entering)\n",
    "    end\n",
    "    verbose && display(M)\n",
    "    m, n = size(M)\n",
    "    xstar = zeros(T, n - 1)\n",
    "    xstar[basis] = getxB(M)\n",
    "    return xstar\n",
    "end"
   ]
  },
  {
   "cell_type": "code",
   "execution_count": null,
   "metadata": {},
   "outputs": [],
   "source": [
    "A=[8//1 4 1 0 0 0; \n",
    "    4 6 0 1 0 0;\n",
    "    1 0 0 0 1 0;\n",
    "    0 1 0 0 0 1;\n",
    "]\n",
    "c = [-1000, -1200, 0,0,0,0]\n",
    "b=[160, 120,34,14]"
   ]
  },
  {
   "cell_type": "code",
   "execution_count": null,
   "metadata": {},
   "outputs": [],
   "source": [
    "simplexSolver(A, b, c, verbose=true)"
   ]
  },
  {
   "cell_type": "code",
   "execution_count": null,
   "metadata": {},
   "outputs": [],
   "source": []
  }
 ],
 "metadata": {
  "kernelspec": {
   "display_name": "Julia 1.10.5",
   "language": "julia",
   "name": "julia-1.10"
  },
  "language_info": {
   "file_extension": ".jl",
   "mimetype": "application/julia",
   "name": "julia",
   "version": "1.10.5"
  }
 },
 "nbformat": 4,
 "nbformat_minor": 4
}
