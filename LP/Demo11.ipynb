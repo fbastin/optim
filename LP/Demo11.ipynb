{
 "cells": [
  {
   "cell_type": "markdown",
   "metadata": {},
   "source": [
    "# Programmation linéaire en nombres entiers"
   ]
  },
  {
   "cell_type": "code",
   "execution_count": null,
   "metadata": {},
   "outputs": [],
   "source": [
    "using LinearAlgebra\n",
    "using JuMP, HiGHS"
   ]
  },
  {
   "cell_type": "markdown",
   "metadata": {},
   "source": [
    "## Branch & Bound"
   ]
  },
  {
   "cell_type": "markdown",
   "metadata": {},
   "source": [
    "Source: http://web.tecnico.ulisboa.pt/mcasquilho/compute/_linpro/TaylorB_module_c.pdf\n",
    "\n",
    "Le propriétaire d'un atelier d'usinage prévoit de se développer en achetant de nouvelles machines - des presses et des tours. Le propriétaire a estimé que chaque presse achetée augmenterait les bénéfices de \\\\$100 par jour et que chaque tour augmenterait les bénéfices de \\\\$150 par jour. Le nombre de machines que le propriétaire peut acheter est limité par le coût des machines et l'espace au sol disponible dans le magasin. Les prix d'achat des machines et les espaces requis sont présentés ci-dessous."
   ]
  },
  {
   "cell_type": "markdown",
   "metadata": {},
   "source": [
    "| Machine | Espace requis au sol ($pi^2$) | Prix d'achat |\n",
    "| --- | --- | --- |\n",
    "| Presse | 15 | \\$8.000 |\n",
    "| Tour | 30 | \\$4.000 |"
   ]
  },
  {
   "cell_type": "markdown",
   "metadata": {},
   "source": [
    "Le propriétaire dispose d'un budget de \\$40.000 pour l'achat de machines et de 200 pieds carrés d'espace au sol disponible. Le propriétaire veut savoir combien de chaque type de machine acheter pour maximiser l'augmentation quotidienne des bénéfices."
   ]
  },
  {
   "cell_type": "markdown",
   "metadata": {},
   "source": [
    "Travaillons avec la relaxtion linéaire"
   ]
  },
  {
   "cell_type": "code",
   "execution_count": null,
   "metadata": {},
   "outputs": [],
   "source": [
    "m = Model(HiGHS.Optimizer)\n",
    "\n",
    "# Variables\n",
    "@variable(m, x1 >= 0) # nombre de presses\n",
    "@variable(m, x2 >= 0) # nombre de tours\n",
    "\n",
    "# Fonction objectif\n",
    "@objective(m, Max, 100x1 + 150x2)  # profit supplémentaire\n",
    "\n",
    "# Contraintes\n",
    "@constraint(m, constraint1, 8x1 +  4x2  <= 40)     # budget (en milliers de dollars)\n",
    "@constraint(m, constraint2,  15x1 + 30x2  <= 200)  # contrainte d'espace\n",
    "\n",
    "# Modèle complet\n",
    "print(m)\n",
    "\n",
    "# Résoudre le problème\n",
    "status = optimize!(m)"
   ]
  },
  {
   "cell_type": "code",
   "execution_count": null,
   "metadata": {},
   "outputs": [],
   "source": [
    "obj = []"
   ]
  },
  {
   "cell_type": "code",
   "execution_count": null,
   "metadata": {},
   "outputs": [],
   "source": [
    "function sol_output()\n",
    "    if (termination_status(m) == MOI.OPTIMAL)\n",
    "        println(\"Solution optimale:\")\n",
    "        println(\"x1 = \", value(x1), \" x2 = \", value(x2))\n",
    "        println(\"Valeur optimale = \", objective_value(m))\n",
    "        \n",
    "        # On va enregistrer les valeurs objectifs trouvées.\n",
    "        append!(obj, objective_value(m))\n",
    "    else\n",
    "        println(\"Problème non réalisable\")\n",
    "\n",
    "        append!(obj, Inf)\n",
    "    end\n",
    "end"
   ]
  },
  {
   "cell_type": "code",
   "execution_count": null,
   "metadata": {},
   "outputs": [],
   "source": [
    "sol_output()"
   ]
  },
  {
   "cell_type": "markdown",
   "metadata": {},
   "source": [
    "La solution n'est pas entière. Nous devons donc brancher à partir de celle-ci.\n",
    "\n",
    "Traçons l'arbre d'exploration en commançant par la racine que nous pouvons à présent créer."
   ]
  },
  {
   "cell_type": "code",
   "execution_count": null,
   "metadata": {
    "scrolled": true
   },
   "outputs": [],
   "source": [
    "using Plots\n",
    "using GraphRecipes\n",
    "using AbstractTrees\n",
    "using Printf"
   ]
  },
  {
   "cell_type": "markdown",
   "metadata": {},
   "source": [
    "La fonction suivante permet d'illustrer le branchement à partir d'un noeud. Nous étiquettons les noeuds avec $P$ suivi du numéro du problème, et `father` reprendra le numéro du problème père."
   ]
  },
  {
   "cell_type": "code",
   "execution_count": null,
   "metadata": {},
   "outputs": [],
   "source": [
    "mutable struct bandb\n",
    "    T:: Matrix\n",
    "    labels\n",
    "    colors\n",
    "end\n",
    "\n",
    "function add_problems(T, father::Int, labels, colors)\n",
    "    (m,n) = size(T)\n",
    "    A = zeros(m,2)\n",
    "    T = hcat(T,A)\n",
    "    A = zeros(2,m+2)\n",
    "    T = vcat(T,A)\n",
    "    T[father,n+1]=1\n",
    "    T[father,n+2]=1\n",
    "    label = \"P$(m+1)\\n \"\n",
    "    push!(labels, label)\n",
    "    label = \"P$(m+2)\\n \"\n",
    "    push!(labels, label)\n",
    "    \n",
    "    # Note: nous devrions utiliser edgelabel pour mieux représenter\n",
    "    # le branchements le long des arêtes de l'arbre.\n",
    "    \n",
    "    return T, labels, [colors colorant\"#389826\" colorant\"#389826\"]\n",
    "end\n",
    "\n",
    "\n",
    "function add_problems(tree:: bandb, father::Int)\n",
    "    (m,n) = size(bb.T)\n",
    "    A = zeros(m,2)\n",
    "    bb.T = hcat(bb.T,A)\n",
    "    A = zeros(2,m+2)\n",
    "    bb.T = vcat(bb.T,A)\n",
    "    bb.T[father,n+1]=1\n",
    "    bb.T[father,n+2]=1\n",
    "    label = \"P$(m+1)\\n \"\n",
    "    push!(tree.labels, label)\n",
    "    label = \"P$(m+2)\\n \"\n",
    "    push!(tree.labels, label)\n",
    "\n",
    "    # Note: nous devrions utiliser edgelabel pour mieux représenter\n",
    "    # le branchements le long des arêtes de l'arbre.\n",
    "    \n",
    "    tree.colors = [colors colorant\"#389826\" colorant\"#389826\"]\n",
    "end"
   ]
  },
  {
   "cell_type": "code",
   "execution_count": null,
   "metadata": {},
   "outputs": [],
   "source": [
    "default(size=(600, 600))\n",
    "\n",
    "colors = [colorant\"#389826\"]\n",
    "T = zeros(1,1)\n",
    "labels = [\"P1\\n$(@sprintf(\"%.2f\", obj[1]))\"];"
   ]
  },
  {
   "cell_type": "code",
   "execution_count": null,
   "metadata": {},
   "outputs": [],
   "source": [
    "bb = bandb(zeros(1,1),[\"P1\\n$(@sprintf(\"%.2f\", obj[1]))\"],[colorant\"#389826\"])"
   ]
  },
  {
   "cell_type": "markdown",
   "metadata": {},
   "source": [
    "On va brancher sur la plus grande valeur fractionnaire, ici $x_2$."
   ]
  },
  {
   "cell_type": "code",
   "execution_count": null,
   "metadata": {},
   "outputs": [],
   "source": [
    "add_problems(bb, 1)\n",
    "graphplot(bb.T, method=:tree, root=:top, names = bb.labels, nodeshape=:circle, nodesize=0.1,\n",
    "          curves=false, linewidth=2,  axis_buffer=0.4, font=18)"
   ]
  },
  {
   "cell_type": "code",
   "execution_count": null,
   "metadata": {},
   "outputs": [],
   "source": [
    "labels = bb.labels\n",
    "colors = bb.colors\n",
    "T = bb.T"
   ]
  },
  {
   "cell_type": "code",
   "execution_count": null,
   "metadata": {},
   "outputs": [],
   "source": [
    "#T, labels, colors = add_problems(T, 1, labels, colors)\n",
    "#graphplot(T, method=:tree, root=:top, names = labels, nodeshape=:circle, nodesize=0.1,\n",
    "#          curves=false, linewidth=2,  axis_buffer=0.4, font=18)"
   ]
  },
  {
   "cell_type": "markdown",
   "metadata": {},
   "source": [
    "Nous construisons P2 en ajoutant la contrainte $x_2 \\leq 5$, tandis que P3 sera obtenu en prenant la contrainte $x_2 \\geq 6$."
   ]
  },
  {
   "cell_type": "code",
   "execution_count": null,
   "metadata": {},
   "outputs": [],
   "source": [
    "@constraint(m, x2left, x2 <= 5)\n",
    "\n",
    "# Modèle complet\n",
    "print(m)\n",
    "\n",
    "# Résoudre le problème\n",
    "status = optimize!(m)\n",
    "\n",
    "sol_output()\n",
    "labels[2] = \"P2\\n$(@sprintf(\"%.2f\", obj[2]))\";"
   ]
  },
  {
   "cell_type": "code",
   "execution_count": null,
   "metadata": {},
   "outputs": [],
   "source": [
    "delete(m, x2left)\n",
    "@constraint(m, x2right, x2 >= 6)\n",
    "\n",
    "# Modèle complet\n",
    "print(m)\n",
    "\n",
    "# Résoudre le problème\n",
    "status = optimize!(m)\n",
    "\n",
    "sol_output()\n",
    "labels[3] = \"P3\\n$(@sprintf(\"%.2f\", obj[3]))\";"
   ]
  },
  {
   "cell_type": "markdown",
   "metadata": {},
   "source": [
    "Pour $x_2 \\leq 5$, la borne supérieure sur la fonction objectif est de 1000, mais la solution n'est pas entière.\n",
    "\n",
    "Pour $x_2 \\geq 6$, la borne supérieure sur la fonction objectif est de 1033+1/3, mais la solution n'est pas non plus entière.\n",
    "\n",
    "Nous allons brancher à partir de la plus grande borne supérieure, correspondante au problème P3. Comme la solution optimale du problème relâxé est $x_1 = 4/3$ et $x_2 = 6.0$, nous devons brancher sur $x_1$."
   ]
  },
  {
   "cell_type": "code",
   "execution_count": null,
   "metadata": {},
   "outputs": [],
   "source": [
    "T, labels, colors = add_problems(T, 3, labels, colors)\n",
    "graphplot(T, method=:tree, root=:top, names = labels, nodeshape=:circle, nodesize=0.1,\n",
    "          curves=false, linewidth=2,  axis_buffer=0.4, font=18)"
   ]
  },
  {
   "cell_type": "code",
   "execution_count": null,
   "metadata": {},
   "outputs": [],
   "source": [
    "@constraint(m, x1left, x1 <= 1)\n",
    "\n",
    "# Modèle complet\n",
    "print(m)\n",
    "\n",
    "# Résoudre le problème\n",
    "status = optimize!(m)\n",
    "\n",
    "sol_output()\n",
    "labels[4] = \"P4\\n$(@sprintf(\"%.2f\", obj[4]))\";"
   ]
  },
  {
   "cell_type": "code",
   "execution_count": null,
   "metadata": {},
   "outputs": [],
   "source": [
    "delete(m, x1left)\n",
    "@constraint(m, x1right, x1 >= 2)\n",
    "\n",
    "# Modèle complet\n",
    "print(m)\n",
    "\n",
    "# Résoudre le problème\n",
    "status = optimize!(m)\n",
    "\n",
    "sol_output()\n",
    "labels[5] = \"P5\\n$(@sprintf(\"%.2f\", obj[5]))\";"
   ]
  },
  {
   "cell_type": "markdown",
   "metadata": {},
   "source": [
    "En ajoutant la contrainte $x_1 \\geq 2$, le problème est non réalisable. Nous enregistrons la valeur Inf pour représenter l'infaisabilité.\n",
    "\n",
    "Nous ne pouvons donc plus brancher de ce côté. Avec $x_1 \\leq 1.0$, la solution n'est toujours pas entière. Nous allons brancher sur $x_2$ qui demeure fractionnaire."
   ]
  },
  {
   "cell_type": "code",
   "execution_count": null,
   "metadata": {},
   "outputs": [],
   "source": [
    "colors[5] = colorant\"#CB3C33\";\n",
    "\n",
    "T, labels, colors = add_problems(T, 4, labels, colors)\n",
    "graphplot(T, method=:tree, root=:top, names = labels, nodeshape=:circle, nodesize=0.1,\n",
    "          curves=false, linewidth=2,  axis_buffer=0.4, font=18)"
   ]
  },
  {
   "cell_type": "markdown",
   "metadata": {},
   "source": [
    "Branchons sur $x_2$."
   ]
  },
  {
   "cell_type": "code",
   "execution_count": null,
   "metadata": {},
   "outputs": [],
   "source": [
    "delete(m, x1right)\n",
    "@constraint(m, x1left1, x1 <= 1)\n",
    "@constraint(m, x2left6, x2 <= 6)\n",
    "\n",
    "# Modèle complet\n",
    "print(m)\n",
    "\n",
    "# Résoudre le problème\n",
    "status = optimize!(m)\n",
    "\n",
    "sol_output()\n",
    "labels[6] = \"P6\\n$(@sprintf(\"%.2f\", obj[6]))\";"
   ]
  },
  {
   "cell_type": "markdown",
   "metadata": {},
   "source": [
    "La solution est à présent entière, aussi nous obtenons une borne inférieure sur la valeur optimale, et nous élaguons le noeud comme nous ne pouvons plus brancher dessus.\n",
    "\n",
    "L'autre branche consiste à examiner le cas où $x_2 \\geq 7$."
   ]
  },
  {
   "cell_type": "code",
   "execution_count": null,
   "metadata": {},
   "outputs": [],
   "source": [
    "delete(m, x2left6)\n",
    "@constraint(m, x2right7, x2 >= 7)\n",
    "\n",
    "# Modèle complet\n",
    "print(m)\n",
    "\n",
    "# Résoudre le problème\n",
    "status = optimize!(m)\n",
    "\n",
    "sol_output()\n",
    "labels[7] = \"P5\\n$(@sprintf(\"%.2f\", obj[7]))\";"
   ]
  },
  {
   "cell_type": "markdown",
   "metadata": {},
   "source": [
    "Le problème est non-réalisable. Nous pouvons élaguer le noeud."
   ]
  },
  {
   "cell_type": "code",
   "execution_count": null,
   "metadata": {},
   "outputs": [],
   "source": [
    "graphplot(T, method=:tree, root=:top, names = labels,\n",
    "          nodeshape=:circle, nodesize=0.1, curves=false, linewidth=1,  axis_buffer=0.3, shorten=0.01, font=12)"
   ]
  },
  {
   "cell_type": "markdown",
   "metadata": {},
   "source": [
    "Retournons au noeud non élagué avec $x_2 \\leq 5$. Dans ce cas la borne supérieure sur la fonction objectif est de 1000, qui est la valeur trouvée précédemment avec la solution entière $x_1 = 1$, $x_2 = 6$. Nous ne pouvons donc pas améliorer l'objectif en explorant le cas $x_2 <= 5$ et nous élaguons le noeud correspondant. Comme il n'y a plus de noeud non élagué, nous nous arrêtons avec la solution optimale $x_1 = 1$, $x_2 = 6$."
   ]
  },
  {
   "cell_type": "markdown",
   "metadata": {},
   "source": [
    "## Méthode de coupes"
   ]
  },
  {
   "cell_type": "markdown",
   "metadata": {},
   "source": [
    "### Constuction d'une coupe de Gomory\n",
    "\n",
    "* Étape 1: Arrondir inférieurement les coefficients du terme de gauche de la contrainte, ansi que du terme de droite.\n",
    "* Étape 2: Remplacer le signe d'égalité par une inégalité plus petite que. \n",
    "* Étape 3: Soustraire la contrainte originale à la contrainte obtenue à l'étape 2. "
   ]
  },
  {
   "cell_type": "markdown",
   "metadata": {},
   "source": [
    "Prenons par exemple la contrainte\n",
    "$$\n",
    "2.3 x - .6 y = 3.9\n",
    "$$\n",
    "Les étapes 1 et 2 donnent\n",
    "$$\n",
    "2 x - y \\leq 3\n",
    "$$\n",
    "L'étape 3 mène à la coupe\n",
    "$$\n",
    "-.3x - .4 y \\leq -0.9\n",
    "$$"
   ]
  },
  {
   "cell_type": "markdown",
   "metadata": {},
   "source": [
    "### Exemple 1"
   ]
  },
  {
   "cell_type": "markdown",
   "metadata": {},
   "source": [
    "Considérons le problème\n",
    "\\begin{align*}\n",
    "\\min\\ & -21x_1 - 11x_2 \\\\\n",
    "\\text{sujet à } & 7x_1 + 4x_2 + x_3 = 13 \\\\\n",
    "& x_1 \\geq 0, x_2 \\geq 0, x_3 \\geq 0 \\\\\n",
    "& x_1, x_2, x_3 \\text{ entiers.}\n",
    "\\end{align*}\n",
    "Nous allons tout d'abord le modélier à l'aide de JuMP, puis utiliser la méthode de coupes.\n",
    "\n",
    "Nous reformulons le problème dans la modélisation JuMP en tenant compte de ses caractéristiques."
   ]
  },
  {
   "cell_type": "code",
   "execution_count": null,
   "metadata": {
    "scrolled": true
   },
   "outputs": [],
   "source": [
    "m = Model(HiGHS.Optimizer)\n",
    "\n",
    "# Variables\n",
    "@variable(m, x1 >=0, Int)\n",
    "@variable(m, x2 >=0, Int)\n",
    "\n",
    "# Fonction objectif\n",
    "@objective(m, Max, 21x1 + 11x2)\n",
    "\n",
    "# Contraintes\n",
    "@constraint(m, constraint1, 7x1 +  4x2 <= 13)\n",
    "\n",
    "# Modèle complet\n",
    "print(m)\n",
    "\n",
    "# Résoudre le problème\n",
    "status = optimize!(m)\n",
    "\n",
    "println(\"Optimal solution:\")\n",
    "println(\"x1 = \", value(x1), \" x2 = \", value(x2))"
   ]
  },
  {
   "cell_type": "markdown",
   "metadata": {},
   "source": [
    "Résolvons la relaxation linéaire avec la méthode du simplexe primal.\n",
    "\n",
    "Écrivons le tableau initial\n",
    "$$\n",
    "\\begin{array}{c|ccc|c}\n",
    "    & x_1 & x_2 & x_3 & b \\\\\n",
    "    \\hline\n",
    "    x_3 & 7 & 4 & 1 & 13 \\\\\n",
    "    \\hline\n",
    "    & -21 & -11 & 0 & 0\n",
    "\\end{array}\n",
    "$$\n",
    "Le système est déjà sous forme canonique ($x_3$ peut être vu comme variable d'écart). En choisissant le coût le plus négatif, nous échangeons $x_1$ et $x_3$ pour obtenir le tableau\n",
    "$$\n",
    "\\begin{array}{c|ccc|c}\n",
    "    & x_1 & x_2 & x_3 & b \\\\\n",
    "    \\hline\n",
    "    x_1 & 1 & 4/7 & 1/7 & 13/7 \\\\\n",
    "    \\hline\n",
    "    & 0 & 1 & 3 & -39\n",
    "\\end{array}\n",
    "$$\n",
    "Tous les coûts réduits sont non-négatifs et donc la solution est optimale, mais ne satisfait pas les conditions d'intégralité.\n"
   ]
  },
  {
   "cell_type": "markdown",
   "metadata": {},
   "source": [
    "Nous ajoutons la contrainte\n",
    "$$\n",
    "\\left( \\left\\lfloor \\frac{4}{7} \\right\\rfloor - \\frac{4}{7} \\right) x_2 + \\left( \\left\\lfloor \\frac{1}{7} \\right\\rfloor - \\frac{1}{7} \\right) x_3 \\leq \\left\\lfloor \\frac{13}{7} \\right\\rfloor - \\frac{13}{7},\n",
    "$$\n",
    "ou de manière équivalente\n",
    "$$\n",
    " - \\frac{4}{7} x_2 - \\frac{1}{7} x_3 + x_4 = -\\frac{6}{7},\n",
    "$$\n",
    "avec $x_4 \\geq 0$, $x_4$ entier.\n",
    "Le problème devient\n",
    "\\begin{align*}\n",
    "\\min\\ & -21x_1 - 11x_2 \\\\\n",
    "\\text{sujet à } & 7x_1 + 4x_2 + x_3 = 13 \\\\\n",
    "& - \\frac{4}{7} x_2 - \\frac{1}{7} x_3 + x_4 = -\\frac{6}{7} \\\\\n",
    "& x_1 \\geq 0, x_2 \\geq 0, x_3 \\geq 0, x_4 \\geq 0 \\\\\n",
    "& x_1, x_2, x_3, x_4 \\text{ entiers.}\n",
    "\\end{align*}\n",
    "Nous pardons du tableau précédent pour obtenir le tableau du simplexe du problème relaxé linéairement\n",
    "$$\n",
    "\\begin{array}{c|cccc|c}\n",
    "    & x_1 & x_2 & x_3 & x_4 & b \\\\\n",
    "    \\hline\n",
    "    x_1 & 1 & 4/7 & 1/7 & 0 & 13/7 \\\\\n",
    "    x_4 & 0 & -4/7 & -1/7 & 1 & -6/7 \\\\\n",
    "    \\hline\n",
    "    & 0 & 1 & 3 & 0 & 39\n",
    "\\end{array}\n",
    "$$\n",
    "Les conditions d'optimalité sont satisfaites, mais pas de faisabilité, aussi nous exécutons une itération du simplexe dual pour rétablir la faisabilité."
   ]
  },
  {
   "cell_type": "markdown",
   "metadata": {},
   "source": [
    "Nous échangeons $x_2$ et $x_4$ pour obtenir\n",
    "$$\n",
    "\\begin{array}{c|cccc|c}\n",
    "    & x_1 & x_2 & x_3 & x_4 & b \\\\\n",
    "    \\hline\n",
    "    x_1 & 1 & 0 & 0 & 1 & 1 \\\\\n",
    "    x_2 & 0 & 1 & 1/4 & -7/4 & 3/2 \\\\\n",
    "    \\hline\n",
    "    & 0 & 0 & 11/4 & 7/4 & 37.5\n",
    "\\end{array}\n",
    "$$\n",
    "La solution est à présent réalisable et optimale, mais $x_2$ est à présent fractionnaire, et nous allons construire une nouvelle coupe, en considérant l'inégalité\n",
    "$$\n",
    "\\left( \\left\\lfloor \\frac{1}{4} \\right\\rfloor - \\frac{1}{4} \\right) x_3 + \\left( \\left\\lfloor \\frac{-7}{4} \\right\\rfloor + \\frac{7}{4} \\right) x_4 \\leq \\left\\lfloor \\frac{3}{2} \\right\\rfloor - \\frac{3}{2},\n",
    "$$\n",
    "ou de manière équivalente\n",
    "$$\n",
    " - \\frac{1}{4} x_3 - \\frac{1}{4} x_4 + x_5 = -\\frac{1}{2},\n",
    "$$\n",
    "avec $x_5 \\geq 0$, $x_5$ entier.\n",
    "Nous ajoutons cette contrainte et à nouveau effectuons une itération du simplexe dual pour rétablir la faisabilité. Nous partons du tableau\n",
    "$$\n",
    "\\begin{array}{c|ccccc|c}\n",
    "    & x_1 & x_2 & x_3 & x_4 & x_5 & b \\\\\n",
    "    \\hline\n",
    "    x_1 & 1 & 0 & 0 & 1 & 0 & 1 \\\\\n",
    "    x_2 & 0 & 1 & 1/4 & -7/4 & 0 & 3/2 \\\\\n",
    "    x_5 & 0 & 0 & -1/4 & -1/4 & 1 & -1/2 \\\\\n",
    "    \\hline\n",
    "    & 0 & 0 & 11/4 & 7/4 & 0 & 37.5\n",
    "\\end{array}\n",
    "$$\n"
   ]
  },
  {
   "cell_type": "markdown",
   "metadata": {},
   "source": [
    "Nous échangeona $x_4$ et $x_5$ pour aboutir au tableau\n",
    "$$\n",
    "\\begin{array}{c|ccccc|c}\n",
    "    & x_1 & x_2 & x_3 & x_4 & x_5 & b \\\\\n",
    "    \\hline\n",
    "    x_1 & 1 & 0 & -1 & 0 & 4 & -1 \\\\\n",
    "    x_2 & 0 & 1 & 2 & 0 & -7 & 5 \\\\\n",
    "    x_5 & 0 & 0 & 1 & 1 & -4 & 2 \\\\\n",
    "    \\hline\n",
    "    & 0 & 0 & 1 & 0 & 7 & 34\n",
    "\\end{array}\n",
    "$$\n",
    "Nous voyons que la solution est entière, mais toujours non réalisable, et nous avons une itération duale supplémentaire à effectuer.\n",
    "$$\n",
    "\\begin{array}{c|ccccc|c}\n",
    "    & x_1 & x_2 & x_3 & x_4 & x_5 & b \\\\\n",
    "    \\hline\n",
    "    x_3 & -1 & 0 & 1 & 0 & -4 & 1 \\\\\n",
    "    x_2 & 2 & 1 & 0 & 0 & 1 & 3 \\\\\n",
    "    x_5 & 1 & 0 & 0 & 1 & 0 & 1 \\\\\n",
    "    \\hline\n",
    "    & 1 & 0 & 0 & 0 & 11 & 33\n",
    "\\end{array}\n",
    "$$\n",
    "La solution est à présent réalisable, entière, et les conditions d'optimalité remplies. Nous avons finalement convergé!\n",
    "\n",
    "La solution optimale est donc $x_1 = 0$, $x_2 = 3$, pour une valeur optimale de -33, ce qui est conforme à la solution fournie par Gurobi."
   ]
  },
  {
   "cell_type": "markdown",
   "metadata": {},
   "source": [
    "### Exemple 2"
   ]
  },
  {
   "cell_type": "markdown",
   "metadata": {},
   "source": [
    "Adapté de https://people.maths.bris.ac.uk/~mayt/MATH32500/2007/code/IP/gomoryExample.pdf\n",
    "\n",
    "Considérons le problème\n",
    "\\begin{align*}\n",
    "\\min\\ & -3x_1 - 4x_2 \\\\\n",
    "\\text{t.q. } & 3x_1 - x_2 \\leq 12 \\\\\n",
    "& 3x_1 + 11x_2 \\leq 66 \\\\\n",
    "& x \\in \\mathbb{N}^2.\n",
    "\\end{align*}\n",
    "\n",
    "Nous transformons les contraintes en contraintes d'égalité avec l'ajout des variables d'écart $s_1$ et $s_2$:\n",
    "\\begin{align*}\n",
    "\\min\\ & -3x_1 - 4x_2 \\\\\n",
    "\\text{t.q. } & 3x_1 - x_2 + s_1 = 12 \\\\\n",
    "& 3x_1 + 11x_2 + s_2 = 66 \\\\\n",
    "& x \\in \\mathbb{N}^2 \\\\\n",
    "& s \\geq 0.\n",
    "\\end{align*}\n",
    "\n",
    "La relaxation linéaire donne\n",
    "\\begin{align*}\n",
    "\\min\\ & -3x_1 - 4x_2 \\\\\n",
    "\\text{t.q. } & 3x_1 - x_2 + s_1 = 12 \\\\\n",
    "& 3x_1 + 11x_2 + s_2 = 66 \\\\\n",
    "& x \\geq 0 \\\\\n",
    "& s \\geq 0.\n",
    "\\end{align*}\n",
    "\n",
    "Nous obtenons le tableau du simplexe\n",
    "$$\n",
    "\\begin{array}{c|cccc|c}\n",
    "    & x_1 & x_2 & s_1 & s_2 & b \\\\\n",
    "    \\hline\n",
    "    s_1 & 3 & -1 & 1 & 0 & 12 \\\\\n",
    "    s_2 & 3 & 11 & 0 & 1 & 66 \\\\\n",
    "    \\hline\n",
    "    & -3 & -4 & 0 & 0 & 0\n",
    "\\end{array}\n",
    "$$\n",
    "En vue de simplifier les calculs, nous échangeons $x_1$ et $s_1$. Nous obtenons le tableau du simplexe\n",
    "$$\n",
    "\\begin{array}{c|cccc|c}\n",
    "    & x_1 & x_2 & s_1 & s_2 & b \\\\\n",
    "    \\hline\n",
    "    x_1 & 1 & -1/3 & 1/3 & 0 & 4 \\\\\n",
    "    s_2 & 0 & 12 & -1 & 1 & 54 \\\\\n",
    "    \\hline\n",
    "    & 0 & -5 & 1 & 0 & 12\n",
    "\\end{array}\n",
    "$$"
   ]
  },
  {
   "cell_type": "markdown",
   "metadata": {},
   "source": [
    "Nous échangeons à présent $x_2$ et $s_2$.\n",
    "$$\n",
    "\\begin{array}{c|cccc|c}\n",
    "    & x_1 & x_2 & s_1 & s_2 & b \\\\\n",
    "    \\hline\n",
    "    x_1 & 1 & 0 & 11/36 & 1/36 & 11/2 \\\\\n",
    "    x_2 & 0 & 1 & -1/12 & 1/12 & 9/2 \\\\\n",
    "    \\hline\n",
    "    & 0 & 0 & 7/12 & 5/12 & 69/2\n",
    "\\end{array}\n",
    "$$"
   ]
  },
  {
   "cell_type": "markdown",
   "metadata": {},
   "source": [
    "Tous les coûts réduits sont non-négatifs, mais la solution n'est pas entière."
   ]
  },
  {
   "cell_type": "markdown",
   "metadata": {},
   "source": [
    "Considérons la contrainte\n",
    "$$\n",
    "x_1 + \\frac{11}{36}s_1 + \\frac{1}{36}s_2 = \\frac{11}{2}.\n",
    "$$\n",
    "L'inégalité\n",
    "$$\n",
    "x_1 \\leq 5\n",
    "$$\n",
    "doit être satisfaire pour tout solution réalisable. En soustrayant la contrainte initiale, nous obtenons la coupe\n",
    "$$\n",
    "-\\frac{11}{36}s_1 - \\frac{1}{36}s_2 \\leq -\\frac{1}{2}.\n",
    "$$\n",
    "Sous forme d'égalité, en introduisant la variable d'écart $s_3 \\geq 0$, la coupe devient\n",
    "$$\n",
    "-\\frac{11}{36}s_1 - \\frac{1}{36}s_2 + s_3 = -\\frac{1}{2}.\n",
    "$$\n",
    "Le tableau du simplexe devient\n",
    "$$\n",
    "\\begin{array}{c|ccccc|c}\n",
    "    & x_1 & x_2 & s_1 & s_2 & s_3 & b \\\\\n",
    "    \\hline\n",
    "    x_1 & 1 & 0 & 11/36 & 1/36 & 0 & 11/2 \\\\\n",
    "    x_2 & 0 & 1 & -1/12 & 1/12 & 0 & 9/2 \\\\\n",
    "    s_3 & 0 & 0 & -11/36 & -1/36 & 1 & -1/2 \\\\\n",
    "    \\hline\n",
    "        & 0 & 0 & 7/12 & 5/12 & 0 & 69/2\n",
    "\\end{array}\n",
    "$$\n",
    "La solution n'est plus réalisable mais elle est dual-réalisable."
   ]
  },
  {
   "cell_type": "markdown",
   "metadata": {},
   "source": [
    "Nous devons entreprendre une itération du simplexe dual. Nous prenons comme élément de pivot la troisième ligne et troisième colonne comme $7/12*36/11 = 21/11 < 5/12*36 = 15$.\n",
    "Multiplions la troisième ligne par $-36/11$. Cela donne\n",
    "$$\n",
    "\\begin{array}{c|ccccc|c}\n",
    "    & x_1 & x_2 & s_1 & s_2 & s_3 & b \\\\\n",
    "    \\hline\n",
    "    x_1 & 1 & 0 & 11/36 & 1/36 & 0 & 11/2 \\\\\n",
    "    x_2 & 0 & 1 & -1/12 & 1/12 & 0 & 9/2 \\\\\n",
    "    s_3 & 0 & 0 & 1 & 1/11 & -36/11 & 18/11 \\\\\n",
    "    \\hline\n",
    "        & 0 & 0 & 7/12 & 5/12 & 0 & 69/2\n",
    "\\end{array}\n",
    "$$\n",
    "Les calculs deviennent complexes! Reprenons la procédure de pivot"
   ]
  },
  {
   "cell_type": "code",
   "execution_count": null,
   "metadata": {},
   "outputs": [],
   "source": [
    "function pivot!(M::Matrix, i::Int, j::Int)\n",
    "    @assert M[i, j] != 0 \"pivot sur coefficient nul\"\n",
    "    M[i, :] /= M[i, j]\n",
    "    m, n = size(M)\n",
    "    for k in 1:m\n",
    "        if i != k\n",
    "            coef = M[k, j]\n",
    "            M[k, :] -= coef * M[i, :]\n",
    "        end\n",
    "    end\n",
    "    return M\n",
    "end"
   ]
  },
  {
   "cell_type": "code",
   "execution_count": null,
   "metadata": {},
   "outputs": [],
   "source": [
    "A = [ 1 0 11//36  1//36   0 \n",
    "      0 1 -1//12  1//12   0 \n",
    "      0 0 -11//36 -1//36  1 ]\n",
    "b = [ 11//2 ; 9//2 ; -1//2 ]\n",
    "c = [ 0 0   7//12  5//12  0  69//2 ]\n",
    "M = [ A b ; c ]\n",
    "\n",
    "pivot!(M, 3, 3)"
   ]
  },
  {
   "cell_type": "markdown",
   "metadata": {},
   "source": [
    "Tous les coûts réduits sont non-négatifs, mais la solution n'est toujours pas entière, même si $x_1 = 5$!\n",
    "\n",
    "Construisons une coupe à partir de la seconde contrainte\n",
    "$$\n",
    "x_2 + \\frac{1}{11}s_2 - \\frac{3}{11}s_3 = \\frac{51}{11}.\n",
    "$$\n",
    "Nous formons l'inégalité\n",
    "$$\n",
    "x_2 - s_3 \\leq 4\n",
    "$$\n",
    "et lui soustrayons la contrainte initiale pour obtenir la coupe\n",
    "$$\n",
    "-\\frac{1}{11}s_2 - \\frac{8}{11}s_3 \\leq -\\frac{7}{11}.\n",
    "$$\n",
    "Avec $s_4 \\geq 0$, cela donne\n",
    "$$\n",
    "-\\frac{1}{11}s_2 - \\frac{8}{11}s_3 + s_4 = -\\frac{7}{11}.\n",
    "$$\n",
    "Ajoutons cette contrainte au système."
   ]
  },
  {
   "cell_type": "code",
   "execution_count": null,
   "metadata": {},
   "outputs": [],
   "source": [
    "(m,n) = size(M)\n",
    "M = hcat(M, Matrix{Rational{Int64}}(zeros(m,1)))\n",
    "M[1:m,n+1] = M[1:m,n]\n",
    "M[1:m,n] = zeros(m,1)\n",
    "M = vcat(M, Matrix{Rational{Int64}}(zeros(1,n+1)))\n",
    "M[m+1,:] = M[m,:]\n",
    "M[m,:] = [0 0 0 -1//11 -8//11 1 -7//11]\n",
    "M"
   ]
  },
  {
   "cell_type": "markdown",
   "metadata": {},
   "source": [
    "Nous effectuons une itération du simplexe duale."
   ]
  },
  {
   "cell_type": "code",
   "execution_count": null,
   "metadata": {},
   "outputs": [],
   "source": [
    "pivot!(M, 4, 5)"
   ]
  },
  {
   "cell_type": "markdown",
   "metadata": {},
   "source": [
    "À nouveau la solution n'est pas entière. Construisons une coupe à partir de la troisième\n",
    "$$\n",
    "s_1+\\frac{1}{2}s_2-\\frac{9}{2}s_4 = \\frac{9}{2}.\n",
    "$$\n",
    "Nous en tirons l'inégalité\n",
    "$$\n",
    "s_1-5s_4 \\leq 4,\n",
    "$$\n",
    "et la coupe\n",
    "$$\n",
    "-\\frac{1}{2}s_2-\\frac{1}{2}s_4 + s_5 = -\\frac{1}{2}.\n",
    "$$\n",
    "Le nouveau système est"
   ]
  },
  {
   "cell_type": "code",
   "execution_count": null,
   "metadata": {},
   "outputs": [],
   "source": [
    "(m,n) = size(M)\n",
    "M = hcat(M, Matrix{Rational{Int64}}(zeros(m,1)))\n",
    "M[1:m,n+1] = M[1:m,n]\n",
    "M[1:m,n] = zeros(m,1)\n",
    "M = vcat(M, Matrix{Rational{Int64}}(zeros(1,n+1)))\n",
    "M[m+1,:] = M[m,:]\n",
    "M[m,:] = [ 0 0 0 -1//2 0 -1//2 1 -1//2]\n",
    "M"
   ]
  },
  {
   "cell_type": "markdown",
   "metadata": {},
   "source": [
    "Itération du simplexe dual:"
   ]
  },
  {
   "cell_type": "code",
   "execution_count": null,
   "metadata": {},
   "outputs": [],
   "source": [
    "pivot!(M, 5, 4)"
   ]
  },
  {
   "cell_type": "markdown",
   "metadata": {},
   "source": [
    "La solution n'est toujours pas entière!\n",
    "\n",
    "Partons de la première contrainte\n",
    "$$\n",
    "x_1 + \\frac{3}{2}s_4 - \\frac{1}{4}s_5 = \\frac{17}{4}.\n",
    "$$\n",
    "Nous obtenons l'inégalité\n",
    "$$\n",
    "x_1 + s_4 - s_5 \\leq 4,\n",
    "$$\n",
    "et la coupe\n",
    "$$\n",
    "-\\frac{1}{2}s_4 - \\frac{3}{4}s_5 + s_6 = -\\frac{1}{4},\n",
    "$$\n",
    "donnant le système augmenté"
   ]
  },
  {
   "cell_type": "code",
   "execution_count": null,
   "metadata": {},
   "outputs": [],
   "source": [
    "(m,n) = size(M)\n",
    "M = hcat(M, Matrix{Rational{Int64}}(zeros(m,1)))\n",
    "M[1:m,n+1] = M[1:m,n]\n",
    "M[1:m,n] = zeros(m,1)\n",
    "M = vcat(M, Matrix{Rational{Int64}}(zeros(1,n+1)))\n",
    "M[m+1,:] = M[m,:]\n",
    "M[m,:] = [ 0 0 0 0 0 -1//2 -3//4 1 -1//4]\n",
    "M"
   ]
  },
  {
   "cell_type": "markdown",
   "metadata": {},
   "source": [
    "Itération du simplexe dual:"
   ]
  },
  {
   "cell_type": "code",
   "execution_count": null,
   "metadata": {},
   "outputs": [],
   "source": [
    "pivot!(M, 6, 7)"
   ]
  },
  {
   "cell_type": "markdown",
   "metadata": {},
   "source": [
    "La solution n'est toujours pas entière! Repartons de la première contrainte\n",
    "$$\n",
    "x_1 + \\frac{5}{3}s_4 - \\frac{1}{3}s_6 = \\frac{13}{3}.\n",
    "$$\n",
    "Nous obtenons l'inégalité\n",
    "$$\n",
    "x_1 + s_4 - s_6 \\leq 4,\n",
    "$$\n",
    "et la coupe\n",
    "$$\n",
    "-\\frac{2}{3}s_4 - \\frac{2}{3}s_6 + s_7 = -\\frac{1}{3}.\n",
    "$$\n",
    "Le nouveau tableau du simplexe est"
   ]
  },
  {
   "cell_type": "code",
   "execution_count": null,
   "metadata": {},
   "outputs": [],
   "source": [
    "(m,n) = size(M)\n",
    "M = hcat(M, Matrix{Rational{Int64}}(zeros(m,1)))\n",
    "M[1:m,n+1] = M[1:m,n]\n",
    "M[1:m,n] = zeros(m,1)\n",
    "M = vcat(M, Matrix{Rational{Int64}}(zeros(1,n+1)))\n",
    "M[m+1,:] = M[m,:]\n",
    "M[m,:] = [ 0 0 0 0 0 -2//3 0 -2//3 1 -1//3]\n",
    "M"
   ]
  },
  {
   "cell_type": "markdown",
   "metadata": {},
   "source": [
    "Pivot dual:"
   ]
  },
  {
   "cell_type": "code",
   "execution_count": null,
   "metadata": {},
   "outputs": [],
   "source": [
    "pivot!(M, 7, 8)"
   ]
  },
  {
   "cell_type": "markdown",
   "metadata": {},
   "source": [
    "Toujours pas! Continuons avec la première contrainte\n",
    "$$\n",
    "x_1 + 2s_2 - \\frac{1}{2}s_7 = \\frac{9}{2},\n",
    "$$\n",
    "donnant l'inégalité\n",
    "$$\n",
    "x_1 + 2s_2 - s_7 \\leq 4,\n",
    "$$\n",
    "et la coupe\n",
    "$$\n",
    "- \\frac{1}{2}s_7 + s_8 = - \\frac{1}{2}.\n",
    "$$\n",
    "Le nouveau tableau est"
   ]
  },
  {
   "cell_type": "code",
   "execution_count": null,
   "metadata": {},
   "outputs": [],
   "source": [
    "(m,n) = size(M)\n",
    "M = hcat(M, Matrix{Rational{Int64}}(zeros(m,1)))\n",
    "M[1:m,n+1] = M[1:m,n]\n",
    "M[1:m,n] = zeros(m,1)\n",
    "M = vcat(M, Matrix{Rational{Int64}}(zeros(1,n+1)))\n",
    "M[m+1,:] = M[m,:]\n",
    "M[m,:] = [ 0 0 0 0 0 0 0 0 -1//2 1 -1//2]\n",
    "M"
   ]
  },
  {
   "cell_type": "markdown",
   "metadata": {},
   "source": [
    "Pivot dual:"
   ]
  },
  {
   "cell_type": "code",
   "execution_count": null,
   "metadata": {},
   "outputs": [],
   "source": [
    "pivot!(M, 8, 9)"
   ]
  },
  {
   "cell_type": "markdown",
   "metadata": {},
   "source": [
    "La solution est optimale et entière! Nous avons enfin terminé, avec comme solution optimale $x_1^* = 5$, $x_2^* = 4$. La valeur optimale est de -31."
   ]
  },
  {
   "cell_type": "markdown",
   "metadata": {},
   "source": [
    "## Problèmes de transport"
   ]
  },
  {
   "cell_type": "markdown",
   "metadata": {},
   "source": [
    "En utilisant la méthode du coin Nord-Ouest, déterminez une solution réalisable au problème de transport défini par\n",
    "$$\n",
    "\\mathbf{a} = (20, 10, 35, 15),\\ \\boldsymbol{b} = (10, 25, 5, 15, 25).\n",
    "$$\n",
    "\n",
    "Nous pouvons facilement construire le tableau suivant\n",
    "$$\n",
    "\\begin{array}{|c|c|c|c|c|c}\n",
    "\\hline\n",
    "10 & 10 & & & & 20 \\\\\n",
    "\\hline\n",
    "& 10 & & & & 10 \\\\ \n",
    "\\hline\n",
    "& 5 & 5 & 15 & 10 & 35 \\\\\n",
    "\\hline\n",
    "& & & & 15 & 15 \\\\\n",
    "\\hline\n",
    "10 & 25 & 5 & 15 & 25\n",
    "\\end{array}\n",
    "$$"
   ]
  },
  {
   "cell_type": "code",
   "execution_count": null,
   "metadata": {},
   "outputs": [],
   "source": []
  }
 ],
 "metadata": {
  "kernelspec": {
   "display_name": "Julia 1.8.2",
   "language": "julia",
   "name": "julia-1.8"
  },
  "language_info": {
   "file_extension": ".jl",
   "mimetype": "application/julia",
   "name": "julia",
   "version": "1.8.2"
  }
 },
 "nbformat": 4,
 "nbformat_minor": 2
}
