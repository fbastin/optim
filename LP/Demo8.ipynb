{
 "cells": [
  {
   "cell_type": "markdown",
   "metadata": {},
   "source": [
    "# 1. (Luenberger et Ye, Exercice 4 page 140)"
   ]
  },
  {
   "cell_type": "markdown",
   "metadata": {},
   "source": [
    "Soit (P) le programme primal ci-dessous, et (D) son dual:\n",
    "\\begin{align*}\n",
    "\\begin{array}{lllllll}\n",
    "(P) &  \\min_x   & c^Tx   & & (D) &  \\max_{\\lambda}  &  b^T \\lambda   \\\\\n",
    "   &     &Ax = b  & &    &    &  \\lambda^T A \\leq c^T   \\\\\n",
    "   &     & x \\geq 0 & &    &    &             \\\\\n",
    "\\end{array}\n",
    "\\end{align*}\n",
    "\n",
    "Supposons que $\\left\\{ x : \\ Ax = b, \\ x \\ge 0 \\right\\}$ est d'intérieur non vide et borné. Montrer que l'ensemble réalisable du dual (D) est d'intérieur non vide."
   ]
  },
  {
   "cell_type": "markdown",
   "metadata": {},
   "source": [
    "## Solution"
   ]
  },
  {
   "cell_type": "markdown",
   "metadata": {},
   "source": [
    "Soit (P) le programme primal ci-dessous, et (D) son dual:\n",
    "\\begin{align*}\n",
    "\\begin{array}{lllllll}\n",
    "(P) &  \\min_x   & c^Tx   & & (D) &  \\max_{\\lambda}  &  b^T \\lambda   \\\\\n",
    "   &     &Ax = b  & &    &    &  \\lambda^T A \\leq c^T   \\\\\n",
    "   &     & x \\geq 0 & &    &    &             \\\\\n",
    "\\end{array}\n",
    "\\end{align*}\n",
    "\n",
    "L'intérieur de (P) non vide et l'hypothèse que l'ensemble des solutions optimales est borné, assure que le problème barrière (BP) associé à (P) est bien défini.\n",
    "\\begin{align*}\n",
    "\\begin{array}{ccc}\n",
    "(BP) &  \\min_x  &  c^Tx - \\mu \\sum_{j=1}^n \\log x_j  \\\\\n",
    "     &     & Ax = b   \\\\\n",
    "     &     &  x > 0  \\\\\n",
    "\\end{array}\n",
    "\\end{align*}\n",
    "\n",
    "\n",
    "Les conditions nécessaires et suffisantes sont réunies pour que $\\forall \\mu > 0$, le système suivant soit réalisable (système (8) page 122)\n",
    "\n",
    "\\begin{align*}\n",
    "&X Se = \\mu \\textbf{1} \\quad & \\left( \\text{ou bien en notation Julia : } x.*s = \\mu .*\\textbf{1} \\right)\\\\\n",
    "&Ax = b&\\\\\n",
    "&\\lambda^T A + s = c^T&\n",
    "\\end{align*}\n",
    "\n",
    " \n",
    " $x \\geq 0$, $s\\geq 0$  et $\\mu > 0$ entrainent que $x$ et $s > 0$. \n",
    " Alors $\\lambda^T A + s = c^T \\Rightarrow \\lambda ^TA < c^T$. \n",
    " Le multiplicateur de Lagrange $\\lambda (\\mu)$ qui vérifie le système (8) appartient à l'intérieur du domaine réalisable de (P), justifiant ainsi que cet ensemble est non vide.\n",
    " "
   ]
  },
  {
   "cell_type": "markdown",
   "metadata": {},
   "source": [
    "# 2. (Conditions d'optimalité primale-duale)\n",
    "\n",
    "Considérons la paire de problèmes primal et dual\n",
    "\\begin{align*}\n",
    "\\min_x \\ & c^T x \\\\\n",
    "\\mbox{t.q. } & Ax \\geq b \\\\\n",
    "& x \\geq 0\n",
    "\\end{align*}\n",
    "et\n",
    "\\begin{align*}\n",
    "\\max_{\\lambda} \\ & \\lambda^T b \\\\\n",
    "\\mbox{t.q. } & A^T \\lambda \\leq c \\\\\n",
    "& \\lambda \\geq 0\n",
    "\\end{align*}\n",
    "\n",
    "Montrez que chercher les solutions optimales $x^*$ et $\\lambda^*$ pour le primal et le dual, respectivement, est équivalent à résoudre le système\n",
    "\\begin{align}\n",
    "&Ax \\geq b \\tag{1} \\\\\n",
    "&A^T \\lambda \\leq c \\tag{2} \\\\\n",
    "&x^T(A^T\\lambda - c) = 0 \\tag{3}\\\\\n",
    "&\\lambda^T(Ax-b) = 0 \\tag{4}\\\\\n",
    "&x \\geq 0, \\ \\lambda \\geq 0.  \\tag{5}\n",
    "\\end{align}"
   ]
  },
  {
   "cell_type": "markdown",
   "metadata": {},
   "source": [
    "## Solution\n",
    "\n",
    "(1), (2) et (5) correspondent aux conditions de réalisabilités primales et duales. Le résultat est dès lors une conséquence directe du théorème des écarts complémentaires."
   ]
  },
  {
   "cell_type": "markdown",
   "metadata": {},
   "source": [
    "# 3. (Lemme de Farkas)\n",
    "\n",
    "Soient deux ensembles $$E = \\{ x \\in \\mathbb{R}^n| Ax = b, x \\geq 0 \\}$$ et $$F = \\{ y \\in \\mathbb{R}^m | y^TA \\leq 0, y^T b = 1\\}$$\n",
    "Montrons qu'exactement un des deux ensembles est non vide."
   ]
  },
  {
   "cell_type": "markdown",
   "metadata": {},
   "source": [
    "## Solution\n",
    "\n",
    "**(i)** Montrons qu'ils ne peuvent être non vides tous les deux.\n",
    "Par contradiction, supposons que E et F sont non vides\n",
    "\n",
    "Alors il existe $x$ tel que $Ax = b, x \\geq 0 $ et il existe $y$ tel que $y^T A \\leq 0$ et $y^T b = 1$.\n",
    "Comme $x\\geq 0$ alors $y^T Ax \\leq 0$ Mais $y^T Ax = y^T b$ car $x \\in E$.\n",
    "Alors $1 = y^T Ax \\leq 0$. Contradiction, et donc E et F ne peuvent être simultanément non vides.\n",
    "\n",
    "\n",
    "**(ii)** Il ne reste qu'à prouver que si un ensemble est vide, l'autre ne l'est pas.\n",
    "Supposons que l'ensemble E est vide, i.e. qu'il n'existe pas de $x \\in \\mathbb{R}^n_+$ tel que $Ax = b$.\n",
    "\n",
    "On considère l'ensemble\n",
    "\\begin{gather*}\n",
    "G = \\{ g \\in \\mathbb{R}^m \\,|\\, \\exists x \\in \\mathcal{R}^n_+ \\mbox{ tel que } Ax = g \\}.\n",
    "\\end{gather*}\n",
    "\n",
    "A noter que $G$ est un ensemble convexe, et est un cône.\n",
    "En effet, si $g\\in G$ alors $\\forall \\tau > 0, \\tau g \\in G$.\n",
    "\n",
    "Notre hypothèse de départ induit que $b$ n'appartient pas à $G$.\n",
    "\n",
    "Ainsi il existe un hyperplan $H(p, k)$ de séparation entre $b$ et tous les points de $G$, où\n",
    "$$H(p, k) = \\{ x \\in \\mathbb{R}^n | p^Tx = k \\}$$ avec $k$  un scalaire.\n",
    "On a que:\n",
    "$$ p^Tg < k < p^T b \\quad \\forall g \\in G$$\n",
    "\n",
    "$0 \\in G$ alors $p^T b > 0$.  \n",
    "\n",
    "De plus $p^Tg \\leq 0 \\quad \\forall g \\in G$. \n",
    "\n",
    "**Preuve:**\n",
    "\n",
    "Si $p^Tg > 0$ alors comme pour $\\tau > 0$, $\\tau g \\in G$ alors quand $\\tau \\rightarrow \\infty $, on est en contradiction avec la borne supérieure finie: $\\tau p^Tg < k < p^T b$\n",
    "\n",
    "Chaque colonne de la matrice A est un vecteur de $m$ composantes, noté $A_j$ pour $j = 1, 2,\\ldots, n$.\n",
    "$A_j \\in G \\quad \\forall \\, j = 1, 2,\\ldots, n$ car\n",
    "$A_j  =  A e^j $ o\\`u\n",
    "$e^j \\in \\mathbb{R}^n_+$\n",
    "\n",
    "$$\n",
    "e^j =\n",
    "\\left\\{\n",
    "    \\begin{array}{l}\n",
    "        e^j_l = 0 \\quad \\forall l \\ne j \\\\\n",
    "        e^j_j = 1\n",
    "    \\end{array}\n",
    "\\right.\n",
    "$$\n",
    "\n",
    "Ainsi $\\forall j \\in \\{1, 2,\\ldots,n\\} p^T A_j \\leq 0 \\Leftrightarrow  p^TA \\leq 0$.\n",
    "De plus, $p^T b >0 \\Rightarrow \\exists \\epsilon > 0$ tel que $p^T b = \\epsilon$.\n",
    "Posons $$y = \\frac{1}{\\epsilon}p$$\n",
    "Alors $y$ vérifie que $y^TA \\leq 0$ et $y^T b = 1$. Par conséquent $y \\in F$.\n",
    "\n",
    "**Récapitulons:**\n",
    "\n",
    "En supposant $E$ vide, nous avons construit un vecteur $y\\in \\mathbb{R}^m$ qui appartient à $F$, i.e. que $F$ est non vide. \n",
    "\n",
    "$E$ vide $\\Rightarrow F$ est non vide.\n",
    "\n",
    "Ce qui prouve aussi que: \n",
    "\n",
    "$F$ vide $\\Rightarrow E$ est non vide."
   ]
  },
  {
   "cell_type": "markdown",
   "metadata": {},
   "source": [
    "## 4. (Approximation de Tchebychev)"
   ]
  },
  {
   "cell_type": "markdown",
   "metadata": {},
   "source": [
    "Étant donné une matrice $A \\in \\mathcal{R}^{M \\times N}$ et un vecteur $b \\in \\mathcal{R}^M$, le problème d'approximation de Tchebychev se formule comme\n",
    "$$\n",
    "\\min_x \\| Ax - b \\|_{\\infty}.\n",
    "$$\n",
    "\n",
    "**(a)** Reformulez le problème comme un problème de programmation linéaire.\n",
    "\n",
    "\n",
    "**(b)** Construisez le dual associé."
   ]
  },
  {
   "cell_type": "markdown",
   "metadata": {},
   "source": [
    "## Solution \n",
    "\n",
    "**(a)**\n",
    "En notant\n",
    "$$\n",
    "A =\n",
    "\\begin{pmatrix}\n",
    "a_1^T \\\\\n",
    "a_2^T \\\\\n",
    "\\vdots \\\\\n",
    "a_M^T\n",
    "\\end{pmatrix},\n",
    "$$\n",
    "le problème peut se réécrire comme\n",
    "$$\n",
    "\\min_x \\max_{i = 1,\\ldots,M} |a_i^Tx - b_i|.\n",
    "$$\n",
    "Le problème d'optimisation formulé ainsi est un problème non-linéaire.\n",
    "Il est cependant équivalent au problème de programmation linéaire\n",
    "\\begin{align*}\n",
    "\\min_{x, t} \\ & t \\\\\n",
    "\\mbox{t.q. } & -t \\leq a_i^Tx - b_i \\leq t,\\ i = 1,\\ldots,M.\n",
    "\\end{align*}"
   ]
  },
  {
   "cell_type": "markdown",
   "metadata": {},
   "source": [
    "\n",
    "\n",
    "**(b)**\n",
    "Pour former le dual, réécrivons tout d'abord le primal comme\n",
    "\\begin{align*}\n",
    "\\min_{x, t} \\ & t \\\\\n",
    "\\mbox{t.q. } & a_i^Tx + t \\geq b_i,\\ i = 1,\\ldots,M, \\\\\n",
    "&  -a_i^Tx + t \\geq - b_i,\\ i = 1,\\ldots,M.\n",
    "\\end{align*}\n",
    "Le dual est\n",
    "\\begin{align*}\n",
    "\\max_{\\lambda, \\mu} \\ & b^T \\lambda - b^T\\mu \\\\\n",
    "\\mbox{t.q. } & \\sum_{i=1}^M (\\lambda_i - \\mu_i)a_i = 0, \\\\\n",
    "& \\sum_{i = 1}^M (\\lambda_i + \\mu_i) = 1, \\\\\n",
    "& \\lambda_i \\geq 0,\\ \\mu_i \\geq 0,\\ i = 1,\\ldots,M.\n",
    "\\end{align*}\n",
    "\n",
    "Nous pouvons reformuler le problème dual avec le changement de variable $p = \\lambda-\\mu$ et $q = \\lambda+\\mu$. Le problème devient\n",
    "\\begin{align*}\n",
    "\\max_{p, q} \\ & b^T p \\\\\n",
    "\\mbox{t.q. } & A^Tp = 0, \\\\\n",
    "& \\sum_{i = 1}^M q_i = 1, \\\\\n",
    "& p \\pm q \\geq 0.\n",
    "\\end{align*}\n",
    "Dans cette nouvelle, $q$ peut être facilement éliminé, pour obtenir\n",
    "\\begin{align*}\n",
    "\\max_{p} \\ & b^T p \\\\\n",
    "\\mbox{t.q. } & A^Tp = 0, \\\\\n",
    "& \\| p \\|_1 \\leq 1.\n",
    "\\end{align*}\n",
    "\n",
    "La paire primale-duale a alors une interprétation géométrique intéressante.\n",
    "\n",
    "**Interprétation**\n",
    "\n",
    "Le primal peut s'interpréter comme :\n",
    "\n",
    "Étant donné $b \\in \\mathcal{R}^M$ et le sous-espace linéaire $L$ de $\\mathcal{R}^M$ généré par $N$ vecteurs $a_1,\\ldots,a_N$, trouvez l'élément de $L$ le plus proche de $b$ par rapport à la norme $\\|\\cdot\\|_{\\infty}$.\n",
    "\n",
    "\n",
    "Le problème dual est, quant à lui :\n",
    "\n",
    "Étant donné $b \\in \\mathcal{R}^M$ et le sous-espace linéaire $L$ de $\\mathcal{R}^M$ généré par $N$ vecteurs $a_1,\\ldots,a_N$, trouvez une fonctionnelle lineaire $z \\rightarrow p^Tz$ telle que $\\| p \\|_1 \\leq 1$ qui sépare au mieux $b$ du sous-espace linéaire $L$, i.e. qui est nulle sur $L$ et est aussi grande que possible en $b$.\n",
    "\n",
    "\n",
    "Le théorème de dualité forte indique que les valeurs optimales de ces deux problèmes sont égales. En d'autres termes\n",
    "\n",
    "La distance en norme infinie d'un point $b \\in \\mathcal{R}^M$ à un sous-espace linéaire $L$ de $\\mathcal{R}^M$ est toujours égale à la quantité maximale par laquelle $b$ peut être séparé de $L$ par une fonctionnelle linéaire de norme $\\|\\cdot\\|_1$ égale à 1.\n",
    "\n",
    "\n",
    "C'est le cas le plus simple du théorème de séparation de Hahn-Banach.\n",
    "La contrainte de norme inférieure ou égale à 1 a été remplacée par une égalité. En effet, la dualité forte nous indique pour que une solution optimale $p^*$, $b^t p^* = t \\geq 0$. Si $\\| p^* \\|_1 = \\alpha < 1$, alors $1/\\alpha b^t p^* > b^t p^*$ et $1/\\alpha A^Tp^* = 0$, $\\| 1/\\alpha p^* \\|_1 = 1$. Autrement dit, $p^*$ n'est pas une solution optimale du dual.\n",
    " \n",
    "\n",
    "**Remarque (très facultative) :**\n",
    "\n",
    "Énoncé général suivant (une version du théorème de Hahn-Banach):\n",
    "\n",
    "La distance d'un point $b$ dans un espace normé linéaire $(E, \\|\\cdot\\|)$ à un sous-espace linéaire $L \\subseteq E$ est égale au suprémum des quantités par lesquelles $b$ peut être séparé de $L$ par une fonctionnelle linéaire du conjugué à la norme $\\|\\cdot\\|_1$."
   ]
  },
  {
   "cell_type": "markdown",
   "metadata": {},
   "source": [
    "## 5. Illustration de l'algorithme primal affine"
   ]
  },
  {
   "cell_type": "code",
   "execution_count": null,
   "metadata": {},
   "outputs": [],
   "source": [
    "using LinearAlgebra\n",
    "using JuMP, HiGHS\n",
    "using Plots"
   ]
  },
  {
   "cell_type": "markdown",
   "metadata": {},
   "source": [
    "Nous considérons le problème suivant."
   ]
  },
  {
   "cell_type": "code",
   "execution_count": null,
   "metadata": {
    "scrolled": false
   },
   "outputs": [],
   "source": [
    "m = Model(HiGHS.Optimizer)\n",
    "@variable(m, x[1:2] >= 0)\n",
    "@constraint(m, c1, x[1]+x[2] <= 2)\n",
    "@constraint(m, c2, -x[1]+x[2] <= 1)\n",
    "@objective(m, Max, x[1] + 2x[2])\n",
    "\n",
    "print(m)"
   ]
  },
  {
   "cell_type": "code",
   "execution_count": null,
   "metadata": {},
   "outputs": [],
   "source": [
    "optimize!(m)"
   ]
  },
  {
   "cell_type": "code",
   "execution_count": null,
   "metadata": {},
   "outputs": [],
   "source": [
    "value.(x)"
   ]
  },
  {
   "cell_type": "markdown",
   "metadata": {},
   "source": [
    "La solution duale est"
   ]
  },
  {
   "cell_type": "code",
   "execution_count": null,
   "metadata": {},
   "outputs": [],
   "source": [
    "λ = -[dual(c1) ; dual(c2) ]"
   ]
  },
  {
   "cell_type": "markdown",
   "metadata": {},
   "source": [
    "Notons que nous avons pris l'opposé de la réponse donnée par la fonction `dual` comme nous faisons face à un problème de maximisation."
   ]
  },
  {
   "cell_type": "markdown",
   "metadata": {},
   "source": [
    "Introduisons deux variables d'écart, une par contrainte, nous avons exécuté sur ce problème l'algorithme primal affine en partant du point"
   ]
  },
  {
   "cell_type": "code",
   "execution_count": null,
   "metadata": {},
   "outputs": [],
   "source": [
    "x0 = [0.5; 0.5; 1; 1]"
   ]
  },
  {
   "cell_type": "markdown",
   "metadata": {},
   "source": [
    "Sous forme standard, nous utiliserons les entrées"
   ]
  },
  {
   "cell_type": "code",
   "execution_count": null,
   "metadata": {},
   "outputs": [],
   "source": [
    "c = [-1; -2; 0; 0]\n",
    "A = [1 1 1 0; -1 1 0 1]\n",
    "b = [2; 1]"
   ]
  },
  {
   "cell_type": "markdown",
   "metadata": {},
   "source": [
    "Nous avons enregistré dans le fichier `trace.txt` les itérés produits. Chaque colonne donne la valeur de la fonction objectif (exprimée à partir du problème de minimisation), la solution primale courante et le vecteur d'écarts correspondants pour les contraintes duales."
   ]
  },
  {
   "cell_type": "code",
   "execution_count": null,
   "metadata": {},
   "outputs": [],
   "source": [
    "using DelimitedFiles\n",
    "\n",
    "trace = readdlm(\"trace.txt\")"
   ]
  },
  {
   "cell_type": "markdown",
   "metadata": {},
   "source": [
    "Le nombre d'itérations est donc donné par le nombre de colonnes."
   ]
  },
  {
   "cell_type": "code",
   "execution_count": null,
   "metadata": {},
   "outputs": [],
   "source": [
    "(p, k) = size(trace)\n",
    "println(\"Nombre d'itérations: \", k)"
   ]
  },
  {
   "cell_type": "markdown",
   "metadata": {},
   "source": [
    "La solution finale primale est donnée en regardant la dernière colonne."
   ]
  },
  {
   "cell_type": "code",
   "execution_count": null,
   "metadata": {},
   "outputs": [],
   "source": [
    "println(\"Solution: \", trace[2:3, k])"
   ]
  },
  {
   "cell_type": "markdown",
   "metadata": {},
   "source": [
    "Traçons l'évolution des itérés."
   ]
  },
  {
   "cell_type": "code",
   "execution_count": null,
   "metadata": {},
   "outputs": [],
   "source": [
    "default(size=(600,600), fc=:heat)\n",
    "x, y = 0:0.02:2.0, 0:0.02:2.0\n",
    "z = Surface((x,y)->dot(c[1:2],[x,y]), x, y)\n",
    "Plots.contour(x,y,z, linealpha = 0.2, levels=1000)\n",
    "\n",
    "plot!(xlims = (0.0,  2.0), ylims = (0.0, 2.0))\n",
    "plot!(x -> 2-x, color = :red, linewidth = 2, label = \"Contrainte 1\")\n",
    "plot!(x -> 1+x, color = :blue, linewidth = 2, label = \"Contrainte 2\")\n",
    "plot!(trace[2,:], trace[3,:], lw = 3, color = :green)\n",
    "scatter!(trace[2,:], trace[3,:], markersize = 4, color = :grey, label = \"Itérés\")"
   ]
  },
  {
   "cell_type": "markdown",
   "metadata": {},
   "source": [
    "Observons à présent que se comportent les écarts de complémentarités."
   ]
  },
  {
   "cell_type": "code",
   "execution_count": null,
   "metadata": {},
   "outputs": [],
   "source": [
    "iterprimal = trace[2:5,:]\n",
    "iterdual = trace[6:9,:]\n",
    "slackness = zeros(4,8)\n",
    "for i = 1:8\n",
    "    slackness[:,i] = iterprimal[:,i].*iterdual[:,i]\n",
    "end\n",
    "slackness"
   ]
  },
  {
   "cell_type": "markdown",
   "metadata": {},
   "source": [
    "Nous représentons comment la norme des vecteurs de complémentarité évolue au fil des itérations."
   ]
  },
  {
   "cell_type": "code",
   "execution_count": null,
   "metadata": {},
   "outputs": [],
   "source": [
    "plot([ norm(slackness[:,i]) for i = 1:8 ], label = \"Slackness\")"
   ]
  },
  {
   "cell_type": "markdown",
   "metadata": {},
   "source": [
    "Nous voyons que la norme tend vers 0, comme attendu. Regardons à présent les valeurs successives de la fonction objectif."
   ]
  },
  {
   "cell_type": "code",
   "execution_count": null,
   "metadata": {},
   "outputs": [],
   "source": [
    "plot(trace[1,:], label = \"Objective value\")"
   ]
  },
  {
   "cell_type": "markdown",
   "metadata": {},
   "source": [
    "Nous constatons que nous convergeons bien vers la valeur minimale."
   ]
  },
  {
   "cell_type": "code",
   "execution_count": null,
   "metadata": {},
   "outputs": [],
   "source": []
  }
 ],
 "metadata": {
  "kernelspec": {
   "display_name": "Julia 1.8.5",
   "language": "julia",
   "name": "julia-1.8"
  },
  "language_info": {
   "file_extension": ".jl",
   "mimetype": "application/julia",
   "name": "julia",
   "version": "1.8.2"
  }
 },
 "nbformat": 4,
 "nbformat_minor": 2
}
