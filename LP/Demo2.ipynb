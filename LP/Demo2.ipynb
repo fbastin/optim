{
 "cells": [
  {
   "cell_type": "markdown",
   "metadata": {},
   "source": [
    "# IFT2505 Séance de démonstration 2"
   ]
  },
  {
   "cell_type": "markdown",
   "metadata": {},
   "source": [
    "## 1. Rappels"
   ]
  },
  {
   "cell_type": "markdown",
   "metadata": {},
   "source": [
    "Soit le problème linéaire suivant: \n",
    "\\begin{align*}\n",
    "  \\min\\      & c^T x \\\\\n",
    "  \\text{sujet à } & Ax =b \\\\\n",
    "                  &  x\\geq 0\n",
    "\\end{align*}\n",
    "\n",
    "$A$ une matrice de $m$ lignes et $n$ colonnes $(m \\times n)$ et $b$ un vecteur colonne de $m$ lignes.\n",
    "On suppose $m\\leq n$ et $A$ est supposée de rang plein (i.e. les lignes de $A$ sont linéairement indépendantes, $rang(A) = m$).\n",
    "\n",
    "**Définition 1**\n",
    "Une sous-matrice $B$ de $A$ est dite $\\textbf{base}$ si B est une sous-matrice carrée inversible (i.e. $B^{-1} existe$), de dimensions $m \\times m$ (i.e. $B$ est constituée de $m$ colonnes de $A$).\n",
    "\n",
    "**Définition 2**\n",
    "Les *variables de base* $x_B$ sont les variables associées aux colonnes de $A$ constituant la base $B$.\n",
    "\n",
    "**Définition 3**\n",
    "Une solution de base associée à la base $B$, notée $w$ correspond à poser les variables hors bases à zéro (elles sont au nombre de $n-m$), et à déterminer le vecteur des variables de base $x_B = B^{-1}b$. Sans perte de généralité, supposons que $B$ est constitué des $m$ premières colonnes de $A$ et définissons $x_R$ le vecteur regroupant les variables hors base; on représente $w= \\begin{pmatrix} x_B & x_R \\end{pmatrix}^T$.\n",
    "\n",
    "$\\textbf{Définition 4}$\n",
    "Une solution de base est dite réalisable si $x_B \\geq 0$.\n",
    "\n",
    "$\\textbf{Définition 5}$\n",
    "Une solution de base est dite non dégénérée si $x_B > 0$."
   ]
  },
  {
   "cell_type": "markdown",
   "metadata": {},
   "source": [
    "## 2. Luenberger et Ye (4e édition), Exercice 5 page 29"
   ]
  },
  {
   "cell_type": "markdown",
   "metadata": {},
   "source": [
    "Transformez le problème suivant sous forme standard, et trouvez la solution de base optimale: \n",
    "\\begin{align*}\n",
    "  \\max\\            & x_1+4x_2 +x_3 \\\\\n",
    "  \\text{sujet à } &   2x_1 -2x_2 +x_3 = 4 \\\\\n",
    "                  &    x_1 - x_3 =1 \\\\\n",
    "                  &    x_2, x_3 \\geq 0\n",
    "\\end{align*}"
   ]
  },
  {
   "cell_type": "markdown",
   "metadata": {},
   "source": [
    "$x_1$ est une variable libre.\n",
    "\n",
    "Nous utilisons la contrainte $ x_1 - x_3 =1 $ pour simplifier le problème: $x_1 = 1 + x_3$.\n",
    "\n",
    "Alors, $2x_1 -2x_2 +x_3 = 4$ devient $ -2x_2 + 3x_3 = 2$.\n",
    "\n",
    "L'objectif devient : \n",
    "$$\n",
    "4x_2 +2x_3 +1\n",
    "$$\n",
    "\n",
    "On s'intéresse seulement à la solution optimale et non à la valeur de l'objectif.\n",
    "Ainsi, le problème sous forme standard est alors équivalent à:\n",
    "\\begin{align*}\n",
    "  -\\min             &   -4x_2 -2x_3 \\\\\n",
    "  \\text{sujet à }  &   -2x_2 + 3x_3 = 2 \\\\\n",
    "                   &    x_2, x_3 \\geq 0\n",
    "\\end{align*}"
   ]
  },
  {
   "cell_type": "markdown",
   "metadata": {},
   "source": [
    "Le matrice des contraintes linéaires est\n",
    "$$\n",
    "A = \\begin{pmatrix}\n",
    "      -2 & 3\n",
    "\\end{pmatrix}\n",
    "$$\n",
    "$A$ ne compte que deux sous-matrices (qui sont des scalaires):\n",
    "$A_2 = (-2)$ et $A_3 = (3)$.\n",
    "$A_2$ et $A_3$ sont inversibles, donc $A_2$ et $A_3$ sont des bases.\n",
    "Les solutions correspondant à chaque base sont:\n",
    "* $A_2$: $x_2 = -1$ et $x_3 = 0$, où $x_2$ est variable de base.\n",
    "* $A_3$: $x_3 = \\frac{2}{3}$ et $x_2 = 0$, où $x_3$ est variable de base.\n",
    "Seule $A_3$ est une base réalisable puisque la solution correspondante respecte la non négativité des variables."
   ]
  },
  {
   "cell_type": "code",
   "execution_count": null,
   "metadata": {},
   "outputs": [],
   "source": [
    "using Plots"
   ]
  },
  {
   "cell_type": "code",
   "execution_count": null,
   "metadata": {},
   "outputs": [],
   "source": [
    "plot(x -> (2 + 2x)/3, color = :blue, linewidth = 2, label = \"Contrainte\")\n",
    "hline!([0], color = :black, linestyle = :dash, label = \"\")\n",
    "vline!([0], color = :black, linestyle = :dash, label = \"\")\n",
    "plot!(xlims = (-2, 3), ylims = (-0.5, 4))\n",
    "scatter!([-1], [0], markersize = 5, label = \"Solution associée à la base A2\", color = :red)\n",
    "scatter!([0], [2/3], markersize = 5, label = \"Solution associée à la base A3\", color = :green)\n",
    "plot!(title = \"well Chosen Title\")\n",
    "plot!(xlabel = \"x2\", ylabel = \"x3\")"
   ]
  },
  {
   "cell_type": "markdown",
   "metadata": {},
   "source": [
    "$\\textbf{Remarque importante : }$\n",
    "Le problème n'est pas borné inférieurement. Il n'y a donc pas de solution optimale. A3 n'est donc pas une base optimale. "
   ]
  },
  {
   "cell_type": "markdown",
   "metadata": {},
   "source": [
    "## 3. Exercice 3"
   ]
  },
  {
   "cell_type": "markdown",
   "metadata": {},
   "source": [
    "Considérons le problème suivant\n",
    "\\begin{align*}\n",
    "  \\min_x\\ & c^Tx \\\\\n",
    "  \\mbox{sujet à } & Ax = b \\\\\n",
    "\\end{align*}\n",
    "qui s'écrit aussi:\n",
    "\\begin{align*}\n",
    "  \\text{min }     & c^T x \\\\\n",
    "  \\text{sujet à } & \\sum_{j = 1}^{n} a_{ij}x_j = b_i,\\ i= 1, ..., m \\\\\n",
    "\\end{align*}\n",
    "En ramenant le problème à la forme standard, montrez qu'il n'existe pas de solution de base telle que pour un indice $j$ donné, $x_j^{+}$ et $x_j^{-}$ soient dans la base."
   ]
  },
  {
   "cell_type": "markdown",
   "metadata": {},
   "source": [
    "Les variables $x_j$ étant libres, on les remplace par:\n",
    "$x_j = x_j^{+} - x_j^{-}$, avec $x_j^{+}, x_j^{-}\\geq 0$.\n",
    "\n",
    "On fait les substitions et on obtient le problème sous *forme standard*\n",
    "\\begin{align*}\n",
    "\\min_x\\ & c^t x^+ - c^t x^-\\\\\n",
    "\\text{ sujet à } & \\sum_{j=1}^n a_{ij} x_j^+ - \\sum_{j=1}^n a_{ij} x_j^- = b_i,\\ i=1,\\ldots, m\\\\\n",
    " & x^+, \\ x^- \\ge 0\n",
    "\\end{align*}\n",
    "\n",
    "Montrons qu'il n'existe pas de solution de base, où pour un indice $j$ donné, $x_j^{+}$ et $x_j^{-}$ sont dans la base. \n",
    "\n",
    "$\\textit{La preuve est une preuve par contradiction.}$\n",
    "Supposons qu'il existe une base $B$, qui pour un $j$ donné, comprend les colonnes associées aux variables $x_j^{+}$ et $x_j^{-}$.\n",
    "$B$ est donc de la forme: \n",
    "$$\n",
    "B = \\begin{pmatrix}\n",
    "     \\cdots & a_{1j} & \\cdots & -a_{1j} & \\cdots \\\\\n",
    "     \\cdots & a_{2j} & \\cdots & -a_{2j} & \\cdots \\\\\n",
    "     \\cdots & a_{3j} & \\cdots & -a_{3j} & \\cdots \\\\\n",
    "         &  \\vdots  & \\ddots &  \\vdots \\\\  \n",
    "     \\cdots & a_{mj}  & \\cdots & -a_{mj} & \\cdots     \n",
    "\\end{pmatrix}\n",
    "$$\n",
    "$B$ a alors 2 colonnes linéairement dépendantes, ce qui est en contradiction avec l'inversibilité de $B$, et donc que $B$ est une base."
   ]
  },
  {
   "cell_type": "markdown",
   "metadata": {},
   "source": [
    "## 4. Exercice 8 page 30"
   ]
  },
  {
   "cell_type": "markdown",
   "metadata": {},
   "source": [
    "Transformez le problème suivant en un programme linéaire sous forme standard:\n",
    "\\begin{align*}\n",
    "\\min\\ & |x| + |y| + |z| \\\\\n",
    "\\mbox{t.q. } &  x + y \\leq 1 \\\\\n",
    "& 2x + z = 3\n",
    "\\end{align*}\n",
    "\n"
   ]
  },
  {
   "cell_type": "markdown",
   "metadata": {},
   "source": [
    "Introduisons 3 nouvelles variables positives ou nulles. \n",
    "\n",
    "$u = |x|$, $v = |y|$, $w = |z|$ \n",
    "\n",
    "$|x| = \\max \\{x, -x\\} $ \n",
    "\n",
    "Par conséquent: \n",
    "\n",
    "\\begin{align*}\n",
    "u \\geq x  \\quad u \\geq -x\n",
    "\\end{align*}\n",
    "\n",
    "De même :\n",
    "\\begin{align*}\n",
    "v \\geq  y  \\quad v \\geq -y \\\\\n",
    "w \\geq  z  \\quad w \\geq -z \n",
    "\\end{align*}\n",
    "\n",
    "x, y et z étant des variables libres nous les exprimons par une différence de deux variables positives:\n",
    "\\begin{eqnarray}\n",
    "% \\nonumber to remove numbering (before each equation)\n",
    "  x &=& x^+ - x^- \\\\\n",
    "  y &=& y^+ - y^- \\\\\n",
    "  z &=& z^+ - z^- \n",
    "\\end{eqnarray}\n",
    "$x^+, x^-, y^+, y^-, z^+, z^- \\geq 0$\n",
    "\n",
    "On remplace x, y et z par leurs expressions.\n",
    "La forme standard du problème est:\n",
    "\n",
    "\\begin{align*}\n",
    "  \\min\\ & u + v + w  \\\\\n",
    "  \\text{Sujet à }& -u + x^+ - x^-  + s_1  = 0\\\\\n",
    "   & -u - x^+ + x^- + s_2  = 0\\\\\n",
    "   & -v + y^+ - y^- + s_3  = 0\\\\\n",
    "   & -v - y^+ + y^- + s_4  = 0\\\\\n",
    "   & -w + z^+ - z^- + s_5  = 0\\\\\n",
    "   & -w - z^+ + z^- + s_6  =  0\\\\\n",
    "   & x^+ -x^- + y^+ -y^- + s = 1 \\\\\n",
    "   & 2x^+ - 2x^- + z^+ - z^- = 3 \\\\\n",
    "   & u, v, w \\geq 0 \\\\\n",
    "   & x^+, x^-, y^+, y^-, z^+, z^- \\geq 0 \\\\\n",
    "   & s, s_1, s_2, s_3, s_4, s_5, s_6 \\geq 0\n",
    "\\end{align*}\n",
    "\n"
   ]
  },
  {
   "cell_type": "markdown",
   "metadata": {},
   "source": [
    "## 5. Julia"
   ]
  },
  {
   "cell_type": "markdown",
   "metadata": {},
   "source": [
    "**Ecrivez un code Julia permettant de calculer toutes les solutions de base d'un système linéaire $Ax = b$.**\n",
    "\n",
    "**Écrivez une fonction qui trouve le minimum d'un programme linéaire (en assumant qu'il existe) en utilisant la fonction précédente.**"
   ]
  },
  {
   "cell_type": "markdown",
   "metadata": {},
   "source": [
    "Nous allons essentiellement remettre en fonction ce que nous avions fait à la démonstration $1$."
   ]
  },
  {
   "cell_type": "markdown",
   "metadata": {},
   "source": [
    "Nous allons introduire une fonction permettant de calculer et stocker les solutions de base et les bases associées.\n",
    "\n",
    "Le concept de fonction en Julia est expliqué à la page https://docs.julialang.org/en/v1/manual/functions/index.html\n",
    "\n",
    "Une fonction est un objet qui prend en entrée une liste d'arguments et retourne une valeur."
   ]
  },
  {
   "cell_type": "code",
   "execution_count": null,
   "metadata": {},
   "outputs": [],
   "source": [
    "using Combinatorics\n",
    "using LinearAlgebra"
   ]
  },
  {
   "cell_type": "code",
   "execution_count": null,
   "metadata": {},
   "outputs": [],
   "source": [
    "function basic_sols(A, b)\n",
    "    m, n = size(A)\n",
    "    C = collect(combinations(1:n,m)) # every combination of n choose m\n",
    "    xb = Vector{Float64}()\n",
    "    basis = Vector{Int64}()\n",
    "    for i = 1:length(C)\n",
    "        B = A[:,C[i]]\n",
    "        if rank(B) == m\n",
    "            # A vector is by defaut column-oriented, so we use vcat\n",
    "            xb = vcat(xb, B\\b)\n",
    "            basis = vcat(basis, C[i])\n",
    "        end\n",
    "    end\n",
    "    return xb, basis\n",
    "end"
   ]
  },
  {
   "cell_type": "markdown",
   "metadata": {},
   "source": [
    "Limitons-nous aux bases réalisables"
   ]
  },
  {
   "cell_type": "code",
   "execution_count": null,
   "metadata": {},
   "outputs": [],
   "source": [
    "function feasible_basic_sols(A, b)\n",
    "    bases = []\n",
    "    sols = []\n",
    "    \n",
    "    m, n = size(A)\n",
    "    comb = collect(combinations(1:n,m)) # every combination of n choose m\n",
    "    for i = 1:length(comb)\n",
    "        B = A[:,comb[i]]\n",
    "        if rank(B) == m\n",
    "            y = B\\b # analytically equivalent to y = B^{-1}*b\n",
    "            if all( y .>= 0)\n",
    "                # A vector is by defaut column-oriented, so we use vcat\n",
    "                bases = vcat(bases, i)\n",
    "                sol = zeros(n)\n",
    "                sol[comb[i]] = y\n",
    "                sols = vcat(sols, [sol])\n",
    "            end\n",
    "        end\n",
    "    end\n",
    "    return sols, bases\n",
    "end"
   ]
  },
  {
   "cell_type": "markdown",
   "metadata": {},
   "source": [
    "Finalement, nous pouvons chercher la solution optimale en cherchant celle qui donne la plus petite valeur de la fonction objectif."
   ]
  },
  {
   "cell_type": "code",
   "execution_count": null,
   "metadata": {},
   "outputs": [],
   "source": [
    "function enumerate_solve(A,b,c)\n",
    "    feasible_basic_sols(A, b)\n",
    "    sols, B = feasible_basic_sols(A, b);\n",
    "    idx = 1\n",
    "    opt = c'*sols[1][1:2]\n",
    "    for i = 2:length(sols)\n",
    "        temp = c'*sols[i][1:2]\n",
    "        if (temp < opt)\n",
    "            idx = i\n",
    "            opt = temp\n",
    "        end\n",
    "    end\n",
    "    return sols[idx], opt\n",
    "end"
   ]
  },
  {
   "cell_type": "markdown",
   "metadata": {},
   "source": [
    "#### Exemple 3 page 25\n",
    "\\begin{align}\n",
    "    \\text{min} & -2x_1 - x_2 \\\\\n",
    "    \\text{sujet à } & x_1 + \\frac{8}{3}x_2 + x_3 = 4 \\\\\n",
    "            & x_1+x_2 + x_4 = 2 \\\\\n",
    "            & 2x_1 + x_5 = 3 \\\\\n",
    "            & x_1, x_2, x_3, x_4, x_5 \\geq 0\n",
    "\\end{align}"
   ]
  },
  {
   "cell_type": "code",
   "execution_count": null,
   "metadata": {},
   "outputs": [],
   "source": [
    "A = [1 8/3 1 0 0; 1 1 0 1 0; 2 0 0 0 1]\n",
    "b = [4.0, 2, 3]\n",
    "c = [-2.0, -1]\n",
    "xstar, vstar = enumerate_solve(A,b,c)"
   ]
  },
  {
   "cell_type": "markdown",
   "metadata": {},
   "source": [
    "Vérification des résultats: xstar est-elle vraiment une solution réalisable?"
   ]
  },
  {
   "cell_type": "code",
   "execution_count": null,
   "metadata": {},
   "outputs": [],
   "source": [
    "println(A*xstar - b)"
   ]
  },
  {
   "cell_type": "markdown",
   "metadata": {},
   "source": [
    "## Question 6\n",
    "\n",
    "Soit le PL\n",
    "$$\n",
    "\\min_{x \\in K} c^Tx.\n",
    "$$\n",
    "Si $K$ est un potyèdre, alors le PL admet au moins une solution optimale."
   ]
  },
  {
   "cell_type": "markdown",
   "metadata": {},
   "source": [
    "Réponse:\n",
    "\n",
    "Rappelons qu'un polyèdre est un polytope non vide fermé. Ainsi $K$ est non vide, et le PL admet au moins une solution réalisable. De plus, $K$ est borné, or un résultat d'analyse nous dis qu'une fonction continue sur un ensemble non vide fermé borné atteint son maximum et son minimum sur cet ensemble. La fonction linéaire $c^T x$, le théorème s'applique et la fonction atteint son minimum sur $K$. Il existe donc au moins une solution optimale."
   ]
  }
 ],
 "metadata": {
  "@webio": {
   "lastCommId": null,
   "lastKernelId": null
  },
  "kernelspec": {
   "display_name": "Julia 1.10.2",
   "language": "julia",
   "name": "julia-1.10"
  },
  "language_info": {
   "file_extension": ".jl",
   "mimetype": "application/julia",
   "name": "julia",
   "version": "1.10.2"
  }
 },
 "nbformat": 4,
 "nbformat_minor": 2
}
