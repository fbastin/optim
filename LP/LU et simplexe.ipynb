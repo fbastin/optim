{
 "cells": [
  {
   "cell_type": "markdown",
   "id": "6ae121ea",
   "metadata": {},
   "source": [
    "# Factorisation LU et simplexe"
   ]
  },
  {
   "cell_type": "code",
   "execution_count": 1,
   "id": "a329ddb7",
   "metadata": {},
   "outputs": [],
   "source": [
    "using LinearAlgebra"
   ]
  },
  {
   "cell_type": "markdown",
   "id": "008eeb56",
   "metadata": {},
   "source": [
    "## Considérons la matrice"
   ]
  },
  {
   "cell_type": "code",
   "execution_count": 2,
   "id": "fc3f7a86",
   "metadata": {},
   "outputs": [
    {
     "data": {
      "text/plain": [
       "5×6 Matrix{Float64}:\n",
       " 1.0  3.0  4.0  5.0  2.0  1.0\n",
       " 2.0  2.0  2.0  2.0  2.0  0.0\n",
       " 1.0  3.0  2.0  4.0  1.0  1.0\n",
       " 0.0  0.0  1.0  3.0  0.0  0.0\n",
       " 2.0  2.0  1.0  3.0  3.0  1.0"
      ]
     },
     "execution_count": 2,
     "metadata": {},
     "output_type": "execute_result"
    }
   ],
   "source": [
    "A = [ 1.0 3 4 5 2.0 1 ; 2 2 2 2 2 0 ; 1 3 2 4 1 1; 0 0 1 3 0 0; 2 2 1 3 3 1 ]"
   ]
  },
  {
   "cell_type": "code",
   "execution_count": 3,
   "id": "0868db30",
   "metadata": {},
   "outputs": [
    {
     "data": {
      "text/plain": [
       "(5, 6)"
      ]
     },
     "execution_count": 3,
     "metadata": {},
     "output_type": "execute_result"
    }
   ],
   "source": [
    "(m,n) = size(A)"
   ]
  },
  {
   "cell_type": "code",
   "execution_count": 4,
   "id": "1b69d0c3",
   "metadata": {},
   "outputs": [
    {
     "data": {
      "text/plain": [
       "5×5 Matrix{Float64}:\n",
       " 1.0  3.0  4.0  5.0  2.0\n",
       " 2.0  2.0  2.0  2.0  2.0\n",
       " 1.0  3.0  2.0  4.0  1.0\n",
       " 0.0  0.0  1.0  3.0  0.0\n",
       " 2.0  2.0  1.0  3.0  3.0"
      ]
     },
     "execution_count": 4,
     "metadata": {},
     "output_type": "execute_result"
    }
   ],
   "source": [
    "B = A[:,1:5]"
   ]
  },
  {
   "cell_type": "markdown",
   "id": "3e714569",
   "metadata": {},
   "source": [
    "$B$ est bien une base puisque la matrice est de rang plein."
   ]
  },
  {
   "cell_type": "code",
   "execution_count": 5,
   "id": "c1157b96",
   "metadata": {},
   "outputs": [
    {
     "data": {
      "text/plain": [
       "5"
      ]
     },
     "execution_count": 5,
     "metadata": {},
     "output_type": "execute_result"
    }
   ],
   "source": [
    "rank(B)"
   ]
  },
  {
   "cell_type": "markdown",
   "id": "81df9ab1",
   "metadata": {},
   "source": [
    "Nous pouvons caluler la matrice $A$ par rapport à cette base, comme dans le tableau du simplexe."
   ]
  },
  {
   "cell_type": "code",
   "execution_count": 6,
   "id": "9870b4ac",
   "metadata": {},
   "outputs": [
    {
     "data": {
      "text/plain": [
       "5×6 Matrix{Float64}:\n",
       "  1.0   0.0  0.0   0.0   0.0  -0.833333\n",
       "  0.0   1.0  0.0   0.0   0.0   0.5\n",
       " -0.0  -0.0  1.0  -0.0  -0.0  -0.333333\n",
       "  0.0   0.0  0.0   1.0   0.0   0.111111\n",
       "  0.0   0.0  0.0   0.0   1.0   0.555556"
      ]
     },
     "execution_count": 6,
     "metadata": {},
     "output_type": "execute_result"
    }
   ],
   "source": [
    "B\\A"
   ]
  },
  {
   "cell_type": "markdown",
   "id": "afe85377",
   "metadata": {},
   "source": [
    "La fonction `lu` permet d'obtenir la décomposition $LU$."
   ]
  },
  {
   "cell_type": "code",
   "execution_count": 7,
   "id": "a70953e8",
   "metadata": {},
   "outputs": [
    {
     "data": {
      "text/plain": [
       "LU{Float64, Matrix{Float64}}\n",
       "L factor:\n",
       "5×5 Matrix{Float64}:\n",
       " 1.0  0.0   0.0  0.0  0.0\n",
       " 0.5  1.0   0.0  0.0  0.0\n",
       " 0.5  1.0   1.0  0.0  0.0\n",
       " 0.0  0.0  -0.5  1.0  0.0\n",
       " 1.0  0.0   0.5  0.6  1.0\n",
       "U factor:\n",
       "5×5 Matrix{Float64}:\n",
       " 2.0  2.0   2.0   2.0   2.0\n",
       " 0.0  2.0   3.0   4.0   1.0\n",
       " 0.0  0.0  -2.0  -1.0  -1.0\n",
       " 0.0  0.0   0.0   2.5  -0.5\n",
       " 0.0  0.0   0.0   0.0   1.8"
      ]
     },
     "execution_count": 7,
     "metadata": {},
     "output_type": "execute_result"
    }
   ],
   "source": [
    "F1 = lu(B)"
   ]
  },
  {
   "cell_type": "markdown",
   "id": "1b8ce0eb",
   "metadata": {},
   "source": [
    "Vérifions que nous pouvons retrouver $B$."
   ]
  },
  {
   "cell_type": "code",
   "execution_count": 8,
   "id": "416485d0",
   "metadata": {},
   "outputs": [
    {
     "data": {
      "text/plain": [
       "5×5 Matrix{Float64}:\n",
       "  1.0  -1.0  -2.0  -3.0  0.0\n",
       " -1.0   1.0   2.0   3.0  0.0\n",
       "  0.0   0.0   0.0   0.0  0.0\n",
       "  0.0   0.0   0.0   0.0  0.0\n",
       "  0.0   0.0   0.0   0.0  0.0"
      ]
     },
     "execution_count": 8,
     "metadata": {},
     "output_type": "execute_result"
    }
   ],
   "source": [
    "F1.L*F1.U - B"
   ]
  },
  {
   "cell_type": "markdown",
   "id": "5eddb2dc",
   "metadata": {},
   "source": [
    "Le produit ne donne pas $B$! C'est qu'en pratique, la factorisation implique des opérations de pivotages à des fins de stabilité numérique. Le pivotage est stocké dans `F.p`."
   ]
  },
  {
   "cell_type": "code",
   "execution_count": 9,
   "id": "49a09c2d",
   "metadata": {},
   "outputs": [
    {
     "data": {
      "text/plain": [
       "5×5 Matrix{Float64}:\n",
       " 0.0  0.0  0.0  0.0  0.0\n",
       " 0.0  0.0  0.0  0.0  0.0\n",
       " 0.0  0.0  0.0  0.0  0.0\n",
       " 0.0  0.0  0.0  0.0  0.0\n",
       " 0.0  0.0  0.0  0.0  0.0"
      ]
     },
     "execution_count": 9,
     "metadata": {},
     "output_type": "execute_result"
    }
   ],
   "source": [
    "F1.L*F1.U-B[F1.p,1:5]"
   ]
  },
  {
   "cell_type": "markdown",
   "id": "06376e47",
   "metadata": {},
   "source": [
    "Afin d'éviter les complications techniques, nous allons désactiver le pivotage. Notons toutefois que ceci est fortement déconseillé du point de vue de la stabilité numérique."
   ]
  },
  {
   "cell_type": "code",
   "execution_count": 10,
   "id": "4480cfc5",
   "metadata": {},
   "outputs": [
    {
     "data": {
      "text/plain": [
       "LU{Float64, Matrix{Float64}}\n",
       "L factor:\n",
       "5×5 Matrix{Float64}:\n",
       " 1.0   0.0   0.0  0.0  0.0\n",
       " 2.0   1.0   0.0  0.0  0.0\n",
       " 1.0  -0.0   1.0  0.0  0.0\n",
       " 0.0  -0.0  -0.5  1.0  0.0\n",
       " 2.0   1.0   0.5  0.6  1.0\n",
       "U factor:\n",
       "5×5 Matrix{Float64}:\n",
       " 1.0   3.0   4.0   5.0   2.0\n",
       " 0.0  -4.0  -6.0  -8.0  -2.0\n",
       " 0.0   0.0  -2.0  -1.0  -1.0\n",
       " 0.0   0.0   0.0   2.5  -0.5\n",
       " 0.0   0.0   0.0   0.0   1.8"
      ]
     },
     "execution_count": 10,
     "metadata": {},
     "output_type": "execute_result"
    }
   ],
   "source": [
    "F1 = lu(B, Val(false); check = true)"
   ]
  },
  {
   "cell_type": "code",
   "execution_count": 11,
   "id": "fa5ba37c",
   "metadata": {},
   "outputs": [
    {
     "data": {
      "text/plain": [
       "5×5 Matrix{Float64}:\n",
       " 0.0  0.0  0.0  0.0  0.0\n",
       " 0.0  0.0  0.0  0.0  0.0\n",
       " 0.0  0.0  0.0  0.0  0.0\n",
       " 0.0  0.0  0.0  0.0  0.0\n",
       " 0.0  0.0  0.0  0.0  0.0"
      ]
     },
     "execution_count": 11,
     "metadata": {},
     "output_type": "execute_result"
    }
   ],
   "source": [
    "F1.L*F1.U-B"
   ]
  },
  {
   "cell_type": "markdown",
   "id": "2e5e05e6",
   "metadata": {},
   "source": [
    "Supposons que nous échangons la $3^e$ et la $6^e$ colonnes. La nouvelle base est"
   ]
  },
  {
   "cell_type": "code",
   "execution_count": 12,
   "id": "91c3e94c",
   "metadata": {},
   "outputs": [
    {
     "data": {
      "text/plain": [
       "5×5 Matrix{Float64}:\n",
       " 1.0  3.0  5.0  2.0  1.0\n",
       " 2.0  2.0  2.0  2.0  0.0\n",
       " 1.0  3.0  4.0  1.0  1.0\n",
       " 0.0  0.0  3.0  0.0  0.0\n",
       " 2.0  2.0  3.0  3.0  1.0"
      ]
     },
     "execution_count": 12,
     "metadata": {},
     "output_type": "execute_result"
    }
   ],
   "source": [
    "B = A[:, [1, 2, 4, 5, 6 ]]"
   ]
  },
  {
   "cell_type": "code",
   "execution_count": 13,
   "id": "68d23d71",
   "metadata": {},
   "outputs": [
    {
     "data": {
      "text/plain": [
       "5"
      ]
     },
     "execution_count": 13,
     "metadata": {},
     "output_type": "execute_result"
    }
   ],
   "source": [
    "rank(B)"
   ]
  },
  {
   "cell_type": "code",
   "execution_count": 14,
   "id": "09a7973c",
   "metadata": {},
   "outputs": [
    {
     "data": {
      "text/plain": [
       "LU{Float64, Matrix{Float64}}\n",
       "L factor:\n",
       "5×5 Matrix{Float64}:\n",
       " 1.0   0.0   0.0   0.0  0.0\n",
       " 2.0   1.0   0.0   0.0  0.0\n",
       " 1.0  -0.0   1.0   0.0  0.0\n",
       " 0.0  -0.0  -3.0   1.0  0.0\n",
       " 2.0   1.0  -1.0  -0.0  1.0\n",
       "U factor:\n",
       "5×5 Matrix{Float64}:\n",
       " 1.0   3.0   5.0   2.0   1.0\n",
       " 0.0  -4.0  -8.0  -2.0  -2.0\n",
       " 0.0   0.0  -1.0  -1.0   0.0\n",
       " 0.0   0.0   0.0  -3.0   0.0\n",
       " 0.0   0.0   0.0   0.0   1.0"
      ]
     },
     "execution_count": 14,
     "metadata": {},
     "output_type": "execute_result"
    }
   ],
   "source": [
    "F2 = lu(B, Val(false); check = true)"
   ]
  },
  {
   "cell_type": "markdown",
   "id": "868e4314",
   "metadata": {},
   "source": [
    "Comparons les facteurs de la première et de la seconde base."
   ]
  },
  {
   "cell_type": "code",
   "execution_count": 15,
   "id": "997c7c4e",
   "metadata": {},
   "outputs": [
    {
     "data": {
      "text/plain": [
       "5×5 Matrix{Float64}:\n",
       " 0.0  0.0  0.0  0.0  0.0\n",
       " 0.0  0.0  0.0  0.0  0.0\n",
       " 0.0  0.0  0.0  0.0  0.0\n",
       " 0.0  0.0  2.5  0.0  0.0\n",
       " 0.0  0.0  1.5  0.6  0.0"
      ]
     },
     "execution_count": 15,
     "metadata": {},
     "output_type": "execute_result"
    }
   ],
   "source": [
    "F1.L - F2.L"
   ]
  },
  {
   "cell_type": "code",
   "execution_count": 16,
   "id": "902e52dd",
   "metadata": {},
   "outputs": [
    {
     "data": {
      "text/plain": [
       "5×5 Matrix{Float64}:\n",
       " 0.0  0.0  -1.0   3.0   1.0\n",
       " 0.0  0.0   2.0  -6.0   0.0\n",
       " 0.0  0.0  -1.0   0.0  -1.0\n",
       " 0.0  0.0   0.0   5.5  -0.5\n",
       " 0.0  0.0   0.0   0.0   0.8"
      ]
     },
     "execution_count": 16,
     "metadata": {},
     "output_type": "execute_result"
    }
   ],
   "source": [
    "F1.U - F2.U"
   ]
  },
  {
   "cell_type": "markdown",
   "id": "4bc715fc",
   "metadata": {},
   "source": [
    "Nous pouvons remarquer que les trois premières lignes de la matrice triangulaire inférieure sont identitiques, mais pas les deux suivantes. De la même manière, les deux premières colonnes de la matrice triangulaire supérieure coïncident."
   ]
  },
  {
   "cell_type": "markdown",
   "id": "be247ac4",
   "metadata": {},
   "source": [
    "## Mise à jour des facteurs"
   ]
  },
  {
   "cell_type": "markdown",
   "id": "b2660b02",
   "metadata": {},
   "source": [
    "Essayons de former F2.U à partir de F1.U"
   ]
  },
  {
   "cell_type": "code",
   "execution_count": 17,
   "id": "14b0a673",
   "metadata": {},
   "outputs": [
    {
     "data": {
      "text/plain": [
       "5×5 Matrix{Float64}:\n",
       " 1.0   3.0   4.0   5.0   2.0\n",
       " 0.0  -4.0  -6.0  -8.0  -2.0\n",
       " 0.0   0.0  -2.0  -1.0  -1.0\n",
       " 0.0   0.0   0.0   2.5  -0.5\n",
       " 0.0   0.0   0.0   0.0   1.8"
      ]
     },
     "execution_count": 17,
     "metadata": {},
     "output_type": "execute_result"
    }
   ],
   "source": [
    "L = F1.L\n",
    "U = F1.U"
   ]
  },
  {
   "cell_type": "markdown",
   "id": "bde1beb2",
   "metadata": {},
   "source": [
    "Ajoutons $L^{-1}a_6$ (que nous obtenons normalement lors du pivotage lors du changement de base). et retirons la $3^e$ colonne du U."
   ]
  },
  {
   "cell_type": "code",
   "execution_count": 18,
   "id": "48ae8e33",
   "metadata": {},
   "outputs": [
    {
     "data": {
      "text/plain": [
       "5×5 Matrix{Float64}:\n",
       " 1.0   3.0   5.0   2.0   1.0\n",
       " 0.0  -4.0  -8.0  -2.0  -2.0\n",
       " 0.0   0.0  -1.0  -1.0   0.0\n",
       " 0.0   0.0   2.5  -0.5   0.0\n",
       " 0.0   0.0   0.0   1.8   1.0"
      ]
     },
     "execution_count": 18,
     "metadata": {},
     "output_type": "execute_result"
    }
   ],
   "source": [
    "U[:,3:4] = U[:,4:5] \n",
    "U[:,m] = F1.L\\A[:,6]\n",
    "U"
   ]
  },
  {
   "cell_type": "markdown",
   "id": "27f4af4a",
   "metadata": {},
   "source": [
    "Nous avons bien que le produit des deux facteurs donnent à présent la base recherchée."
   ]
  },
  {
   "cell_type": "code",
   "execution_count": 19,
   "id": "a72d8117",
   "metadata": {},
   "outputs": [
    {
     "data": {
      "text/plain": [
       "5×5 Matrix{Float64}:\n",
       " 0.0  0.0  0.0  0.0  0.0\n",
       " 0.0  0.0  0.0  0.0  0.0\n",
       " 0.0  0.0  0.0  0.0  0.0\n",
       " 0.0  0.0  0.0  0.0  0.0\n",
       " 0.0  0.0  0.0  0.0  0.0"
      ]
     },
     "execution_count": 19,
     "metadata": {},
     "output_type": "execute_result"
    }
   ],
   "source": [
    "B-L*U"
   ]
  },
  {
   "cell_type": "markdown",
   "id": "e066ae97",
   "metadata": {},
   "source": [
    "Nous devons annuler l'élément (4,3). En se rappelant que le produit $m^TB$ revient à construire une combinaison linéaire des lignes de $B$, nous construisons"
   ]
  },
  {
   "cell_type": "code",
   "execution_count": 20,
   "id": "8b13a907",
   "metadata": {},
   "outputs": [
    {
     "data": {
      "text/plain": [
       "1×5 Matrix{Float64}:\n",
       " 0.0  0.0  2.5  1.0  0.0"
      ]
     },
     "execution_count": 20,
     "metadata": {},
     "output_type": "execute_result"
    }
   ],
   "source": [
    "m1 = [ 0 0 2.5 1 0 ]"
   ]
  },
  {
   "cell_type": "code",
   "execution_count": 21,
   "id": "9fcb84af",
   "metadata": {},
   "outputs": [
    {
     "data": {
      "text/plain": [
       "5×5 Matrix{Float64}:\n",
       " 1.0  0.0  0.0  0.0  0.0\n",
       " 0.0  1.0  0.0  0.0  0.0\n",
       " 0.0  0.0  1.0  0.0  0.0\n",
       " 0.0  0.0  2.5  1.0  0.0\n",
       " 0.0  0.0  0.0  0.0  1.0"
      ]
     },
     "execution_count": 21,
     "metadata": {},
     "output_type": "execute_result"
    }
   ],
   "source": [
    "M = zeros(m,m)+I\n",
    "M[4,:] = m1\n",
    "M"
   ]
  },
  {
   "cell_type": "code",
   "execution_count": 22,
   "id": "35b4ced8",
   "metadata": {},
   "outputs": [
    {
     "data": {
      "text/plain": [
       "5×5 Matrix{Float64}:\n",
       " 1.0   3.0   5.0   2.0   1.0\n",
       " 0.0  -4.0  -8.0  -2.0  -2.0\n",
       " 0.0   0.0  -1.0  -1.0   0.0\n",
       " 0.0   0.0   0.0  -3.0   0.0\n",
       " 0.0   0.0   0.0   1.8   1.0"
      ]
     },
     "execution_count": 22,
     "metadata": {},
     "output_type": "execute_result"
    }
   ],
   "source": [
    "M*U"
   ]
  },
  {
   "cell_type": "code",
   "execution_count": 23,
   "id": "a3e7acf0",
   "metadata": {},
   "outputs": [
    {
     "data": {
      "text/plain": [
       "5×5 Matrix{Float64}:\n",
       " 1.0  0.0   0.0  0.0  0.0\n",
       " 0.0  1.0   0.0  0.0  0.0\n",
       " 0.0  0.0   1.0  0.0  0.0\n",
       " 0.0  0.0  -2.5  1.0  0.0\n",
       " 0.0  0.0   0.0  0.0  1.0"
      ]
     },
     "execution_count": 23,
     "metadata": {},
     "output_type": "execute_result"
    }
   ],
   "source": [
    "Minv = inv(M)"
   ]
  },
  {
   "cell_type": "markdown",
   "id": "2bf654f7",
   "metadata": {},
   "source": [
    "Nous n'avons pas besoin de stocker tout $M$. Il suffit de stocker le vecteur donnant la combinaison des deux lignes."
   ]
  },
  {
   "cell_type": "code",
   "execution_count": 24,
   "id": "0a508ee8",
   "metadata": {},
   "outputs": [
    {
     "data": {
      "text/plain": [
       "1×2 Matrix{Float64}:\n",
       " 2.5  1.0"
      ]
     },
     "execution_count": 24,
     "metadata": {},
     "output_type": "execute_result"
    }
   ],
   "source": [
    "p = 3\n",
    "m1 = [-U[p+1,p]/U[p,p] 1]"
   ]
  },
  {
   "cell_type": "code",
   "execution_count": 25,
   "id": "028899c5",
   "metadata": {},
   "outputs": [
    {
     "data": {
      "text/plain": [
       "1×3 Matrix{Float64}:\n",
       " 0.0  -3.0  0.0"
      ]
     },
     "execution_count": 25,
     "metadata": {},
     "output_type": "execute_result"
    }
   ],
   "source": [
    "U[p+1,p:m] = m1*U[p:p+1,p:m]"
   ]
  },
  {
   "cell_type": "markdown",
   "id": "60c0ad94",
   "metadata": {},
   "source": [
    "Nous mettons à jour le facteur $L$ en appliquant l'inverse du facteur $M$."
   ]
  },
  {
   "cell_type": "code",
   "execution_count": 26,
   "id": "f41fad34",
   "metadata": {},
   "outputs": [
    {
     "data": {
      "text/plain": [
       "3-element Vector{Float64}:\n",
       "  1.0\n",
       " -3.0\n",
       " -1.0000000000000002"
      ]
     },
     "execution_count": 26,
     "metadata": {},
     "output_type": "execute_result"
    }
   ],
   "source": [
    "L[p:m,p] = L[p:m,p:p+1]*[ 1 ; -m1[1]]"
   ]
  },
  {
   "cell_type": "markdown",
   "id": "41496695",
   "metadata": {},
   "source": [
    "Le produit des nouveaux facteurs $L$ et $U$ donnent toujours $B$."
   ]
  },
  {
   "cell_type": "code",
   "execution_count": 27,
   "id": "562d5586",
   "metadata": {},
   "outputs": [
    {
     "data": {
      "text/plain": [
       "5×5 Matrix{Float64}:\n",
       " 0.0  0.0  0.0  0.0  0.0\n",
       " 0.0  0.0  0.0  0.0  0.0\n",
       " 0.0  0.0  0.0  0.0  0.0\n",
       " 0.0  0.0  0.0  0.0  0.0\n",
       " 0.0  0.0  0.0  0.0  0.0"
      ]
     },
     "execution_count": 27,
     "metadata": {},
     "output_type": "execute_result"
    }
   ],
   "source": [
    "L*U - B"
   ]
  },
  {
   "cell_type": "markdown",
   "id": "b2dda013",
   "metadata": {},
   "source": [
    "En suivant le même raisonnement, nous construisons par la suite"
   ]
  },
  {
   "cell_type": "code",
   "execution_count": 28,
   "id": "c762694c",
   "metadata": {},
   "outputs": [
    {
     "data": {
      "text/plain": [
       "5×5 Matrix{Float64}:\n",
       " 1.0   3.0   5.0   2.0           1.0\n",
       " 0.0  -4.0  -8.0  -2.0          -2.0\n",
       " 0.0   0.0  -1.0  -1.0           0.0\n",
       " 0.0   0.0   0.0  -3.0           0.0\n",
       " 0.0   0.0   0.0   2.22045e-16   1.0"
      ]
     },
     "execution_count": 28,
     "metadata": {},
     "output_type": "execute_result"
    }
   ],
   "source": [
    "p = 4\n",
    "m1 = [-U[p+1,p]/U[p,p] 1]\n",
    "U[p+1,p:m] = m1*U[p:p+1,p:m]\n",
    "U"
   ]
  },
  {
   "cell_type": "markdown",
   "id": "f97980de",
   "metadata": {},
   "source": [
    "Nous retrouvons bien (aux erreurs numériques près) le facteur $U$ associé à la factorisation de la seconde base."
   ]
  },
  {
   "cell_type": "code",
   "execution_count": 29,
   "id": "fab13b9d",
   "metadata": {},
   "outputs": [
    {
     "data": {
      "text/plain": [
       "5×5 Matrix{Float64}:\n",
       " 0.0  0.0  0.0   0.0          0.0\n",
       " 0.0  0.0  0.0   0.0          0.0\n",
       " 0.0  0.0  0.0   0.0          0.0\n",
       " 0.0  0.0  0.0   0.0          0.0\n",
       " 0.0  0.0  0.0  -2.22045e-16  0.0"
      ]
     },
     "execution_count": 29,
     "metadata": {},
     "output_type": "execute_result"
    }
   ],
   "source": [
    "F2.U-U"
   ]
  },
  {
   "cell_type": "markdown",
   "id": "7166f6be",
   "metadata": {},
   "source": [
    "Nous mettons à nouveau à jour le facteur L."
   ]
  },
  {
   "cell_type": "code",
   "execution_count": 30,
   "id": "4867a7fd",
   "metadata": {},
   "outputs": [
    {
     "data": {
      "text/plain": [
       "2-element Vector{Float64}:\n",
       " 1.0\n",
       " 1.1102230246251565e-16"
      ]
     },
     "execution_count": 30,
     "metadata": {},
     "output_type": "execute_result"
    }
   ],
   "source": [
    "L[p:m,p] = L[p:m,p:p+1]*[ 1 ; -m1[1]]"
   ]
  },
  {
   "cell_type": "markdown",
   "id": "e64f04e6",
   "metadata": {},
   "source": [
    "Les deux facteurs ont bien la forme désirée."
   ]
  },
  {
   "cell_type": "code",
   "execution_count": 31,
   "id": "64476b0f",
   "metadata": {},
   "outputs": [
    {
     "data": {
      "text/plain": [
       "5×10 Matrix{Float64}:\n",
       " 1.0   0.0   0.0  0.0          0.0  1.0   3.0   5.0   2.0           1.0\n",
       " 2.0   1.0   0.0  0.0          0.0  0.0  -4.0  -8.0  -2.0          -2.0\n",
       " 1.0  -0.0   1.0  0.0          0.0  0.0   0.0  -1.0  -1.0           0.0\n",
       " 0.0  -0.0  -3.0  1.0          0.0  0.0   0.0   0.0  -3.0           0.0\n",
       " 2.0   1.0  -1.0  1.11022e-16  1.0  0.0   0.0   0.0   2.22045e-16   1.0"
      ]
     },
     "execution_count": 31,
     "metadata": {},
     "output_type": "execute_result"
    }
   ],
   "source": [
    "[L U]"
   ]
  },
  {
   "cell_type": "markdown",
   "id": "8119d9f7",
   "metadata": {},
   "source": [
    "Leur produit donne également la base recherchée."
   ]
  },
  {
   "cell_type": "code",
   "execution_count": 32,
   "id": "d9c534a5",
   "metadata": {},
   "outputs": [
    {
     "data": {
      "text/plain": [
       "5×5 Matrix{Float64}:\n",
       " 0.0  0.0  0.0  0.0  0.0\n",
       " 0.0  0.0  0.0  0.0  0.0\n",
       " 0.0  0.0  0.0  0.0  0.0\n",
       " 0.0  0.0  0.0  0.0  0.0\n",
       " 0.0  0.0  0.0  0.0  0.0"
      ]
     },
     "execution_count": 32,
     "metadata": {},
     "output_type": "execute_result"
    }
   ],
   "source": [
    "B - L*U"
   ]
  },
  {
   "cell_type": "markdown",
   "id": "baf79539",
   "metadata": {},
   "source": [
    "En pratique, la méthode devra être affinée pour tenir compte des pivots liés à la factorisation LU."
   ]
  }
 ],
 "metadata": {
  "kernelspec": {
   "display_name": "Julia 1.10.5",
   "language": "julia",
   "name": "julia-1.10"
  },
  "language_info": {
   "file_extension": ".jl",
   "mimetype": "application/julia",
   "name": "julia",
   "version": "1.10.5"
  }
 },
 "nbformat": 4,
 "nbformat_minor": 5
}
