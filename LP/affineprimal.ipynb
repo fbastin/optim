{
 "cells": [
  {
   "cell_type": "markdown",
   "metadata": {},
   "source": [
    "# Méthode affine primale"
   ]
  },
  {
   "cell_type": "code",
   "execution_count": null,
   "metadata": {},
   "outputs": [],
   "source": [
    "using LinearAlgebra\n",
    "using JuMP, HiGHS\n",
    "using Plots"
   ]
  },
  {
   "cell_type": "markdown",
   "metadata": {},
   "source": [
    "Considérons le problème jouet suivant."
   ]
  },
  {
   "cell_type": "code",
   "execution_count": null,
   "metadata": {},
   "outputs": [],
   "source": [
    "m = Model(HiGHS.Optimizer)\n",
    "@variable(m, x[1:2] >= 0)\n",
    "@constraint(m, c1, x[1]+x[2] <= 2)\n",
    "@constraint(m, c2, -x[1]+x[2] <= 1)\n",
    "@objective(m, Max, x[1] + 2x[2])\n",
    "\n",
    "print(m)"
   ]
  },
  {
   "cell_type": "code",
   "execution_count": null,
   "metadata": {},
   "outputs": [],
   "source": [
    "optimize!(m)"
   ]
  },
  {
   "cell_type": "code",
   "execution_count": null,
   "metadata": {},
   "outputs": [],
   "source": [
    "value.(x)"
   ]
  },
  {
   "cell_type": "code",
   "execution_count": null,
   "metadata": {},
   "outputs": [],
   "source": [
    "λ = -[dual(c1) ; dual(c2) ] # Nous prenons l'opposé comme il s'agit d'un problème de maximisation. "
   ]
  },
  {
   "cell_type": "markdown",
   "metadata": {},
   "source": [
    "Implémentons l'algorithme affine primal."
   ]
  },
  {
   "cell_type": "code",
   "execution_count": null,
   "metadata": {},
   "outputs": [],
   "source": [
    "mutable struct interiorPoint \n",
    "    \n",
    "    k:: Int64\n",
    "    K:: Int64\n",
    "    \n",
    "    x:: Vector  # current solution\n",
    "    \n",
    "    verbose\n",
    "    trace\n",
    "end\n",
    "\n",
    "primalAffine = interiorPoint(0, 100, [], false, [])"
   ]
  },
  {
   "cell_type": "code",
   "execution_count": null,
   "metadata": {},
   "outputs": [],
   "source": [
    "function (primalAffine:: interiorPoint)(x0:: Vector, c:: Vector, A:: Matrix, b:: Vector,\n",
    "                                        ϵ:: Float64 = 1e-6)\n",
    "\n",
    "    primalAffine.x = copy(x0)\n",
    "    n = length(primalAffine.x)\n",
    "\n",
    "    obj = dot(c,primalAffine.x)\n",
    "    Δc = abs(obj)+2\n",
    "    Δx = Inf*ones(n)\n",
    "\n",
    "    if (trace)\n",
    "        primalAffine.trace = [obj ; x0; zeros(n)]\n",
    "        s = zeros(n)\n",
    "    end\n",
    "    \n",
    "    γ = 0.995\n",
    "\n",
    "    k = 0   # iteration index\n",
    "    K = 100 # maximum number of iterations\n",
    "    \n",
    "    while ((Δc > ϵ*max(abs(obj),1)) && (k < K))\n",
    "        k += 1\n",
    "\n",
    "        X = diagm(primalAffine.x)\n",
    "        # Δx := −(I − XAt(AX2At)−1AX)Xc;\n",
    "        B = A*X\n",
    "        Δx = -(I-B'*((B*B')\\B))*X*c\n",
    "\n",
    "        if (trace)\n",
    "            s = diagm((primalAffine.x).^(-1))*Δx\n",
    "            primalAffine.trace[n+2:2*n+1,k] = s\n",
    "        end\n",
    "    \n",
    "        i = 0\n",
    "        xi = 0\n",
    "        for j = 1:n\n",
    "            if -Δx[j] > xi\n",
    "                xi = -Δx[j]\n",
    "                i = j\n",
    "            end\n",
    "        end\n",
    "        if (i == 0)\n",
    "            println(\"Problème non borné!\")\n",
    "            break;\n",
    "        end\n",
    "        α = γ/xi\n",
    "        newx = primalAffine.x+α*X*Δx\n",
    "        newobj = dot(c, newx)\n",
    "        Δc = obj-newobj\n",
    "        obj = newobj\n",
    "        primalAffine.x = newx\n",
    "\n",
    "        if (trace)\n",
    "            primalAffine.trace = hcat(primalAffine.trace, [obj ; newx; zeros(n)])\n",
    "        end\n",
    "\n",
    "    end\n",
    "    \n",
    "    primalAffine.k = k\n",
    "    if (trace)\n",
    "        # For simplicity, to avoid additional computations, we simply copy the last value of s\n",
    "        primalAffine.trace[n+2:2*n+1,k+1] = s\n",
    "\n",
    "        return (primalAffine.x).*s\n",
    "    end\n",
    "\n",
    "end"
   ]
  },
  {
   "cell_type": "markdown",
   "metadata": {},
   "source": [
    "## Exemple"
   ]
  },
  {
   "cell_type": "code",
   "execution_count": null,
   "metadata": {},
   "outputs": [],
   "source": [
    "c = [-1; -2; 0; 0]\n",
    "A = [1 1 1 0; -1 1 0 1]\n",
    "b = [2; 1]"
   ]
  },
  {
   "cell_type": "code",
   "execution_count": null,
   "metadata": {},
   "outputs": [],
   "source": [
    "# Point initial\n",
    "x0 = [0.5; 0.5; 1; 1]\n",
    "trace = true\n",
    "\n",
    "slack = primalAffine(x0, c, A, b)\n",
    "\n",
    "println(slack)"
   ]
  },
  {
   "cell_type": "code",
   "execution_count": null,
   "metadata": {},
   "outputs": [],
   "source": [
    "primalAffine.trace"
   ]
  },
  {
   "cell_type": "code",
   "execution_count": null,
   "metadata": {},
   "outputs": [],
   "source": [
    "using DelimitedFiles\n",
    "\n",
    "open(\"trace.txt\", \"w\") do f\n",
    "    writedlm(f, primalAffine.trace)\n",
    "end"
   ]
  },
  {
   "cell_type": "code",
   "execution_count": null,
   "metadata": {},
   "outputs": [],
   "source": [
    "k = primalAffine.k"
   ]
  },
  {
   "cell_type": "code",
   "execution_count": null,
   "metadata": {},
   "outputs": [],
   "source": [
    "default(size=(600,600), fc=:heat)\n",
    "x, y = 0:0.02:2.0, 0:0.02:2.0\n",
    "z = Surface((x,y)->dot(c[1:2],[x,y]), x, y)\n",
    "Plots.contour(x,y,z, linealpha = 0.2, levels=1000)\n",
    "\n",
    "plot!(xlims = (0.0,  2.0), ylims = (0.0, 2.0))\n",
    "plot!(x -> 2-x, color = :red, linewidth = 2, label = \"Contrainte 1\")\n",
    "plot!(x -> 1+x, color = :blue, linewidth = 2, label = \"Contrainte 2\")\n",
    "plot!(primalAffine.trace[2,:], primalAffine.trace[3,:], lw = 3, color = :green)\n",
    "scatter!(primalAffine.trace[2,:], primalAffine.trace[3,:], markersize = 4, color = :grey, label = \"Itérés\")"
   ]
  },
  {
   "cell_type": "code",
   "execution_count": null,
   "metadata": {},
   "outputs": [],
   "source": [
    "iterprimal = primalAffine.trace[2:5,:]\n",
    "iterdual = primalAffine.trace[6:9,:]\n",
    "slackness = zeros(4,k+1)\n",
    "for i = 1:k+1\n",
    "    slackness[:,i] = iterprimal[:,i].*iterdual[:,i]\n",
    "end\n",
    "slackness"
   ]
  },
  {
   "cell_type": "markdown",
   "metadata": {},
   "source": [
    "Regardons l'évolution des écarts de complémentarité."
   ]
  },
  {
   "cell_type": "code",
   "execution_count": null,
   "metadata": {},
   "outputs": [],
   "source": [
    "plot([ norm(slackness[:,i]) for i = 1:8 ], label = \"Slackness\")"
   ]
  },
  {
   "cell_type": "markdown",
   "metadata": {},
   "source": [
    "## Exemple 2: le problème du fermier"
   ]
  },
  {
   "cell_type": "markdown",
   "metadata": {},
   "source": [
    "Problème donné dans Birge et Louveaux, \"Introduction to Stochastic Programming\", chapitre 1."
   ]
  },
  {
   "cell_type": "code",
   "execution_count": null,
   "metadata": {},
   "outputs": [],
   "source": [
    "c = [ 150 ; 230 ; 260 ; 238 ; 210 ; -170 ; -150 ; -36 ; -10; 0 ; 0 ; 0 ; 0 ; 0]\n",
    "A = [ 1 1 1 0 0 0 0 0 0 1 0 0 0 0 ;\n",
    "      2.5 0 0 1 0 -1 0 0 0 0 -1 0 0 0 ;\n",
    "      0 3 0 0 1 0 -1 0 0 0 0 -1 0 0 ;\n",
    "      0 0 -20 0 0 0 0 1 1 0 0 0 1 0;\n",
    "      0 0 0 0 0 0 0 1 0 0 0 0 0 1]\n",
    "b = [ 500 ; 200 ; 240 ; 0 ; 6000 ]"
   ]
  },
  {
   "cell_type": "code",
   "execution_count": null,
   "metadata": {},
   "outputs": [],
   "source": [
    "x0 = [ 100 ; 100 ; 100 ; 50 ; 50 ; 50 ; 50 ; 500 ; 500 ]"
   ]
  },
  {
   "cell_type": "code",
   "execution_count": null,
   "metadata": {},
   "outputs": [],
   "source": [
    "A[:,1:9]*x0-b"
   ]
  },
  {
   "cell_type": "code",
   "execution_count": null,
   "metadata": {},
   "outputs": [],
   "source": [
    "x0 = [ x0 ; 200 ; 50 ; 60 ; 1000; 5500]"
   ]
  },
  {
   "cell_type": "code",
   "execution_count": null,
   "metadata": {},
   "outputs": [],
   "source": [
    "A*x0"
   ]
  },
  {
   "cell_type": "code",
   "execution_count": null,
   "metadata": {},
   "outputs": [],
   "source": [
    "slack = primalAffine(x0, c, A, b)\n",
    "\n",
    "println(slack)"
   ]
  },
  {
   "cell_type": "code",
   "execution_count": null,
   "metadata": {},
   "outputs": [],
   "source": [
    "primalAffine.x"
   ]
  },
  {
   "cell_type": "code",
   "execution_count": null,
   "metadata": {},
   "outputs": [],
   "source": [
    "primalAffine.k"
   ]
  },
  {
   "cell_type": "code",
   "execution_count": null,
   "metadata": {},
   "outputs": [],
   "source": []
  }
 ],
 "metadata": {
  "kernelspec": {
   "display_name": "Julia 1.8.0",
   "language": "julia",
   "name": "julia-1.8"
  },
  "language_info": {
   "file_extension": ".jl",
   "mimetype": "application/julia",
   "name": "julia",
   "version": "1.8.0"
  }
 },
 "nbformat": 4,
 "nbformat_minor": 2
}
