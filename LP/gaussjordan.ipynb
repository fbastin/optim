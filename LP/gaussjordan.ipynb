{
 "cells": [
  {
   "cell_type": "markdown",
   "id": "792627f3-3c11-4371-b0b2-c14ece94c850",
   "metadata": {},
   "source": [
    "# Gauss-Jordan elimination"
   ]
  },
  {
   "cell_type": "markdown",
   "id": "bff08456-50c8-4b90-a675-62c704a93890",
   "metadata": {},
   "source": [
    "Adapted from https://github.com/AugustoCL/gauss_jordan_elimination\n",
    "\n",
    "More information about Gauss-Jordan elimination can be found at https://people.math.harvard.edu/~knill/teaching/math19b_2011/handouts/lecture05.pdf"
   ]
  },
  {
   "cell_type": "code",
   "execution_count": 1,
   "id": "070083c5-373a-4894-89bb-0ade51765543",
   "metadata": {},
   "outputs": [],
   "source": [
    "using LinearAlgebra"
   ]
  },
  {
   "cell_type": "code",
   "execution_count": 2,
   "id": "2189f053",
   "metadata": {},
   "outputs": [
    {
     "data": {
      "text/plain": [
       "swap_rows (generic function with 1 method)"
      ]
     },
     "execution_count": 2,
     "metadata": {},
     "output_type": "execute_result"
    }
   ],
   "source": [
    "# Swap two lines of a matrix\n",
    "function swap_rows(A::Matrix, i::T, nlinha::T) where {T<:Integer}\n",
    "    for n ∈ (i+1):nlinha        # iterate over lines above to check if could be swap\n",
    "        if A[n,i] ≠ 0.0         # condition to swap row\n",
    "            L = copy(A[i,:])    # copy line to swap\n",
    "            A[i,:] = A[n,:]     # swap occur\n",
    "            A[n,:] = L\n",
    "            return true\n",
    "        end\n",
    "    end\n",
    "\n",
    "    return false\n",
    "end"
   ]
  },
  {
   "cell_type": "code",
   "execution_count": 3,
   "id": "4320ccb5-080b-4c9d-9123-542b14da8015",
   "metadata": {},
   "outputs": [
    {
     "data": {
      "text/plain": [
       "gauss_jordan (generic function with 2 methods)"
      ]
     },
     "execution_count": 3,
     "metadata": {},
     "output_type": "execute_result"
    }
   ],
   "source": [
    "# Solve a linear system using Gauss-Jordan elimination\n",
    "# The system can be underdetermined, but not overdetermined\n",
    "function gauss_jordan(A::Matrix{T}, override::Bool = true) where {T<:Number}\n",
    "    \n",
    "    B = override ? A : copy(A)\n",
    "    \n",
    "    # convert to float to avoid InexactError: Int64()\n",
    "    (T <: Integer) && (B = convert.(Float64, B))\n",
    "\n",
    "    # check if matrix is singular\n",
    "    m, n = size(B)\n",
    "    @assert m < n \"The number of rows must be less than the number of columns\"\n",
    "\n",
    "    # we record the basis index vector\n",
    "    basis = zeros(Int64, m)\n",
    "\n",
    "    k = 1\n",
    "    i = 1\n",
    "    \n",
    "    while (k < m+1) && (i < n)\n",
    "        pivot = true\n",
    "\n",
    "        # can we find a pivot element in the current row?\n",
    "        if B[k,i] == 0.0\n",
    "            if !swap_rows(B, k, m)\n",
    "                pivot = false\n",
    "            end\n",
    "        end\n",
    "\n",
    "        if pivot\n",
    "            basis[k] = i\n",
    "\n",
    "            @. B[k,:] = B[k,:] / B[k,i]\n",
    "\n",
    "            for j ∈ axes(B, 1)                          # iterate each line for each pivot column, except pivot line\n",
    "                if j ≠ k                                # jump pivot line\n",
    "                    @. B[j,:] = B[j,:] - B[k,:]*B[j,i]  # apply Gauss-Jordan elimination\n",
    "                end\n",
    "            end\n",
    "            k += 1\n",
    "        end\n",
    " \n",
    "        i += 1\n",
    "    end\n",
    "\n",
    "    @assert basis[m] ≠ 0 \"Matrix is not of full row rank.\"\n",
    "    \n",
    "    return B, basis\n",
    "end"
   ]
  },
  {
   "cell_type": "markdown",
   "id": "89b20c9e",
   "metadata": {},
   "source": [
    "## Examples"
   ]
  },
  {
   "cell_type": "code",
   "execution_count": 9,
   "id": "8f236a6f-8ae0-4d4b-a231-cc0c1897e4ce",
   "metadata": {},
   "outputs": [],
   "source": [
    "A = Float64[0 4 8 1  1 4\n",
    "            4 5 6 8  1 11\n",
    "            1 3 0 4  1 8\n",
    "            4 5 67 23 1 0];\n",
    "(m,n) = size(A)\n",
    "B, basis = gauss_jordan(A, false);"
   ]
  },
  {
   "cell_type": "code",
   "execution_count": 10,
   "id": "c542dda2",
   "metadata": {},
   "outputs": [
    {
     "data": {
      "text/plain": [
       "4-element Vector{Int64}:\n",
       " 1\n",
       " 2\n",
       " 3\n",
       " 4"
      ]
     },
     "execution_count": 10,
     "metadata": {},
     "output_type": "execute_result"
    }
   ],
   "source": [
    "basis"
   ]
  },
  {
   "cell_type": "code",
   "execution_count": 11,
   "id": "ff5b6d35",
   "metadata": {},
   "outputs": [
    {
     "data": {
      "text/plain": [
       "4-element Vector{Float64}:\n",
       "  0.0\n",
       "  0.0\n",
       "  1.7763568394002505e-15\n",
       " -3.552713678800501e-15"
      ]
     },
     "execution_count": 11,
     "metadata": {},
     "output_type": "execute_result"
    }
   ],
   "source": [
    "A[:,basis]*B[:,n]-A[:,n]"
   ]
  },
  {
   "cell_type": "code",
   "execution_count": 12,
   "id": "ee70026b",
   "metadata": {},
   "outputs": [
    {
     "data": {
      "text/plain": [
       "4×6 Matrix{Float64}:\n",
       " 1.0  0.0  0.0  0.0  -0.278899   -0.479633\n",
       " 0.0  1.0  0.0  0.0   0.277064    1.58569\n",
       " 0.0  0.0  1.0  0.0  -0.0275229  -0.409174\n",
       " 0.0  0.0  0.0  1.0   0.111927    0.930642"
      ]
     },
     "execution_count": 12,
     "metadata": {},
     "output_type": "execute_result"
    }
   ],
   "source": [
    "B"
   ]
  },
  {
   "cell_type": "code",
   "execution_count": 16,
   "id": "80ccc55b-64e6-4b8a-9e50-2ec19c5cf7e2",
   "metadata": {},
   "outputs": [],
   "source": [
    "A = Float64[0 4 8 0 1  1 4\n",
    "            4 5 6 0 8  1 11\n",
    "            1 3 0 0 4  1 8\n",
    "            4 5 67 0 23 1 0];\n",
    "B, basis = gauss_jordan(A, false);"
   ]
  },
  {
   "cell_type": "code",
   "execution_count": 17,
   "id": "47b85a48-4c68-4bef-983e-3d6acbb45178",
   "metadata": {},
   "outputs": [
    {
     "data": {
      "text/plain": [
       "4-element Vector{Float64}:\n",
       " -2.220446049250313e-16\n",
       "  0.0\n",
       "  0.0\n",
       " -4.440892098500626e-16"
      ]
     },
     "execution_count": 17,
     "metadata": {},
     "output_type": "execute_result"
    }
   ],
   "source": [
    "A[:,basis]*B[:,n]-A[:,n]"
   ]
  },
  {
   "cell_type": "code",
   "execution_count": 18,
   "id": "f12b06a0",
   "metadata": {},
   "outputs": [
    {
     "data": {
      "text/plain": [
       "4-element Vector{Int64}:\n",
       " 1\n",
       " 2\n",
       " 3\n",
       " 5"
      ]
     },
     "execution_count": 18,
     "metadata": {},
     "output_type": "execute_result"
    }
   ],
   "source": [
    "basis"
   ]
  },
  {
   "cell_type": "code",
   "execution_count": 15,
   "id": "b70dcae3-397e-4985-a860-c63922404dca",
   "metadata": {},
   "outputs": [
    {
     "ename": "LoadError",
     "evalue": "AssertionError: The number of rows must be less than the number of columns",
     "output_type": "error",
     "traceback": [
      "AssertionError: The number of rows must be less than the number of columns",
      "",
      "Stacktrace:",
      " [1] gauss_jordan(A::Matrix{Int64}, override::Bool)",
      "   @ Main .\\In[3]:12",
      " [2] top-level scope",
      "   @ In[15]:4"
     ]
    }
   ],
   "source": [
    "A = [ 1 2 \n",
    "    3 4\n",
    "    5 6 ]\n",
    "B, basis = gauss_jordan(A, false)"
   ]
  },
  {
   "cell_type": "code",
   "execution_count": null,
   "id": "e3befcbd-3753-47b8-a7ce-7e1a5cfb2bc7",
   "metadata": {},
   "outputs": [],
   "source": [
    "A = Float64[0 4 8 0 4\n",
    "            4 5 6 4 11\n",
    "            1 3 0  1 8\n",
    "            4 5 67 4 0];\n",
    "(m,n) = size(A)\n",
    "B, basis = gauss_jordan(A, false);"
   ]
  },
  {
   "cell_type": "code",
   "execution_count": null,
   "id": "22b5a805",
   "metadata": {},
   "outputs": [],
   "source": [
    "A = Float64[0 4 8 1  1 4\n",
    "            4 5 6 8  1 11\n",
    "            1 3 0 4  1 8\n",
    "            4 5 67 23 1 0];\n",
    "(m,n) = size(A)\n",
    "B, basis = gauss_jordan(A, true);"
   ]
  },
  {
   "cell_type": "code",
   "execution_count": null,
   "id": "cf2b2961",
   "metadata": {},
   "outputs": [],
   "source": [
    "A"
   ]
  },
  {
   "cell_type": "code",
   "execution_count": null,
   "id": "cc6e8a11",
   "metadata": {},
   "outputs": [],
   "source": [
    "A = Float64[0 4 8 1 1\n",
    "            4 5 6 8 1\n",
    "            1 3 0 4 1\n",
    "            4 5 67 23 1 ];\n",
    "b = [ 4 ; 11 ; 8; 0]\n",
    "B, basis = gauss_jordan([A b]);"
   ]
  },
  {
   "cell_type": "code",
   "execution_count": null,
   "id": "fb45def0",
   "metadata": {},
   "outputs": [],
   "source": [
    "[A b]"
   ]
  },
  {
   "cell_type": "code",
   "execution_count": null,
   "id": "8db65a56",
   "metadata": {},
   "outputs": [],
   "source": [
    "B"
   ]
  },
  {
   "cell_type": "code",
   "execution_count": null,
   "id": "186bd2d1",
   "metadata": {},
   "outputs": [],
   "source": []
  }
 ],
 "metadata": {
  "kernelspec": {
   "display_name": "Julia 1.10.5",
   "language": "julia",
   "name": "julia-1.10"
  },
  "language_info": {
   "file_extension": ".jl",
   "mimetype": "application/julia",
   "name": "julia",
   "version": "1.10.5"
  }
 },
 "nbformat": 4,
 "nbformat_minor": 5
}
