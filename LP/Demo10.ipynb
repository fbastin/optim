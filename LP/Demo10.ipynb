{
 "cells": [
  {
   "cell_type": "markdown",
   "metadata": {},
   "source": [
    "# Démonstration 10"
   ]
  },
  {
   "cell_type": "markdown",
   "metadata": {},
   "source": [
    "## 1. Algorithmes de points intérieurs"
   ]
  },
  {
   "cell_type": "code",
   "execution_count": null,
   "metadata": {},
   "outputs": [],
   "source": [
    "using LinearAlgebra\n",
    "using JuMP, HiGHS"
   ]
  },
  {
   "cell_type": "code",
   "execution_count": null,
   "metadata": {},
   "outputs": [],
   "source": [
    "# Klee-Minty problem\n",
    "\n",
    "n = 3\n",
    "\n",
    "m = Model(HiGHS.Optimizer)\n",
    "\n",
    "@variable(m, x[1:n] >= 0)\n",
    "for i in 1:n\n",
    "   @constraint(m, 2*sum(10^(i-j)*x[j] for j = 1:i-1)+x[i] <= 100^(i-1))\n",
    "end\n",
    "@objective(m, Max, sum(10^(n-j)*x[j] for j = 1:n))\n",
    "\n",
    "print(m)"
   ]
  },
  {
   "cell_type": "code",
   "execution_count": null,
   "metadata": {},
   "outputs": [],
   "source": [
    "status = optimize!(m)"
   ]
  },
  {
   "cell_type": "code",
   "execution_count": null,
   "metadata": {},
   "outputs": [],
   "source": [
    "value.(x)"
   ]
  },
  {
   "cell_type": "code",
   "execution_count": null,
   "metadata": {},
   "outputs": [],
   "source": [
    "c = [[-10^(n-i) for i = 1:n]; [0 for i = 1:n]]\n",
    "b = [100^(i-1) for i = 1:n]\n",
    "A = [1 [0*i for i in 1:n-1]']\n",
    "for i = 2:n\n",
    "    A = [A; [[2*10^(i-j) for j in 1:i-1]' 1 [0 for i = 1:n-i]']]\n",
    "end\n",
    "B = A\n",
    "A = [A I]\n",
    "x = [0.5]\n",
    "for i = 2:n\n",
    "    x = [ x ; (0.5*b[i]-dot(A[i,1:i-1],x[1:i-1]))]\n",
    "end\n",
    "x = [ x; b-B*x ]\n",
    "A*x"
   ]
  },
  {
   "cell_type": "code",
   "execution_count": null,
   "metadata": {},
   "outputs": [],
   "source": [
    "x"
   ]
  },
  {
   "cell_type": "code",
   "execution_count": null,
   "metadata": {},
   "outputs": [],
   "source": [
    "m, n = size(A)\n",
    "y = [-1 for i = 1:m]\n",
    "s = c-A'y"
   ]
  },
  {
   "cell_type": "code",
   "execution_count": null,
   "metadata": {},
   "outputs": [],
   "source": [
    "function primaldual_path_following(c,A,b,x,y,s, μ = 100, α = 0.1, γ=0.1, epsilon=1e-9, max_iter=1000)\n",
    "\n",
    "    for ν = 1:10\n",
    "\n",
    "        iter = max_iter\n",
    "\n",
    "        for k = 1:max_iter\n",
    "            \n",
    "            X = diagm(x)\n",
    "            S = diagm(s)\n",
    "        H = [ zeros(n,n) A' I ;\n",
    "              A zeros(m,m) zeros(m,n);\n",
    "              S zeros(n,m) X ]\n",
    "        t = [ zeros(n) ; zeros(m); μ*ones(n)-X*S*ones(n) ]\n",
    "        Δ = H\\t\n",
    "        α = 0.01\n",
    "        new = [x; y; s]+α*Δ\n",
    "        x = new[1:n]\n",
    "        y = new[n+1:n+m]\n",
    "        s = new[n+m+1:2*n+m]\n",
    "        if (norm(x.*s-μ*ones(n)) <= 1/10^(ν/2))\n",
    "            iter = k\n",
    "            break\n",
    "        end\n",
    "\n",
    "        end\n",
    "\n",
    "        println(ν, \". \", iter, \" \", x.*s)\n",
    "        μ = γ*μ\n",
    "\n",
    "    end\n",
    "    \n",
    "    return x\n",
    "end"
   ]
  },
  {
   "cell_type": "code",
   "execution_count": null,
   "metadata": {},
   "outputs": [],
   "source": [
    "primaldual_path_following(c,A,b,x,y,s)"
   ]
  },
  {
   "cell_type": "markdown",
   "metadata": {},
   "source": [
    "On converge, mais l'implémentation n'est pas très efficace."
   ]
  },
  {
   "cell_type": "markdown",
   "metadata": {},
   "source": [
    "## Question 2\n",
    "\n",
    "Nous considérons un problème de programmation linéaire sous forme standard et\n",
    "nous supposons que les ensemble réalisables du primal et du dual ont des\n",
    "intérieurs non vides. Montrer que si l'ensemble réalisable du primal est borné,\n",
    "alors l'ensemble réalisable du dual ne peut pas être borné. Est-il possible\n",
    "d'avoir des ensembles réalisables non bornés pour le primal et le dual?\n",
    "\n",
    "Soit $\\left(x(\\mu), y(\\mu), s(\\mu) \\right)$, $0<\\mu<\\infty$. Si l'ensemble réalisable de primal\n",
    "est borné, $x(\\mu)$ converge vers le centre analytique de l'ensemble réalisable\n",
    "du primal. Dès lors, $x(\\mu)$ tend vers un certain $x^{\\star} $ pour $\\mu \\to\n",
    "\\infty$, avec $x^{\\star} $ fini.  D'autre part, on sait que\n",
    "\n",
    "\\begin{align*}\n",
    "c^{t} x(\\mu) - b^{t} y(\\mu) = \\eta \\mu\n",
    "\\end{align*}\n",
    "Dès lors, pour $\\mu \\to \\infty$, \n",
    "\\begin{align*}\n",
    "\\lim_{\\mu\\to \\infty} b^t y(\\mu) = c^t x^{\\star} - \\infty = - \\infty\n",
    "\\end{align*}\n",
    "Dès lors, $y(\\mu)$ ne peut pas converger vers un certain $y^{\\star} $ fini comme $\\mu$ tend vers l'infini. \n",
    "Or ce serait le cas si l'ensemble dual était borné.\n",
    "\n",
    "On peut avoir des ensembles non bornés pour le primal et le dual. Considérions la paire\n",
    "\\begin{align*}\n",
    "\\min\\ & x_1 + x_2 \\\\\n",
    "\\text{s.à. } & x_1 = 1,\\\\\n",
    "& x_1, x_2 \\ge 0.\n",
    "\\end{align*}\n",
    "\\begin{align*}\n",
    "\\max\\ & \\lambda \\\\\n",
    "\\text{s.à. } & \\lambda \\le 1.\n",
    "\\end{align*}\n",
    "Les deux ensembles ont des intérieurs non vides et ne sont pas bornés."
   ]
  },
  {
   "cell_type": "markdown",
   "metadata": {},
   "source": [
    "# Question 3"
   ]
  },
  {
   "cell_type": "markdown",
   "metadata": {},
   "source": [
    "Considérons le polyhèdre $P = \\{ x \\,|\\, Ax \\leq b \\}$. Supposons que $P$ est borné et que son intérieur est non-vide, ou en d'autres termes, qu'il existe $x$ tel que $Ax < b$.\n",
    "\n",
    "- Écrivez la fonction potentiel à minimiser pour trouver le centre analytique de $P$.\n",
    "- En annulant le gradient de la fonction potentiel, écrivez le système non-linéaire à résoudre pour trouver le centre analytique.\n",
    "- Le système obtenu au point précédent peut être résolu à l'aide de la méthode de Newton. Écrivez une itération de la résolution du système pas la méthode de Newton."
   ]
  },
  {
   "cell_type": "markdown",
   "metadata": {},
   "source": [
    "Notons $a_i^T$ la $i^e$ ligne de $A$. La contrainte $Ax \\leq b$ peut se réécrire\n",
    "$$\n",
    "b - a_i^Tx \\geq 0,\\ i = 1,\\ldots,m,\n",
    "$$\n",
    "en supposant que $A \\in R^{m \\times n}$.\n",
    "\n",
    "La fonction potentiel à minimiser s'écrit dès lors\n",
    "$$\n",
    "\\Psi(x) = -\\sum_{i = 1}^m \\log(b_i-a_i^Tx)\n",
    "$$\n",
    "Son gradient s'écrit\n",
    "$$\n",
    "\\nabla_x \\Psi(x) =\n",
    "\\begin{pmatrix}\n",
    " \\sum_{i = 1}^m \\frac{a_{i1}}{b_i-a_i^Tx} \\\\\n",
    " \\sum_{i = 1}^m \\frac{a_{i2}}{b_i-a_i^Tx} \\\\\n",
    "\\vdots \\\\\n",
    " \\sum_{i = 1}^m \\frac{a_{in}}{b_i-a_i^Tx}\n",
    "\\end{pmatrix}\n",
    "=\n",
    " \\sum_{i = 1}^m \\frac{a_{i}}{b_i-a_i^Tx} \\\\\n",
    "= A^T\\begin{pmatrix}\n",
    "\\frac{1}{b-a_1x} \\\\\n",
    "\\frac{1}{b-a_2x} \\\\\n",
    "\\vdots \\\\\n",
    "\\frac{1}{b-a_mx}\n",
    "\\end{pmatrix}\n",
    "$$\n",
    "que nous cherchons à annuler.\n",
    "En posant\n",
    "$$\n",
    "s_i = b_i - a_i^Tx, \\quad y_i = \\frac{1}{s_i},\\ i = 1,\\ldots,m,\n",
    "$$\n",
    "le système peut se réécrire comme\n",
    "$$\n",
    "A^Ty = 0,\\ \\textrm{avec}\\ y = \\begin{pmatrix} y_1 \\\\ \\vdots \\\\ y_m \\end{pmatrix}.\n",
    "$$\n",
    "\n",
    "Pour obtenir l'itération de Newton, nous devons tout d'abord écrire la matrice hessienne de la fonction potentiel:\n",
    "$$\n",
    "\\nabla^2_{xx} \\Psi(x) =\n",
    "\\sum_{i = 1}^m \\frac{a_{i}a_i^T}{(b_i-a_i^Tx)^2} = A^TS^{-2}A = A^TY^2A,\n",
    "$$\n",
    "Une itération de Newton consiste à prendre\n",
    "$$\n",
    "x^+ = x - (\\nabla^2_{xx} \\Psi(x))^{-1}\\nabla_x \\Psi(x) = x - (A^TY^2A)^{-1}A^Ty.\n",
    "$$"
   ]
  },
  {
   "cell_type": "markdown",
   "metadata": {},
   "source": [
    "# Implémentation de la Méthode de Mehrotra\n",
    "\n",
    "Arnaud L'Heureux, Décembre 2019\n",
    "\n",
    "Étant donné la paire primale-duale d'un problème de programmation linéaire : \n",
    "$$\\min_x c^Tx$$\n",
    "$$\\text{s.à.}\\ \\ Ax = b$$\n",
    "$$x \\geq 0$$\n",
    "et\n",
    "$$\\max_{\\lambda,s} b^T\\lambda$$\n",
    "$$\\text{s.à.}\\ \\ A^T\\lambda + s = c$$\n",
    "$$s \\geq 0$$\n",
    "Nous avons les conditons KKT suivantes qui doivent être satisfaites pour que la solution au problème soit optimale:\n",
    "$$Ax = b$$\n",
    "$$A^T\\lambda + s = c$$\n",
    "$$XSe = 0$$\n",
    "$$(x,s) \\geq 0$$\n",
    "où $X$ et $S$ sont des matrices diagonales ayant $x$ et $s$ comme diagonales. La condition $Ax = b$, nous indique que la solution est réalisable pour le primal alors que $A^T\\lambda + s = c$ implique que le dual est réalisable. Tout point réalisable pour le primal ainsi que le dual satisfaisant la condition $XSe = 0$ implique que ce point est optimal pour le primal et le dual."
   ]
  },
  {
   "cell_type": "code",
   "execution_count": null,
   "metadata": {},
   "outputs": [],
   "source": [
    "using LinearAlgebra\n",
    "\n",
    "# Heuristique proposée par Mehrotra\n",
    "function genStart(A:: Matrix, b:: Vector, c:: Vector)\n",
    "    x̅ = A'*((A*A')\\b)\n",
    "    λ̅ = (A*A')\\A*c\n",
    "    s̅ = c - A'*λ̅\n",
    "\n",
    "    δx = max(-1.5*minimum(x̅),0)\n",
    "    δs = max(-1.5*minimum(s̅),0)\n",
    "\n",
    "    # δx et δs sont des scalaires, et doivent être ajoutés à chaque composante, c'est pourquoi nous utilisons .+\n",
    "    num = dot(x̅ .+ δx, s̅ .+ δs)\n",
    "    δx̅ = δx + num/(2*sum(s̅ .+ δs))\n",
    "    δs̅ = δs + num/(2*sum(x̅ .+ δx))\n",
    "\n",
    "    return (x̅ .+ δx̅, λ̅ , s̅ .+ δs̅)\n",
    "end"
   ]
  },
  {
   "cell_type": "markdown",
   "metadata": {},
   "source": [
    "L'algorithme de Mehrotra suit."
   ]
  },
  {
   "cell_type": "code",
   "execution_count": null,
   "metadata": {},
   "outputs": [],
   "source": [
    "using SparseArrays\n",
    "\n",
    "function Mehrotra(A:: Matrix, b:: Vector, c:: Vector,\n",
    "                  ε:: Float64, maxIter:: Int64 = 1000, sparseMode:: Bool = True)\n",
    "\n",
    "    (m,n) = size(A)  # calcul de la dimension de A\n",
    "    \n",
    "    if (sparseMode)\n",
    "        temp = sparse(A)\n",
    "        density = nnz(temp)/(m*n)\n",
    "       \n",
    "        # Si la densité de A est inférieure à 20%, nous travaillons avec une matrice creuse\n",
    "        if (density < .2)\n",
    "            A = sparse(A)\n",
    "            b = sparse(b)\n",
    "            c = sparse(c)\n",
    "        end\n",
    "    end\n",
    "\n",
    "    # Calcul du point de départ\n",
    "    res = genStart(A,b,c)\n",
    "    x = res[1]\n",
    "    λ = res[2]\n",
    "    s = res[3]\n",
    "    \n",
    "    iter = 0\n",
    "\n",
    "    # Nous utilisons le critère d'arrêt par défaut dans le test de boucle.\n",
    "    # Le test de convergence se fera en interne, et nous pourrons alors quitter la fonction.\n",
    "    while (iter < maxIter)\n",
    "        iter += 1\n",
    "        \n",
    "        # Calcul des résidus\n",
    "        rp = A*x-b\n",
    "        rd = A'*λ + s - c\n",
    "        rc = x .* s\n",
    "\n",
    "        # μ est aligné sur le saut de dualité\n",
    "        μ = dot(x,s)/n\n",
    "        \n",
    "        # Nous testons la qualité de la solution\n",
    "        if (max(μ, norm(rd), norm(rp)) < ε)\n",
    "            return (x,λ,s)\n",
    "        end\n",
    "        \n",
    "        # Calcul de M = AXS^-1A' et du factory de Cholesky R de M (M=R'R)\n",
    "        M = A*diagm(x./s)*A'\n",
    "        R = cholesky(M).U\n",
    "\n",
    "        # Calcul des termes de droite\n",
    "        td = rp - A*((rc - x.*rd)./s)\n",
    "        \n",
    "        # Étape prédictrice\n",
    "        Δλ_p = R\\(R'\\td)\n",
    "        Δs_p = rd - A'*Δλ_p\n",
    "        Δx_p = (rc - x.*Δs_p)./s\n",
    " \n",
    "        # Calculs des longueur de pas potentiels les plus longs\n",
    "        # Pas primal\n",
    "        α_p = 1/maximum([1 ; Δx_p ./ x])\n",
    "        # Pas dual\n",
    "        α_d = 1/maximum([1 ; Δs_p ./ s])\n",
    "        \n",
    "        # Paramètre centralisant\n",
    "        σ = (dot(x - α_p*Δx_p, s - α_d*Δs_p)/(n*μ))^3\n",
    "        \n",
    "        # Étape correctrice\n",
    "        rc = rc .- σ*μ + Δx_p.*Δs_p\n",
    "        td = rp - A*((rc - x.*rd)./s)\n",
    "        \n",
    "        Δλ_c = R\\(R'\\td)\n",
    "        Δs_c = rd - A'*Δλ_c\n",
    "        Δx_c = (rc - x.*Δs_c)./s\n",
    "        \n",
    "        η = max(0.995, 1-μ)\n",
    "        \n",
    "        # Pas primal\n",
    "        α_p = η/maximum([η ; Δx_c./x])\n",
    "        # Pas dual\n",
    "        α_d = η/maximum([η ; Δs_c./s])\n",
    "        \n",
    "        # Mise à jour da la solution\n",
    "        x -= α_p*Δx_c\n",
    "        λ -= α_d*Δλ_c\n",
    "        s -= α_d*Δs_c\n",
    "    end\n",
    "end"
   ]
  },
  {
   "cell_type": "markdown",
   "metadata": {},
   "source": [
    "### Exemple\n",
    "\n",
    "Soit le problème:\n",
    "\\begin{align*}\n",
    "\\min z\\ &= 5x_1 + 2x_2 -4x_3 \\\\\n",
    "\\text{s.à. } & 6x_1 + x_2 - 2x_3 - x_4 = 5 \\\\\n",
    "& x_1 + x_2 + x_3 + x_5 = 4 \\\\\n",
    "& 6x_1 + 4x_2 -2x_3 - x_6= 10 \\\\\n",
    "& x_i \\geq 0, \\ i = 1,\\ldots,6.\n",
    "\\end{align*}"
   ]
  },
  {
   "cell_type": "code",
   "execution_count": null,
   "metadata": {},
   "outputs": [],
   "source": [
    "A = [6 1 -2 -1 0 0; 1 1 1 0 1 0; 6 4 -2 0 0 -1]\n",
    "b = [5; 4; 10]\n",
    "c = [5; 2; -4; 0; 0; 0]"
   ]
  },
  {
   "cell_type": "markdown",
   "metadata": {},
   "source": [
    "Nous commençons par trouver un point de départ $(x_0, \\lambda_0, s_0)$."
   ]
  },
  {
   "cell_type": "code",
   "execution_count": null,
   "metadata": {},
   "outputs": [],
   "source": [
    "start = genStart(A,b,c)\n",
    "\n",
    "println(A*start[1]-b)\n",
    "println(A'*start[2]-c)\n",
    "println(start[1], \" \", start[3])"
   ]
  },
  {
   "cell_type": "markdown",
   "metadata": {},
   "source": [
    "Nous voyons que seules les contraintes de non-négativité sont satisfaites, mais ni $x_0$, ni $\\lambda_0$, ne sont réalisables.\n",
    "\n",
    "Appliquons l'algorithe de Mehrotra."
   ]
  },
  {
   "cell_type": "code",
   "execution_count": null,
   "metadata": {},
   "outputs": [],
   "source": [
    "x = Mehrotra(A,b,c,1e-10,10,true)[1]\n",
    "\n",
    "println(\"x = \", x)\n",
    "println(\"Ax = \", A*x)\n",
    "println(\"z = c^Tx = \", dot(c,x))"
   ]
  },
  {
   "cell_type": "markdown",
   "metadata": {},
   "source": [
    "Nous obtenons la solution:\n",
    "\n",
    "$$x = \\begin{pmatrix}\n",
    "  0.9999999999999999 \\\\\n",
    "  1.6666666666666656 \\\\\n",
    "  1.3333333333333355 \\\\\n",
    "  3.5867130386728067 \\times 10^{-19}\\\\\n",
    "  1.5140739781564760 \\times 10^{-19}\\\\\n",
    "  3.8753111845137296 \\times 10^{-19}\n",
    " \\end{pmatrix}  \\approx \\begin{pmatrix}\n",
    "  1 \\\\\n",
    "  \\frac{5}{3} \\\\\n",
    "  \\frac{4}{3} \\\\\n",
    "  0\\\\\n",
    "  0\\\\\n",
    "  0\n",
    " \\end{pmatrix}\n",
    "$$\n",
    "La solution est\n",
    "$$x_1 = 1, \\ \\ x_2 = \\frac{5}{3}, \\ \\ x_3 = \\frac{4}{3}, \\ \\ x_4 = x_5 = x_6 = 0,$$\n",
    "qui est bien réalisable puisque $Ax = b$. Cette solution nous donne la valeur de la fonction objectif $z = 3$."
   ]
  },
  {
   "cell_type": "markdown",
   "metadata": {},
   "source": [
    "# Programmation linéaire en nombres entiers"
   ]
  },
  {
   "cell_type": "code",
   "execution_count": null,
   "metadata": {},
   "outputs": [],
   "source": [
    "using LinearAlgebra\n",
    "using JuMP, Gurobi"
   ]
  },
  {
   "cell_type": "markdown",
   "metadata": {},
   "source": [
    "Les logiciels commerciaux supportent, le plus souvent très efficacement, la programmation linéaire mixte en nombre entiers. Considérons par exemple le problème ci-dessous."
   ]
  },
  {
   "cell_type": "code",
   "execution_count": null,
   "metadata": {},
   "outputs": [],
   "source": [
    "m = Model(Gurobi.Optimizer)\n",
    "\n",
    "# Variables\n",
    "@variable(m, 0<= x1 <=10)\n",
    "@variable(m, x2 >=0, Int)\n",
    "@variable(m, x3, Bin)\n",
    "\n",
    "# Fonction objectif\n",
    "@objective(m, Max, x1 + 2x2 + 5x3)\n",
    "\n",
    "# Contraintes\n",
    "@constraint(m, constraint1, -x1 +  x2 + 3x3 <= -5)\n",
    "@constraint(m, constraint2,  x1 + 3x2 - 7x3 <= 10)\n",
    "\n",
    "# Modèle complet\n",
    "print(m)\n",
    "\n",
    "# Résoudre le problème\n",
    "status = optimize!(m)\n",
    "\n",
    "println(\"Optimal Solutions:\")\n",
    "println(\"x1 = \", value(x1), \" x2 = \", value(x2), \" x3 = \", value(x3))"
   ]
  },
  {
   "cell_type": "markdown",
   "metadata": {},
   "source": [
    "`HiGHS` n'est néanmoins pas en reste."
   ]
  },
  {
   "cell_type": "code",
   "execution_count": null,
   "metadata": {},
   "outputs": [],
   "source": [
    "set_optimizer(m, HiGHS.Optimizer)"
   ]
  },
  {
   "cell_type": "code",
   "execution_count": null,
   "metadata": {},
   "outputs": [],
   "source": [
    "status = optimize!(m)\n",
    "\n",
    "println(\"Optimal Solutions:\")\n",
    "println(\"x1 = \", value(x1), \" x2 = \", value(x2), \" x3 = \", value(x3))"
   ]
  },
  {
   "cell_type": "markdown",
   "metadata": {},
   "source": [
    "## Branch & Bound"
   ]
  },
  {
   "cell_type": "markdown",
   "metadata": {},
   "source": [
    "Soit le problème de programmation linéaire en nombres entiers suivant\n",
    "\\begin{align*}\n",
    "\\min\\ z &= -10x_1 -20x_2 \\\\\n",
    "\\text{s.à } \n",
    "& 5x_1 + 8 x_2 \\le 60 ,\\\\\n",
    "&x_1 \\le 8\\\\\n",
    "&x_2 \\le 4\\\\\n",
    "& x_1,x_2 \\ge 0 \\text{ et entiers.}\n",
    "\\end{align*}"
   ]
  },
  {
   "cell_type": "markdown",
   "metadata": {},
   "source": [
    "Nous allons procéder par résolution graphique. Il est évidemment possible d'utiliser d'autres outils, comme des solveurs de programmation linéaire."
   ]
  },
  {
   "cell_type": "code",
   "execution_count": null,
   "metadata": {},
   "outputs": [],
   "source": [
    "using Plots"
   ]
  },
  {
   "cell_type": "markdown",
   "metadata": {},
   "source": [
    "## Itération 1"
   ]
  },
  {
   "cell_type": "markdown",
   "metadata": {},
   "source": [
    "Nous commençons en résolvant la relaxation linéaire\n",
    "\\begin{align*}\n",
    "\\min\\ z\\ &= -10x_1 -20x_2 \\\\\n",
    "\\text{s.à } &\n",
    "5x_1 + 8 x_2 \\le 60\\\\\n",
    "&x_1 \\le 8\\\\\n",
    "&x_2 \\le 4\\\\\n",
    "& x_1,x_2 \\ge 0.\n",
    "\\end{align*}"
   ]
  },
  {
   "cell_type": "code",
   "execution_count": null,
   "metadata": {},
   "outputs": [],
   "source": [
    "x1=0:0.01:12\n",
    "g2 = (x1 -> 7-x1/2 ≥ 0 ? 15/2-5/8*x1 : NaN)\n",
    "g3 = (x1 -> 0 )\n",
    "g3 = (x1 -> 4 )\n",
    "\n",
    "objOpt = (x1 -> -1/5*x1+(282.5)/50 ≥ 0 ? -1/2*x1+(136)/20 : NaN)\n",
    "\n",
    "pyplot()\n",
    "\n",
    "plot()\n",
    "\n",
    "plot!(x1,g2,fillrange = 0,\n",
    "         fillalpha = 0.3,\n",
    "         fillcolor = :red,\n",
    "         style=:auto,\n",
    "         color=:red,\n",
    "         label=\"5x1 + 8x2 = 60\")\n",
    "plot!(x1, g3,fillrange = 0,\n",
    "         fillalpha = 0.3,\n",
    "         fillcolor = :green,\n",
    "         color=:green,\n",
    "         label=\"x2=0\")\n",
    "plot!(x1, g3,fillrange = 0,\n",
    "         fillalpha = 0.3,\n",
    "         fillcolor = :green,\n",
    "         color=:green,\n",
    "         label=\"x2=4\")\n",
    "\n",
    "plot!(x1,objOpt, color=:black, linewidth=2, linestyle=:solid, label=\"-10*x1-20*x2=-136\")\n",
    "\n",
    "\n",
    "scatter!([5.6],[4],label=\"Optimum\", color=:red)\n",
    "vline!([0], label=\"x1 = 0\", color=:orange)\n",
    "vline!([8], label=\"x1 = 6\", color=:yellow)\n",
    "\n",
    "plot!(                                       \n",
    "    #size=(800, 600),                                                                             \n",
    "    xticks = 0:12,   \n",
    "    yticks = 0:8,                          \n",
    "                                                  \n",
    "    ylabel = \"x2\", \n",
    "    xlabel = \"x1\",                       \n",
    "    \n",
    "    legend=:bottomleft,\n",
    "    title  = \"Programme linéaire (P)\"                    \n",
    "    )"
   ]
  },
  {
   "cell_type": "markdown",
   "metadata": {},
   "source": [
    "Solution : $x_1 = 5.6$; $x_2 = 4$; $\\bar{z} = -136$ "
   ]
  },
  {
   "cell_type": "markdown",
   "metadata": {},
   "source": [
    "## Itération 2"
   ]
  },
  {
   "cell_type": "markdown",
   "metadata": {},
   "source": [
    "Nous branchons sur $x_1$ pour créer deux problèmes, le premier avec $x_1 \\leq 5$, l'autre avec $x_1 \\geq 6$.\n",
    "\n",
    "Commençons par le premier problème\n",
    "\\begin{align*}\n",
    "\\min\\ z\\ &= -10x_1 -20x_2 \\\\\n",
    "\\text{s.à } &\n",
    "5x_1 + 8 x_2 \\le 60\\\\\n",
    "&x_1 \\le 5\\\\\n",
    "&x_2 \\le 4\\\\\n",
    "& x_1, x_2 \\ge 0.\n",
    "\\end{align*}"
   ]
  },
  {
   "cell_type": "code",
   "execution_count": null,
   "metadata": {},
   "outputs": [],
   "source": [
    "x1=0:0.01:12\n",
    "g2 = (x1 -> 7-x1/2 ≥ 0 ? 15/2-5/8*x1 : NaN)\n",
    "g3 = (x1 -> 0 )\n",
    "g3 = (x1 -> 4 )\n",
    "\n",
    "objOpt = (x1 -> -1/5*x1+(282.5)/50 ≥ 0 ? -1/2*x1+(130)/20 : NaN)\n",
    "\n",
    "pyplot()\n",
    "\n",
    "plot()\n",
    "\n",
    "plot!(x1,g2,fillrange = 0,\n",
    "         fillalpha = 0.3,\n",
    "         fillcolor = :red,\n",
    "         style=:auto,\n",
    "         color=:red,\n",
    "         label=\"5x1 + 8x2 = 60\")\n",
    "plot!(x1, g3,fillrange = 0,\n",
    "         fillalpha = 0.3,\n",
    "         fillcolor = :green,\n",
    "         color=:green,\n",
    "         label=\"x2=0\")\n",
    "plot!(x1, g3,fillrange = 0,\n",
    "         fillalpha = 0.3,\n",
    "         fillcolor = :green,\n",
    "         color=:green,\n",
    "         label=\"x2=4\")\n",
    "\n",
    "plot!(x1,objOpt, color=:black, linewidth=2, linestyle=:solid, label=\"-10*x1-20*x2=-130\")\n",
    "\n",
    "\n",
    "scatter!([5],[4],label=\"Optimum\", color=:red)\n",
    "vline!([0], label=\"x1 = 0\", color=:orange)\n",
    "vline!([5], label=\"x1 = 6\", color=:yellow)\n",
    "\n",
    "plot!(                                       \n",
    "    #size=(800, 600),                                                                             \n",
    "    xticks = 0:12,   \n",
    "    yticks = 0:8,                          \n",
    "                                                  \n",
    "    ylabel = \"x2\", \n",
    "    xlabel = \"x1\",                       \n",
    "    \n",
    "    legend=:bottomleft,\n",
    "    title  = \"Programme linéaire (P)\"                    \n",
    "    )"
   ]
  },
  {
   "cell_type": "markdown",
   "metadata": {},
   "source": [
    "Solution : $x_1 = 5$; $x_2 = 4$; $\\bar{z} = -130$\n",
    "\n",
    "La solution est entière, aussi nous ne devrons plus brancher à partir de ce sous-prblème, et nous avons une borne supérieure sur la valeur optimale."
   ]
  },
  {
   "cell_type": "markdown",
   "metadata": {},
   "source": [
    "## Itération 3"
   ]
  },
  {
   "cell_type": "markdown",
   "metadata": {},
   "source": [
    "Considérons maintenant le problème\n",
    "\\begin{align*}\n",
    "\\min\\ z\\ &= -10x_1 -20x_2 \\\\\n",
    "\\text{s.à } &\n",
    "5x_1 + 8 x_2 \\le 60\\\\\n",
    "&x_1 \\le 8\\\\\n",
    "&x_1 \\ge 6\\\\\n",
    "&x_2 \\le 4\\\\\n",
    "& x_1, x_2 \\ge 0.\n",
    "\\end{align*}"
   ]
  },
  {
   "cell_type": "code",
   "execution_count": null,
   "metadata": {},
   "outputs": [],
   "source": [
    "x1=6:0.01:12\n",
    "g2 = (x1 -> 7-x1/2 ≥ 0 ? 15/2-5/8*x1 : NaN)\n",
    "g3 = (x1 -> 0 )\n",
    "g3 = (x1 -> 4 )\n",
    "\n",
    "\n",
    "objOpt = (x1 -> -1/5*x1+(282.5)/50 ≥ 0 ? -1/2*x1+(135)/20 : NaN)\n",
    "\n",
    "pyplot()\n",
    "\n",
    "plot()\n",
    "\n",
    "plot!(x1,g2,fillrange = 0,\n",
    "         fillalpha = 0.3,\n",
    "         fillcolor = :red,\n",
    "         style=:auto,\n",
    "         color=:red,\n",
    "         label=\"5x1 + 8x2 = 60\")\n",
    "plot!(x1, g3,fillrange = 0,\n",
    "         fillalpha = 0.3,\n",
    "         fillcolor = :green,\n",
    "         color=:green,\n",
    "         label=\"x2=0\")\n",
    "plot!(x1, g3,fillrange = 0,\n",
    "         fillalpha = 0.3,\n",
    "         fillcolor = :green,\n",
    "         color=:green,\n",
    "         label=\"x2=4\")\n",
    "\n",
    "plot!(x1,objOpt, color=:black, linewidth=2, linestyle=:solid, label=\"-10*x1-20*x2=-135\")\n",
    "\n",
    "\n",
    "scatter!([6],[3.75],label=\"Optimum\", color=:red)\n",
    "vline!([0], label=\"x1 = 0\", color=:orange)\n",
    "vline!([6], label=\"x1 = 6\", color=:yellow)\n",
    "vline!([8], label=\"x1 = 6\", color=:yellow)\n",
    "\n",
    "plot!(                                       \n",
    "    #size=(800, 600),                                                                             \n",
    "    xticks = 0:12,   \n",
    "    yticks = 0:8,                          \n",
    "                                                  \n",
    "    ylabel = \"x2\", \n",
    "    xlabel = \"x1\",                       \n",
    "    \n",
    "    legend=:bottomleft,\n",
    "    title  = \"Programme linéaire (P)\"                    \n",
    "    )"
   ]
  },
  {
   "cell_type": "markdown",
   "metadata": {},
   "source": [
    "Solution : $x_1 = 6$; $x_2 = 3,75$; $\\bar{z} = -135$\n",
    "\n",
    "La solution n'est pas entière, et nous avons une borne inférieure sur la solution optimale au niveau des descendants du noeud courant. Comme cette borne est inférieure à la borne supérieure trouvée prédémment, il est possible de trouver une meilleure solution au problème initial en branchant à partir de ce noeud."
   ]
  },
  {
   "cell_type": "markdown",
   "metadata": {},
   "source": [
    "## Itération 4"
   ]
  },
  {
   "cell_type": "markdown",
   "metadata": {},
   "source": [
    "Nous branchons à présent sur $x_2$, en considérant $x_2 \\leq 3$ et $x_2 \\geq 3$.\n",
    "\n",
    "Le premier problème est\n",
    "\\begin{align*}\n",
    "\\min\\ z\\ &= -10x_1 -20x_2 \\\\\n",
    "\\text{s.à } &\n",
    "5x_1 + 8 x_2 \\le 60\\\\\n",
    "&x_1 \\le 8\\\\\n",
    "&x_1 \\ge 6\\\\\n",
    "&x_2 \\le 3\\\\\n",
    "& x_1, x_2 \\ge 0.\n",
    "\\end{align*}"
   ]
  },
  {
   "cell_type": "code",
   "execution_count": null,
   "metadata": {},
   "outputs": [],
   "source": [
    "x1=6:0.01:12\n",
    "g2 = (x1 -> 7-x1/2 ≥ 0 ? 15/2-5/8*x1 : NaN)\n",
    "g3 = (x1 -> 0 )\n",
    "g3 = (x1 -> 3 )\n",
    "\n",
    "\n",
    "objOpt = (x1 -> -1/5*x1+(282.5)/50 ≥ 0 ? -1/2*x1+(132)/20 : NaN)\n",
    "\n",
    "pyplot()\n",
    "\n",
    "plot()\n",
    "\n",
    "plot!(x1,g2,fillrange = 0,\n",
    "         fillalpha = 0.3,\n",
    "         fillcolor = :red,\n",
    "         style=:auto,\n",
    "         color=:red,\n",
    "         label=\"5x1 + 8x2 = 60\")\n",
    "plot!(x1, g3,fillrange = 0,\n",
    "         fillalpha = 0.3,\n",
    "         fillcolor = :green,\n",
    "         color=:green,\n",
    "         label=\"x2=0\")\n",
    "plot!(x1, g3,fillrange = 0,\n",
    "         fillalpha = 0.3,\n",
    "         fillcolor = :green,\n",
    "         color=:green,\n",
    "         label=\"x2=4\")\n",
    "\n",
    "plot!(x1,objOpt, color=:black, linewidth=2, linestyle=:solid, label=\"-10*x1-20*x2=-132\")\n",
    "\n",
    "\n",
    "scatter!([7.2],[3],label=\"Optimum\", color=:red)\n",
    "vline!([0], label=\"x1 = 0\", color=:orange)\n",
    "vline!([6], label=\"x1 = 6\", color=:yellow)\n",
    "vline!([8], label=\"x1 = 6\", color=:yellow)\n",
    "\n",
    "plot!(                                       \n",
    "    #size=(800, 600),                                                                             \n",
    "    xticks = 0:12,   \n",
    "    yticks = 0:8,                          \n",
    "                                                  \n",
    "    ylabel = \"x2\", \n",
    "    xlabel = \"x1\",                       \n",
    "    \n",
    "    legend=:bottomleft,\n",
    "    title  = \"Programme linéaire (P)\"                    \n",
    "    )"
   ]
  },
  {
   "cell_type": "markdown",
   "metadata": {},
   "source": [
    "Solution : $x_1 = 7,2$; $x_2 = 3$; $\\bar{z} = -132$\n",
    "\n",
    "La solution n'est pas entière et la borne inférieure sur la valeur optimale à partir de ce noeud est -132, qui est plus basse que la meilleure borne supérieure connue, aussi nous ne pouvons pas élager le noeud à ce stade."
   ]
  },
  {
   "cell_type": "markdown",
   "metadata": {},
   "source": [
    "## Itération 5"
   ]
  },
  {
   "cell_type": "markdown",
   "metadata": {},
   "source": [
    "Ce problème implique dès lors la création de deux nouveaux sous-problème, en branchant à nouveau sur $x_1$.\n",
    "\n",
    "Considérons tout d'abord\n",
    "\\begin{align*}\n",
    "\\min\\ z\\ &= -10x_1 -20x_2 \\\\\n",
    "\\text{s.à } &\n",
    "5x_1 + 8 x_2 \\le 60\\\\\n",
    "&x_1 \\le 7\\\\\n",
    "&x_1 \\ge 6\\\\\n",
    "&x_2 \\le 3\\\\\n",
    "& x_1, x_2 \\ge 0.\n",
    "\\end{align*}"
   ]
  },
  {
   "cell_type": "code",
   "execution_count": null,
   "metadata": {},
   "outputs": [],
   "source": [
    "x1=6:0.01:12\n",
    "g2 = (x1 -> 7-x1/2 ≥ 0 ? 15/2-5/8*x1 : NaN)\n",
    "g3 = (x1 -> 0 )\n",
    "g3 = (x1 -> 3 )\n",
    "\n",
    "\n",
    "objOpt = (x1 -> -1/5*x1+(282.5)/50 ≥ 0 ? -1/2*x1+(130)/20 : NaN)\n",
    "\n",
    "pyplot()\n",
    "\n",
    "plot()\n",
    "\n",
    "plot!(x1,g2,fillrange = 0,\n",
    "         fillalpha = 0.3,\n",
    "         fillcolor = :red,\n",
    "         style=:auto,\n",
    "         color=:red,\n",
    "         label=\"5x1 + 8x2 = 60\")\n",
    "plot!(x1, g3,fillrange = 0,\n",
    "         fillalpha = 0.3,\n",
    "         fillcolor = :green,\n",
    "         color=:green,\n",
    "         label=\"x2=0\")\n",
    "plot!(x1, g3,fillrange = 0,\n",
    "         fillalpha = 0.3,\n",
    "         fillcolor = :green,\n",
    "         color=:green,\n",
    "         label=\"x2=4\")\n",
    "\n",
    "plot!(x1,objOpt, color=:black, linewidth=2, linestyle=:solid, label=\"-10*x1-20*x2=-130\")\n",
    "\n",
    "\n",
    "scatter!([7],[3],label=\"Optimum\", color=:red)\n",
    "vline!([0], label=\"x1 = 0\", color=:orange)\n",
    "vline!([6], label=\"x1 = 6\", color=:yellow)\n",
    "vline!([7], label=\"x1 = 6\", color=:yellow)\n",
    "\n",
    "plot!(                                       \n",
    "    #size=(800, 600),                                                                             \n",
    "    xticks = 0:12,   \n",
    "    yticks = 0:8,                          \n",
    "                                                  \n",
    "    ylabel = \"x2\", \n",
    "    xlabel = \"x1\",                       \n",
    "    \n",
    "    legend=:bottomleft,\n",
    "    title  = \"Programme linéaire (P)\"                    \n",
    "    )"
   ]
  },
  {
   "cell_type": "markdown",
   "metadata": {},
   "source": [
    "Solution : $x_1 = 7$; $x_2 = 3$; $\\bar{z} = -130$\n",
    "\n",
    "La solution est entière, pour une valeur objectif de -130, égale à la meilleure valeur actuellement connue."
   ]
  },
  {
   "cell_type": "markdown",
   "metadata": {},
   "source": [
    "## Itération 6"
   ]
  },
  {
   "cell_type": "markdown",
   "metadata": {},
   "source": [
    "Le problème est maintenant\n",
    "\\begin{align*}\n",
    "\\min\\ z\\ &= -10x_1 -20x_2 \\\\\n",
    "\\text{s.à } &\n",
    "5x_1 + 8 x_2 \\le 60\\\\\n",
    "&x_1 \\ge 7\\\\\n",
    "&x_1 \\le 8\\\\\n",
    "&x_2 \\le 3\\\\\n",
    "& x_1, x_2 \\ge 0.\n",
    "\\end{align*}"
   ]
  },
  {
   "cell_type": "code",
   "execution_count": null,
   "metadata": {},
   "outputs": [],
   "source": [
    "x1=7:0.01:12\n",
    "g2 = (x1 -> 7-x1/2 ≥ 0 ? 15/2-5/8*x1 : NaN)\n",
    "g3 = (x1 -> 0 )\n",
    "g3 = (x1 -> 3 )\n",
    "\n",
    "\n",
    "objOpt = (x1 -> -1/5*x1+(282.5)/50 ≥ 0 ? -1/2*x1+(130)/20 : NaN)\n",
    "\n",
    "pyplot()\n",
    "\n",
    "plot()\n",
    "\n",
    "plot!(x1,g2,fillrange = 0,\n",
    "         fillalpha = 0.3,\n",
    "         fillcolor = :red,\n",
    "         style=:auto,\n",
    "         color=:red,\n",
    "         label=\"5x1 + 8x2 = 60\")\n",
    "plot!(x1, g3,fillrange = 0,\n",
    "         fillalpha = 0.3,\n",
    "         fillcolor = :green,\n",
    "         color=:green,\n",
    "         label=\"x2=0\")\n",
    "plot!(x1, g3,fillrange = 0,\n",
    "         fillalpha = 0.3,\n",
    "         fillcolor = :green,\n",
    "         color=:green,\n",
    "         label=\"x2=4\")\n",
    "\n",
    "plot!(x1,objOpt, color=:black, linewidth=2, linestyle=:solid, label=\"-10*x1-20*x2=-130\")\n",
    "\n",
    "\n",
    "scatter!([7],[3],label=\"Optimum\", color=:red)\n",
    "vline!([0], label=\"x1 = 0\", color=:orange)\n",
    "vline!([7], label=\"x1 = 7\", color=:yellow)\n",
    "vline!([8], label=\"x1 = 8\", color=:yellow)\n",
    "\n",
    "plot!(                                       \n",
    "    #size=(800, 600),                                                                             \n",
    "    xticks = 0:12,   \n",
    "    yticks = 0:8,                          \n",
    "                                                  \n",
    "    ylabel = \"x2\", \n",
    "    xlabel = \"x1\",                       \n",
    "    \n",
    "    legend=:bottomleft,\n",
    "    title  = \"Programme linéaire (P)\"                    \n",
    "    )"
   ]
  },
  {
   "cell_type": "markdown",
   "metadata": {},
   "source": [
    "Solution :  𝑥1=8 ;  𝑥2=2,5 ;  𝑧¯=−130\n",
    "\n",
    "La valeur n'est pas entière, mais la valeur de la fonction objectif associée à la solution du problème relaxé n'est pas meilleure que la meilleure valeur connue, aussi nous ne pourrons pas l'améliorer en branchant à partir du noeud actuel, aussi élaguons-nous le noeud."
   ]
  },
  {
   "cell_type": "markdown",
   "metadata": {},
   "source": [
    "## Itération 7"
   ]
  },
  {
   "cell_type": "markdown",
   "metadata": {},
   "source": [
    "Nous devons revenir au noeud non-élagué avec la contrainte $x_2 \\geq 4$.\n",
    "\n",
    "En considérant les deux contraintes $x_2 \\leq 4$ et $x_2 \\geq 4$, nous voyons que $x_2$ doit être fixé à 4, et le problème se réécrit \n",
    "\\begin{align*}\n",
    "\\min\\ z\\ &= -10x_1 - 80 \\\\\n",
    "\\text{s.à } & 5x_1 \\le 28 \\\\\n",
    "&x_1 \\le 8\\\\\n",
    "&x_1 \\ge 6\\\\\n",
    "& x_1 \\ge 0.\n",
    "\\end{align*}\n",
    "Mais $x_1$ ne peut être à la fois plus grand que 6 et plus petit que 28/5, aussi le problème est non-réalisable, et nous pouvons élaguer ce noeud.\n",
    "\n",
    "Il n'y a plus de noeud à élaguer aussi non pouvons conclure. La valeur optimale est -130, atteinte en (5,4) et (7,3)."
   ]
  },
  {
   "cell_type": "code",
   "execution_count": null,
   "metadata": {},
   "outputs": [],
   "source": []
  }
 ],
 "metadata": {
  "kernelspec": {
   "display_name": "Julia 1.8.5",
   "language": "julia",
   "name": "julia-1.8"
  },
  "language_info": {
   "file_extension": ".jl",
   "mimetype": "application/julia",
   "name": "julia",
   "version": "1.8.3"
  }
 },
 "nbformat": 4,
 "nbformat_minor": 2
}
