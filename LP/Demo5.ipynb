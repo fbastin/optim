{
 "cells": [
  {
   "cell_type": "markdown",
   "metadata": {},
   "source": [
    "# Question 1\n",
    "\n",
    "Considérons le système d'inégalités $Ax \\geq b$, $x \\geq 0$, où $b \\geq 0$. Nous transformons ce\n",
    "système sous une forme standard en introduisant m variables de surplus $y$ pour\n",
    "obtenir le système suivant $Ax-y = b$, $x \\geq 0$, $y \\geq 0$ où $b \\geq 0$. Dénotons\n",
    "\\begin{gather*}\n",
    "b_k = \\max_{1 \\leq i \\leq m} \\lbrace b_i \\rbrace,\n",
    "\\end{gather*}\n",
    "et considérons le nouveau problème sous forme standard obtenu du précédent en\n",
    "additionnant la $k$ième ligne à toutes les autres lignes après avoir changé leur signe.\n",
    "\n",
    "Indiquez pourquoi il suffit d'introduire une seule variable artificielle dans une phase I pour obtenir\n",
    "une solution de base réalisable initiale.\n",
    "\n",
    "\n",
    "Illustrer cette procédure sur le problème suivant\n",
    "\\begin{align*}\n",
    "x_1 + 2x_2 + x_3 &\\geq 4 \\\\\n",
    "2x_1 + x_2 + x_3 &\\geq 5 \\\\\n",
    "2x_1 + 3x_2 + 2x_3 &\\geq 6 \\\\\n",
    "x_j \\geq 0,\\ j &= 1,2,3.\n",
    "\\end{align*}"
   ]
  },
  {
   "cell_type": "markdown",
   "metadata": {},
   "source": [
    "## Solution question 1"
   ]
  },
  {
   "cell_type": "markdown",
   "metadata": {},
   "source": [
    "Pour $i=k$,\n",
    "\\begin{align*}\n",
    "\\sum_{j=1}^{n} a_{kj} x_j - y_k  = b_k \\ge 0\n",
    "\\end{align*}\n",
    "\n",
    "\n",
    "Pour $i = 1, \\ldots, m$ et $i \\ne k$,\n",
    "\\begin{align*}\n",
    "\\sum _{j=1}^{n} ( a_{kj} - a_{ij} ) x_j - y_k + y_i = b_k - b_i \\ge 0\n",
    "\\end{align*}\n",
    "Le système est équivalent par construction et il est réalisable puisque les\n",
    "termes de droites sont non-négatifs. \n",
    "Pour $i = 1, \\ldots, m$ et $i \\ne k$, on maintenant que $y_i$ est une variable de base.\n",
    "Il ne manque plus qu'à déterminer une dernière variable de base et pour ce faire on \n",
    "fait une phase I en ajoutant la variable $t_1$ à la kième équation."
   ]
  },
  {
   "cell_type": "markdown",
   "metadata": {},
   "source": [
    "On introduit les variables $y_1$, $y_2$ et $y_3$ dans le problème pour le mettre sous forme standard\n",
    "\\begin{align*}\n",
    "x_1 + 2x_2 + x_3 - y_1 & =  4 \\\\\n",
    "2x_1 + x_2 + x_3 - y_2 & = 5 \\\\\n",
    "2x_1 + 3x_2 + 2x_3 - y_3 & = 6 \\\\\n",
    "x_j \\geq 0,\\ j &= 1,2,3,\\\\\n",
    "y_j \\geq 0,\\ j &= 1,2,3.\n",
    "\\end{align*}"
   ]
  },
  {
   "cell_type": "markdown",
   "metadata": {},
   "source": [
    "On utilise l'indication, on choisit\n",
    "\\begin{gather*}\n",
    "b_k = \\max_{1 \\leq 1 \\leq 3} \\lbrace b_i \\rbrace = b_3\n",
    "\\end{gather*}\n",
    "et on effectue les opérations comme dans l'énoncé\n",
    "\\begin{align*}\n",
    "x_1 + x_2 + x_3 - y_3 + y_1 & =  2 \\\\\n",
    "2x_2 + x_3 - y_3 + y_2 & = 1 \\\\\n",
    "2x_1 + 3x_2 + 2x_3 - y_3 & = 6 \\\\\n",
    "x_j \\geq 0,\\ j &= 1,2,3,\\\\\n",
    "y_j \\geq 0,\\ j &= 1,2,3,\\\\\n",
    "t_1 \\ge 0.\n",
    "\\end{align*}"
   ]
  },
  {
   "cell_type": "markdown",
   "metadata": {},
   "source": [
    "On obtient ainsi un système totalement équivalent au premier sur lequel on peut appliquer la phase I qui prend la forme suivante"
   ]
  },
  {
   "cell_type": "markdown",
   "metadata": {},
   "source": [
    "\\begin{align*}\n",
    "&\\min t_1\\\\\n",
    "&\\begin{aligned}\n",
    "\\text{tel que } \\quad x_1 + x_2 + x_3 - y_3 + y_1 & =  2 \\\\\n",
    "2x_2 + x_3 - y_3 + y_2 & = 1 \\\\\n",
    "2x_1 + 3x_2 + 2x_3 - y_3 + t_1 & = 6 \\\\\n",
    "t_1,\\ x_j, y_j \\geq 0,\\ j &= 1,2,3.\n",
    "\\end{aligned}\n",
    "\\end{align*}"
   ]
  },
  {
   "cell_type": "markdown",
   "metadata": {},
   "source": [
    "Un client fait ses courses à l'épicerie et souhaite acheter des aliments de sorte à satisfaire des besoins nutritifs tout en minimisant le prix payé.\n",
    "\t\n",
    "Les apports à respecter sont récapitulés dans le tableau ci-dessous:\n",
    "\\begin{align*}\n",
    "    \\begin{array}{l|c}\n",
    "        \\text{Nutriments} & \\text{Quantité minimum} \\\\\n",
    "        \\hline\n",
    "        \\text{calories} & 300 \\\\\n",
    "        \\text{vitamine A} & 36 \\\\\n",
    "        \\text{vitamine B}  & 90\n",
    "    \\end{array}\n",
    "\\end{align*}\n",
    "\n",
    "Deux aliments sont à la disposition du client, on indique leurs apports nutritifs ainsi que leur coût:\n",
    "\\begin{align*}\n",
    "    \\begin{array}{l|c|c}\n",
    "        & \\text{Saumon} & \\text{Poutine}\\\\\n",
    "        \\hline\n",
    "        \\text{calories} & 60 & 60 \\\\\n",
    "        \\text{vitamine A}  & 12 & 6 \\\\\n",
    "        \\text{vitamine B} & 10 & 30 \\\\\n",
    "        \\text{coût (cents)} & 12 & 15\n",
    "    \\end{array}\n",
    "\\end{align*}"
   ]
  },
  {
   "cell_type": "markdown",
   "metadata": {},
   "source": [
    "**(a)** Modéliser le problème de régime alimentaire sous forme de programme linéaire.\n",
    "\n",
    "Variables de décision:\n",
    "\n",
    "- $x_1$: quantité de saumon achetée\n",
    "- $x_2$: quantité de poutine achetée\n",
    "\n",
    "On ne peut pas acheter une quantité négative donc les variables sont positives.\n",
    "\n",
    "L'objectif est de minimiser le montant de la facture, soit:\n",
    "$$\\min_x \\ z= 12x_1+15x_2$$\n",
    "\n",
    "Les contraintes retranscrivent le fait qu'il faut satisfaire les apports minimum, d'où les contraintes:\n",
    "\n",
    "- $60x_1+60x_2 \\ge 300$ (**calories**)\n",
    "- $12x_1+6x_2 \\ge 36$ (**vit. A**)\n",
    "- $10x_1+ 30x_2 \\ge 90$ (**vit. B**)\n",
    "\n",
    "Finalement, le programme linéaire est donné par:\n",
    "\n",
    "\\begin{align*}\n",
    "\\min_x \\ & z=12x_1 + 15x_2 \\\\\n",
    "\\text{s.c. } & 60x_1 + 60x_2 \\geq 300 \\\\\n",
    "& 12x_1 + 6x_2 \\geq 36 \\\\\n",
    "& 10x_1 + 30x_2 \\geq 90 \\\\\n",
    "& x_1,x_2 \\geq 0.\n",
    "\\end{align*}"
   ]
  },
  {
   "cell_type": "markdown",
   "metadata": {},
   "source": [
    "**(b)** A l'aide des contraintes d'inégalité du modèle trouvé à la question précédente, déterminer une ou plusieurs bornes inférieures du problème.\n",
    "\n",
    "Pour cette question, on dénote par $L_{cal},L_A,L_B$ les lignes respectivement associées aux contraintes sur les calories, la vit. A et la vit. B.\n",
    "\n",
    "L'idée est d'utiliser les contraintes pour borner inférieurement la fonction objectif.\n",
    "\n",
    "On peut par exemple remarquer que $z=12x_1+15x_2 \\geq 12x_1+6x_2$.\n",
    "\n",
    "Or, par la contrainte $L_A$, $12x_1+6x_2 \\ge 36$ et donc $z \\geq 36$. Une première borne inférieure est donc **36**.\n",
    "\n",
    "Une autre stratégie consiste à obtenir une inégalité à partir d'une combinaison linéaire des contraintes.\n",
    "Par exemple, la combinaison $\\frac{1}{10}L_{cal} + \\frac{1}{2}L_A$ donne l'inégalité:\n",
    "$$12x_1 + 9x_2 \\geq 48,$$\n",
    "et comme $z=12x_1+15x_2 \\geq 12x_1+9x_2 \\geq 48$, on en déduit $z \\geq 48$. On a trouvé une meilleure borne inférieure\n",
    "\n",
    "Peut-on faire mieux, i.e. trouver une borne inférieure plus élevée?\n",
    "\n",
    "La réponse est oui. En multipliant la contrainte $L_{cal}$ par $\\frac{1}{5}$, on obtient l'inégalité équivalente:\n",
    "$$ 12x_1+12x_2 \\geq 60 .$$\n",
    "\n",
    "Et comme $z \\geq 12x_1+15x_2 \\geq 12x_1+12x_2 \\geq 60$, on en déduit $z \\geq 60$. Cette valeur est supérieure à la précédente."
   ]
  },
  {
   "cell_type": "markdown",
   "metadata": {},
   "source": [
    "**(c)** Modéliser le dual du problème trouvé à la question **(a)**.\n",
    "\n",
    "De façon générale, si on multiplie respectivement chaque ligne par des coefficients multiplicatifs $\\lambda_1, \\lambda_2,\\lambda_3$, alors, pouvru que ces coefficients soient positifs, on a l'inégalité:\n",
    "\n",
    "$$\\lambda_1 (60x_1 + 60x_2) + \\lambda_2 (12x_1 + 6x_2) + \\lambda_3 (10x_1 + 30x_2) \\geq 300\\lambda_1 + 36\\lambda_2 + 90\\lambda_3, $$\n",
    "\n",
    "ou, en regroupant dans la partie gauche les termes associés à chaque variable $x_i$:\n",
    "\n",
    "$$(60\\lambda_1 + 12\\lambda_2 + 10\\lambda_3)x_1 + (60\\lambda_1 + 6\\lambda_2 + 30 \\lambda_3)x_2 + 60\\lambda_1 + (6\\lambda_2 + 30 \\lambda_3)x_3 \\geq 300\\lambda_1 + 36\\lambda_2 + 90\\lambda_3.$$\n",
    "\n",
    "Pour que le terme de droite soit bien une borne inférieure de la fonction objectif, on doit avoir:\n",
    "\n",
    "$$z = 12x_1+15x_2 \\geq (60\\lambda_1 + 12\\lambda_2 + 10\\lambda_3)x_1 + (60\\lambda_1 + 6\\lambda_2 + 30 \\lambda_3)x_2 + 60\\lambda_1 + (6\\lambda_2 + 30 \\lambda_3)x_3,$$\n",
    "\n",
    "i.e., les facteurs devant les variables $x_i$ doivent rester inférieures aux coûts respectifs de chaque variable, ce qui est assuré si le système suivant est satisfait:\n",
    "\n",
    "\\begin{align*}\n",
    "& 60\\lambda_1 + 12\\lambda_2 + 10\\lambda_3 \\leq 12 \\\\\n",
    "& 60\\lambda_1 + 6\\lambda_2 + 30 \\lambda_3 \\leq 15.\n",
    "\\end{align*}\n",
    "\n",
    "L'idéal serait de trouver la meilleure borne inférieure possible, i.e. la plus élevée. On souhaiterait donc trouver un triplet $(\\lambda_1,\\lambda_2,\\lambda_3)$ de sorte à **maximiser** la somme $300\\lambda_1 + 36\\lambda_2 + 90\\lambda_3$.\n",
    "\n",
    "Finalement la formalisation de la recherche de la plus grande borne inférieure donne en fait le dual du problème de départ:\n",
    "\n",
    "\\begin{align*}\n",
    "\\max_{\\lambda} \\ & 300\\lambda_1 + 36\\lambda_2 + 90\\lambda_3 \\\\\n",
    "\\text{s.c. } & 60\\lambda_1 + 12\\lambda_2 + 10\\lambda_3 \\leq 12 \\\\\n",
    "& 60\\lambda_1 + 6\\lambda_2 + 30 \\lambda_3 \\leq 15 \\\\\n",
    "& \\lambda_1,\\lambda_2 \\geq 0.\n",
    "\\end{align*}"
   ]
  },
  {
   "cell_type": "markdown",
   "metadata": {},
   "source": [
    "## Question 3, \\#4 examen Intra 2018"
   ]
  },
  {
   "cell_type": "markdown",
   "metadata": {},
   "source": [
    "Soit le problème de programmation linéaire suivant\n",
    "\t\t\\begin{align*}\n",
    "\t\t\t\\min_x \\ &z = –8x_1 – 9x_2 – 7x_3  – 6x_4  – 8x_5 – 9x_6 \\\\\n",
    "\t\t\t\\mbox{sujet à } & x_1          + x_3               +x_5           = 4 \\\\\n",
    "\t\t\t& x_2 + x_4 + x_6 = 2 \\\\\n",
    "\t\t\t& x_1 + x_4 = 2 \\\\\n",
    "\t\t\t& x_2 + x_5 = 1 \\\\\n",
    "\t\t\t& x_j \\geq 0,\\ j = 1,2,\\ldots,6.\n",
    "\t\t\\end{align*}"
   ]
  },
  {
   "cell_type": "markdown",
   "metadata": {},
   "source": [
    "Utilisez la phase I de la méthode à deux phases pour trouver une solution réalisable au problème."
   ]
  },
  {
   "cell_type": "markdown",
   "metadata": {},
   "source": [
    "La forme révisée du simplexe est utilisée pour résoudre le problème, et à une certaine itération nous avons le tableau réduit suivant\n",
    "\n",
    "$$\n",
    "\\begin{matrix}\n",
    "x_1 & 0 & 0 & 1 & 0 & 2\\\\\n",
    "x_2 & 0 & 0 & 0 & 1 & 1\\\\\n",
    "x_3 & 1 & 0 & -1 & 0 & 2\\\\\n",
    "x_6 & 0 & 1 & 0 & -1 & 1\\\\\n",
    "& 7 & 9 & 1 & 0 & 48\n",
    "\\end{matrix}\n",
    "$$\n",
    "\n",
    "La dernière ligne contient l'opposé des multiplicateurs, correspondant à $c_B^T B^{-1}$.\n",
    "\n",
    "Que vaut $B$? Et $B^{-1}$? La solution de base actuelle est-elle optimale? Si oui, justifier votre réponse. Si non, poursuivre l'application de la forme révisée du simplexe pour déterminer une solution optimale."
   ]
  },
  {
   "cell_type": "markdown",
   "metadata": {},
   "source": [
    "De quelle quantité faut-il modifier le coût associé à la variable $x_2$ dans la fonction économique (i.e. son coefficient dans la fonction objectif) pour que le coût réduit de cette variable soit nul relativement à la base optimale obtenue au point précédent. Déterminer alors une solution de base optimale alternative."
   ]
  },
  {
   "cell_type": "markdown",
   "metadata": {},
   "source": [
    "# Solution question 3"
   ]
  },
  {
   "cell_type": "markdown",
   "metadata": {},
   "source": [
    "Remarquons tout d'abord que $x_3$ et $x_6$ sont isolées, aussi nous n'avons que deux variables artificielles à ajouter, aux troisième et quatrième contraintes, donnant le problème artificiel suivant:\n",
    "\\begin{align*}\n",
    "\\min_{x} \\ & x_7 + x_8 \\\\\n",
    "\\mbox{sujet à } & x_1 + x_3               +x_5           = 4 \\\\\n",
    "& x_2 + x_4 + x_6 = 2 \\\\\n",
    "& x_1 + x_4 + x_7 = 2 \\\\\n",
    "& x_2 + x_5 + x_8 = 1 \\\\\n",
    "& x_j \\geq 0,\\ j = 1,2,\\ldots,8.\n",
    "\\end{align*}\n",
    "\n",
    "Ceci mène à la séquence suivante d'itérations de l'algorithme du simplexe:\n",
    "$$\n",
    "\\begin{matrix}\n",
    "1 & 0 & 1 & 0 & 1 & 0 & 0 & 0 & 4 \\\\\n",
    "0 & 1 & 0 & 1 & 0 & 1 & 0 & 0 & 2 \\\\\n",
    "1 & 0 & 0 & 1 & 0 & 0 & 1 & 0 & 2 \\\\\n",
    "0 & 1 & 0 & 0 & 1 & 0 & 0 & 1 & 1 \\\\\n",
    "0 & 0 & 0 & 0 & 0 & 0 & 1 & 1 & 0\n",
    "\\end{matrix}\n",
    "$$\n",
    "Après annulation des coûts réduits, nous avons\n",
    "$$\n",
    "\\begin{matrix}\n",
    "1 & 0 & 1 & 0 & 1 & 0 & 0 & 0 & 4 \\\\\n",
    "0 & 1 & 0 & 1 & 0 & 1 & 0 & 0 & 2 \\\\\n",
    "1 & 0 & 0 & 1 & 0 & 0 & 1 & 0 & 2 \\\\\n",
    "0 & 1 & 0 & 0 & 1 & 0 & 0 & 1 & 1 \\\\\n",
    "-1 & -1 & 0 & -1 & -1 & 0 & 0 & 0 & -3\n",
    "\\end{matrix}\n",
    "$$\n",
    "\n",
    "Faisons entrer $x_1$ dans la base. $x_7$ sort, donnant\n",
    "\n",
    "$$\n",
    "\\begin{matrix}\n",
    "0 & 0 & 1 & -1 & 1 & 0 & -1 & 0 & 2 \\\\\n",
    "0 & 1 & 0 & 1 & 0 & 1 & 0 & 0 & 2 \\\\\n",
    "1 & 0 & 0 & 1 & 0 & 0 & 1 & 0 & 2 \\\\\n",
    "0 & 1 & 0 & 0 & 1 & 0 & 0 & 1 & 1 \\\\\n",
    "0 & -1 & 0 & 0 & -1 & 0 & 1 & 0 & -1\n",
    "\\end{matrix}\n",
    "$$\n",
    "\n",
    "Nous pouvons à présent faire entrer $x_2$ dans la base, en faisant sortir $x_8$, ce qui donne\n",
    "\n",
    "$$\n",
    "\\begin{matrix}\n",
    "0 & 0 & 1 & -1 & 1 & 0 & -1 & 0 & 2 \\\\\n",
    "0 & 0 & 0 & 1 & -1 & 1 & 0 & -1 & 1 \\\\\n",
    "1 & 0 & 0 & 1 & 0 & 0 & 1 & 0 & 2 \\\\\n",
    "0 & 1 & 0 & 0 & 1 & 0 & 0 & 1 & 1 \\\\\n",
    "0 & 0 & 0 & 0 & 0 & 0 & 1 & 1 & 0\n",
    "\\end{matrix}\n",
    "$$\n",
    "\n",
    "Dès lors, une solution réalisable au problème initial est $x = (2, 1, 2, 0, 0, 1)$."
   ]
  },
  {
   "cell_type": "markdown",
   "metadata": {},
   "source": [
    "La forme révisée du simplexe est utilisée pour résoudre le problème, et à une certaine itération nous avons le tableau réduit suivant\n",
    "$$\n",
    "\\begin{matrix}\n",
    "x_1 & 0 & 0 & 1 & 0 & 2\\\\\n",
    "x_2 & 0 & 0 & 0 & 1 & 1\\\\\n",
    "x_3 & 1 & 0 & -1 & 0 & 2\\\\\n",
    "x_6 & 0 & 1 & 0 & -1 & 1\\\\\n",
    "& 7 & 9 & 1 & 0 & 48\n",
    "\\end{matrix}\n",
    "$$\n",
    "La dernière ligne contient l'opposé des multiplicateurs, correspondant à $c_B^T B^{-1}$.\n",
    "\n",
    "Que vaut $B$? Et $B^{-1}$? La solution de base actuelle est-elle optimale? Si oui, justifier votre réponse. Si non, poursuivre l'application de la forme révisée du simplexe pour déterminer une solution optimale."
   ]
  },
  {
   "cell_type": "markdown",
   "metadata": {},
   "source": [
    "Les variables de base selon le dictionnaire sont $x_1$, $x_2$, $x_3$ et $x_6$. En se référant à la matrice $A$ initiale, incluant les variables artificielles, nous en déduisons\n",
    "$$\n",
    "B =\n",
    "\\begin{pmatrix}\n",
    "1 & 0 & 1 & 0 \\\\\n",
    "0 & 1 & 0 & 1 \\\\\n",
    "1 & 0 & 0 & 0 \\\\\n",
    "0 & 1 & 0 & 0\n",
    "\\end{pmatrix}\n",
    "$$\n",
    "\n",
    "La base initiale est la matrice identité. Dès lors, les colonnes du simplexe révisé donne immédiatement $B^-1$:\n",
    "\n",
    "$$\n",
    "B^{-1} =\n",
    "\\begin{pmatrix}\n",
    "0 & 0 & 1 & 0 \\\\\n",
    "0 & 0 & 0 & 1 \\\\\n",
    "1 & 0 & -1 & 0 \\\\\n",
    "0 & 1 & 0 & -1\n",
    "\\end{pmatrix}\n",
    "$$"
   ]
  },
  {
   "cell_type": "code",
   "execution_count": 1,
   "metadata": {},
   "outputs": [
    {
     "data": {
      "text/plain": [
       "4×4 Matrix{Int64}:\n",
       " 1  0  0  0\n",
       " 0  1  0  0\n",
       " 0  0  1  0\n",
       " 0  0  0  1"
      ]
     },
     "execution_count": 1,
     "metadata": {},
     "output_type": "execute_result"
    }
   ],
   "source": [
    "# Vérification du calcul\n",
    "B = [ 1 0 1 0 ; 0 1 0 1 ; 1 0 0 0 ; 0 1 0 0 ]\n",
    "invB = [ 0 0 1 0 ; 0 0 0 1 ; 1 0 -1 0 ; 0 1 0 -1 ]\n",
    "B*invB"
   ]
  },
  {
   "cell_type": "markdown",
   "metadata": {},
   "source": [
    "Pour voir si cette base est optimale, nous devons calculer les coûts réduits. Rappelons que les coûts réduits sont obtenus par\n",
    "$$\n",
    "r_D^T = c_D^T - c_B^TB^{-1}D = c_D^T - \\lambda^TD.\n",
    "$$\n",
    "Par la dernière ligne du tableau:\n",
    "$$\n",
    "\\lambda^T = - \\begin{pmatrix} 7 & 9 & 1 & 0 \\end{pmatrix}.\n",
    "$$\n",
    "Nous pouvons le vérifier:\n",
    "$$\n",
    "\\lambda^T = - \\begin{pmatrix} 8 & 9 & 7 & 9 \\end{pmatrix}\n",
    "\\begin{pmatrix}\n",
    "0 & 0 & 1 & 0 \\\\\n",
    "0 & 0 & 0 & 1 \\\\\n",
    "1 & 0 & -1 & 0 \\\\\n",
    "0 & 1 & 0 & -1\n",
    "\\end{pmatrix}\n",
    "= - \\begin{pmatrix} 7 & 9 & 1 & 0 \\end{pmatrix}.\n",
    "$$\n",
    "\n",
    "Dès lors,\n",
    "$$\n",
    "r_D^T = - \\begin{pmatrix} 6 & 8 \\end{pmatrix} + \\begin{pmatrix} 7 & 9 & 1 & 0 \\end{pmatrix}\n",
    "\\begin{pmatrix} 0 & 1 \\\\ 1 & 0 \\\\ 1 & 0 \\\\ 0 & 1 \\end{pmatrix}\n",
    "= \\begin{pmatrix} 4 & -1 \\end{pmatrix}.\n",
    "$$\n",
    "Il persiste un coût réduit négatif. La solution actuelle n'est donc pas optimale.\n",
    "Note: on a ignoré les deux dernières composantes de $\\lambda$, qui correspondent aux variables artificielles."
   ]
  },
  {
   "cell_type": "markdown",
   "metadata": {},
   "source": [
    "Nous faisons entrer dans la base $x_5$.\n",
    "Exprimons $y_5 = B^{-1}a_5$:\n",
    "$$\n",
    "y_5 = \\begin{pmatrix}\n",
    "0 & 0 & 1 & 0 \\\\\n",
    "0 & 0 & 0 & 1 \\\\\n",
    "1 & 0 & -1 & 0 \\\\\n",
    "0 & 1 & 0 & -1\n",
    "\\end{pmatrix}\n",
    "\\begin{pmatrix}\n",
    "1 \\\\ 0 \\\\ 0 \\\\ 1\n",
    "\\end{pmatrix}\n",
    "= \\begin{pmatrix}\n",
    "0 \\\\ 1 \\\\ 1 \\\\ -1\n",
    "\\end{pmatrix}\n",
    "$$"
   ]
  },
  {
   "cell_type": "markdown",
   "metadata": {},
   "source": [
    "Pivotage\n",
    "$$\n",
    "\\begin{matrix}\n",
    "x_1 & 0 & 0 & 1 & 0 & 2 & 0 \\\\\n",
    "x_2 & 0 & 0 & 0 & 1 & 1 & 1 \\\\\n",
    "x_3 & 1 & 0 & -1 & 0 & 2 & 1 \\\\\n",
    "x_6 & 0 & 1 & 0 & -1 & 1 & -1 \\\\\n",
    "-z & 7 & 9 & 1 & 0 & 48 & -1 \\\\\n",
    "\\end{matrix}\n",
    "$$\n",
    "Note: nous avons inséré le coût réduit associé à $y_5$ dans la dernière, comme nous devrons l'annuler.\n",
    "La règle du pivotage nous donne $x_2$ comme variable sortante, ce qui donne\n",
    "$$\n",
    "\\begin{matrix}\n",
    "x_1 & 0 & 0 & 1 & 0 & 2 \\\\\n",
    "x_5 & 0 & 0 & 0 & 1 & 1 \\\\\n",
    "x_3 & 1 & 0 & -1 & -1 & 1 \\\\\n",
    "x_6 & 0 & 1 & 0 & 0 & 2 \\\\\n",
    "-z & 7 & 9 & 1 & 1 & 49  \\\\\n",
    "\\end{matrix}\n",
    "$$"
   ]
  },
  {
   "cell_type": "markdown",
   "metadata": {},
   "source": [
    "Nous retrouvons les coûts réduits à la dernière ligne, que nous pouvons vérifier:\n",
    "$$\n",
    "-\\lambda^T = -c_B^TB^{-1} = \\begin{pmatrix} 8 & 8 & 7 & 9 \\end{pmatrix}\n",
    "\\begin{pmatrix} 0 & 0 & 1 & 0 \\\\ 0 & 0 & 0 & 1 \\\\ 1 & 0 & -1 & -1 \\\\ 0 & 1 & 0 & 0 \\end{pmatrix}\n",
    "= \\begin{pmatrix} 7 & 9 & 1 & 1 \\end{pmatrix}\n",
    "$$\n",
    "et\n",
    "$$\n",
    "r_D^T = c_D^T-\\lambda^TD = - \\begin{pmatrix} 9 & 6 \\end{pmatrix} + \\begin{pmatrix} 7 & 9 & 1 & 1 \\end{pmatrix}\n",
    "\\begin{pmatrix} 0 & 0 \\\\ 1 & 1 \\\\ 0 & 1 \\\\ 1 & 0 \\end{pmatrix}\n",
    "= \\begin{pmatrix} 1 & 4 \\end{pmatrix}\n",
    "$$"
   ]
  },
  {
   "cell_type": "markdown",
   "metadata": {},
   "source": [
    "Tous les coûts réduits sont strictement positifs; nous sommes à l'optimalité. La solution optimale est $(2, 0, 1, 0, 1, 2)$ et la valeur optimale, $-49$."
   ]
  },
  {
   "cell_type": "markdown",
   "metadata": {},
   "source": [
    "Vérifions-le avec JuMP"
   ]
  },
  {
   "cell_type": "code",
   "execution_count": 1,
   "metadata": {},
   "outputs": [],
   "source": [
    "using JuMP\n",
    "using HiGHS"
   ]
  },
  {
   "cell_type": "code",
   "execution_count": 2,
   "metadata": {},
   "outputs": [
    {
     "data": {
      "text/plain": [
       "1×4 Matrix{Int64}:\n",
       " 4  2  2  1"
      ]
     },
     "execution_count": 2,
     "metadata": {},
     "output_type": "execute_result"
    }
   ],
   "source": [
    "c = [ -8 -9 -7 -6 -8 -9 ]\n",
    "A = [ 1 0 1 0 1 0 ; 0 1 0 1 0 1 ; 1 0 0 1 0 0 ; 0 1 0 0 1 0 ]\n",
    "b = [ 4 2 2 1 ]"
   ]
  },
  {
   "cell_type": "code",
   "execution_count": 3,
   "metadata": {},
   "outputs": [
    {
     "data": {
      "text/latex": [
       "$$ \\begin{aligned}\n",
       "\\min\\quad & -8 x_{1} - 9 x_{2} - 7 x_{3} - 6 x_{4} - 8 x_{5} - 9 x_{6}\\\\\n",
       "\\text{Subject to} \\quad & x_{1} + x_{3} + x_{5} = 4\\\\\n",
       " & x_{2} + x_{4} + x_{6} = 2\\\\\n",
       " & x_{1} + x_{4} = 2\\\\\n",
       " & x_{2} + x_{5} = 1\\\\\n",
       " & x_{1} \\geq 0\\\\\n",
       " & x_{2} \\geq 0\\\\\n",
       " & x_{3} \\geq 0\\\\\n",
       " & x_{4} \\geq 0\\\\\n",
       " & x_{5} \\geq 0\\\\\n",
       " & x_{6} \\geq 0\\\\\n",
       "\\end{aligned} $$"
      ]
     },
     "metadata": {},
     "output_type": "display_data"
    }
   ],
   "source": [
    "\n",
    "m = Model(HiGHS.Optimizer)\n",
    "\n",
    "@variable(m, 0 <= x[1:6])\n",
    "\n",
    "for i = 1:4\n",
    "    @constraint(m, sum(A[i,j]*x[j] for j = 1:6) == b[i])\n",
    "end\n",
    "\n",
    "@objective(m, Min, sum(c[i]*x[i] for i = 1:6))\n",
    "\n",
    "print(m)"
   ]
  },
  {
   "cell_type": "code",
   "execution_count": 4,
   "metadata": {},
   "outputs": [
    {
     "name": "stdout",
     "output_type": "stream",
     "text": [
      "Running HiGHS 1.7.2 (git hash: 5ce7a2753): Copyright (c) 2024 HiGHS under MIT licence terms\n",
      "Coefficient ranges:\n",
      "  Matrix [1e+00, 1e+00]\n",
      "  Cost   [6e+00, 9e+00]\n",
      "  Bound  [0e+00, 0e+00]\n",
      "  RHS    [1e+00, 4e+00]\n",
      "Presolving model\n",
      "1 rows, 3 cols, 3 nonzeros  0s\n",
      "0 rows, 0 cols, 0 nonzeros  0s\n",
      "Presolve : Reductions: rows 0(-4); columns 0(-6); elements 0(-10) - Reduced to empty\n",
      "Solving the original LP from the solution after postsolve\n",
      "Model   status      : Optimal\n",
      "Objective value     : -4.9000000000e+01\n",
      "HiGHS run time      :          0.00\n",
      "Objective value: -49.0\n",
      "x = [2.0, 0.0, 1.0, 0.0, 1.0, 2.0]\n"
     ]
    }
   ],
   "source": [
    "optimize!(m)\n",
    "println(\"Objective value: \", objective_value(m))\n",
    "println(\"x = \", value.(x))"
   ]
  },
  {
   "cell_type": "markdown",
   "metadata": {},
   "source": [
    "De quelle quantité faut-il modifier le coût associé à la variable $x_2$ dans la fonction économique (i.e. son coefficient dans la fonction objectif) pour que le coût réduit de cette variable soit nul relativement à la base optimale obtenue au point précédent. Déterminer alors une solution de base optimale alternative."
   ]
  },
  {
   "cell_type": "markdown",
   "metadata": {},
   "source": [
    "Nous devons donc calculer le coût réduit associé à $x_2$ et déterminer $\\Delta c_2$, la quantité à ajouter à $c_2$, le coefficient de $x_2$ dans la fonction objectif.\n",
    "Il n'est pas nécessaire de calculer tous les coûts réduits, seul celui associé à $x_2$ importe:\n",
    "$r_2 = c'_2 - \\lambda^T a_2$, où $c'_2$ est le coût modifié dans la fonction objectif.\n",
    "Nous voulons annuler $r_2$, ce qui donne l'équation\n",
    "$$\n",
    "0 = c'_2 - \\lambda^T a_2.\n",
    "$$\n",
    "On en déduit immédiatement qu'il faudrait avoir $c'_2 = \\lambda^T a_2$, soit\n",
    "$$\n",
    "c'_2 = - \\begin{pmatrix} 7 & 9 & 1 & 1 \\end{pmatrix} \\begin{pmatrix} 0 & 1 & 0 & 1 \\end{pmatrix} = -10.\n",
    "$$\n",
    "De là\n",
    "$$\n",
    "\\Delta c_2 = c'_2 - c_2 = -10 + 9 = -1.\n",
    "$$"
   ]
  },
  {
   "cell_type": "markdown",
   "metadata": {},
   "source": [
    "Comme seul $c_2$ change, mais pas les autres éléments du problème, les autres coûts réduits sont inchangés, et la solution précédemment obtenue reste optimale. Néanmoins, nous pouvons à présent faire entrer $x_2$ dans la base optimale sans changer la valeur de la fonction objectif.\n",
    "\n",
    "Nous devons déterminer la variable entrante. Pour ce faire, calculons tout d'abord\n",
    "\n",
    "$$\n",
    "y_2 =\n",
    "\\begin{pmatrix}\n",
    "0 & 0 & 1 & 0 \\\\\n",
    "0 & 0 & 0 & 1 \\\\\n",
    "1 & 0 & -1 & -1 \\\\\n",
    "0 & 1 & 0 & 0\n",
    "\\end{pmatrix}\n",
    "\\begin{pmatrix}\n",
    "0 \\\\ 1 \\\\ 0 \\\\ 1\n",
    "\\end{pmatrix}\n",
    "=\n",
    "\\begin{pmatrix}\n",
    "0 \\\\ 1 \\\\ -1 \\\\ 1\n",
    "\\end{pmatrix}\n",
    "$$"
   ]
  },
  {
   "cell_type": "markdown",
   "metadata": {},
   "source": [
    "Procédons au pivotage\n",
    "$$\n",
    "\\begin{matrix}\n",
    "x_1 & 0 & 0 & 1 & 0 & 2 & 0 \\\\\n",
    "x_5 & 0 & 0 & 0 & 1 & 1 & 1 \\\\\n",
    "x_3 & 1 & 0 & -1 & -1 & 1 & -1 \\\\\n",
    "x_6 & 0 & 1 & 0 & 0 & 2 & 1\\\\\n",
    "-z & 7 & 9 & 1 & 1 & 49 & 0 \\\\\n",
    "\\end{matrix}\n",
    "$$\n",
    "On voit que $x_5$ sort de la base, pour donner\n",
    "$$\n",
    "\\begin{matrix}\n",
    "x_1 & 0 & 0 & 1 & 0 & 2 \\\\\n",
    "x_2 & 0 & 0 & 0 & 1 & 1 \\\\\n",
    "x_3 & 1 & 0 & -1 & 0 & 2 \\\\\n",
    "x_6 & 0 & 1 & 0 & -1 & 1 \\\\\n",
    "-z & 7 & 9 & 1 & 1 & 49 \\\\\n",
    "\\end{matrix}\n",
    "$$\n",
    "La nouvelle solution optimale est $(2, 1, 2, 0, 0, 1)$, associée à la même valeur optimale $-49$."
   ]
  },
  {
   "cell_type": "markdown",
   "metadata": {},
   "source": [
    "Note: comme la solution avant pivot était optimale, il n'est pas nécessaire de recalculer les nouveaux coûts réduits pour vérifier l'optimalité.\n",
    "\n",
    "On va néanmoins s'en convaincre:\n",
    "$$\n",
    "r_D^T = c_D^T - c_B^TB^{-1}D\n",
    "= \\begin{pmatrix} -6 & -8 \\end{pmatrix} + \\begin{pmatrix} 7 & 9 & 1 & 1 \\end{pmatrix}\n",
    "\\begin{pmatrix} 0 & 1 \\\\ 1 & 0 \\\\ 1 & 0 \\\\ 0 & 1 \\end{pmatrix}\n",
    "= \\begin{pmatrix} 4 & 0 \\end{pmatrix}\n",
    "$$"
   ]
  },
  {
   "cell_type": "markdown",
   "metadata": {},
   "source": [
    "## Question 4\n",
    "\n",
    "On considère le problème\n",
    "\\begin{align*}\n",
    "    \\min_x \\ & -8x -6y \\\\\n",
    "    \\text{s.c. } & 5x + 3y \\leq 30 \\\\\n",
    "    & 2x + 3y \\leq 24 \\\\\n",
    "    & x + 3y \\leq 18 \\\\\n",
    "    &x, y \\geq 0.\n",
    "\\end{align*}\n",
    "\t\n",
    "Résoudre ce problème par les méthodes du simplexe et du simplexe révisé."
   ]
  },
  {
   "cell_type": "markdown",
   "metadata": {},
   "source": [
    "On passe d'abord le problème sous forme standard, par l'ajout de variables d'écart $s_1,s_2,s_3$:\n",
    "\n",
    "\\begin{align*}\n",
    "    \\min_x \\ & -8x -6y \\\\\n",
    "    \\text{s.c. } & 5x + 3y +s_1 = 30 \\\\\n",
    "    & 2x + 3y + s_2 = 24 \\\\\n",
    "    & x + 3y +s_3 = 18 \\\\\n",
    "    &x, y,s_1,s_2,s_3 \\geq 0.\n",
    "\\end{align*}\n",
    "\n",
    "La matrice des contraintes est donnée par les colonnes\n",
    "\n",
    "\\begin{matrix}\n",
    "a_1 & a_2 & a_3 & a_4 & a_5 \\\\\n",
    "5 & 3 & 1 & 0 & 0 \\\\\n",
    "2 & 3 & 0 & 1 & 0 \\\\\n",
    "1 & 3 & 0 & 0 & 1\n",
    "\\end{matrix}."
   ]
  },
  {
   "cell_type": "markdown",
   "metadata": {},
   "source": [
    "### Résolution par la méthode du simplexe\n",
    "\n",
    "La solution de base canonique $(0,0,30,24,18)$, correspondant à la base $(s_1,s_2,s_3)$ est réalisable donc pas besoin de phase 1.\n",
    "\n",
    "Le tableau initial est donné par:\n",
    "\n",
    "\\begin{matrix}\n",
    "\\text{base} & x & y & s_1 & s_2 & s_3 & b \\\\\n",
    "s_1 & 5 & 3 & 1 & 0 & 0 & 30\\\\\n",
    "s_2 & 2 & 3 & 0 & 1 & 0 & 24 \\\\\n",
    "s_3 & 1 & 3 & 0 & 0 & 1 & 18 \\\\\n",
    "-z & -8 & -6 & 0 & 0 & 0 & 0\n",
    "\\end{matrix}\n",
    "\n",
    "Coûts réduits: $\\color{red}{-8}, -6$\n",
    "\n",
    "$\\color{red}{x}$ rentre dans la base.\n",
    "\n",
    "\n",
    "Valeurs de sortie: $\\color{blue}{30/5},24/2,18/1$\n",
    "\n",
    "$\\color{blue}{s_1}$ sort de la base\n",
    "\n",
    "Après pivotage, on a le tableau:\n",
    "\n",
    "\\begin{matrix}\n",
    "\\text{base} & x & y & s_1 & s_2 & s_3 & b \\\\\n",
    "x & 1 & 3/5 & 1/5 & 0 & 0 & 6\\\\\n",
    "s_2 & 0 & 9/5 & -2/5 & 1 & 0 & 12 \\\\\n",
    "s_3 & 0 & 12/5 & -1/5 & 0 & 1 & 12 \\\\\n",
    "-z & 0 & -6/5 & 8/5 & 0 & 0 & 48\n",
    "\\end{matrix}\n",
    "\n",
    "Il n y a qu'un seul coût réduit négatif: $\\color{red}{-6/5}$\n",
    "\n",
    "$\\color{red}{y}$ rentre dans la base.\n",
    "\n",
    "\n",
    "Valeurs de sortie: $30/3, 60/9, \\color{blue}{5}$\n",
    "\n",
    "$\\color{blue}{s_3}$ sort de la base.\n",
    "\n",
    "Après pivotage, on a le tableau:\n",
    "\n",
    "\\begin{matrix}\n",
    "\\text{base} & x & y & s_1 & s_2 & s_3 & b \\\\\n",
    "x & 1 & 0 & 1/4 & 0 & -1/4 & 3\\\\\n",
    "s_2 & 0 & 0 & -1/4 & 1 & -3/4 & 3 \\\\\n",
    "y & 0 & 1 & -1/12 & 0 & 5/12 & 5 \\\\\n",
    "-z & 0 & 0& 3/2 & 0 & 1/2 & 54\n",
    "\\end{matrix}\n",
    "\n",
    "Tous les coûts réduits sont positifs, la solution est **optimale**.\n",
    "\n",
    "La base optimale est $(x,s_2,y)$, la solution associée est $(3,5,0,3,0)$ pour une valeur objectif de $-54$."
   ]
  },
  {
   "cell_type": "markdown",
   "metadata": {},
   "source": [
    "### Résolution par la méthode du simplexe révisé\n",
    "\n",
    "La solution initiale est toujours celle  correspondant à la base $(s_1,s_2,s_3)$\n",
    "\n",
    "Le tableau initial est donc donné par:\n",
    "\n",
    "\\begin{matrix}\n",
    "\\text{base} & s_1 & s_2 & s_3 & b \\\\\n",
    "s_1 & 1 & 0 & 0 & 30\\\\\n",
    "s_2 & 0 & 1 & 0 & 24 \\\\\n",
    "s_3 & 0 & 0 & 1 & 18 \\\\\n",
    "-z & 0 & 0 & 0 & 0\n",
    "\\end{matrix}\n",
    "\n",
    "L'inverse de la matrice de base vaut $B^{-1} = \\begin{pmatrix} 1 & 0 & 0 \\\\ 0 & 1 & 0 \\\\ 0 & 0 & 1\\end{pmatrix}$\n",
    "\n",
    "Comme nous sommes à la première itération, les coûts réduits sont les coûts initiaux des variables hors-base $(x,y)$: $\\color{red}{-8}, -6$\n",
    "\n",
    "$\\color{red}{x_1}$ rentre dans la base.\n",
    "\n",
    "On exprime $y_1 = B^{-1}a_1 = a_1 = \\begin{pmatrix} 5 \\\\ 2 \\\\ 1 \\end{pmatrix}$\n",
    "\n",
    "**Remarque:** Par rapport à la question **a)**, le vecteur $y_1$ est la colonne de la variable $x_1$ dans le tableau de la première itération.\n",
    "\n",
    "Procédons au choix de la variable de sortie en juxtaposant $y_1$ au tableau:\n",
    "\n",
    "\\begin{matrix}\n",
    "\\text{base} & s_1 & s_2 & s_3 & b & \\color{red}{y_1}\\\\\n",
    "s_1 & 1 & 0 & 0 & 30 & \\color{red}{5}\\\\\n",
    "s_2 & 0 & 1 & 0 & 24 & \\color{red}{2}\\\\\n",
    "s_3 & 0 & 0 & 1 & 18 & \\color{red}{1}\\\\\n",
    "-z & 0 & 0 & 0 & 0 & \\color{red}{-8}\n",
    "\\end{matrix}\n",
    "\n",
    "Le coefficient **-8** de la dernière ligne est le coût réduit de la variable $x_1$ dans la base $(s_1,s_2,s_3)$.\n",
    "\n",
    "Valeurs de sortie: $\\color{blue}{30/5},24/2,18/1$\n",
    "\n",
    "$\\color{blue}{s_1}$ sort de la base\n",
    "\n",
    "Après pivotage, qui correspond aux opérations permettant de transformer $y_1$ en $(1 \\ 0 \\ 0)$, on a le tableau:\n",
    "\n",
    "\\begin{matrix}\n",
    "\\text{base} & s_1 & s_2 & s_3 & b \\\\\n",
    "x & 1/5 & 0 & 0 & 6\\\\\n",
    "s_2 & -2/5 & 1 & 0 & 12 \\\\\n",
    "s_3 & -1/5 & 0 & 1 & 12 \\\\\n",
    "-z & 8/5 & 0 & 0 & 48\n",
    "\\end{matrix}\n",
    "\n",
    "On remarque que ce tableau n'est rien d'autre que la restriction du tableau du simplexe après le premier pivot aux colonnes des variables $(s_1,s_2,s_3)$ et du terme de droite $b$.\n",
    "\n",
    "L'inverse de la matrice de base vaut $B^{-1} = \\begin{pmatrix} 1/5 & 0 & 0 \\\\ -2/5 & 1 & 0  \\\\ -1/5 & 0 & 1\\end{pmatrix}$\n",
    "\n",
    "Le vecteur des multiplicateurs est donné par $\\lambda = (-8/5,0,0)^T$.\n",
    "\n",
    "Les coûts réduits des variables hors base sont \n",
    "\n",
    "\\begin{align*}r_D^T &= c_D^T - \\lambda^T [a_2\\ a_3]\\\\\n",
    "&= (-6 \\ 0) - (-8/5\\ 0\\ 0)\\begin{pmatrix} 3 & 1 \\\\ 3 & 0 \\\\ 3 & 0\\end{pmatrix} \\\\\n",
    "&= (-6/5,\\ 8/5)\\end{align*}\n",
    "\n",
    "Il n y a qu'un seul coût réduit négatif: $\\color{red}{-6/5}$\n",
    "\n",
    "$\\color{red}{y}$ rentre dans la base.\n",
    "\n",
    "On exprime $y_2 = B^{-1}a_2 = \\begin{pmatrix} 1/5 & 0 & 0 \\\\ -2/5 & 1 & 0  \\\\ -1/5 & 0 & 1\\end{pmatrix}  \\begin{pmatrix} 3  \\\\ 3  \\\\ 3 \\end{pmatrix} = \\begin{pmatrix} 3/5 \\\\ 9/5 \\\\ 12/5\\end{pmatrix}$\n",
    "\n",
    "Encore une fois, par rapport à la question précédente, $y_2$ est la colonne de la variable $y$ dans le tableau de la deuxième itération.\n",
    "\n",
    "\\begin{matrix}\n",
    "\\text{base} & s_1 & s_2 & s_3 & b & \\color{red}{y_2}\\\\\n",
    "x & 1/5 & 0 & 0 & 6 & \\color{red}{3/5}\\\\\n",
    "s_2 & -2/5 & 1 & 0 & 12 & \\color{red}{9/5}\\\\\n",
    "s_3 & -1/5 & 0 & 1 & 12 & \\color{red}{12/5}\\\\\n",
    "-z &8/5 & 0 & 0 & 48 & \\color{red}{-6/5}\n",
    "\\end{matrix}\n",
    "\n",
    "Valeurs de sortie: $30/3, 60/9, \\color{blue}{5}$\n",
    "\n",
    "$\\color{blue}{s_3}$ sort de la base.\n",
    "\n",
    "Après pivotage, qui correspond aux opérations permettant de transformer $y_2$ en $(0 \\ 0 \\ 1)$ on a le tableau:\n",
    "\n",
    "\\begin{matrix}\n",
    "\\text{base} & s_1 & s_2 & s_3 & b \\\\\n",
    "x &  1/4 & 0 & -1/4 & 3\\\\\n",
    "s_2  & -1/4 & 1 & -3/4 & 3 \\\\\n",
    "y & -1/12 & 0 & 5/12 & 5 \\\\\n",
    "-z & 3/2 & 0 & 1/2 & 54\n",
    "\\end{matrix}\n",
    "\n",
    "A nouveau, ce tableau n'est rien d'autre que la restriction du tableau du simplexe après le deuxième pivot aux colonnes des variables $(s_1,s_2,s_3)$ et du terme de droite $b$.\n",
    "\n",
    "L'inverse de la matrice de base vaut $B^{-1} = \\begin{pmatrix} 1/4 & 0 & -1/4 \\\\ -1/4 & 1 & -3/4  \\\\ -1/12 & 0 & 5/12 \\end{pmatrix}$\n",
    "\n",
    "Le vecteur des multiplicateurs est donné par l'opposé de la dernière ligne du tableau: $\\lambda = (-3/2,0,-1/2)^T$.\n",
    "\n",
    "Les coûts réduits des variables hors base sont \n",
    "\n",
    "\\begin{align*}r_D^T &= c_D^T - \\lambda^T [a_3\\ a_5]\\\\\n",
    "&= (0 \\ 0) -  (-3/2,0,-1/2)\\begin{pmatrix} 1 & 0 \\\\ 0 & 0 \\\\ 0 & 1\\end{pmatrix} \\\\\n",
    "&= (3/2\\ 1/2)\\end{align*}\n",
    "\n",
    "Tous les coûts réduits sont positifs, la solution est **optimale**.\n",
    "\n",
    "La base optimale est $(x,s_2,y)$, ce qui donne bien la même solution qu'avec la méthode du simplexe."
   ]
  }
 ],
 "metadata": {
  "kernelspec": {
   "display_name": "Julia 1.10.2",
   "language": "julia",
   "name": "julia-1.10"
  },
  "language_info": {
   "file_extension": ".jl",
   "mimetype": "application/julia",
   "name": "julia",
   "version": "1.10.2"
  }
 },
 "nbformat": 4,
 "nbformat_minor": 2
}
