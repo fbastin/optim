{
 "cells": [
  {
   "cell_type": "markdown",
   "metadata": {},
   "source": [
    "# Question 1\n",
    "\n",
    "Considérons le système d'inégalités $Ax \\geq b$, $x \\geq 0$, où $b \\geq 0$. Nous transformons ce\n",
    "système sous une forme standard en introduisant m variables de surplus $y$ pour\n",
    "obtenir le système suivant $Ax-y = b$, $x \\geq 0$, $y \\geq 0$ où $b \\geq 0$. Dénotons\n",
    "\\begin{gather*}\n",
    "b_k = \\max_{1 \\leq 1 \\leq m} \\lbrace b_i \\rbrace,\n",
    "\\end{gather*}\n",
    "et considérons le nouveau problème sous forme standard obtenu du précédent en\n",
    "additionnant la $k$ième ligne à toutes les autres lignes après avoir changé leur signe.\n",
    "\n",
    "Indiquez pourquoi il suffit d'introduire une seule variable artificielle dans une phase I pour obtenir\n",
    "une solution de base réalisable initiale.\n",
    "\n",
    "\n",
    "Illustrer cette procédure sur le problème suivant\n",
    "\\begin{align*}\n",
    "x_1 + 2x_2 + x_3 &\\geq 4 \\\\\n",
    "2x_1 + x_2 + x_3 &\\geq 5 \\\\\n",
    "2x_1 + 3x_2 + 2x_3 &\\geq 6 \\\\\n",
    "x_j \\geq 0,\\ j &= 1,2,3.\n",
    "\\end{align*}"
   ]
  },
  {
   "cell_type": "markdown",
   "metadata": {},
   "source": [
    "## Solution question 1"
   ]
  },
  {
   "cell_type": "markdown",
   "metadata": {},
   "source": [
    "On introduit les variables $y_1$, $y_2$ et $y_3$ dans le problème pour le mettre sous forme standard\n",
    "\\begin{align*}\n",
    "x_1 + 2x_2 + x_3 - y_1 & =  4 \\\\\n",
    "2x_1 + x_2 + x_3 - y_2 & = 5 \\\\\n",
    "2x_1 + 3x_2 + 2x_3 - y_3 & = 6 \\\\\n",
    "x_j \\geq 0,\\ j &= 1,2,3,\\\\\n",
    "y_j \\geq 0,\\ j &= 1,2,3.\n",
    "\\end{align*}"
   ]
  },
  {
   "cell_type": "markdown",
   "metadata": {},
   "source": [
    "On utilise l'indication, on choisit\n",
    "\\begin{gather*}\n",
    "b_k = \\max_{1 \\leq 1 \\leq 3} \\lbrace b_i \\rbrace = b_3\n",
    "\\end{gather*}\n",
    "et on effectue les opérations comme dans l'énoncé\n",
    "\\begin{align*}\n",
    "x_1 + x_2 + x_3 - y_3 + y_1 & =  2 \\\\\n",
    "2x_2 + x_3 - y_3 + y_2 & = 1 \\\\\n",
    "2x_1 + 3x_2 + 2x_3 - y_3 & = 6 \\\\\n",
    "x_j \\geq 0,\\ j &= 1,2,3,\\\\\n",
    "y_j \\geq 0,\\ j &= 1,2,3,\\\\\n",
    "t_1 \\ge 0.\n",
    "\\end{align*}"
   ]
  },
  {
   "cell_type": "markdown",
   "metadata": {},
   "source": [
    "On obtient ainsi un système totalement équivalent au premier sur lequel on peut appliquer la phase I qui prend la forme suivante"
   ]
  },
  {
   "cell_type": "markdown",
   "metadata": {},
   "source": [
    "\\begin{align*}\n",
    "&\\max t_1\\\\\n",
    "&\\begin{aligned}\n",
    "\\text{tel que } \\quad x_1 + x_2 + x_3 - y_3 + y_1 & =  2 \\\\\n",
    "2x_2 + x_3 - y_3 + y_2 & = 1 \\\\\n",
    "2x_1 + 3x_2 + 2x_3 - y_3 + t_1 & = 6 \\\\\n",
    "t_1,\\ x_j, y_j \\geq 0,\\ j &= 1,2,3.\n",
    "\\end{aligned}\n",
    "\\end{align*}"
   ]
  },
  {
   "cell_type": "markdown",
   "metadata": {},
   "source": [
    "De manière générale, on aurait"
   ]
  },
  {
   "cell_type": "markdown",
   "metadata": {},
   "source": [
    "Pour $i=k$,\n",
    "\\begin{align*}\n",
    "\\sum_{j=1}^{n} a_{kj} x_j - y_k + t_1 = b_k \\ge 0\n",
    "\\end{align*}\n",
    "\n",
    "\n",
    "Pour $i = 1, \\ldots, m$ et $i \\ne k$,\n",
    "\\begin{align*}\n",
    "\\sum _{j=1}^{n} ( a_{kj} - a_{ij} ) x_j - y_k + y_i = b_k - b_i \\ge 0\n",
    "\\end{align*}\n",
    "Le système est équivalent par construction et il est réalisable puisque les\n",
    "termes de droites sont non-négatifs. \n",
    "Pour $i = 1, \\ldots, m$ et $i \\ne k$, on maintenant que $y_i$ est une variable de base.\n",
    "Il ne manque plus qu'à déterminer une dernière variable de base et pour ce faire on \n",
    "fait une phase I en ajoutant la variable $t_1$ à la kième équation."
   ]
  },
  {
   "cell_type": "markdown",
   "metadata": {},
   "source": [
    "# Question 2\n",
    "\n",
    "Question 5 de l'examen intra A2011."
   ]
  },
  {
   "cell_type": "markdown",
   "metadata": {},
   "source": [
    "On a le problème suivant\n",
    "\\begin{align*} \n",
    "\\begin{array}{l c c c c c c c} \n",
    "  \\min\\  z  = &  -3x_1    & - &  x_2   & - &  3x_3  &  &   \\\\ \n",
    "  \\text{tel que }   &  2x_1     & + &  1x_2  & + &  x_3   &  \\leq  & 2  \\\\ \n",
    "            &  x_1      & + &  2x_2  & + &  3x_3  &  \\leq  & 5  \\\\ \n",
    "            &  2x_1     & + &  2x_2  & + &  x_3   &  \\leq  & 6  \\\\ \n",
    "            & x_1 && x_2 && x_3 & \\geq & 0      \\\\ \n",
    "\\end{array} \n",
    "\\end{align*}"
   ]
  },
  {
   "cell_type": "markdown",
   "metadata": {},
   "source": [
    "**(a)** Transformer le problème sous forme standard"
   ]
  },
  {
   "cell_type": "markdown",
   "metadata": {},
   "source": [
    "**(b)** À une itération du simplexe révisé on obtient \n",
    "\\begin{equation}\n",
    "\\begin{array}{ccccccc}\n",
    "x_1 &\\frac{1}{2} & 0 & 0 & 1 \\\\ \n",
    "x_5 &\\frac{-1}{2} & 1 & 0 & 4 \\\\ \n",
    "x_6 &-1 & 0 & 1 & 4 \\\\ \n",
    "-z &\\frac{3}{2} & 0 & 0 & 3 \\\\ \n",
    "\\end{array}\n",
    "\\end{equation}\n",
    "où dans la dernière ligne on a mis **l'opposé du vecteur des multiplicateurs** $\\lambda^t$ $\\left(\\lambda^t=c^t_B B^{-1} \\right)$.\n",
    "\n",
    "Quelle est la base associée à cette itération?"
   ]
  },
  {
   "cell_type": "markdown",
   "metadata": {},
   "source": [
    "**(c)** En partant du tableau du simplexe révisé en **(b)**, continuer l'algorithme du simplexe révisé jusqu'à l'optimum."
   ]
  },
  {
   "cell_type": "markdown",
   "metadata": {},
   "source": [
    "**(d)**\n",
    "Soit le nouveau coût initial $\\hat{c}_2 = c_2+\\delta$, où $c_2=-1$ est le coût initial associé à $x_2$. Pour quelle valeur de $\\delta$ la solution trvouvée en $\\textbf{(b)}$ demeure-t-elle optimale?"
   ]
  },
  {
   "cell_type": "markdown",
   "metadata": {},
   "source": [
    "## Solution question 2\n",
    "\n",
    "**(a)** Pour transformer le problème sous forme standard, on introduit des variables d'écarts $x_4$, $x_5$ et $x_6$.\n",
    "\n",
    "\\begin{align*}\n",
    "\\begin{array}{l c c c c c c c c c c c c c}\n",
    "  \\min  z  = &  -3x_1    & - &  x_2   & - &  3x_3  &   &       &   &     &  &      &  &   \\\\\n",
    "  \\text{tel que }    &  2x_1     & + &  x_2  & + &  x_3   & + &  x_4  &   &     &  &      &= & 2  \\\\\n",
    "            &  x_1      & + &  2x_2  & + &  3x_3  &   &       & + & x_5 &  &      &= & 5  \\\\\n",
    "            &  2x_1     & + &  2x_2  & + &  x_3   &   &       &   &     & +&  x_6 &= & 6  \\\\\n",
    "            &  x_1, && x_2, && x_3, && x_4, && x_5, && x_6 & \\geq & 0   \n",
    "\\end{array}\n",
    "\\end{align*}"
   ]
  },
  {
   "cell_type": "markdown",
   "metadata": {},
   "source": [
    "**(b)**\n",
    "La base B est composée des colonnes associées aux variables $x_1$, $x_5$ et $x_6$.\n",
    "$$\n",
    "B = \\begin{pmatrix}\n",
    "    2 & 0 & 0 \\\\\n",
    "    1 & 1 & 0 \\\\\n",
    "    2 & 0 & 1\n",
    "\\end{pmatrix}\n",
    "$$"
   ]
  },
  {
   "cell_type": "markdown",
   "metadata": {},
   "source": [
    "**(c)**\n",
    "Pour savoir si nous devons poursuivre la résolution du problème, nous\n",
    "calculons d'abord les coûts réduits:\n",
    "\n",
    "Nous disposons dans le tableau de\n",
    "l'inverse de la base, et du vecteur multiplicateur $\\lambda$: $\\lambda^t = \\left(\\frac{-3}{2}, 0, 0 \\right)$.\n",
    "\n",
    "Pour calculer les coûts réduits :\n",
    "\n",
    "$\\bar c^t = c^t - \\lambda^t A $ \n",
    "\n",
    "$\\bar c^t$ = (0, $\\frac{1}{2}$, $\\frac{-3}{2}$, $\\frac{3}{2}$, 0 0)\n",
    "\n",
    "$\\bar c_3 < 0$ la base courante n'est pas optimale. $x_3$ rentre dans la base.\n",
    "\n",
    "Déterminons la variable de sortie:\n",
    "\n",
    "$y_3 = B^{-1}A_3$ \n",
    "\n",
    "$$\n",
    "y_3 = \\begin{pmatrix}\n",
    "      1/2  \\\\\n",
    "      5/2  \\\\\n",
    "      0\n",
    "\\end{pmatrix}\n",
    "$$\n",
    "De plus, $\\min \\left\\{ \\frac{1}{1/2}, \\frac{4}{5/2} \\right\\} = 8/5$.\n",
    "Ainsi $x_5$ sort de la base.\n",
    "\n",
    "\n",
    "\\begin{align*}\n",
    "\\begin{array} { c c c c c|  c}\n",
    "        &    &   &   &   &  y_3  \\\\\n",
    "\\hline\n",
    " x_1    & 1/2 & 0 & 0 & 1 & 1/2  \\\\\n",
    " x_5    & -1/2 & 1 & 0 & 4 & 5/2 \\\\\n",
    " x_6    & -1  & 0 & 1 & 4 &  0 \\\\\n",
    "\\hline\n",
    " -z     & 3/2 & 0 & 0 & 3 & -3/2 \\\\\n",
    "\\hline\n",
    "\\end{array}\n",
    "\\end{align*}\n",
    "\n",
    "\n",
    "Les opérations sur les lignes se résument ainsi:\n",
    "$L'_1 \\leftarrow L_1 - \\frac{1}{2} L'_2$ \\\\\n",
    "$L'_2 \\leftarrow \\frac{2}{5} L_2$ \\\\\n",
    "$L'_3 \\leftarrow L_3$ \\\\\n",
    "$L'_4 \\leftarrow L_4 + \\frac{3}{2} L' _2$\n",
    "\n",
    "Le nouveau tableau du simplexe révisé est donc le suivant:\n",
    "\n",
    "\\begin{align*}\n",
    "\\begin{array}{|c| c c c |c|}\n",
    "\\hline\n",
    " x_1  & 3/5  & -1/5 & 0 & 1/5  \\\\\n",
    " x_3  & -1/5 & 2/5  & 0 & 8/5  \\\\\n",
    " x_6  & -1   & 0    & 1 & 4    \\\\\n",
    "\\hline\n",
    " -z   & 6/5  & 3/5  & 0 & 27/5 \\\\\n",
    "\\hline\n",
    "\\end{array}\n",
    "\\end{align*}\n",
    "\n",
    "Dès lors,\n",
    "$$\n",
    "B^{-1} = \\begin{pmatrix}\n",
    "    3/5 & -1/5 & 0 \\\\\n",
    "    -1/5 & 2/5 & 0 \\\\\n",
    "    -1 & 0 & 1\n",
    "\\end{pmatrix}\n",
    "$$\n",
    "et\n",
    "$$\n",
    "\\lambda^t = c_b^t B^{-1} = (-6/5 , -3/5, 0).\n",
    "$$\n",
    "et nous pouvons calculer les coûts réduits $\\bar c^t = c^t - \\lambda^tA$:\n",
    "$$\n",
    "\\bar c^t = (0, 7/5, 0, 6/5, 3/5, 0).\n",
    "$$\n",
    "Tous les coûts réduits sont positifs ou nuls. La base courante est donc optimale.\n",
    "Une solution optimale est donnée par :\n",
    "$x_1^* = 1/5$, $x_2^* = 0$, $x_3^* = 8/5$, $x_4^* = 0$, $x_5^* = 0$, $x_6^* = 4$, de valeur optimale -27/5."
   ]
  },
  {
   "cell_type": "markdown",
   "metadata": {},
   "source": [
    "**(d)**\n",
    "La solution demeure optimale tant que $(-1 + \\delta) - \\lambda A_2 \\geq 0$.\n",
    "Alors la solution demeure réalisable pour tout $\\delta \\geq -7/5$."
   ]
  },
  {
   "cell_type": "markdown",
   "metadata": {},
   "source": [
    "### Question supplémentaire : Dualité"
   ]
  },
  {
   "cell_type": "markdown",
   "metadata": {},
   "source": [
    "**(e)**\n",
    "Formuler le dual du problème et vérifier que $\\lambda = (-1.2, 0.6, 0)$ est une solution réalisable de ce problème.\n",
    "\n",
    "Le dual de (P) est:\n",
    "\n",
    "\\begin{align*}\n",
    "\\begin{array}{c c c c c c c c}\n",
    "\\max    & 2 \\lambda_1  &  + & 5 \\lambda_2  &  +  & 6 \\lambda_3  &        &    \\\\\n",
    "  \\text{tel que }   & 2 \\lambda_1  & +  &   \\lambda_2  &  +  & 2 \\lambda_3  &  \\leq  & -3 \\\\\n",
    "       &  \\lambda_1   & +  & 2 \\lambda_2  &  +  & 2 \\lambda_3  &  \\leq  & -1 \\\\\n",
    "       & \\lambda_1  & +  & 3 \\lambda_2  &  +  &  \\lambda_3   &  \\leq  & -3 \\\\\n",
    "       &  \\lambda_1   &    &            &     &            &  \\leq  & 0 \\\\\n",
    "       &            &    &   \\lambda_2  &     &            &  \\leq  & 0 \\\\\n",
    "       &            &    &            &     & \\lambda_3    &  \\leq  & 0 \\\\\n",
    "\\end{array}\n",
    "\\end{align*}\n",
    "\n",
    "\n",
    "Le vecteur $\\lambda = (-1.2, 0.6, 0)$ est égal au vecteur des multiplicateurs\n",
    "optimaux (-6/5, -3/5, 0).  Le vecteur des multiplicateurs étant solution\n",
    "réalisable et optimale du problème dual, on a vérifié que $\\lambda$ est\n",
    "réalisable dans le dual."
   ]
  },
  {
   "cell_type": "markdown",
   "metadata": {},
   "source": [
    "## Question 3, \\#4 examen Intra 2018"
   ]
  },
  {
   "cell_type": "markdown",
   "metadata": {},
   "source": [
    "Soit le problème de programmation linéaire suivant\n",
    "\\begin{align*}\n",
    "\\min_x \\ &z = –8x_1 – 9x_2 – 7x_3  – 6x_4  – 8x_5 – 9x_6 \\\\\n",
    "\\mbox{sujet à } & x_1          + x_3               +x_5           = 4 \\\\\n",
    "& x_2 + x_4 + x_6 = 2 \\\\\n",
    "& x_1 + x_4 = 2 \\\\\n",
    "& x_2 + x_5 = 1 \\\\\n",
    "& x_j \\geq 0,\\ j = 1,2,\\ldots,6.\n",
    "\\end{align*}"
   ]
  },
  {
   "cell_type": "markdown",
   "metadata": {},
   "source": [
    "Utilisez la phase I de la méthode à deux phases pour trouver une solution réalisable au problème."
   ]
  },
  {
   "cell_type": "markdown",
   "metadata": {},
   "source": [
    "La forme révisée du simplexe est utilisée pour résoudre le problème, et à une certaine itération nous avons le tableau réduit suivant\n",
    "$$\n",
    "\\begin{matrix}\n",
    "x_1 & 0 & 0 & 1 & 0 & 2\\\\\n",
    "x_2 & 0 & 0 & 0 & 1 & 1\\\\\n",
    "x_3 & 1 & 0 & -1 & 0 & 2\\\\\n",
    "x_6 & 0 & 1 & 0 & -1 & 1\\\\\n",
    "& 7 & 9 & 1 & 0 & 48\n",
    "\\end{matrix}\n",
    "$$\n",
    "La dernière ligne contient l'opposé des multiplicateurs, correspondant à $c_B^T B^{-1}$.\n",
    "\n",
    "Que vaut $B$? Et $B^{-1}$? La solution de base actuelle est-elle optimale? Si oui, justifier votre réponse. Si non, poursuivre l'application de la forme révisée du simplexe pour déterminer une solution optimale."
   ]
  },
  {
   "cell_type": "markdown",
   "metadata": {},
   "source": [
    "De quelle quantité faut-il modifier le coût associé à la variable $x_2$ dans la fonction économique (i.e. son coefficient dans la fonction objectif) pour que le coût réduit de cette variable soit nul relativement à la base optimale obtenue au point précédent. Déterminer alors une solution de base optimale alternative."
   ]
  },
  {
   "cell_type": "markdown",
   "metadata": {},
   "source": [
    "# Solution question 3"
   ]
  },
  {
   "cell_type": "markdown",
   "metadata": {},
   "source": [
    "Remarquons tout d'abord que $x_3$ et $x_6$ sont isolées, aussi nous n'avons que deux variables artificielles à ajouter, aux troisième et quatrième contraintes, donnant le problème artificiel suivant:\n",
    "\\begin{align*}\n",
    "\\min_{x} \\ & x_7 + x_8 \\\\\n",
    "\\mbox{sujet à } & x_1 + x_3               +x_5           = 4 \\\\\n",
    "& x_2 + x_4 + x_6 = 2 \\\\\n",
    "& x_1 + x_4 + x_7 = 2 \\\\\n",
    "& x_2 + x_5 + x_8 = 1 \\\\\n",
    "& x_j \\geq 0,\\ j = 1,2,\\ldots,8.\n",
    "\\end{align*}\n",
    "\n",
    "Ceci mène à la séquence suivante d'itérations de l'algorithme du simplexe:\n",
    "$$\n",
    "\\begin{matrix}\n",
    "1 & 0 & 1 & 0 & 1 & 0 & 0 & 0 & 4 \\\\\n",
    "0 & 1 & 0 & 1 & 0 & 1 & 0 & 0 & 2 \\\\\n",
    "1 & 0 & 0 & 1 & 0 & 0 & 1 & 0 & 2 \\\\\n",
    "0 & 1 & 0 & 0 & 1 & 0 & 0 & 1 & 1 \\\\\n",
    "0 & 0 & 0 & 0 & 0 & 0 & 1 & 1 & 0\n",
    "\\end{matrix}\n",
    "$$\n",
    "Après annulation des coûts réduits, nous avons\n",
    "$$\n",
    "\\begin{matrix}\n",
    "1 & 0 & 1 & 0 & 1 & 0 & 0 & 0 & 4 \\\\\n",
    "0 & 1 & 0 & 1 & 0 & 1 & 0 & 0 & 2 \\\\\n",
    "1 & 0 & 0 & 1 & 0 & 0 & 1 & 0 & 2 \\\\\n",
    "0 & 1 & 0 & 0 & 1 & 0 & 0 & 1 & 1 \\\\\n",
    "-1 & -1 & 0 & -1 & -1 & 0 & 0 & 0 & -3\n",
    "\\end{matrix}\n",
    "$$\n",
    "Faisons entrer $x_1$ dans la base. $x_7$ sort, donnant\n",
    "$$\n",
    "\\begin{matrix}\n",
    "0 & 0 & 1 & -1 & 1 & 0 & -1 & 0 & 2 \\\\\n",
    "0 & 1 & 0 & 1 & 0 & 1 & 0 & 0 & 2 \\\\\n",
    "1 & 0 & 0 & 1 & 0 & 0 & 1 & 0 & 2 \\\\\n",
    "0 & 1 & 0 & 0 & 1 & 0 & 0 & 1 & 1 \\\\\n",
    "0 & -1 & 0 & 0 & -1 & 0 & 1 & 0 & -1\n",
    "\\end{matrix}\n",
    "$$\n",
    "Nous pouvons à présent faire entrer $x_2$ dans la base, en faisant sortir $x_8$, ce qui donne\n",
    "$$\n",
    "\\begin{matrix}\n",
    "0 & 0 & 1 & -1 & 1 & 0 & -1 & 0 & 2 \\\\\n",
    "0 & 0 & 0 & 1 & -1 & 1 & 0 & -1 & 1 \\\\\n",
    "1 & 0 & 0 & 1 & 0 & 0 & 1 & 0 & 2 \\\\\n",
    "0 & 1 & 0 & 0 & 1 & 0 & 0 & 1 & 1 \\\\\n",
    "0 & 0 & 0 & 0 & 0 & 0 & 1 & 1 & 0\n",
    "\\end{matrix}\n",
    "$$\n",
    "Dès lors, une solution réalisable au problème initial est $x = (2, 1, 2, 0, 0, 1)$."
   ]
  },
  {
   "cell_type": "markdown",
   "metadata": {},
   "source": [
    "La forme révisée du simplexe est utilisée pour résoudre le problème, et à une certaine itération nous avons le tableau réduit suivant\n",
    "$$\n",
    "\\begin{matrix}\n",
    "x_1 & 0 & 0 & 1 & 0 & 2\\\\\n",
    "x_2 & 0 & 0 & 0 & 1 & 1\\\\\n",
    "x_3 & 1 & 0 & -1 & 0 & 2\\\\\n",
    "x_6 & 0 & 1 & 0 & -1 & 1\\\\\n",
    "& 7 & 9 & 1 & 0 & 48\n",
    "\\end{matrix}\n",
    "$$\n",
    "La dernière ligne contient l'opposé des multiplicateurs, correspondant à $c_B^T B^{-1}$.\n",
    "\n",
    "Que vaut $B$? Et $B^{-1}$? La solution de base actuelle est-elle optimale? Si oui, justifier votre réponse. Si non, poursuivre l'application de la forme révisée du simplexe pour déterminer une solution optimale."
   ]
  },
  {
   "cell_type": "markdown",
   "metadata": {},
   "source": [
    "Les variables de base selon le dictionnaire sont $x_1$, $x_2$, $x_3$ et $x_6$. En se référant à la matrice $A$ initiale, incluant les variables artificielles, nous en déduisons\n",
    "$$\n",
    "B =\n",
    "\\begin{pmatrix}\n",
    "1 & 0 & 1 & 0 \\\\\n",
    "0 & 1 & 0 & 1 \\\\\n",
    "1 & 0 & 0 & 0 \\\\\n",
    "0 & 1 & 0 & 0\n",
    "\\end{pmatrix}\n",
    "$$\n",
    "La base initiale est la matrice identité. Dès lors, les colonnes du simplexe révisé donne immédiatement $B^-1$:\n",
    "$$\n",
    "B^{-1} =\n",
    "\\begin{pmatrix}\n",
    "0 & 0 & 1 & 0 \\\\\n",
    "0 & 0 & 0 & 1 \\\\\n",
    "1 & 0 & -1 & 0 \\\\\n",
    "0 & 1 & 0 & -1\n",
    "\\end{pmatrix}\n",
    "$$\n",
    "Nous pouvons facilement vérifier sous Julia qu'il s'agit bien l'inverse de $B$."
   ]
  },
  {
   "cell_type": "code",
   "execution_count": 1,
   "metadata": {},
   "outputs": [
    {
     "data": {
      "text/plain": [
       "4×4 Matrix{Int64}:\n",
       " 1  0  0  0\n",
       " 0  1  0  0\n",
       " 0  0  1  0\n",
       " 0  0  0  1"
      ]
     },
     "execution_count": 1,
     "metadata": {},
     "output_type": "execute_result"
    }
   ],
   "source": [
    "B = [ 1 0 1 0 ; 0 1 0 1 ; 1 0 0 0 ; 0 1 0 0 ]\n",
    "invB = [ 0 0 1 0 ; 0 0 0 1 ; 1 0 -1 0 ; 0 1 0 -1 ]\n",
    "B*invB"
   ]
  },
  {
   "cell_type": "markdown",
   "metadata": {},
   "source": [
    "Pour voir si cette base est optimale, nous devons calculer les coûts réduits. Rappelons que les coûts réduits sont obtenus par\n",
    "$$\n",
    "r_D^T = c_D^T - c_B^TB^{-1}D = c_D^T - \\lambda^TD,\n",
    "$$\n",
    "et de l'énoncé,\n",
    "$$\n",
    "\\lambda^T = - \\begin{pmatrix} 7 & 9 & 1 & 0 \\end{pmatrix}.\n",
    "$$\n",
    "Nous pouvons le vérifier:\n",
    "$$\n",
    "\\lambda^T = - \\begin{pmatrix} 8 & 9 & 7 & 9 \\end{pmatrix}\n",
    "\\begin{pmatrix}\n",
    "0 & 0 & 1 & 0 \\\\\n",
    "0 & 0 & 0 & 1 \\\\\n",
    "1 & 0 & -1 & 0 \\\\\n",
    "0 & 1 & 0 & -1\n",
    "\\end{pmatrix}\n",
    "= - \\begin{pmatrix} 7 & 9 & 1 & 0 \\end{pmatrix}.\n",
    "$$\n",
    "\n",
    "Dès lors,\n",
    "$$\n",
    "r_D^T = - \\begin{pmatrix} 6 & 8 \\end{pmatrix} + \\begin{pmatrix} 7 & 9 & 1 & 0 \\end{pmatrix}\n",
    "\\begin{pmatrix} 0 & 1 \\\\ 1 & 0 \\\\ 1 & 0 \\\\ 0 & 1 \\end{pmatrix}\n",
    "= \\begin{pmatrix} 4 & -1 \\end{pmatrix}.\n",
    "$$\n",
    "Il persiste un coût réduit négatif. La solution actuelle n'est donc pas optimale.\n",
    "Note: on a ignoré les deux dernières composantes de $\\lambda$, qui correspondent aux variables artificielles."
   ]
  },
  {
   "cell_type": "markdown",
   "metadata": {},
   "source": [
    "Nous faisons entrer dans la base $x_5$.\n",
    "Exprimons $y_5 = B^{-1}a_5$:\n",
    "$$\n",
    "y_5 = \\begin{pmatrix}\n",
    "0 & 0 & 1 & 0 \\\\\n",
    "0 & 0 & 0 & 1 \\\\\n",
    "1 & 0 & -1 & 0 \\\\\n",
    "0 & 1 & 0 & -1\n",
    "\\end{pmatrix}\n",
    "\\begin{pmatrix}\n",
    "1 \\\\ 0 \\\\ 0 \\\\ 1\n",
    "\\end{pmatrix}\n",
    "= \\begin{pmatrix}\n",
    "0 \\\\ 1 \\\\ 1 \\\\ -1\n",
    "\\end{pmatrix}\n",
    "$$"
   ]
  },
  {
   "cell_type": "markdown",
   "metadata": {},
   "source": [
    "Pivotage\n",
    "$$\n",
    "\\begin{matrix}\n",
    "x_1 & 0 & 0 & 1 & 0 & 2 & 0 \\\\\n",
    "x_2 & 0 & 0 & 0 & 1 & 1 & 1 \\\\\n",
    "x_3 & 1 & 0 & -1 & 0 & 2 & 1 \\\\\n",
    "x_6 & 0 & 1 & 0 & -1 & 1 & -1 \\\\\n",
    "-z & 7 & 9 & 1 & 0 & 48 & -1 \\\\\n",
    "\\end{matrix}\n",
    "$$\n",
    "Note: nous avons inséré le coût réduit associé à $y_5$ dans la dernière, comme nous devrons l'annuler.\n",
    "La règle du pivotage nous donne $x_2$ comme variable sortante, ce qui donne\n",
    "$$\n",
    "\\begin{matrix}\n",
    "x_1 & 0 & 0 & 1 & 0 & 2 \\\\\n",
    "x_5 & 0 & 0 & 0 & 1 & 1 \\\\\n",
    "x_3 & 1 & 0 & -1 & -1 & 1 \\\\\n",
    "x_6 & 0 & 1 & 0 & 0 & 2 \\\\\n",
    "-z & 7 & 9 & 1 & 1 & 49  \\\\\n",
    "\\end{matrix}\n",
    "$$"
   ]
  },
  {
   "cell_type": "markdown",
   "metadata": {},
   "source": [
    "Nous retrouvons les coûts réduits à la dernière ligne, que nous pouvons vérifier:\n",
    "$$\n",
    "-\\lambda^T = -c_B^TB^{-1} = \\begin{pmatrix} 8 & 8 & 7 & 9 \\end{pmatrix}\n",
    "\\begin{pmatrix} 0 & 0 & 1 & 0 \\\\ 0 & 0 & 0 & 1 \\\\ 1 & 0 & -1 & -1 \\\\ 0 & 1 & 0 & 0 \\end{pmatrix}\n",
    "= \\begin{pmatrix} 7 & 9 & 1 & 1 \\end{pmatrix}\n",
    "$$\n",
    "et\n",
    "$$\n",
    "r_D^T = c_D^T-\\lambda^TD = - \\begin{pmatrix} 9 & 6 \\end{pmatrix} + \\begin{pmatrix} 7 & 9 & 1 & 1 \\end{pmatrix}\n",
    "\\begin{pmatrix} 0 & 0 \\\\ 1 & 1 \\\\ 0 & 1 \\\\ 1 & 0 \\end{pmatrix}\n",
    "= \\begin{pmatrix} 1 & 4 \\end{pmatrix}\n",
    "$$"
   ]
  },
  {
   "cell_type": "markdown",
   "metadata": {},
   "source": [
    "Tous les coûts réduits sont strictement positifs; nous sommes à l'optimalité. La solution optimale est $(2, 0, 1, 0, 1, 2)$ et la valeur optimale, $-49$."
   ]
  },
  {
   "cell_type": "markdown",
   "metadata": {},
   "source": [
    "Vérifions-le avec JuMP"
   ]
  },
  {
   "cell_type": "code",
   "execution_count": 2,
   "metadata": {},
   "outputs": [],
   "source": [
    "using JuMP\n",
    "using HiGHS"
   ]
  },
  {
   "cell_type": "code",
   "execution_count": 3,
   "metadata": {},
   "outputs": [
    {
     "data": {
      "text/plain": [
       "1×4 Matrix{Int64}:\n",
       " 4  2  2  1"
      ]
     },
     "execution_count": 3,
     "metadata": {},
     "output_type": "execute_result"
    }
   ],
   "source": [
    "c = [ -8 -9 -7 -6 -8 -9 ]\n",
    "A = [ 1 0 1 0 1 0 ; 0 1 0 1 0 1 ; 1 0 0 1 0 0 ; 0 1 0 0 1 0 ]\n",
    "b = [ 4 2 2 1 ]"
   ]
  },
  {
   "cell_type": "code",
   "execution_count": 4,
   "metadata": {},
   "outputs": [
    {
     "ename": "LoadError",
     "evalue": "UndefVarError: `with_optimizer` not defined",
     "output_type": "error",
     "traceback": [
      "UndefVarError: `with_optimizer` not defined",
      "",
      "Stacktrace:",
      " [1] top-level scope",
      "   @ In[4]:2"
     ]
    }
   ],
   "source": [
    "\n",
    "m = Model(with_optimizer(HiGHS.Optimizer))\n",
    "\n",
    "@variable(m, 0 <= x[1:6])\n",
    "\n",
    "for i = 1:4\n",
    "    @constraint(m, sum(A[i,j]*x[j] for j = 1:6) == b[i])\n",
    "end\n",
    "\n",
    "@objective(m, Min, sum(c[i]*x[i] for i = 1:6))\n",
    "\n",
    "print(m)"
   ]
  },
  {
   "cell_type": "code",
   "execution_count": 5,
   "metadata": {},
   "outputs": [
    {
     "ename": "LoadError",
     "evalue": "UndefVarError: `m` not defined",
     "output_type": "error",
     "traceback": [
      "UndefVarError: `m` not defined",
      "",
      "Stacktrace:",
      " [1] top-level scope",
      "   @ In[5]:1"
     ]
    }
   ],
   "source": [
    "optimize!(m)\n",
    "println(\"Objective value: \", objective_value(m))\n",
    "println(\"x = \", value.(x))"
   ]
  },
  {
   "cell_type": "markdown",
   "metadata": {},
   "source": [
    "De quelle quantité faut-il modifier le coût associé à la variable $x_2$ dans la fonction économique (i.e. son coefficient dans la fonction objectif) pour que le coût réduit de cette variable soit nul relativement à la base optimale obtenue au point précédent. Déterminer alors une solution de base optimale alternative."
   ]
  },
  {
   "cell_type": "markdown",
   "metadata": {},
   "source": [
    "Nous devons donc calculer le coût réduit associé à $x_2$ et déterminer $\\Delta c_2$, la quantité à ajouter à $c_2$, le coefficient de $x_2$ dans la fonction objectif.\n",
    "Il n'est pas nécessaire de calculer tous les coûts réduits, seul celui associé à $x_2$ importe:\n",
    "$r_2 = c'_2 - \\lambda^T a_2$, où $c'_2$ est le coût modifié dans la fonction objectif.\n",
    "Nous voulons annuler $r_2$, ce qui donne l'équation\n",
    "$$\n",
    "0 = c'_2 - \\lambda^T a_2.\n",
    "$$\n",
    "On en déduit immédiatement qu'il faudrait avoir $c'_2 = \\lambda^T a_2$, soit\n",
    "$$\n",
    "c'_2 = - \\begin{pmatrix} 7 & 9 & 1 & 1 \\end{pmatrix} \\begin{pmatrix} 0 & 1 & 0 & 1 \\end{pmatrix} = -10.\n",
    "$$\n",
    "De là\n",
    "$$\n",
    "\\Delta c_2 = c'_2 - c_2 = -10 + 9 = -1.\n",
    "$$"
   ]
  },
  {
   "cell_type": "markdown",
   "metadata": {},
   "source": [
    "Comme seul $c_2$ change, mais pas les autres éléments du problème, les autres coûts réduits sont inchangés, et la solution précédemment obtenue reste optimale. Néanmoins, nous pouvons à présent faire entrer $x_2$ dans la base optimale sans changer la valeur de la fonction objectif.\n",
    "\n",
    "Nous devons déterminer la variable entrante. Pour ce faire, calculons tout d'abord\n",
    "$$\n",
    "y_2 =\n",
    "\\begin{pmatrix}\n",
    "0 & 0 & 1 & 0 \\\\\n",
    "0 & 0 & 0 & 1 \\\\\n",
    "1 & 0 & -1 & -1 \\\\\n",
    "0 & 1 & 0 & 0\n",
    "\\end{pmatrix}\n",
    "\\begin{pmatrix}\n",
    "0 \\\\ 1 \\\\ 0 \\\\ 1\n",
    "\\end{pmatrix}\n",
    "=\n",
    "\\begin{pmatrix}\n",
    "0 \\\\ 1 \\\\ -1 \\\\ 1\n",
    "\\end{pmatrix}\n",
    "$$"
   ]
  },
  {
   "cell_type": "markdown",
   "metadata": {},
   "source": [
    "Procédons au pivotage\n",
    "$$\n",
    "\\begin{matrix}\n",
    "x_1 & 0 & 0 & 1 & 0 & 2 & 0 \\\\\n",
    "x_5 & 0 & 0 & 0 & 1 & 1 & 1 \\\\\n",
    "x_3 & 1 & 0 & -1 & -1 & 1 & -1 \\\\\n",
    "x_6 & 0 & 1 & 0 & 0 & 2 & 1\\\\\n",
    "-z & 7 & 9 & 1 & 1 & 49 & 0 \\\\\n",
    "\\end{matrix}\n",
    "$$\n",
    "On voit que $x_5$ sort de la base, pour donner\n",
    "$$\n",
    "\\begin{matrix}\n",
    "x_1 & 0 & 0 & 1 & 0 & 2 \\\\\n",
    "x_2 & 0 & 0 & 0 & 1 & 1 \\\\\n",
    "x_3 & 1 & 0 & -1 & 0 & 2 \\\\\n",
    "x_6 & 0 & 1 & 0 & -1 & 1 \\\\\n",
    "-z & 7 & 9 & 1 & 1 & 49 \\\\\n",
    "\\end{matrix}\n",
    "$$\n",
    "La nouvelle solution optimale est $(2, 1, 2, 0, 0, 1)$, associée à la même valeur optimale $-49$."
   ]
  },
  {
   "cell_type": "markdown",
   "metadata": {},
   "source": [
    "Note: comme la solution avant pivot était optimale, il n'est pas nécessaire de recalculer les nouveaux coûts réduits pour vérifier l'optimalité.\n",
    "\n",
    "On va néanmoins s'en convaincre:\n",
    "$$\n",
    "r_D^T = c_D^T - c_B^TB^{-1}D\n",
    "= \\begin{pmatrix} -6 & -8 \\end{pmatrix} + \\begin{pmatrix} 7 & 9 & 1 & 1 \\end{pmatrix}\n",
    "\\begin{pmatrix} 0 & 1 \\\\ 1 & 0 \\\\ 1 & 0 \\\\ 0 & 1 \\end{pmatrix}\n",
    "= \\begin{pmatrix} 4 & 0 \\end{pmatrix}\n",
    "$$"
   ]
  },
  {
   "cell_type": "code",
   "execution_count": null,
   "metadata": {},
   "outputs": [],
   "source": []
  }
 ],
 "metadata": {
  "kernelspec": {
   "display_name": "Julia nteract 1.9.3",
   "language": "julia",
   "name": "julia-nteract-1.9"
  },
  "language_info": {
   "file_extension": ".jl",
   "mimetype": "application/julia",
   "name": "julia",
   "version": "1.9.3"
  }
 },
 "nbformat": 4,
 "nbformat_minor": 2
}
