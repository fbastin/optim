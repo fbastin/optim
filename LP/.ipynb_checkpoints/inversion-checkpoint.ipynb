{
 "cells": [
  {
   "cell_type": "markdown",
   "id": "4e5276e0",
   "metadata": {},
   "source": [
    "# Résolution de systèmes linéaires"
   ]
  },
  {
   "cell_type": "markdown",
   "id": "e793ef78",
   "metadata": {},
   "source": [
    "Nous considérons le système linéaire\n",
    "$$\n",
    "Ax = b\n",
    "$$\n",
    "où $A \\in \\mathbb{R}^{n \\times n}$, $b \\in \\mathbb{R}^n$, et nous cherchons à déterminer le vecteur $x \\in \\mathbb{R}^n$. Nous supposons de plus que le rang de $A$ vaut $n$."
   ]
  },
  {
   "cell_type": "code",
   "execution_count": null,
   "id": "b44719b7",
   "metadata": {},
   "outputs": [],
   "source": [
    "using LinearAlgebra\n",
    "using BenchmarkTools"
   ]
  },
  {
   "cell_type": "markdown",
   "id": "c67c069b",
   "metadata": {},
   "source": [
    "## Élimination de Gauss (algorithme naïf)\n",
    "\n",
    "Adapté de https://lemesurierb.people.charleston.edu/introduction-to-numerical-methods-and-analysis-julia/docs/linear-equations-1-row-reduction.html\n",
    "\n",
    "Considérons de système\n",
    "$$\n",
    "\\begin{pmatrix}\n",
    "4 & 2 & 7 \\\\ 3 & 5 & -6 \\\\ 1 & -3 & 2\n",
    "\\end{pmatrix}\n",
    "x =\n",
    "\\begin{pmatrix}\n",
    "2 \\\\ 3 \\\\ 4\n",
    "\\end{pmatrix}\n",
    "$$\n",
    "Nous pouvons définir $A$ et $b$ comme suit."
   ]
  },
  {
   "cell_type": "code",
   "execution_count": null,
   "id": "d85b2f90",
   "metadata": {},
   "outputs": [],
   "source": [
    "A = [4.0 2.0 7.0; 3.0 5.0 -6.0; 1.0 -3.0 2.0];\n",
    "b = [2.0; 3.0; 4.0];"
   ]
  },
  {
   "cell_type": "markdown",
   "id": "f048a8d0",
   "metadata": {},
   "source": [
    "Nous pouvons résoudre le système directement en Julia comme suit:"
   ]
  },
  {
   "cell_type": "code",
   "execution_count": null,
   "id": "4d027e38",
   "metadata": {},
   "outputs": [],
   "source": [
    "x = A\\b"
   ]
  },
  {
   "cell_type": "markdown",
   "id": "3afff81d",
   "metadata": {},
   "source": [
    "La stratégie de base de la réduction de ligne ou de l'élimination de Gauss se décrit comme suit:\n",
    "- Choisir une équation et isoler une variable en l'éliminant de toutes les autres équations non encore considérées;\n",
    "- Répétez, de manière récursive, sur les équations restantes pour éliminer progressivement les inconnues restantes de toutes les autres équations.\n",
    "\n",
    "On obtient une équation finale à une seule inconnue, dont on peut déduire immédiatement la valeur, et en injectant cette valeur dans les autres équations, on peut répéter le processus pour déterminer toutes les variables, une à une.\n",
    "\n",
    "La méthode la plus simple, qui cependant ne fonctionnera pas dans tous les cas, consiste à éliminer progressivement la $i^e$ variable de la $i^e$ contrainte, pour $i$ allant de 1 jusque $n$. Cette approche se résume dans le code suivant."
   ]
  },
  {
   "cell_type": "code",
   "execution_count": null,
   "id": "eee65dd9",
   "metadata": {},
   "outputs": [],
   "source": [
    "function rowreduce(A, b)\n",
    "    # On copie A et b pour ne pas modifier la matrice et le vecteur d'origine.\n",
    "    U = copy(A)\n",
    "    c = copy(b)\n",
    "    n = length(b)\n",
    "    L = zeros(n, n)\n",
    "\n",
    "    for k in 1:n-1\n",
    "        for i in k+1:n\n",
    "            # élimine la variable k des équations k+1 à n\n",
    "            ℓ = U[i,k] / U[k,k]  # cela suppose U[k,k] différent de 0...\n",
    "            U[i,k+1:n] -= ℓ * U[k,k+1:n]\n",
    "\n",
    "            # On met des 0 sous la diagonale principale dans la colonne k de U pour pouvoir l'illustrer.\n",
    "            U[i,1:k] .= 0.\n",
    "            # Mise à jour du terme de droite.\n",
    "            c[i] -= ℓ * c[k]\n",
    "        end\n",
    "    end\n",
    "    \n",
    "    return (U, c)\n",
    "end;"
   ]
  },
  {
   "cell_type": "code",
   "execution_count": null,
   "id": "bbca7dfc",
   "metadata": {},
   "outputs": [],
   "source": [
    "(U, c) = rowreduce(A, b)"
   ]
  },
  {
   "cell_type": "markdown",
   "id": "4d1496eb",
   "metadata": {},
   "source": [
    "Autrement dit, on obtient le système\n",
    "\\begin{align*}\n",
    "4x_1 + 2x_2 + 7x_3 &= 2 \\\\\n",
    "3.5x_2 -11.25x_3 &= 1.5 \\\\\n",
    "11x_3 &= 5.0\n",
    "\\end{align*}\n",
    "Il est alors facile de calculer récursivement $x_k$, pour $k$ allant de $n$ à $1$ en décroissant."
   ]
  },
  {
   "cell_type": "code",
   "execution_count": null,
   "id": "25e27f8e",
   "metadata": {},
   "outputs": [],
   "source": [
    "for k in n:1\n",
    "    x[k] = (c[k]-U[k,k+1:n]*x[k+1:n])/U[k,k]\n",
    "end"
   ]
  },
  {
   "cell_type": "code",
   "execution_count": null,
   "id": "bc3a028f",
   "metadata": {},
   "outputs": [],
   "source": [
    "x"
   ]
  },
  {
   "cell_type": "markdown",
   "id": "f44cbd76",
   "metadata": {},
   "source": [
    "En pratique, des méthodes plus robustes doivent être employées et il est tentant de travailler en inversant explicitement $A$."
   ]
  },
  {
   "cell_type": "markdown",
   "id": "9c13347d",
   "metadata": {},
   "source": [
    "## Temps de calul et inversion\n",
    "\n",
    "Nous allons créer un matrice test qui nous servira à calculer les temps de calcul en utilisant l'inversion matricielle ou les techniques de factorisation. L'inversion prend $O(n^3)$ opérations, tandis que la factorisation requiert $O(n^2)$ opérations, où $n$ est l'ordre de $A$ et la dimension de $b$ et $x$."
   ]
  },
  {
   "cell_type": "code",
   "execution_count": null,
   "id": "b01d82ef",
   "metadata": {},
   "outputs": [],
   "source": [
    "n = 10000"
   ]
  },
  {
   "cell_type": "code",
   "execution_count": null,
   "id": "3cc60830",
   "metadata": {},
   "outputs": [],
   "source": [
    "A = zeros(n,n)\n",
    "for i = 1:n\n",
    "    A[i,i] = 2.0\n",
    "end\n",
    "for i = 1:n-1\n",
    "    A[i,i+1] = A[i+1,i] = -1.0\n",
    "end"
   ]
  },
  {
   "cell_type": "code",
   "execution_count": null,
   "id": "21221845",
   "metadata": {},
   "outputs": [],
   "source": [
    "A"
   ]
  },
  {
   "cell_type": "code",
   "execution_count": null,
   "id": "c5d98dfe",
   "metadata": {},
   "outputs": [],
   "source": [
    "inv(A)"
   ]
  },
  {
   "cell_type": "markdown",
   "id": "770d760b",
   "metadata": {},
   "source": [
    "Nous pouvons déjà remarque que $A$ est creuse, alors que son inverse est dense.\n",
    "\n",
    "Créons le membre de droite du système."
   ]
  },
  {
   "cell_type": "code",
   "execution_count": null,
   "id": "ace5b4ad",
   "metadata": {},
   "outputs": [],
   "source": [
    "b = ones(n)"
   ]
  },
  {
   "cell_type": "markdown",
   "id": "81eac955",
   "metadata": {},
   "source": [
    "Nous résolvons à présent le système avec les deux techniques."
   ]
  },
  {
   "cell_type": "code",
   "execution_count": null,
   "id": "58af8947",
   "metadata": {},
   "outputs": [],
   "source": [
    "x1 = inv(A)*b"
   ]
  },
  {
   "cell_type": "code",
   "execution_count": null,
   "id": "aded4c97",
   "metadata": {},
   "outputs": [],
   "source": [
    "x2 = A\\b"
   ]
  },
  {
   "cell_type": "markdown",
   "id": "951f5406",
   "metadata": {},
   "source": [
    "Comparons la précision des résultats."
   ]
  },
  {
   "cell_type": "code",
   "execution_count": null,
   "id": "5fc4edaf",
   "metadata": {},
   "outputs": [],
   "source": [
    "[norm(A*x1-b), norm(A*x2-b)]"
   ]
  },
  {
   "cell_type": "markdown",
   "id": "c0102deb",
   "metadata": {},
   "source": [
    "Nous voyons que la technique de factorisation est légèremement plus précise.\n",
    "\n",
    "Comparons les temps d'exécution."
   ]
  },
  {
   "cell_type": "code",
   "execution_count": null,
   "id": "03b6c73f",
   "metadata": {},
   "outputs": [],
   "source": [
    "@benchmark inv(A)*b"
   ]
  },
  {
   "cell_type": "code",
   "execution_count": null,
   "id": "39e22ce4",
   "metadata": {},
   "outputs": [],
   "source": [
    "@benchmark A\\b"
   ]
  },
  {
   "cell_type": "markdown",
   "id": "9ddef3fc",
   "metadata": {},
   "source": [
    "Nous allons à présent exploiter le caractère creux de $A$."
   ]
  },
  {
   "cell_type": "code",
   "execution_count": null,
   "id": "e612597e",
   "metadata": {},
   "outputs": [],
   "source": [
    "using SparseArrays"
   ]
  },
  {
   "cell_type": "code",
   "execution_count": null,
   "id": "60a63ce2",
   "metadata": {},
   "outputs": [],
   "source": [
    "A2 = sparse(A)"
   ]
  },
  {
   "cell_type": "code",
   "execution_count": null,
   "id": "1909169b",
   "metadata": {},
   "outputs": [],
   "source": [
    "inv(A2)"
   ]
  },
  {
   "cell_type": "markdown",
   "id": "a6d1a7cf",
   "metadata": {},
   "source": [
    "Nous voyons que Julia détecte que l'opération d'inversion serait inefficace au niveau mémoire."
   ]
  },
  {
   "cell_type": "code",
   "execution_count": null,
   "id": "169a2c86",
   "metadata": {},
   "outputs": [],
   "source": [
    "x3 = A2\\b"
   ]
  },
  {
   "cell_type": "code",
   "execution_count": null,
   "id": "55a90d9e",
   "metadata": {},
   "outputs": [],
   "source": [
    "@benchmark A2\\b"
   ]
  },
  {
   "cell_type": "code",
   "execution_count": null,
   "id": "c947cb96",
   "metadata": {},
   "outputs": [],
   "source": [
    "norm(A*x3-b)"
   ]
  },
  {
   "cell_type": "markdown",
   "id": "14017115",
   "metadata": {},
   "source": [
    "La précision reste similaire au cas dense, mais le temps d'exécution est significativement plus faible."
   ]
  },
  {
   "cell_type": "markdown",
   "id": "185da664",
   "metadata": {},
   "source": [
    "## Précision des résultats"
   ]
  },
  {
   "cell_type": "markdown",
   "id": "18015637",
   "metadata": {},
   "source": [
    "Nous allons modifier la diagonale de la matrice pour accentuer les résultats."
   ]
  },
  {
   "cell_type": "code",
   "execution_count": null,
   "id": "86ed74e1",
   "metadata": {},
   "outputs": [],
   "source": [
    "for i = 1:n\n",
    "    A[i,i] = 10.0^(-i)\n",
    "end\n",
    "\n",
    "A"
   ]
  },
  {
   "cell_type": "markdown",
   "id": "fc3b0c9c",
   "metadata": {},
   "source": [
    "Nous calculons le système suivant les deux techniques."
   ]
  },
  {
   "cell_type": "code",
   "execution_count": null,
   "id": "f9b2d82c",
   "metadata": {},
   "outputs": [],
   "source": [
    "x1 = inv(A)*b"
   ]
  },
  {
   "cell_type": "code",
   "execution_count": null,
   "id": "a3cd44a4",
   "metadata": {},
   "outputs": [],
   "source": [
    "x2 = A\\b"
   ]
  },
  {
   "cell_type": "markdown",
   "id": "e45bb82a",
   "metadata": {},
   "source": [
    "Calculons aussi en utilisant une matrice creuse."
   ]
  },
  {
   "cell_type": "code",
   "execution_count": null,
   "id": "230329bd",
   "metadata": {},
   "outputs": [],
   "source": [
    "A2 = sparse(A)"
   ]
  },
  {
   "cell_type": "code",
   "execution_count": null,
   "id": "786e0330",
   "metadata": {},
   "outputs": [],
   "source": [
    "x3 = A2\\b"
   ]
  },
  {
   "cell_type": "code",
   "execution_count": null,
   "id": "a4fd9f19",
   "metadata": {},
   "outputs": [],
   "source": [
    "[norm(A*x1-b) norm(A*x2-b) norm(A*x3-b)]"
   ]
  },
  {
   "cell_type": "markdown",
   "id": "f5068d1c",
   "metadata": {},
   "source": [
    "À nouveau, nous voyons que la technique d'inversion donne des résultats moins intéressants.\n",
    "\n",
    "Le phénonème peut être observé même sur des matrices de petite dimension quand la matrice est presque singulière."
   ]
  },
  {
   "cell_type": "code",
   "execution_count": null,
   "id": "23b8a214",
   "metadata": {},
   "outputs": [],
   "source": [
    "b = [1.0 ; 1.0]\n",
    "M = [ 1.01 1+10^(-12) ; 1+10^(-12) 1.01 ]"
   ]
  },
  {
   "cell_type": "code",
   "execution_count": null,
   "id": "6a07e5f6",
   "metadata": {},
   "outputs": [],
   "source": [
    "det(M)"
   ]
  },
  {
   "cell_type": "code",
   "execution_count": null,
   "id": "c5447540",
   "metadata": {},
   "outputs": [],
   "source": [
    "x1 = inv(M)*b"
   ]
  },
  {
   "cell_type": "code",
   "execution_count": null,
   "id": "62f9ce75",
   "metadata": {},
   "outputs": [],
   "source": [
    "x2 = M\\b"
   ]
  },
  {
   "cell_type": "code",
   "execution_count": null,
   "id": "4edff763",
   "metadata": {},
   "outputs": [],
   "source": [
    "[ norm(M*x1-b) norm(M*x2-b) ]"
   ]
  },
  {
   "cell_type": "markdown",
   "id": "d66582f1",
   "metadata": {},
   "source": [
    "L'inversion est un peu moins précise, mais acceptable. Considérons une situation encore plus proche de la singularité."
   ]
  },
  {
   "cell_type": "code",
   "execution_count": null,
   "id": "47236005",
   "metadata": {},
   "outputs": [],
   "source": [
    "M = [ 1.0 1+10^(-8) ; 1+10^(-8) 1.0 ]"
   ]
  },
  {
   "cell_type": "code",
   "execution_count": null,
   "id": "68f6c756",
   "metadata": {},
   "outputs": [],
   "source": [
    "det(M)"
   ]
  },
  {
   "cell_type": "code",
   "execution_count": null,
   "id": "2a23ca9a",
   "metadata": {},
   "outputs": [],
   "source": [
    "x1 = inv(M)*b"
   ]
  },
  {
   "cell_type": "code",
   "execution_count": null,
   "id": "dfe5026f",
   "metadata": {},
   "outputs": [],
   "source": [
    "x2 = M\\b"
   ]
  },
  {
   "cell_type": "code",
   "execution_count": null,
   "id": "3bf87556",
   "metadata": {},
   "outputs": [],
   "source": [
    "[ norm(M*x1-b) norm(M*x2-b) ]"
   ]
  },
  {
   "cell_type": "markdown",
   "id": "93dbbd48",
   "metadata": {},
   "source": [
    "Ici, la précision est nettement meilleure avec la factorisation.\n",
    "\n",
    "Remarquons en fait qu'inverser une matrice revient à résoudre un système linéaire pour chaque vecteur de la base canonique."
   ]
  },
  {
   "cell_type": "code",
   "execution_count": null,
   "id": "531499af",
   "metadata": {},
   "outputs": [],
   "source": [
    "Minv = M\\I"
   ]
  },
  {
   "cell_type": "code",
   "execution_count": null,
   "id": "e9d2134e",
   "metadata": {},
   "outputs": [],
   "source": [
    "x3 = Minv*b"
   ]
  },
  {
   "cell_type": "code",
   "execution_count": null,
   "id": "a2ab2c60",
   "metadata": {},
   "outputs": [],
   "source": [
    "norm(M*x3-b)"
   ]
  },
  {
   "cell_type": "markdown",
   "id": "6e2a4cb0",
   "metadata": {},
   "source": [
    "On retrouve la même précision qu'avec l'utilisation de la fonction `inv`. En fait, les matrices sont les mêmes!"
   ]
  },
  {
   "cell_type": "code",
   "execution_count": null,
   "id": "10317383",
   "metadata": {},
   "outputs": [],
   "source": [
    "Minv-inv(M)"
   ]
  },
  {
   "cell_type": "markdown",
   "id": "7a700682",
   "metadata": {},
   "source": [
    "Utiliser l'inversion revient donc à effectuer une étape coûteuse de calcul préalable, et à accumuler davantage les erreurs de calcul. De plus, si $A$ est creuse, $A^{-1}$ peut être dense et entraîner des problèmes mémoire."
   ]
  }
 ],
 "metadata": {
  "kernelspec": {
   "display_name": "Julia 1.10.5",
   "language": "julia",
   "name": "julia-1.10"
  },
  "language_info": {
   "file_extension": ".jl",
   "mimetype": "application/julia",
   "name": "julia",
   "version": "1.10.5"
  }
 },
 "nbformat": 4,
 "nbformat_minor": 5
}
