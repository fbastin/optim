{
 "cells": [
  {
   "cell_type": "markdown",
   "id": "4e5276e0",
   "metadata": {},
   "source": [
    "# Résolution de systèmes linéaires et inversion"
   ]
  },
  {
   "cell_type": "markdown",
   "id": "e793ef78",
   "metadata": {},
   "source": [
    "Nous considérons le système linéaire\n",
    "$$\n",
    "Ax = b\n",
    "$$\n",
    "où $A \\in \\mathbb{R}^{n \\times n}$, $b \\in \\mathbb{R}^n$, et nous cherchons à déterminer le vecteur $x \\in \\mathbb{R}^n$. Nous supposons de plus que le rang de $A$ vaut $n$."
   ]
  },
  {
   "cell_type": "code",
   "execution_count": null,
   "id": "b44719b7",
   "metadata": {},
   "outputs": [],
   "source": [
    "using LinearAlgebra\n",
    "using BenchmarkTools"
   ]
  },
  {
   "cell_type": "markdown",
   "id": "9c13347d",
   "metadata": {},
   "source": [
    "## Temps de calul\n",
    "\n",
    "Nous allons créer un matrice test qui nous servira à calculer les temps de calcul en utilisant l'inversion matricielle ou les techniques de factorisation. L'inversion prend $O(n^3)$ opérations, tandis que la factorisation requiert $O(n^2)$ opérations, où $n$ est l'ordre de $A$ et la dimension de $b$ et $x$."
   ]
  },
  {
   "cell_type": "code",
   "execution_count": null,
   "id": "b01d82ef",
   "metadata": {},
   "outputs": [],
   "source": [
    "n = 10000"
   ]
  },
  {
   "cell_type": "code",
   "execution_count": null,
   "id": "3cc60830",
   "metadata": {},
   "outputs": [],
   "source": [
    "A = zeros(n,n)\n",
    "for i = 1:n\n",
    "    A[i,i] = 2.0\n",
    "end\n",
    "for i = 1:n-1\n",
    "    A[i,i+1] = A[i+1,i] = -1.0\n",
    "end"
   ]
  },
  {
   "cell_type": "code",
   "execution_count": null,
   "id": "21221845",
   "metadata": {},
   "outputs": [],
   "source": [
    "A"
   ]
  },
  {
   "cell_type": "code",
   "execution_count": null,
   "id": "c5d98dfe",
   "metadata": {},
   "outputs": [],
   "source": [
    "inv(A)"
   ]
  },
  {
   "cell_type": "markdown",
   "id": "770d760b",
   "metadata": {},
   "source": [
    "Nous pouvons déjà remarque que $A$ est creuse, alors que son inverse est dense.\n",
    "\n",
    "Créons le membre de droite du système."
   ]
  },
  {
   "cell_type": "code",
   "execution_count": null,
   "id": "ace5b4ad",
   "metadata": {},
   "outputs": [],
   "source": [
    "b = ones(n)"
   ]
  },
  {
   "cell_type": "markdown",
   "id": "81eac955",
   "metadata": {},
   "source": [
    "Nous résolvons à présent le système avec les deux techniques."
   ]
  },
  {
   "cell_type": "code",
   "execution_count": null,
   "id": "58af8947",
   "metadata": {},
   "outputs": [],
   "source": [
    "x1 = inv(A)*b"
   ]
  },
  {
   "cell_type": "code",
   "execution_count": null,
   "id": "aded4c97",
   "metadata": {},
   "outputs": [],
   "source": [
    "x2 = A\\b"
   ]
  },
  {
   "cell_type": "markdown",
   "id": "951f5406",
   "metadata": {},
   "source": [
    "Comparons la précision des résultats."
   ]
  },
  {
   "cell_type": "code",
   "execution_count": null,
   "id": "5fc4edaf",
   "metadata": {},
   "outputs": [],
   "source": [
    "[norm(A*x1-b), norm(A*x2-b)]"
   ]
  },
  {
   "cell_type": "markdown",
   "id": "c0102deb",
   "metadata": {},
   "source": [
    "Nous voyons que la technique de factorisation est légèremement plus précise.\n",
    "\n",
    "Comparons les temps d'exécution."
   ]
  },
  {
   "cell_type": "code",
   "execution_count": null,
   "id": "03b6c73f",
   "metadata": {},
   "outputs": [],
   "source": [
    "@benchmark inv(A)*b"
   ]
  },
  {
   "cell_type": "code",
   "execution_count": null,
   "id": "39e22ce4",
   "metadata": {},
   "outputs": [],
   "source": [
    "@benchmark A\\b"
   ]
  },
  {
   "cell_type": "markdown",
   "id": "9ddef3fc",
   "metadata": {},
   "source": [
    "Nous allons à présent exploiter le caractère creux de $A$."
   ]
  },
  {
   "cell_type": "code",
   "execution_count": null,
   "id": "e612597e",
   "metadata": {},
   "outputs": [],
   "source": [
    "using SparseArrays"
   ]
  },
  {
   "cell_type": "code",
   "execution_count": null,
   "id": "60a63ce2",
   "metadata": {},
   "outputs": [],
   "source": [
    "A2 = sparse(A)"
   ]
  },
  {
   "cell_type": "code",
   "execution_count": null,
   "id": "1909169b",
   "metadata": {},
   "outputs": [],
   "source": [
    "inv(A2)"
   ]
  },
  {
   "cell_type": "markdown",
   "id": "a6d1a7cf",
   "metadata": {},
   "source": [
    "Nous voyons que Julia détecte que l'opération d'inversion serait inefficace au niveau mémoire."
   ]
  },
  {
   "cell_type": "code",
   "execution_count": null,
   "id": "169a2c86",
   "metadata": {},
   "outputs": [],
   "source": [
    "x3 = A2\\b"
   ]
  },
  {
   "cell_type": "code",
   "execution_count": null,
   "id": "55a90d9e",
   "metadata": {},
   "outputs": [],
   "source": [
    "@benchmark A2\\b"
   ]
  },
  {
   "cell_type": "code",
   "execution_count": null,
   "id": "c947cb96",
   "metadata": {},
   "outputs": [],
   "source": [
    "norm(A*x3-b)"
   ]
  },
  {
   "cell_type": "markdown",
   "id": "14017115",
   "metadata": {},
   "source": [
    "La précision reste similaire au cas dense, mais le temps d'exécution est significativement plus faible."
   ]
  },
  {
   "cell_type": "markdown",
   "id": "185da664",
   "metadata": {},
   "source": [
    "## Précision des résultats"
   ]
  },
  {
   "cell_type": "markdown",
   "id": "18015637",
   "metadata": {},
   "source": [
    "Nous allons modifier la diagonale de la matrice pour accentuer les résultats."
   ]
  },
  {
   "cell_type": "code",
   "execution_count": null,
   "id": "86ed74e1",
   "metadata": {},
   "outputs": [],
   "source": [
    "for i = 1:n\n",
    "    A[i,i] = 10.0^(-i)\n",
    "end\n",
    "\n",
    "A"
   ]
  },
  {
   "cell_type": "markdown",
   "id": "fc3b0c9c",
   "metadata": {},
   "source": [
    "Nous calculons le système suivant les deux techniques."
   ]
  },
  {
   "cell_type": "code",
   "execution_count": null,
   "id": "f9b2d82c",
   "metadata": {},
   "outputs": [],
   "source": [
    "x1 = inv(A)*b"
   ]
  },
  {
   "cell_type": "code",
   "execution_count": null,
   "id": "a3cd44a4",
   "metadata": {},
   "outputs": [],
   "source": [
    "x2 = A\\b"
   ]
  },
  {
   "cell_type": "markdown",
   "id": "e45bb82a",
   "metadata": {},
   "source": [
    "Calculons aussi en utilisant une matrice creuse."
   ]
  },
  {
   "cell_type": "code",
   "execution_count": null,
   "id": "230329bd",
   "metadata": {},
   "outputs": [],
   "source": [
    "A2 = sparse(A)"
   ]
  },
  {
   "cell_type": "code",
   "execution_count": null,
   "id": "786e0330",
   "metadata": {},
   "outputs": [],
   "source": [
    "x3 = A2\\b"
   ]
  },
  {
   "cell_type": "code",
   "execution_count": null,
   "id": "a4fd9f19",
   "metadata": {},
   "outputs": [],
   "source": [
    "[norm(A*x1-b) norm(A*x2-b) norm(A*x3-b)]"
   ]
  },
  {
   "cell_type": "markdown",
   "id": "f5068d1c",
   "metadata": {},
   "source": [
    "À nouveau, nous voyons que la technique d'inversion donne des résultats moins intéressants.\n",
    "\n",
    "Le phénonème peut être observé même sur des matrices de petite dimension quand la matrice est presque singulière."
   ]
  },
  {
   "cell_type": "code",
   "execution_count": null,
   "id": "23b8a214",
   "metadata": {},
   "outputs": [],
   "source": [
    "b = [1.0 ; 1.0]\n",
    "M = [ 1.01 1+10^(-12) ; 1+10^(-12) 1.01 ]"
   ]
  },
  {
   "cell_type": "code",
   "execution_count": null,
   "id": "6a07e5f6",
   "metadata": {},
   "outputs": [],
   "source": [
    "det(M)"
   ]
  },
  {
   "cell_type": "code",
   "execution_count": null,
   "id": "c5447540",
   "metadata": {},
   "outputs": [],
   "source": [
    "x1 = inv(M)*b"
   ]
  },
  {
   "cell_type": "code",
   "execution_count": null,
   "id": "62f9ce75",
   "metadata": {},
   "outputs": [],
   "source": [
    "x2 = M\\b"
   ]
  },
  {
   "cell_type": "code",
   "execution_count": null,
   "id": "4edff763",
   "metadata": {},
   "outputs": [],
   "source": [
    "[ norm(M*x1-b) norm(M*x2-b) ]"
   ]
  },
  {
   "cell_type": "markdown",
   "id": "d66582f1",
   "metadata": {},
   "source": [
    "L'inversion est un peu moins précise, mais acceptable. Considérons une situation encore plus proche de la singularité."
   ]
  },
  {
   "cell_type": "code",
   "execution_count": null,
   "id": "47236005",
   "metadata": {},
   "outputs": [],
   "source": [
    "M = [ 1.0 1+10^(-8) ; 1+10^(-8) 1.0 ]"
   ]
  },
  {
   "cell_type": "code",
   "execution_count": null,
   "id": "68f6c756",
   "metadata": {},
   "outputs": [],
   "source": [
    "det(M)"
   ]
  },
  {
   "cell_type": "code",
   "execution_count": null,
   "id": "2a23ca9a",
   "metadata": {},
   "outputs": [],
   "source": [
    "x1 = inv(M)*b"
   ]
  },
  {
   "cell_type": "code",
   "execution_count": null,
   "id": "dfe5026f",
   "metadata": {},
   "outputs": [],
   "source": [
    "x2 = M\\b"
   ]
  },
  {
   "cell_type": "code",
   "execution_count": null,
   "id": "3bf87556",
   "metadata": {},
   "outputs": [],
   "source": [
    "[ norm(M*x1-b) norm(M*x2-b) ]"
   ]
  },
  {
   "cell_type": "markdown",
   "id": "93dbbd48",
   "metadata": {},
   "source": [
    "Ici, la précision est nettement meilleure avec la factorisation.\n",
    "\n",
    "Remarquons en fait qu'inverser une matrice revient à résoudre un système linéaire pour chaque vecteur de la base canonique."
   ]
  },
  {
   "cell_type": "code",
   "execution_count": null,
   "id": "531499af",
   "metadata": {},
   "outputs": [],
   "source": [
    "Minv = M\\I"
   ]
  },
  {
   "cell_type": "code",
   "execution_count": null,
   "id": "e9d2134e",
   "metadata": {},
   "outputs": [],
   "source": [
    "x3 = Minv*b"
   ]
  },
  {
   "cell_type": "code",
   "execution_count": null,
   "id": "a2ab2c60",
   "metadata": {},
   "outputs": [],
   "source": [
    "norm(M*x3-b)"
   ]
  },
  {
   "cell_type": "markdown",
   "id": "6e2a4cb0",
   "metadata": {},
   "source": [
    "On retrouve la même précision qu'avec l'utilisation de la fonction `inv`. En fait, les matrices sont les mêmes!"
   ]
  },
  {
   "cell_type": "code",
   "execution_count": null,
   "id": "10317383",
   "metadata": {},
   "outputs": [],
   "source": [
    "Minv-inv(M)"
   ]
  },
  {
   "cell_type": "markdown",
   "id": "7a700682",
   "metadata": {},
   "source": [
    "Utiliser l'inversion revient donc à effectuer une étape coûteuse de calcul préalable, et à accumuler davantage les erreurs de calcul. De plus, si $A$ est creuse, $A^{-1}$ peut être dense et entraîner des problèmes mémoire."
   ]
  }
 ],
 "metadata": {
  "kernelspec": {
   "display_name": "Julia 1.8.3",
   "language": "julia",
   "name": "julia-1.8"
  },
  "language_info": {
   "file_extension": ".jl",
   "mimetype": "application/julia",
   "name": "julia",
   "version": "1.8.3"
  }
 },
 "nbformat": 4,
 "nbformat_minor": 5
}
