{
 "cells": [
  {
   "cell_type": "markdown",
   "metadata": {},
   "source": [
    "# Objectif\n",
    "\n",
    "Dans ce court tutoriel, nous verrons brièvement les opérations de base sur les matrices et les vecteurs, ainsi que l'accès à leurs composantes.\n",
    "Le propos sera étendu en attaquant des problèmes d'algèbre linéaire simple."
   ]
  },
  {
   "cell_type": "code",
   "execution_count": null,
   "metadata": {},
   "outputs": [],
   "source": [
    "using LinearAlgebra"
   ]
  },
  {
   "cell_type": "markdown",
   "metadata": {},
   "source": [
    "# 1. Opérations générales\n",
    "\n",
    "### Caractère unicode et LaTeX\n",
    "\n",
    "Les caractères unicodes sont admissibles en Julia. Pour les utiliser, il suffit de faire faire la commande LaTex du caractère voulu suivi de la touche Tab. Par exemple, \\alpha imprime le caractère $\\alpha$.\n",
    "\n",
    "### Scalaires et constants\n",
    "\n",
    "Un certain nombre de constantes utiles\n",
    "* $pi$ ou $\\pi$ $\\rightarrow$ la valeur de \"$pi$\"\n",
    "* $e$ $\\rightarrow$ la valeur de \"$e$\"\n",
    "* $inf$ $\\rightarrow$ infini\n",
    "* $NaN$ $\\rightarrow$ indéterminé (Not a Number)\n",
    "* $eps()$ $\\rightarrow$ précision machine\n",
    "\n",
    "### Opérateurs arithmétiques de base\n",
    "\n",
    "* $+$ $\\rightarrow$ addition\n",
    "* $-$ $\\rightarrow$ soustraction\n",
    "* $\\ast$ $\\rightarrow$ multiplication\n",
    "* $/$ $\\rightarrow$ division\n",
    "* $\\backslash$ $\\rightarrow$ division à gauche\n",
    "* $^{\\wedge}$ $\\rightarrow$ puissance\n",
    "\n",
    "### Opérateurs relationnels\n",
    "\n",
    "* $==$ $\\rightarrow$ test d'égalité\n",
    "* $!=$ ou $\\ne$ $\\rightarrow$ test différence\n",
    "* $<$ $\\rightarrow$ test d'infériorité\n",
    "* $>$ $\\rightarrow$ test de supériorité\n",
    "* $<=$ ou $\\le$ $\\rightarrow$ test d'infériorité ou égalité\n",
    "* $>=$ ou $\\ge$ $\\rightarrow$ test de supériorité\n",
    "* false $\\rightarrow$ faux (logique)\n",
    "* true $\\rightarrow$ vrai (logique)\n",
    "\n",
    "### Opérateurs logiques\n",
    "\n",
    "* ! $\\rightarrow$ négation logique\n",
    "* expression1 & expression2 $\\rightarrow$ et logique\n",
    "* expression1 && expression2 $\\rightarrow$ et logique\n",
    "* expression1 $\\parallel$ expression2  $\\rightarrow$ ou logique"
   ]
  },
  {
   "cell_type": "markdown",
   "metadata": {},
   "source": [
    "# 2. Matrices\n",
    "\n",
    "### Déclarations"
   ]
  },
  {
   "cell_type": "markdown",
   "metadata": {},
   "source": [
    "Crée une matrice de 2 lignes et 3 colonnes contenant les éléments 1 2 3 sur la première ligne et 4 5 6 sur la deuxième;"
   ]
  },
  {
   "cell_type": "code",
   "execution_count": null,
   "metadata": {},
   "outputs": [],
   "source": [
    "a = [1 2 3; 4 5 6]"
   ]
  },
  {
   "cell_type": "markdown",
   "metadata": {},
   "source": [
    "Crée un vecteur colonne valant 1 2 3"
   ]
  },
  {
   "cell_type": "code",
   "execution_count": null,
   "metadata": {},
   "outputs": [],
   "source": [
    "b=[1 ;2 ;3]\n",
    "a=[1,2,3] # opération identique"
   ]
  },
  {
   "cell_type": "markdown",
   "metadata": {},
   "source": [
    "L'opération de transposition conjuguée est réalisée avec l'opérateur ':"
   ]
  },
  {
   "cell_type": "code",
   "execution_count": null,
   "metadata": {},
   "outputs": [],
   "source": [
    "b=a'"
   ]
  },
  {
   "cell_type": "markdown",
   "metadata": {},
   "source": [
    "Pour obtenir la transposée sans la congugaison, on emploiera la fonction `transpose`."
   ]
  },
  {
   "cell_type": "code",
   "execution_count": null,
   "metadata": {},
   "outputs": [],
   "source": [
    "b = transpose(a)"
   ]
  },
  {
   "cell_type": "markdown",
   "metadata": {},
   "source": [
    "Il est possible de concaténer des objets avec la fonction *vcat*.\n",
    "\n",
    "L'exemple suivant crée une matrice dont la première ligne vaut $a$ et la deuxième ligne vaut [ 1 2 3 ]."
   ]
  },
  {
   "cell_type": "code",
   "execution_count": null,
   "metadata": {},
   "outputs": [],
   "source": [
    "vcat(a',[1 2 3])\n",
    "[a'; [1 2 3]]# opération identique"
   ]
  },
  {
   "cell_type": "markdown",
   "metadata": {},
   "source": [
    "Crée un vecteur valant 1 2 3 4 5"
   ]
  },
  {
   "cell_type": "code",
   "execution_count": null,
   "metadata": {},
   "outputs": [],
   "source": [
    "a=1:5\n",
    "a=range(1,stop=5) # opération identique"
   ]
  },
  {
   "cell_type": "code",
   "execution_count": null,
   "metadata": {},
   "outputs": [],
   "source": [
    "println(typeof(a))\n",
    "println(a) "
   ]
  },
  {
   "cell_type": "code",
   "execution_count": null,
   "metadata": {},
   "outputs": [],
   "source": [
    "b=collect(a)\n",
    "println(typeof(b))\n",
    "println(b)"
   ]
  },
  {
   "cell_type": "markdown",
   "metadata": {},
   "source": [
    "Il est possible d'utiliser un autre incrément que 1. La syntaxe est début:incrément:fin. Par exemple, la ligne suivante crée un vecteur valant [ 1 3 5 7 9 ]'"
   ]
  },
  {
   "cell_type": "code",
   "execution_count": null,
   "metadata": {},
   "outputs": [],
   "source": [
    "a=collect(1:2:10)"
   ]
  },
  {
   "cell_type": "markdown",
   "metadata": {},
   "source": [
    "Crée un vecteur valant 1 3 4 5"
   ]
  },
  {
   "cell_type": "code",
   "execution_count": null,
   "metadata": {},
   "outputs": [],
   "source": [
    "a=[1 collect(3:5)']"
   ]
  },
  {
   "cell_type": "markdown",
   "metadata": {},
   "source": [
    "Crée une matrice de 0 de taille $3 \\times 3$;"
   ]
  },
  {
   "cell_type": "code",
   "execution_count": null,
   "metadata": {},
   "outputs": [],
   "source": [
    "a=zeros(3, 3)"
   ]
  },
  {
   "cell_type": "markdown",
   "metadata": {},
   "source": [
    "La commande zeros est très souvent utilisée pour déclarer une matrice, vu qu'en Julia, les variables ne sont pas déclarées."
   ]
  },
  {
   "cell_type": "markdown",
   "metadata": {},
   "source": [
    "Crée une matrice de 1 de taille $2 \\times 4$."
   ]
  },
  {
   "cell_type": "code",
   "execution_count": null,
   "metadata": {},
   "outputs": [],
   "source": [
    "a=ones(2,4)"
   ]
  },
  {
   "cell_type": "markdown",
   "metadata": {},
   "source": [
    "### Accès aux éléments et sous-matrices\n",
    "\n",
    "Soit la matrice"
   ]
  },
  {
   "cell_type": "code",
   "execution_count": null,
   "metadata": {},
   "outputs": [],
   "source": [
    "A=[1 2 3;\n",
    "   4 5 6]"
   ]
  },
  {
   "cell_type": "markdown",
   "metadata": {},
   "source": [
    "et le vecteur"
   ]
  },
  {
   "cell_type": "code",
   "execution_count": null,
   "metadata": {},
   "outputs": [],
   "source": [
    "b=[1 2 3]"
   ]
  },
  {
   "cell_type": "markdown",
   "metadata": {},
   "source": [
    "L'accès à l'élément $(i,j)$ de $A$ s'obtient simplement avec $A[i,j]$.\n",
    "On peut accéder à une sous-matrice en entrant l'indice de début et l'indice de fin, séparés de :.\n",
    "Omettre les indices revient à sélectionner tous les indices, par exemple"
   ]
  },
  {
   "cell_type": "code",
   "execution_count": null,
   "metadata": {},
   "outputs": [],
   "source": [
    "A[:,2:3]"
   ]
  },
  {
   "cell_type": "markdown",
   "metadata": {},
   "source": [
    "Par exemple, sélectionnons les colonnes 1 et 3 de $A$"
   ]
  },
  {
   "cell_type": "code",
   "execution_count": null,
   "metadata": {},
   "outputs": [],
   "source": [
    "B = [ A[:,1] A[:,3] ]"
   ]
  },
  {
   "cell_type": "markdown",
   "metadata": {},
   "source": [
    "$A[:]$ crée un vecteur colonne formé par tous les éléments de $A$.\n",
    "\n",
    "En général, si $mat$ est une matrice, alors\n",
    "* $mat[i,j]$ $\\rightarrow$ l'élément (i,j) de mat\n",
    "* $mat[i,:]$ $\\rightarrow$ la ligne i de mat\n",
    "* $mat[i:j,:]$ $\\rightarrow$ les lignes i à j de mat \n",
    "* $mat[:,j]$ $\\rightarrow$ la colonne j de mat\n",
    "* $mat[:,k:m]$ $\\rightarrow$ les colonne k à m de mat\n",
    "* $mat[i:j,k:m]$ $\\rightarrow$ les éléments se trouvent dans laes lignes i à j et dans les colonnes k à m de mat"
   ]
  },
  {
   "cell_type": "markdown",
   "metadata": {},
   "source": [
    "### Opérations de base\n",
    "\n",
    "* A': transposition normale si $A$ est une matrice réelles et transposition conjuguée si $A$ est une matrice complexe  (conjugué de la transposée);\n",
    "* C=B^-1 ou C=inv(B): inverse de B;\n",
    "* C*B: produit matriciel;\n",
    "* C.*B: produit terme à terme;\n",
    "* C+B: somme;\n",
    "* C^2: $C.*C$ (puissance matricielle);\n",
    "* C.^B: Puissance terme à terme;\n",
    "* C./B: division terme à terme;\n",
    "* B\\C: équivalent à B^-1*C;\n",
    "* B/C: Equivalent à (C'\\B')'.\n",
    "\n",
    "Note: on peut remplacer une des opérandes par un scalaire. Par exemple B+2 ajoute 2 à chacun des termes de $B$.\n",
    "\n",
    "### Fonctions usuelles sur les matrices\n",
    "\n",
    "* size(B): vecteur correspond aux dimensions de $B$;\n",
    "* size(B,1): vecteur correspond à la taille de la première dimension de $B$;\n",
    "* length(v): taille de $v$;\n",
    "* length(B): somme entre le nombre de lignes et le nombre de colonnes (length($B$) = sum(size($B))$);\n",
    "* x=diag(B): vecteur colonne contenant la diagonale de $B$;\n",
    "* diag(x): matrice diagonale dont la diagonale correspond à $x$;\n",
    "* det(B): déterminant;\n",
    "* norm(B): norme;\n",
    "* rank(B): rang;\n",
    "* trace(B): trace;\n",
    "* minimum(x): minimum des composantes de $x$;\n",
    "* maximum(x): maximum des composantes de $x$;"
   ]
  },
  {
   "cell_type": "markdown",
   "metadata": {},
   "source": [
    "#### Exemple d'opérations de bases\n",
    "On veut résoudre (pour x) l'équation Ax=b"
   ]
  },
  {
   "cell_type": "code",
   "execution_count": null,
   "metadata": {},
   "outputs": [],
   "source": [
    "A = [1 2;\n",
    "   3 4]\n",
    "b = [5;6]\n",
    "x=inv(A)*b #donne la solution désiré, mais FORTEMENT déconseillé\n",
    "x=A\\b # analytiquement équivalent, numériquement supérieur"
   ]
  },
  {
   "cell_type": "markdown",
   "metadata": {},
   "source": [
    "On veut multiplier, terme à terme, les éléments de $A$ par eux même. "
   ]
  },
  {
   "cell_type": "code",
   "execution_count": null,
   "metadata": {},
   "outputs": [],
   "source": [
    "B = A .* A\n",
    "B = A .^ 2 # opération identique"
   ]
  },
  {
   "cell_type": "markdown",
   "metadata": {},
   "source": [
    "Il faut bien comprendre que c'est très différent de calculer $A^2 = A*A$ où * est la multiplication matricielle"
   ]
  },
  {
   "cell_type": "code",
   "execution_count": null,
   "metadata": {},
   "outputs": [],
   "source": [
    "C = A * A # C ≠ B\n",
    "C = A ^ 2 # opération identique et toujours C ≠ B"
   ]
  },
  {
   "cell_type": "markdown",
   "metadata": {},
   "source": [
    "La plupart de ces fonctions nécessitent l'utilisation de la librairie LinearAlgebra, installée par défaut avec Julia. Pour ce faire, nous entrerons"
   ]
  },
  {
   "cell_type": "code",
   "execution_count": null,
   "metadata": {},
   "outputs": [],
   "source": [
    "using LinearAlgebra"
   ]
  },
  {
   "cell_type": "markdown",
   "metadata": {},
   "source": [
    "#### ll est possible d'obtenir de l'aide sur une fonction avec la commande ?, suivi du nom de la fonction.\n",
    "\n",
    "Par exemple"
   ]
  },
  {
   "cell_type": "code",
   "execution_count": null,
   "metadata": {},
   "outputs": [],
   "source": [
    "?rank"
   ]
  },
  {
   "cell_type": "markdown",
   "metadata": {},
   "source": [
    "## 3. RAPPELS IMPORTANTS"
   ]
  },
  {
   "cell_type": "markdown",
   "metadata": {},
   "source": [
    "Soit le problème linéaire suivant :\n",
    "\\begin{align*}\n",
    "\\text{Min } c^t x\\\\\n",
    "\\text{Sujet à } Ax = b\\\\\n",
    "x ≥ 0\n",
    "\\end{align*}"
   ]
  },
  {
   "cell_type": "markdown",
   "metadata": {},
   "source": [
    "$A$ une matrice de $m$ lignes et $n$ colonnes $(m \\times n)$ et $b$ un vecteur colonne de $m$ lignes.\n",
    "On suppose $m\\leq n$ et $A$ est supposée de rang plein (i.e. les lignes de $A$ sont linéairement indépendantes, $rg(A) = m$, ou de manière équivalente, il y a $m$ colonnes linéairement indépendantes).\n",
    "\n",
    "$\\textbf{Définition 1}$\n",
    "Une sous matrice $B$ de $A$ est dite $\\textbf{base}$ si $B$ est une sous-matrice carrée (c'est-à-dire formée de $m$ colonnes de $A$) inversible (ie $B^{-1}$ existe), de dimensions $m \\times m$.\n",
    "\n",
    "$\\textbf{Définition 2}$\n",
    "Les **variables de base** $x_B$ sont les variables associées aux colonnes de la base $B$.\n",
    "\n",
    "$\\textbf{Définition 3}$\n",
    "Une solution de base associée à la base $B$, notée $w$ correspond à poser les variables hors bases à zéro (elles sont au nombre de $n-m$), et à déterminer le vecteur des variables de base $x_B = B^{-1}b$.\n",
    "Une solution de base est réalisable si $x_B \\geq 0$."
   ]
  },
  {
   "cell_type": "markdown",
   "metadata": {},
   "source": [
    "### Exemple 3 page 25\n",
    "\\begin{align}\n",
    "    \\text{Min} & -2x_1 - x_2 \\\\\n",
    "    \\text{Sujet à } & x_1 + \\frac{8}{3}x_2 + x_3 = 4 \\\\\n",
    "            & x_1+x_2 + x_4 = 2 \\\\\n",
    "            & 2x_1 + x_5 = 3 \\\\\n",
    "            & x_1, x_2, x_3, x_4, x_5 \\geq 0\n",
    "\\end{align}"
   ]
  },
  {
   "cell_type": "markdown",
   "metadata": {},
   "source": [
    "On écrit\n",
    "$$\n",
    "A = \\begin{pmatrix}\n",
    "      1 & \\frac{8}{3} & 1 & 0 & 0 \\\\\n",
    "      1 & 1           & 0 & 1 & 0 \\\\\n",
    "      2 & 0           & 0& 0 & 1\n",
    "\\end{pmatrix}\n",
    "$$\n",
    "\n",
    "Enumérez à l'aide de Julia les différentes bases et déduisez la solution optimale de ce problème."
   ]
  },
  {
   "cell_type": "code",
   "execution_count": null,
   "metadata": {},
   "outputs": [],
   "source": [
    "A = [1 8/3 1 0 0; 1 1 0 1 0; 2 0 0 0 1]\n",
    "b = [4; 2; 3]\n",
    "c = [ -2; -1 ]"
   ]
  },
  {
   "cell_type": "code",
   "execution_count": null,
   "metadata": {},
   "outputs": [],
   "source": [
    "dims = size(A)\n",
    "m = dims[1]\n",
    "n = dims[2]"
   ]
  },
  {
   "cell_type": "markdown",
   "metadata": {},
   "source": [
    "Pour connaître le nombre possible de choix de $m$ colonnes parmi $n$, nous utilisons"
   ]
  },
  {
   "cell_type": "code",
   "execution_count": null,
   "metadata": {},
   "outputs": [],
   "source": [
    "binomial(n,m)"
   ]
  },
  {
   "cell_type": "markdown",
   "metadata": {},
   "source": [
    "Énumérons ces 10 combinaisons possibles:\n",
    "$$\n",
    "A_1 = \\begin{pmatrix}\n",
    "      1 & \\frac{8}{3} & 1  \\\\\n",
    "      1 & 1           & 0  \\\\\n",
    "      2 & 0           & 0\n",
    "\\end{pmatrix}\n",
    "\\quad\n",
    "A_2 = \\begin{pmatrix}\n",
    "      1 & \\frac{8}{3} & 0  \\\\\n",
    "      1 & 1           & 1  \\\\\n",
    "      2 & 0           & 0\n",
    "\\end{pmatrix}\n",
    "\\quad\n",
    "A_3 = \\begin{pmatrix}\n",
    "      1 & \\frac{8}{3} & 0 \\\\\n",
    "      1 & 1           & 0 \\\\\n",
    "      2 & 0           & 1\n",
    "\\end{pmatrix}\n",
    "\\quad\n",
    "A_4 = \\begin{pmatrix}\n",
    "      1 &  1 & 0  \\\\\n",
    "      1 &  0 & 1 \\\\\n",
    "      2 &  0 & 0\n",
    "\\end{pmatrix}\n",
    "$$\n",
    "$$\n",
    "A_5 = \\begin{pmatrix}\n",
    "      1 & 1 & 0 \\\\\n",
    "      1 & 0 & 0 \\\\\n",
    "      2 & 0 & 1\n",
    "\\end{pmatrix}\n",
    "\\quad\n",
    "A_6 = \\begin{pmatrix}\n",
    "      1 & 0 & 0 \\\\\n",
    "      1 & 1 & 0 \\\\\n",
    "      2 & 0 & 1\n",
    "\\end{pmatrix}\n",
    "\\quad\n",
    "A_7 = \\begin{pmatrix}\n",
    "      \\frac{8}{3} &  1 & 0 \\\\\n",
    "      1           &  0 & 1  \\\\\n",
    "      0           &  0 & 0\n",
    "\\end{pmatrix}\n",
    "\\quad\n",
    "A_8 = \\begin{pmatrix}\n",
    "       \\frac{8}{3} & 1 & 0  \\\\\n",
    "       1           & 0 & 0  \\\\\n",
    "       0           & 0 & 1\n",
    "\\end{pmatrix}\n",
    "$$\n",
    "$$\n",
    "A_9 = \\begin{pmatrix}\n",
    "       \\frac{8}{3} & 0 & 0 \\\\\n",
    "       1           & 1 & 0 \\\\\n",
    "       0           & 0 & 1\n",
    "\\end{pmatrix}\n",
    "\\quad\n",
    "A_{10} = \\begin{pmatrix}\n",
    "      1 & 0 & 0 \\\\\n",
    "      0 & 1 & 0 \\\\\n",
    "      0 & 0 & 1\n",
    "\\end{pmatrix}\n",
    "$$\n",
    "\n"
   ]
  },
  {
   "cell_type": "markdown",
   "metadata": {},
   "source": [
    "Une première approche, naïve, consiste à écrire"
   ]
  },
  {
   "cell_type": "code",
   "execution_count": null,
   "metadata": {},
   "outputs": [],
   "source": [
    "A1 = [ A[:,1] A[:,2] A[:,3] ];\n",
    "A2 = [ A[:,1] A[:,2] A[:,4] ];\n",
    "A3 = [ A[:,1] A[:,2] A[:,5] ];\n",
    "A4 = [ A[:,1] A[:,3] A[:,4] ];\n",
    "A5 = [ A[:,1] A[:,3] A[:,5] ];\n",
    "A6 = [ A[:,1] A[:,4] A[:,5] ];\n",
    "A7 = [ A[:,2] A[:,3] A[:,4] ];\n",
    "A8 = [ A[:,2] A[:,3] A[:,5] ];\n",
    "A9 = [ A[:,2] A[:,4] A[:,5] ];\n",
    "A10 = [ A[:,3] A[:,4] A[:,5] ];\n",
    "\n",
    "Ai=[A1, A2, A3, A4, A5, A6, A7, A8, A9, A10];"
   ]
  },
  {
   "cell_type": "markdown",
   "metadata": {},
   "source": [
    "et puis pour chaque base :\n",
    "\n",
    "  1. on calcule le rang de chaque base\n",
    "\n",
    "  \n",
    "  2. on résout **si possible** $y = B^{-1}b$ où $B$ est l'une des bases $Ai$ décrites plus haut $i\\in \\{ 1,..., 10 \\} $."
   ]
  },
  {
   "cell_type": "code",
   "execution_count": null,
   "metadata": {},
   "outputs": [],
   "source": [
    "for i=1:binomial(n,m)\n",
    "    if rank(Ai[i]) == m\n",
    "        y = Ai[i] \\ b;\n",
    "        println(i, \". \", Ai[i], \" \", y)\n",
    "    end\n",
    "end"
   ]
  },
  {
   "cell_type": "markdown",
   "metadata": {},
   "source": [
    "Les bases réalisables sont : A1, A3, A4, A9 et A10.\n",
    "Les solutions réalisables associées à ces bases sont respectivement"
   ]
  },
  {
   "cell_type": "markdown",
   "metadata": {},
   "source": [
    "\\begin{align*}\n",
    "\\begin{pmatrix} 1.5 & 0.5 & 0 & 0 & \\frac{7}{6} \\end{pmatrix} \\\\\n",
    "\\begin{pmatrix} 0.8 & 1.2 & 0 & 0 & 1.4 \\end{pmatrix} \\\\\n",
    "\\begin{pmatrix} 1.5 & 0 & 2.5 & 0 & 0.5 \\end{pmatrix} \\\\\n",
    "\\begin{pmatrix} 0 & 1.5 & 0 & 0.5 & 3 \\end{pmatrix} \\\\\n",
    "\\begin{pmatrix} 0 & 0 & 4 & 2 & 3 \\end{pmatrix} \\\\\n",
    "\\end{align*}"
   ]
  },
  {
   "cell_type": "markdown",
   "metadata": {},
   "source": [
    "Finalement, on compare les valeurs de fonction économique pour trouver la solution optimale."
   ]
  },
  {
   "cell_type": "code",
   "execution_count": null,
   "metadata": {},
   "outputs": [],
   "source": [
    "costs = []\n",
    "x = [ 1.5 ; 0.5 ]\n",
    "costs = vcat( costs, dot(c, x) )\n",
    "x = [ 0.8 ; 1.2 ]\n",
    "costs = vcat( costs, dot(c, x) )\n",
    "x = [ 1.5 ; 0 ]\n",
    "costs = vcat( costs, dot(c, x) )\n",
    "x = [ 0 ; 1.5 ]\n",
    "costs = vcat( costs, dot(c, x) ) # c' * x\n",
    "x = [ 0 ; 0 ]\n",
    "costs = vcat( costs, dot(c, x) )\n",
    "costs"
   ]
  },
  {
   "cell_type": "markdown",
   "metadata": {},
   "source": [
    "La valeur optimale vaut donc -3.5, avec comme solution optimale associée $x_1 = 1.5$, $x_2 = 0.5$."
   ]
  },
  {
   "cell_type": "markdown",
   "metadata": {},
   "source": [
    "Évidemment, cette manière de procéder manque d'élégance.\n",
    "\n",
    "Julia dispose de nombreuses librairies utiles. Nous pouvons ainsi identifier les combinaisons de colonnes avec la commande *combinations* de la librairie *Combinatorics*."
   ]
  },
  {
   "cell_type": "markdown",
   "metadata": {},
   "source": [
    "Pour ajouter ce package, il faut faire\n",
    "```\n",
    "import Pkg\n",
    "Pkg.add(\"Combinatorics\")\n",
    "```"
   ]
  },
  {
   "cell_type": "code",
   "execution_count": null,
   "metadata": {},
   "outputs": [],
   "source": [
    "using Combinatorics"
   ]
  },
  {
   "cell_type": "markdown",
   "metadata": {},
   "source": [
    "Nous pouvons calculer toutes les combinaisons possibles de colonnes avec la commande"
   ]
  },
  {
   "cell_type": "code",
   "execution_count": null,
   "metadata": {},
   "outputs": [],
   "source": [
    "comb = collect(combinations(1:n,m))"
   ]
  },
  {
   "cell_type": "markdown",
   "metadata": {},
   "source": [
    "Nous obtenons alors la $i^e$ sous-matrice avec la commande"
   ]
  },
  {
   "cell_type": "code",
   "execution_count": null,
   "metadata": {},
   "outputs": [],
   "source": [
    "i = 1\n",
    "A[:,comb[i]]"
   ]
  },
  {
   "cell_type": "markdown",
   "metadata": {},
   "source": [
    "Ainsi, pour énumérer les bases, nous pouvons écrire"
   ]
  },
  {
   "cell_type": "code",
   "execution_count": null,
   "metadata": {},
   "outputs": [],
   "source": [
    "bases = []\n",
    "for i = 1:length(comb)\n",
    "    B = A[:,comb[i]]\n",
    "    if (rank(B) == m)\n",
    "        bases = vcat(bases, i)\n",
    "    end\n",
    "end\n",
    "bases"
   ]
  },
  {
   "cell_type": "markdown",
   "metadata": {},
   "source": [
    "Limitons-nous aux bases réalisables (i.e. avec $x \\geq 0$)."
   ]
  },
  {
   "cell_type": "code",
   "execution_count": null,
   "metadata": {},
   "outputs": [],
   "source": [
    "bases = []\n",
    "sols = []\n",
    "for i = 1:length(comb)\n",
    "    B = A[:,comb[i]]\n",
    "    if (rank(B) == m)\n",
    "        y = B\\b # équivaut mathématiquement à y = B^{-1}*b\n",
    "        if all( y .>= 0)\n",
    "            bases = vcat(bases, i)\n",
    "            sol = zeros(n)\n",
    "            sol[comb[i]] = y\n",
    "            sols = vcat(sols, [sol])\n",
    "        end\n",
    "    end\n",
    "end\n",
    "sols"
   ]
  },
  {
   "cell_type": "markdown",
   "metadata": {},
   "source": [
    "Nous pouvons ainsi chercher la solution optimale en cherchant celle qui donne la plus petite valeur de la fonction objectif."
   ]
  },
  {
   "cell_type": "code",
   "execution_count": null,
   "metadata": {},
   "outputs": [],
   "source": [
    "idx = 1\n",
    "opt = c'*sols[1][1:2]\n",
    "for i = 2:length(sols)\n",
    "    temp = c'*sols[i][1:2]\n",
    "    if (temp < opt)\n",
    "        idx = i\n",
    "        opt = temp\n",
    "    end\n",
    "end"
   ]
  },
  {
   "cell_type": "markdown",
   "metadata": {},
   "source": [
    "La solution et la valeur optimales sont donc respectivement"
   ]
  },
  {
   "cell_type": "code",
   "execution_count": null,
   "metadata": {},
   "outputs": [],
   "source": [
    "sols[idx], opt"
   ]
  },
  {
   "cell_type": "markdown",
   "metadata": {},
   "source": [
    "## 4. Application\n",
    "\n",
    "Source: Marcel Bodgan (2018), \"Multiple solutions in linear programming problem\", Procedia Manufacturing 22, pp 1063-1068\n",
    "\n",
    "Nous considérons un problème de fourniture électrique. Supposons qu'il y a deux consommateurs $C_1$, $C_2$ et deux sources $R_1$, $R_2$. Les puissances nécessaires à couvrir pour les consommateurs sont $P_1$ et $P_2$, respectivement. Les distances sont $l_{ij}$, $i \\in \\lbrace 1,2\\rbrace$, $j \\in \\lbrace 1,2 \\rbrace$, de la source $S_i$ au consommateur $C_j$. Les puissances inconnues à transporter sont $x_1=P_{11}$, $x_2=P_{21}$, $x_3=P_{12}$, $x_4=P_{22}$."
   ]
  },
  {
   "cell_type": "markdown",
   "metadata": {},
   "source": [
    "Supposons que le coût de transport est directement proportionnel à la distance et à la puissance transportées. Si nous voulons minimiser le coût, la fonction à optimiser est\n",
    "$$\n",
    "l_{11} x_1 + l_{21} x_2 + l_{12} x_3 + l_{22} x_4.\n",
    "$$\n",
    "Dans notre exemple, la distance des sources à sources au consommateur $C_1$ vaut 3, i.e. $l_{11} = l_{21} = 3$, tandis que le consommateur $C_2$ est à distance 2 des sources, soit $l_{12} = l_{22} = 2$."
   ]
  },
  {
   "cell_type": "markdown",
   "metadata": {},
   "source": [
    "Supposons $P_1 = 10$ et $P_2 = 20$. Les contraintes de puissances minimales sont dès lors\n",
    "\\begin{align*}\n",
    "x_1 + x_2 &\\geq 10 \\\\\n",
    "x_3 + x_4 &\\geq 20\n",
    "\\end{align*}"
   ]
  },
  {
   "cell_type": "markdown",
   "metadata": {},
   "source": [
    "Les puissances transportées doivent évidemment être non-négatives: $x_i \\geq 0$, $i = 1,\\ldots,4$."
   ]
  },
  {
   "cell_type": "markdown",
   "metadata": {},
   "source": [
    "Ceci conduit finalement au programme\n",
    "\\begin{align*}\n",
    "\\min_x\\ & 3x_1+3x_2+2x_3+2x_4 \\\\\n",
    "\\text{s.c. } & x_1 + x_2 \\geq 10 \\\\\n",
    " & x_3 + x_4 \\geq 20 \\\\\n",
    " & x_i \\geq 0,\\ i = 1,\\ldots,4.\n",
    "\\end{align*}"
   ]
  },
  {
   "cell_type": "code",
   "execution_count": null,
   "metadata": {},
   "outputs": [],
   "source": [
    "using JuMP\n",
    "using HiGHS\n",
    "\n",
    "m = Model()\n",
    "\n",
    "@variable(m, 0 <= x[1:4])\n",
    "\n",
    "@constraint(m, c1, x[1]+x[2] >= 10)\n",
    "@constraint(m, c2, x[3]+x[4] >= 20)\n",
    "\n",
    "@objective(m, Min, 3x[1]+3x[2]+2x[3]+2x[4])\n",
    "\n",
    "println(m)"
   ]
  },
  {
   "cell_type": "code",
   "execution_count": null,
   "metadata": {},
   "outputs": [],
   "source": [
    "set_optimizer(m, HiGHS.Optimizer)\n",
    "optimize!(m)"
   ]
  },
  {
   "cell_type": "code",
   "execution_count": null,
   "metadata": {},
   "outputs": [],
   "source": [
    "value.(x)"
   ]
  },
  {
   "cell_type": "markdown",
   "metadata": {},
   "source": [
    "Mais $x_1 = 0$, $x_2 = 10$, $x_3 = 20$, $x_4 = 0$ est aussi solution de base optimale, de même que $x_1 = 0$, $x_2 = 10$, $x_3 = 0$, $x_4 = 20$, ou encore $x_1 = 10$, $x_2 = 0$, $x_3 = 0$, $x_4 = 20$. Plus généralement, les solutions\n",
    "\\begin{align*}\n",
    "x_1 = \\alpha 10,\\  x_2 = (1-\\alpha)10, \\\\\n",
    "x_3 = \\beta 20,\\  x_4 = (1-\\beta)20,\n",
    "\\end{align*}\n",
    "avec $\\alpha \\in [0, 1]$, $\\beta \\in [0,1]$, sont solutions.\n",
    "\n",
    "Autrement dit, il y a une infinité de solutions optimales, dont seulement deux sont des solutions de base."
   ]
  },
  {
   "cell_type": "code",
   "execution_count": null,
   "metadata": {},
   "outputs": [],
   "source": []
  }
 ],
 "metadata": {
  "@webio": {
   "lastCommId": null,
   "lastKernelId": null
  },
  "kernelspec": {
   "display_name": "Julia 1.9.3",
   "language": "julia",
   "name": "julia-1.9"
  },
  "language_info": {
   "file_extension": ".jl",
   "mimetype": "application/julia",
   "name": "julia",
   "version": "1.9.3"
  }
 },
 "nbformat": 4,
 "nbformat_minor": 2
}
