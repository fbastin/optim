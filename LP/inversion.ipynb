{
 "cells": [
  {
   "cell_type": "markdown",
   "id": "4e5276e0",
   "metadata": {},
   "source": [
    "# Résolution de systèmes linéaires"
   ]
  },
  {
   "cell_type": "markdown",
   "id": "e793ef78",
   "metadata": {},
   "source": [
    "Nous considérons le système linéaire\n",
    "$$\n",
    "Ax = b\n",
    "$$\n",
    "où $A \\in \\mathbb{R}^{n \\times n}$, $b \\in \\mathbb{R}^n$, et nous cherchons à déterminer le vecteur $x \\in \\mathbb{R}^n$. Nous supposons de plus que le rang de $A$ vaut $n$."
   ]
  },
  {
   "cell_type": "code",
   "execution_count": 1,
   "id": "b44719b7",
   "metadata": {},
   "outputs": [],
   "source": [
    "using LinearAlgebra\n",
    "using BenchmarkTools"
   ]
  },
  {
   "cell_type": "markdown",
   "id": "c67c069b",
   "metadata": {},
   "source": [
    "## Élimination de Gauss (algorithme naïf)\n",
    "\n",
    "Adapté de https://lemesurierb.people.charleston.edu/introduction-to-numerical-methods-and-analysis-julia/docs/linear-equations-1-row-reduction.html\n",
    "\n",
    "Considérons de système\n",
    "$$\n",
    "\\begin{pmatrix}\n",
    "4 & 2 & 7 \\\\ 3 & 5 & -6 \\\\ 1 & -3 & 2\n",
    "\\end{pmatrix}\n",
    "x =\n",
    "\\begin{pmatrix}\n",
    "2 \\\\ 3 \\\\ 4\n",
    "\\end{pmatrix}\n",
    "$$\n",
    "Nous pouvons définir $A$ et $b$ comme suit."
   ]
  },
  {
   "cell_type": "code",
   "execution_count": 55,
   "id": "d85b2f90",
   "metadata": {},
   "outputs": [],
   "source": [
    "A = [4.0 2.0 7.0; 3.0 5.0 -6.0; 1.0 -3.0 2.0];\n",
    "b = [2.0; 3.0; 4.0];"
   ]
  },
  {
   "cell_type": "markdown",
   "id": "f048a8d0",
   "metadata": {},
   "source": [
    "Nous pouvons résoudre le système directement en Julia comme suit:"
   ]
  },
  {
   "cell_type": "code",
   "execution_count": 56,
   "id": "4d027e38",
   "metadata": {},
   "outputs": [
    {
     "data": {
      "text/plain": [
       "3-element Vector{Float64}:\n",
       "  1.8116883116883116\n",
       " -1.0324675324675323\n",
       " -0.45454545454545453"
      ]
     },
     "execution_count": 56,
     "metadata": {},
     "output_type": "execute_result"
    }
   ],
   "source": [
    "x = A\\b"
   ]
  },
  {
   "cell_type": "markdown",
   "id": "3afff81d",
   "metadata": {},
   "source": [
    "La stratégie de base de la réduction de ligne ou de l'élimination de Gauss se décrit comme suit:\n",
    "- Choisir une équation et isoler une variable en l'éliminant de toutes les autres équations non encore considérées;\n",
    "- Répétez, de manière récursive, sur les équations restantes pour éliminer progressivement les inconnues restantes de toutes les autres équations.\n",
    "\n",
    "On obtient une équation finale à une seule inconnue, dont on peut déduire immédiatement la valeur, et en injectant cette valeur dans les autres équations, on peut répéter le processus pour déterminer toutes les variables, une à une.\n",
    "\n",
    "La méthode la plus simple, qui cependant ne fonctionnera pas dans tous les cas, consiste à éliminer progressivement la $i^e$ variable de la $i^e$ contrainte, pour $i$ allant de 1 jusque $n$. Cette approche se résume dans le code suivant."
   ]
  },
  {
   "cell_type": "code",
   "execution_count": 73,
   "id": "eee65dd9",
   "metadata": {},
   "outputs": [],
   "source": [
    "function rowreduce(A, b)\n",
    "    # On copie A et b pour ne pas modifier la matrice et le vecteur d'origine.\n",
    "    U = copy(A)\n",
    "    c = copy(b)\n",
    "    n = length(b)\n",
    "    L = zeros(n, n)\n",
    "\n",
    "    for k in 1:n-1\n",
    "        for i in k+1:n\n",
    "            # élimine la variable k des équations k+1 à n\n",
    "            ℓ = U[i,k] / U[k,k]  # cela suppose U[k,k] différent de 0...\n",
    "            U[i,k+1:n] -= ℓ * U[k,k+1:n]\n",
    "\n",
    "            # On met des 0 sous la diagonale principale dans la colonne k de U pour pouvoir l'illustrer.\n",
    "            U[i,1:k] .= 0.\n",
    "            # Mise à jour du terme de droite.\n",
    "            c[i] -= ℓ * c[k]\n",
    "        end\n",
    "    end\n",
    "    \n",
    "    return (U, c)\n",
    "end;"
   ]
  },
  {
   "cell_type": "code",
   "execution_count": 74,
   "id": "bbca7dfc",
   "metadata": {},
   "outputs": [
    {
     "data": {
      "text/plain": [
       "([4.0 2.0 7.0; 0.0 3.5 -11.25; 0.0 0.0 -11.0], [2.0, 1.5, 5.0])"
      ]
     },
     "execution_count": 74,
     "metadata": {},
     "output_type": "execute_result"
    }
   ],
   "source": [
    "(U, c) = rowreduce(A, b)"
   ]
  },
  {
   "cell_type": "markdown",
   "id": "4d1496eb",
   "metadata": {},
   "source": [
    "Autrement dit, on obtient le système\n",
    "\\begin{align*}\n",
    "4x_1 + 2x_2 + 7x_3 &= 2 \\\\\n",
    "3.5x_2 -11.25x_3 &= 1.5 \\\\\n",
    "11x_3 &= 5.0\n",
    "\\end{align*}\n",
    "Il est alors facile de calculer récursivement $x_k$, pour $k$ allant de $n$ à $1$ en décroissant."
   ]
  },
  {
   "cell_type": "code",
   "execution_count": 75,
   "id": "25e27f8e",
   "metadata": {},
   "outputs": [],
   "source": [
    "for k in n:1\n",
    "    x[k] = (c[k]-U[k,k+1:n]*x[k+1:n])/U[k,k]\n",
    "end"
   ]
  },
  {
   "cell_type": "code",
   "execution_count": 76,
   "id": "bc3a028f",
   "metadata": {},
   "outputs": [
    {
     "data": {
      "text/plain": [
       "3-element Vector{Float64}:\n",
       "  1.8116883116883116\n",
       " -1.0324675324675323\n",
       " -0.45454545454545453"
      ]
     },
     "execution_count": 76,
     "metadata": {},
     "output_type": "execute_result"
    }
   ],
   "source": [
    "x"
   ]
  },
  {
   "cell_type": "markdown",
   "id": "f44cbd76",
   "metadata": {},
   "source": [
    "En pratique, des méthodes plus robustes doivent être employées et il est tentant de travailler en inversant explicitement $A$."
   ]
  },
  {
   "cell_type": "markdown",
   "id": "9c13347d",
   "metadata": {},
   "source": [
    "## Temps de calul et inversion\n",
    "\n",
    "Nous allons créer un matrice test qui nous servira à calculer les temps de calcul en utilisant l'inversion matricielle ou les techniques de factorisation. L'inversion prend $O(n^3)$ opérations, tandis que la factorisation requiert $O(n^2)$ opérations, où $n$ est l'ordre de $A$ et la dimension de $b$ et $x$."
   ]
  },
  {
   "cell_type": "code",
   "execution_count": 2,
   "id": "b01d82ef",
   "metadata": {},
   "outputs": [
    {
     "data": {
      "text/plain": [
       "10000"
      ]
     },
     "execution_count": 2,
     "metadata": {},
     "output_type": "execute_result"
    }
   ],
   "source": [
    "n = 10000"
   ]
  },
  {
   "cell_type": "code",
   "execution_count": 3,
   "id": "3cc60830",
   "metadata": {},
   "outputs": [],
   "source": [
    "A = zeros(n,n)\n",
    "for i = 1:n\n",
    "    A[i,i] = 2.0\n",
    "end\n",
    "for i = 1:n-1\n",
    "    A[i,i+1] = A[i+1,i] = -1.0\n",
    "end"
   ]
  },
  {
   "cell_type": "code",
   "execution_count": 4,
   "id": "21221845",
   "metadata": {},
   "outputs": [
    {
     "data": {
      "text/plain": [
       "10000×10000 Matrix{Float64}:\n",
       "  2.0  -1.0   0.0   0.0   0.0   0.0  …   0.0   0.0   0.0   0.0   0.0   0.0\n",
       " -1.0   2.0  -1.0   0.0   0.0   0.0      0.0   0.0   0.0   0.0   0.0   0.0\n",
       "  0.0  -1.0   2.0  -1.0   0.0   0.0      0.0   0.0   0.0   0.0   0.0   0.0\n",
       "  0.0   0.0  -1.0   2.0  -1.0   0.0      0.0   0.0   0.0   0.0   0.0   0.0\n",
       "  0.0   0.0   0.0  -1.0   2.0  -1.0      0.0   0.0   0.0   0.0   0.0   0.0\n",
       "  0.0   0.0   0.0   0.0  -1.0   2.0  …   0.0   0.0   0.0   0.0   0.0   0.0\n",
       "  0.0   0.0   0.0   0.0   0.0  -1.0      0.0   0.0   0.0   0.0   0.0   0.0\n",
       "  0.0   0.0   0.0   0.0   0.0   0.0      0.0   0.0   0.0   0.0   0.0   0.0\n",
       "  0.0   0.0   0.0   0.0   0.0   0.0      0.0   0.0   0.0   0.0   0.0   0.0\n",
       "  0.0   0.0   0.0   0.0   0.0   0.0      0.0   0.0   0.0   0.0   0.0   0.0\n",
       "  0.0   0.0   0.0   0.0   0.0   0.0  …   0.0   0.0   0.0   0.0   0.0   0.0\n",
       "  0.0   0.0   0.0   0.0   0.0   0.0      0.0   0.0   0.0   0.0   0.0   0.0\n",
       "  0.0   0.0   0.0   0.0   0.0   0.0      0.0   0.0   0.0   0.0   0.0   0.0\n",
       "  ⋮                             ⋮    ⋱         ⋮                      \n",
       "  0.0   0.0   0.0   0.0   0.0   0.0      0.0   0.0   0.0   0.0   0.0   0.0\n",
       "  0.0   0.0   0.0   0.0   0.0   0.0      0.0   0.0   0.0   0.0   0.0   0.0\n",
       "  0.0   0.0   0.0   0.0   0.0   0.0  …   0.0   0.0   0.0   0.0   0.0   0.0\n",
       "  0.0   0.0   0.0   0.0   0.0   0.0      0.0   0.0   0.0   0.0   0.0   0.0\n",
       "  0.0   0.0   0.0   0.0   0.0   0.0      0.0   0.0   0.0   0.0   0.0   0.0\n",
       "  0.0   0.0   0.0   0.0   0.0   0.0     -1.0   0.0   0.0   0.0   0.0   0.0\n",
       "  0.0   0.0   0.0   0.0   0.0   0.0      2.0  -1.0   0.0   0.0   0.0   0.0\n",
       "  0.0   0.0   0.0   0.0   0.0   0.0  …  -1.0   2.0  -1.0   0.0   0.0   0.0\n",
       "  0.0   0.0   0.0   0.0   0.0   0.0      0.0  -1.0   2.0  -1.0   0.0   0.0\n",
       "  0.0   0.0   0.0   0.0   0.0   0.0      0.0   0.0  -1.0   2.0  -1.0   0.0\n",
       "  0.0   0.0   0.0   0.0   0.0   0.0      0.0   0.0   0.0  -1.0   2.0  -1.0\n",
       "  0.0   0.0   0.0   0.0   0.0   0.0      0.0   0.0   0.0   0.0  -1.0   2.0"
      ]
     },
     "execution_count": 4,
     "metadata": {},
     "output_type": "execute_result"
    }
   ],
   "source": [
    "A"
   ]
  },
  {
   "cell_type": "code",
   "execution_count": 5,
   "id": "c5d98dfe",
   "metadata": {},
   "outputs": [
    {
     "data": {
      "text/plain": [
       "10000×10000 Matrix{Float64}:\n",
       " 0.9999      0.9998      0.9997      …  0.00029997  0.00019998  9.999e-5\n",
       " 0.9998      1.9996      1.9994         0.00059994  0.00039996  0.00019998\n",
       " 0.9997      1.9994      2.9991         0.00089991  0.00059994  0.00029997\n",
       " 0.9996      1.9992      2.9988         0.00119988  0.00079992  0.00039996\n",
       " 0.9995      1.999       2.9985         0.00149985  0.0009999   0.00049995\n",
       " 0.9994      1.9988      2.9982      …  0.00179982  0.00119988  0.00059994\n",
       " 0.9993      1.9986      2.9979         0.00209979  0.00139986  0.00069993\n",
       " 0.9992      1.9984      2.9976         0.00239976  0.00159984  0.00079992\n",
       " 0.9991      1.9982      2.9973         0.00269973  0.00179982  0.00089991\n",
       " 0.999       1.998       2.997          0.0029997   0.0019998   0.0009999\n",
       " 0.9989      1.9978      2.9967      …  0.00329967  0.00219978  0.00109989\n",
       " 0.9988      1.9976      2.9964         0.00359964  0.00239976  0.00119988\n",
       " 0.9987      1.9974      2.9961         0.00389961  0.00259974  0.00129987\n",
       " ⋮                                   ⋱                          \n",
       " 0.00119988  0.00239976  0.00359964     2.9964      1.9976      0.9988\n",
       " 0.00109989  0.00219978  0.00329967     2.9967      1.9978      0.9989\n",
       " 0.0009999   0.0019998   0.0029997   …  2.997       1.998       0.999\n",
       " 0.00089991  0.00179982  0.00269973     2.9973      1.9982      0.9991\n",
       " 0.00079992  0.00159984  0.00239976     2.9976      1.9984      0.9992\n",
       " 0.00069993  0.00139986  0.00209979     2.9979      1.9986      0.9993\n",
       " 0.00059994  0.00119988  0.00179982     2.9982      1.9988      0.9994\n",
       " 0.00049995  0.0009999   0.00149985  …  2.9985      1.999       0.9995\n",
       " 0.00039996  0.00079992  0.00119988     2.9988      1.9992      0.9996\n",
       " 0.00029997  0.00059994  0.00089991     2.9991      1.9994      0.9997\n",
       " 0.00019998  0.00039996  0.00059994     1.9994      1.9996      0.9998\n",
       " 9.999e-5    0.00019998  0.00029997     0.9997      0.9998      0.9999"
      ]
     },
     "execution_count": 5,
     "metadata": {},
     "output_type": "execute_result"
    }
   ],
   "source": [
    "inv(A)"
   ]
  },
  {
   "cell_type": "markdown",
   "id": "770d760b",
   "metadata": {},
   "source": [
    "Nous pouvons déjà remarque que $A$ est creuse, alors que son inverse est dense.\n",
    "\n",
    "Créons le membre de droite du système."
   ]
  },
  {
   "cell_type": "code",
   "execution_count": 6,
   "id": "ace5b4ad",
   "metadata": {},
   "outputs": [
    {
     "data": {
      "text/plain": [
       "10000-element Vector{Float64}:\n",
       " 1.0\n",
       " 1.0\n",
       " 1.0\n",
       " 1.0\n",
       " 1.0\n",
       " 1.0\n",
       " 1.0\n",
       " 1.0\n",
       " 1.0\n",
       " 1.0\n",
       " 1.0\n",
       " 1.0\n",
       " 1.0\n",
       " ⋮\n",
       " 1.0\n",
       " 1.0\n",
       " 1.0\n",
       " 1.0\n",
       " 1.0\n",
       " 1.0\n",
       " 1.0\n",
       " 1.0\n",
       " 1.0\n",
       " 1.0\n",
       " 1.0\n",
       " 1.0"
      ]
     },
     "execution_count": 6,
     "metadata": {},
     "output_type": "execute_result"
    }
   ],
   "source": [
    "b = ones(n)"
   ]
  },
  {
   "cell_type": "markdown",
   "id": "81eac955",
   "metadata": {},
   "source": [
    "Nous résolvons à présent le système avec les deux techniques."
   ]
  },
  {
   "cell_type": "code",
   "execution_count": 7,
   "id": "58af8947",
   "metadata": {},
   "outputs": [
    {
     "data": {
      "text/plain": [
       "10000-element Vector{Float64}:\n",
       "  5000.000000045553\n",
       "  9999.000000091106\n",
       " 14997.000000136679\n",
       " 19994.00000018221\n",
       " 24990.000000227945\n",
       " 29985.000000273358\n",
       " 34979.000000318825\n",
       " 39972.00000036442\n",
       " 44964.0000004102\n",
       " 49955.00000045589\n",
       " 54945.00000050126\n",
       " 59934.000000546715\n",
       " 64922.00000059264\n",
       "     ⋮\n",
       " 59934.00000044705\n",
       " 54945.00000040977\n",
       " 49955.00000037255\n",
       " 44964.000000335225\n",
       " 39972.00000029784\n",
       " 34979.00000026076\n",
       " 29985.000000223507\n",
       " 24990.000000186257\n",
       " 19994.000000148913\n",
       " 14997.000000111753\n",
       "  9999.000000074459\n",
       "  5000.000000037228"
      ]
     },
     "execution_count": 7,
     "metadata": {},
     "output_type": "execute_result"
    }
   ],
   "source": [
    "x1 = inv(A)*b"
   ]
  },
  {
   "cell_type": "code",
   "execution_count": 8,
   "id": "aded4c97",
   "metadata": {},
   "outputs": [
    {
     "data": {
      "text/plain": [
       "10000-element Vector{Float64}:\n",
       "  5000.000000045416\n",
       "  9999.000000090831\n",
       " 14997.000000136246\n",
       " 19994.000000181662\n",
       " 24990.00000022708\n",
       " 29985.000000272492\n",
       " 34979.0000003179\n",
       " 39972.00000036331\n",
       " 44964.00000040873\n",
       " 49955.00000045414\n",
       " 54945.00000049956\n",
       " 59934.00000054497\n",
       " 64922.00000059038\n",
       "     ⋮\n",
       " 59934.00000044711\n",
       " 54945.000000409855\n",
       " 49955.000000372595\n",
       " 44964.000000335334\n",
       " 39972.00000029807\n",
       " 34979.00000026081\n",
       " 29985.000000223554\n",
       " 24990.000000186294\n",
       " 19994.000000149037\n",
       " 14997.000000111777\n",
       "  9999.000000074517\n",
       "  5000.000000037258"
      ]
     },
     "execution_count": 8,
     "metadata": {},
     "output_type": "execute_result"
    }
   ],
   "source": [
    "x2 = A\\b"
   ]
  },
  {
   "cell_type": "markdown",
   "id": "951f5406",
   "metadata": {},
   "source": [
    "Comparons la précision des résultats."
   ]
  },
  {
   "cell_type": "code",
   "execution_count": 9,
   "id": "5fc4edaf",
   "metadata": {},
   "outputs": [
    {
     "data": {
      "text/plain": [
       "2-element Vector{Float64}:\n",
       " 6.56076869699033e-6\n",
       " 1.202289059402361e-7"
      ]
     },
     "execution_count": 9,
     "metadata": {},
     "output_type": "execute_result"
    }
   ],
   "source": [
    "[norm(A*x1-b), norm(A*x2-b)]"
   ]
  },
  {
   "cell_type": "markdown",
   "id": "c0102deb",
   "metadata": {},
   "source": [
    "Nous voyons que la technique de factorisation est légèremement plus précise.\n",
    "\n",
    "Comparons les temps d'exécution."
   ]
  },
  {
   "cell_type": "code",
   "execution_count": 10,
   "id": "03b6c73f",
   "metadata": {},
   "outputs": [
    {
     "data": {
      "text/plain": [
       "BenchmarkTools.Trial: 1 sample with 1 evaluation.\n",
       " Single result which took \u001b[34m40.594 s\u001b[39m (0.00% GC) to evaluate,\n",
       " with a memory estimate of \u001b[33m767.98 MiB\u001b[39m, over \u001b[33m8\u001b[39m allocations."
      ]
     },
     "execution_count": 10,
     "metadata": {},
     "output_type": "execute_result"
    }
   ],
   "source": [
    "@benchmark inv(A)*b"
   ]
  },
  {
   "cell_type": "code",
   "execution_count": 11,
   "id": "39e22ce4",
   "metadata": {},
   "outputs": [
    {
     "data": {
      "text/plain": [
       "BenchmarkTools.Trial: 1 sample with 1 evaluation.\n",
       " Single result which took \u001b[34m6.898 s\u001b[39m (0.00% GC) to evaluate,\n",
       " with a memory estimate of \u001b[33m763.09 MiB\u001b[39m, over \u001b[33m6\u001b[39m allocations."
      ]
     },
     "execution_count": 11,
     "metadata": {},
     "output_type": "execute_result"
    }
   ],
   "source": [
    "@benchmark A\\b"
   ]
  },
  {
   "cell_type": "markdown",
   "id": "9ddef3fc",
   "metadata": {},
   "source": [
    "Nous allons à présent exploiter le caractère creux de $A$."
   ]
  },
  {
   "cell_type": "code",
   "execution_count": 12,
   "id": "e612597e",
   "metadata": {},
   "outputs": [],
   "source": [
    "using SparseArrays"
   ]
  },
  {
   "cell_type": "code",
   "execution_count": 13,
   "id": "60a63ce2",
   "metadata": {},
   "outputs": [
    {
     "data": {
      "text/plain": [
       "10000×10000 SparseMatrixCSC{Float64, Int64} with 29998 stored entries:\n",
       "⎡⠻⣦⡀⠀⠀⠀⠀⠀⠀⠀⠀⠀⠀⠀⠀⠀⠀⠀⠀⠀⠀⠀⠀⠀⠀⠀⠀⠀⠀⠀⠀⠀⠀⠀⠀⠀⠀⠀⠀⠀⎤\n",
       "⎢⠀⠈⠻⣦⡀⠀⠀⠀⠀⠀⠀⠀⠀⠀⠀⠀⠀⠀⠀⠀⠀⠀⠀⠀⠀⠀⠀⠀⠀⠀⠀⠀⠀⠀⠀⠀⠀⠀⠀⠀⎥\n",
       "⎢⠀⠀⠀⠈⠻⣦⡀⠀⠀⠀⠀⠀⠀⠀⠀⠀⠀⠀⠀⠀⠀⠀⠀⠀⠀⠀⠀⠀⠀⠀⠀⠀⠀⠀⠀⠀⠀⠀⠀⠀⎥\n",
       "⎢⠀⠀⠀⠀⠀⠈⠻⣦⡀⠀⠀⠀⠀⠀⠀⠀⠀⠀⠀⠀⠀⠀⠀⠀⠀⠀⠀⠀⠀⠀⠀⠀⠀⠀⠀⠀⠀⠀⠀⠀⎥\n",
       "⎢⠀⠀⠀⠀⠀⠀⠀⠈⠻⣦⡀⠀⠀⠀⠀⠀⠀⠀⠀⠀⠀⠀⠀⠀⠀⠀⠀⠀⠀⠀⠀⠀⠀⠀⠀⠀⠀⠀⠀⠀⎥\n",
       "⎢⠀⠀⠀⠀⠀⠀⠀⠀⠀⠈⠻⣦⡀⠀⠀⠀⠀⠀⠀⠀⠀⠀⠀⠀⠀⠀⠀⠀⠀⠀⠀⠀⠀⠀⠀⠀⠀⠀⠀⠀⎥\n",
       "⎢⠀⠀⠀⠀⠀⠀⠀⠀⠀⠀⠀⠈⠻⣦⡀⠀⠀⠀⠀⠀⠀⠀⠀⠀⠀⠀⠀⠀⠀⠀⠀⠀⠀⠀⠀⠀⠀⠀⠀⠀⎥\n",
       "⎢⠀⠀⠀⠀⠀⠀⠀⠀⠀⠀⠀⠀⠀⠈⠻⣦⡀⠀⠀⠀⠀⠀⠀⠀⠀⠀⠀⠀⠀⠀⠀⠀⠀⠀⠀⠀⠀⠀⠀⠀⎥\n",
       "⎢⠀⠀⠀⠀⠀⠀⠀⠀⠀⠀⠀⠀⠀⠀⠀⠈⠻⣦⡀⠀⠀⠀⠀⠀⠀⠀⠀⠀⠀⠀⠀⠀⠀⠀⠀⠀⠀⠀⠀⠀⎥\n",
       "⎢⠀⠀⠀⠀⠀⠀⠀⠀⠀⠀⠀⠀⠀⠀⠀⠀⠀⠈⠻⣦⡀⠀⠀⠀⠀⠀⠀⠀⠀⠀⠀⠀⠀⠀⠀⠀⠀⠀⠀⠀⎥\n",
       "⎢⠀⠀⠀⠀⠀⠀⠀⠀⠀⠀⠀⠀⠀⠀⠀⠀⠀⠀⠀⠈⠻⣦⡀⠀⠀⠀⠀⠀⠀⠀⠀⠀⠀⠀⠀⠀⠀⠀⠀⠀⎥\n",
       "⎢⠀⠀⠀⠀⠀⠀⠀⠀⠀⠀⠀⠀⠀⠀⠀⠀⠀⠀⠀⠀⠀⠈⠻⣦⡀⠀⠀⠀⠀⠀⠀⠀⠀⠀⠀⠀⠀⠀⠀⠀⎥\n",
       "⎢⠀⠀⠀⠀⠀⠀⠀⠀⠀⠀⠀⠀⠀⠀⠀⠀⠀⠀⠀⠀⠀⠀⠀⠈⠻⣦⡀⠀⠀⠀⠀⠀⠀⠀⠀⠀⠀⠀⠀⠀⎥\n",
       "⎢⠀⠀⠀⠀⠀⠀⠀⠀⠀⠀⠀⠀⠀⠀⠀⠀⠀⠀⠀⠀⠀⠀⠀⠀⠀⠈⠻⣦⡀⠀⠀⠀⠀⠀⠀⠀⠀⠀⠀⠀⎥\n",
       "⎢⠀⠀⠀⠀⠀⠀⠀⠀⠀⠀⠀⠀⠀⠀⠀⠀⠀⠀⠀⠀⠀⠀⠀⠀⠀⠀⠀⠈⠻⣦⡀⠀⠀⠀⠀⠀⠀⠀⠀⠀⎥\n",
       "⎢⠀⠀⠀⠀⠀⠀⠀⠀⠀⠀⠀⠀⠀⠀⠀⠀⠀⠀⠀⠀⠀⠀⠀⠀⠀⠀⠀⠀⠀⠈⠻⣦⡀⠀⠀⠀⠀⠀⠀⠀⎥\n",
       "⎢⠀⠀⠀⠀⠀⠀⠀⠀⠀⠀⠀⠀⠀⠀⠀⠀⠀⠀⠀⠀⠀⠀⠀⠀⠀⠀⠀⠀⠀⠀⠀⠈⠻⣦⡀⠀⠀⠀⠀⠀⎥\n",
       "⎢⠀⠀⠀⠀⠀⠀⠀⠀⠀⠀⠀⠀⠀⠀⠀⠀⠀⠀⠀⠀⠀⠀⠀⠀⠀⠀⠀⠀⠀⠀⠀⠀⠀⠈⠻⣦⡀⠀⠀⠀⎥\n",
       "⎢⠀⠀⠀⠀⠀⠀⠀⠀⠀⠀⠀⠀⠀⠀⠀⠀⠀⠀⠀⠀⠀⠀⠀⠀⠀⠀⠀⠀⠀⠀⠀⠀⠀⠀⠀⠈⠻⣦⡀⠀⎥\n",
       "⎣⠀⠀⠀⠀⠀⠀⠀⠀⠀⠀⠀⠀⠀⠀⠀⠀⠀⠀⠀⠀⠀⠀⠀⠀⠀⠀⠀⠀⠀⠀⠀⠀⠀⠀⠀⠀⠀⠈⠻⣦⎦"
      ]
     },
     "execution_count": 13,
     "metadata": {},
     "output_type": "execute_result"
    }
   ],
   "source": [
    "A2 = sparse(A)"
   ]
  },
  {
   "cell_type": "code",
   "execution_count": 14,
   "id": "1909169b",
   "metadata": {},
   "outputs": [
    {
     "ename": "LoadError",
     "evalue": "The inverse of a sparse matrix can often be dense and can cause the computer to run out of memory. If you are sure you have enough memory, please either convert your matrix to a dense matrix, e.g. by calling `Matrix` or if `A` can be factorized, use `\\` on the dense identity matrix, e.g. `A \\ Matrix{eltype(A)}(I, size(A)...)` restrictions of `\\` on sparse lhs applies. Alternatively, `A\\b` is generally preferable to `inv(A)*b`",
     "output_type": "error",
     "traceback": [
      "The inverse of a sparse matrix can often be dense and can cause the computer to run out of memory. If you are sure you have enough memory, please either convert your matrix to a dense matrix, e.g. by calling `Matrix` or if `A` can be factorized, use `\\` on the dense identity matrix, e.g. `A \\ Matrix{eltype(A)}(I, size(A)...)` restrictions of `\\` on sparse lhs applies. Alternatively, `A\\b` is generally preferable to `inv(A)*b`",
      "",
      "Stacktrace:",
      " [1] error(s::String)",
      "   @ Base .\\error.jl:35",
      " [2] inv(A::SparseMatrixCSC{Float64, Int64})",
      "   @ SparseArrays C:\\Users\\slash\\.julia\\juliaup\\julia-1.10.5+0.x64.w64.mingw32\\share\\julia\\stdlib\\v1.10\\SparseArrays\\src\\linalg.jl:1574",
      " [3] top-level scope",
      "   @ In[14]:1"
     ]
    }
   ],
   "source": [
    "inv(A2)"
   ]
  },
  {
   "cell_type": "markdown",
   "id": "a6d1a7cf",
   "metadata": {},
   "source": [
    "Nous voyons que Julia détecte que l'opération d'inversion serait inefficace au niveau mémoire."
   ]
  },
  {
   "cell_type": "code",
   "execution_count": 15,
   "id": "169a2c86",
   "metadata": {},
   "outputs": [
    {
     "data": {
      "text/plain": [
       "10000-element Vector{Float64}:\n",
       "  4999.999999895034\n",
       "  9998.99999979007\n",
       " 14996.999999685106\n",
       " 19993.999999580148\n",
       " 24989.999999475192\n",
       " 29984.999999370233\n",
       " 34978.99999926528\n",
       " 39971.99999916034\n",
       " 44963.99999905539\n",
       " 49954.99999895044\n",
       " 54944.999998845495\n",
       " 59933.99999874056\n",
       " 64921.999998635605\n",
       "     ⋮\n",
       " 59933.99999992769\n",
       " 54944.999999933745\n",
       " 49954.99999993978\n",
       " 44963.999999945816\n",
       " 39971.99999995184\n",
       " 34978.99999995786\n",
       " 29984.999999963875\n",
       " 24989.999999969892\n",
       " 19993.999999975913\n",
       " 14996.999999981937\n",
       "  9998.99999998796\n",
       "  4999.999999993979"
      ]
     },
     "execution_count": 15,
     "metadata": {},
     "output_type": "execute_result"
    }
   ],
   "source": [
    "x3 = A2\\b"
   ]
  },
  {
   "cell_type": "code",
   "execution_count": 16,
   "id": "55a90d9e",
   "metadata": {},
   "outputs": [
    {
     "data": {
      "text/plain": [
       "BenchmarkTools.Trial: 637 samples with 1 evaluation.\n",
       " Range \u001b[90m(\u001b[39m\u001b[36m\u001b[1mmin\u001b[22m\u001b[39m … \u001b[35mmax\u001b[39m\u001b[90m):  \u001b[39m\u001b[36m\u001b[1m3.342 ms\u001b[22m\u001b[39m … \u001b[35m130.481 ms\u001b[39m  \u001b[90m┊\u001b[39m GC \u001b[90m(\u001b[39mmin … max\u001b[90m): \u001b[39m0.00% … 12.06%\n",
       " Time  \u001b[90m(\u001b[39m\u001b[34m\u001b[1mmedian\u001b[22m\u001b[39m\u001b[90m):     \u001b[39m\u001b[34m\u001b[1m7.252 ms               \u001b[22m\u001b[39m\u001b[90m┊\u001b[39m GC \u001b[90m(\u001b[39mmedian\u001b[90m):    \u001b[39m0.00%\n",
       " Time  \u001b[90m(\u001b[39m\u001b[32m\u001b[1mmean\u001b[22m\u001b[39m ± \u001b[32mσ\u001b[39m\u001b[90m):   \u001b[39m\u001b[32m\u001b[1m7.832 ms\u001b[22m\u001b[39m ± \u001b[32m  7.703 ms\u001b[39m  \u001b[90m┊\u001b[39m GC \u001b[90m(\u001b[39mmean ± σ\u001b[90m):  \u001b[39m0.84% ±  0.82%\n",
       "\n",
       "  \u001b[39m \u001b[39m \u001b[39m \u001b[39m \u001b[39m \u001b[39m \u001b[39m \u001b[39m \u001b[39m \u001b[39m \u001b[39m \u001b[39m \u001b[39m \u001b[39m \u001b[39m \u001b[39m \u001b[39m \u001b[39m \u001b[39m \u001b[39m \u001b[39m \u001b[39m \u001b[39m \u001b[39m \u001b[39m \u001b[39m \u001b[39m▂\u001b[39m▄\u001b[39m▇\u001b[39m█\u001b[39m█\u001b[34m█\u001b[39m\u001b[39m█\u001b[39m▆\u001b[39m▅\u001b[39m▄\u001b[32m▃\u001b[39m\u001b[39m▁\u001b[39m▁\u001b[39m \u001b[39m \u001b[39m \u001b[39m \u001b[39m \u001b[39m \u001b[39m \u001b[39m \u001b[39m \u001b[39m \u001b[39m \u001b[39m \u001b[39m \u001b[39m \u001b[39m \u001b[39m \u001b[39m \u001b[39m \u001b[39m \u001b[39m \u001b[39m \u001b[39m \n",
       "  \u001b[39m▅\u001b[39m▄\u001b[39m▆\u001b[39m▄\u001b[39m▅\u001b[39m▄\u001b[39m▁\u001b[39m█\u001b[39m▇\u001b[39m▄\u001b[39m▅\u001b[39m▆\u001b[39m▄\u001b[39m▁\u001b[39m▄\u001b[39m▁\u001b[39m▇\u001b[39m▁\u001b[39m▄\u001b[39m▆\u001b[39m▁\u001b[39m▅\u001b[39m▄\u001b[39m▇\u001b[39m▆\u001b[39m▆\u001b[39m█\u001b[39m█\u001b[39m█\u001b[39m█\u001b[39m█\u001b[34m█\u001b[39m\u001b[39m█\u001b[39m█\u001b[39m█\u001b[39m█\u001b[32m█\u001b[39m\u001b[39m█\u001b[39m█\u001b[39m█\u001b[39m▆\u001b[39m▅\u001b[39m▁\u001b[39m▆\u001b[39m▇\u001b[39m█\u001b[39m▆\u001b[39m▁\u001b[39m▄\u001b[39m▁\u001b[39m▅\u001b[39m▁\u001b[39m█\u001b[39m▇\u001b[39m▅\u001b[39m█\u001b[39m▁\u001b[39m▆\u001b[39m▇\u001b[39m \u001b[39m█\n",
       "  3.34 ms\u001b[90m      \u001b[39m\u001b[90mHistogram: \u001b[39m\u001b[90m\u001b[1mlog(\u001b[22m\u001b[39m\u001b[90mfrequency\u001b[39m\u001b[90m\u001b[1m)\u001b[22m\u001b[39m\u001b[90m by time\u001b[39m      10.7 ms \u001b[0m\u001b[1m<\u001b[22m\n",
       "\n",
       " Memory estimate\u001b[90m: \u001b[39m\u001b[33m3.97 MiB\u001b[39m, allocs estimate\u001b[90m: \u001b[39m\u001b[33m61\u001b[39m."
      ]
     },
     "execution_count": 16,
     "metadata": {},
     "output_type": "execute_result"
    }
   ],
   "source": [
    "@benchmark A2\\b"
   ]
  },
  {
   "cell_type": "code",
   "execution_count": 17,
   "id": "c947cb96",
   "metadata": {},
   "outputs": [
    {
     "data": {
      "text/plain": [
       "1.9513977835679233e-7"
      ]
     },
     "execution_count": 17,
     "metadata": {},
     "output_type": "execute_result"
    }
   ],
   "source": [
    "norm(A*x3-b)"
   ]
  },
  {
   "cell_type": "markdown",
   "id": "14017115",
   "metadata": {},
   "source": [
    "La précision reste similaire au cas dense, mais le temps d'exécution est significativement plus faible."
   ]
  },
  {
   "cell_type": "markdown",
   "id": "185da664",
   "metadata": {},
   "source": [
    "## Précision des résultats"
   ]
  },
  {
   "cell_type": "markdown",
   "id": "18015637",
   "metadata": {},
   "source": [
    "Nous allons modifier la diagonale de la matrice pour accentuer les résultats."
   ]
  },
  {
   "cell_type": "code",
   "execution_count": 18,
   "id": "86ed74e1",
   "metadata": {},
   "outputs": [
    {
     "data": {
      "text/plain": [
       "10000×10000 Matrix{Float64}:\n",
       "  0.1  -1.0    0.0     0.0      0.0     …   0.0   0.0   0.0   0.0   0.0   0.0\n",
       " -1.0   0.01  -1.0     0.0      0.0         0.0   0.0   0.0   0.0   0.0   0.0\n",
       "  0.0  -1.0    0.001  -1.0      0.0         0.0   0.0   0.0   0.0   0.0   0.0\n",
       "  0.0   0.0   -1.0     0.0001  -1.0         0.0   0.0   0.0   0.0   0.0   0.0\n",
       "  0.0   0.0    0.0    -1.0      1.0e-5      0.0   0.0   0.0   0.0   0.0   0.0\n",
       "  0.0   0.0    0.0     0.0     -1.0     …   0.0   0.0   0.0   0.0   0.0   0.0\n",
       "  0.0   0.0    0.0     0.0      0.0         0.0   0.0   0.0   0.0   0.0   0.0\n",
       "  0.0   0.0    0.0     0.0      0.0         0.0   0.0   0.0   0.0   0.0   0.0\n",
       "  0.0   0.0    0.0     0.0      0.0         0.0   0.0   0.0   0.0   0.0   0.0\n",
       "  0.0   0.0    0.0     0.0      0.0         0.0   0.0   0.0   0.0   0.0   0.0\n",
       "  0.0   0.0    0.0     0.0      0.0     …   0.0   0.0   0.0   0.0   0.0   0.0\n",
       "  0.0   0.0    0.0     0.0      0.0         0.0   0.0   0.0   0.0   0.0   0.0\n",
       "  0.0   0.0    0.0     0.0      0.0         0.0   0.0   0.0   0.0   0.0   0.0\n",
       "  ⋮                                     ⋱         ⋮                      \n",
       "  0.0   0.0    0.0     0.0      0.0         0.0   0.0   0.0   0.0   0.0   0.0\n",
       "  0.0   0.0    0.0     0.0      0.0         0.0   0.0   0.0   0.0   0.0   0.0\n",
       "  0.0   0.0    0.0     0.0      0.0     …   0.0   0.0   0.0   0.0   0.0   0.0\n",
       "  0.0   0.0    0.0     0.0      0.0         0.0   0.0   0.0   0.0   0.0   0.0\n",
       "  0.0   0.0    0.0     0.0      0.0         0.0   0.0   0.0   0.0   0.0   0.0\n",
       "  0.0   0.0    0.0     0.0      0.0        -1.0   0.0   0.0   0.0   0.0   0.0\n",
       "  0.0   0.0    0.0     0.0      0.0         0.0  -1.0   0.0   0.0   0.0   0.0\n",
       "  0.0   0.0    0.0     0.0      0.0     …  -1.0   0.0  -1.0   0.0   0.0   0.0\n",
       "  0.0   0.0    0.0     0.0      0.0         0.0  -1.0   0.0  -1.0   0.0   0.0\n",
       "  0.0   0.0    0.0     0.0      0.0         0.0   0.0  -1.0   0.0  -1.0   0.0\n",
       "  0.0   0.0    0.0     0.0      0.0         0.0   0.0   0.0  -1.0   0.0  -1.0\n",
       "  0.0   0.0    0.0     0.0      0.0         0.0   0.0   0.0   0.0  -1.0   0.0"
      ]
     },
     "execution_count": 18,
     "metadata": {},
     "output_type": "execute_result"
    }
   ],
   "source": [
    "for i = 1:n\n",
    "    A[i,i] = 10.0^(-i)\n",
    "end\n",
    "\n",
    "A"
   ]
  },
  {
   "cell_type": "markdown",
   "id": "fc3b0c9c",
   "metadata": {},
   "source": [
    "Nous calculons le système suivant les deux techniques."
   ]
  },
  {
   "cell_type": "code",
   "execution_count": 19,
   "id": "f9b2d82c",
   "metadata": {},
   "outputs": [
    {
     "data": {
      "text/plain": [
       "10000-element Vector{Float64}:\n",
       " -0.010011011222556957\n",
       " -1.001001101122256\n",
       " -0.9999989997886655\n",
       "  1.1021224671919905e-6\n",
       " -1.0001011223779408e-6\n",
       " -1.0000011021324682\n",
       " -0.9999999998999799\n",
       "  1.0021324680781207e-6\n",
       " -1.0001010222560183e-10\n",
       " -1.0000010021324681\n",
       " -0.99999999999999\n",
       "  1.0021224680772933e-6\n",
       " -1.0001010222459176e-14\n",
       "  ⋮\n",
       "  0.0\n",
       " -1.000001002122467\n",
       " -1.0\n",
       "  1.0021224670780926e-6\n",
       "  0.0\n",
       " -1.000001002122467\n",
       " -1.0\n",
       "  1.0021224670780926e-6\n",
       "  0.0\n",
       " -1.000001002122467\n",
       " -1.0\n",
       "  1.0021224672585038e-6"
      ]
     },
     "execution_count": 19,
     "metadata": {},
     "output_type": "execute_result"
    }
   ],
   "source": [
    "x1 = inv(A)*b"
   ]
  },
  {
   "cell_type": "code",
   "execution_count": 20,
   "id": "a3cd44a4",
   "metadata": {},
   "outputs": [
    {
     "data": {
      "text/plain": [
       "10000-element Vector{Float64}:\n",
       " -0.010011011222557096\n",
       " -1.001001101122256\n",
       " -0.9999989997886655\n",
       "  1.1021224673889631e-6\n",
       " -1.000101122235779e-6\n",
       " -1.0000011021324684\n",
       " -0.9999999998999799\n",
       "  1.0021324683416987e-6\n",
       " -1.0001009222046846e-10\n",
       " -1.0000010021324683\n",
       " -0.99999999999999\n",
       "  1.0021224683409713e-6\n",
       " -1.0000010021224683e-14\n",
       "  ⋮\n",
       " -0.0\n",
       " -1.0000010021224672\n",
       " -1.0\n",
       "  1.0021224672307483e-6\n",
       " -0.0\n",
       " -1.0000010021224672\n",
       " -1.0\n",
       "  1.0021224672307483e-6\n",
       " -0.0\n",
       " -1.0000010021224672\n",
       " -1.0\n",
       "  1.002122467226311e-6"
      ]
     },
     "execution_count": 20,
     "metadata": {},
     "output_type": "execute_result"
    }
   ],
   "source": [
    "x2 = A\\b"
   ]
  },
  {
   "cell_type": "markdown",
   "id": "e45bb82a",
   "metadata": {},
   "source": [
    "Calculons aussi en utilisant une matrice creuse."
   ]
  },
  {
   "cell_type": "code",
   "execution_count": 21,
   "id": "230329bd",
   "metadata": {},
   "outputs": [
    {
     "data": {
      "text/plain": [
       "10000×10000 SparseMatrixCSC{Float64, Int64} with 20321 stored entries:\n",
       "⎡⠻⣦⡀⠀⠀⠀⠀⠀⠀⠀⠀⠀⠀⠀⠀⠀⠀⠀⠀⠀⠀⠀⠀⠀⠀⠀⠀⠀⠀⠀⠀⠀⠀⠀⠀⠀⠀⠀⠀⠀⎤\n",
       "⎢⠀⠈⠻⣦⡀⠀⠀⠀⠀⠀⠀⠀⠀⠀⠀⠀⠀⠀⠀⠀⠀⠀⠀⠀⠀⠀⠀⠀⠀⠀⠀⠀⠀⠀⠀⠀⠀⠀⠀⠀⎥\n",
       "⎢⠀⠀⠀⠈⠻⣦⡀⠀⠀⠀⠀⠀⠀⠀⠀⠀⠀⠀⠀⠀⠀⠀⠀⠀⠀⠀⠀⠀⠀⠀⠀⠀⠀⠀⠀⠀⠀⠀⠀⠀⎥\n",
       "⎢⠀⠀⠀⠀⠀⠈⠻⣦⡀⠀⠀⠀⠀⠀⠀⠀⠀⠀⠀⠀⠀⠀⠀⠀⠀⠀⠀⠀⠀⠀⠀⠀⠀⠀⠀⠀⠀⠀⠀⠀⎥\n",
       "⎢⠀⠀⠀⠀⠀⠀⠀⠈⠻⣦⡀⠀⠀⠀⠀⠀⠀⠀⠀⠀⠀⠀⠀⠀⠀⠀⠀⠀⠀⠀⠀⠀⠀⠀⠀⠀⠀⠀⠀⠀⎥\n",
       "⎢⠀⠀⠀⠀⠀⠀⠀⠀⠀⠈⠻⣦⡀⠀⠀⠀⠀⠀⠀⠀⠀⠀⠀⠀⠀⠀⠀⠀⠀⠀⠀⠀⠀⠀⠀⠀⠀⠀⠀⠀⎥\n",
       "⎢⠀⠀⠀⠀⠀⠀⠀⠀⠀⠀⠀⠈⠻⣦⡀⠀⠀⠀⠀⠀⠀⠀⠀⠀⠀⠀⠀⠀⠀⠀⠀⠀⠀⠀⠀⠀⠀⠀⠀⠀⎥\n",
       "⎢⠀⠀⠀⠀⠀⠀⠀⠀⠀⠀⠀⠀⠀⠈⠻⣦⡀⠀⠀⠀⠀⠀⠀⠀⠀⠀⠀⠀⠀⠀⠀⠀⠀⠀⠀⠀⠀⠀⠀⠀⎥\n",
       "⎢⠀⠀⠀⠀⠀⠀⠀⠀⠀⠀⠀⠀⠀⠀⠀⠈⠻⣦⡀⠀⠀⠀⠀⠀⠀⠀⠀⠀⠀⠀⠀⠀⠀⠀⠀⠀⠀⠀⠀⠀⎥\n",
       "⎢⠀⠀⠀⠀⠀⠀⠀⠀⠀⠀⠀⠀⠀⠀⠀⠀⠀⠈⠻⣦⡀⠀⠀⠀⠀⠀⠀⠀⠀⠀⠀⠀⠀⠀⠀⠀⠀⠀⠀⠀⎥\n",
       "⎢⠀⠀⠀⠀⠀⠀⠀⠀⠀⠀⠀⠀⠀⠀⠀⠀⠀⠀⠀⠈⠻⣦⡀⠀⠀⠀⠀⠀⠀⠀⠀⠀⠀⠀⠀⠀⠀⠀⠀⠀⎥\n",
       "⎢⠀⠀⠀⠀⠀⠀⠀⠀⠀⠀⠀⠀⠀⠀⠀⠀⠀⠀⠀⠀⠀⠈⠻⣦⡀⠀⠀⠀⠀⠀⠀⠀⠀⠀⠀⠀⠀⠀⠀⠀⎥\n",
       "⎢⠀⠀⠀⠀⠀⠀⠀⠀⠀⠀⠀⠀⠀⠀⠀⠀⠀⠀⠀⠀⠀⠀⠀⠈⠻⣦⡀⠀⠀⠀⠀⠀⠀⠀⠀⠀⠀⠀⠀⠀⎥\n",
       "⎢⠀⠀⠀⠀⠀⠀⠀⠀⠀⠀⠀⠀⠀⠀⠀⠀⠀⠀⠀⠀⠀⠀⠀⠀⠀⠈⠻⣦⡀⠀⠀⠀⠀⠀⠀⠀⠀⠀⠀⠀⎥\n",
       "⎢⠀⠀⠀⠀⠀⠀⠀⠀⠀⠀⠀⠀⠀⠀⠀⠀⠀⠀⠀⠀⠀⠀⠀⠀⠀⠀⠀⠈⠻⣦⡀⠀⠀⠀⠀⠀⠀⠀⠀⠀⎥\n",
       "⎢⠀⠀⠀⠀⠀⠀⠀⠀⠀⠀⠀⠀⠀⠀⠀⠀⠀⠀⠀⠀⠀⠀⠀⠀⠀⠀⠀⠀⠀⠈⠻⣦⡀⠀⠀⠀⠀⠀⠀⠀⎥\n",
       "⎢⠀⠀⠀⠀⠀⠀⠀⠀⠀⠀⠀⠀⠀⠀⠀⠀⠀⠀⠀⠀⠀⠀⠀⠀⠀⠀⠀⠀⠀⠀⠀⠈⠻⣦⡀⠀⠀⠀⠀⠀⎥\n",
       "⎢⠀⠀⠀⠀⠀⠀⠀⠀⠀⠀⠀⠀⠀⠀⠀⠀⠀⠀⠀⠀⠀⠀⠀⠀⠀⠀⠀⠀⠀⠀⠀⠀⠀⠈⠻⣦⡀⠀⠀⠀⎥\n",
       "⎢⠀⠀⠀⠀⠀⠀⠀⠀⠀⠀⠀⠀⠀⠀⠀⠀⠀⠀⠀⠀⠀⠀⠀⠀⠀⠀⠀⠀⠀⠀⠀⠀⠀⠀⠀⠈⠻⣦⡀⠀⎥\n",
       "⎣⠀⠀⠀⠀⠀⠀⠀⠀⠀⠀⠀⠀⠀⠀⠀⠀⠀⠀⠀⠀⠀⠀⠀⠀⠀⠀⠀⠀⠀⠀⠀⠀⠀⠀⠀⠀⠀⠈⠻⣦⎦"
      ]
     },
     "execution_count": 21,
     "metadata": {},
     "output_type": "execute_result"
    }
   ],
   "source": [
    "A2 = sparse(A)"
   ]
  },
  {
   "cell_type": "code",
   "execution_count": 22,
   "id": "786e0330",
   "metadata": {},
   "outputs": [
    {
     "data": {
      "text/plain": [
       "10000-element Vector{Float64}:\n",
       " -0.010011011222556765\n",
       " -1.0010011011222557\n",
       " -0.9999989997886656\n",
       "  1.102122467089502e-6\n",
       " -1.0001011222232862e-6\n",
       " -1.0000011021324682\n",
       " -0.9999999998999799\n",
       "  1.0021324681166794e-6\n",
       " -1.000101133349705e-10\n",
       " -1.0000010021324681\n",
       " -0.99999999999999\n",
       "  1.0021224681247649e-6\n",
       " -1.0101020223459274e-14\n",
       "  ⋮\n",
       " -0.0\n",
       " -1.000001002122467\n",
       " -1.0\n",
       "  1.0021224670087037e-6\n",
       " -0.0\n",
       " -1.000001002122467\n",
       " -1.0\n",
       "  1.0021224670087037e-6\n",
       " -0.0\n",
       " -1.000001002122467\n",
       " -1.0\n",
       "  1.0021224670087037e-6"
      ]
     },
     "execution_count": 22,
     "metadata": {},
     "output_type": "execute_result"
    }
   ],
   "source": [
    "x3 = A2\\b"
   ]
  },
  {
   "cell_type": "code",
   "execution_count": 23,
   "id": "a4fd9f19",
   "metadata": {},
   "outputs": [
    {
     "data": {
      "text/plain": [
       "1×3 Matrix{Float64}:\n",
       " 7.94644e-15  2.93737e-16  2.93737e-16"
      ]
     },
     "execution_count": 23,
     "metadata": {},
     "output_type": "execute_result"
    }
   ],
   "source": [
    "[norm(A*x1-b) norm(A*x2-b) norm(A*x3-b)]"
   ]
  },
  {
   "cell_type": "markdown",
   "id": "f5068d1c",
   "metadata": {},
   "source": [
    "À nouveau, nous voyons que la technique d'inversion donne des résultats moins intéressants.\n",
    "\n",
    "Le phénonème peut être observé même sur des matrices de petite dimension quand la matrice est presque singulière."
   ]
  },
  {
   "cell_type": "code",
   "execution_count": 24,
   "id": "23b8a214",
   "metadata": {},
   "outputs": [
    {
     "data": {
      "text/plain": [
       "2×2 Matrix{Float64}:\n",
       " 1.01  1.0\n",
       " 1.0   1.01"
      ]
     },
     "execution_count": 24,
     "metadata": {},
     "output_type": "execute_result"
    }
   ],
   "source": [
    "b = [1.0 ; 1.0]\n",
    "M = [ 1.01 1+10^(-12) ; 1+10^(-12) 1.01 ]"
   ]
  },
  {
   "cell_type": "code",
   "execution_count": 25,
   "id": "6a07e5f6",
   "metadata": {},
   "outputs": [
    {
     "data": {
      "text/plain": [
       "0.020099999997999798"
      ]
     },
     "execution_count": 25,
     "metadata": {},
     "output_type": "execute_result"
    }
   ],
   "source": [
    "det(M)"
   ]
  },
  {
   "cell_type": "code",
   "execution_count": 26,
   "id": "c5447540",
   "metadata": {},
   "outputs": [
    {
     "data": {
      "text/plain": [
       "2-element Vector{Float64}:\n",
       " 0.4975124378106983\n",
       " 0.4975124378106983"
      ]
     },
     "execution_count": 26,
     "metadata": {},
     "output_type": "execute_result"
    }
   ],
   "source": [
    "x1 = inv(M)*b"
   ]
  },
  {
   "cell_type": "code",
   "execution_count": 27,
   "id": "62f9ce75",
   "metadata": {},
   "outputs": [
    {
     "data": {
      "text/plain": [
       "2-element Vector{Float64}:\n",
       " 0.49751243781069776\n",
       " 0.4975124378106977"
      ]
     },
     "execution_count": 27,
     "metadata": {},
     "output_type": "execute_result"
    }
   ],
   "source": [
    "x2 = M\\b"
   ]
  },
  {
   "cell_type": "code",
   "execution_count": 28,
   "id": "4edff763",
   "metadata": {},
   "outputs": [
    {
     "data": {
      "text/plain": [
       "1×2 Matrix{Float64}:\n",
       " 1.57009e-15  0.0"
      ]
     },
     "execution_count": 28,
     "metadata": {},
     "output_type": "execute_result"
    }
   ],
   "source": [
    "[ norm(M*x1-b) norm(M*x2-b) ]"
   ]
  },
  {
   "cell_type": "markdown",
   "id": "d66582f1",
   "metadata": {},
   "source": [
    "L'inversion est un peu moins précise, mais acceptable. Considérons une situation encore plus proche de la singularité."
   ]
  },
  {
   "cell_type": "code",
   "execution_count": 29,
   "id": "47236005",
   "metadata": {},
   "outputs": [
    {
     "data": {
      "text/plain": [
       "2×2 Matrix{Float64}:\n",
       " 1.0  1.0\n",
       " 1.0  1.0"
      ]
     },
     "execution_count": 29,
     "metadata": {},
     "output_type": "execute_result"
    }
   ],
   "source": [
    "M = [ 1.0 1+10^(-8) ; 1+10^(-8) 1.0 ]"
   ]
  },
  {
   "cell_type": "code",
   "execution_count": 30,
   "id": "68f6c756",
   "metadata": {},
   "outputs": [
    {
     "data": {
      "text/plain": [
       "-1.9999999967428275e-8"
      ]
     },
     "execution_count": 30,
     "metadata": {},
     "output_type": "execute_result"
    }
   ],
   "source": [
    "det(M)"
   ]
  },
  {
   "cell_type": "code",
   "execution_count": 31,
   "id": "2a23ca9a",
   "metadata": {},
   "outputs": [
    {
     "data": {
      "text/plain": [
       "2-element Vector{Float64}:\n",
       " 0.5\n",
       " 0.5"
      ]
     },
     "execution_count": 31,
     "metadata": {},
     "output_type": "execute_result"
    }
   ],
   "source": [
    "x1 = inv(M)*b"
   ]
  },
  {
   "cell_type": "code",
   "execution_count": 32,
   "id": "dfe5026f",
   "metadata": {},
   "outputs": [
    {
     "data": {
      "text/plain": [
       "2-element Vector{Float64}:\n",
       " 0.4999999977755576\n",
       " 0.4999999972244424"
      ]
     },
     "execution_count": 32,
     "metadata": {},
     "output_type": "execute_result"
    }
   ],
   "source": [
    "x2 = M\\b"
   ]
  },
  {
   "cell_type": "code",
   "execution_count": 33,
   "id": "3bf87556",
   "metadata": {},
   "outputs": [
    {
     "data": {
      "text/plain": [
       "1×2 Matrix{Float64}:\n",
       " 7.07107e-9  1.11022e-16"
      ]
     },
     "execution_count": 33,
     "metadata": {},
     "output_type": "execute_result"
    }
   ],
   "source": [
    "[ norm(M*x1-b) norm(M*x2-b) ]"
   ]
  },
  {
   "cell_type": "markdown",
   "id": "93dbbd48",
   "metadata": {},
   "source": [
    "Ici, la précision est nettement meilleure avec la factorisation.\n",
    "\n",
    "Remarquons en fait qu'inverser une matrice revient à résoudre un système linéaire pour chaque vecteur de la base canonique."
   ]
  },
  {
   "cell_type": "code",
   "execution_count": 34,
   "id": "531499af",
   "metadata": {},
   "outputs": [
    {
     "data": {
      "text/plain": [
       "2×2 Matrix{Float64}:\n",
       " -5.0e7   5.0e7\n",
       "  5.0e7  -5.0e7"
      ]
     },
     "execution_count": 34,
     "metadata": {},
     "output_type": "execute_result"
    }
   ],
   "source": [
    "Minv = M\\I"
   ]
  },
  {
   "cell_type": "code",
   "execution_count": 35,
   "id": "e9d2134e",
   "metadata": {},
   "outputs": [
    {
     "data": {
      "text/plain": [
       "2-element Vector{Float64}:\n",
       " 0.5\n",
       " 0.5"
      ]
     },
     "execution_count": 35,
     "metadata": {},
     "output_type": "execute_result"
    }
   ],
   "source": [
    "x3 = Minv*b"
   ]
  },
  {
   "cell_type": "code",
   "execution_count": 36,
   "id": "a2ab2c60",
   "metadata": {},
   "outputs": [
    {
     "data": {
      "text/plain": [
       "7.071067768891266e-9"
      ]
     },
     "execution_count": 36,
     "metadata": {},
     "output_type": "execute_result"
    }
   ],
   "source": [
    "norm(M*x3-b)"
   ]
  },
  {
   "cell_type": "markdown",
   "id": "6e2a4cb0",
   "metadata": {},
   "source": [
    "On retrouve la même précision qu'avec l'utilisation de la fonction `inv`. En fait, les matrices sont les mêmes!"
   ]
  },
  {
   "cell_type": "code",
   "execution_count": 37,
   "id": "10317383",
   "metadata": {},
   "outputs": [
    {
     "data": {
      "text/plain": [
       "2×2 Matrix{Float64}:\n",
       " 0.0  0.0\n",
       " 0.0  0.0"
      ]
     },
     "execution_count": 37,
     "metadata": {},
     "output_type": "execute_result"
    }
   ],
   "source": [
    "Minv-inv(M)"
   ]
  },
  {
   "cell_type": "markdown",
   "id": "7a700682",
   "metadata": {},
   "source": [
    "Utiliser l'inversion revient donc à effectuer une étape coûteuse de calcul préalable, et à accumuler davantage les erreurs de calcul. De plus, si $A$ est creuse, $A^{-1}$ peut être dense et entraîner des problèmes mémoire."
   ]
  }
 ],
 "metadata": {
  "kernelspec": {
   "display_name": "Julia 1.10.5",
   "language": "julia",
   "name": "julia-1.10"
  },
  "language_info": {
   "file_extension": ".jl",
   "mimetype": "application/julia",
   "name": "julia",
   "version": "1.10.5"
  }
 },
 "nbformat": 4,
 "nbformat_minor": 5
}
